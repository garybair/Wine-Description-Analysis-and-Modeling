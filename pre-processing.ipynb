{
 "cells": [
  {
   "cell_type": "code",
   "execution_count": 4,
   "metadata": {},
   "outputs": [
    {
     "name": "stdout",
     "output_type": "stream",
     "text": [
      "url|name|variety|origin|family|description|reviews\n",
      "https://www.wine.com/product/domaine-du-terme-gigondas-2019/788314|Domaine du Terme Gigondas 2019|Rhone Red Blends| from Gigondas, Rhone, France|Red Wine||Spectacular Gigondas, this wines red-cherry flavors soar on an arc of cool, fresh acidity. A grounding of garrigue and ferrous minerality tethers the wine to the earth, gives it a sense of continuity and quiet power, but the overall impression is of fruit at moment of peak ripeness, preserved with crystal clarity. Its made by Anne-Marie Gaudin, who farms 27 acres in Gigondas, the vines around 45 years old and grown without any chemical inputs. Straight from the first sniff it's clear this is going to be special. Soaring violets, plum flesh and blueberry, this is rounded and sweetly juicy with well-worked tannins that are present but fine and well melded into the fruit. Not the longest finish, but this is a great vintage for du Terme. Good value. 45-year-old vines on average, 80% destemmed, long fermentation and long élevage.\n",
      "https://www.wine.com/product/scott-harvey-mountain-selection-zinfandel-2019/794709|Scott Harvey Mountain Selection Zinfandel 2019|Zinfandel| from Amador, Sierra Foothills, California|Red Wine|Fruit forward, rich full flavors expressing both the varietal and the Amador terroir. This complex wine has notes of bright raspberry, earthy tones, briary Zinfandel character with a fresh finish.|This fresh-smelling, full-bodied and flavor-packed wine wraps bold, jammy blackberry and raspberry notes in moderate tannins with a snap of acidity for balance. This will pair nicely with the richest roasts, braises or slow barbecue. COMMENTARY: The 2019 Scott Harvey Mountain Selection Zinfandel is bright and attractive with excellent lasting power. TASTING NOTES: This wine exhibits candied berries aromas and flavors. Try it with a well-seasoned roast leg of lamb. (Tasted: September 25, 2021, San Francisco, CA)\n",
      "https://www.wine.com/product/vinos-de-arganza-flavium-seleccion-mencia-2020/1172724|Vinos de Arganza Flavium Seleccion Mencia 2020|Mencia| from Bierzo, Spain|Red Wine|Intense ruby color, with ripe blackberry and blueberry aromas and beautifully balanced smoky cedar oak notes. These red fruit notes transpire onto a silky smooth, mouth wateringly juicy, herbal rounded palate leaving a persistent ending taste.Ideal when paired with red meats and cheeses.|COMMENTARY: The 2020 Vinos de Arganza Flavium is a bright and lively red wine. TASTING NOTES: This wine offers aromas and flavors of ripe fruits, hints of flowers, black fruits, and shading of oak. Serve it with meat stews. (Tasted: December 6, 2022, San Francisco, CA)\n",
      "https://www.wine.com/product/viticcio-chianti-classico-riserva-2017/628038|Viticcio Chianti Classico Riserva 2017|Sangiovese| from Chianti Classico, Chianti, Tuscany, Italy|Red Wine|Intense ruby red with violet nuances. A complexnose with sour cherry, ripe blackberry, and cassis withundertones of cinnamon, nutmeg, and freshly ground pepper.On the palate, soft and fresh, with the alcohol rounding out theharshness of the tannins. Finishes with a long, toasted note. Willage well for more than ten years.Blend: 90% Sangiovese, 5% Merlot, 5% Syrah|Supple and vibrant, yet concentrated, featuring black cherry, blackberry, violet, mineral and tobacco aromas and flavors. Firmly structured and balanced, with a terrific finish that melds all the components and leaves a chalky sensation. Sangiovese and Merlot. Best from 2024 Very fresh for a 2017, with lots of black-cherry and violet character. Some tar, too. Medium-to full-bodied with chewy tannins and a polished finish. From organically grown grapes. Needs a year or two to soften.\n",
      "https://www.wine.com/product/vinos-de-arganza-lagar-de-robla-premium-mencia-2020/878244|Vinos de Arganza Lagar de Robla Premium Mencia 2020|Mencia| from Bierzo, Spain|Red Wine|Intense, dark-cherry color with spices and red-fruit aromas. Flavors of ripe blackberries and blueberries with a touch of oak. Good balance and backbone on the palate.|Blueberries, plums, violets, walnut husk, dried orange peel and grilled herbs on the nose. It's medium-bodied with grainy tannins and fresh acidity. Pretty finish with bitter-chocolate and walnut notes\n",
      "https://www.wine.com/product/lungarotti-rubesco-2019/929639|Lungarotti Rubesco 2019|Other Red Blends| from Umbria, Italy|Red Wine|Deep ruby red with slight violet hues. Delicate and with good intensity, elegant complexity with hints of pepper, cinnamon and tobacco. Background notes of red-fruit jam and violet. A wine with solid structure and superb concentration, it evolves with fresh acidity; austere, balanced tannins with a fruity and slightly mineral finish.Ideal pairings include T-bone steak, BBQ with spicy sauce, beef fillet with balsamic condiment and extra virgin olive oil, and roast beef with roast potatoes.|Ripe plums and cherries on the nose, together with hints of walnuts and light coffee. Medium-to full-bodied with a silky mouth feel and rich fruit. The very fine tannins give a little pull on the finish. Sangiovese and colorino.\n",
      "https://www.wine.com/product/vinos-de-arganza-flavium-premium-crianza-mencia-2020/981995|Vinos de Arganza Flavium Premium Crianza Mencia 2020|Mencia| from Bierzo, Spain|Red Wine|Ochreish red color, strong and thin aromas, elegant and thin harmonious tannin, well-balanced with grape and mature fruit hints.|Stewed blackberries, baked blueberries, earth and wet tobacco on the nose. Medium-to full-bodied with powdery tannins. Flavorful, with ripe, earthy character.\n",
      "https://www.wine.com/product/jean-marc-burgaud-morgon-cote-du-py-javernieres-2020/1022619|Jean-Marc Burgaud Morgon Cote du Py Javernieres 2020|Gamay| from Beaujolais, Burgundy, France|Red Wine|This is a well-structured wine, redolent of black fruits (mulberries and cherries). Carbonic maceration of the whole berries lasts 12 to 15 days, aand the wine is raised in barrel as well as tank. Jean-Marc's wines are all very bright and pure. Incredible value down the line as Burgaud wines are underpriced compared to other cru Beaujolais producers, especially considering the quality.|Dark, meaty and smoky with a wet-earth undertone, this is a bold and fleshy Morgon that packs a punch at the long, moderately dry and very savory finish. Just beginning to open up, but surely has many years ahead of it. Drink or hold.\n",
      "https://www.wine.com/product/hacienda-lopez-de-haro-rioja-gran-reserva-2012/932045|Hacienda Lopez de Haro Rioja Gran Reserva 2012|Tempranillo| from Rioja, Spain|Red Wine|Bright cherry-red color and a rim with roof tile tones. High aromatic intensity, clean and sound. Complex on the nose with coffee, vanilla, roast and balsamic nuances integrated into an intense bottom note of ripe fruit. Elegant and round. It is well balanced with a velvety attack followed by a pleasant acidity and a silky and full-bodied aftertaste resulting from its noble and ripe tannin. Its long aftertaste has spicy and balsamic hints, resulting from its long and peaceful ageing, as well as confit fruit nuances that uncover its personality.|COMMENTARY: The 2012 Hacienda Lopez de Haro Gran Reserva is bold and attractive. TASTING NOTES: This wine shines with aromas and flavors of black fruit and licorice. Enjoy it with the first cut from prime rib. (Tasted: June 4, 2022, San Francisco, CA) Ripe cherries and currants on the nose, with lots of aromas of wet leaves, leather, nutshells and wet earth. Medium body with a firm, chalky tannin structure and vivid acidity, making it lively and attractive. Refined and balanced, with cherries, tobacco and wet stones at the end. Tempranillo and graciano. Vegan. Drink or hold.\n",
      "https://www.wine.com/product/eguren-ugarte-crianza-2019/1158073|Eguren Ugarte Crianza 2019|Tempranillo| from Rioja, Spain|Red Wine|Mature fruit dominates in an incipient bouquet which captures the aging and a slight toasty aroma. Soft tannins makes it more palatable in spite of its young age. Long, excellent aromatic aftertaste.Blend: 80% Tempranillo, 20% Garnacha|Dark plums, black cherries and some roasted cumin. A medium-bodied red with a firm, frosted tannin structure and bright flavors of berries, plums, as well as a savory layer of tree bark and spice. Balance and drinkability is the key here. COMMENTARY: The 2019 Eguren Crianza offers an Old World spin to the wine lover. TASTING NOTES: This wine exhibits aromas and flavors of dried spices, rustic, earthy notes, and black fruits. Enjoy it with an old fashion beef stew. (Tasted: December 6, 2022, San Francisco, CA)\n",
      "https://www.wine.com/product/piccini-memoro-rosso/141277|Piccini Memoro Rosso|Other Red Blends| from Italy|Red Wine|This wine is a warm, modern style with notes of dark cherries, figs and coffee in a delicate oak frame. Generous on the palate, revealing a bright fruity core. Concentrated, exposing great structure, yet harmonious and soft. Long dense finish.Memoro truly emerged as a cuvee wine, a blend of not only different grapes of different origins in Italy, but also of different vintages: the 12 months oaked casked Montepulciano from Abruzzo, the solar Nero d'Avola from Sicily, the colder climate (Veneto) Merlot and the passito Primitivo wine from Puglia.|Intense nose of bramble fruits, licorice, leather and tobacco. Very nice palate, with smooth and elegant tannins, balanced residual sugar and lingering finish.\n",
      "https://www.wine.com/product/eden-rift-estate-pinot-noir-2018/743138|Eden Rift Estate Pinot Noir 2018|Pinot Noir| from Cienega Valley, Central Coast, California|Red Wine|Showing both red-tone and dark fruits, the bouquet features notes of spiced cranberry, wild blackberry, black cherry as well as pomegranate, violets, black tea and chalk-like, minerals notes. Found in the recesses, aromas of cherry pit, vanilla-cream and berry pie. Medium weight.\n",
      "|A layered and fine-grained pinot with strawberry and cherry aromas and flavors. Flint and some cranberry and watermelon, too. Pure. Medium to full body, bright acidity and light asphalt to the strawberry and raspberry undertones. Drink or hold. COMMENTARY: The 2018 Eden Rift Vineyards Estate Pinot Noir is well-built and lasting on the palate. TASTING NOTES: This wine shines with aromas and flavors of rustic earth, savory spices, black fruit, and black tea. Try it with garlic and rosemary-infused roast leg of lamb. (Tasted: June 17, 2022, San Francisco, CA) The 2018 Pinot Noir Estate is another outstanding wine. Notes of Bing cherries, mulberries, loamy earth, and forest floor all emerge from the glass, and it's medium-bodied, has a rounded, balanced mouthfeel, nicely integrated acidity, and enough structure to keep it drinking well for at least 7-8 years. It's rock solid. Clean lines of plump black raspberry, pastry crust and tarragon make for a delicious nose on this estate bottling. Snappy raspberry flavors kick off the sip, where lilac, wild mint and dried herbs prove both fresh and delicate. Made from Dijon clone vines, the 2018 Pinot Noir Estate has a pale ruby-purple color and scents of spiced rhubarb and black cherries with notes of fragrant earth and tangerine peel. The palate is light-bodied, silky, bright and juicy with spice-laced fruits and a layered finish. Vinous and red fruited, of the six 2018s from Eden Rift, this may be the most structured, showing a rosy scent at a distance, and dried cherry and strawberry flavors. Theres much in place but it needs time.\n",
      "https://www.wine.com/product/pala-oltreluna-monica-2020/1132371|Pala Oltreluna Monica 2020|Other Red Wine| from Sardinia, Italy|Red Wine|Vibrant notes of licorice and red fruit on the nose. Dry and smooth on the palate with perfect balance and length.|Sweet berry and cherry aromas with dried flowers. Medium to full body. Plenty of ripe fruit and creamy tannins. Lovely spice. Drink now.\n",
      "https://www.wine.com/product/martin-ray-sonoma-napa-cabernet-sauvignon-2020/946610|Martin Ray Sonoma-Napa Cabernet Sauvignon 2020|Cabernet Sauvignon| from North Coast, California|Red Wine|Classic and ripe with deep blue and purple fruit, notes of currant, fresh blackberry, bramble, and peppercorn. Interlaced with wet stone and earth, over touches of elderflower and vanilla with fervent, yet silky integrated tannins.|A very savory and delicious red with red-meat and currant aromas and flavors. Medium body and lightly chewy tannins. Currants and fresh herbs. Real cabernet character and dry at the end. Excellent value. Drink or hold.\n",
      "https://www.wine.com/product/clos-dalian-garnacha-crianza-2016/548780|Clos Dalian Garnacha Crianza 2016|Grenache| from Terra Alta, Spain|Red Wine|Light cherry color. It has an aroma of red fruits with a gentle touch of toast and mineral notes, which are so characteristic of our Garnacha. In the mouth, it is meaty, balanced and well-rounded.|COMMENTARY: The 2016 Clos Dalian Crianza is an excellent example of a smooth and delectable Garnacha. TASTING NOTES: This wine offers lovely aromas and flavors of ripe and lively red fruits. Pair it with roast turkey. (Tasted: December 22, 2021, San  Francisco, CA) Aromas of leather, cherry and berry aromas come with additional notes of dried herbs, grainy oak and animal hide. The medium-bodied palate is straightforward and lifted by bright acidity. Flavors of cherry tomato, red plum, raspberry and vanilla finish with springiness and punch.Best Buy\n",
      "https://www.wine.com/product/josephine-dubois-pinot-noir-2021/994331|Josephine Dubois Pinot Noir 2021|Pinot Noir| from Vin de France, France|Red Wine|This Pinot Noir is full of charm with a bright ruby color and a nose rich with aromas of red fruits such as raspberry, red currants and wild strawberry. On the palate, it is juicy and round with nice fruit, light tannins, and great elegance.|COMMENTARY: The 2021 Josephine Dubois Pinot Noir is juicy and pleasing on the palate. TASTING NOTES: This wine exhibits aromas and flavors of tangy red fruits, black fruits, and hints of spice. Serve it with roast game birds. (Tasted: January 10, 2023, San Francisco, CA)\n",
      "https://www.wine.com/product/herdade-do-rocim-alicante-bouschet-2020/1171509|Herdade do Rocim Alicante Bouschet 2020|Alicante Bouschet| from Alentejo, Portugal|Red Wine|Deep concentrated ruby color. Enticing aroma of black fruits and a well balanced minerality with the spicy notes from aging in barrel. Well structured tannins and balanced acidity, allowing a good bottle aging.|This wine is seriously young, tannins and dark black fruits still just beginning to develop. With a rich, smoky character, alongside black plum flavors, the wine needs further aging. Drink from 2025.Editors' Choice\n",
      "https://www.wine.com/product/goldschmidt-vineyard-crazy-creek-fidelity-red-2020/939357|Goldschmidt Vineyard Crazy Creek Fidelity Red 2020|Bordeaux Red Blends| from Alexander Valley, Sonoma County, California|Red Wine|Intense purple and reds in color. Wonderful aromatics are opulent and very floral. Black fruits were a common theme. Black cherry, plum and some licorice texture. Lush ripe tannins and full-bodied. Creamy velvet tongue-wrapping flavors that coate the palate.|Aromas of ripe plums, blackberries and black cherries with notes of vanilla, chocolate and licorice. Medium-bodied with a mild, creamy texture, velvety tannins and fruit-driven character. Juicy and delicious. Drink or hold.\n",
      "https://www.wine.com/product/vina-tarapaca-gran-reserva-etiqueta-azul-2020/1132405|Vina Tarapaca Gran Reserva Etiqueta Azul 2020|Other Red Blends| from Maipo Valley, Chile|Red Wine|Vina Tarapaca Gran Reserva Etiqueta Azul is a deep ruby color. The wine offers aromas of raspberry and cherry, plum, blackberry and cassis, as well as cassis and violet. Firm in structure and velvety on the palate. This wine is characterized by its balance of alcohol and acidity, with some mineral flavors such as graphite.|One of the most encouraging qualities of those Chilean wines which made it through to gold and platinum this year, our judges felt, was a new aromatic complexity and a much finer understanding of aromatic maturity in the vineyard than in the past. This complex, subtle and still youthful blend offers an excellent example of this. It's dark black-red, with creamy plum and currant notes as well as a hint of fragrant, cured Havana leaf. On the palate, it is concentrated and long, with admirable freshness lending life and energy to the red and black fruits. Meaty yet supple tannins bring ballast. It's harmonious and accessible now, but there is enough density here to carry it effortlessly through half a decade's maturation. Creamy cassis, dark olives and tomato leaf with hints of cedar and incense. A flattering, full-bodied red with creamy oak and fine-grained tannins on the palate, before a long finish with some vanilla and sweet spices. Drink from 2023. An elegant yet well-structured red, with a wonderful layer of chrysanthemum on display from start to finish, plus vibrant blackberry and plum flavors joined by subtle herb and spice details. Shows nice length around firm, chalky tannins. Cabernet Sauvignon, Syrah, Cabernet Franc and Malbec. \n",
      "https://www.wine.com/product/radley-and-finch-the-profs-pinotage-2021/868316|Radley & Finch The Profs Pinotage 2021|Pinotage| from South Africa|Red Wine|A wine expressing the plush riper side of Pinotage and still reflecting a very subtle old world tannin.|COMMENTARY: The 2021 Radley & Finch, The Profs Pinotage, is a delicious red wine that wine lovers would enjoy. TASTING NOTES: This wine shines with aromas and flavors of blackberries, dried leaves, and a note of licorice. Pair it with BBQ baby back ribs. (Tasted: November 28, 2022, San Francisco, CA)\n",
      "https://www.wine.com/product/protos-9-meses-tempranillo-2020/1123997|Protos 9 Meses Tempranillo 2020|Tempranillo| from Ribera del Duero, Spain|Red Wine|Bright cherry color with purple rim. Fresh, where black and red berries blend together with spicy, slight toasted notes and cocoa from the barrel ageing. Very smooth and silky feel, balanced and soft tannins.Pair with roasted lamb, Italian food (pizza, spaghetti Bolognese, lasagna), paella, meat stews, and semi-aged cheeses.|COMMENTARY: The 2021 Protos 9 Meses offers excellent length on the palate. TASTING NOTES: This wine excels with aromas and flavors of ripe boysenberries, black fruits, tar, earthy notes, and oak. Enjoy it with grilled lamb chops. (Tasted: December 6, 2022, San Francisco, CA)\n",
      "https://www.wine.com/product/eden-rift-terraces-pinot-noir-2018/938572|Eden Rift Terraces Pinot Noir 2018|Pinot Noir| from Cienega Valley, Central Coast, California|Red Wine||Bright and fresh aromas of pomegranate and zesty raspberry are warmed up by star anise and nutmeg on the nose of this bottling. There are ripe red-fruit flavors on the palate yet there is a persistently energetic and bright acidity that slices through, and the pinch of white pepper adds complexity. From two low-yielding Caleraclone blocks, this wines lush raspberry fruit has a briary scent and beetroot depth, succulent and mouthfilling. Its piercing and assertive in its flavors, with a concentration and radial intensity that makes it ideal for cellaring. An open and rather soft pinot, offering strawberry and cherry aromas with some stems. Cranberry, too. Its medium-to full-bodied with a round, creamy texture and a juicy finish. Sheers off at the finish. Drink or hold Pale ruby-purple, the 2018 Pinot Noir Terraces has a nose of blueberries and earth with touches of dried herbs, pepper and citrus. The palate is medium-bodied and firm but ripe, with pleasantly broody fruits and a flavorful finish. This has the structure and flesh to age well in bottle.\n",
      "https://www.wine.com/product/heredad-ugarte-onice-rioja-2020/864578|Heredad Ugarte Onice Rioja 2020|Tempranillo| from Rioja, Spain|Red Wine|Dark garnet in color with powerful aromas of black currant, blackberry, and cigar box spices. Tangy black currant and blackberry jam flavors were accented by hints of smoky earth, whilst crushed black peppercorn, toasty oak, and traces of caramel comprised the spicy, elongated finish. Sustainably farmed.|COMMENTARY: The 2020 Heredad Ugarte Onice Rioja is light and fresh. TASTING NOTES: This wine exhibits lively aromas and flavors of red fruit and earthy accents. Enjoy it with simple carnitas tacos. (Tasted: February 1, 2022, San Francisco, CA)\n",
      "\n"
     ]
    }
   ],
   "source": [
    "#Loading the data file \n",
    "with open('/Users/georgegarcia/Documents/GitHub/Wine-Description-Analysis-and-Modeling/data/wine-com/1676444764.630189.txt', 'r', encoding='latin-1') as file:\n",
    "    data = file.read()\n",
    "\n",
    "print(data)"
   ]
  },
  {
   "cell_type": "code",
   "execution_count": null,
   "metadata": {},
   "outputs": [],
   "source": [
    "with open('/Users/georgegarcia/Documents/GitHub/Wine-Description-Analysis-and-Modeling/data/wine-com/1676444764.630189.txt', 'r', encoding='latin-1') as f:\n",
    "    lines = f.readlines()\n",
    "\n",
    "data = []\n",
    "for line in lines:\n",
    "    values = line.strip().split('|')\n",
    "    if len(values) == 7:\n",
    "        row = {\n",
    "            'Url_Id': values[0],\n",
    "            'Name': values[1],\n",
    "            'Variety': values[2],\n",
    "            'Origin': values[3],\n",
    "            'Wine_type': values[4],\n",
    "            'Description': values[5],\n",
    "            'Reviews': values[6]\n",
    "        }\n",
    "        data.append(row)\n",
    "    else:\n",
    "        print(f\"Skipping line '{line.strip()}' because it doesn't have the expected number of fields\")\n",
    "\n",
    "# print the data\n",
    "for row in data:\n",
    "    print(row)"
   ]
  },
  {
   "cell_type": "code",
   "execution_count": 18,
   "metadata": {},
   "outputs": [],
   "source": [
    "import pandas as pd\n",
    "# Convert the list of dictionaries to a Pandas DataFrame\n",
    "df = pd.DataFrame(data)"
   ]
  },
  {
   "cell_type": "markdown",
   "metadata": {},
   "source": [
    "Data Pre Prosessing \n",
    "*Lowercase\n",
    "*removing stopwords,punctuation \n",
    "using spacy "
   ]
  },
  {
   "cell_type": "code",
   "execution_count": 32,
   "metadata": {},
   "outputs": [],
   "source": [
    "import spacy\n",
    "from spacy.lang.en.stop_words import STOP_WORDS as stopwords\n",
    "import re\n",
    "import string"
   ]
  },
  {
   "cell_type": "code",
   "execution_count": 38,
   "metadata": {},
   "outputs": [],
   "source": [
    "def clean_text(df, column, skip_columns=[]):\n",
    "    '''Make text lowercase, remove text in square brackets, remove punctuation and remove words containing numbers.'''\n",
    "    text = df[column]\n",
    "    if column in skip_columns:\n",
    "        return text\n",
    "    text = text.str.lower()\n",
    "    text = text.str.replace(r'\\[.*?\\]', '')\n",
    "    text = text.str.replace(r'[%s]' % re.escape(string.punctuation), '')\n",
    "    text = text.str.replace(r'\\w*\\d\\w*', '')\n",
    "    return text"
   ]
  },
  {
   "cell_type": "code",
   "execution_count": 41,
   "metadata": {},
   "outputs": [
    {
     "name": "stderr",
     "output_type": "stream",
     "text": [
      "/var/folders/zz/kcswpht90_v6917fn2hxbt4h0000gn/T/ipykernel_43416/3887716866.py:7: FutureWarning: The default value of regex will change from True to False in a future version.\n",
      "  text = text.str.replace(r'\\[.*?\\]', '')\n",
      "/var/folders/zz/kcswpht90_v6917fn2hxbt4h0000gn/T/ipykernel_43416/3887716866.py:8: FutureWarning: The default value of regex will change from True to False in a future version.\n",
      "  text = text.str.replace(r'[%s]' % re.escape(string.punctuation), '')\n",
      "/var/folders/zz/kcswpht90_v6917fn2hxbt4h0000gn/T/ipykernel_43416/3887716866.py:9: FutureWarning: The default value of regex will change from True to False in a future version.\n",
      "  text = text.str.replace(r'\\w*\\d\\w*', '')\n"
     ]
    }
   ],
   "source": [
    "skip_columns = ['Url_Id']\n",
    "cleaned_text = clean_text(df, 'Description', skip_columns)"
   ]
  },
  {
   "cell_type": "markdown",
   "metadata": {},
   "source": [
    "# this another way we can do it URL was giving me trouble "
   ]
  },
  {
   "cell_type": "code",
   "execution_count": 37,
   "metadata": {},
   "outputs": [
    {
     "ename": "OSError",
     "evalue": "[E050] Can't find model 'en_core_web_sm'. It doesn't seem to be a Python package or a valid path to a data directory.",
     "output_type": "error",
     "traceback": [
      "\u001b[0;31m---------------------------------------------------------------------------\u001b[0m",
      "\u001b[0;31mOSError\u001b[0m                                   Traceback (most recent call last)",
      "\u001b[1;32mUntitled-2.ipynb Cell 8'\u001b[0m in \u001b[0;36m<cell line: 5>\u001b[0;34m()\u001b[0m\n\u001b[1;32m      <a href='vscode-notebook-cell:Untitled-2.ipynb?jupyter-notebook#ch0000014untitled?line=1'>2</a>\u001b[0m \u001b[39mimport\u001b[39;00m \u001b[39mre\u001b[39;00m\n\u001b[1;32m      <a href='vscode-notebook-cell:Untitled-2.ipynb?jupyter-notebook#ch0000014untitled?line=2'>3</a>\u001b[0m \u001b[39mimport\u001b[39;00m \u001b[39mstring\u001b[39;00m\n\u001b[0;32m----> <a href='vscode-notebook-cell:Untitled-2.ipynb?jupyter-notebook#ch0000014untitled?line=4'>5</a>\u001b[0m nlp \u001b[39m=\u001b[39m spacy\u001b[39m.\u001b[39;49mload(\u001b[39m'\u001b[39;49m\u001b[39men_core_web_sm\u001b[39;49m\u001b[39m'\u001b[39;49m, disable\u001b[39m=\u001b[39;49m[\u001b[39m'\u001b[39;49m\u001b[39mparser\u001b[39;49m\u001b[39m'\u001b[39;49m, \u001b[39m'\u001b[39;49m\u001b[39mner\u001b[39;49m\u001b[39m'\u001b[39;49m])\n\u001b[1;32m      <a href='vscode-notebook-cell:Untitled-2.ipynb?jupyter-notebook#ch0000014untitled?line=6'>7</a>\u001b[0m \u001b[39mdef\u001b[39;00m \u001b[39mclean_text\u001b[39m(row):\n\u001b[1;32m      <a href='vscode-notebook-cell:Untitled-2.ipynb?jupyter-notebook#ch0000014untitled?line=7'>8</a>\u001b[0m     \u001b[39m'''Make text lowercase, remove text in square brackets, remove punctuation and remove words containing numbers.'''\u001b[39;00m\n",
      "File \u001b[0;32m/Library/Frameworks/Python.framework/Versions/3.9/lib/python3.9/site-packages/spacy/__init__.py:54\u001b[0m, in \u001b[0;36mload\u001b[0;34m(name, vocab, disable, enable, exclude, config)\u001b[0m\n\u001b[1;32m     <a href='file:///Library/Frameworks/Python.framework/Versions/3.9/lib/python3.9/site-packages/spacy/__init__.py?line=29'>30</a>\u001b[0m \u001b[39mdef\u001b[39;00m \u001b[39mload\u001b[39m(\n\u001b[1;32m     <a href='file:///Library/Frameworks/Python.framework/Versions/3.9/lib/python3.9/site-packages/spacy/__init__.py?line=30'>31</a>\u001b[0m     name: Union[\u001b[39mstr\u001b[39m, Path],\n\u001b[1;32m     <a href='file:///Library/Frameworks/Python.framework/Versions/3.9/lib/python3.9/site-packages/spacy/__init__.py?line=31'>32</a>\u001b[0m     \u001b[39m*\u001b[39m,\n\u001b[0;32m   (...)\u001b[0m\n\u001b[1;32m     <a href='file:///Library/Frameworks/Python.framework/Versions/3.9/lib/python3.9/site-packages/spacy/__init__.py?line=36'>37</a>\u001b[0m     config: Union[Dict[\u001b[39mstr\u001b[39m, Any], Config] \u001b[39m=\u001b[39m util\u001b[39m.\u001b[39mSimpleFrozenDict(),\n\u001b[1;32m     <a href='file:///Library/Frameworks/Python.framework/Versions/3.9/lib/python3.9/site-packages/spacy/__init__.py?line=37'>38</a>\u001b[0m ) \u001b[39m-\u001b[39m\u001b[39m>\u001b[39m Language:\n\u001b[1;32m     <a href='file:///Library/Frameworks/Python.framework/Versions/3.9/lib/python3.9/site-packages/spacy/__init__.py?line=38'>39</a>\u001b[0m     \u001b[39m\"\"\"Load a spaCy model from an installed package or a local path.\u001b[39;00m\n\u001b[1;32m     <a href='file:///Library/Frameworks/Python.framework/Versions/3.9/lib/python3.9/site-packages/spacy/__init__.py?line=39'>40</a>\u001b[0m \n\u001b[1;32m     <a href='file:///Library/Frameworks/Python.framework/Versions/3.9/lib/python3.9/site-packages/spacy/__init__.py?line=40'>41</a>\u001b[0m \u001b[39m    name (str): Package name or model path.\u001b[39;00m\n\u001b[0;32m   (...)\u001b[0m\n\u001b[1;32m     <a href='file:///Library/Frameworks/Python.framework/Versions/3.9/lib/python3.9/site-packages/spacy/__init__.py?line=51'>52</a>\u001b[0m \u001b[39m    RETURNS (Language): The loaded nlp object.\u001b[39;00m\n\u001b[1;32m     <a href='file:///Library/Frameworks/Python.framework/Versions/3.9/lib/python3.9/site-packages/spacy/__init__.py?line=52'>53</a>\u001b[0m \u001b[39m    \"\"\"\u001b[39;00m\n\u001b[0;32m---> <a href='file:///Library/Frameworks/Python.framework/Versions/3.9/lib/python3.9/site-packages/spacy/__init__.py?line=53'>54</a>\u001b[0m     \u001b[39mreturn\u001b[39;00m util\u001b[39m.\u001b[39;49mload_model(\n\u001b[1;32m     <a href='file:///Library/Frameworks/Python.framework/Versions/3.9/lib/python3.9/site-packages/spacy/__init__.py?line=54'>55</a>\u001b[0m         name,\n\u001b[1;32m     <a href='file:///Library/Frameworks/Python.framework/Versions/3.9/lib/python3.9/site-packages/spacy/__init__.py?line=55'>56</a>\u001b[0m         vocab\u001b[39m=\u001b[39;49mvocab,\n\u001b[1;32m     <a href='file:///Library/Frameworks/Python.framework/Versions/3.9/lib/python3.9/site-packages/spacy/__init__.py?line=56'>57</a>\u001b[0m         disable\u001b[39m=\u001b[39;49mdisable,\n\u001b[1;32m     <a href='file:///Library/Frameworks/Python.framework/Versions/3.9/lib/python3.9/site-packages/spacy/__init__.py?line=57'>58</a>\u001b[0m         enable\u001b[39m=\u001b[39;49menable,\n\u001b[1;32m     <a href='file:///Library/Frameworks/Python.framework/Versions/3.9/lib/python3.9/site-packages/spacy/__init__.py?line=58'>59</a>\u001b[0m         exclude\u001b[39m=\u001b[39;49mexclude,\n\u001b[1;32m     <a href='file:///Library/Frameworks/Python.framework/Versions/3.9/lib/python3.9/site-packages/spacy/__init__.py?line=59'>60</a>\u001b[0m         config\u001b[39m=\u001b[39;49mconfig,\n\u001b[1;32m     <a href='file:///Library/Frameworks/Python.framework/Versions/3.9/lib/python3.9/site-packages/spacy/__init__.py?line=60'>61</a>\u001b[0m     )\n",
      "File \u001b[0;32m/Library/Frameworks/Python.framework/Versions/3.9/lib/python3.9/site-packages/spacy/util.py:439\u001b[0m, in \u001b[0;36mload_model\u001b[0;34m(name, vocab, disable, enable, exclude, config)\u001b[0m\n\u001b[1;32m    <a href='file:///Library/Frameworks/Python.framework/Versions/3.9/lib/python3.9/site-packages/spacy/util.py?line=436'>437</a>\u001b[0m \u001b[39mif\u001b[39;00m name \u001b[39min\u001b[39;00m OLD_MODEL_SHORTCUTS:\n\u001b[1;32m    <a href='file:///Library/Frameworks/Python.framework/Versions/3.9/lib/python3.9/site-packages/spacy/util.py?line=437'>438</a>\u001b[0m     \u001b[39mraise\u001b[39;00m \u001b[39mIOError\u001b[39;00m(Errors\u001b[39m.\u001b[39mE941\u001b[39m.\u001b[39mformat(name\u001b[39m=\u001b[39mname, full\u001b[39m=\u001b[39mOLD_MODEL_SHORTCUTS[name]))  \u001b[39m# type: ignore[index]\u001b[39;00m\n\u001b[0;32m--> <a href='file:///Library/Frameworks/Python.framework/Versions/3.9/lib/python3.9/site-packages/spacy/util.py?line=438'>439</a>\u001b[0m \u001b[39mraise\u001b[39;00m \u001b[39mIOError\u001b[39;00m(Errors\u001b[39m.\u001b[39mE050\u001b[39m.\u001b[39mformat(name\u001b[39m=\u001b[39mname))\n",
      "\u001b[0;31mOSError\u001b[0m: [E050] Can't find model 'en_core_web_sm'. It doesn't seem to be a Python package or a valid path to a data directory."
     ]
    }
   ],
   "source": [
    "import spacy\n",
    "import re\n",
    "import string\n",
    "\n",
    "nlp = spacy.load('en_core_web_sm', disable=['parser', 'ner'])\n",
    "\n",
    "def clean_text(row):\n",
    "    '''Make text lowercase, remove text in square brackets, remove punctuation and remove words containing numbers.'''\n",
    "    text = row['Name'] + ' ' + row['Variety'] + ' ' + row['Origin'] + ' ' + row['Wine_type'] + ' ' + row['Description'] + ' ' + row['Reviews']\n",
    "    text = text.lower()\n",
    "    text = re.sub(r'\\[.*?\\]', '', text)\n",
    "    text = re.sub(r'[%s]' % re.escape(string.punctuation), '', text)\n",
    "    text = re.sub(r'\\w*\\d\\w*', '', text)\n",
    "    return text\n",
    "\n",
    "# apply the clean_text function to the data frame\n",
    "df['clean_text'] = df.apply(clean_text, axis=1)"
   ]
  },
  {
   "cell_type": "code",
   "execution_count": 15,
   "metadata": {},
   "outputs": [
    {
     "ename": "TypeError",
     "evalue": "list indices must be integers or slices, not str",
     "output_type": "error",
     "traceback": [
      "\u001b[0;31m---------------------------------------------------------------------------\u001b[0m",
      "\u001b[0;31mTypeError\u001b[0m                                 Traceback (most recent call last)",
      "\u001b[1;32mUntitled-2.ipynb Cell 3'\u001b[0m in \u001b[0;36m<cell line: 1>\u001b[0;34m()\u001b[0m\n\u001b[0;32m----> <a href='vscode-notebook-cell:Untitled-2.ipynb?jupyter-notebook#ch0000004untitled?line=0'>1</a>\u001b[0m Wine_type \u001b[39m=\u001b[39m data[\u001b[39m'\u001b[39;49m\u001b[39mWine_type\u001b[39;49m\u001b[39m'\u001b[39;49m]\n\u001b[1;32m      <a href='vscode-notebook-cell:Untitled-2.ipynb?jupyter-notebook#ch0000004untitled?line=1'>2</a>\u001b[0m Name \u001b[39m=\u001b[39m data[\u001b[39m'\u001b[39m\u001b[39mName\u001b[39m\u001b[39m'\u001b[39m]\n",
      "\u001b[0;31mTypeError\u001b[0m: list indices must be integers or slices, not str"
     ]
    }
   ],
   "source": [
    "Wine_type = data['Wine_type']\n",
    "Name = data['Name']\n"
   ]
  },
  {
   "cell_type": "code",
   "execution_count": 10,
   "metadata": {},
   "outputs": [
    {
     "ename": "NameError",
     "evalue": "name 'Wine_type' is not defined",
     "output_type": "error",
     "traceback": [
      "\u001b[0;31m---------------------------------------------------------------------------\u001b[0m",
      "\u001b[0;31mNameError\u001b[0m                                 Traceback (most recent call last)",
      "\u001b[1;32mUntitled-2.ipynb Cell 3'\u001b[0m in \u001b[0;36m<cell line: 1>\u001b[0;34m()\u001b[0m\n\u001b[0;32m----> <a href='vscode-notebook-cell:Untitled-2.ipynb?jupyter-notebook#ch0000003untitled?line=0'>1</a>\u001b[0m Wine_Type_counts \u001b[39m=\u001b[39m Wine_type\u001b[39m.\u001b[39mvalue_counts()\n\u001b[1;32m      <a href='vscode-notebook-cell:Untitled-2.ipynb?jupyter-notebook#ch0000003untitled?line=1'>2</a>\u001b[0m \u001b[39mprint\u001b[39m(varietal_counts)\n",
      "\u001b[0;31mNameError\u001b[0m: name 'Wine_type' is not defined"
     ]
    }
   ],
   "source": [
    "\n",
    "Wine_Type_counts = Wine_type.value_counts()\n",
    "print(varietal_counts)"
   ]
  }
 ],
 "metadata": {
  "interpreter": {
   "hash": "aee8b7b246df8f9039afb4144a1f6fd8d2ca17a180786b69acc140d282b71a49"
  },
  "kernelspec": {
   "display_name": "Python 3.9.6 64-bit",
   "language": "python",
   "name": "python3"
  },
  "language_info": {
   "codemirror_mode": {
    "name": "ipython",
    "version": 3
   },
   "file_extension": ".py",
   "mimetype": "text/x-python",
   "name": "python",
   "nbconvert_exporter": "python",
   "pygments_lexer": "ipython3",
   "version": "3.9.6"
  },
  "orig_nbformat": 4
 },
 "nbformat": 4,
 "nbformat_minor": 2
}
