{
 "cells": [
  {
   "cell_type": "markdown",
   "id": "2229241d",
   "metadata": {},
   "source": [
    "# Topic Modeling"
   ]
  },
  {
   "cell_type": "code",
   "execution_count": 1,
   "id": "9fa2be82",
   "metadata": {},
   "outputs": [],
   "source": [
    "import pandas as pd\n",
    "import numpy as np\n",
    "import os\n",
    "import re\n",
    "import dill\n",
    "import sys\n",
    "from scipy.stats import uniform, randint\n",
    "from string import punctuation\n",
    "import nltk\n",
    "\n",
    "# preprocessing packages\n",
    "from sklearn.preprocessing import OneHotEncoder\n",
    "from sklearn.impute import SimpleImputer\n",
    "\n",
    "# pipeline tools\n",
    "from sklearn.base import TransformerMixin\n",
    "from sklearn.compose import ColumnTransformer, make_column_transformer\n",
    "from sklearn.pipeline import Pipeline, make_pipeline\n",
    "from sklearn.model_selection import train_test_split, cross_val_score, RandomizedSearchCV\n",
    "from sklearn.preprocessing import FunctionTransformer\n",
    "\n",
    "#feature selection\n",
    "from sklearn.feature_selection import VarianceThreshold, SelectKBest\n",
    "from sklearn.feature_extraction.text import TfidfVectorizer, CountVectorizer\n",
    "\n",
    "#models\n",
    "from sklearn.naive_bayes import GaussianNB, MultinomialNB\n",
    "\n",
    "#metrics\n",
    "from sklearn.metrics import make_scorer, mean_squared_error\n",
    "from sklearn.metrics import accuracy_score, balanced_accuracy_score\n",
    "\n",
    "#visualization\n",
    "import pyLDAvis\n",
    "import pyLDAvis.sklearn\n",
    "import pyLDAvis.gensim_models"
   ]
  },
  {
   "cell_type": "code",
   "execution_count": 2,
   "id": "85265355",
   "metadata": {},
   "outputs": [],
   "source": [
    "#nltk.download()"
   ]
  },
  {
   "cell_type": "code",
   "execution_count": 3,
   "id": "9f6ad4c7",
   "metadata": {},
   "outputs": [],
   "source": [
    "#directory locations\n",
    "current_directory = os.getcwd()\n",
    "parent_directory = os.path.dirname(current_directory)\n",
    "processed_data_folder = parent_directory + '/data/wine-com/processed/'\n",
    "models_folder = parent_directory + '/models/'"
   ]
  },
  {
   "cell_type": "markdown",
   "id": "009f646f",
   "metadata": {},
   "source": [
    "### Load Data"
   ]
  },
  {
   "cell_type": "code",
   "execution_count": 4,
   "id": "17a62b63",
   "metadata": {},
   "outputs": [],
   "source": [
    "df = pd.read_csv(processed_data_folder + '1677432096.083379.txt', \n",
    "                 sep = '|')"
   ]
  },
  {
   "cell_type": "code",
   "execution_count": 5,
   "id": "4a250781",
   "metadata": {},
   "outputs": [
    {
     "data": {
      "text/html": [
       "<div>\n",
       "<style scoped>\n",
       "    .dataframe tbody tr th:only-of-type {\n",
       "        vertical-align: middle;\n",
       "    }\n",
       "\n",
       "    .dataframe tbody tr th {\n",
       "        vertical-align: top;\n",
       "    }\n",
       "\n",
       "    .dataframe thead th {\n",
       "        text-align: right;\n",
       "    }\n",
       "</style>\n",
       "<table border=\"1\" class=\"dataframe\">\n",
       "  <thead>\n",
       "    <tr style=\"text-align: right;\">\n",
       "      <th></th>\n",
       "      <th>product_url</th>\n",
       "      <th>product_name</th>\n",
       "      <th>product_variety</th>\n",
       "      <th>product_origin</th>\n",
       "      <th>product_family</th>\n",
       "      <th>user_avg_rating</th>\n",
       "      <th>user_rating_count</th>\n",
       "      <th>winemaker_description</th>\n",
       "      <th>reviewer_name</th>\n",
       "      <th>reviewer_rating</th>\n",
       "      <th>reviewer_text</th>\n",
       "    </tr>\n",
       "  </thead>\n",
       "  <tbody>\n",
       "    <tr>\n",
       "      <th>0</th>\n",
       "      <td>https://www.wine.com/product/proyecto-salvaje-...</td>\n",
       "      <td>Proyecto Salvaje del Moncayo Garnacha 2020</td>\n",
       "      <td>Grenache</td>\n",
       "      <td>from Navarra, Spain</td>\n",
       "      <td>Red Wine</td>\n",
       "      <td>4.8</td>\n",
       "      <td>19</td>\n",
       "      <td>bright burgundy wine medium depth tobacco wild...</td>\n",
       "      <td>Decanter</td>\n",
       "      <td>92.0</td>\n",
       "      <td>part proyecto garnachas de españa collection s...</td>\n",
       "    </tr>\n",
       "    <tr>\n",
       "      <th>1</th>\n",
       "      <td>https://www.wine.com/product/proyecto-salvaje-...</td>\n",
       "      <td>Proyecto Salvaje del Moncayo Garnacha 2020</td>\n",
       "      <td>Grenache</td>\n",
       "      <td>from Navarra, Spain</td>\n",
       "      <td>Red Wine</td>\n",
       "      <td>4.8</td>\n",
       "      <td>19</td>\n",
       "      <td>bright burgundy wine medium depth tobacco wild...</td>\n",
       "      <td>Wilfred Wong of Wine.com</td>\n",
       "      <td>91.0</td>\n",
       "      <td>commentary 2020 proyecto garnachas salvaje del...</td>\n",
       "    </tr>\n",
       "    <tr>\n",
       "      <th>2</th>\n",
       "      <td>https://www.wine.com/product/domaine-du-terme-...</td>\n",
       "      <td>Domaine du Terme Gigondas 2019</td>\n",
       "      <td>Rhone Red Blends</td>\n",
       "      <td>from Gigondas, Rhone, France</td>\n",
       "      <td>Red Wine</td>\n",
       "      <td>4.0</td>\n",
       "      <td>17</td>\n",
       "      <td>NaN</td>\n",
       "      <td>Wine &amp; Spirits</td>\n",
       "      <td>96.0</td>\n",
       "      <td>spectacular gigondas wine red cherry flavors s...</td>\n",
       "    </tr>\n",
       "    <tr>\n",
       "      <th>3</th>\n",
       "      <td>https://www.wine.com/product/domaine-du-terme-...</td>\n",
       "      <td>Domaine du Terme Gigondas 2019</td>\n",
       "      <td>Rhone Red Blends</td>\n",
       "      <td>from Gigondas, Rhone, France</td>\n",
       "      <td>Red Wine</td>\n",
       "      <td>4.0</td>\n",
       "      <td>17</td>\n",
       "      <td>NaN</td>\n",
       "      <td>Decanter</td>\n",
       "      <td>94.0</td>\n",
       "      <td>straight first sniff clear going special soari...</td>\n",
       "    </tr>\n",
       "    <tr>\n",
       "      <th>4</th>\n",
       "      <td>https://www.wine.com/product/scott-harvey-moun...</td>\n",
       "      <td>Scott Harvey Mountain Selection Zinfandel 2019</td>\n",
       "      <td>Zinfandel</td>\n",
       "      <td>from Amador, Sierra Foothills, California</td>\n",
       "      <td>Red Wine</td>\n",
       "      <td>4.3</td>\n",
       "      <td>39</td>\n",
       "      <td>fruit forward rich full flavors expressing var...</td>\n",
       "      <td>Wine Enthusiast</td>\n",
       "      <td>93.0</td>\n",
       "      <td>fresh smelling full bodied flavor packed wine ...</td>\n",
       "    </tr>\n",
       "  </tbody>\n",
       "</table>\n",
       "</div>"
      ],
      "text/plain": [
       "                                         product_url  \\\n",
       "0  https://www.wine.com/product/proyecto-salvaje-...   \n",
       "1  https://www.wine.com/product/proyecto-salvaje-...   \n",
       "2  https://www.wine.com/product/domaine-du-terme-...   \n",
       "3  https://www.wine.com/product/domaine-du-terme-...   \n",
       "4  https://www.wine.com/product/scott-harvey-moun...   \n",
       "\n",
       "                                     product_name   product_variety  \\\n",
       "0      Proyecto Salvaje del Moncayo Garnacha 2020          Grenache   \n",
       "1      Proyecto Salvaje del Moncayo Garnacha 2020          Grenache   \n",
       "2                  Domaine du Terme Gigondas 2019  Rhone Red Blends   \n",
       "3                  Domaine du Terme Gigondas 2019  Rhone Red Blends   \n",
       "4  Scott Harvey Mountain Selection Zinfandel 2019         Zinfandel   \n",
       "\n",
       "                               product_origin product_family  user_avg_rating  \\\n",
       "0                         from Navarra, Spain       Red Wine              4.8   \n",
       "1                         from Navarra, Spain       Red Wine              4.8   \n",
       "2                from Gigondas, Rhone, France       Red Wine              4.0   \n",
       "3                from Gigondas, Rhone, France       Red Wine              4.0   \n",
       "4   from Amador, Sierra Foothills, California       Red Wine              4.3   \n",
       "\n",
       "   user_rating_count                              winemaker_description  \\\n",
       "0                 19  bright burgundy wine medium depth tobacco wild...   \n",
       "1                 19  bright burgundy wine medium depth tobacco wild...   \n",
       "2                 17                                                NaN   \n",
       "3                 17                                                NaN   \n",
       "4                 39  fruit forward rich full flavors expressing var...   \n",
       "\n",
       "              reviewer_name  reviewer_rating  \\\n",
       "0                  Decanter             92.0   \n",
       "1  Wilfred Wong of Wine.com             91.0   \n",
       "2            Wine & Spirits             96.0   \n",
       "3                  Decanter             94.0   \n",
       "4           Wine Enthusiast             93.0   \n",
       "\n",
       "                                       reviewer_text  \n",
       "0  part proyecto garnachas de españa collection s...  \n",
       "1  commentary 2020 proyecto garnachas salvaje del...  \n",
       "2  spectacular gigondas wine red cherry flavors s...  \n",
       "3  straight first sniff clear going special soari...  \n",
       "4  fresh smelling full bodied flavor packed wine ...  "
      ]
     },
     "execution_count": 5,
     "metadata": {},
     "output_type": "execute_result"
    }
   ],
   "source": [
    "df.head()"
   ]
  },
  {
   "cell_type": "code",
   "execution_count": 6,
   "id": "88ff5e97",
   "metadata": {},
   "outputs": [
    {
     "data": {
      "text/plain": [
       "Index(['product_url', 'product_name', 'product_variety', 'product_origin',\n",
       "       'product_family', 'user_avg_rating', 'user_rating_count',\n",
       "       'winemaker_description', 'reviewer_name', 'reviewer_rating',\n",
       "       'reviewer_text'],\n",
       "      dtype='object')"
      ]
     },
     "execution_count": 6,
     "metadata": {},
     "output_type": "execute_result"
    }
   ],
   "source": [
    "df.columns"
   ]
  },
  {
   "cell_type": "code",
   "execution_count": 7,
   "id": "20d35d1d",
   "metadata": {},
   "outputs": [
    {
     "data": {
      "text/plain": [
       "(20988, 11)"
      ]
     },
     "execution_count": 7,
     "metadata": {},
     "output_type": "execute_result"
    }
   ],
   "source": [
    "df.shape"
   ]
  },
  {
   "cell_type": "markdown",
   "id": "5e3e30ca",
   "metadata": {},
   "source": [
    "### Reduce to Relevant Data"
   ]
  },
  {
   "cell_type": "code",
   "execution_count": 8,
   "id": "a241ffe3",
   "metadata": {},
   "outputs": [],
   "source": [
    "review_data = df[['product_family', 'reviewer_rating', 'reviewer_text']]"
   ]
  },
  {
   "cell_type": "markdown",
   "id": "6458ec79",
   "metadata": {},
   "source": [
    "### Missing Data & Data Type Correction"
   ]
  },
  {
   "cell_type": "code",
   "execution_count": 9,
   "id": "338f4fdf",
   "metadata": {},
   "outputs": [
    {
     "data": {
      "text/plain": [
       "product_family        0\n",
       "reviewer_rating    6451\n",
       "reviewer_text      6494\n",
       "dtype: int64"
      ]
     },
     "execution_count": 9,
     "metadata": {},
     "output_type": "execute_result"
    }
   ],
   "source": [
    "review_data.isnull().sum()"
   ]
  },
  {
   "cell_type": "code",
   "execution_count": 10,
   "id": "a67ebba8",
   "metadata": {},
   "outputs": [],
   "source": [
    "review_data = review_data.dropna(subset = ['reviewer_text'])"
   ]
  },
  {
   "cell_type": "code",
   "execution_count": 11,
   "id": "53711561",
   "metadata": {},
   "outputs": [],
   "source": [
    "review_data['reviewer_rating'] = review_data['reviewer_rating'].astype(int)"
   ]
  },
  {
   "cell_type": "code",
   "execution_count": 12,
   "id": "94c9bf52",
   "metadata": {},
   "outputs": [
    {
     "name": "stdout",
     "output_type": "stream",
     "text": [
      "<class 'pandas.core.frame.DataFrame'>\n",
      "Int64Index: 14494 entries, 0 to 20987\n",
      "Data columns (total 3 columns):\n",
      " #   Column           Non-Null Count  Dtype \n",
      "---  ------           --------------  ----- \n",
      " 0   product_family   14494 non-null  object\n",
      " 1   reviewer_rating  14494 non-null  int32 \n",
      " 2   reviewer_text    14494 non-null  object\n",
      "dtypes: int32(1), object(2)\n",
      "memory usage: 396.3+ KB\n"
     ]
    }
   ],
   "source": [
    "review_data.info()"
   ]
  },
  {
   "cell_type": "markdown",
   "id": "0d0d6616",
   "metadata": {},
   "source": [
    "### Data Assignment & Splitting"
   ]
  },
  {
   "cell_type": "code",
   "execution_count": 13,
   "id": "adc4ccca",
   "metadata": {},
   "outputs": [],
   "source": [
    "# specifying predictive and target features\n",
    "X = review_data.drop(columns = ['reviewer_rating'])\n",
    "y = review_data[['product_family']].values.ravel()"
   ]
  },
  {
   "cell_type": "code",
   "execution_count": 14,
   "id": "367405fb",
   "metadata": {},
   "outputs": [],
   "source": [
    "# create holdout set to approximate real-world performance\n",
    "X_train, X_test, y_train, y_test = train_test_split(X, \n",
    "                                                    y, \n",
    "                                                    test_size=0.2, \n",
    "                                                    random_state=123)"
   ]
  },
  {
   "cell_type": "markdown",
   "id": "139616d2",
   "metadata": {},
   "source": [
    "## Naive Bayes"
   ]
  },
  {
   "cell_type": "code",
   "execution_count": 15,
   "id": "bf22577b",
   "metadata": {},
   "outputs": [],
   "source": [
    "class CovertToList(TransformerMixin):\n",
    "    def transform(self, X):\n",
    "        transformed_data = []\n",
    "        #transform to dataframe\n",
    "        X = pd.DataFrame(X)\n",
    "        #get colnames\n",
    "        colnames = X.columns\n",
    "        #iterate through columns\n",
    "        for col in colnames:\n",
    "            X = X[col].tolist()\n",
    "            X = [str(i) for i in X]\n",
    "            transformed_data.extend(X)\n",
    "        return np.array(transformed_data)\n",
    "\n",
    "    def fit(self, X, y=None):\n",
    "        return self"
   ]
  },
  {
   "cell_type": "code",
   "execution_count": 16,
   "id": "c3c62f03",
   "metadata": {},
   "outputs": [],
   "source": [
    "# specifiying column transformer fields\n",
    "text_variables = ['reviewer_text']\n",
    "\n",
    "# Count Vectorizer pipeline:\n",
    "cv_transformer = Pipeline([('convert_to_list', CovertToList()),\n",
    "                           ('count_vectorizer', CountVectorizer())])\n",
    "\n",
    "nb_full_pipeline = Pipeline([('column_transformer', ColumnTransformer([('text', cv_transformer, text_variables)],\n",
    "                                                                      remainder = 'drop')),\n",
    "                             ('near_zero_variance', VarianceThreshold()),\n",
    "                             ('naive_bayes', MultinomialNB())])"
   ]
  },
  {
   "cell_type": "code",
   "execution_count": 17,
   "id": "b0b089d4",
   "metadata": {
    "scrolled": false
   },
   "outputs": [
    {
     "name": "stdout",
     "output_type": "stream",
     "text": [
      "Best parameter (CV score=0.897):\n",
      "{'column_transformer__text__count_vectorizer__ngram_range': (2, 2), 'naive_bayes__alpha': 0.5977789660956835}\n"
     ]
    }
   ],
   "source": [
    "search_space = [{'naive_bayes__alpha': uniform(0.001, 10.0),\n",
    "                 'column_transformer__text__count_vectorizer__ngram_range': [(1, 1), (1, 2), (2, 2)]}]\n",
    "\n",
    "\n",
    "cv_nb = RandomizedSearchCV(nb_full_pipeline,\n",
    "                            param_distributions = search_space, \n",
    "                            n_iter = 10, \n",
    "                            cv = 5,\n",
    "                            n_jobs = 6,\n",
    "                            scoring = 'accuracy',\n",
    "                            random_state=123)\n",
    "\n",
    "cv_nb.fit(X_train, y_train)\n",
    "\n",
    "print(\"Best parameter (CV score=%0.3f):\" % cv_nb.best_score_)\n",
    "print(cv_nb.best_params_)"
   ]
  },
  {
   "cell_type": "markdown",
   "id": "44f2ea3b",
   "metadata": {},
   "source": [
    "### Write Pipeline to File"
   ]
  },
  {
   "cell_type": "code",
   "execution_count": 18,
   "id": "c97412dc",
   "metadata": {},
   "outputs": [],
   "source": [
    "cv_nb_best_pipeline = cv_nb.best_estimator_\n",
    "with open(models_folder + 'topic_nb_best_cv.pkl', 'wb') as f:\n",
    "    dill.dump(cv_nb_best_pipeline, f)"
   ]
  },
  {
   "cell_type": "markdown",
   "id": "1a07b4ea",
   "metadata": {},
   "source": [
    "### Holdout Performance"
   ]
  },
  {
   "cell_type": "code",
   "execution_count": 19,
   "id": "9a59f074",
   "metadata": {},
   "outputs": [
    {
     "data": {
      "text/plain": [
       "0.9061745429458434"
      ]
     },
     "execution_count": 19,
     "metadata": {},
     "output_type": "execute_result"
    }
   ],
   "source": [
    "accuracy_score(y_test, cv_nb.predict(X_test))"
   ]
  },
  {
   "cell_type": "markdown",
   "id": "e9469f54",
   "metadata": {},
   "source": [
    "## LDA - TF-IDF Vectorizer"
   ]
  },
  {
   "cell_type": "code",
   "execution_count": 20,
   "id": "98cdca34",
   "metadata": {},
   "outputs": [],
   "source": [
    "# TF-IDF  pipeline:\n",
    "tf_transformer = Pipeline([('convert_to_list', CovertToList()),\n",
    "                           ('tfidf_vectorizer', TfidfVectorizer())])\n",
    "\n",
    "tf_full_pipeline = Pipeline([('column_transformer', ColumnTransformer([('text', tf_transformer, text_variables)],\n",
    "                                                                      remainder = 'drop')),\n",
    "                             ('near_zero_variance', VarianceThreshold()),\n",
    "                             ('naive_bayes', MultinomialNB())])"
   ]
  },
  {
   "cell_type": "code",
   "execution_count": 21,
   "id": "a3c86115",
   "metadata": {
    "scrolled": false
   },
   "outputs": [
    {
     "name": "stdout",
     "output_type": "stream",
     "text": [
      "Best parameter (CV score=0.728):\n",
      "{'column_transformer__text__tfidf_vectorizer__ngram_range': (2, 2), 'naive_bayes__alpha': 0.5977789660956835}\n"
     ]
    }
   ],
   "source": [
    "search_space = [{'naive_bayes__alpha': uniform(0.001, 10.0),\n",
    "                 'column_transformer__text__tfidf_vectorizer__ngram_range': [(1, 1), (1, 2), (2, 2)]}]\n",
    "\n",
    "tf_nb = RandomizedSearchCV(tf_full_pipeline,\n",
    "                            param_distributions = search_space, \n",
    "                            n_iter = 10, \n",
    "                            cv = 5,\n",
    "                            n_jobs = 6,\n",
    "                            scoring = 'accuracy',\n",
    "                            random_state=123)\n",
    "tf_nb.fit(X_train, y_train)\n",
    "\n",
    "print(\"Best parameter (CV score=%0.3f):\" % tf_nb.best_score_)\n",
    "print(tf_nb.best_params_)"
   ]
  },
  {
   "cell_type": "code",
   "execution_count": 22,
   "id": "95bcc9ee",
   "metadata": {},
   "outputs": [],
   "source": [
    "tf_nb_best_pipeline = tf_nb.best_estimator_\n",
    "with open(models_folder + 'topic_nb_best_tfidf.pkl', 'wb') as f:\n",
    "    dill.dump(tf_nb_best_pipeline, f)"
   ]
  },
  {
   "cell_type": "markdown",
   "id": "86716459",
   "metadata": {},
   "source": [
    "### Holdout Performance"
   ]
  },
  {
   "cell_type": "code",
   "execution_count": 23,
   "id": "6ecaf7df",
   "metadata": {},
   "outputs": [
    {
     "data": {
      "text/plain": [
       "0.7419799931010693"
      ]
     },
     "execution_count": 23,
     "metadata": {},
     "output_type": "execute_result"
    }
   ],
   "source": [
    "accuracy_score(y_test, tf_nb.predict(X_test))"
   ]
  }
 ],
 "metadata": {
  "kernelspec": {
   "display_name": "Python 3 (ipykernel)",
   "language": "python",
   "name": "python3"
  },
  "language_info": {
   "codemirror_mode": {
    "name": "ipython",
    "version": 3
   },
   "file_extension": ".py",
   "mimetype": "text/x-python",
   "name": "python",
   "nbconvert_exporter": "python",
   "pygments_lexer": "ipython3",
   "version": "3.9.13"
  }
 },
 "nbformat": 4,
 "nbformat_minor": 5
}
