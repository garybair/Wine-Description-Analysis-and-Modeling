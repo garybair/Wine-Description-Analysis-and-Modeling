{
 "cells": [
  {
   "cell_type": "markdown",
   "id": "685b7ac9",
   "metadata": {},
   "source": [
    "# Data Acquisition\n",
    "\n",
    "from time import sleep\n",
    "from bs4 import BeautifulSoup\n",
    "import time\n",
    "import requests\n",
    "import json\n",
    "import unicodedata"
   ]
  },
  {
   "cell_type": "code",
   "execution_count": 1,
   "id": "2a33b22b",
   "metadata": {},
   "outputs": [],
   "source": [
    "#import the libraries needed for web scraping\n",
    "from time import sleep\n",
    "from bs4 import BeautifulSoup\n",
    "import time\n",
    "import requests\n",
    "import json\n",
    "import unicodedata"
   ]
  },
  {
   "cell_type": "markdown",
   "id": "4cc6d34d",
   "metadata": {},
   "source": [
    "### Using the BeautifulSuop scarper api to scrape the data from wine.com, we will scrape the landing page and iterate through the win varieties and scrape results page and product page an placing it into a dictionary for futher analysis "
   ]
  },
  {
   "cell_type": "code",
   "execution_count": null,
   "id": "ad0ced6e",
   "metadata": {},
   "outputs": [],
   "source": [
    "#Creating the scraper \n",
    "class Scraper:\n",
    "#initializing the web scaper for extracting data from wine.com\n",
    "    def __init__(self, pullQuantity = 10000):\n",
    "        self.session = requests.Session()\n",
    "        self.startTime = time.time()\n",
    "        self.pullQuantity = pullQuantity\n",
    "        self.staticURL = 'https://www.wine.com'\n",
    "        self.siteMapDirectory = '../../data/wine-com/'\n",
    "        self.filePath = '../../data/wine-com/raw/{}.txt'.format(self.startTime)\n",
    "        self.headerData = {'user-agent':'Mozilla/5.0 (Windows NT 10.0; Win64; x64) AppleWebKit/537.36 (KHTML, like Gecko) Chrome/89.0.4389.82 Safari/537.36'}\n",
    "\n",
    "       #determine if sitemap exists, initialize if not\n",
    "        try:\n",
    "            with open(self.siteMapDirectory + '/site-map.json', 'r') as fileObj:\n",
    "                self.siteMap = json.load(fileObj)\n",
    "        except:\n",
    "            self.siteMap = {}\n",
    "        \n",
    "        #generate session file - validated\n",
    "        with open(self.filePath,'w') as fileObj:\n",
    "            fileObj.write('product_url|product_name|product_variety|product_origin|product_family|user_avg_rating|user_rating_count|product_description|product_reviews\\n')  \n",
    "        fileObj.close()\n",
    "            \n",
    "    def scrape(self):\n",
    "        #determine landing page map exists\n",
    "        if len(self.siteMap) == 0:\n",
    "            self.scrapeLandingPage()\n",
    "            self.parseLandingPage()\n",
    "        #iterate through wine varieties\n",
    "        sleep(2)\n",
    "        for key, value in self.siteMap['landingPageLinks'].items():\n",
    "            self.searchVarietal = key\n",
    "            self.searchURL = value\n",
    "            self.scrapeParseResultsPage()\n",
    "            #write sitemap to JSON file\n",
    "            with open(self.siteMapDirectory + '/site-map.json', 'w') as fileObj:\n",
    "                json.dump(self.siteMap, fileObj)\n",
    "            fileObj.close()\n",
    "\n",
    "    # validated\n",
    "    def scrapeLandingPage(self):\n",
    "        landingPageResponse = self.session.get(self.staticURL, headers = self.headerData)\n",
    "        self.landingPageSoup = BeautifulSoup(landingPageResponse.content, \"html.parser\")\n",
    "    \n",
    "    #validated\n",
    "    def parseLandingPage(self):\n",
    "        self.siteMap['landingPageLinks'] = dict()\n",
    "        landingPageVarietalsLevel0 = self.landingPageSoup.find('section', attrs = {'class': 'mainNav_section mainNav_section-varietal mainNavList_item-level0'})\n",
    "        for row in landingPageVarietalsLevel0.find_all('li', attrs = {'class': 'mainNavList_item mainNavList_item-level2'}):\n",
    "            a_tag = row.find('a', attrs = {'class': 'mainNavList_itemLink'})\n",
    "            self.varietalName = a_tag.text\n",
    "            self.varietalLink = a_tag.get('href')\n",
    "            self.siteMap['landingPageLinks'][self.varietalName] = self.staticURL + self.varietalLink\n",
    "        #for some reason boxed sets and glassware links are present in varietals tab\n",
    "        del self.siteMap['landingPageLinks']['Wine Tasting Sets']\n",
    "        del self.siteMap['landingPageLinks']['Glassware & Accessories']\n",
    "    \n",
    "    def scrapeParseResultsPage(self):\n",
    "        if self.searchVarietal not in self.siteMap:\n",
    "            self.siteMap[self.searchVarietal] = dict()\n",
    "        \n",
    "        self.pullCount = 0\n",
    "        while self.pullCount < self.pullQuantity and self.searchURL is not None:\n",
    "            print(self.searchURL)\n",
    "            resultsPageResponse = self.session.get(self.searchURL, headers = self.headerData)\n",
    "            self.resultsPageSoup = BeautifulSoup(resultsPageResponse.content, \"html.parser\")\n",
    "            resultsContainer = self.resultsPageSoup.find('ul', attrs = {'class':'listGridLayout_list'})\n",
    "            for row in resultsContainer.find_all('div', attrs = {'class': 'listGridItemInfo'}):\n",
    "                productShortLink = row.a['href']\n",
    "                self.productURL = self.staticURL + productShortLink\n",
    "                if self.productURL not in self.siteMap[self.searchVarietal]:\n",
    "                    self.scrapeProductPage()\n",
    "                    self.parseProductPage()\n",
    "                else:\n",
    "                    pass\n",
    "            if self.pullCount < self.pullQuantity:\n",
    "                try:\n",
    "                    paginationContainer = self.resultsPageSoup.find('div', attrs = {'class':'nextPagePagination'})\n",
    "                    self.searchURL = paginationContainer.a['href']\n",
    "                except Exception:\n",
    "                    self.searchURL = None\n",
    "            \n",
    "    #validated\n",
    "    def scrapeProductPage(self):\n",
    "        if self.productURL not in self.siteMap[self.searchVarietal]:\n",
    "            self.siteMap[self.searchVarietal][self.productURL] = dict()\n",
    "        \n",
    "        try:\n",
    "            productPageResponse = self.session.get(self.productURL, headers = self.headerData)\n",
    "            self.productPageSoup = BeautifulSoup(productPageResponse.content, \"html.parser\")\n",
    "            \n",
    "            self.siteMap[self.searchVarietal][self.productURL]['scrapeStatus'] = 'success'\n",
    "        except Exception:\n",
    "            self.siteMap[self.searchVarietal][self.productURL]['scrapeStatus'] = 'fail'\n",
    "            \n",
    "    #validated\n",
    "    def parseProductPage(self):\n",
    "        try:\n",
    "            #generate dictionary for parsed fields\n",
    "            self.prodData = dict()\n",
    "            \n",
    "            #product info\n",
    "            prodInfo = self.productPageSoup.find('div', attrs = {'class':'pipInfo'})\n",
    "            self.prodData['Product_Name'] = prodInfo.find('h1', attrs = {'class':'pipName'}).text\n",
    "            self.prodData['Product_Variety'] = prodInfo.find('span', attrs = {'class':'prodItemInfo_varietal'}).text\n",
    "            self.prodData['Product_Origin'] = prodInfo.find('span', attrs = {'class':'prodItemInfo_originText'}).text\n",
    "            \n",
    "            #product attributes\n",
    "            self.prodData['Product_Family'] = self.searchVarietal\n",
    "            \n",
    "            try:\n",
    "                #average user product ratings\n",
    "                self.prodData['User_Avg_Rating'] = self.productPageSoup.find('span', attrs = {'class':'averageRating_average'}).text\n",
    "            except Exception:\n",
    "                self.prodData['User_Avg_Rating'] = 'nan'\n",
    "                \n",
    "            try:\n",
    "                #product ratings count\n",
    "                self.prodData['User_Rating_Count'] = self.productPageSoup.find('span', attrs = {'class':'averageRating_number'}).text\n",
    "            except Exception:\n",
    "                self.prodData['User_Rating_Count'] = 'nan'\n",
    "                \n",
    "            try:\n",
    "                #winemaker notes\n",
    "                prodNotes = self.productPageSoup.find('div', attrs = {'class':'pipWineNotes_copy viewMoreModule js-expanded'})\n",
    "                wineMakerNotes = prodNotes.find('div', attrs = {'class': 'viewMoreModule_text'}).text\n",
    "                wineMakerNotes = wineMakerNotes.replace('\\n', ' ')\n",
    "                wineMakerNotes = unicodedata.normalize('NFKD', wineMakerNotes)\n",
    "                self.prodData['Winemaker_Description'] = wineMakerNotes\n",
    "            except Exception:\n",
    "                self.prodData['Winemaker_Description'] = 'nan'\n",
    "            \n",
    "            try:\n",
    "                #professional reviews\n",
    "                prodProfessionalReviews = self.productPageSoup.find('div', attrs = {'class': 'viewMoreModule_text viewMoreModule-reviews'})\n",
    "                self.prodData['Critical_Reviews'] = []\n",
    "                for row in prodProfessionalReviews.find_all('div', attrs = {'class': 'pipProfessionalReviews_list'}):\n",
    "                    reviewer_name = row.find('div', attrs = {'class': 'pipProfessionalReviews_authorName'}).text\n",
    "                    reviewer_rating = row.find('span', attrs = {'class': 'wineRatings_rating'}).text\n",
    "                    reviewer_text = row.find('div', attrs = {'class': 'pipSecContent_copy'}).text\n",
    "                    reviewer_text = reviewer_text.replace('\\n', ' ')\n",
    "                    reviewer_text = unicodedata.normalize('NFKD', reviewer_text)                             \n",
    "                    self.prodData['Critical_Reviews'].append(f'({reviewer_name}; {reviewer_rating}; {reviewer_text})')\n",
    "            except Exception:\n",
    "                print('review parse failed')\n",
    "                self.prodData['Critical_Reviews'] = 'nan'\n",
    "\n",
    "            #write data to disk\n",
    "            self.writeProductData()\n",
    "            self.siteMap[self.searchVarietal][self.productURL]['parseStatus'] = 'success'\n",
    "        except Exception:\n",
    "            self.siteMap[self.searchVarietal][self.productURL]['parseStatus'] = 'fail'\n",
    "            print('{} parse failed'.format(self.productURL))\n",
    "\n",
    "    #validated\n",
    "    def writeProductData(self):\n",
    "        try:\n",
    "            with open(self.filePath, 'a') as file:\n",
    "                file.write('{}|{}|{}|{}|{}|{}|{}|{}|{}\\n'.format(self.productURL,\n",
    "                                                                 self.prodData['Product_Name'],\n",
    "                                                                 self.prodData['Product_Variety'],\n",
    "                                                                 self.prodData['Product_Origin'],\n",
    "                                                                 self.prodData['Product_Family'],\n",
    "                                                                 self.prodData['User_Avg_Rating'],\n",
    "                                                                 self.prodData['User_Rating_Count'],\n",
    "                                                                 self.prodData['Winemaker_Description'],\n",
    "                                                                 self.prodData['Critical_Reviews']))\n",
    "            file.close()\n",
    "            self.pullCount += 1\n",
    "            self.siteMap[self.searchVarietal][self.productURL]['writeStatus'] = 'success'\n",
    "        except Exception:\n",
    "            self.siteMap[self.searchVarietal][self.productURL]['writeStatus'] = 'fail'\n"
   ]
  },
  {
   "cell_type": "code",
   "execution_count": null,
   "id": "8265d6dc",
   "metadata": {},
   "outputs": [],
   "source": [
    "wine_com_scraper = Scraper()\n",
    "wine_com_scraper.scrape()"
   ]
  },
  {
   "cell_type": "markdown",
   "id": "629ae7c3",
   "metadata": {},
   "source": [
    "# Preprocessing - Wine.com\n",
    "\n",
    "### Summary\n",
    "The code contained within this file aims to reconcile and process data scraped from Wine.com.\n",
    "\n",
    "This implementation observes the following considerations:\n",
    "1. Given that scrapes can and will fail, this script assumes that all files present in the raw folder are to be processed and combined into a master record. Redundant records and processing are prevented through the use of a site map that tracks successfully parsed and written pages.\n",
    "2. Ideally, this data would best be stored in a database with a mininum of two tables, product info and critical reviews, however as this analysis is predominantly interested in review data, a SQL style left join has been deemed adequate for this analysis despite the effect on the overall file size. This is a case of not letting perfect get in the way of good enough or having an \"agile\" mindset.\n",
    "3. The preprocess_text.py file contains the preprocess_text Class to be used in pipeline when addressing novel data."
   ]
  },
  {
   "cell_type": "code",
   "execution_count": 9,
   "id": "7cb060e7",
   "metadata": {},
   "outputs": [],
   "source": [
    "#imports\n",
    "import numpy as np\n",
    "import pandas as pd\n",
    "import os\n",
    "import re\n",
    "import string\n",
    "import time\n",
    "from sklearn.base import TransformerMixin\n",
    "from nltk.corpus import stopwords"
   ]
  },
  {
   "cell_type": "code",
   "execution_count": 2,
   "id": "8708adaa",
   "metadata": {},
   "outputs": [],
   "source": [
    "#set directory locations\n",
    "current_directory = os.getcwd()\n",
    "parent_directory = os.path.dirname(current_directory)\n",
    "raw_folder = parent_directory + '/data/wine-com/raw/'\n",
    "processed_folder = parent_directory + '/data/wine-com/processed/'"
   ]
  },
  {
   "cell_type": "markdown",
   "id": "2f5e6897",
   "metadata": {},
   "source": [
    "### Load Data"
   ]
  },
  {
   "cell_type": "code",
   "execution_count": 5,
   "id": "3b02838a",
   "metadata": {
    "scrolled": false
   },
   "outputs": [
    {
     "name": "stdout",
     "output_type": "stream",
     "text": [
      "1677386048.5362737.txt loading\n",
      "1677417882.7459548.txt loading\n"
     ]
    }
   ],
   "source": [
    "#instantiate data structure to hold initial raw data/critical critical reviews\n",
    "data = dict()\n",
    "review_data = dict()\n",
    "#iterate through wine.com raw data folder\n",
    "for filename in os.listdir(raw_folder):\n",
    "    #determine if file has already been processed - if true pass\n",
    "    if filename not in os.listdir(processed_folder):\n",
    "        print(f'{filename} loading')\n",
    "        data[filename] = dict()\n",
    "        review_data[filename] = dict()\n",
    "        #open file readlines to raw dictionary\n",
    "        with open(raw_folder + filename, newline='\\r\\n') as file:\n",
    "            header = next(file)\n",
    "            data[filename]['lines'] = file.readlines()\n",
    "        #create list to hold parsed records\n",
    "        data[filename]['data'] = []\n",
    "        review_data[filename]['data'] = []\n",
    "        #iterate through records to parse raw data\n",
    "        for line in data[filename]['lines']:\n",
    "            values = line.strip().split('|')\n",
    "            #while redundancy is built into the scraper to ensure that the correct format is achieved,\n",
    "            #this prevents rogue html from causing a bad data load\n",
    "            if len(values) == 9:\n",
    "                row = {\n",
    "                    'product_url': values[0],\n",
    "                    'product_name': values[1],\n",
    "                    'product_variety': values[2],\n",
    "                    'product_origin': values[3],\n",
    "                    'product_family': values[4],\n",
    "                    'user_avg_rating': values[5],\n",
    "                    'user_rating_count': values[6],\n",
    "                    'winemaker_description': values[7]\n",
    "                    #'critical_reviews' is parsed loaded below\n",
    "                }\n",
    "                #write to list to be loaded to dataframe\n",
    "                data[filename]['data'].append(row)\n",
    "                \n",
    "                #parse critical reviews - should be loaded as list\n",
    "                reviews = values[8].split(';')\n",
    "                for review in reviews:\n",
    "                    try:\n",
    "                        reviewer_name, reviewer_rating, reviewer_text = review.split(',')\n",
    "                        review = {\n",
    "                        'product_url': values[0],\n",
    "                        'reviewer_name': reviewer_name,\n",
    "                        'reviewer_rating': reviewer_rating,\n",
    "                        'reviewer_text': reviewer_text\n",
    "                        }\n",
    "                        \n",
    "                        review_data[filename]['data'].append(review)\n",
    "                    except Exception:\n",
    "                        pass      \n",
    "                    \n",
    "        # Convert the list of dictionaries to a Pandas DataFrame\n",
    "        data[filename]['unmerged_df'] = pd.DataFrame(data[filename]['data'])\n",
    "        review_data[filename]['df'] = pd.DataFrame(review_data[filename]['data'])\n",
    "        \n",
    "        #perform sql-style left join of review data onto main df\n",
    "        data[filename]['merged_df'] = pd.merge(data[filename]['unmerged_df'], \n",
    "                                               review_data[filename]['df'], \n",
    "                                               on='product_url', \n",
    "                                               how='left')"
   ]
  },
  {
   "cell_type": "markdown",
   "id": "8ad138e2",
   "metadata": {},
   "source": [
    "We created two .txt file one for raw data and another for ciritcal review  "
   ]
  },
  {
   "cell_type": "markdown",
   "id": "10d47afe",
   "metadata": {},
   "source": [
    "### Data Preprocessing"
   ]
  },
  {
   "cell_type": "markdown",
   "id": "3947addd",
   "metadata": {},
   "source": [
    "Using the transformerMixin to preprocess text data by removing stopwords, punctuation, and converting text to lowercase."
   ]
  },
  {
   "cell_type": "code",
   "execution_count": 19,
   "id": "b881b2dd",
   "metadata": {},
   "outputs": [],
   "source": [
    "# a text preprocessor class is created to manage preprocessing of text fields\n",
    "# inheriting from TransformerMixin of Sklearn, this should allow for tying into large sklearn pipeline\n",
    "class preprocess_text(TransformerMixin):\n",
    "    def __init__(self):\n",
    "        self.stop_words = set(stopwords.words('english'))\n",
    "    \n",
    "    def transform(self, X):\n",
    "        if isinstance(X, pd.Series):\n",
    "            #standardize type\n",
    "            X = X.astype(str)\n",
    "            # lower text\n",
    "            X = X.str.lower()\n",
    "            # remove punctuation\n",
    "            X = X.str.replace('\\W+', ' ', regex = True)\n",
    "            # tokenize text into individual words\n",
    "            X = X.str.split()\n",
    "            # remove stopwords\n",
    "            X = X.apply(lambda x: [word for word in x if word not in (self.stop_words)])\n",
    "            # join words\n",
    "            X = X.apply(lambda x: ' '.join(x))\n",
    "            return X\n",
    "        elif isinstance(X, pd.DataFrame):\n",
    "            colnames = X.columns\n",
    "            for col in colnames:\n",
    "                #standardize type\n",
    "                X[col] = X[col].astype(str)\n",
    "                # convert text to lowercase\n",
    "                X[col] = X[col].str.lower()\n",
    "                # remove punctuation\n",
    "                X[col] = X[col].str.replace('\\W+', ' ', regex = True)\n",
    "                # tokenize text into individual words\n",
    "                X[col] = X[col].str.split()\n",
    "                # remove stopwords\n",
    "                X[col] = X[col].apply(lambda x: [word for word in x if word not in (self.stop_words)])\n",
    "                # join words\n",
    "                X[col] = X[col].apply(lambda x: ' '.join(x))\n",
    "            return X\n",
    "        else:\n",
    "            return X\n",
    "    \n",
    "    def fit(self, X, y=None):\n",
    "        return self"
   ]
  },
  {
   "cell_type": "markdown",
   "id": "536bb781",
   "metadata": {},
   "source": [
    "### Clean & Write Data"
   ]
  },
  {
   "cell_type": "markdown",
   "id": "e89f23e4",
   "metadata": {},
   "source": [
    "applying the processor to the winemaker_description and reviewer_text and saving it to a .txt "
   ]
  },
  {
   "cell_type": "code",
   "execution_count": 20,
   "id": "6bdb3fa2",
   "metadata": {
    "scrolled": false
   },
   "outputs": [],
   "source": [
    "processor = preprocess_text()\n",
    "\n",
    "output_path = processed_folder + f'{time.time()}.txt'\n",
    "\n",
    "for filename in data:\n",
    "    data[filename]['merged_df']['winemaker_description'] = processor.transform(data[filename]['merged_df']['winemaker_description'])\n",
    "    data[filename]['merged_df']['reviewer_text'] = processor.transform(data[filename]['merged_df']['reviewer_text'])\n",
    "    data[filename]['merged_df'].to_csv(output_path,\n",
    "                                       mode='a',\n",
    "                                       header = not os.path.exists(output_path),\n",
    "                                       sep = '|',\n",
    "                                       line_terminator = '\\r\\n',\n",
    "                                       index=False)"
   ]
  },
  {
   "cell_type": "markdown",
   "id": "694c83fc",
   "metadata": {},
   "source": [
    "# Descriptive Statistics"
   ]
  },
  {
   "cell_type": "code",
   "execution_count": 1,
   "id": "416740f9",
   "metadata": {},
   "outputs": [],
   "source": [
    "#imports\n",
    "import numpy as np\n",
    "import pandas as pd\n",
    "import os\n",
    "import matplotlib.pyplot as plt\n",
    "import seaborn as sns\n",
    "\n",
    "from collections import Counter, defaultdict"
   ]
  },
  {
   "cell_type": "code",
   "execution_count": 2,
   "id": "eb747d85",
   "metadata": {},
   "outputs": [],
   "source": [
    "#directory locations\n",
    "current_directory = os.getcwd()\n",
    "parent_directory = os.path.dirname(current_directory)\n",
    "processed_folder = parent_directory + '/data/wine-com/processed/'"
   ]
  },
  {
   "cell_type": "markdown",
   "id": "9bb72b73",
   "metadata": {},
   "source": [
    "### Load Data"
   ]
  },
  {
   "cell_type": "code",
   "execution_count": 3,
   "id": "a99e87da",
   "metadata": {},
   "outputs": [],
   "source": [
    "#Loading the data with pandas CSV with vertical bar separator \"|\"\n",
    "df = pd.read_csv(processed_folder + '1677432096.083379.txt', sep = '|')"
   ]
  },
  {
   "cell_type": "code",
   "execution_count": 4,
   "id": "b3288527",
   "metadata": {},
   "outputs": [
    {
     "data": {
      "text/html": [
       "<div>\n",
       "<style scoped>\n",
       "    .dataframe tbody tr th:only-of-type {\n",
       "        vertical-align: middle;\n",
       "    }\n",
       "\n",
       "    .dataframe tbody tr th {\n",
       "        vertical-align: top;\n",
       "    }\n",
       "\n",
       "    .dataframe thead th {\n",
       "        text-align: right;\n",
       "    }\n",
       "</style>\n",
       "<table border=\"1\" class=\"dataframe\">\n",
       "  <thead>\n",
       "    <tr style=\"text-align: right;\">\n",
       "      <th></th>\n",
       "      <th>product_url</th>\n",
       "      <th>product_name</th>\n",
       "      <th>product_variety</th>\n",
       "      <th>product_origin</th>\n",
       "      <th>product_family</th>\n",
       "      <th>user_avg_rating</th>\n",
       "      <th>user_rating_count</th>\n",
       "      <th>winemaker_description</th>\n",
       "      <th>reviewer_name</th>\n",
       "      <th>reviewer_rating</th>\n",
       "      <th>reviewer_text</th>\n",
       "    </tr>\n",
       "  </thead>\n",
       "  <tbody>\n",
       "    <tr>\n",
       "      <th>0</th>\n",
       "      <td>https://www.wine.com/product/proyecto-salvaje-...</td>\n",
       "      <td>Proyecto Salvaje del Moncayo Garnacha 2020</td>\n",
       "      <td>Grenache</td>\n",
       "      <td>from Navarra, Spain</td>\n",
       "      <td>Red Wine</td>\n",
       "      <td>4.8</td>\n",
       "      <td>19</td>\n",
       "      <td>bright burgundy wine medium depth tobacco wild...</td>\n",
       "      <td>Decanter</td>\n",
       "      <td>92.0</td>\n",
       "      <td>part proyecto garnachas de españa collection s...</td>\n",
       "    </tr>\n",
       "    <tr>\n",
       "      <th>1</th>\n",
       "      <td>https://www.wine.com/product/proyecto-salvaje-...</td>\n",
       "      <td>Proyecto Salvaje del Moncayo Garnacha 2020</td>\n",
       "      <td>Grenache</td>\n",
       "      <td>from Navarra, Spain</td>\n",
       "      <td>Red Wine</td>\n",
       "      <td>4.8</td>\n",
       "      <td>19</td>\n",
       "      <td>bright burgundy wine medium depth tobacco wild...</td>\n",
       "      <td>Wilfred Wong of Wine.com</td>\n",
       "      <td>91.0</td>\n",
       "      <td>commentary 2020 proyecto garnachas salvaje del...</td>\n",
       "    </tr>\n",
       "    <tr>\n",
       "      <th>2</th>\n",
       "      <td>https://www.wine.com/product/domaine-du-terme-...</td>\n",
       "      <td>Domaine du Terme Gigondas 2019</td>\n",
       "      <td>Rhone Red Blends</td>\n",
       "      <td>from Gigondas, Rhone, France</td>\n",
       "      <td>Red Wine</td>\n",
       "      <td>4.0</td>\n",
       "      <td>17</td>\n",
       "      <td>NaN</td>\n",
       "      <td>Wine &amp; Spirits</td>\n",
       "      <td>96.0</td>\n",
       "      <td>spectacular gigondas wine red cherry flavors s...</td>\n",
       "    </tr>\n",
       "    <tr>\n",
       "      <th>3</th>\n",
       "      <td>https://www.wine.com/product/domaine-du-terme-...</td>\n",
       "      <td>Domaine du Terme Gigondas 2019</td>\n",
       "      <td>Rhone Red Blends</td>\n",
       "      <td>from Gigondas, Rhone, France</td>\n",
       "      <td>Red Wine</td>\n",
       "      <td>4.0</td>\n",
       "      <td>17</td>\n",
       "      <td>NaN</td>\n",
       "      <td>Decanter</td>\n",
       "      <td>94.0</td>\n",
       "      <td>straight first sniff clear going special soari...</td>\n",
       "    </tr>\n",
       "    <tr>\n",
       "      <th>4</th>\n",
       "      <td>https://www.wine.com/product/scott-harvey-moun...</td>\n",
       "      <td>Scott Harvey Mountain Selection Zinfandel 2019</td>\n",
       "      <td>Zinfandel</td>\n",
       "      <td>from Amador, Sierra Foothills, California</td>\n",
       "      <td>Red Wine</td>\n",
       "      <td>4.3</td>\n",
       "      <td>39</td>\n",
       "      <td>fruit forward rich full flavors expressing var...</td>\n",
       "      <td>Wine Enthusiast</td>\n",
       "      <td>93.0</td>\n",
       "      <td>fresh smelling full bodied flavor packed wine ...</td>\n",
       "    </tr>\n",
       "  </tbody>\n",
       "</table>\n",
       "</div>"
      ],
      "text/plain": [
       "                                         product_url  \\\n",
       "0  https://www.wine.com/product/proyecto-salvaje-...   \n",
       "1  https://www.wine.com/product/proyecto-salvaje-...   \n",
       "2  https://www.wine.com/product/domaine-du-terme-...   \n",
       "3  https://www.wine.com/product/domaine-du-terme-...   \n",
       "4  https://www.wine.com/product/scott-harvey-moun...   \n",
       "\n",
       "                                     product_name   product_variety  \\\n",
       "0      Proyecto Salvaje del Moncayo Garnacha 2020          Grenache   \n",
       "1      Proyecto Salvaje del Moncayo Garnacha 2020          Grenache   \n",
       "2                  Domaine du Terme Gigondas 2019  Rhone Red Blends   \n",
       "3                  Domaine du Terme Gigondas 2019  Rhone Red Blends   \n",
       "4  Scott Harvey Mountain Selection Zinfandel 2019         Zinfandel   \n",
       "\n",
       "                               product_origin product_family  user_avg_rating  \\\n",
       "0                         from Navarra, Spain       Red Wine              4.8   \n",
       "1                         from Navarra, Spain       Red Wine              4.8   \n",
       "2                from Gigondas, Rhone, France       Red Wine              4.0   \n",
       "3                from Gigondas, Rhone, France       Red Wine              4.0   \n",
       "4   from Amador, Sierra Foothills, California       Red Wine              4.3   \n",
       "\n",
       "   user_rating_count                              winemaker_description  \\\n",
       "0                 19  bright burgundy wine medium depth tobacco wild...   \n",
       "1                 19  bright burgundy wine medium depth tobacco wild...   \n",
       "2                 17                                                NaN   \n",
       "3                 17                                                NaN   \n",
       "4                 39  fruit forward rich full flavors expressing var...   \n",
       "\n",
       "              reviewer_name  reviewer_rating  \\\n",
       "0                  Decanter             92.0   \n",
       "1  Wilfred Wong of Wine.com             91.0   \n",
       "2            Wine & Spirits             96.0   \n",
       "3                  Decanter             94.0   \n",
       "4           Wine Enthusiast             93.0   \n",
       "\n",
       "                                       reviewer_text  \n",
       "0  part proyecto garnachas de españa collection s...  \n",
       "1  commentary 2020 proyecto garnachas salvaje del...  \n",
       "2  spectacular gigondas wine red cherry flavors s...  \n",
       "3  straight first sniff clear going special soari...  \n",
       "4  fresh smelling full bodied flavor packed wine ...  "
      ]
     },
     "execution_count": 4,
     "metadata": {},
     "output_type": "execute_result"
    }
   ],
   "source": [
    "#Inspecting the data using .head() \n",
    "df.head()"
   ]
  },
  {
   "cell_type": "code",
   "execution_count": 5,
   "id": "ee8ef1b2",
   "metadata": {},
   "outputs": [
    {
     "name": "stdout",
     "output_type": "stream",
     "text": [
      "<class 'pandas.core.frame.DataFrame'>\n",
      "RangeIndex: 20988 entries, 0 to 20987\n",
      "Data columns (total 11 columns):\n",
      " #   Column                 Non-Null Count  Dtype  \n",
      "---  ------                 --------------  -----  \n",
      " 0   product_url            20988 non-null  object \n",
      " 1   product_name           20988 non-null  object \n",
      " 2   product_variety        20988 non-null  object \n",
      " 3   product_origin         20986 non-null  object \n",
      " 4   product_family         20988 non-null  object \n",
      " 5   user_avg_rating        20988 non-null  float64\n",
      " 6   user_rating_count      20988 non-null  int64  \n",
      " 7   winemaker_description  19337 non-null  object \n",
      " 8   reviewer_name          14537 non-null  object \n",
      " 9   reviewer_rating        14537 non-null  float64\n",
      " 10  reviewer_text          14494 non-null  object \n",
      "dtypes: float64(2), int64(1), object(8)\n",
      "memory usage: 1.8+ MB\n"
     ]
    }
   ],
   "source": [
    "# using the .info() to get a summary of the dataframe object \n",
    "df.info()"
   ]
  },
  {
   "cell_type": "markdown",
   "id": "1a684e64",
   "metadata": {},
   "source": [
    "To aid descriptive analysis, two subsets of this dataframe will be created based on unique winemaker descriptions and unique critical reviews."
   ]
  },
  {
   "cell_type": "code",
   "execution_count": 8,
   "id": "ed630e12",
   "metadata": {},
   "outputs": [],
   "source": [
    "#Creating a new dataframe that has only one copie of product_name \n",
    "description_df = df[['product_name', \n",
    "description_df = df[['product_name', \n",
    "                     'product_family', \n",
    "                     'user_avg_rating', \n",
    "                     'user_rating_count', \n",
    "                     'winemaker_description']].drop_duplicates(subset = ['product_name'])"
   ]
  },
  {
   "cell_type": "code",
   "execution_count": 9,
   "id": "54209f86",
   "metadata": {},
   "outputs": [],
   "source": [
    "# Creating a new dataframe that only has rewiew data \n",
    "review_df = df[['product_name', \n",
    "                'product_family', \n",
    "                'reviewer_name', \n",
    "                'reviewer_rating', \n",
    "                'reviewer_text']]"
   ]
  },
  {
   "cell_type": "markdown",
   "id": "63c6d736",
   "metadata": {},
   "source": [
    "### Basic Descriptive Statistics"
   ]
  },
  {
   "cell_type": "code",
   "execution_count": 10,
   "id": "132ead17",
   "metadata": {},
   "outputs": [
    {
     "data": {
      "text/plain": [
       "product_url              13672\n",
       "product_name             13672\n",
       "product_variety            134\n",
       "product_origin             441\n",
       "product_family               5\n",
       "user_avg_rating             35\n",
       "user_rating_count          270\n",
       "winemaker_description    12258\n",
       "reviewer_name               16\n",
       "reviewer_rating             13\n",
       "reviewer_text            14070\n",
       "dtype: int64"
      ]
     },
     "execution_count": 10,
     "metadata": {},
     "output_type": "execute_result"
    }
   ],
   "source": [
    "df.nunique()"
   ]
  },
  {
   "cell_type": "markdown",
   "id": "b5f2c0ff",
   "metadata": {},
   "source": [
    "Of note, this dataset contains 13, 672 unique products across 134 vartietals and 5 distinct wine types. On a posotive note for this analysis, descriptions provided by wine makers do not outnumber the quantity of professional reviews.\n",
    "\n",
    "To ensure that sufficient coverage is present across wine types, the above statistics will be recomputed for each unique wine type."
   ]
  },
  {
   "cell_type": "code",
   "execution_count": 11,
   "id": "e92a62a5",
   "metadata": {
    "scrolled": false
   },
   "outputs": [
    {
     "data": {
      "text/html": [
       "<div>\n",
       "<style scoped>\n",
       "    .dataframe tbody tr th:only-of-type {\n",
       "        vertical-align: middle;\n",
       "    }\n",
       "\n",
       "    .dataframe tbody tr th {\n",
       "        vertical-align: top;\n",
       "    }\n",
       "\n",
       "    .dataframe thead tr th {\n",
       "        text-align: left;\n",
       "    }\n",
       "\n",
       "    .dataframe thead tr:last-of-type th {\n",
       "        text-align: right;\n",
       "    }\n",
       "</style>\n",
       "<table border=\"1\" class=\"dataframe\">\n",
       "  <thead>\n",
       "    <tr>\n",
       "      <th></th>\n",
       "      <th colspan=\"8\" halign=\"left\">user_avg_rating</th>\n",
       "      <th colspan=\"8\" halign=\"left\">user_rating_count</th>\n",
       "    </tr>\n",
       "    <tr>\n",
       "      <th></th>\n",
       "      <th>count</th>\n",
       "      <th>mean</th>\n",
       "      <th>std</th>\n",
       "      <th>min</th>\n",
       "      <th>25%</th>\n",
       "      <th>50%</th>\n",
       "      <th>75%</th>\n",
       "      <th>max</th>\n",
       "      <th>count</th>\n",
       "      <th>mean</th>\n",
       "      <th>std</th>\n",
       "      <th>min</th>\n",
       "      <th>25%</th>\n",
       "      <th>50%</th>\n",
       "      <th>75%</th>\n",
       "      <th>max</th>\n",
       "    </tr>\n",
       "    <tr>\n",
       "      <th>product_family</th>\n",
       "      <th></th>\n",
       "      <th></th>\n",
       "      <th></th>\n",
       "      <th></th>\n",
       "      <th></th>\n",
       "      <th></th>\n",
       "      <th></th>\n",
       "      <th></th>\n",
       "      <th></th>\n",
       "      <th></th>\n",
       "      <th></th>\n",
       "      <th></th>\n",
       "      <th></th>\n",
       "      <th></th>\n",
       "      <th></th>\n",
       "      <th></th>\n",
       "    </tr>\n",
       "  </thead>\n",
       "  <tbody>\n",
       "    <tr>\n",
       "      <th>Champagne &amp; Sparkling</th>\n",
       "      <td>1067.0</td>\n",
       "      <td>2.192690</td>\n",
       "      <td>2.038399</td>\n",
       "      <td>0.0</td>\n",
       "      <td>0.0</td>\n",
       "      <td>3.5</td>\n",
       "      <td>4.1</td>\n",
       "      <td>5.0</td>\n",
       "      <td>1067.0</td>\n",
       "      <td>49.145267</td>\n",
       "      <td>135.037534</td>\n",
       "      <td>0.0</td>\n",
       "      <td>0.0</td>\n",
       "      <td>7.0</td>\n",
       "      <td>40.5</td>\n",
       "      <td>1884.0</td>\n",
       "    </tr>\n",
       "    <tr>\n",
       "      <th>Dessert, Sherry, &amp; Port</th>\n",
       "      <td>405.0</td>\n",
       "      <td>2.373827</td>\n",
       "      <td>2.071400</td>\n",
       "      <td>0.0</td>\n",
       "      <td>0.0</td>\n",
       "      <td>3.6</td>\n",
       "      <td>4.2</td>\n",
       "      <td>5.0</td>\n",
       "      <td>405.0</td>\n",
       "      <td>32.758025</td>\n",
       "      <td>73.199245</td>\n",
       "      <td>0.0</td>\n",
       "      <td>0.0</td>\n",
       "      <td>9.0</td>\n",
       "      <td>31.0</td>\n",
       "      <td>619.0</td>\n",
       "    </tr>\n",
       "    <tr>\n",
       "      <th>Red Wine</th>\n",
       "      <td>7752.0</td>\n",
       "      <td>1.192363</td>\n",
       "      <td>1.869361</td>\n",
       "      <td>0.0</td>\n",
       "      <td>0.0</td>\n",
       "      <td>0.0</td>\n",
       "      <td>3.6</td>\n",
       "      <td>5.0</td>\n",
       "      <td>7752.0</td>\n",
       "      <td>7.779799</td>\n",
       "      <td>35.387293</td>\n",
       "      <td>0.0</td>\n",
       "      <td>0.0</td>\n",
       "      <td>0.0</td>\n",
       "      <td>6.0</td>\n",
       "      <td>1849.0</td>\n",
       "    </tr>\n",
       "    <tr>\n",
       "      <th>Rosé Wine</th>\n",
       "      <td>415.0</td>\n",
       "      <td>1.305301</td>\n",
       "      <td>1.929887</td>\n",
       "      <td>0.0</td>\n",
       "      <td>0.0</td>\n",
       "      <td>0.0</td>\n",
       "      <td>3.8</td>\n",
       "      <td>5.0</td>\n",
       "      <td>415.0</td>\n",
       "      <td>10.344578</td>\n",
       "      <td>42.256856</td>\n",
       "      <td>0.0</td>\n",
       "      <td>0.0</td>\n",
       "      <td>0.0</td>\n",
       "      <td>7.0</td>\n",
       "      <td>645.0</td>\n",
       "    </tr>\n",
       "    <tr>\n",
       "      <th>White Wine</th>\n",
       "      <td>4033.0</td>\n",
       "      <td>1.096157</td>\n",
       "      <td>1.817765</td>\n",
       "      <td>0.0</td>\n",
       "      <td>0.0</td>\n",
       "      <td>0.0</td>\n",
       "      <td>3.4</td>\n",
       "      <td>5.0</td>\n",
       "      <td>4033.0</td>\n",
       "      <td>5.987354</td>\n",
       "      <td>28.261211</td>\n",
       "      <td>0.0</td>\n",
       "      <td>0.0</td>\n",
       "      <td>0.0</td>\n",
       "      <td>5.0</td>\n",
       "      <td>1013.0</td>\n",
       "    </tr>\n",
       "  </tbody>\n",
       "</table>\n",
       "</div>"
      ],
      "text/plain": [
       "                        user_avg_rating                                     \\\n",
       "                                  count      mean       std  min  25%  50%   \n",
       "product_family                                                               \n",
       "Champagne & Sparkling            1067.0  2.192690  2.038399  0.0  0.0  3.5   \n",
       "Dessert, Sherry, & Port           405.0  2.373827  2.071400  0.0  0.0  3.6   \n",
       "Red Wine                         7752.0  1.192363  1.869361  0.0  0.0  0.0   \n",
       "Rosé Wine                         415.0  1.305301  1.929887  0.0  0.0  0.0   \n",
       "White Wine                       4033.0  1.096157  1.817765  0.0  0.0  0.0   \n",
       "\n",
       "                                  user_rating_count                         \\\n",
       "                         75%  max             count       mean         std   \n",
       "product_family                                                               \n",
       "Champagne & Sparkling    4.1  5.0            1067.0  49.145267  135.037534   \n",
       "Dessert, Sherry, & Port  4.2  5.0             405.0  32.758025   73.199245   \n",
       "Red Wine                 3.6  5.0            7752.0   7.779799   35.387293   \n",
       "Rosé Wine                3.8  5.0             415.0  10.344578   42.256856   \n",
       "White Wine               3.4  5.0            4033.0   5.987354   28.261211   \n",
       "\n",
       "                                                      \n",
       "                         min  25%  50%   75%     max  \n",
       "product_family                                        \n",
       "Champagne & Sparkling    0.0  0.0  7.0  40.5  1884.0  \n",
       "Dessert, Sherry, & Port  0.0  0.0  9.0  31.0   619.0  \n",
       "Red Wine                 0.0  0.0  0.0   6.0  1849.0  \n",
       "Rosé Wine                0.0  0.0  0.0   7.0   645.0  \n",
       "White Wine               0.0  0.0  0.0   5.0  1013.0  "
      ]
     },
     "execution_count": 11,
     "metadata": {},
     "output_type": "execute_result"
    }
   ],
   "source": [
    "description_df.groupby('product_family').describe()"
   ]
  },
  {
   "cell_type": "code",
   "execution_count": 12,
   "id": "2d3552fe",
   "metadata": {},
   "outputs": [
    {
     "data": {
      "text/html": [
       "<div>\n",
       "<style scoped>\n",
       "    .dataframe tbody tr th:only-of-type {\n",
       "        vertical-align: middle;\n",
       "    }\n",
       "\n",
       "    .dataframe tbody tr th {\n",
       "        vertical-align: top;\n",
       "    }\n",
       "\n",
       "    .dataframe thead tr th {\n",
       "        text-align: left;\n",
       "    }\n",
       "\n",
       "    .dataframe thead tr:last-of-type th {\n",
       "        text-align: right;\n",
       "    }\n",
       "</style>\n",
       "<table border=\"1\" class=\"dataframe\">\n",
       "  <thead>\n",
       "    <tr>\n",
       "      <th></th>\n",
       "      <th colspan=\"8\" halign=\"left\">reviewer_rating</th>\n",
       "    </tr>\n",
       "    <tr>\n",
       "      <th></th>\n",
       "      <th>count</th>\n",
       "      <th>mean</th>\n",
       "      <th>std</th>\n",
       "      <th>min</th>\n",
       "      <th>25%</th>\n",
       "      <th>50%</th>\n",
       "      <th>75%</th>\n",
       "      <th>max</th>\n",
       "    </tr>\n",
       "    <tr>\n",
       "      <th>product_family</th>\n",
       "      <th></th>\n",
       "      <th></th>\n",
       "      <th></th>\n",
       "      <th></th>\n",
       "      <th></th>\n",
       "      <th></th>\n",
       "      <th></th>\n",
       "      <th></th>\n",
       "    </tr>\n",
       "  </thead>\n",
       "  <tbody>\n",
       "    <tr>\n",
       "      <th>Champagne &amp; Sparkling</th>\n",
       "      <td>1553.0</td>\n",
       "      <td>92.007083</td>\n",
       "      <td>2.080983</td>\n",
       "      <td>88.0</td>\n",
       "      <td>90.0</td>\n",
       "      <td>92.0</td>\n",
       "      <td>93.0</td>\n",
       "      <td>100.0</td>\n",
       "    </tr>\n",
       "    <tr>\n",
       "      <th>Dessert, Sherry, &amp; Port</th>\n",
       "      <td>687.0</td>\n",
       "      <td>93.126638</td>\n",
       "      <td>2.376385</td>\n",
       "      <td>89.0</td>\n",
       "      <td>91.0</td>\n",
       "      <td>93.0</td>\n",
       "      <td>95.0</td>\n",
       "      <td>99.0</td>\n",
       "    </tr>\n",
       "    <tr>\n",
       "      <th>Red Wine</th>\n",
       "      <td>9205.0</td>\n",
       "      <td>92.913525</td>\n",
       "      <td>2.278310</td>\n",
       "      <td>88.0</td>\n",
       "      <td>91.0</td>\n",
       "      <td>93.0</td>\n",
       "      <td>94.0</td>\n",
       "      <td>100.0</td>\n",
       "    </tr>\n",
       "    <tr>\n",
       "      <th>Rosé Wine</th>\n",
       "      <td>237.0</td>\n",
       "      <td>91.075949</td>\n",
       "      <td>1.549512</td>\n",
       "      <td>88.0</td>\n",
       "      <td>90.0</td>\n",
       "      <td>91.0</td>\n",
       "      <td>92.0</td>\n",
       "      <td>97.0</td>\n",
       "    </tr>\n",
       "    <tr>\n",
       "      <th>White Wine</th>\n",
       "      <td>2855.0</td>\n",
       "      <td>92.177933</td>\n",
       "      <td>2.038660</td>\n",
       "      <td>88.0</td>\n",
       "      <td>91.0</td>\n",
       "      <td>92.0</td>\n",
       "      <td>93.0</td>\n",
       "      <td>100.0</td>\n",
       "    </tr>\n",
       "  </tbody>\n",
       "</table>\n",
       "</div>"
      ],
      "text/plain": [
       "                        reviewer_rating                                   \\\n",
       "                                  count       mean       std   min   25%   \n",
       "product_family                                                             \n",
       "Champagne & Sparkling            1553.0  92.007083  2.080983  88.0  90.0   \n",
       "Dessert, Sherry, & Port           687.0  93.126638  2.376385  89.0  91.0   \n",
       "Red Wine                         9205.0  92.913525  2.278310  88.0  91.0   \n",
       "Rosé Wine                         237.0  91.075949  1.549512  88.0  90.0   \n",
       "White Wine                       2855.0  92.177933  2.038660  88.0  91.0   \n",
       "\n",
       "                                            \n",
       "                          50%   75%    max  \n",
       "product_family                              \n",
       "Champagne & Sparkling    92.0  93.0  100.0  \n",
       "Dessert, Sherry, & Port  93.0  95.0   99.0  \n",
       "Red Wine                 93.0  94.0  100.0  \n",
       "Rosé Wine                91.0  92.0   97.0  \n",
       "White Wine               92.0  93.0  100.0  "
      ]
     },
     "execution_count": 12,
     "metadata": {},
     "output_type": "execute_result"
    }
   ],
   "source": [
    "review_df.groupby('product_family').describe()"
   ]
  },
  {
   "cell_type": "markdown",
   "id": "a78cc270",
   "metadata": {},
   "source": [
    "Looking at the product counts for each data frame indicate that there is some significant imbalance present in wines available for purchase and that the range of ratings values between user and critic reviews vary significantly.\n",
    "\n",
    "Another aspect worth noting is that unless the text bodies of 'description' and 'review' are proven to diverge significantly, predictive models would likely benefit from combining these fields into a single corpus."
   ]
  },
  {
   "cell_type": "markdown",
   "id": "3ee63c8c",
   "metadata": {},
   "source": [
    "### 'Description' Analysis"
   ]
  },
  {
   "cell_type": "code",
   "execution_count": 13,
   "id": "713c4616",
   "metadata": {},
   "outputs": [],
   "source": [
    "#lifted from homwork\n",
    "def descriptive_stats(tokens, num_tokens = 10, verbose=True):\n",
    "    tokens_str = tokens.astype(str)\n",
    "    joined_series_tokens = ' '.join(tokens_str)\n",
    "    tokens = joined_series_tokens.split()\n",
    "    \n",
    "    num_tokens = len(tokens)\n",
    "    num_unique_tokens = len(set(tokens))\n",
    "    lexical_diversity = num_unique_tokens/num_tokens #defined as unique tokens to the total number of words\n",
    "    num_characters = sum(len(i) for i in tokens)\n",
    "    \n",
    "    if verbose :        \n",
    "        print(f\"There are {num_tokens} tokens in the data.\")\n",
    "        print(f\"There are {num_unique_tokens} unique tokens in the data.\")\n",
    "        print(f\"There are {num_characters} characters in the data.\")\n",
    "        print(f\"The lexical diversity is {lexical_diversity:.3f} in the data.\")\n",
    "    \n",
    "        # find five most common tokens\n",
    "        counter = Counter(tokens)\n",
    "        n_most_common_tokens = counter.most_common(10)\n",
    "        print(f\"The {num_tokens} most common tokens were:\\n{n_most_common_tokens}\")\n",
    "        \n",
    "    return([num_tokens, num_unique_tokens,\n",
    "            lexical_diversity,\n",
    "            num_characters])"
   ]
  },
  {
   "cell_type": "code",
   "execution_count": 14,
   "id": "dd7c5886",
   "metadata": {
    "scrolled": false
   },
   "outputs": [
    {
     "name": "stdout",
     "output_type": "stream",
     "text": [
      "Red Wine Outputs\n",
      "\n",
      "There are 255855 tokens in the data.\n",
      "There are 13949 unique tokens in the data.\n",
      "There are 1550509 characters in the data.\n",
      "The lexical diversity is 0.055 in the data.\n",
      "The 255855 most common tokens were:\n",
      "[('wine', 5058), ('red', 4884), ('fruit', 3426), ('tannins', 2993), ('notes', 2908), ('palate', 2904), ('aromas', 2824), ('black', 2652), ('finish', 2518), ('cherry', 2226)]\n",
      "\n",
      "\n",
      "White Wine Outputs\n",
      "\n",
      "There are 130342 tokens in the data.\n",
      "There are 10225 unique tokens in the data.\n",
      "There are 808703 characters in the data.\n",
      "The lexical diversity is 0.078 in the data.\n",
      "The 130342 most common tokens were:\n",
      "[('wine', 2658), ('fruit', 1596), ('palate', 1590), ('white', 1520), ('aromas', 1477), ('notes', 1471), ('fresh', 1461), ('finish', 1284), ('acidity', 1213), ('citrus', 1195)]\n",
      "\n",
      "\n",
      "Champagne & Sparkling Outputs\n",
      "\n",
      "There are 46992 tokens in the data.\n",
      "There are 5724 unique tokens in the data.\n",
      "There are 291806 characters in the data.\n",
      "The lexical diversity is 0.122 in the data.\n",
      "The 46992 most common tokens were:\n",
      "[('wine', 799), ('notes', 512), ('fresh', 511), ('pinot', 509), ('palate', 485), ('fruit', 453), ('aromas', 452), ('fine', 378), ('blend', 369), ('finish', 359)]\n",
      "\n",
      "\n",
      "Rosé Wine Outputs\n",
      "\n",
      "There are 14862 tokens in the data.\n",
      "There are 2987 unique tokens in the data.\n",
      "There are 91266 characters in the data.\n",
      "The lexical diversity is 0.201 in the data.\n",
      "The 14862 most common tokens were:\n",
      "[('rosé', 244), ('wine', 230), ('fresh', 212), ('palate', 182), ('notes', 174), ('pink', 160), ('finish', 156), ('aromas', 153), ('color', 148), ('red', 147)]\n",
      "\n",
      "\n",
      "Dessert, Sherry, & Port Outputs\n",
      "\n",
      "There are 17022 tokens in the data.\n",
      "There are 3427 unique tokens in the data.\n",
      "There are 104522 characters in the data.\n",
      "The lexical diversity is 0.201 in the data.\n",
      "The 17022 most common tokens were:\n",
      "[('wine', 339), ('fruit', 177), ('palate', 169), ('aromas', 156), ('color', 152), ('finish', 151), ('notes', 131), ('rich', 115), ('fresh', 112), ('port', 107)]\n",
      "\n",
      "\n"
     ]
    }
   ],
   "source": [
    "unique_wines = description_df['product_family'].unique()\n",
    "\n",
    "for wine_types in unique_wines:\n",
    "    tmp = description_df[description_df['product_family'] == wine_types]\n",
    "    print(f'{wine_types} Outputs\\n')\n",
    "    descriptive_stats(tmp['winemaker_description'])\n",
    "    print('\\n')"
   ]
  },
  {
   "cell_type": "markdown",
   "id": "e854f2ee",
   "metadata": {},
   "source": [
    "The analysis shows that the most common tokens vary depending on the type of wine. the red wine has the most tokens related to wine characteristics like fruit, tannins, and aromas.White wines have fewer tokens, and common tokens relate to fruit, palate, and acidity.Champagne & sparkling wines have higher lexical diversity, with common tokens related to freshness, notes, and fine.Rosé wines have the highest lexical diversity, with common tokens related to rosé color, freshness, and aromas.Dessert, sherry, and port wines have a similar lexical diversity to rosé wines, with common tokens related to wine characteristics like fruit, color, and richness."
   ]
  },
  {
   "cell_type": "markdown",
   "id": "89c006e4",
   "metadata": {},
   "source": [
    "### 'Review' Analysis"
   ]
  },
  {
   "cell_type": "code",
   "execution_count": 19,
   "id": "72a2f887",
   "metadata": {},
   "outputs": [
    {
     "name": "stdout",
     "output_type": "stream",
     "text": [
      "Red Wine Outputs\n",
      "\n",
      "There are 337417 tokens in the data.\n",
      "There are 13358 unique tokens in the data.\n",
      "There are 1982860 characters in the data.\n",
      "The lexical diversity is 0.040 in the data.\n",
      "The 337417 most common tokens were:\n",
      "[('tannins', 4972), ('fruit', 4119), ('wine', 4114), ('finish', 3565), ('black', 3483), ('nan', 3420), ('bodied', 3326), ('red', 3175), ('full', 3016), ('palate', 2957)]\n",
      "\n",
      "\n",
      "White Wine Outputs\n",
      "\n",
      "There are 94927 tokens in the data.\n",
      "There are 7744 unique tokens in the data.\n",
      "There are 560822 characters in the data.\n",
      "The lexical diversity is 0.082 in the data.\n",
      "The 94927 most common tokens were:\n",
      "[('nan', 2280), ('finish', 1270), ('white', 1110), ('wine', 1057), ('palate', 1037), ('fruit', 1025), ('flavors', 956), ('aromas', 953), ('notes', 908), ('acidity', 814)]\n",
      "\n",
      "\n",
      "Champagne & Sparkling Outputs\n",
      "\n",
      "There are 52945 tokens in the data.\n",
      "There are 5095 unique tokens in the data.\n",
      "There are 312677 characters in the data.\n",
      "The lexical diversity is 0.096 in the data.\n",
      "The 52945 most common tokens were:\n",
      "[('wine', 739), ('pinot', 611), ('finish', 581), ('notes', 537), ('fruit', 528), ('palate', 515), ('flavors', 509), ('aromas', 484), ('champagne', 452), ('fresh', 437)]\n",
      "\n",
      "\n",
      "Rosé Wine Outputs\n",
      "\n",
      "There are 7185 tokens in the data.\n",
      "There are 1653 unique tokens in the data.\n",
      "There are 41944 characters in the data.\n",
      "The lexical diversity is 0.230 in the data.\n",
      "The 7185 most common tokens were:\n",
      "[('nan', 243), ('wine', 116), ('rosé', 107), ('notes', 106), ('aromas', 102), ('flavors', 102), ('fresh', 90), ('red', 85), ('palate', 79), ('2021', 74)]\n",
      "\n",
      "\n",
      "Dessert, Sherry, & Port Outputs\n",
      "\n",
      "There are 23620 tokens in the data.\n",
      "There are 3915 unique tokens in the data.\n",
      "There are 138666 characters in the data.\n",
      "The lexical diversity is 0.166 in the data.\n",
      "The 23620 most common tokens were:\n",
      "[('finish', 317), ('wine', 295), ('flavors', 240), ('fruit', 231), ('palate', 212), ('notes', 206), ('dried', 189), ('sweet', 180), ('acidity', 146), ('aromas', 145)]\n",
      "\n",
      "\n"
     ]
    }
   ],
   "source": [
    "unique_wines = review_df['product_family'].unique()\n",
    "\n",
    "for wine_types in unique_wines:\n",
    "    tmp = review_df[review_df['product_family'] == wine_types]\n",
    "    print(f'{wine_types} Outputs\\n')\n",
    "    descriptive_stats(tmp['reviewer_text'])\n",
    "    print('\\n')"
   ]
  },
  {
   "cell_type": "markdown",
   "id": "375b3fb6",
   "metadata": {},
   "source": [
    "The number of token varies across the different types of wine, with red wines having the highest number of tokens and rose wine having the hifhest lexical diversity. The great thing is that the most common tokens vary across the different types of wine will with the classificatiion model for like navie bayes model "
   ]
  },
  {
   "cell_type": "markdown",
   "id": "ccc447ca",
   "metadata": {},
   "source": [
    "Based on the top 10 most common terms, joining the fields 'description' and 'reviews' may be a reasonable proposal but a transform such as TF-IDF is likely in order for this dataset as the terms themselves are largely generic."
   ]
  },
  {
   "cell_type": "markdown",
   "id": "01f9be79",
   "metadata": {},
   "source": [
    "### Description Lengths"
   ]
  },
  {
   "cell_type": "code",
   "execution_count": 21,
   "id": "3d4fa322",
   "metadata": {},
   "outputs": [],
   "source": [
    "description_df['description_length'] = description_df['winemaker_description'].str.len()"
   ]
  },
  {
   "cell_type": "code",
   "execution_count": 24,
   "id": "6a2e43c8",
   "metadata": {},
   "outputs": [
    {
     "data": {
      "image/png": "[encoded data removed]",
      "text/plain": [
       "<Figure size 1000x1000 with 1 Axes>"
      ]
     },
     "metadata": {},
     "output_type": "display_data"
    }
   ],
   "source": [
    "fig = plt.figure(figsize=(10, 10))\n",
    "description_df.groupby('product_family')['description_length'].plot(kind=\"hist\",density=True,alpha=0.5,legend=True)\n",
    "plt.show()"
   ]
  },
  {
   "cell_type": "markdown",
   "id": "340af89c",
   "metadata": {},
   "source": [
    "### Review Lengths"
   ]
  },
  {
   "cell_type": "code",
   "execution_count": 25,
   "id": "4156a40b",
   "metadata": {},
   "outputs": [
    {
     "name": "stderr",
     "output_type": "stream",
     "text": [
      "C:\\Users\\garyb\\AppData\\Local\\Temp\\ipykernel_3104\\232450227.py:1: SettingWithCopyWarning: \n",
      "A value is trying to be set on a copy of a slice from a DataFrame.\n",
      "Try using .loc[row_indexer,col_indexer] = value instead\n",
      "\n",
      "See the caveats in the documentation: https://pandas.pydata.org/pandas-docs/stable/user_guide/indexing.html#returning-a-view-versus-a-copy\n",
      "  review_df['review_length'] = review_df['reviewer_text'].str.len()\n"
     ]
    }
   ],
   "source": [
    "review_df['review_length'] = review_df['reviewer_text'].str.len()"
   ]
  },
  {
   "cell_type": "code",
   "execution_count": 26,
   "id": "12915b04",
   "metadata": {},
   "outputs": [
    {
     "data": {
      "image/png": "[encoded data removed]",
      "text/plain": [
       "<Figure size 1000x1000 with 1 Axes>"
      ]
     },
     "metadata": {},
     "output_type": "display_data"
    }
   ],
   "source": [
    "fig = plt.figure(figsize=(10, 10))\n",
    "review_df.groupby('product_family')['review_length'].plot(kind=\"hist\", \n",
    "                                                        density=True, \n",
    "                                                        alpha=0.5,\n",
    "                                                        legend=True)\n",
    "plt.show()"
   ]
  },
  {
   "cell_type": "markdown",
   "id": "a7074fa9",
   "metadata": {},
   "source": [
    "Interestingly, the distrbution of description and review lengths appear to follow similiar distributions."
   ]
  },
  {
   "cell_type": "markdown",
   "id": "ccb4486a",
   "metadata": {},
   "source": [
    "### Description Ratings"
   ]
  },
  {
   "cell_type": "code",
   "execution_count": 30,
   "id": "b263efb4",
   "metadata": {},
   "outputs": [
    {
     "data": {
      "image/png": "[encoded data removed]",
      "text/plain": [
       "<Figure size 1000x1000 with 1 Axes>"
      ]
     },
     "metadata": {},
     "output_type": "display_data"
    }
   ],
   "source": [
    "fig = plt.figure(figsize=(10, 10))\n",
    "description_df.groupby('product_family')['user_avg_rating'].plot(kind=\"hist\", \n",
    "                                                                density=True, \n",
    "                                                                alpha=0.5,\n",
    "                                                                legend=True)\n",
    "plt.show()"
   ]
  },
  {
   "cell_type": "markdown",
   "id": "5402c691",
   "metadata": {},
   "source": [
    "Interestingly, the distrbution of user rating indicates that 0.0 is the default value for wines with no user ratings. Depending on the models implemented, this could be import for implementing machine learning models to predict sentiment."
   ]
  },
  {
   "cell_type": "markdown",
   "id": "f3a6f4b4",
   "metadata": {},
   "source": [
    "### Review Lengths"
   ]
  },
  {
   "cell_type": "code",
   "execution_count": 31,
   "id": "6fb962a8",
   "metadata": {},
   "outputs": [
    {
     "data": {
      "image/png": "[encoded data removed]",
      "text/plain": [
       "<Figure size 1000x1000 with 1 Axes>"
      ]
     },
     "metadata": {},
     "output_type": "display_data"
    }
   ],
   "source": [
    "fig = plt.figure(figsize=(10, 10))\n",
    "review_df.groupby('product_family')['reviewer_rating'].plot(kind=\"hist\", \n",
    "                                                            density=True, \n",
    "                                                            alpha=0.5,\n",
    "                                                            legend=True)\n",
    "plt.show()"
   ]
  },
  {
   "cell_type": "markdown",
   "id": "073d3b7f",
   "metadata": {},
   "source": [
    "### Unique Tokens\n",
    "\n",
    "Given that there are multiple labels in the set, we will modify a function from prior homework to perform OvR comparisons for terms unique to each wine type."
   ]
  },
  {
   "cell_type": "code",
   "execution_count": 27,
   "id": "e7136e14",
   "metadata": {},
   "outputs": [],
   "source": [
    "#modified from homework to be generally useful\n",
    "def unique_tokens(df, comparison_column, split_column, n_total_corpora, n_top_terms):\n",
    "    unique_splits = df[split_column].unique()\n",
    "    for split in unique_splits:\n",
    "        #perform split\n",
    "        corpus_1 = df[df[split_column] == split]\n",
    "        corpus_2 = df[df[split_column] != split]\n",
    "        #preprocess\n",
    "        corpus_1_str = corpus_1[comparison_column].astype(str)\n",
    "        corpus_2_str = corpus_2[comparison_column].astype(str)\n",
    "        corpus_1_joined = ' '.join(corpus_1_str)\n",
    "        corpus_2_joined = ' '.join(corpus_2_str)\n",
    "        corpus_1_tokens = corpus_1_joined.split()\n",
    "        corpus_2_tokens = corpus_2_joined.split()\n",
    "        #generate token counts for each corpora\n",
    "        corpus_1_counts = Counter(corpus_1_tokens)\n",
    "        corpus_2_counts = Counter(corpus_2_tokens)\n",
    "        #write to dataframe\n",
    "        corpus_1_df = pd.DataFrame(data = corpus_1_counts.values(), \n",
    "                               index = corpus_1_counts.keys(),\n",
    "                               columns = ['1_word_counts'])\n",
    "        corpus_2_df = pd.DataFrame(data = corpus_2_counts.values(), \n",
    "                               index = corpus_2_counts.keys(),\n",
    "                               columns = ['2_word_counts'])\n",
    "        #join dataframes\n",
    "        corpus_df = corpus_1_df.merge(corpus_2_df, \n",
    "                                      how = 'outer',\n",
    "                                      left_index = True, \n",
    "                                      right_index= True)\n",
    "        #impute null values with 0\n",
    "        corpus_df = corpus_df.fillna(0)\n",
    "        #filtering corpora to required  relevance\n",
    "        corpus_df = corpus_df[corpus_df['1_word_counts'] >= n_total_corpora]\n",
    "        corpus_df = corpus_df[corpus_df['2_word_counts'] >= n_total_corpora]\n",
    "        #calculate term concentrations\n",
    "        corpus_df['1_concentrations'] = corpus_df['1_word_counts']/len(corpus_1)\n",
    "        corpus_df['2_concentrations'] = corpus_df['2_word_counts']/len(corpus_2)\n",
    "        #generate term ratio\n",
    "        corpus_df['term_ratio'] = corpus_df['1_concentrations']/corpus_df['2_concentrations']\n",
    "        #sort ratios\n",
    "        corpus_df = corpus_df.sort_values(by = ['term_ratio'], ascending = False)\n",
    "        #generate outputs\n",
    "        corpus_1_top_n = corpus_df['term_ratio'].head(n_top_terms).to_dict()\n",
    "        #print outputs\n",
    "        print(f'Unique tokens observed for the label {split}:\\n')\n",
    "        print(corpus_1_top_n)\n",
    "        print(f'\\n')"
   ]
  },
  {
   "cell_type": "markdown",
   "id": "127f84ed",
   "metadata": {},
   "source": [
    "### Description Unique Terms"
   ]
  },
  {
   "cell_type": "code",
   "execution_count": 28,
   "id": "74834841",
   "metadata": {},
   "outputs": [
    {
     "name": "stdout",
     "output_type": "stream",
     "text": [
      "Unique tokens observed for the label Red Wine:\n",
      "\n",
      "{'garnet': 62.23942208462333, 'merlot': 48.92604059167527, 'tobacco': 44.511278195488714, 'cabernet': 40.79136147398625, 'sangiovese': 36.80908152734778, 'tannins': 32.652513637033756, 'blueberry': 31.734892787524362, 'cedar': 24.645839196922786, 'zinfandel': 23.005675954592363, 'blackberry': 22.713139585205898}\n",
      "\n",
      "\n",
      "Unique tokens observed for the label White Wine:\n",
      "\n",
      "{'riesling': 71.70096702206794, 'grigio': 49.71267046863378, 'lemongrass': 29.078725514505333, 'semillon': 26.290354574758247, 'curd': 25.99160054549963, 'tropical': 23.80277000460487, 'lime': 22.053479250726955, 'guava': 20.71361269526407, 'pineapple': 20.03074634267295, 'gooseberry': 19.41901190181007}\n",
      "\n",
      "\n",
      "Unique tokens observed for the label Champagne & Sparkling:\n",
      "\n",
      "{'champagne': 559.9597000937207, 'bubbles': 262.6230985509336, 'mousse': 122.07278975320213, 'sparkling': 74.70298803682672, 'effervescence': 52.62375394052995, 'noirs': 44.3006091846298, 'xarel': 42.1910563663141, 'bubble': 40.16588566073102, 'lo': 38.39386129334583, 'featured': 37.40940331146517}\n",
      "\n",
      "\n",
      "Unique tokens observed for the label Rosé Wine:\n",
      "\n",
      "{'watermelon': 90.50963855421688, 'provence': 82.38338617628408, 'rosé': 41.905790905557716, 'worldwide': 38.333493975903615, 'provencal': 38.333493975903615, 'miraval': 37.26867469879518, 'languedoc': 31.944578313253015, 'pomelo': 31.944578313253015, 'hondarrabi': 31.944578313253015, 'provençal': 29.040525739320923}\n",
      "\n",
      "\n",
      "Unique tokens observed for the label Dessert, Sherry, & Port:\n",
      "\n",
      "{'tawny': 497.921975308642, 'system': 85.17086419753086, 'fino': 65.51604938271605, 'slice': 65.51604938271605, 'spirits': 60.056378600823045, 'appreciate': 58.23648834019204, 'pedro': 57.32654320987654, 'amber': 54.98668430335097, 'drier': 54.59670781893004, 'proof': 50.95692729766803}\n",
      "\n",
      "\n"
     ]
    }
   ],
   "source": [
    "unique_tokens(description_df, \n",
    "              comparison_column = 'winemaker_description', \n",
    "              split_column = 'product_family',\n",
    "              n_total_corpora = 5,\n",
    "              n_top_terms = 10)"
   ]
  },
  {
   "cell_type": "code",
   "execution_count": 29,
   "id": "eeda3aef",
   "metadata": {},
   "outputs": [
    {
     "name": "stdout",
     "output_type": "stream",
     "text": [
      "Unique tokens observed for the label Red Wine:\n",
      "\n",
      "{'cabernet': 171.31932873125447, 'purple': 85.42680314210902, 'franc': 78.41245281735641, 'blackberries': 57.549988098071886, 'leather': 47.9028802666032, 'tobacco': 42.447274458462275, 'cassis': 26.359256866279004, 'iron': 25.215543918114736, 'grained': 23.119792906450847, 'garnet': 23.09603155711225}\n",
      "\n",
      "\n",
      "Unique tokens observed for the label White Wine:\n",
      "\n",
      "{'riesling': 159.58970358814352, 'roussanne': 25.361154446177846, 'tropical': 24.742589703588145, 'clairette': 20.876560062402497, 'whites': 20.41263650546022, 'honeydew': 19.794071762870516, 'semillon': 18.041471658866357, 'passion': 17.938377535101406, 'adige': 16.701248049921997, 'oily': 13.60842433697348}\n",
      "\n",
      "\n",
      "Unique tokens observed for the label Champagne & Sparkling:\n",
      "\n",
      "{'mousse': 149.53577106518281, 'pillowy': 75.68108108108109, 'dough': 42.44932432432432, 'lacy': 39.69287469287469, 'pinpoint': 38.810810810810814, 'vinous': 38.81081081081081, 'aperitif': 38.81081081081081, 'nv': 34.400491400491404, 'brioche': 31.47462096242584, 'biscuit': 30.87223587223587}\n",
      "\n",
      "\n",
      "Unique tokens observed for the label Rosé Wine:\n",
      "\n",
      "{'bandol': 107.04070981210856, 'provence': 34.52926122971244, 'cantaloupe': 30.58305994631673, 'handrolls': 29.971398747390396, 'cinsault': 26.242238534581457, 'avocado': 24.78837490385672, 'watermelon': 20.551816283924843, 'rosé': 17.09456111924719, 'sashimi': 13.287812252537613, 'cotes': 12.844885177453028}\n",
      "\n",
      "\n",
      "Unique tokens observed for the label Dessert, Sherry, & Port:\n",
      "\n",
      "{'port': 328.0124147578248, 'fino': 74.0673194614443, 'quinta': 69.12949816401468, 'botrytis': 67.01328903654485, 'douro': 61.722766217870266, 'molasses': 61.722766217870266, 'toffee': 60.69405344757242, 'spirit': 54.316034271725826, 'residual': 41.390560875512996, 'dessert': 38.79716733694702}\n",
      "\n",
      "\n"
     ]
    }
   ],
   "source": [
    "unique_tokens(review_df, \n",
    "              comparison_column = 'reviewer_text', \n",
    "              split_column = 'product_family',\n",
    "              n_total_corpora = 5,\n",
    "              n_top_terms = 10)"
   ]
  },
  {
   "cell_type": "markdown",
   "id": "bd8c8843",
   "metadata": {},
   "source": [
    "Observing the unique terms produced in the OvR analysis does produce an interesting insight that the reviews tend to focus more on the tasting notes of the product however the types of terms present in these outputs suppports the possiblity that these fields could be combined. Depending on the predictive application, this dynamic could be useful for informing the final model inputs."
   ]
  },
  {
   "cell_type": "markdown",
   "id": "33152f7b",
   "metadata": {},
   "source": [
    "## Topic Modeling"
   ]
  },
  {
   "cell_type": "code",
   "execution_count": 1,
   "id": "303f6be9",
   "metadata": {},
   "outputs": [],
   "source": [
    "#imports\n",
    "import nltk\n",
    "#nltk.download('brown')\n",
    "from nltk.corpus import brown\n",
    "import os\n",
    "import numpy as np\n",
    "import pandas as pd\n",
    "from tqdm.auto import tqdm\n",
    "\n",
    "import pyLDAvis\n",
    "import pyLDAvis.sklearn\n",
    "import pyLDAvis.gensim_models\n",
    "\n",
    "import spacy\n",
    "from sklearn.feature_extraction.text import TfidfVectorizer, CountVectorizer\n",
    "from sklearn.decomposition import NMF, TruncatedSVD, LatentDirichletAllocation\n",
    "\n",
    "from spacy.lang.en.stop_words import STOP_WORDS as stopwords\n",
    "\n",
    "from collections import Counter, defaultdict\n",
    "\n",
    "nlp = spacy.load('en_core_web_sm')"
   ]
  },
  {
   "cell_type": "code",
   "execution_count": 2,
   "id": "90cad015",
   "metadata": {},
   "outputs": [
    {
     "name": "stderr",
     "output_type": "stream",
     "text": [
      "/opt/anaconda3/lib/python3.8/site-packages/ipykernel/ipkernel.py:287: DeprecationWarning: `should_run_async` will not call `transform_cell` automatically in the future. Please pass the result to `transformed_cell` argument and any exception that happen during thetransform in `preprocessing_exc_tuple` in IPython 7.17 and above.\n",
      "  and should_run_async(code)\n"
     ]
    }
   ],
   "source": [
    "#directory locations\n",
    "current_directory = os.getcwd()\n",
    "parent_directory = os.path.dirname(current_directory)\n",
    "processed_folder = parent_directory + '/data/wine-com/processed/'"
   ]
  },
  {
   "cell_type": "markdown",
   "id": "f5c2d663",
   "metadata": {},
   "source": [
    "## LoadData"
   ]
  },
  {
   "cell_type": "code",
   "execution_count": 3,
   "id": "1d15b929",
   "metadata": {},
   "outputs": [
    {
     "name": "stderr",
     "output_type": "stream",
     "text": [
      "/opt/anaconda3/lib/python3.8/site-packages/ipykernel/ipkernel.py:287: DeprecationWarning: `should_run_async` will not call `transform_cell` automatically in the future. Please pass the result to `transformed_cell` argument and any exception that happen during thetransform in `preprocessing_exc_tuple` in IPython 7.17 and above.\n",
      "  and should_run_async(code)\n"
     ]
    }
   ],
   "source": [
    "df = pd.read_csv(processed_folder + '1677432096.083379.txt', sep = '|')"
   ]
  },
  {
   "cell_type": "code",
   "execution_count": 4,
   "id": "268c3f84",
   "metadata": {},
   "outputs": [
    {
     "data": {
      "text/html": [
       "<div>\n",
       "<style scoped>\n",
       "    .dataframe tbody tr th:only-of-type {\n",
       "        vertical-align: middle;\n",
       "    }\n",
       "\n",
       "    .dataframe tbody tr th {\n",
       "        vertical-align: top;\n",
       "    }\n",
       "\n",
       "    .dataframe thead th {\n",
       "        text-align: right;\n",
       "    }\n",
       "</style>\n",
       "<table border=\"1\" class=\"dataframe\">\n",
       "  <thead>\n",
       "    <tr style=\"text-align: right;\">\n",
       "      <th></th>\n",
       "      <th>product_url</th>\n",
       "      <th>product_name</th>\n",
       "      <th>product_variety</th>\n",
       "      <th>product_origin</th>\n",
       "      <th>product_family</th>\n",
       "      <th>user_avg_rating</th>\n",
       "      <th>user_rating_count</th>\n",
       "      <th>winemaker_description</th>\n",
       "      <th>reviewer_name</th>\n",
       "      <th>reviewer_rating</th>\n",
       "      <th>reviewer_text</th>\n",
       "    </tr>\n",
       "  </thead>\n",
       "  <tbody>\n",
       "    <tr>\n",
       "      <th>0</th>\n",
       "      <td>https://www.wine.com/product/proyecto-salvaje-...</td>\n",
       "      <td>Proyecto Salvaje del Moncayo Garnacha 2020</td>\n",
       "      <td>Grenache</td>\n",
       "      <td>from Navarra, Spain</td>\n",
       "      <td>Red Wine</td>\n",
       "      <td>4.8</td>\n",
       "      <td>19</td>\n",
       "      <td>bright burgundy wine medium depth tobacco wild...</td>\n",
       "      <td>Decanter</td>\n",
       "      <td>92.0</td>\n",
       "      <td>part proyecto garnachas de españa collection s...</td>\n",
       "    </tr>\n",
       "    <tr>\n",
       "      <th>1</th>\n",
       "      <td>https://www.wine.com/product/proyecto-salvaje-...</td>\n",
       "      <td>Proyecto Salvaje del Moncayo Garnacha 2020</td>\n",
       "      <td>Grenache</td>\n",
       "      <td>from Navarra, Spain</td>\n",
       "      <td>Red Wine</td>\n",
       "      <td>4.8</td>\n",
       "      <td>19</td>\n",
       "      <td>bright burgundy wine medium depth tobacco wild...</td>\n",
       "      <td>Wilfred Wong of Wine.com</td>\n",
       "      <td>91.0</td>\n",
       "      <td>commentary 2020 proyecto garnachas salvaje del...</td>\n",
       "    </tr>\n",
       "    <tr>\n",
       "      <th>2</th>\n",
       "      <td>https://www.wine.com/product/domaine-du-terme-...</td>\n",
       "      <td>Domaine du Terme Gigondas 2019</td>\n",
       "      <td>Rhone Red Blends</td>\n",
       "      <td>from Gigondas, Rhone, France</td>\n",
       "      <td>Red Wine</td>\n",
       "      <td>4.0</td>\n",
       "      <td>17</td>\n",
       "      <td>NaN</td>\n",
       "      <td>Wine &amp; Spirits</td>\n",
       "      <td>96.0</td>\n",
       "      <td>spectacular gigondas wine red cherry flavors s...</td>\n",
       "    </tr>\n",
       "    <tr>\n",
       "      <th>3</th>\n",
       "      <td>https://www.wine.com/product/domaine-du-terme-...</td>\n",
       "      <td>Domaine du Terme Gigondas 2019</td>\n",
       "      <td>Rhone Red Blends</td>\n",
       "      <td>from Gigondas, Rhone, France</td>\n",
       "      <td>Red Wine</td>\n",
       "      <td>4.0</td>\n",
       "      <td>17</td>\n",
       "      <td>NaN</td>\n",
       "      <td>Decanter</td>\n",
       "      <td>94.0</td>\n",
       "      <td>straight first sniff clear going special soari...</td>\n",
       "    </tr>\n",
       "    <tr>\n",
       "      <th>4</th>\n",
       "      <td>https://www.wine.com/product/scott-harvey-moun...</td>\n",
       "      <td>Scott Harvey Mountain Selection Zinfandel 2019</td>\n",
       "      <td>Zinfandel</td>\n",
       "      <td>from Amador, Sierra Foothills, California</td>\n",
       "      <td>Red Wine</td>\n",
       "      <td>4.3</td>\n",
       "      <td>39</td>\n",
       "      <td>fruit forward rich full flavors expressing var...</td>\n",
       "      <td>Wine Enthusiast</td>\n",
       "      <td>93.0</td>\n",
       "      <td>fresh smelling full bodied flavor packed wine ...</td>\n",
       "    </tr>\n",
       "  </tbody>\n",
       "</table>\n",
       "</div>"
      ],
      "text/plain": [
       "                                         product_url  \\\n",
       "0  https://www.wine.com/product/proyecto-salvaje-...   \n",
       "1  https://www.wine.com/product/proyecto-salvaje-...   \n",
       "2  https://www.wine.com/product/domaine-du-terme-...   \n",
       "3  https://www.wine.com/product/domaine-du-terme-...   \n",
       "4  https://www.wine.com/product/scott-harvey-moun...   \n",
       "\n",
       "                                     product_name   product_variety  \\\n",
       "0      Proyecto Salvaje del Moncayo Garnacha 2020          Grenache   \n",
       "1      Proyecto Salvaje del Moncayo Garnacha 2020          Grenache   \n",
       "2                  Domaine du Terme Gigondas 2019  Rhone Red Blends   \n",
       "3                  Domaine du Terme Gigondas 2019  Rhone Red Blends   \n",
       "4  Scott Harvey Mountain Selection Zinfandel 2019         Zinfandel   \n",
       "\n",
       "                               product_origin product_family  user_avg_rating  \\\n",
       "0                         from Navarra, Spain       Red Wine              4.8   \n",
       "1                         from Navarra, Spain       Red Wine              4.8   \n",
       "2                from Gigondas, Rhone, France       Red Wine              4.0   \n",
       "3                from Gigondas, Rhone, France       Red Wine              4.0   \n",
       "4   from Amador, Sierra Foothills, California       Red Wine              4.3   \n",
       "\n",
       "   user_rating_count                              winemaker_description  \\\n",
       "0                 19  bright burgundy wine medium depth tobacco wild...   \n",
       "1                 19  bright burgundy wine medium depth tobacco wild...   \n",
       "2                 17                                                NaN   \n",
       "3                 17                                                NaN   \n",
       "4                 39  fruit forward rich full flavors expressing var...   \n",
       "\n",
       "              reviewer_name  reviewer_rating  \\\n",
       "0                  Decanter             92.0   \n",
       "1  Wilfred Wong of Wine.com             91.0   \n",
       "2            Wine & Spirits             96.0   \n",
       "3                  Decanter             94.0   \n",
       "4           Wine Enthusiast             93.0   \n",
       "\n",
       "                                       reviewer_text  \n",
       "0  part proyecto garnachas de españa collection s...  \n",
       "1  commentary 2020 proyecto garnachas salvaje del...  \n",
       "2  spectacular gigondas wine red cherry flavors s...  \n",
       "3  straight first sniff clear going special soari...  \n",
       "4  fresh smelling full bodied flavor packed wine ...  "
      ]
     },
     "execution_count": 4,
     "metadata": {},
     "output_type": "execute_result"
    }
   ],
   "source": [
    "df.head()"
   ]
  },
  {
   "cell_type": "code",
   "execution_count": 4,
   "id": "4419549f",
   "metadata": {},
   "outputs": [
    {
     "name": "stderr",
     "output_type": "stream",
     "text": [
      "/opt/anaconda3/lib/python3.8/site-packages/ipykernel/ipkernel.py:287: DeprecationWarning: `should_run_async` will not call `transform_cell` automatically in the future. Please pass the result to `transformed_cell` argument and any exception that happen during thetransform in `preprocessing_exc_tuple` in IPython 7.17 and above.\n",
      "  and should_run_async(code)\n"
     ]
    }
   ],
   "source": [
    "# This function comes from the BTAP repo.\n",
    "def display_topics(model, features, no_top_words=5):\n",
    "    for topic, words in enumerate(model.components_):\n",
    "        total = words.sum()\n",
    "        largest = words.argsort()[::-1] # invert sort order\n",
    "        print(\"\\nTopic %02d\" % topic)\n",
    "        for i in range(0, no_top_words):\n",
    "            print(\"  %s (%2.2f)\" % (features[largest[i]], abs(words[largest[i]]*100.0/total)))"
   ]
  },
  {
   "cell_type": "markdown",
   "id": "bbd669a1",
   "metadata": {},
   "source": [
    "## what type of wine in the df"
   ]
  },
  {
   "cell_type": "code",
   "execution_count": 5,
   "id": "45a2eaf8",
   "metadata": {},
   "outputs": [
    {
     "name": "stdout",
     "output_type": "stream",
     "text": [
      "For Red Wine we have 12603 reviews.\n",
      "For White Wine we have 5128 reviews.\n",
      "For Champagne & Sparkling we have 1961 reviews.\n",
      "For Rosé Wine we have 479 reviews.\n",
      "For Dessert, Sherry, & Port we have 817 reviews.\n"
     ]
    },
    {
     "name": "stderr",
     "output_type": "stream",
     "text": [
      "/opt/anaconda3/lib/python3.8/site-packages/ipykernel/ipkernel.py:287: DeprecationWarning: `should_run_async` will not call `transform_cell` automatically in the future. Please pass the result to `transformed_cell` argument and any exception that happen during thetransform in `preprocessing_exc_tuple` in IPython 7.17 and above.\n",
      "  and should_run_async(code)\n"
     ]
    }
   ],
   "source": [
    "# Check if the 'category' column exists in the DataFrame\n",
    "if 'product_family' in df.columns:\n",
    "    # Get a list of all unique categories in the DataFrame\n",
    "    categories = df['product_family'].unique()\n",
    "\n",
    "    # Loop through each category and print the number of articles in the DataFrame for that category\n",
    "    for category in categories:\n",
    "        num_reviews = len(df[df['product_family'] == category])\n",
    "        print(f\"For {category} we have {num_reviews} reviews.\")\n",
    "else:\n",
    "    print(\"The 'product_family' column does not exist in the DataFrame.\")"
   ]
  },
  {
   "cell_type": "markdown",
   "id": "ca992eda",
   "metadata": {},
   "source": [
    "In the datafram there is 5 types of wine: red, white, champagne, rose, and dessert. the red wine has 12603 reviews, white with 5128 reviews, champange woth 1961 reviews, rose with 479 reviews and dessert with 817 reviews"
   ]
  },
  {
   "cell_type": "markdown",
   "id": "f9467c19",
   "metadata": {},
   "source": [
    "## what review topics of wine in the df"
   ]
  },
  {
   "cell_type": "code",
   "execution_count": 6,
   "id": "97168a44",
   "metadata": {},
   "outputs": [
    {
     "name": "stdout",
     "output_type": "stream",
     "text": [
      "There are 14494 records in the DataFrame.\n"
     ]
    },
    {
     "name": "stderr",
     "output_type": "stream",
     "text": [
      "/opt/anaconda3/lib/python3.8/site-packages/ipykernel/ipkernel.py:287: DeprecationWarning: `should_run_async` will not call `transform_cell` automatically in the future. Please pass the result to `transformed_cell` argument and any exception that happen during thetransform in `preprocessing_exc_tuple` in IPython 7.17 and above.\n",
      "  and should_run_async(code)\n"
     ]
    }
   ],
   "source": [
    "# Check if the 'reviews' column exists in the DataFrame\n",
    "if 'reviewer_text' in df.columns:\n",
    "    # Count the number of non-null values in the 'reviews' column\n",
    "    num_reviews = df['reviewer_text'].count()\n",
    "\n",
    "    # Print the total number of reviews in the DataFrame\n",
    "    print(f\"There are {num_reviews} records in the DataFrame.\")\n",
    "else:\n",
    "    print(\"The 'reviews' column does not exist in the DataFrame.\")"
   ]
  },
  {
   "cell_type": "markdown",
   "id": "9c54fa01",
   "metadata": {},
   "source": [
    "in our data frame there is 14494 reviews"
   ]
  },
  {
   "cell_type": "markdown",
   "id": "a2ee1cb7",
   "metadata": {},
   "source": [
    "## The shpae of the df"
   ]
  },
  {
   "cell_type": "code",
   "execution_count": 7,
   "id": "a81d64cf",
   "metadata": {},
   "outputs": [
    {
     "name": "stderr",
     "output_type": "stream",
     "text": [
      "/opt/anaconda3/lib/python3.8/site-packages/ipykernel/ipkernel.py:287: DeprecationWarning: `should_run_async` will not call `transform_cell` automatically in the future. Please pass the result to `transformed_cell` argument and any exception that happen during thetransform in `preprocessing_exc_tuple` in IPython 7.17 and above.\n",
      "  and should_run_async(code)\n"
     ]
    },
    {
     "name": "stdout",
     "output_type": "stream",
     "text": [
      "(20988, 4)\n"
     ]
    }
   ],
   "source": [
    "# Define the wine types to search for\n",
    "wine_types = df['product_family'].unique()\n",
    "\n",
    "# Define empty lists to hold the category, id, text, and review data for each wine type\n",
    "category_list = []\n",
    "id_list = []\n",
    "text_list = []\n",
    "review_list = []\n",
    "\n",
    "# Loop through each wine type\n",
    "for wine_type in wine_types:\n",
    "    # Filter the DataFrame to select only the rows that match the wine type\n",
    "    filtered_df = df[df['product_family'].str.contains(wine_type, case=False)]\n",
    "\n",
    "    # Loop through each row in the filtered DataFrame\n",
    "    for index, row in filtered_df.iterrows():\n",
    "        # Add the category, id, text, and review data to their respective lists\n",
    "        category_list.append(wine_type)\n",
    "        id_list.append(row['product_name'])\n",
    "        text_list.append(row['winemaker_description'])\n",
    "        review_list.append(row['reviewer_text'])\n",
    "\n",
    "# Create a new DataFrame from the category, id, text, and review lists\n",
    "wine_df = pd.DataFrame({\n",
    "    'category': category_list,\n",
    "    'id': id_list,\n",
    "    'text': text_list,\n",
    "    'reviews': review_list\n",
    "})\n",
    "\n",
    "# Print the shape of the new DataFrame\n",
    "print(wine_df.shape)"
   ]
  },
  {
   "cell_type": "code",
   "execution_count": 8,
   "id": "8984a35b",
   "metadata": {},
   "outputs": [
    {
     "name": "stderr",
     "output_type": "stream",
     "text": [
      "/opt/anaconda3/lib/python3.8/site-packages/ipykernel/ipkernel.py:287: DeprecationWarning: `should_run_async` will not call `transform_cell` automatically in the future. Please pass the result to `transformed_cell` argument and any exception that happen during thetransform in `preprocessing_exc_tuple` in IPython 7.17 and above.\n",
      "  and should_run_async(code)\n"
     ]
    },
    {
     "data": {
      "text/html": [
       "<div>\n",
       "<style scoped>\n",
       "    .dataframe tbody tr th:only-of-type {\n",
       "        vertical-align: middle;\n",
       "    }\n",
       "\n",
       "    .dataframe tbody tr th {\n",
       "        vertical-align: top;\n",
       "    }\n",
       "\n",
       "    .dataframe thead th {\n",
       "        text-align: right;\n",
       "    }\n",
       "</style>\n",
       "<table border=\"1\" class=\"dataframe\">\n",
       "  <thead>\n",
       "    <tr style=\"text-align: right;\">\n",
       "      <th></th>\n",
       "      <th>category</th>\n",
       "      <th>id</th>\n",
       "      <th>text</th>\n",
       "      <th>reviews</th>\n",
       "    </tr>\n",
       "  </thead>\n",
       "  <tbody>\n",
       "    <tr>\n",
       "      <th>0</th>\n",
       "      <td>Red Wine</td>\n",
       "      <td>Proyecto Salvaje del Moncayo Garnacha 2020</td>\n",
       "      <td>bright burgundy wine medium depth tobacco wild...</td>\n",
       "      <td>part proyecto garnachas de españa collection s...</td>\n",
       "    </tr>\n",
       "    <tr>\n",
       "      <th>1</th>\n",
       "      <td>Red Wine</td>\n",
       "      <td>Proyecto Salvaje del Moncayo Garnacha 2020</td>\n",
       "      <td>bright burgundy wine medium depth tobacco wild...</td>\n",
       "      <td>commentary 2020 proyecto garnachas salvaje del...</td>\n",
       "    </tr>\n",
       "    <tr>\n",
       "      <th>2</th>\n",
       "      <td>Red Wine</td>\n",
       "      <td>Domaine du Terme Gigondas 2019</td>\n",
       "      <td>NaN</td>\n",
       "      <td>spectacular gigondas wine red cherry flavors s...</td>\n",
       "    </tr>\n",
       "    <tr>\n",
       "      <th>3</th>\n",
       "      <td>Red Wine</td>\n",
       "      <td>Domaine du Terme Gigondas 2019</td>\n",
       "      <td>NaN</td>\n",
       "      <td>straight first sniff clear going special soari...</td>\n",
       "    </tr>\n",
       "    <tr>\n",
       "      <th>4</th>\n",
       "      <td>Red Wine</td>\n",
       "      <td>Scott Harvey Mountain Selection Zinfandel 2019</td>\n",
       "      <td>fruit forward rich full flavors expressing var...</td>\n",
       "      <td>fresh smelling full bodied flavor packed wine ...</td>\n",
       "    </tr>\n",
       "  </tbody>\n",
       "</table>\n",
       "</div>"
      ],
      "text/plain": [
       "   category                                              id  \\\n",
       "0  Red Wine      Proyecto Salvaje del Moncayo Garnacha 2020   \n",
       "1  Red Wine      Proyecto Salvaje del Moncayo Garnacha 2020   \n",
       "2  Red Wine                  Domaine du Terme Gigondas 2019   \n",
       "3  Red Wine                  Domaine du Terme Gigondas 2019   \n",
       "4  Red Wine  Scott Harvey Mountain Selection Zinfandel 2019   \n",
       "\n",
       "                                                text  \\\n",
       "0  bright burgundy wine medium depth tobacco wild...   \n",
       "1  bright burgundy wine medium depth tobacco wild...   \n",
       "2                                                NaN   \n",
       "3                                                NaN   \n",
       "4  fruit forward rich full flavors expressing var...   \n",
       "\n",
       "                                             reviews  \n",
       "0  part proyecto garnachas de españa collection s...  \n",
       "1  commentary 2020 proyecto garnachas salvaje del...  \n",
       "2  spectacular gigondas wine red cherry flavors s...  \n",
       "3  straight first sniff clear going special soari...  \n",
       "4  fresh smelling full bodied flavor packed wine ...  "
      ]
     },
     "execution_count": 8,
     "metadata": {},
     "output_type": "execute_result"
    }
   ],
   "source": [
    "wine_df.head()"
   ]
  },
  {
   "cell_type": "markdown",
   "id": "c3304767",
   "metadata": {},
   "source": [
    "## Review "
   ]
  },
  {
   "cell_type": "code",
   "execution_count": 9,
   "id": "243d3638",
   "metadata": {},
   "outputs": [
    {
     "name": "stderr",
     "output_type": "stream",
     "text": [
      "/opt/anaconda3/lib/python3.8/site-packages/ipykernel/ipkernel.py:287: DeprecationWarning: `should_run_async` will not call `transform_cell` automatically in the future. Please pass the result to `transformed_cell` argument and any exception that happen during thetransform in `preprocessing_exc_tuple` in IPython 7.17 and above.\n",
      "  and should_run_async(code)\n"
     ]
    }
   ],
   "source": [
    "wine_df['reviews'] = wine_df['reviews'].fillna('')"
   ]
  },
  {
   "cell_type": "markdown",
   "id": "dd570e27",
   "metadata": {},
   "source": [
    "## Creating the CountVectorizer and TfidVectorizer"
   ]
  },
  {
   "cell_type": "code",
   "execution_count": 10,
   "id": "8fe40d0d",
   "metadata": {},
   "outputs": [
    {
     "name": "stderr",
     "output_type": "stream",
     "text": [
      "/opt/anaconda3/lib/python3.8/site-packages/ipykernel/ipkernel.py:287: DeprecationWarning: `should_run_async` will not call `transform_cell` automatically in the future. Please pass the result to `transformed_cell` argument and any exception that happen during thetransform in `preprocessing_exc_tuple` in IPython 7.17 and above.\n",
      "  and should_run_async(code)\n",
      "/opt/anaconda3/lib/python3.8/site-packages/sklearn/feature_extraction/text.py:404: UserWarning: Your stop_words may be inconsistent with your preprocessing. Tokenizing the stop words generated tokens ['ll', 've'] not in stop_words.\n",
      "  warnings.warn(\n"
     ]
    },
    {
     "data": {
      "text/plain": [
       "(20988, 5575)"
      ]
     },
     "execution_count": 10,
     "metadata": {},
     "output_type": "execute_result"
    }
   ],
   "source": [
    "#Using the CountVectorizer with the stopwords\n",
    "count_reviews_vectorizer = CountVectorizer(stop_words=stopwords, min_df=5, max_df=0.7)\n",
    "#Applying the CountVectorizer to the wine_df reviews column \n",
    "count_reviews_vectors = count_reviews_vectorizer.fit_transform(wine_df[\"reviews\"])\n",
    "count_reviews_vectors.shape"
   ]
  },
  {
   "cell_type": "code",
   "execution_count": 11,
   "id": "973ed486",
   "metadata": {},
   "outputs": [
    {
     "name": "stderr",
     "output_type": "stream",
     "text": [
      "/opt/anaconda3/lib/python3.8/site-packages/ipykernel/ipkernel.py:287: DeprecationWarning: `should_run_async` will not call `transform_cell` automatically in the future. Please pass the result to `transformed_cell` argument and any exception that happen during thetransform in `preprocessing_exc_tuple` in IPython 7.17 and above.\n",
      "  and should_run_async(code)\n"
     ]
    },
    {
     "data": {
      "text/plain": [
       "(20988, 5575)"
      ]
     },
     "execution_count": 11,
     "metadata": {},
     "output_type": "execute_result"
    }
   ],
   "source": [
    "#Using the TfidfVectorizer with the stopwords\n",
    "tfidf_reviews_vectorizer = TfidfVectorizer(stop_words=stopwords, min_df=5, max_df=0.7)\n",
    "#Applying the TfidfVectorizer to the wine_df reviews column \n",
    "tfidf_reviews_vectors = tfidf_reviews_vectorizer.fit_transform(wine_df[\"reviews\"])\n",
    "tfidf_reviews_vectors.shape"
   ]
  },
  {
   "cell_type": "markdown",
   "id": "33242c02",
   "metadata": {},
   "source": [
    "## Fitting a Non-Negative Matrix Factorization Model"
   ]
  },
  {
   "cell_type": "code",
   "execution_count": 12,
   "id": "14669c3e",
   "metadata": {},
   "outputs": [
    {
     "name": "stderr",
     "output_type": "stream",
     "text": [
      "/opt/anaconda3/lib/python3.8/site-packages/ipykernel/ipkernel.py:287: DeprecationWarning: `should_run_async` will not call `transform_cell` automatically in the future. Please pass the result to `transformed_cell` argument and any exception that happen during thetransform in `preprocessing_exc_tuple` in IPython 7.17 and above.\n",
      "  and should_run_async(code)\n"
     ]
    }
   ],
   "source": [
    "nmf_reviews_model = NMF(n_components=5, random_state=314)\n",
    "W_reviews_matrix = nmf_reviews_model.fit_transform(tfidf_reviews_vectors)\n",
    "H_reviews_matrix = nmf_reviews_model.components_"
   ]
  },
  {
   "cell_type": "code",
   "execution_count": 13,
   "id": "cf99e92c",
   "metadata": {},
   "outputs": [
    {
     "name": "stdout",
     "output_type": "stream",
     "text": [
      "\n",
      "Topic 00\n",
      "  medium (3.35)\n",
      "  tannins (2.76)\n",
      "  bodied (2.66)\n",
      "  body (1.92)\n",
      "  drink (1.67)\n",
      "\n",
      "Topic 01\n",
      "  commentary (2.97)\n",
      "  tasting (2.93)\n",
      "  san (2.92)\n",
      "  francisco (2.90)\n",
      "  tasted (2.86)\n",
      "\n",
      "Topic 02\n",
      "  cabernet (2.03)\n",
      "  sauvignon (1.27)\n",
      "  merlot (0.90)\n",
      "  wine (0.84)\n",
      "  franc (0.83)\n",
      "\n",
      "Topic 03\n",
      "  white (1.33)\n",
      "  lemon (1.20)\n",
      "  acidity (1.03)\n",
      "  fresh (1.02)\n",
      "  apple (0.93)\n",
      "\n",
      "Topic 04\n",
      "  cherry (1.90)\n",
      "  red (1.55)\n",
      "  black (1.50)\n",
      "  flavors (1.35)\n",
      "  fruit (1.12)\n"
     ]
    },
    {
     "name": "stderr",
     "output_type": "stream",
     "text": [
      "/opt/anaconda3/lib/python3.8/site-packages/ipykernel/ipkernel.py:287: DeprecationWarning: `should_run_async` will not call `transform_cell` automatically in the future. Please pass the result to `transformed_cell` argument and any exception that happen during thetransform in `preprocessing_exc_tuple` in IPython 7.17 and above.\n",
      "  and should_run_async(code)\n",
      "/opt/anaconda3/lib/python3.8/site-packages/sklearn/utils/deprecation.py:87: FutureWarning: Function get_feature_names is deprecated; get_feature_names is deprecated in 1.0 and will be removed in 1.2. Please use get_feature_names_out instead.\n",
      "  warnings.warn(msg, category=FutureWarning)\n"
     ]
    }
   ],
   "source": [
    "display_topics(nmf_reviews_model, tfidf_reviews_vectorizer.get_feature_names())"
   ]
  },
  {
   "cell_type": "markdown",
   "id": "32188588",
   "metadata": {},
   "source": [
    "top 5 topics and their top 5 associated words"
   ]
  },
  {
   "cell_type": "markdown",
   "id": "3a4fc980",
   "metadata": {},
   "source": [
    "## Fitting an LSA Model"
   ]
  },
  {
   "cell_type": "code",
   "execution_count": 29,
   "id": "e77cf6ae",
   "metadata": {},
   "outputs": [],
   "source": [
    "#creating the SVD model\n",
    "from sklearn.decomposition import TruncatedSVD\n",
    "svd_reviews_model = TruncatedSVD(n_components = 10, random_state=42)"
   ]
  },
  {
   "cell_type": "code",
   "execution_count": 30,
   "id": "1c7ce886",
   "metadata": {},
   "outputs": [],
   "source": [
    "#creating the matrix \n",
    "W_svd_reviews_matrix = svd_reviews_model.fit_transform(tfidf_reviews_vectors)\n",
    "H_svd_reviews_matrix = svd_reviews_model.components_"
   ]
  },
  {
   "cell_type": "code",
   "execution_count": 31,
   "id": "beb82dc9",
   "metadata": {},
   "outputs": [],
   "source": [
    "#saving the matrix of the new topic \n",
    "wine_df[\"svd_topic_reviews\"] = np.argmax(W_svd_reviews_matrix, axis = 1).astype(str)"
   ]
  },
  {
   "cell_type": "code",
   "execution_count": 32,
   "id": "eba01de6",
   "metadata": {},
   "outputs": [
    {
     "name": "stdout",
     "output_type": "stream",
     "text": [
      "topic 0 observes original label counts of:\n",
      "Red Wine                   11040\n",
      "White Wine                  4696\n",
      "Champagne & Sparkling       1481\n",
      "Dessert, Sherry, & Port      765\n",
      "Rosé Wine                    419\n",
      "Name: category, dtype: int64\n",
      "\n",
      "topic 1 observes original label counts of:\n",
      "Red Wine                   482\n",
      "White Wine                 242\n",
      "Champagne & Sparkling      172\n",
      "Rosé Wine                   55\n",
      "Dessert, Sherry, & Port     25\n",
      "Name: category, dtype: int64\n",
      "\n",
      "topic 4 observes original label counts of:\n",
      "Red Wine                   248\n",
      "Dessert, Sherry, & Port     12\n",
      "Champagne & Sparkling        4\n",
      "White Wine                   3\n",
      "Rosé Wine                    2\n",
      "Name: category, dtype: int64\n",
      "\n",
      "topic 2 observes original label counts of:\n",
      "Red Wine                   392\n",
      "Dessert, Sherry, & Port      4\n",
      "White Wine                   1\n",
      "Name: category, dtype: int64\n",
      "\n",
      "topic 8 observes original label counts of:\n",
      "Red Wine                 23\n",
      "Champagne & Sparkling     3\n",
      "Rosé Wine                 3\n",
      "Name: category, dtype: int64\n",
      "\n",
      "topic 6 observes original label counts of:\n",
      "Red Wine                   192\n",
      "White Wine                 156\n",
      "Dessert, Sherry, & Port      5\n",
      "Name: category, dtype: int64\n",
      "\n",
      "topic 5 observes original label counts of:\n",
      "Red Wine                   149\n",
      "White Wine                  11\n",
      "Champagne & Sparkling        4\n",
      "Dessert, Sherry, & Port      1\n",
      "Name: category, dtype: int64\n",
      "\n",
      "topic 7 observes original label counts of:\n",
      "Red Wine                   44\n",
      "White Wine                 13\n",
      "Champagne & Sparkling       7\n",
      "Dessert, Sherry, & Port     5\n",
      "Name: category, dtype: int64\n",
      "\n",
      "topic 9 observes original label counts of:\n",
      "Champagne & Sparkling    290\n",
      "Red Wine                  25\n",
      "White Wine                 6\n",
      "Name: category, dtype: int64\n",
      "\n",
      "topic 3 observes original label counts of:\n",
      "Red Wine    8\n",
      "Name: category, dtype: int64\n",
      "\n"
     ]
    }
   ],
   "source": [
    "#for loop that count the unique topic \n",
    "for label in wine_df['svd_topic_reviews'].unique():\n",
    "    print(f\"topic {label} observes original label counts of:\")\n",
    "    print(wine_df[wine_df['svd_topic_reviews'] == label]['category'].value_counts())\n",
    "    print()"
   ]
  },
  {
   "cell_type": "markdown",
   "id": "e06777b0",
   "metadata": {},
   "source": [
    "LSA model showed that topic 0 and 1 have the most relevants to the different wine types. LSA created 10 topics in toll."
   ]
  },
  {
   "cell_type": "markdown",
   "id": "dd02cd54",
   "metadata": {},
   "source": [
    "## Fitting an LDA Model"
   ]
  },
  {
   "cell_type": "code",
   "execution_count": 27,
   "id": "d147330b",
   "metadata": {},
   "outputs": [
    {
     "name": "stderr",
     "output_type": "stream",
     "text": [
      "/opt/anaconda3/lib/python3.8/site-packages/ipykernel/ipkernel.py:287: DeprecationWarning: `should_run_async` will not call `transform_cell` automatically in the future. Please pass the result to `transformed_cell` argument and any exception that happen during thetransform in `preprocessing_exc_tuple` in IPython 7.17 and above.\n",
      "  and should_run_async(code)\n"
     ]
    }
   ],
   "source": [
    "# Fit your LDA model here\n",
    "from sklearn.decomposition import LatentDirichletAllocation\n",
    "lda_reviews_model = LatentDirichletAllocation(n_components = 10, random_state=42)"
   ]
  },
  {
   "cell_type": "code",
   "execution_count": 28,
   "id": "400781a9",
   "metadata": {},
   "outputs": [
    {
     "name": "stderr",
     "output_type": "stream",
     "text": [
      "/opt/anaconda3/lib/python3.8/site-packages/ipykernel/ipkernel.py:287: DeprecationWarning: `should_run_async` will not call `transform_cell` automatically in the future. Please pass the result to `transformed_cell` argument and any exception that happen during thetransform in `preprocessing_exc_tuple` in IPython 7.17 and above.\n",
      "  and should_run_async(code)\n"
     ]
    }
   ],
   "source": [
    "#creating the matrix \n",
    "W_lda_reviews_matrix = lda_reviews_model.fit_transform(count_reviews_vectors)\n",
    "H_lda_reviews_matrix = lda_reviews_model.components_"
   ]
  },
  {
   "cell_type": "code",
   "execution_count": 29,
   "id": "6045e7b0",
   "metadata": {},
   "outputs": [
    {
     "name": "stderr",
     "output_type": "stream",
     "text": [
      "/opt/anaconda3/lib/python3.8/site-packages/ipykernel/ipkernel.py:287: DeprecationWarning: `should_run_async` will not call `transform_cell` automatically in the future. Please pass the result to `transformed_cell` argument and any exception that happen during thetransform in `preprocessing_exc_tuple` in IPython 7.17 and above.\n",
      "  and should_run_async(code)\n"
     ]
    }
   ],
   "source": [
    "#saving the matrix of the new topic \n",
    "wine_df[\"lda_topic_reviews\"] = np.argmax(W_lda_reviews_matrix, axis = 1).astype(str)"
   ]
  },
  {
   "cell_type": "code",
   "execution_count": 30,
   "id": "2f78d308",
   "metadata": {},
   "outputs": [
    {
     "name": "stdout",
     "output_type": "stream",
     "text": [
      "topic 6 observes original label counts of:\n",
      "Red Wine                   1303\n",
      "White Wine                  320\n",
      "Dessert, Sherry, & Port     176\n",
      "Champagne & Sparkling        70\n",
      "Rosé Wine                    16\n",
      "Name: category, dtype: int64\n",
      "\n",
      "topic 2 observes original label counts of:\n",
      "Red Wine                   485\n",
      "White Wine                 244\n",
      "Champagne & Sparkling      174\n",
      "Rosé Wine                   55\n",
      "Dessert, Sherry, & Port     28\n",
      "Name: category, dtype: int64\n",
      "\n",
      "topic 0 observes original label counts of:\n",
      "Red Wine                   5166\n",
      "White Wine                 2299\n",
      "Champagne & Sparkling       420\n",
      "Rosé Wine                   258\n",
      "Dessert, Sherry, & Port     205\n",
      "Name: category, dtype: int64\n",
      "\n",
      "topic 3 observes original label counts of:\n",
      "Red Wine                   2272\n",
      "Dessert, Sherry, & Port      63\n",
      "Champagne & Sparkling        39\n",
      "Rosé Wine                    26\n",
      "White Wine                   26\n",
      "Name: category, dtype: int64\n",
      "\n",
      "topic 8 observes original label counts of:\n",
      "Red Wine                   822\n",
      "Champagne & Sparkling       62\n",
      "Dessert, Sherry, & Port     34\n",
      "Rosé Wine                   10\n",
      "White Wine                   9\n",
      "Name: category, dtype: int64\n",
      "\n",
      "topic 9 observes original label counts of:\n",
      "Red Wine                   1912\n",
      "White Wine                  158\n",
      "Dessert, Sherry, & Port      15\n",
      "Champagne & Sparkling         4\n",
      "Rosé Wine                     3\n",
      "Name: category, dtype: int64\n",
      "\n",
      "topic 5 observes original label counts of:\n",
      "White Wine                 1496\n",
      "Champagne & Sparkling       483\n",
      "Dessert, Sherry, & Port     224\n",
      "Rosé Wine                    48\n",
      "Red Wine                     34\n",
      "Name: category, dtype: int64\n",
      "\n",
      "topic 1 observes original label counts of:\n",
      "Red Wine                   518\n",
      "White Wine                 377\n",
      "Champagne & Sparkling       34\n",
      "Rosé Wine                   17\n",
      "Dessert, Sherry, & Port     14\n",
      "Name: category, dtype: int64\n",
      "\n",
      "topic 4 observes original label counts of:\n",
      "Champagne & Sparkling      671\n",
      "White Wine                  69\n",
      "Dessert, Sherry, & Port     53\n",
      "Rosé Wine                   44\n",
      "Red Wine                    25\n",
      "Name: category, dtype: int64\n",
      "\n",
      "topic 7 observes original label counts of:\n",
      "White Wine                 130\n",
      "Red Wine                    66\n",
      "Dessert, Sherry, & Port      5\n",
      "Champagne & Sparkling        4\n",
      "Rosé Wine                    2\n",
      "Name: category, dtype: int64\n",
      "\n"
     ]
    },
    {
     "name": "stderr",
     "output_type": "stream",
     "text": [
      "/opt/anaconda3/lib/python3.8/site-packages/ipykernel/ipkernel.py:287: DeprecationWarning: `should_run_async` will not call `transform_cell` automatically in the future. Please pass the result to `transformed_cell` argument and any exception that happen during thetransform in `preprocessing_exc_tuple` in IPython 7.17 and above.\n",
      "  and should_run_async(code)\n"
     ]
    }
   ],
   "source": [
    "#for loop that count the unique topic \n",
    "for label in wine_df['lda_topic_reviews'].unique():\n",
    "    print(f\"topic {label} observes original label counts of:\")\n",
    "    print(wine_df[wine_df['lda_topic_reviews'] == label]['category'].value_counts())\n",
    "    print()"
   ]
  },
  {
   "cell_type": "markdown",
   "id": "e3e3c0ab",
   "metadata": {},
   "source": [
    "THe LDA model has then topics topic 0, 1, 4 have the highest observation for all five wine categories. topic 0 is able capture the overall characteristics of the different wine, but topic 1 if able to differentiate from red and white wines. last topic 4 can be used to identifying champagne from the different types of wine "
   ]
  },
  {
   "cell_type": "code",
   "execution_count": 31,
   "id": "5d1adbd1",
   "metadata": {},
   "outputs": [
    {
     "name": "stderr",
     "output_type": "stream",
     "text": [
      "/opt/anaconda3/lib/python3.8/site-packages/ipykernel/ipkernel.py:287: DeprecationWarning: `should_run_async` will not call `transform_cell` automatically in the future. Please pass the result to `transformed_cell` argument and any exception that happen during thetransform in `preprocessing_exc_tuple` in IPython 7.17 and above.\n",
      "  and should_run_async(code)\n",
      "/opt/anaconda3/lib/python3.8/site-packages/sklearn/utils/deprecation.py:87: FutureWarning: Function get_feature_names is deprecated; get_feature_names is deprecated in 1.0 and will be removed in 1.2. Please use get_feature_names_out instead.\n",
      "  warnings.warn(msg, category=FutureWarning)\n"
     ]
    }
   ],
   "source": [
    "lda_display_review = pyLDAvis.sklearn.prepare(lda_reviews_model, count_reviews_vectors, count_reviews_vectorizer, sort_topics=False)"
   ]
  },
  {
   "cell_type": "code",
   "execution_count": 32,
   "id": "fde73499",
   "metadata": {},
   "outputs": [
    {
     "name": "stderr",
     "output_type": "stream",
     "text": [
      "/opt/anaconda3/lib/python3.8/site-packages/ipykernel/ipkernel.py:287: DeprecationWarning: `should_run_async` will not call `transform_cell` automatically in the future. Please pass the result to `transformed_cell` argument and any exception that happen during thetransform in `preprocessing_exc_tuple` in IPython 7.17 and above.\n",
      "  and should_run_async(code)\n"
     ]
    },
    {
     "data": {
      "text/html": [
       "\n",
       "<link rel=\"stylesheet\" type=\"text/css\" href=\"https://cdn.jsdelivr.net/gh/bmabey/pyLDAvis@3.3.1/pyLDAvis/js/ldavis.v1.0.0.css\">\n",
       "\n",
       "\n",
       "<div id=\"ldavis_el870631402270118168002359667593\"></div>\n",
       "<script type=\"text/javascript\">\n",
       "\n",
       "var ldavis_el870631402270118168002359667593_data = {\"mdsDat\": {\"x\": [0.1174475592412916, 0.05476563960680802, -0.08736547990349149, 0.1460411021288876, -0.07024698332776098, 0.09675354755069086, -0.21142832707881867, -0.15513833489589682, 0.1867596253930052, -0.07758834871471536], \"y\": [0.043537738499759004, 0.08647402245242317, -0.3024118779884984, 0.0382177445092225, -0.044215593779201874, -0.055375260950133315, 0.11984636030126473, 0.032318565375094775, -0.011025499815327673, 0.09263380139539668], \"topics\": [1, 2, 3, 4, 5, 6, 7, 8, 9, 10], \"cluster\": [1, 1, 1, 1, 1, 1, 1, 1, 1, 1], \"Freq\": [11.663079163483669, 7.674997753051229, 6.980940652732734, 12.242562146696919, 6.588434030176095, 11.321923547089357, 15.102485874501362, 3.311348897302665, 7.1760944646959635, 17.93813347027002]}, \"tinfo\": {\"Term\": [\"tannins\", \"cherry\", \"wine\", \"flavors\", \"tasting\", \"tasted\", \"san\", \"commentary\", \"francisco\", \"notes\", \"bodied\", \"aromas\", \"medium\", \"pinot\", \"black\", \"sample\", \"cabernet\", \"lemon\", \"barrel\", \"white\", \"palate\", \"noir\", \"finish\", \"2022\", \"red\", \"plum\", \"nose\", \"drink\", \"elegant\", \"dark\", \"alder\", \"2035\", \"sanguine\", \"puree\", \"balsam\", \"ganache\", \"smoldering\", \"tug\", \"loganberry\", \"woodsy\", \"avola\", \"2042\", \"p\\u00e2te\", \"lined\", \"singed\", \"relax\", \"canaiolo\", \"chai\", \"extends\", \"2045\", \"firming\", \"winey\", \"potting\", \"lining\", \"inlaid\", \"tile\", \"a\\u00e7a\\u00ed\", \"embedded\", \"latent\", \"slavonian\", \"2038\", \"2040\", \"cast\", \"burly\", \"root\", \"vigna\", \"plum\", \"boysenberry\", \"brunello\", \"riserva\", \"montalcino\", \"currant\", \"tarry\", \"blackberry\", \"iron\", \"olive\", \"beam\", \"di\", \"steeped\", \"black\", \"cherry\", \"fill\", \"dense\", \"best\", \"mulberry\", \"tobacco\", \"dark\", \"tar\", \"accents\", \"elements\", \"flavors\", \"structure\", \"licorice\", \"tea\", \"spice\", \"fruit\", \"notes\", \"red\", \"cabernet\", \"finish\", \"cassis\", \"merlot\", \"tannins\", \"core\", \"wine\", \"shows\", \"rich\", \"savory\", \"sauvignon\", \"drink\", \"earth\", \"ripe\", \"long\", \"finale\", \"possess\", \"certification\", \"pastille\", \"suffused\", \"inflected\", \"appealingly\", \"exude\", \"overtly\", \"wisps\", \"repeating\", \"slew\", \"shimmering\", \"delineation\", \"trimmed\", \"imposing\", \"spicecake\", \"brim\", \"tautly\", \"florality\", \"culminate\", \"deepen\", \"spicier\", \"valmur\", \"treatment\", \"particular\", \"smacking\", \"demeter\", \"sufficiently\", \"f\\u00e8vre\", \"evokes\", \"lip\", \"biodynamically\", \"markedly\", \"frames\", \"youthfully\", \"discreet\", \"middle\", \"sneaky\", \"89\", \"attractively\", \"brimming\", \"austere\", \"91\", \"weight\", \"sample\", \"chablis\", \"barrel\", \"impressively\", \"excellent\", \"floral\", \"92\", \"patience\", \"mineral\", \"good\", \"93\", \"sappy\", \"long\", \"90\", \"nose\", \"finish\", \"flavors\", \"depth\", \"fruit\", \"succulent\", \"dry\", \"minerality\", \"palate\", \"touch\", \"wood\", \"aromas\", \"fine\", \"ripe\", \"red\", \"spice\", \"acidity\", \"lovely\", \"medium\", \"fresh\", \"notes\", \"cherry\", \"san\", \"commentary\", \"francisco\", \"pair\", \"tasting\", \"lamb\", \"pan\", \"chops\", \"fried\", \"stew\", \"ribeye\", \"oven\", \"pork\", \"braised\", \"ribs\", \"garlic\", \"active\", \"steamed\", \"sashimi\", \"clams\", \"marbled\", \"avocado\", \"crab\", \"serve\", \"pasta\", \"seared\", \"leg\", \"appetizers\", \"fils\", \"exhibits\", \"december\", \"excels\", \"chicken\", \"tasted\", \"enjoy\", \"shines\", \"oysters\", \"november\", \"august\", \"2022\", \"june\", \"grilled\", \"27\", \"roast\", \"february\", \"pleasing\", \"notes\", \"2021\", \"wine\", \"flavors\", \"aromas\", \"offers\", \"spices\", \"2020\", \"dried\", \"earth\", \"savory\", \"fruits\", \"palate\", \"fruit\", \"black\", \"red\", \"2019\", \"ripe\", \"bright\", \"bark\", \"cent\", \"onwards\", \"chocolatey\", \"fontalloro\", \"brawny\", \"relaxed\", \"brambleberries\", \"carm\\u00e9n\\u00e8re\", \"cacao\", \"tannined\", \"peppermint\", \"needle\", \"pomegranates\", \"needles\", \"stags\", \"cheval\", \"fudge\", \"cab\", \"charges\", \"broody\", \"brisson\", \"pineapples\", \"cloves\", \"beefy\", \"moss\", \"sensibility\", \"sarsaparilla\", \"bits\", \"laurel\", \"chewy\", \"fantastically\", \"walnuts\", \"olives\", \"soften\", \"flavorful\", \"drinkable\", \"undertones\", \"body\", \"blackberries\", \"chili\", \"plums\", \"follow\", \"walnut\", \"cherries\", \"try\", \"blackcurrants\", \"blueberries\", \"hold\", \"strawberries\", \"mushrooms\", \"tight\", \"chocolate\", \"tannins\", \"firm\", \"medium\", \"box\", \"bodied\", \"polished\", \"character\", \"juicy\", \"fine\", \"drink\", \"dark\", \"berries\", \"nose\", \"finish\", \"fresh\", \"lots\", \"aromas\", \"red\", \"fruit\", \"dried\", \"palate\", \"ripe\", \"black\", \"long\", \"hints\", \"creamy\", \"disgorged\", \"meunier\", \"dosage\", \"clairette\", \"solera\", \"pillowy\", \"nv\", \"quinta\", \"bourboulenc\", \"pinpoint\", \"laurent\", \"perrier\", \"current\", \"oger\", \"sel\", \"copper\", \"2008\", \"champagnes\", \"magnum\", \"drier\", \"disgorgement\", \"nonvintage\", \"rotie\", \"roederer\", \"7g\", \"mesnil\", \"cramant\", \"avize\", \"montagne\", \"a\\u00ff\", \"blancs\", \"noir\", \"champagne\", \"pinot\", \"vinous\", \"brut\", \"ros\\u00e9\", \"mousse\", \"noirs\", \"lacy\", \"non\", \"pink\", \"latest\", \"reserve\", \"chardonnay\", \"bread\", \"cuv\\u00e9e\", \"blanc\", \"pale\", \"acids\", \"grand\", \"orchard\", \"de\", \"release\", \"crisp\", \"blend\", \"based\", \"citrus\", \"flowers\", \"color\", \"fruit\", \"palate\", \"wine\", \"white\", \"finish\", \"fresh\", \"drink\", \"aromas\", \"bodied\", \"vintage\", \"medium\", \"fine\", \"notes\", \"ripe\", \"red\", \"pineapple\", \"lemons\", \"curd\", \"pears\", \"honeysuckle\", \"mango\", \"crust\", \"apricots\", \"semillon\", \"papaya\", \"s\\u00e9millon\", \"oily\", \"struck\", \"elderflower\", \"kiwi\", \"meringue\", \"mangoes\", \"viscous\", \"guava\", \"lanolin\", \"zingy\", \"lemongrass\", \"caramelized\", \"yuzu\", \"perlage\", \"cerequio\", \"flint\", \"br\\u00fbl\\u00e9e\", \"butterscotch\", \"limey\", \"lime\", \"beeswax\", \"honey\", \"lemon\", \"butter\", \"melon\", \"ginger\", \"tropical\", \"honeyed\", \"meyer\", \"peach\", \"apricot\", \"pear\", \"jasmine\", \"apple\", \"chamomile\", \"grapefruit\", \"white\", \"sliced\", \"blossom\", \"almonds\", \"green\", \"peaches\", \"almond\", \"salted\", \"apples\", \"yellow\", \"creamy\", \"zest\", \"acidity\", \"citrus\", \"chardonnay\", \"crisp\", \"fresh\", \"finish\", \"drink\", \"palate\", \"flavors\", \"bright\", \"nose\", \"aromas\", \"notes\", \"medium\", \"bodied\", \"texture\", \"fruit\", \"stone\", \"blanc\", \"mineral\", \"dried\", \"ripe\", \"long\", \"touriga\", \"port\", \"yeasts\", \"nacional\", \"planted\", \"field\", \"indigenous\", \"casks\", \"plot\", \"facing\", \"meters\", \"hectares\", \"certified\", \"altitude\", \"franca\", \"lower\", \"season\", \"acres\", \"bottlings\", \"american\", \"parcels\", \"oldest\", \"uco\", \"achieved\", \"douro\", \"residual\", \"roriz\", \"biodynamic\", \"helped\", \"auslese\", \"vines\", \"fermented\", \"500\", \"ages\", \"matured\", \"000\", \"ha\", \"growing\", \"produced\", \"different\", \"vats\", \"fermentation\", \"soils\", \"stainless\", \"clay\", \"months\", \"old\", \"organic\", \"steel\", \"barrels\", \"year\", \"vineyard\", \"aged\", \"comes\", \"single\", \"sugar\", \"ripeness\", \"wine\", \"vintage\", \"vineyards\", \"wines\", \"oak\", \"alcohol\", \"little\", \"bottled\", \"grapes\", \"new\", \"2017\", \"french\", \"fruit\", \"good\", \"blend\", \"2018\", \"age\", \"freshness\", \"bottle\", \"years\", \"2019\", \"time\", \"like\", \"tannins\", \"acidity\", \"stated\", \"mazuelo\", \"stimulating\", \"veltliner\", \"piquant\", \"sole\", \"kabinett\", \"gg\", \"sancerre\", \"petrale\", \"tondonia\", \"gr\\u00fcner\", \"creek\", \"tensioned\", \"certain\", \"vi\\u00f1a\", \"coolish\", \"sous\", \"vinification\", \"aglianico\", \"handrolls\", \"tender\", \"enormously\", \"ried\", \"trocken\", \"monopole\", \"priorat\", \"vital\", \"panko\", \"vergelesses\", \"extreme\", \"ripened\", \"riesling\", \"graciano\", \"bois\", \"clear\", \"crystalline\", \"natural\", \"highly\", \"reserva\", \"intertwined\", \"tempranillo\", \"elegant\", \"flinty\", \"intense\", \"lush\", \"pure\", \"terroir\", \"bouquet\", \"alcohol\", \"palate\", \"salty\", \"fruit\", \"fine\", \"complex\", \"refined\", \"fresh\", \"2021\", \"wine\", \"nose\", \"ripe\", \"2020\", \"round\", \"concentrated\", \"notes\", \"deep\", \"finish\", \"long\", \"mineral\", \"aromas\", \"great\", \"2019\", \"2018\", \"cranberry\", \"skinned\", \"imported\", \"earl\", \"hibiscus\", \"marasca\", \"forefront\", \"woodland\", \"nebbiolo\", \"cannubi\", \"highlighted\", \"spirits\", \"dusky\", \"scrub\", \"morra\", \"monforte\", \"nerello\", \"recalling\", \"botanical\", \"grimaldi\", \"scavino\", \"berardenga\", \"suede\", \"heavier\", \"sagebrush\", \"beach\", \"align\", \"gather\", \"muddled\", \"wears\", \"pomegranate\", \"petal\", \"serralunga\", \"blood\", \"forest\", \"floor\", \"grey\", \"alba\", \"hip\", \"barolo\", \"alongside\", \"rose\", \"pipe\", \"star\", \"orange\", \"strawberry\", \"cherry\", \"underbrush\", \"raspberry\", \"wild\", \"berry\", \"peel\", \"editors\", \"camphor\", \"grained\", \"anise\", \"flower\", \"red\", \"spice\", \"dried\", \"tannins\", \"aromas\", \"licorice\", \"palate\", \"flavors\", \"drink\", \"acidity\", \"bright\", \"finish\", \"fresh\", \"juicy\", \"savory\", \"fine\", \"offers\", \"black\", \"notes\", \"dark\", \"ch\\u00e2teauneuf\", \"pape\", \"checks\", \"emilion\", \"mingled\", \"canon\", \"ducru\", \"cos\", \"gallonibarrel\", \"muids\", \"lynch\", \"seeking\", \"peonies\", \"pavie\", \"chest\", \"embers\", \"flawless\", \"estournel\", \"burning\", \"crozes\", \"garni\", \"beaucaillou\", \"bages\", \"gravelly\", \"l\\u00e9oville\", \"unquestionably\", \"bilberry\", \"du\", \"pomerol\", \"define\", \"saint\", \"haut\", \"98\", \"longevity\", \"hermitage\", \"ch\\u00e2teau\", \"evolve\", \"97\", \"brought\", \"pencil\", \"purple\", \"96\", \"sexy\", \"notions\", \"shavings\", \"coming\", \"decades\", \"garnet\", \"cabernet\", \"95\", \"franc\", \"sauvignon\", \"petit\", \"incredible\", \"sample\", \"going\", \"merlot\", \"seamless\", \"verdot\", \"rating\", \"barrel\", \"years\", \"great\", \"2019\", \"deep\", \"bodied\", \"fruits\", \"medium\", \"new\", \"cassis\", \"2018\", \"black\", \"blend\", \"glass\", \"tannins\", \"2020\", \"de\", \"palate\", \"ripe\", \"oak\", \"wine\", \"notes\", \"finish\", \"fruit\"], \"Freq\": [5035.0, 2471.0, 6263.0, 4285.0, 1050.0, 1317.0, 1001.0, 947.0, 932.0, 4281.0, 4426.0, 4180.0, 3914.0, 1050.0, 3553.0, 1322.0, 2549.0, 1215.0, 1451.0, 1695.0, 4744.0, 700.0, 5708.0, 1184.0, 3595.0, 1368.0, 2475.0, 2935.0, 1344.0, 1848.0, 67.26799898744106, 84.6582081348709, 53.31505822430436, 45.53676570308425, 25.781046457846223, 24.793340120803983, 24.793338522664655, 23.805550553440163, 21.8300046171731, 21.829861962516734, 21.828920571547172, 22.755439725509078, 20.842205034785213, 18.8666197031998, 106.34352439183782, 16.891019542807218, 16.88394304773462, 15.903235342861707, 15.900644475493065, 36.43776121273336, 14.915475041575688, 14.915466162245554, 14.915436884035916, 14.863865240540173, 13.927735408388369, 13.927475918502688, 12.939952780247998, 12.939912307354192, 12.939911931520166, 12.939835033273578, 47.6443941216017, 75.93259180303795, 40.99823390724417, 23.752362828269415, 52.18819328656426, 22.737521192004746, 962.0452976470922, 119.70660964388546, 150.21068658778174, 116.43964461943642, 111.40807241384022, 430.2609714802658, 47.81371107707246, 695.1896113530596, 275.3407320649088, 113.75389431487642, 47.63736422881117, 162.81746974056662, 56.544124183379395, 1369.2805068016373, 1016.0563425958111, 59.23795036218159, 310.305930184243, 651.041316907381, 57.67395976639072, 420.08538358083376, 673.1860489877669, 154.32028155199214, 219.45999872161838, 119.09153743732296, 1043.2163349512834, 327.76419531959914, 349.20030217603005, 204.41886613146826, 507.8172498823611, 1078.9771565452213, 826.9873448016712, 738.381065336247, 587.6874120135732, 948.0490682570794, 294.3751434014836, 321.575325030518, 734.3447154231764, 261.06253698724845, 715.5019446129488, 305.451637164864, 348.57883774994616, 301.357912447001, 334.83382604751534, 362.7136197053904, 260.8170061756016, 285.58182894680334, 261.30559736316206, 157.05933435234928, 113.89500388192214, 49.148436232646134, 37.37635709845701, 31.490345938066415, 41.00742433822761, 30.509294517720452, 25.604298963849907, 24.623241590456534, 22.661265865065396, 22.66124836643091, 22.625612862911765, 19.718155521366448, 22.51345077695208, 16.775226336890587, 16.74773869944114, 14.813207776638873, 14.813195570516184, 14.813174866193146, 14.81317407532965, 14.813123466426466, 14.780164665876015, 13.832202081120794, 13.832182137137083, 13.832087970773573, 13.801834690870294, 18.399358861461092, 29.390570875057435, 12.85118902637038, 12.851121562890043, 28.452526856895897, 17.355052594686878, 62.27384498687063, 22.66127524926244, 25.91970828213706, 99.10202966150777, 56.165256586456245, 74.231120078307, 31.12819264657984, 93.53726176323303, 42.515589732978285, 27.84917123348793, 146.92574421813885, 223.90418403100148, 222.77408791114988, 536.9221917649, 52.80658871302757, 551.5701870628234, 67.30390369791677, 225.25019373489098, 353.7484768489491, 201.70792559902344, 54.570136713163215, 346.34930424867315, 326.67228611522944, 185.3067259117385, 81.02343567499801, 464.16019850797676, 135.09036279510892, 471.06268207774195, 744.8888052510802, 592.1515922179071, 189.90600484761606, 580.7069349961325, 121.89193593339552, 205.27324934171338, 149.71817888004517, 419.0722372384006, 162.29016277354145, 137.81826351433313, 362.63204227780955, 246.15949862692585, 256.82459879765105, 263.9246626771423, 201.8481576431503, 201.01442034927194, 151.38088303641283, 177.95859809937622, 171.15981040422568, 174.28783284304862, 163.49130715121876, 1000.8677105353134, 947.0951137564014, 931.1624853335973, 325.72257108045613, 1047.2768278891651, 129.5521111012122, 86.73268258175773, 60.84271630791614, 82.39494593630538, 56.85955940710665, 47.89745790452106, 47.897454065977485, 44.9098702039139, 43.914258412242546, 43.91338713093708, 40.92691923763184, 40.92667375511657, 39.93113781300166, 37.939543393954615, 36.94374162469056, 32.96061986200343, 29.973251377269, 29.973211976850532, 148.63672117234032, 27.975003231729755, 24.994253489115277, 23.002728770809824, 23.002695648356, 22.971896753200802, 279.2813673345479, 147.8760512075417, 113.2607040249367, 97.92113630139987, 1048.30545972459, 513.3482500296622, 180.43415053250405, 43.23687454500796, 111.51185550506901, 114.27809475842906, 696.9648452045988, 106.01228408936697, 321.6115157110796, 79.43582226017566, 82.49697421719046, 91.63711795981712, 112.57103772732765, 1271.523555889375, 419.14003299093685, 1351.6487526340786, 1001.2215907974979, 968.9376675357796, 307.9597905970749, 247.80500008705425, 269.6377720338153, 295.1031659013496, 227.88069106467768, 229.52930028036184, 252.33432531735022, 355.3764859873673, 354.89780516832326, 304.884161816499, 298.52319907985134, 228.87135642090348, 231.07905153479294, 181.770921547545, 167.75428516785092, 36.71816553358642, 22.26219049093937, 17.397802530724203, 13.588543939636379, 13.588199219536742, 12.624096922024494, 11.661108838804182, 11.66103485426001, 11.660996523579689, 9.733681881503871, 8.769896594888065, 8.76988850561114, 8.769856214245195, 18.33748968817135, 7.806031567913778, 7.805917108432952, 7.805838882402585, 25.102740446466356, 6.842367586950834, 6.842274467105899, 6.842269989860083, 6.842256395431626, 115.48650311734391, 16.065216722421862, 13.514826786395238, 5.878718862853306, 5.878679331198654, 5.878430459398696, 5.8783911216900675, 395.69462552962847, 12.521675880773357, 100.40854086741217, 104.19538474226448, 115.80316692987414, 306.9952388058854, 121.38913203130224, 163.80715773897546, 632.5143544402644, 383.30663546240885, 30.89382089149027, 423.2542302134045, 131.21180481292976, 121.38115468005093, 628.6503405286395, 229.82295540602578, 167.45766212285645, 191.0787265992653, 477.3751836757717, 184.55345828207766, 76.77557679110423, 316.2149625042387, 594.1759101052281, 2196.241280744289, 654.4947956155111, 1604.1438038936637, 98.81166917404934, 1702.5096512736159, 337.70709025955546, 463.5517087824093, 596.4971878611004, 774.8353799065801, 948.8267900550653, 667.2398818536273, 347.02021278816494, 771.7260406965119, 1299.0025439638512, 809.1471667099088, 317.3825057158574, 954.8395193130713, 846.3804244034553, 1104.8400185678292, 548.5020879149819, 926.645875492505, 643.2828919082492, 621.6970268702441, 463.62964414986317, 394.0206487323243, 360.9300069633916, 145.3321878577646, 196.2978797218272, 150.1349650727603, 61.37265366040335, 43.583491404225185, 43.57041170407825, 291.29747267983515, 37.63671609265719, 36.66545821347755, 34.688863228011755, 26.782582965722668, 24.806017454424556, 23.817405606613107, 21.841164858700193, 21.841141806917456, 21.834745498365127, 64.24731607562464, 18.876295440897202, 17.887905142449036, 17.887883426542224, 16.899711688311243, 16.899706559864377, 16.89965075587138, 17.829706351180974, 16.870151367463308, 15.911432597001603, 15.911431750012236, 15.911427941259866, 14.923104302864802, 13.934852865338666, 83.22470359155061, 619.1627647694875, 390.57293136695444, 884.307162617308, 81.3283119487156, 326.0762424459444, 284.2032416854006, 211.5020036000269, 35.93353498907697, 47.39046595083169, 33.776638561943116, 132.2637853304795, 56.408638942532846, 134.47386563417618, 351.5785516370786, 99.89366329033322, 129.78082731773586, 209.09403109067708, 107.44737363283186, 135.27982638383475, 125.05762098939131, 95.17742390585059, 231.96498348172096, 101.80906253095195, 175.9545020965177, 261.54262286902247, 94.14723829371586, 177.86126458483625, 174.33315511820032, 132.06102469449212, 298.39150044435627, 275.13570253216835, 291.9729829935602, 190.04499417300542, 261.70386951095975, 205.45891732792444, 197.36172772313694, 199.6522347676031, 195.06002862034484, 160.82828743689194, 179.83109448991382, 168.04957998844685, 176.15880580857072, 166.84951128082471, 161.20224494666695, 246.58914927570586, 158.53670102789053, 135.71439452394034, 112.00367916187686, 176.65352539162814, 93.18785590373709, 69.42046053084376, 70.38960247058115, 40.70151208979909, 34.759732946564036, 25.84697897156833, 26.790742995780903, 24.85661066770157, 23.86635261165834, 23.86634703868362, 21.885750003407665, 21.885736737488674, 20.895428776127, 46.47143373441344, 19.905134612097225, 18.91474958444036, 42.50575288418613, 41.20312096604708, 14.953625089464163, 14.95356317337845, 14.953333909156047, 104.61540177956695, 13.963291928547067, 48.21085945704594, 12.972947213669537, 349.9264707350947, 60.102508692694585, 219.35244219624605, 1084.0245705894138, 75.74977178479952, 216.57149458092854, 227.9942540528, 121.8772127030484, 115.55317473051704, 54.97956179516648, 556.4317692132947, 272.961078069527, 489.9426537617636, 98.58951455181956, 764.5576031822259, 73.3747569713469, 278.1484680766619, 1169.121416802081, 147.77497548033278, 212.1198225638702, 105.59348427685705, 451.405620822558, 137.5230550171122, 215.0121097856889, 116.78971098923476, 237.60281439260405, 218.554977909291, 473.0085328348289, 219.4621726001565, 940.0935018973946, 437.22042872360447, 411.5230451608041, 344.8782907136317, 777.5554751961403, 1169.1363859451944, 692.8322334128167, 881.8847385757175, 740.6984956037942, 443.9012433429416, 525.8372274319144, 648.1707895645023, 618.9482155156049, 580.0577917329327, 576.1148503753623, 370.8610408356001, 565.4853727729488, 297.18047451165745, 260.216293704776, 296.01350073662184, 296.94847171001084, 306.19210863290965, 298.07366573059295, 112.83820960838476, 98.99306438912016, 94.04840023740256, 64.38010937673698, 205.82114974099085, 62.402195710460525, 69.22485574967929, 62.36246893411245, 59.435317635981725, 73.04498188513028, 51.523852914430364, 51.52384938493601, 50.5348687701297, 47.56805753967139, 42.62338796828902, 58.09723103961916, 55.18995878710935, 38.6675945702117, 37.677997092416106, 70.20950842644149, 77.87231901505854, 30.756038492785898, 34.55096093288885, 30.71014956347293, 27.789234696651597, 88.172640267921, 26.800308556369618, 32.511792504061304, 24.82239708275212, 24.821765665442427, 434.57984939712304, 336.7032957405679, 90.47224367174123, 59.97402140126797, 257.70056009850066, 189.08290114463324, 45.43468068595848, 62.42480120756172, 283.29438807104276, 139.3929113856969, 89.30522215772211, 81.30578503246325, 246.43838300550402, 167.93283570930188, 110.34686147145919, 497.11617664256147, 417.8368042607637, 108.48579044899085, 174.10523782371934, 316.0403879874801, 554.2149927220602, 457.9337961193892, 398.4681271673602, 389.2128373812401, 125.14809096917433, 137.0917099786162, 195.9466714094541, 2373.0992417103926, 690.3379163254181, 211.77231517204862, 362.14603033810505, 875.6259289051058, 310.3039727950816, 309.9945757582275, 165.72208790197638, 325.2874143551757, 479.39288910518303, 344.97627101800066, 288.33379154587016, 1070.2859132465185, 412.5400283231928, 460.21465962010654, 414.3097184768988, 308.76581120402665, 363.75995502552314, 298.92817156209907, 370.86732695201715, 360.8655317112556, 309.4341753628132, 305.6820816349759, 360.95853432040104, 328.5275202988453, 48.85881172826051, 45.74656226951139, 41.59741732737881, 41.59740522445551, 34.336002139387, 32.26122662591579, 30.186642317993197, 28.11195659822043, 24.99993244947974, 23.962505137809043, 21.88791050572017, 21.88789670237225, 21.887786211825762, 20.850553589078682, 20.849637154895365, 30.77016277018076, 19.813239457803732, 26.72063688037118, 18.77577989007165, 17.738514960887475, 17.738235758474506, 17.73715465493748, 16.70118771400194, 15.663870441719501, 15.66385879436888, 16.579524744203653, 14.626480453959946, 14.626470491837011, 14.626418084380472, 13.589107679492566, 22.545317855146404, 32.01963732736983, 203.66656459657054, 49.690719596039834, 27.4006436344726, 142.57836848585526, 55.248000121178265, 61.244828825488014, 55.189825105844996, 59.51516917546859, 23.662202740588224, 63.17119893279794, 278.8340083364302, 61.30262479812646, 165.97330596262614, 82.51630926649698, 152.18623363394386, 51.3977069947719, 131.06481600809056, 107.12429371412338, 270.256100195823, 67.56004751511809, 241.8365016335193, 156.4327999787482, 91.83152870896375, 82.67175045554086, 142.80261365501758, 101.11141543710123, 181.43958130601936, 132.12501909514563, 136.76872918289874, 100.45039653428458, 79.03770930948934, 87.79334711633639, 117.70770536362642, 85.48626164746388, 115.70556088739954, 98.00610218027026, 84.96414930642284, 98.78160850569603, 78.98871112413386, 75.04520135026594, 68.19916966235206, 111.92670588661525, 47.32936106164435, 48.21167869608177, 25.22220886771792, 25.2217579234258, 24.21737304728956, 18.188139590419794, 30.614060657251247, 54.34463951658696, 15.173279324126032, 21.697169654632447, 13.163785277094233, 13.163783986464157, 13.163747003643655, 14.975986417614545, 17.78275947844891, 12.158902115209559, 10.14918613790126, 10.149177882743377, 10.148561891592047, 9.14430386674708, 9.144287680626427, 9.144240218443036, 9.144229644041735, 9.144211803315452, 9.144211564847586, 8.139413184981503, 8.139389707004197, 8.139390037234914, 8.139334456493634, 111.91551372912524, 107.24231009410161, 23.14558823722404, 140.35066113754365, 203.8298287361102, 135.78105636872309, 24.812049162214812, 41.77943994910521, 16.664421586001687, 128.15783106698132, 140.6321652081774, 308.43950285738936, 25.232498801406805, 104.37512845315499, 487.4088608792585, 274.898978767189, 1006.4380599751654, 77.96960940100527, 392.76110506753525, 312.21360548711493, 363.9657773758905, 237.99172926227342, 74.20946204050655, 62.48773520325007, 184.19659476525854, 148.6999813193349, 102.84799600040623, 703.5804948802648, 419.6789016617522, 369.3654164421953, 688.2706401506323, 606.5421997754592, 246.84748183451998, 600.4374890036563, 567.4762844577458, 395.94647070539634, 331.0786244782701, 262.4037605015682, 425.6857728767643, 260.97704538767715, 212.8787975497716, 200.93256419244526, 232.71929894784992, 202.31359287998723, 228.4588187013154, 224.6086509168112, 192.89816671983795, 140.3052561811457, 223.4386890645563, 71.18937143374967, 58.35354296352815, 67.04644906537848, 51.44192402448721, 46.505126420973774, 46.50509425791143, 45.517731599681866, 48.367261824668404, 40.58079380796115, 47.185064429913865, 34.65657450311107, 33.669301514006435, 31.69456954145767, 31.694563533979334, 31.694516030199107, 30.70719460061374, 30.70718501489995, 30.707176879117558, 29.719823616091116, 28.732464439066984, 28.732394078831433, 28.732162193040974, 27.745078463229728, 26.757707933942584, 26.75764239938139, 309.476337986119, 25.77030755007507, 63.91439217354937, 215.5574185187218, 96.74945944681525, 115.2975275731905, 51.43826155173536, 66.47772438957452, 305.0655015820721, 130.55408849083562, 140.5937684371965, 122.99759488841266, 230.01793948308134, 506.3366862456201, 181.5937991900186, 69.52348344839153, 109.32262546086557, 100.22439281695362, 292.1086767431224, 146.5372796435269, 201.484154949193, 1606.5843809854562, 261.9285101458713, 552.7034952771794, 1001.5316773356409, 387.082967417056, 104.48674142990606, 774.2627949061824, 247.85121705885345, 611.3667508498633, 253.58401439150967, 344.97883562072553, 269.55759262139657, 769.2802977309995, 774.2193258313455, 560.7709573234897, 741.9001138697403, 507.11271838232096, 1621.6318272349056, 705.6273816559149, 1246.115573025632, 507.35973855305963, 430.4017105221475, 524.6526110906904, 943.9314514304154, 540.3056256106361, 385.4520702476835, 908.2503784283929, 438.18430206760826, 377.91272868504035, 716.665223779892, 589.5427035758553, 508.4652311323532, 700.1214106487027, 579.3556828301944, 536.9422133559096, 398.5163244573862], \"Total\": [5035.0, 2471.0, 6263.0, 4285.0, 1050.0, 1317.0, 1001.0, 947.0, 932.0, 4281.0, 4426.0, 4180.0, 3914.0, 1050.0, 3553.0, 1322.0, 2549.0, 1215.0, 1451.0, 1695.0, 4744.0, 700.0, 5708.0, 1184.0, 3595.0, 1368.0, 2475.0, 2935.0, 1344.0, 1848.0, 68.16179759554748, 85.94036737387069, 54.334977849513145, 46.43056832619836, 26.674907453572672, 25.68712224177527, 25.687122094106314, 24.699339041900217, 22.723772623818128, 22.723773477905528, 22.723779400155912, 23.71162977150938, 21.735989506211745, 19.760423503376558, 111.69376480920657, 17.784857029704025, 17.78480982170889, 16.79707456931458, 16.797076629783138, 38.520460901939195, 15.809290674912155, 15.80929015080448, 15.809291540770197, 15.808936946254788, 14.821507595799297, 14.82150262728738, 13.83372432314578, 13.833724466445677, 13.833724441274523, 13.833725261931763, 51.41846113596062, 83.0209144653903, 44.44183796776553, 25.686687447369994, 57.4074202221841, 24.70799613942109, 1368.084833149077, 146.01706912317997, 187.32306615704394, 144.6160773459897, 139.31384904652552, 609.9969816718635, 55.652322301307606, 1055.9640861800945, 385.6267689632324, 149.37486491158546, 56.32609800268514, 241.1951888875475, 71.36191554482588, 3553.004789066766, 2471.1533218169825, 76.95839522295668, 599.4210157814343, 1591.715541775201, 74.9166862599003, 959.3396569680998, 1848.7738365744772, 273.91327111854747, 461.1047604206873, 200.2191209110572, 4285.73530279016, 855.3669207851401, 955.3955891754321, 456.0410982297072, 1825.0047677750833, 5877.794877218917, 4281.088020957148, 3595.5313804705156, 2549.0809002317947, 5708.006327309895, 842.0931094538596, 1057.1646013684208, 5035.06332645055, 782.1868695525391, 6263.399304222143, 1116.3120743484108, 1593.9879030533411, 1167.9564433393157, 1689.34975468738, 2935.5735293293233, 1061.3209262793932, 2994.3858463043603, 2273.558032701075, 157.95379566239922, 114.78945102314104, 50.04293453523412, 38.27084144542311, 32.384793780561516, 42.19677254058296, 31.403786620478346, 26.498746716136925, 25.51773913605245, 23.555723362098366, 23.55572388604149, 23.555988547507607, 20.612701414580663, 23.55668337573505, 17.66967637869425, 17.66986679442252, 15.70766082035967, 15.707661003310365, 15.707661250676832, 15.707661086068029, 15.707661663448048, 15.707890270306946, 14.726653164269292, 14.726653110499987, 14.726654134231625, 14.726851733821833, 19.634425525845092, 31.412834046501676, 13.745645101100706, 13.745646958875975, 30.479725014378037, 18.65392975630234, 69.7156217713339, 24.560593454797814, 29.505683468743886, 132.0211481800819, 70.2974303533694, 103.1659629103469, 37.32621072362395, 137.631003030489, 54.852601459732014, 33.40010595794947, 250.49831485338734, 423.12958808073597, 422.44051897413954, 1322.5786057519163, 73.77440527880589, 1451.0326953114347, 105.1817536231173, 537.638328850263, 1011.6242018662072, 470.408605492848, 82.60609256434998, 1239.6804419620044, 1194.73844481255, 517.6166403466516, 154.51172709742707, 2273.558032701075, 340.87939414061975, 2475.279451608689, 5708.006327309895, 4285.73530279016, 726.2473851522516, 5877.794877218917, 340.85544395434, 896.7917066733453, 551.6616140592719, 4744.657685582963, 676.7705645623593, 485.9286346171452, 4180.4730186737015, 2128.4568990145485, 2994.3858463043603, 3595.5313804705156, 1825.0047677750833, 2491.3714996311915, 753.0613893484197, 3914.204593212522, 2816.5117469437178, 4281.088020957148, 2471.1533218169825, 1001.76069898904, 947.9880816340348, 932.0554542703626, 326.6156143983412, 1050.5955443858775, 130.44514247321317, 87.62622593071443, 61.73568509631477, 83.65786642146675, 57.752528246930424, 48.790425399818204, 48.79042540893744, 45.803063942820096, 44.80726836339343, 44.80730630281062, 41.81990107292275, 41.81989934178282, 40.82411165081461, 38.832533133388765, 37.836743926715364, 33.85358724063573, 30.8662196784286, 30.866219371196465, 153.32203695329602, 28.874701335190668, 25.887273347785612, 23.89569516561242, 23.89569493045211, 23.896981704222245, 290.6465357442559, 154.31200429104913, 118.45896061066111, 102.53990332326302, 1317.6035415050899, 627.5663404160229, 230.79222888253057, 46.778742484879096, 137.63443691431252, 142.79690400121729, 1184.4678366266962, 131.69908508415153, 497.06874911255596, 96.43068285138354, 101.74384454058445, 117.48618740978353, 157.08647364530768, 4281.088020957148, 1029.0574577788434, 6263.399304222143, 4285.73530279016, 4180.4730186737015, 1287.8284067994646, 876.2243848068407, 1139.8032363246273, 1792.4860249232436, 1061.3209262793932, 1167.9564433393157, 1540.4868668157771, 4744.657685582963, 5877.794877218917, 3553.004789066766, 3595.5313804705156, 1469.5369273223491, 2994.3858463043603, 1574.2639429941216, 171.67030622826385, 37.61435582915749, 23.158377419991783, 18.341668786165872, 14.484791992406313, 14.484805529412284, 13.521091238048662, 12.557327677871575, 12.557329334602828, 12.557335761390794, 10.62986263946942, 9.6661327078668, 9.666132551679294, 9.666133086449893, 20.295683414414626, 8.702403304078533, 8.702410106746056, 8.702406790691759, 28.04283597075644, 7.7386699765835445, 7.73867648649191, 7.738672194290169, 7.738676151267975, 131.45724478167315, 18.375774411125413, 15.47441775505484, 6.774935774996752, 6.774937023241797, 6.774945654886073, 6.774944483712605, 456.38817857824955, 14.512700116579058, 119.00771064885008, 125.85549807296789, 140.36861839348302, 381.7826430065088, 148.1153063018943, 202.47000331901668, 817.4139048177051, 510.21252600836954, 36.81230648275169, 599.825254483271, 173.67683542455964, 162.14087436249727, 957.4025777646784, 337.827741125148, 238.82311020918786, 277.76354960442256, 786.5556326481062, 271.3526951495297, 102.92286616714755, 506.27769017402704, 1112.385349100779, 5035.06332645055, 1249.491259250918, 3914.204593212522, 144.7029277346918, 4426.907687043065, 678.3170961110739, 1026.3630196540378, 1455.1636469274833, 2128.4568990145485, 2935.5735293293233, 1848.7738365744772, 734.463556162476, 2475.279451608689, 5708.006327309895, 2816.5117469437178, 668.4263623328525, 4180.4730186737015, 3595.5313804705156, 5877.794877218917, 1792.4860249232436, 4744.657685582963, 2994.3858463043603, 3553.004789066766, 2273.558032701075, 1292.7662130339736, 957.9269390599917, 146.2710325182028, 197.66289865794062, 151.21275800249256, 62.26642527843623, 44.47723380498956, 44.477260401848014, 297.4825673628339, 38.54755353573883, 37.559214653471, 35.58263854654502, 27.6763309417883, 25.699753815231634, 24.711469415191452, 22.7348884304132, 22.734888615083065, 22.73493704004794, 67.20923526876011, 19.77002322588105, 18.781735790519786, 18.781735851955247, 17.793446614047372, 17.7934462252388, 17.79344650780906, 18.781854085280965, 17.79350705077313, 16.80515794355918, 16.80515794927469, 16.805157978281606, 15.816869177262788, 14.828581169750322, 88.98688435238722, 700.4918158054115, 447.954709489666, 1050.073029034032, 89.97242618783707, 391.855216476809, 372.25719419268836, 276.9098241723704, 40.552137762969586, 56.28311196738975, 39.54730435087371, 200.60259741378394, 78.09375567665113, 235.34492375204528, 849.4386663701845, 183.99550450753907, 269.8046540050305, 539.6475707479267, 209.35733391555345, 296.3308800910393, 277.19929365321326, 182.64616312833803, 892.3492029944994, 236.22613508992157, 665.1653911561482, 1478.585518825154, 213.40430193082346, 872.2630062899817, 956.339013447272, 521.5460304966729, 5877.794877218917, 4744.657685582963, 6263.399304222143, 1695.5575517338439, 5708.006327309895, 2816.5117469437178, 2935.5735293293233, 4180.4730186737015, 4426.907687043065, 1397.7691856551733, 3914.204593212522, 2128.4568990145485, 4281.088020957148, 2994.3858463043603, 3595.5313804705156, 247.5780762217683, 159.4413830097346, 136.66448309518913, 112.89723105273765, 178.25087217919565, 94.0813988389997, 70.314031290363, 71.3044565743353, 41.59512896798615, 35.6532873441669, 26.74052451438537, 27.730394360619275, 25.75021762943548, 24.759910837547434, 24.759910480927665, 22.77929679326836, 22.779297438043038, 21.788989920292373, 48.52490566532638, 20.798683547402792, 19.808377609860557, 44.555094147232246, 43.57137521707153, 15.847147947717444, 15.847148869493028, 15.847151510006338, 110.9651831967629, 14.856840935366346, 51.51144674576513, 13.866535394784453, 377.1906622775862, 64.3653102380917, 238.62833200762316, 1215.5327448184019, 82.14555879114906, 241.62484025541073, 256.4977708797427, 135.04443676342612, 128.71655797362234, 59.43917187736586, 690.7051946384403, 327.06335708141347, 609.5128255156786, 110.87822391267962, 989.0656292822632, 81.19296768351248, 349.62671395602297, 1695.5575517338439, 175.64970572994093, 270.1076845748448, 124.74354849047847, 678.4909800547837, 172.0538118389892, 299.4073714715378, 142.92901349839926, 360.03295808349463, 333.27032245245914, 957.9269390599917, 338.42013158300284, 2491.3714996311915, 872.2630062899817, 849.4386663701845, 665.1653911561482, 2816.5117469437178, 5708.006327309895, 2935.5735293293233, 4744.657685582963, 4285.73530279016, 1574.2639429941216, 2475.279451608689, 4180.4730186737015, 4281.088020957148, 3914.204593212522, 4426.907687043065, 1409.9393860246696, 5877.794877218917, 709.3685369827956, 539.6475707479267, 1239.6804419620044, 1792.4860249232436, 2994.3858463043603, 2273.558032701075, 113.73197582628526, 99.8867840979487, 94.94207278320418, 65.27379989785052, 208.7355331371227, 63.29591493806844, 70.21865042270043, 63.295905798315054, 60.32909057977929, 74.17390795094813, 52.417549309903414, 52.41754942146617, 51.42860618671531, 48.46178050119718, 43.51706686915056, 59.340315713154894, 56.373657652578146, 39.56129768572279, 38.57235502017153, 72.20388108946639, 80.1070489546703, 31.649758872242607, 35.605749560360564, 31.65200532522515, 28.68293098942044, 91.08026609195325, 27.693988334866923, 33.62738250414002, 25.716103984939227, 25.71613456471719, 456.40207996525663, 354.043627644784, 93.99313111386707, 62.313658182651764, 278.3395053619448, 202.78786391463896, 47.47101752095399, 66.27800980385645, 329.29225929417805, 155.4693449972557, 97.24889475685264, 88.01624085083533, 294.72173052335216, 196.94503709395596, 123.6369003599825, 673.4687875695677, 554.1871151696724, 121.77047572777074, 208.81641800283563, 429.0262441256318, 832.9267534021128, 688.6048606271554, 597.2376148149108, 586.9154771343796, 147.34025943954947, 165.42638176787494, 261.69524857169426, 6263.399304222143, 1397.7691856551733, 299.15094291582704, 619.7394775315419, 2087.7665076434323, 514.3334084347567, 521.2984904541045, 217.73652591836756, 599.3295315839167, 1080.0996468438607, 711.1572590110694, 535.8645447419967, 5877.794877218917, 1194.73844481255, 1478.585518825154, 1238.9529117892762, 696.3180840627915, 995.8149630389516, 692.2058251769902, 1505.8823335535556, 1469.5369273223491, 863.2644517424025, 885.4949030445705, 5035.06332645055, 2491.3714996311915, 49.74764089534905, 46.63560006965095, 42.486243482075906, 42.48624292167887, 35.224845020358764, 33.150156346795825, 31.075475310640805, 29.000790135824214, 25.888762806907543, 24.8514170197852, 22.77673552231531, 22.77673497990251, 22.776730357271724, 21.739391956923892, 21.739348950670657, 32.09164361659998, 20.702051141417748, 27.94737414198829, 19.664703083968643, 18.627364102022895, 18.6273532805705, 18.6272999302643, 17.59002233578926, 16.55268108768155, 16.552680629651245, 17.584345950596937, 15.51533581517046, 15.51533588327216, 15.515334163797338, 14.477992256201105, 24.785293954982976, 36.02420812967332, 270.4725358333606, 59.619279873816296, 30.944585123723915, 222.10080624844343, 73.79547426749762, 83.93393783141266, 85.42936272639373, 112.65863402626505, 28.795776235528486, 129.16057090373306, 1344.8391458531855, 128.53175901720806, 732.3315309453661, 239.17698014420978, 739.619633495807, 107.17535820549143, 596.0139332144154, 514.3334084347567, 4744.657685582963, 245.26017227807503, 5877.794877218917, 2128.4568990145485, 658.2116228551547, 501.11152544208846, 2816.5117469437178, 1029.0574577788434, 6263.399304222143, 2475.279451608689, 2994.3858463043603, 1139.8032363246273, 521.2290959492915, 1011.5801983126992, 4281.088020957148, 919.1779775807654, 5708.006327309895, 2273.558032701075, 1239.6804419620044, 4180.4730186737015, 1008.0706304399788, 1469.5369273223491, 1238.9529117892762, 113.52095381186695, 48.22144804115617, 49.223408211350936, 26.11430067647327, 26.11428327901217, 25.10943104689233, 19.080209019856245, 32.134181232502705, 57.28174546508344, 16.065590406117686, 23.091599064899267, 14.055857408094235, 14.055857061485414, 14.05585654611992, 16.06223901285845, 19.073315840451066, 13.050986804357445, 11.041246455546386, 11.041246267396387, 11.041221720725655, 10.036375984712176, 10.03637564771689, 10.03637321304353, 10.036373651149463, 10.03637432460383, 10.03637507071485, 9.03150526058595, 9.031504892808607, 9.031505564156076, 9.031504796205311, 124.39554347452754, 123.2712615698786, 26.07900266532729, 169.3241692540084, 257.60427304578155, 174.34248575129848, 29.186233962408163, 51.135181834538265, 19.05366994822679, 179.08970035176978, 208.92730422941548, 509.5450807142903, 31.052792411829493, 161.06758272947098, 969.8640135668996, 498.61163509413444, 2471.1533218169825, 116.88385268371317, 838.5107670182044, 687.2285961924342, 888.6233985357258, 520.9850835239661, 119.9022160686021, 98.8436482617026, 423.8695921261789, 320.5553915892526, 197.26084752321202, 3595.5313804705156, 1825.0047677750833, 1792.4860249232436, 5035.06332645055, 4180.4730186737015, 955.3955891754321, 4744.657685582963, 4285.73530279016, 2935.5735293293233, 2491.3714996311915, 1574.2639429941216, 5708.006327309895, 2816.5117469437178, 1455.1636469274833, 1167.9564433393157, 2128.4568990145485, 1287.8284067994646, 3553.004789066766, 4281.088020957148, 1848.7738365744772, 141.1991129734536, 225.12631771023743, 72.0831982050141, 59.247385381040914, 68.13247236853677, 52.33579454055715, 47.398942946763604, 47.39894297129264, 46.411573085916245, 49.373862973041646, 41.47472238870388, 48.3872276119514, 35.550501236805715, 34.56313024245815, 32.588389867219455, 32.58838990540257, 32.58839101372765, 31.601019802910745, 31.60101965964052, 31.601019708344687, 30.613649913575742, 29.626279274248, 29.626279705823222, 29.626273832261663, 28.63890929296132, 27.651539060414937, 27.651539752377275, 320.0457805856634, 26.664168276409853, 66.1602334025146, 225.23647852627872, 100.74312968785475, 120.47114273428735, 53.33161432931947, 69.12387348409881, 332.97735929114845, 139.04468671827286, 153.06598316386103, 134.3045398506718, 267.9503032253336, 639.2558971023268, 212.39929911975187, 76.03208787769343, 125.42334094826933, 114.4981252323404, 373.3316308939817, 173.97293979829135, 247.99456383683417, 2549.0809002317947, 338.59375189828324, 821.3303049169108, 1689.34975468738, 566.1722002361033, 121.57195233075606, 1322.5786057519163, 346.12087649786866, 1057.1646013684208, 357.911915365212, 523.7104838552704, 388.9861031779416, 1451.0326953114347, 1505.8823335535556, 1008.0706304399788, 1469.5369273223491, 919.1779775807654, 4426.907687043065, 1540.4868668157771, 3914.204593212522, 1080.0996468438607, 842.0931094538596, 1238.9529117892762, 3553.004789066766, 1478.585518825154, 840.8946833221662, 5035.06332645055, 1139.8032363246273, 892.3492029944994, 4744.657685582963, 2994.3858463043603, 2087.7665076434323, 6263.399304222143, 4281.088020957148, 5708.006327309895, 5877.794877218917], \"Category\": [\"Default\", \"Default\", \"Default\", \"Default\", \"Default\", \"Default\", \"Default\", \"Default\", \"Default\", \"Default\", \"Default\", \"Default\", \"Default\", \"Default\", \"Default\", \"Default\", \"Default\", \"Default\", \"Default\", \"Default\", \"Default\", \"Default\", \"Default\", \"Default\", \"Default\", \"Default\", \"Default\", \"Default\", \"Default\", \"Default\", \"Topic1\", \"Topic1\", \"Topic1\", \"Topic1\", \"Topic1\", \"Topic1\", \"Topic1\", \"Topic1\", \"Topic1\", \"Topic1\", \"Topic1\", \"Topic1\", \"Topic1\", \"Topic1\", \"Topic1\", \"Topic1\", \"Topic1\", \"Topic1\", \"Topic1\", \"Topic1\", \"Topic1\", \"Topic1\", \"Topic1\", \"Topic1\", \"Topic1\", \"Topic1\", \"Topic1\", \"Topic1\", \"Topic1\", \"Topic1\", \"Topic1\", \"Topic1\", \"Topic1\", \"Topic1\", \"Topic1\", \"Topic1\", \"Topic1\", \"Topic1\", \"Topic1\", \"Topic1\", \"Topic1\", \"Topic1\", \"Topic1\", \"Topic1\", \"Topic1\", \"Topic1\", \"Topic1\", \"Topic1\", \"Topic1\", \"Topic1\", \"Topic1\", \"Topic1\", \"Topic1\", \"Topic1\", \"Topic1\", \"Topic1\", \"Topic1\", \"Topic1\", \"Topic1\", \"Topic1\", \"Topic1\", \"Topic1\", \"Topic1\", \"Topic1\", \"Topic1\", \"Topic1\", \"Topic1\", \"Topic1\", \"Topic1\", \"Topic1\", \"Topic1\", \"Topic1\", \"Topic1\", \"Topic1\", \"Topic1\", \"Topic1\", \"Topic1\", \"Topic1\", \"Topic1\", \"Topic1\", \"Topic1\", \"Topic1\", \"Topic1\", \"Topic2\", \"Topic2\", \"Topic2\", \"Topic2\", \"Topic2\", \"Topic2\", \"Topic2\", \"Topic2\", \"Topic2\", \"Topic2\", \"Topic2\", \"Topic2\", \"Topic2\", \"Topic2\", \"Topic2\", \"Topic2\", \"Topic2\", \"Topic2\", \"Topic2\", \"Topic2\", \"Topic2\", \"Topic2\", \"Topic2\", \"Topic2\", \"Topic2\", \"Topic2\", \"Topic2\", \"Topic2\", \"Topic2\", \"Topic2\", \"Topic2\", \"Topic2\", \"Topic2\", \"Topic2\", \"Topic2\", \"Topic2\", \"Topic2\", \"Topic2\", \"Topic2\", \"Topic2\", \"Topic2\", \"Topic2\", \"Topic2\", \"Topic2\", \"Topic2\", \"Topic2\", \"Topic2\", \"Topic2\", \"Topic2\", \"Topic2\", \"Topic2\", \"Topic2\", \"Topic2\", \"Topic2\", \"Topic2\", \"Topic2\", \"Topic2\", \"Topic2\", \"Topic2\", \"Topic2\", \"Topic2\", \"Topic2\", \"Topic2\", \"Topic2\", \"Topic2\", \"Topic2\", \"Topic2\", \"Topic2\", \"Topic2\", \"Topic2\", \"Topic2\", \"Topic2\", \"Topic2\", \"Topic2\", \"Topic2\", \"Topic2\", \"Topic2\", \"Topic2\", \"Topic2\", \"Topic2\", \"Topic2\", \"Topic3\", \"Topic3\", \"Topic3\", \"Topic3\", \"Topic3\", \"Topic3\", \"Topic3\", \"Topic3\", \"Topic3\", \"Topic3\", \"Topic3\", \"Topic3\", \"Topic3\", \"Topic3\", \"Topic3\", \"Topic3\", \"Topic3\", \"Topic3\", \"Topic3\", \"Topic3\", \"Topic3\", \"Topic3\", \"Topic3\", \"Topic3\", \"Topic3\", \"Topic3\", \"Topic3\", \"Topic3\", \"Topic3\", \"Topic3\", \"Topic3\", \"Topic3\", \"Topic3\", \"Topic3\", \"Topic3\", \"Topic3\", \"Topic3\", \"Topic3\", \"Topic3\", \"Topic3\", \"Topic3\", \"Topic3\", \"Topic3\", \"Topic3\", \"Topic3\", \"Topic3\", \"Topic3\", \"Topic3\", \"Topic3\", \"Topic3\", \"Topic3\", \"Topic3\", \"Topic3\", \"Topic3\", \"Topic3\", \"Topic3\", \"Topic3\", \"Topic3\", \"Topic3\", \"Topic3\", \"Topic3\", \"Topic3\", \"Topic3\", \"Topic3\", \"Topic3\", \"Topic4\", \"Topic4\", \"Topic4\", \"Topic4\", \"Topic4\", \"Topic4\", \"Topic4\", \"Topic4\", \"Topic4\", \"Topic4\", \"Topic4\", \"Topic4\", \"Topic4\", \"Topic4\", \"Topic4\", \"Topic4\", \"Topic4\", \"Topic4\", \"Topic4\", \"Topic4\", \"Topic4\", \"Topic4\", \"Topic4\", \"Topic4\", \"Topic4\", \"Topic4\", \"Topic4\", \"Topic4\", \"Topic4\", \"Topic4\", \"Topic4\", \"Topic4\", \"Topic4\", \"Topic4\", \"Topic4\", \"Topic4\", \"Topic4\", \"Topic4\", \"Topic4\", \"Topic4\", \"Topic4\", \"Topic4\", \"Topic4\", \"Topic4\", \"Topic4\", \"Topic4\", \"Topic4\", \"Topic4\", \"Topic4\", \"Topic4\", \"Topic4\", \"Topic4\", \"Topic4\", \"Topic4\", \"Topic4\", \"Topic4\", \"Topic4\", \"Topic4\", \"Topic4\", \"Topic4\", \"Topic4\", \"Topic4\", \"Topic4\", \"Topic4\", \"Topic4\", \"Topic4\", \"Topic4\", \"Topic4\", \"Topic4\", \"Topic4\", \"Topic4\", \"Topic4\", \"Topic4\", \"Topic4\", \"Topic4\", \"Topic4\", \"Topic4\", \"Topic4\", \"Topic4\", \"Topic5\", \"Topic5\", \"Topic5\", \"Topic5\", \"Topic5\", \"Topic5\", \"Topic5\", \"Topic5\", \"Topic5\", \"Topic5\", \"Topic5\", \"Topic5\", \"Topic5\", \"Topic5\", \"Topic5\", \"Topic5\", \"Topic5\", \"Topic5\", \"Topic5\", \"Topic5\", \"Topic5\", \"Topic5\", \"Topic5\", \"Topic5\", \"Topic5\", \"Topic5\", \"Topic5\", \"Topic5\", \"Topic5\", \"Topic5\", \"Topic5\", \"Topic5\", \"Topic5\", \"Topic5\", \"Topic5\", \"Topic5\", \"Topic5\", \"Topic5\", \"Topic5\", \"Topic5\", \"Topic5\", \"Topic5\", \"Topic5\", \"Topic5\", \"Topic5\", \"Topic5\", \"Topic5\", \"Topic5\", \"Topic5\", \"Topic5\", \"Topic5\", \"Topic5\", \"Topic5\", \"Topic5\", \"Topic5\", \"Topic5\", \"Topic5\", \"Topic5\", \"Topic5\", \"Topic5\", \"Topic5\", \"Topic5\", \"Topic5\", \"Topic5\", \"Topic5\", \"Topic5\", \"Topic5\", \"Topic5\", \"Topic5\", \"Topic5\", \"Topic5\", \"Topic5\", \"Topic5\", \"Topic5\", \"Topic5\", \"Topic6\", \"Topic6\", \"Topic6\", \"Topic6\", \"Topic6\", \"Topic6\", \"Topic6\", \"Topic6\", \"Topic6\", \"Topic6\", \"Topic6\", \"Topic6\", \"Topic6\", \"Topic6\", \"Topic6\", \"Topic6\", \"Topic6\", \"Topic6\", \"Topic6\", \"Topic6\", \"Topic6\", \"Topic6\", \"Topic6\", \"Topic6\", \"Topic6\", \"Topic6\", \"Topic6\", \"Topic6\", \"Topic6\", \"Topic6\", \"Topic6\", \"Topic6\", \"Topic6\", \"Topic6\", \"Topic6\", \"Topic6\", \"Topic6\", \"Topic6\", \"Topic6\", \"Topic6\", \"Topic6\", \"Topic6\", \"Topic6\", \"Topic6\", \"Topic6\", \"Topic6\", \"Topic6\", \"Topic6\", \"Topic6\", \"Topic6\", \"Topic6\", \"Topic6\", \"Topic6\", \"Topic6\", \"Topic6\", \"Topic6\", \"Topic6\", \"Topic6\", \"Topic6\", \"Topic6\", \"Topic6\", \"Topic6\", \"Topic6\", \"Topic6\", \"Topic6\", \"Topic6\", \"Topic6\", \"Topic6\", \"Topic6\", \"Topic6\", \"Topic6\", \"Topic6\", \"Topic6\", \"Topic6\", \"Topic6\", \"Topic6\", \"Topic6\", \"Topic6\", \"Topic6\", \"Topic6\", \"Topic6\", \"Topic6\", \"Topic7\", \"Topic7\", \"Topic7\", \"Topic7\", \"Topic7\", \"Topic7\", \"Topic7\", \"Topic7\", \"Topic7\", \"Topic7\", \"Topic7\", \"Topic7\", \"Topic7\", \"Topic7\", \"Topic7\", \"Topic7\", \"Topic7\", \"Topic7\", \"Topic7\", \"Topic7\", \"Topic7\", \"Topic7\", \"Topic7\", \"Topic7\", \"Topic7\", \"Topic7\", \"Topic7\", \"Topic7\", \"Topic7\", \"Topic7\", \"Topic7\", \"Topic7\", \"Topic7\", \"Topic7\", \"Topic7\", \"Topic7\", \"Topic7\", \"Topic7\", \"Topic7\", \"Topic7\", \"Topic7\", \"Topic7\", \"Topic7\", \"Topic7\", \"Topic7\", \"Topic7\", \"Topic7\", \"Topic7\", \"Topic7\", \"Topic7\", \"Topic7\", \"Topic7\", \"Topic7\", \"Topic7\", \"Topic7\", \"Topic7\", \"Topic7\", \"Topic7\", \"Topic7\", \"Topic7\", \"Topic7\", \"Topic7\", \"Topic7\", \"Topic7\", \"Topic7\", \"Topic7\", \"Topic7\", \"Topic7\", \"Topic7\", \"Topic7\", \"Topic7\", \"Topic7\", \"Topic7\", \"Topic7\", \"Topic7\", \"Topic7\", \"Topic7\", \"Topic7\", \"Topic7\", \"Topic7\", \"Topic7\", \"Topic7\", \"Topic8\", \"Topic8\", \"Topic8\", \"Topic8\", \"Topic8\", \"Topic8\", \"Topic8\", \"Topic8\", \"Topic8\", \"Topic8\", \"Topic8\", \"Topic8\", \"Topic8\", \"Topic8\", \"Topic8\", \"Topic8\", \"Topic8\", \"Topic8\", \"Topic8\", \"Topic8\", \"Topic8\", \"Topic8\", \"Topic8\", \"Topic8\", \"Topic8\", \"Topic8\", \"Topic8\", \"Topic8\", \"Topic8\", \"Topic8\", \"Topic8\", \"Topic8\", \"Topic8\", \"Topic8\", \"Topic8\", \"Topic8\", \"Topic8\", \"Topic8\", \"Topic8\", \"Topic8\", \"Topic8\", \"Topic8\", \"Topic8\", \"Topic8\", \"Topic8\", \"Topic8\", \"Topic8\", \"Topic8\", \"Topic8\", \"Topic8\", \"Topic8\", \"Topic8\", \"Topic8\", \"Topic8\", \"Topic8\", \"Topic8\", \"Topic8\", \"Topic8\", \"Topic8\", \"Topic8\", \"Topic8\", \"Topic8\", \"Topic8\", \"Topic8\", \"Topic8\", \"Topic8\", \"Topic8\", \"Topic8\", \"Topic8\", \"Topic8\", \"Topic8\", \"Topic8\", \"Topic8\", \"Topic9\", \"Topic9\", \"Topic9\", \"Topic9\", \"Topic9\", \"Topic9\", \"Topic9\", \"Topic9\", \"Topic9\", \"Topic9\", \"Topic9\", \"Topic9\", \"Topic9\", \"Topic9\", \"Topic9\", \"Topic9\", \"Topic9\", \"Topic9\", \"Topic9\", \"Topic9\", \"Topic9\", \"Topic9\", \"Topic9\", \"Topic9\", \"Topic9\", \"Topic9\", \"Topic9\", \"Topic9\", \"Topic9\", \"Topic9\", \"Topic9\", \"Topic9\", \"Topic9\", \"Topic9\", \"Topic9\", \"Topic9\", \"Topic9\", \"Topic9\", \"Topic9\", \"Topic9\", \"Topic9\", \"Topic9\", \"Topic9\", \"Topic9\", \"Topic9\", \"Topic9\", \"Topic9\", \"Topic9\", \"Topic9\", \"Topic9\", \"Topic9\", \"Topic9\", \"Topic9\", \"Topic9\", \"Topic9\", \"Topic9\", \"Topic9\", \"Topic9\", \"Topic9\", \"Topic9\", \"Topic9\", \"Topic9\", \"Topic9\", \"Topic9\", \"Topic9\", \"Topic9\", \"Topic9\", \"Topic9\", \"Topic9\", \"Topic9\", \"Topic9\", \"Topic9\", \"Topic9\", \"Topic9\", \"Topic9\", \"Topic9\", \"Topic9\", \"Topic10\", \"Topic10\", \"Topic10\", \"Topic10\", \"Topic10\", \"Topic10\", \"Topic10\", \"Topic10\", \"Topic10\", \"Topic10\", \"Topic10\", \"Topic10\", \"Topic10\", \"Topic10\", \"Topic10\", \"Topic10\", \"Topic10\", \"Topic10\", \"Topic10\", \"Topic10\", \"Topic10\", \"Topic10\", \"Topic10\", \"Topic10\", \"Topic10\", \"Topic10\", \"Topic10\", \"Topic10\", \"Topic10\", \"Topic10\", \"Topic10\", \"Topic10\", \"Topic10\", \"Topic10\", \"Topic10\", \"Topic10\", \"Topic10\", \"Topic10\", \"Topic10\", \"Topic10\", \"Topic10\", \"Topic10\", \"Topic10\", \"Topic10\", \"Topic10\", \"Topic10\", \"Topic10\", \"Topic10\", \"Topic10\", \"Topic10\", \"Topic10\", \"Topic10\", \"Topic10\", \"Topic10\", \"Topic10\", \"Topic10\", \"Topic10\", \"Topic10\", \"Topic10\", \"Topic10\", \"Topic10\", \"Topic10\", \"Topic10\", \"Topic10\", \"Topic10\", \"Topic10\", \"Topic10\", \"Topic10\", \"Topic10\", \"Topic10\", \"Topic10\", \"Topic10\", \"Topic10\", \"Topic10\", \"Topic10\", \"Topic10\", \"Topic10\", \"Topic10\", \"Topic10\", \"Topic10\", \"Topic10\", \"Topic10\", \"Topic10\", \"Topic10\"], \"logprob\": [30.0, 29.0, 28.0, 27.0, 26.0, 25.0, 24.0, 23.0, 22.0, 21.0, 20.0, 19.0, 18.0, 17.0, 16.0, 15.0, 14.0, 13.0, 12.0, 11.0, 10.0, 9.0, 8.0, 7.0, 6.0, 5.0, 4.0, 3.0, 2.0, 1.0, -6.678, -6.448, -6.9104, -7.0681, -7.637, -7.6761, -7.6761, -7.7167, -7.8034, -7.8034, -7.8034, -7.7619, -7.8497, -7.9493, -6.22, -8.0599, -8.0603, -8.1201, -8.1203, -7.2911, -8.1843, -8.1843, -8.1843, -8.1877, -8.2528, -8.2528, -8.3263, -8.3263, -8.3263, -8.3263, -7.0229, -6.5568, -7.1731, -7.719, -6.9318, -7.7626, -4.0176, -6.1016, -5.8746, -6.1293, -6.1735, -4.8223, -7.0193, -4.3425, -5.2686, -6.1526, -7.023, -5.794, -6.8516, -3.6646, -3.963, -6.8051, -5.1491, -4.4081, -6.8319, -4.8462, -4.3746, -5.8476, -5.4955, -6.1068, -3.9366, -5.0944, -5.031, -5.5665, -4.6565, -3.9029, -4.1689, -4.2822, -4.5105, -4.0323, -5.2018, -5.1134, -4.2877, -5.3219, -4.3137, -5.1649, -5.0328, -5.1784, -5.073, -4.993, -5.3228, -5.2321, -5.321, -5.4116, -5.7329, -6.5734, -6.8472, -7.0185, -6.7544, -7.0502, -7.2254, -7.2645, -7.3475, -7.3475, -7.3491, -7.4867, -7.3541, -7.6483, -7.6499, -7.7727, -7.7727, -7.7727, -7.7727, -7.7727, -7.7749, -7.8412, -7.8412, -7.8412, -7.8434, -7.5559, -7.0875, -7.9148, -7.9148, -7.12, -7.6143, -6.3367, -7.3475, -7.2132, -5.872, -6.4399, -6.161, -7.0301, -5.9298, -6.7183, -7.1414, -5.4783, -5.057, -5.062, -4.1823, -6.5016, -4.1554, -6.259, -5.051, -4.5996, -5.1614, -6.4687, -4.6207, -4.6792, -5.2462, -6.0735, -4.328, -5.5623, -4.3132, -3.855, -4.0844, -5.2217, -4.104, -5.6651, -5.1439, -5.4594, -4.4302, -5.3788, -5.5423, -4.5748, -4.9622, -4.9198, -4.8925, -5.1607, -5.1648, -5.4484, -5.2866, -5.3256, -5.3075, -5.3714, -3.4648, -3.52, -3.537, -4.5874, -3.4195, -5.5093, -5.9106, -6.2651, -5.9619, -6.3328, -6.5044, -6.5044, -6.5688, -6.5912, -6.5912, -6.6616, -6.6616, -6.6863, -6.7374, -6.764, -6.8781, -6.9731, -6.9731, -5.3719, -7.0421, -7.1548, -7.2378, -7.2378, -7.2391, -4.7412, -5.377, -5.6437, -5.7893, -3.4185, -4.1325, -5.178, -6.6067, -5.6593, -5.6348, -3.8267, -5.7099, -4.6001, -5.9985, -5.9607, -5.8556, -5.6498, -3.2254, -4.3352, -3.1643, -3.4644, -3.4972, -4.6434, -4.8608, -4.7763, -4.6861, -4.9446, -4.9374, -4.8427, -4.5002, -4.5016, -4.6535, -4.6746, -4.9403, -4.9307, -5.1707, -5.8126, -7.3319, -7.8323, -8.0788, -8.3259, -8.3259, -8.3995, -8.4789, -8.4789, -8.4789, -8.6596, -8.7638, -8.7638, -8.7638, -8.0262, -8.8803, -8.8803, -8.8803, -7.7122, -9.012, -9.012, -9.012, -9.012, -6.186, -8.1585, -8.3314, -9.1638, -9.1638, -9.1639, -9.1639, -4.9545, -8.4077, -6.3259, -6.2889, -6.1833, -5.2083, -6.1361, -5.8365, -4.4854, -4.9863, -7.5046, -4.8872, -6.0583, -6.1362, -4.4916, -5.4978, -5.8144, -5.6825, -4.7668, -5.7172, -6.5943, -5.1787, -4.548, -3.2406, -4.4513, -3.5548, -6.3419, -3.4953, -5.113, -4.7962, -4.5441, -4.2825, -4.0799, -4.432, -5.0858, -4.2865, -3.7658, -4.2392, -5.175, -4.0736, -4.1942, -3.9277, -4.628, -4.1036, -4.4686, -4.5027, -4.7961, -4.9587, -5.0465, -5.3365, -5.0359, -5.304, -6.1986, -6.5409, -6.5412, -4.6412, -6.6876, -6.7137, -6.7691, -7.0278, -7.1045, -7.1451, -7.2317, -7.2317, -7.232, -6.1528, -7.3776, -7.4314, -7.4314, -7.4882, -7.4882, -7.4883, -7.4347, -7.49, -7.5485, -7.5485, -7.5485, -7.6126, -7.6812, -5.894, -3.8872, -4.3479, -3.5307, -5.9171, -4.5284, -4.6659, -4.9613, -6.7339, -6.4571, -6.7958, -5.4307, -6.2829, -5.4142, -4.4531, -5.7114, -5.4497, -4.9728, -5.6385, -5.4082, -5.4868, -5.7598, -4.869, -5.6924, -5.1453, -4.7489, -5.7707, -5.1345, -5.1546, -5.4323, -4.6171, -4.6983, -4.6389, -5.0683, -4.7483, -4.9903, -5.0305, -5.019, -5.0422, -5.2352, -5.1235, -5.1913, -5.1442, -5.1985, -5.2329, -5.3492, -5.791, -5.9464, -6.1384, -5.6828, -6.3224, -6.6168, -6.6029, -7.1507, -7.3085, -7.6048, -7.5689, -7.6438, -7.6845, -7.6845, -7.7711, -7.7711, -7.8174, -7.0181, -7.866, -7.917, -7.1073, -7.1385, -8.152, -8.152, -8.152, -6.2067, -8.2205, -6.9814, -8.2941, -4.9992, -6.7609, -5.4663, -3.8685, -6.5295, -5.479, -5.4276, -6.054, -6.1072, -6.85, -4.5354, -5.2476, -4.6627, -6.266, -4.2177, -6.5614, -5.2288, -3.793, -5.8613, -5.4998, -6.1974, -4.7446, -5.9332, -5.4863, -6.0966, -5.3864, -5.4699, -4.6979, -5.4658, -4.011, -4.7765, -4.8371, -5.0138, -4.2008, -3.7929, -4.3162, -4.0749, -4.2494, -4.7614, -4.592, -4.3828, -4.4289, -4.4938, -4.5007, -4.9411, -4.5193, -5.1626, -5.2955, -5.1666, -5.1634, -5.1328, -5.1596, -6.4191, -6.55, -6.6013, -6.9803, -5.8181, -7.0115, -6.9077, -7.0121, -7.0602, -6.854, -7.203, -7.203, -7.2224, -7.2829, -7.3927, -7.083, -7.1343, -7.4901, -7.516, -6.8936, -6.79, -7.719, -7.6027, -7.7205, -7.8204, -6.6658, -7.8567, -7.6635, -7.9333, -7.9334, -5.0707, -5.3259, -6.64, -7.0512, -5.5933, -5.9029, -7.3288, -7.0111, -5.4986, -6.2078, -6.653, -6.7469, -5.638, -6.0215, -6.4415, -4.9363, -5.11, -6.4585, -5.9854, -5.3892, -4.8275, -5.0184, -5.1575, -5.181, -6.3156, -6.2244, -5.8672, -3.3731, -4.6079, -5.7896, -5.253, -4.3701, -5.4075, -5.4085, -6.0348, -5.3604, -4.9726, -5.3016, -5.481, -4.1694, -5.1228, -5.0134, -5.1185, -5.4125, -5.2486, -5.4449, -5.2292, -5.2566, -5.4103, -5.4225, -5.2563, -5.3505, -5.7386, -5.8045, -5.8995, -5.8995, -6.0914, -6.1537, -6.2202, -6.2914, -6.4087, -6.4511, -6.5417, -6.5417, -6.5417, -6.5902, -6.5902, -6.201, -6.6412, -6.3421, -6.695, -6.7518, -6.7519, -6.7519, -6.8121, -6.8762, -6.8762, -6.8194, -6.9448, -6.9448, -6.9448, -7.0183, -6.5121, -6.1612, -4.3111, -5.7218, -6.317, -4.6677, -5.6158, -5.5127, -5.6168, -5.5414, -6.4637, -5.4817, -3.997, -5.5118, -4.5158, -5.2146, -4.6025, -5.688, -4.7519, -4.9536, -4.0282, -5.4146, -4.1393, -4.575, -5.1076, -5.2127, -4.6661, -5.0114, -4.4267, -4.7438, -4.7093, -5.0179, -5.2577, -5.1526, -4.8594, -5.1792, -4.8765, -5.0426, -5.1854, -5.0347, -5.2583, -5.3095, -5.4052, -5.6831, -6.5439, -6.5254, -7.1733, -7.1733, -7.2139, -7.5002, -6.9795, -6.4056, -7.6814, -7.3238, -7.8235, -7.8235, -7.8235, -7.6945, -7.5228, -7.9029, -8.0836, -8.0836, -8.0837, -8.1879, -8.1879, -8.1879, -8.1879, -8.1879, -8.1879, -8.3043, -8.3043, -8.3043, -8.3043, -5.6832, -5.7259, -7.2592, -5.4568, -5.0837, -5.4899, -7.1897, -6.6686, -7.5877, -5.5477, -5.4548, -4.6695, -7.1729, -5.753, -4.2119, -4.7846, -3.4868, -6.0447, -4.4278, -4.6573, -4.5039, -4.9287, -6.0941, -6.266, -5.185, -5.3991, -5.7677, -3.8448, -4.3615, -4.4892, -3.8668, -3.9932, -4.8922, -4.0033, -4.0598, -4.4197, -4.5986, -4.8311, -4.3473, -4.8366, -5.0403, -5.098, -4.9512, -5.0912, -4.9696, -4.9866, -5.1388, -6.3733, -5.908, -7.0518, -7.2506, -7.1118, -7.3767, -7.4776, -7.4776, -7.4991, -7.4383, -7.6139, -7.4631, -7.7717, -7.8006, -7.861, -7.861, -7.861, -7.8927, -7.8927, -7.8927, -7.9253, -7.9591, -7.9591, -7.9591, -7.9941, -8.0303, -8.0303, -5.5823, -8.0679, -7.1596, -5.9439, -6.745, -6.5696, -7.3768, -7.1203, -5.5966, -6.4454, -6.3713, -6.505, -5.879, -5.09, -6.1154, -7.0755, -6.6229, -6.7097, -5.64, -6.3299, -6.0114, -3.9353, -5.7491, -5.0023, -4.4079, -5.3585, -6.6681, -4.6652, -5.8043, -4.9015, -5.7815, -5.4737, -5.7204, -4.6717, -4.6653, -4.9878, -4.7079, -5.0884, -3.926, -4.7581, -4.1894, -5.0879, -5.2524, -5.0544, -4.4671, -5.025, -5.3627, -4.5056, -5.2345, -5.3825, -4.7425, -4.9378, -5.0858, -4.7659, -4.9552, -5.0313, -5.3294], \"loglift\": [30.0, 29.0, 28.0, 27.0, 26.0, 25.0, 24.0, 23.0, 22.0, 21.0, 20.0, 19.0, 18.0, 17.0, 16.0, 15.0, 14.0, 13.0, 12.0, 11.0, 10.0, 9.0, 8.0, 7.0, 6.0, 5.0, 4.0, 3.0, 2.0, 1.0, 2.1355, 2.1337, 2.1298, 2.1293, 2.1147, 2.1133, 2.1133, 2.1119, 2.1086, 2.1086, 2.1086, 2.1076, 2.1068, 2.1025, 2.0997, 2.0972, 2.0968, 2.0941, 2.0939, 2.0932, 2.0905, 2.0905, 2.0905, 2.0871, 2.0865, 2.0865, 2.082, 2.0819, 2.0819, 2.0819, 2.0725, 2.0595, 2.0681, 2.0705, 2.0534, 2.0656, 1.7966, 1.9501, 1.9279, 1.932, 1.9252, 1.7997, 1.9969, 1.7307, 1.8119, 1.8763, 1.9812, 1.7558, 1.916, 1.1952, 1.26, 1.887, 1.4903, 1.2547, 1.8872, 1.323, 1.1385, 1.575, 1.4063, 1.6292, 0.7358, 1.1895, 1.1423, 1.3463, 0.8695, 0.4536, 0.5046, 0.5658, 0.6814, 0.3535, 1.0977, 0.9586, 0.2235, 1.0514, -0.0208, 0.8527, 0.6286, 0.794, 0.5303, 0.0577, 0.7453, -0.2012, -0.0147, 2.5615, 2.5594, 2.5492, 2.5436, 2.5392, 2.5386, 2.5383, 2.5329, 2.5315, 2.5285, 2.5285, 2.5269, 2.5228, 2.5219, 2.5153, 2.5136, 2.5086, 2.5086, 2.5086, 2.5086, 2.5086, 2.5063, 2.5045, 2.5045, 2.5045, 2.5023, 2.5022, 2.5007, 2.4999, 2.4999, 2.4984, 2.495, 2.4543, 2.4867, 2.4376, 2.2804, 2.3428, 2.238, 2.3856, 2.181, 2.3124, 2.3854, 2.0337, 1.9307, 1.9273, 1.6657, 2.2328, 1.5999, 2.1207, 1.6972, 1.5165, 1.7204, 2.1526, 1.292, 1.2705, 1.54, 1.9217, 0.9783, 1.6416, 0.9081, 0.5308, 0.5879, 1.2258, 0.2525, 1.5389, 1.0927, 1.263, 0.1405, 1.1393, 1.3071, 0.1224, 0.41, 0.1111, -0.0446, 0.3654, 0.05, 0.9629, -0.5236, -0.2335, -0.6341, -0.1485, 2.6611, 2.661, 2.661, 2.6592, 2.6588, 2.6551, 2.6517, 2.6474, 2.6468, 2.6464, 2.6435, 2.6435, 2.6423, 2.6419, 2.6418, 2.6404, 2.6404, 2.6399, 2.6387, 2.6381, 2.6353, 2.6326, 2.6326, 2.631, 2.6303, 2.6269, 2.6239, 2.6239, 2.6225, 2.6221, 2.6194, 2.6171, 2.6159, 2.4333, 2.4611, 2.4158, 2.5833, 2.4515, 2.4392, 2.1317, 2.445, 2.2266, 2.4681, 2.4523, 2.4135, 2.3288, 1.448, 1.7638, 1.1286, 1.2079, 1.2, 1.2312, 1.399, 1.2205, 0.858, 1.1235, 1.035, 0.8529, 0.0704, -0.1451, 0.2064, 0.1734, 0.8024, 0.1003, 0.5032, 2.0772, 2.0761, 2.0608, 2.0474, 2.0364, 2.0364, 2.0316, 2.0262, 2.0262, 2.0262, 2.0122, 2.0029, 2.0029, 2.0029, 1.9988, 1.9915, 1.9915, 1.9915, 1.9895, 1.9772, 1.9771, 1.9771, 1.9771, 1.9707, 1.9659, 1.9649, 1.9584, 1.9584, 1.9583, 1.9583, 1.9576, 1.9527, 1.9303, 1.9114, 1.9079, 1.8822, 1.9013, 1.8883, 1.8438, 1.8143, 1.925, 1.7516, 1.8199, 1.8107, 1.6796, 1.715, 1.7453, 1.7262, 1.6009, 1.7148, 1.8072, 1.6296, 1.4732, 1.2706, 1.4536, 1.2082, 1.7188, 1.1447, 1.4028, 1.3054, 1.2085, 1.0897, 0.9708, 1.0811, 1.3505, 0.9348, 0.62, 0.853, 1.3554, 0.6236, 0.6538, 0.4288, 0.9161, 0.467, 0.5623, 0.3572, 0.5102, 0.9121, 1.1242, 2.7134, 2.7129, 2.7127, 2.7054, 2.6996, 2.6993, 2.6988, 2.6959, 2.6958, 2.6944, 2.687, 2.6845, 2.683, 2.6798, 2.6797, 2.6795, 2.6748, 2.6736, 2.6711, 2.6711, 2.6683, 2.6683, 2.6683, 2.6678, 2.6666, 2.6652, 2.6652, 2.6652, 2.6617, 2.6577, 2.6529, 2.5964, 2.5828, 2.548, 2.6188, 2.5361, 2.45, 2.4504, 2.5989, 2.5479, 2.5621, 2.3033, 2.3946, 2.1602, 1.8377, 2.109, 1.988, 1.7717, 2.0528, 1.9357, 1.9239, 2.068, 1.3726, 1.8782, 1.39, 0.9876, 1.9015, 1.1298, 1.0177, 1.3463, -0.2607, -0.1277, -0.346, 0.5313, -0.3626, 0.1018, 0.0202, -0.3217, -0.4023, 0.5576, -0.3605, 0.181, -0.4707, -0.1675, -0.3849, 2.1744, 2.1727, 2.1715, 2.1705, 2.1694, 2.1689, 2.1656, 2.1655, 2.1567, 2.153, 2.1444, 2.144, 2.1431, 2.1417, 2.1417, 2.1384, 2.1384, 2.1366, 2.1352, 2.1345, 2.1323, 2.1313, 2.1225, 2.1204, 2.1204, 2.1204, 2.1195, 2.1164, 2.1122, 2.1118, 2.1034, 2.1099, 2.0942, 2.0639, 2.0974, 2.069, 2.0606, 2.0758, 2.0705, 2.1004, 1.9623, 1.9976, 1.9601, 2.061, 1.921, 2.0772, 1.9497, 1.8067, 2.0056, 1.9368, 2.0118, 1.7709, 1.9544, 1.8473, 1.9765, 1.7628, 1.7565, 1.4728, 1.7453, 1.2038, 1.4878, 1.4537, 1.5216, 0.8913, 0.5928, 0.7346, 0.4957, 0.423, 0.9125, 0.6293, 0.3144, 0.2445, 0.2692, 0.1393, 0.843, -0.1628, 1.3084, 1.449, 0.7462, 0.3806, -0.1019, 0.1467, 1.8824, 1.8813, 1.8809, 1.8765, 1.8763, 1.8761, 1.8761, 1.8755, 1.8754, 1.875, 1.8731, 1.8731, 1.8728, 1.8717, 1.8696, 1.8691, 1.8691, 1.8675, 1.8669, 1.8623, 1.862, 1.8617, 1.8602, 1.8601, 1.8587, 1.8579, 1.8575, 1.8566, 1.8549, 1.8549, 1.8413, 1.8401, 1.8521, 1.852, 1.8133, 1.8203, 1.8465, 1.8304, 1.7399, 1.7812, 1.8051, 1.811, 1.7114, 1.731, 1.7766, 1.5867, 1.6079, 1.7748, 1.7085, 1.5847, 1.4829, 1.4824, 1.4856, 1.4796, 1.7271, 1.7024, 1.601, 0.9198, 1.1849, 1.5449, 1.3531, 1.0214, 1.385, 1.3705, 1.6173, 1.2792, 1.078, 1.1669, 1.2705, 0.1871, 0.827, 0.7232, 0.7949, 1.0771, 0.8832, 1.0506, 0.489, 0.4861, 0.8643, 0.8267, -0.7451, -0.1357, 3.3898, 3.3886, 3.3867, 3.3867, 3.3823, 3.3806, 3.3788, 3.3767, 3.3729, 3.3714, 3.368, 3.368, 3.368, 3.3661, 3.366, 3.3658, 3.3639, 3.3629, 3.3616, 3.3589, 3.3589, 3.3588, 3.356, 3.3526, 3.3526, 3.349, 3.3488, 3.3488, 3.3488, 3.3445, 3.3131, 3.29, 3.1241, 3.2257, 3.2862, 2.9646, 3.1183, 3.0927, 2.9709, 2.7697, 3.2115, 2.6926, 1.8344, 2.6675, 1.9234, 2.3436, 1.8268, 2.6729, 1.8932, 1.8389, 0.5424, 2.1185, 0.2171, 0.7973, 1.4382, 1.6059, 0.426, 1.0876, -0.1337, 0.4775, 0.3216, 0.9789, 1.5215, 0.9635, -0.1859, 1.0327, -0.4908, 0.2637, 0.7274, -0.3375, 0.8613, 0.4332, 0.5082, 2.6203, 2.6157, 2.6136, 2.5997, 2.5996, 2.5982, 2.5865, 2.586, 2.5818, 2.5773, 2.5721, 2.5688, 2.5688, 2.5688, 2.5644, 2.5644, 2.5636, 2.5502, 2.5502, 2.5501, 2.5413, 2.5413, 2.5413, 2.5413, 2.5413, 2.5413, 2.5304, 2.5304, 2.5304, 2.5304, 2.5287, 2.4951, 2.5151, 2.4467, 2.4003, 2.3844, 2.472, 2.4323, 2.5004, 2.2998, 2.2386, 2.1324, 2.4269, 2.2006, 1.9464, 2.039, 1.7361, 2.2296, 1.876, 1.8454, 1.7418, 1.8509, 2.1546, 2.1758, 1.801, 1.8663, 1.9831, 1.0032, 1.1646, 1.0548, 0.6444, 0.704, 1.2811, 0.5673, 0.6126, 0.631, 0.6162, 0.8428, 0.0385, 0.2556, 0.7123, 0.8744, 0.4211, 0.7835, -0.1098, -0.3132, 0.3743, 1.7119, 1.7107, 1.7058, 1.703, 1.7022, 1.701, 1.6992, 1.6992, 1.6988, 1.6976, 1.6965, 1.6931, 1.6928, 1.692, 1.6904, 1.6904, 1.6904, 1.6895, 1.6895, 1.6895, 1.6886, 1.6876, 1.6876, 1.6876, 1.6865, 1.6854, 1.6854, 1.6847, 1.6841, 1.6837, 1.6743, 1.6778, 1.6743, 1.6821, 1.6792, 1.6307, 1.6552, 1.6332, 1.6303, 1.5656, 1.4851, 1.5615, 1.6288, 1.5809, 1.5851, 1.4729, 1.5466, 1.5105, 1.2566, 1.4615, 1.3221, 1.1954, 1.338, 1.5668, 1.1828, 1.3843, 1.1706, 1.3736, 1.3008, 1.3515, 1.0837, 1.053, 1.1318, 1.0348, 1.1235, 0.714, 0.9375, 0.5737, 0.9627, 1.0471, 0.859, 0.3927, 0.7115, 0.9382, 0.0056, 0.7623, 0.859, -0.1719, 0.0931, 0.3058, -0.473, -0.2818, -0.6455, -0.9729]}, \"token.table\": {\"Topic\": [1, 7, 9, 10, 5, 7, 1, 3, 4, 5, 6, 7, 8, 9, 10, 1, 3, 4, 5, 6, 7, 8, 9, 10, 1, 3, 5, 6, 7, 8, 9, 10, 1, 2, 3, 5, 6, 7, 8, 9, 10, 1, 2, 3, 4, 5, 6, 7, 8, 9, 10, 1, 3, 4, 5, 7, 8, 9, 10, 1, 1, 9, 1, 6, 9, 1, 1, 2, 3, 4, 10, 7, 9, 5, 2, 10, 2, 4, 7, 8, 10, 2, 7, 10, 2, 7, 8, 10, 2, 4, 7, 8, 10, 2, 7, 8, 10, 2, 7, 8, 10, 7, 10, 7, 10, 1, 2, 3, 5, 6, 9, 10, 7, 1, 2, 4, 5, 6, 7, 8, 9, 10, 2, 5, 6, 7, 10, 7, 3, 1, 2, 4, 5, 6, 7, 8, 10, 1, 3, 4, 5, 6, 7, 8, 10, 7, 10, 8, 1, 3, 9, 7, 8, 9, 10, 1, 9, 1, 5, 6, 9, 5, 6, 1, 5, 6, 7, 9, 10, 7, 3, 7, 1, 2, 3, 9, 10, 2, 3, 1, 2, 3, 5, 6, 3, 5, 6, 2, 5, 6, 8, 9, 6, 1, 2, 3, 4, 5, 6, 7, 8, 9, 10, 2, 4, 6, 3, 7, 8, 7, 1, 2, 7, 9, 10, 5, 3, 1, 1, 5, 10, 1, 3, 4, 1, 3, 7, 9, 2, 6, 7, 10, 7, 10, 5, 7, 10, 9, 1, 6, 10, 4, 7, 5, 6, 9, 2, 3, 4, 5, 7, 8, 9, 10, 1, 2, 4, 5, 7, 9, 10, 1, 2, 3, 4, 5, 6, 7, 8, 9, 10, 10, 7, 2, 7, 4, 1, 2, 3, 4, 7, 8, 9, 10, 3, 4, 10, 1, 2, 4, 7, 9, 10, 3, 4, 10, 3, 5, 6, 10, 3, 5, 1, 2, 3, 4, 5, 6, 7, 8, 10, 2, 5, 9, 2, 5, 6, 9, 10, 3, 4, 10, 1, 2, 4, 5, 6, 7, 8, 9, 10, 2, 4, 6, 8, 9, 10, 5, 8, 9, 1, 2, 4, 5, 6, 7, 8, 10, 5, 6, 7, 8, 10, 7, 1, 2, 5, 6, 7, 8, 9, 10, 5, 1, 4, 10, 1, 2, 3, 4, 4, 5, 6, 1, 2, 3, 4, 5, 6, 7, 8, 9, 10, 2, 2, 5, 4, 4, 1, 5, 6, 10, 1, 4, 7, 9, 3, 5, 6, 1, 10, 10, 2, 6, 3, 6, 3, 4, 1, 3, 4, 7, 10, 4, 1, 9, 10, 1, 9, 10, 6, 10, 4, 7, 1, 2, 4, 9, 10, 1, 4, 5, 4, 6, 8, 2, 7, 2, 6, 7, 1, 5, 6, 3, 5, 6, 5, 1, 2, 4, 5, 6, 7, 8, 9, 10, 3, 5, 6, 4, 10, 3, 4, 5, 10, 1, 2, 4, 5, 7, 9, 10, 10, 4, 1, 2, 4, 9, 3, 5, 6, 3, 4, 1, 4, 7, 9, 10, 4, 3, 3, 10, 10, 2, 3, 4, 5, 6, 7, 9, 5, 3, 3, 7, 10, 2, 6, 7, 8, 4, 10, 1, 2, 4, 5, 6, 7, 8, 9, 10, 1, 2, 3, 4, 5, 6, 7, 8, 10, 4, 5, 6, 7, 10, 3, 1, 2, 3, 4, 5, 6, 7, 8, 9, 10, 1, 2, 4, 5, 6, 7, 8, 9, 10, 8, 5, 1, 2, 3, 4, 5, 6, 8, 9, 10, 10, 3, 5, 2, 9, 1, 2, 4, 5, 6, 7, 9, 8, 2, 3, 4, 5, 6, 7, 9, 10, 6, 5, 6, 8, 2, 6, 1, 2, 4, 9, 10, 5, 3, 5, 6, 7, 10, 1, 2, 4, 7, 8, 9, 10, 1, 3, 5, 7, 8, 10, 3, 5, 7, 8, 10, 3, 5, 1, 2, 4, 5, 6, 7, 8, 9, 10, 2, 5, 10, 2, 2, 7, 1, 2, 4, 6, 7, 8, 9, 10, 1, 2, 4, 5, 6, 7, 8, 9, 10, 1, 3, 7, 1, 7, 8, 10, 2, 7, 8, 10, 5, 5, 5, 7, 1, 2, 3, 4, 5, 6, 7, 9, 10, 5, 1, 2, 4, 5, 6, 7, 9, 10, 2, 4, 6, 7, 9, 10, 1, 2, 3, 4, 5, 6, 7, 8, 9, 3, 5, 8, 10, 10, 9, 9, 1, 2, 3, 4, 9, 10, 6, 7, 9, 6, 1, 2, 3, 4, 5, 6, 7, 8, 9, 10, 1, 2, 3, 4, 5, 6, 7, 1, 10, 10, 1, 3, 4, 5, 6, 8, 9, 10, 8, 10, 2, 8, 4, 10, 1, 2, 3, 4, 5, 6, 7, 8, 10, 3, 10, 2, 3, 5, 1, 7, 8, 2, 7, 4, 7, 3, 5, 7, 8, 5, 7, 5, 6, 7, 7, 1, 4, 5, 7, 10, 3, 2, 1, 2, 4, 5, 6, 7, 8, 9, 10, 1, 2, 3, 4, 5, 6, 7, 8, 9, 10, 1, 2, 3, 4, 6, 7, 8, 9, 10, 1, 3, 4, 5, 6, 7, 1, 2, 3, 4, 5, 6, 7, 8, 9, 10, 10, 2, 6, 9, 2, 5, 6, 7, 8, 8, 9, 10, 1, 2, 3, 4, 5, 6, 7, 8, 9, 10, 2, 2, 4, 5, 6, 9, 10, 2, 3, 4, 5, 6, 7, 8, 9, 10, 2, 4, 6, 7, 9, 4, 9, 1, 2, 3, 4, 7, 8, 9, 10, 2, 9, 1, 3, 4, 10, 7, 3, 7, 9, 10, 1, 2, 3, 4, 5, 6, 7, 8, 9, 10, 1, 2, 3, 4, 5, 6, 7, 8, 9, 10, 3, 1, 2, 3, 4, 5, 6, 7, 8, 9, 10, 1, 2, 3, 4, 5, 6, 7, 8, 9, 10, 4, 2, 10, 1, 3, 1, 4, 9, 10, 10, 9, 8, 2, 3, 5, 6, 9, 1, 2, 4, 5, 6, 7, 8, 9, 10, 2, 4, 6, 7, 10, 1, 2, 3, 4, 5, 6, 7, 8, 10, 4, 7, 8, 1, 2, 4, 7, 8, 9, 10, 2, 3, 5, 6, 7, 8, 10, 2, 3, 5, 6, 8, 2, 4, 5, 6, 7, 8, 9, 10, 1, 4, 5, 6, 7, 8, 9, 10, 1, 2, 3, 4, 5, 6, 7, 9, 10, 5, 8, 9, 1, 2, 3, 4, 6, 9, 9, 1, 3, 7, 8, 5, 6, 7, 10, 8, 3, 10, 9, 7, 7, 7, 10, 9, 7, 9, 2, 5, 7, 8, 1, 2, 3, 4, 5, 6, 7, 8, 9, 10, 9, 10, 1, 2, 4, 5, 6, 7, 5, 6, 5, 6, 10, 2, 6, 9, 2, 2, 4, 7, 10, 1, 6, 7, 8, 10, 7, 2, 1, 1, 2, 3, 4, 5, 6, 7, 8, 9, 6, 8, 10, 1, 4, 9, 10, 2, 3, 6, 7, 1, 2, 3, 4, 5, 6, 7, 8, 9, 10, 3, 5, 7, 8, 8, 6, 1, 2, 5, 3, 6, 1, 5, 6, 7, 4, 5, 3, 2, 3, 5, 6, 2, 6, 6, 1, 2, 3, 4, 9, 10, 1, 2, 3, 4, 5, 6, 7, 8, 9, 10, 2, 5, 6, 6, 1, 1, 2, 7, 1, 2, 4, 5, 6, 7, 8, 9, 10, 1, 1, 2, 3, 4, 5, 6, 7, 8, 9, 10, 3, 10, 1, 2, 4, 5, 6, 7, 8, 9, 10, 1, 2, 3, 4, 5, 6, 7, 8, 9, 10, 7, 1, 2, 4, 5, 6, 7, 8, 9, 10, 10, 10, 5, 6, 6, 9, 3, 2, 9, 6, 7, 8, 10, 8, 2, 4, 5, 6, 7, 8, 9, 10, 2, 3, 5, 6, 6, 1, 3, 4, 10, 5, 7, 5, 6, 3, 6, 1, 2, 4, 6, 7, 8, 1, 2, 3, 4, 5, 6, 7, 8, 9, 10, 1, 2, 3, 4, 5, 6, 7, 8, 9, 10, 10, 9, 8, 5, 1, 7, 5, 6, 7, 8, 10, 9, 1, 4, 3, 5, 6, 9, 10, 1, 2, 4, 10, 3, 4, 6, 7, 7, 7, 8, 10, 3, 8, 9, 4, 4, 6, 9, 1, 3, 4, 5, 6, 7, 9, 10, 3, 5, 6, 9, 3, 5, 3, 5, 7, 5, 1, 2, 4, 5, 6, 7, 8, 9, 10, 1, 2, 3, 4, 5, 6, 7, 8, 9, 10, 5, 6, 10, 3, 5, 7, 8, 5, 7, 1, 2, 3, 4, 6, 7, 8, 9, 10, 1, 2, 3, 4, 5, 6, 7, 8, 9, 10, 5, 6, 1, 3, 4, 5, 7, 8, 10, 7, 1, 2, 3, 4, 5, 3, 4, 6, 7, 10, 4, 2, 4, 5, 6, 9, 10, 2, 5, 6, 1, 3, 7, 8, 3, 2, 3, 5, 3, 1, 2, 3, 4, 5, 6, 7, 8, 9, 10, 2, 5, 6, 7, 9, 3, 8, 6, 5, 10, 5, 7, 2, 3, 2, 1, 2, 7, 10, 10, 2, 3, 5, 6, 3, 4, 5, 6, 2, 5, 6, 6, 2, 3, 4, 5, 6, 9, 1, 3, 4, 10, 10, 4, 6, 5, 2, 5, 9, 10, 1, 4, 10, 8, 5, 6, 4, 2, 5, 6, 2, 3, 5, 6, 8, 9, 5, 1, 9, 10, 8, 7, 8, 10, 1, 2, 3, 6, 9, 7, 1, 2, 4, 5, 6, 7, 9, 10, 4, 5, 7, 10, 1, 2, 4, 6, 7, 8, 9, 10, 2, 3, 5, 9, 4, 10, 3, 7, 2, 1, 8, 3, 5, 7, 10, 1, 2, 3, 4, 5, 6, 7, 8, 9, 10, 1, 1, 2, 4, 7, 9, 10, 1, 5, 1, 2, 4, 5, 7, 9, 10, 7, 8, 10, 9, 1, 2, 3, 4, 5, 7, 8, 9, 10, 1, 2, 3, 4, 5, 6, 7, 8, 9, 10, 1, 4, 1, 5, 6, 7, 10, 2, 3, 7, 8, 1, 3, 5, 6, 7, 10, 7, 8, 3, 3, 1, 2, 3, 4, 5, 6, 7, 8, 9, 10, 8, 2, 6, 7, 8, 1, 2, 3, 4, 5, 6, 7, 8, 9, 10, 4, 8, 1, 2, 4, 5, 6, 7, 8, 10, 1, 7, 9, 3, 5, 6, 8, 9, 10, 5, 1, 8, 9, 7, 1, 2, 3, 4, 5, 7, 9, 10, 3, 5, 5, 1, 2, 4, 5, 6, 7, 8, 10, 9, 3, 5, 8, 10, 1, 5, 6, 8, 9, 1, 2, 4, 5, 6, 7, 8, 9, 2, 7, 10, 3, 8, 1, 1, 2, 7, 10, 4, 3, 1, 3, 4, 6, 7, 10, 1, 2, 3, 4, 5, 6, 7, 8, 9, 10, 9, 9, 2, 4, 6, 7, 8, 9, 10, 3, 7, 10, 5, 6, 4, 1, 9, 3, 7, 2, 7, 10, 1, 4, 10, 2, 3, 8, 10, 1, 2, 3, 4, 5, 6, 7, 8, 9, 10, 1, 6, 9, 6, 7, 10, 9, 1, 2, 3, 4, 6, 2, 1, 1, 2, 1, 4, 7, 7, 8, 10, 8, 5, 8, 1, 2, 3, 4, 5, 6, 7, 9, 10, 2, 1, 2, 3, 4, 5, 6, 7, 8, 9, 10, 2, 9, 4, 5, 6, 7, 8, 2, 5, 6, 8, 9, 10, 8, 3, 5, 6, 7, 8, 1, 9, 3, 8, 1, 2, 3, 4, 5, 6, 7, 8, 9, 10, 3, 4, 5, 7, 10, 1, 2, 3, 4, 5, 9, 6, 1, 2, 4, 5, 6, 7, 8, 9, 10, 1, 2, 4, 5, 6, 7, 9, 10, 9, 2, 2, 3, 5, 6, 7, 8, 9, 6, 4, 1, 2, 4, 7, 8, 9, 10, 1, 3, 4, 9, 1, 8, 3, 7, 8, 10, 3, 7, 8, 2, 1, 2, 3, 4, 5, 6, 8, 9, 10, 1, 3, 4, 7, 8, 8, 8, 1, 7, 8, 10, 1, 2, 4, 5, 6, 7, 8, 9, 10, 1, 4, 5, 6, 7, 8, 9, 10, 1, 1, 2, 4, 5, 6, 7, 8, 9, 10, 1, 4, 9, 10, 8, 1, 2, 3, 4, 5, 6, 7, 8, 9, 10, 7, 2, 2, 8, 3, 6, 8, 3, 4, 10, 1, 7, 1, 9, 10, 4, 6, 9, 10, 2, 7, 8, 8, 1, 4, 10, 8, 1, 3, 3, 7, 8, 10, 3, 4, 6, 7, 9, 10, 3, 5, 7, 8, 10, 8, 5, 6, 7, 9, 1, 4, 5, 6, 7, 8, 9, 10, 6, 8, 7, 8, 4, 6, 9, 4, 5, 9, 1, 2, 3, 5, 6, 7, 10, 2, 3, 5, 6, 7, 8, 9, 10, 1, 2, 3, 4, 5, 6, 7, 8, 9, 10, 1, 2, 3, 4, 5, 6, 7, 8, 9, 10, 2, 3, 5, 6, 7, 8, 10, 1, 2, 1, 2, 3, 4, 6, 7, 10, 6, 9, 1, 4, 5, 6, 7, 8, 10, 1, 2, 4, 5, 6, 7, 8, 9, 10, 7, 2, 5, 6, 8, 1, 2, 9, 10, 6, 2, 4, 5, 6, 9, 6], \"Freq\": [0.009862523138178897, 0.9320084365579057, 0.019725046276357794, 0.03451883098362614, 0.9522500850377654, 0.02975781515743017, 0.02249853994635377, 0.08999415978541508, 0.0267170161862951, 0.05062171487929598, 0.018280063706412438, 0.4851247675932532, 0.014061587466471107, 0.005624634986588443, 0.28685638431601057, 0.013721264011114731, 0.10573444620329588, 0.001614266354248792, 0.033092460262100235, 0.001614266354248792, 0.3341531353294999, 0.054885056044458924, 0.03147819390785144, 0.4237449179903079, 0.0013609729451604937, 0.15583140222087655, 0.029941404793530864, 0.008165837670962963, 0.24565561660146912, 0.05103648544351852, 0.0027219458903209874, 0.5049209626545432, 0.005264066471110756, 0.009650788530369719, 0.23688299119998402, 0.042989876180737845, 0.034216432062219915, 0.16055402736887806, 0.08773444118517927, 0.039480498533330674, 0.3842768523910852, 0.02040702376845623, 0.0019435260731863076, 0.40716871233253144, 0.0019435260731863076, 0.06607988648833446, 0.01554820858549046, 0.10980922313502638, 0.09814806669590853, 0.025265838951422, 0.2546019155874063, 0.0785162729828606, 0.5884499168715466, 0.07682775098322918, 0.09118018798009617, 0.0320819179929968, 0.03968026699133815, 0.01941800299576122, 0.07429496798378206, 0.9890579083775642, 0.9335168524993089, 0.05834480328120681, 0.9154319786694571, 0.04818063045628722, 0.02409031522814361, 0.9699881544049563, 0.9345682568971466, 0.02596022935825407, 0.8192413209574877, 0.010370143303259338, 0.15555214954889005, 0.9575167773799382, 0.03191722591266461, 0.9554046850624284, 0.6829856495282276, 0.31242960563525307, 0.3960344987714621, 0.002933588879788608, 0.1144099663117557, 0.005867177759577216, 0.47817498740554304, 0.5293886466697746, 0.00945336869053169, 0.4584883814907869, 0.4294139130136963, 0.017006491604502825, 0.031887171758442794, 0.520823805387899, 0.357407365953506, 0.005795795123570368, 0.040570565864992574, 0.01931931707856789, 0.5757156489413232, 0.1506229802353851, 0.05906783538642552, 0.01476695884660638, 0.7737886435621744, 0.07532981542928309, 0.047081134643301936, 0.018832453857320772, 0.8568766505080953, 0.07839756261947303, 0.9211713607788081, 0.03320297217419486, 0.9545854500081021, 0.4749463002728407, 0.0021687045674558935, 0.013012227404735361, 0.0021687045674558935, 0.18217118366629506, 0.3209682759834722, 0.004337409134911787, 0.9794008209424402, 0.060609186555418644, 0.08067845362674933, 0.1123878955994518, 0.04977178233690008, 0.37730222094101673, 0.13205577732935586, 0.02568866185130327, 0.1328585480122091, 0.028899744582716175, 0.016873030574686955, 0.45557182551654773, 0.013498424459749563, 0.023622242804561735, 0.4859432805509843, 0.9858119495932167, 0.9803945166132035, 0.04595600880173945, 0.07467851430282661, 0.06893401320260918, 0.03303088132625023, 0.011489002200434863, 0.4437627099917966, 0.0057445011002174315, 0.31594756051195877, 0.0016743754498951123, 0.02344125629853157, 0.005023126349685336, 0.06195189164611915, 0.008371877249475562, 0.6664014290582547, 0.005023126349685336, 0.22938943663563038, 0.9628707694247376, 0.01604784615707896, 0.9663202963883245, 0.058668022531088534, 0.11733604506217707, 0.8213523154352395, 0.6027218821802892, 0.20803626255900304, 0.021386905496719937, 0.16720671570162862, 0.9829552970060846, 0.8857881127426783, 0.023379517897626087, 0.1536368318986857, 0.7180851925699442, 0.10353786497520125, 0.14429603949717623, 0.8497433437055933, 0.12444519923279317, 0.004786353816645891, 0.12923155304943906, 0.0526498919831048, 0.6748758881470707, 0.009572707633291782, 0.9904712435981221, 0.013849671027529945, 0.9694769719270961, 0.4492203337653296, 0.03743502781377747, 0.018717513906888736, 0.46481826202107024, 0.0280762708603331, 0.9871421040603098, 0.9625164728182625, 0.06268542568301724, 0.033364823347412406, 0.06470753618892103, 0.06470753618892103, 0.7734572685081967, 0.29441749045490917, 0.04444037591772214, 0.6610505917761168, 0.0152875578744683, 0.11007041669617176, 0.8347006599459692, 0.02140258102425562, 0.01834506944936196, 0.9817058198462616, 0.031096959463511584, 0.08683227911734388, 0.23179195169340558, 0.22844304836656587, 0.047841476097710126, 0.1550063825565808, 0.006697806653679418, 0.023681530668366514, 0.14519887995655023, 0.043774950629404764, 0.7839190641043131, 0.14584540727522105, 0.07292270363761053, 0.7983366361992568, 0.10504429423674431, 0.09103838833851174, 0.9721523247238045, 0.02395225693838182, 0.5868302949903546, 0.2514986978530091, 0.12774537033803635, 0.007984085646127272, 0.9520886397306015, 0.9719363210832724, 0.9681488106617094, 0.9397324752416208, 0.9441226938528284, 0.9788606699173192, 0.9746987893117403, 0.01747535765452068, 0.9786200286531581, 0.18426520305288954, 0.061421734350963174, 0.0390865582233402, 0.7147256360839351, 0.3804187195668423, 0.0013783286940827618, 0.08821303642129676, 0.5299673828748219, 0.7365516779609074, 0.26105629092285326, 0.4404784680979429, 0.1171485287494529, 0.4357925269479648, 0.8967381087880135, 0.8521804581192856, 0.14203007635321427, 0.978860684176687, 0.8707116033331893, 0.10883895041664866, 0.04660895735455627, 0.9321791470911255, 0.8967380572335744, 0.05446151774908667, 0.09258458017344733, 0.4724536664733268, 0.0612692074677225, 0.0027230758874543333, 0.025869220930816166, 0.09258458017344733, 0.19878453978416633, 0.08327487225965156, 0.08552554448288538, 0.31734478347596945, 0.013504033339402956, 0.01575470556263678, 0.4096223446285563, 0.07539751947833316, 0.4089926767153104, 0.010680300313610258, 0.0037695177577447966, 0.0841858965896338, 0.08921192026662686, 0.019475841748348117, 0.12439408600557829, 0.03581041869857557, 0.06596656076053395, 0.15643498694640906, 0.9764374874523485, 0.9813431062003478, 0.889327218558833, 0.10040791177277147, 0.8856159599852754, 0.3853076709079197, 0.016887114868133806, 0.0858428339130135, 0.1750630907996538, 0.006754845947253522, 0.00028145191446889676, 0.06417103649890846, 0.2656906072586385, 0.058799026818694526, 0.7506675757186668, 0.19011685338044565, 0.6581663231693164, 0.016099032365292632, 0.24337948928707098, 0.0018940038076814862, 0.035039070442107495, 0.04545609138435567, 0.016748797871765236, 0.6992623111461986, 0.2805423643520677, 0.1223020422542198, 0.38728980047169603, 0.48179592403177496, 0.005559183738828173, 0.056188055536364745, 0.9327217219036548, 0.051400476355529065, 0.007439542630405522, 0.012850119088882266, 0.060192663100553774, 0.17719637901511334, 0.0067632205730959296, 0.31110814636241274, 0.008115864687715116, 0.3652139109471802, 0.01181166285245279, 0.15355161708188628, 0.8268163996716953, 0.09996013272446716, 0.02221336282765937, 0.7848721532439644, 0.01851113568971614, 0.07034231562092133, 0.025201290846005756, 0.6876352216552999, 0.2844145681192078, 0.0004517826305377268, 0.028914088354414516, 0.3846929099028744, 0.044048806477428364, 0.13011339759486532, 0.0020330218374197706, 0.009713326556561127, 0.033431914659791784, 0.36639571336609644, 0.001223370429724968, 0.7743934820159047, 0.19329252789654494, 0.001223370429724968, 0.004893481718899872, 0.025690779024224328, 0.09694749462645165, 0.8725274516380649, 0.9056948606905839, 0.023114512213053044, 0.02166985519973723, 0.03900573935952701, 0.07512216469242239, 0.008667942079894892, 0.43195244698142876, 0.007223285066579077, 0.39294670762190176, 0.027556240160869855, 0.009185413386956618, 0.7623893111173993, 0.11941037403043603, 0.08266872048260956, 0.9851615225497066, 0.06711252501140781, 0.08724628251483016, 0.05033439375855586, 0.01845594437813715, 0.038589701881559496, 0.2197935194123606, 0.04530095438270028, 0.4714654882051399, 0.9851111196378723, 0.01382142041843781, 0.6841603107126716, 0.2971605389964129, 0.8218217275595912, 0.17121285990824817, 0.9819835398836106, 0.9556173341837935, 0.9665300629388598, 0.543491539468034, 0.4510979777584682, 0.019691742377736562, 0.06796827207799394, 0.1156095842821953, 0.1892948138246934, 0.07495566453461014, 0.282036568248872, 0.025408699842240725, 0.03684261477124905, 0.16642698396667674, 0.022867829858016653, 0.9549480343915477, 0.8383206938101283, 0.14970012389466578, 0.9045479410750614, 0.9045474393739948, 0.014891529372154697, 0.03722882343038674, 0.029783058744309393, 0.9158290563875138, 0.8007556307787861, 0.09075230482159576, 0.08541393394973719, 0.016015112615575724, 0.16587759270992597, 0.831939926514398, 0.942326841951531, 0.9343361244681361, 0.038930671852839, 0.9809810042171482, 0.07304107596680544, 0.9251869622462021, 0.058239482474769295, 0.9318317195963087, 0.07131946291329576, 0.891493286416197, 0.23067137647397995, 0.04825268589506723, 0.08905170486325416, 0.0019614912965474486, 0.63042330271035, 0.9556167190253527, 0.060701927797263695, 0.6272532539050582, 0.30350963898631844, 0.9558719025068844, 0.9336725025859046, 0.9744764639137753, 0.9409847588178937, 0.022950847776046186, 0.9556172081059419, 0.9795262302992502, 0.3491300388275045, 0.014250205666428754, 0.08550123399857253, 0.03918806558267908, 0.5106323697136971, 0.9225541038545265, 0.022501319606207965, 0.04500263921241593, 0.9836669852343647, 0.9465423480382943, 0.9659902901255998, 0.9791592050921832, 0.9916659964464286, 0.7184063334662487, 0.2575418931294099, 0.013554836480495259, 0.9525468220060949, 0.08621436313654367, 0.8990926441382412, 0.058041581993011286, 0.872856098433362, 0.06920342468397499, 0.9610509700932972, 0.015589026196007348, 0.10327729854854868, 0.4520817596842131, 0.038972565490018374, 0.17050497401883039, 0.15491594782282303, 0.01461471205875689, 0.008768827235254134, 0.04092119376451929, 0.1012433309252269, 0.41439130797302176, 0.48502619001387776, 0.9045482002955693, 0.9849729447085112, 0.03133478089232151, 0.6569859060423409, 0.005222463482053585, 0.30603636004834006, 0.4111440561093791, 0.06596110348998897, 0.08821791755102819, 0.011735411050366136, 0.006879378891593941, 0.4070973626437356, 0.00849805627785134, 0.981944800905573, 0.9192855659374692, 0.07230686847061273, 0.039440110074879665, 0.8676824216473527, 0.019720055037439833, 0.9557254963567626, 0.009752300983232272, 0.029256902949696816, 0.135824143546744, 0.8421096899898128, 0.17350102656063907, 0.533987615424972, 0.00988865954490689, 0.06472577156666327, 0.21755050998795156, 0.9268513240639358, 0.9880833087837769, 0.08108659416807905, 0.9159781933801522, 0.9915076451388258, 0.13069452582298438, 0.07337236537430702, 0.08712968388198958, 0.2040668911972914, 0.5009956823214401, 0.0022928864179470945, 0.0011464432089735473, 0.9796611854177726, 0.9778854140214596, 0.03235280072820944, 0.8897020200257596, 0.06470560145641888, 0.08104428031596193, 0.009004920035106882, 0.265645141035653, 0.6438517825101421, 0.8748091456731375, 0.11410554073997445, 0.0019173763033872413, 0.0019173763033872413, 0.03451277346097034, 0.25309367204711586, 0.011504257820323447, 0.04601703128129379, 0.021091139337259653, 0.10353832038291103, 0.5234437308247168, 0.00340764569672795, 0.0204458741803677, 0.001703822848363975, 0.015334405635275775, 0.02385351987709565, 0.0340764569672795, 0.6627870880135862, 0.001703822848363975, 0.2368313759225925, 0.005357167286390361, 0.04821450557751326, 0.06160742379348916, 0.09910759479822169, 0.7821464238129928, 0.9989577066914896, 0.0957138977988903, 0.14736901724591045, 0.025827559723510078, 0.14129194436979042, 0.03798170547575012, 0.18838925915972057, 0.07596341095150023, 0.13977267615076042, 0.03798170547575012, 0.11090657998919035, 0.13345456961808663, 0.13839733145579355, 0.05041617074461051, 0.017793942615744886, 0.06722156099281401, 0.11664917936988314, 0.08699260834364166, 0.052393275479693274, 0.33610780496407006, 0.9660878462418063, 0.9676736716379141, 0.33367985344641327, 0.021733936814517338, 0.0076708012286531785, 0.15725142518739016, 0.12528975340133525, 0.12145435278700865, 0.006392334357210982, 0.040910939886150285, 0.1840992294876763, 0.9915832939242071, 0.971936330757605, 0.9520886413739752, 0.008808946422853828, 0.9866019993596288, 0.00939528854761267, 0.0020878418994694824, 0.37685546285424154, 0.06263525698408447, 0.49377460922453253, 0.0177466561454906, 0.03758115419045068, 0.9658980746978135, 0.07967943116805697, 0.042094793824633873, 0.051115106787055414, 0.2645958468976986, 0.5186679953392388, 0.009020312962421544, 0.03457786635594925, 0.9809810027052394, 0.981311961976171, 0.06775483252368218, 0.1761625645615737, 0.745303157760504, 0.954947994258446, 0.9951378508875177, 0.7049215207941971, 0.07704956157517968, 0.11311531380185953, 0.06065603783577975, 0.04262316172243982, 0.9712089393294405, 0.04447662344540677, 0.48183008732523996, 0.007412770574234461, 0.048183008732524, 0.4151151521571298, 0.3640250563297543, 0.07139867375264125, 0.3607796620682706, 0.03353574070199817, 0.001081798087161231, 0.1043935154110588, 0.06436698618609325, 0.030257213106029336, 0.12551140251389947, 0.2599879052073632, 0.1524067030525922, 0.007844462657118717, 0.4236009834844107, 0.028740101798573545, 0.028740101798573545, 0.08622030539572063, 0.017244061079144127, 0.8449589928780622, 0.9590958310725846, 0.03240188618488461, 0.052220572262113824, 0.052220572262113824, 0.12728764488890246, 0.01087928588794038, 0.002175857177588076, 0.05548435802849594, 0.09247393004749323, 0.05330850085090786, 0.5515797945185773, 0.9549340962964905, 0.015114819712259241, 0.9673484615845914, 0.9763683466447373, 0.9231895459375025, 0.03183412227370698, 0.5171657179818244, 0.046711742269326076, 0.16682765096187885, 0.018351041605806674, 0.05171657179818244, 0.08508210199055821, 0.006673106038475154, 0.10676969661560247, 0.10051671302705781, 0.26161884212521896, 0.11841694959352017, 0.06609318116847637, 0.033046590584238186, 0.16247907037250442, 0.015146354017775835, 0.0027538825486865155, 0.23958778173572684, 0.6758012079419857, 0.04975223616750815, 0.27363729892129485, 0.025728544749902993, 0.894066930059129, 0.03216068093737874, 0.03859281712485449, 0.7966151780868883, 0.014225271037265863, 0.17070325244719037, 0.014225271037265863, 0.9913104290280811, 0.9554079301634023, 0.9919797904719615, 0.9761903346044957, 0.08535631400894836, 0.0011157688105744882, 0.164575899559737, 0.30627853850269704, 0.027894220264362207, 0.16569166837031152, 0.0005578844052872441, 0.20585934555099308, 0.0429570992071178, 0.9583778699627561, 0.12365556385260529, 0.04224046809290098, 0.3232758404851857, 0.06710784043791526, 0.2360697128095192, 0.02112023404645049, 0.13489697874829668, 0.05177863830742701, 0.040508980130457076, 0.816931099297551, 0.04726047681886659, 0.06751496688409513, 0.0067514966884095135, 0.013502993376819027, 0.020071550468247656, 0.22859265811059834, 0.015611205919748178, 0.04125818707362019, 0.14719137010048283, 0.26204524222434444, 0.20294567695672633, 0.07136551277599168, 0.00892068909699896, 0.024996423903356917, 0.0031245529879196147, 0.006249105975839229, 0.9654868732671609, 0.9915832944373532, 0.9248813461273324, 0.957329867252499, 0.24591996024705878, 0.0744355435230561, 0.2148266319399594, 0.1451021987664638, 0.11589331459918863, 0.2044621891709263, 0.30858478861500305, 0.06672103537621688, 0.6171695772300061, 0.9693088217266494, 0.029743334080763552, 0.10187091922661518, 0.004461500112114533, 0.046102167825183504, 0.07807625196200432, 0.08402491877815704, 0.10484525263469152, 0.2074597552133258, 0.09071716894632884, 0.2528183396864902, 0.5943488287158301, 0.2547209265924986, 0.004994527972401934, 0.004994527972401934, 0.024972639862009666, 0.09989055944803867, 0.0149835839172058, 0.9397324655071805, 0.9819447997550493, 0.9789461530999464, 0.04461679697709471, 0.817443458901771, 0.004780371104688719, 0.011154199244273678, 0.0031869140697924794, 0.0031869140697924794, 0.015934570348962396, 0.10038779319846311, 0.9664569876873447, 0.9809809997696535, 0.9186434584561282, 0.03280869494486172, 0.050343527431459055, 0.9421431562173052, 0.0018599864376085227, 0.4184969484619176, 0.27527799276606135, 0.13577900994542216, 0.009299932188042613, 0.03719972875217045, 0.0650995253162983, 0.05393960669064716, 0.0018599864376085227, 0.9539168621561431, 0.03376696857189887, 0.020643631566555076, 0.9599288678448111, 0.017203026305462565, 0.9525467051588113, 0.04034650554543673, 0.9279696275450448, 0.9811784790624379, 0.9841735728455288, 0.8957671484680528, 0.06890516526677329, 0.7830707764744335, 0.08511638874722104, 0.10213966649666524, 0.034046555498888416, 0.06816923719985317, 0.9202847021980178, 0.033894127906857106, 0.014122553294523794, 0.9518600920509037, 0.9795260888583975, 0.766648002847132, 0.051976135786246234, 0.038982101839684674, 0.038982101839684674, 0.07796420367936935, 0.9624646444758435, 0.9939615527540864, 0.039935034643808875, 0.11557668849855274, 0.36411355116413974, 0.07893042141364577, 0.04087468251778085, 0.10383109007390307, 0.07329253416981393, 0.10946897731773492, 0.0742321820437859, 0.16608250685783305, 0.13051842574798062, 0.013489823869254371, 0.22757508059949907, 0.045900439659021366, 0.2048000532877709, 0.02277502731172816, 0.02032233206277282, 0.07463201257535536, 0.09407838204921555, 0.15606351669631077, 0.09123713283784322, 0.02641074897937567, 0.5234130252276269, 0.012004885899716213, 0.014405863079659456, 0.008803582993125223, 0.11364625318398015, 0.05442214941204684, 0.9488091723054708, 0.03405078842145888, 0.8041224650298366, 0.010477165668141195, 0.1466803193539767, 0.002619291417035299, 0.2433654732061897, 0.13813265593294757, 0.23356552126500085, 0.03943313995383131, 0.014233263533631422, 0.17289915210526038, 0.01469992791178327, 0.0011666609453796248, 0.13229935120604944, 0.010033284130264773, 0.9819447663592905, 0.009011835705500572, 0.9462427490775601, 0.03604734282200229, 0.007780178281588119, 0.007780178281588119, 0.4901512317400515, 0.015560356563176237, 0.47459087517687526, 0.022943346154339253, 0.7800737692475346, 0.18928260577329883, 0.06326459952414656, 0.3499323161179357, 0.021747206086425382, 0.07908074940518321, 0.05140248711336909, 0.0998394461240438, 0.13344876462124666, 0.019770187351295803, 0.11960963347533961, 0.062276090156581775, 0.9549480293602914, 0.01013885940931414, 0.0506942970465707, 0.030416578227942418, 0.37513779814462317, 0.5221512595796782, 0.01013885940931414, 0.04496313482496112, 0.021958740263353108, 0.26245922886198236, 0.18194384789635432, 0.15580249043998157, 0.007319580087784369, 0.010456542982549099, 0.04810009771972585, 0.26768750035325695, 0.011515640500420933, 0.7542744527775711, 0.16697678725610351, 0.040304741751473264, 0.023031281000841865, 0.9665309662257859, 0.9433858916989798, 0.003881923184644843, 0.003881923184644843, 0.003881923184644843, 0.011645769553934529, 0.007763846369289686, 0.031055385477158744, 0.791912329667548, 0.14751308101650404, 0.8811861629147637, 0.10167532649016504, 0.25690029789092667, 0.006087684784145181, 0.06331192175510988, 0.673297937126457, 0.9881180670860629, 0.9988676057143093, 0.5374492543421839, 0.026126005419411718, 0.43294523266453705, 0.05538766176611205, 0.06071339847439205, 0.05893815290496538, 0.2872347331332349, 0.0727850683464934, 0.27622821060278957, 0.03834530429961603, 0.05077202328560271, 0.09266781872407208, 0.006745933163821339, 0.04117230762919986, 0.0763193995077851, 0.004016810500409742, 0.09841185726003868, 0.050210131255121776, 0.08134041263329728, 0.3655297555372865, 0.0311302813781755, 0.002008405250204871, 0.25105065627560885, 0.9801827790692814, 0.1835722447855359, 0.0988465933460578, 0.060396799720913115, 0.18799567237072956, 0.05069928539952707, 0.09612448406286173, 0.18204105831373812, 0.041171902908340774, 0.03130425675675497, 0.06788260024970234, 0.07335343288811912, 0.02596581695154659, 0.16358464679474352, 0.02726410779912392, 0.07140599661675312, 0.02466752610396926, 0.12982908475773294, 0.02077265356123727, 0.005842308814097983, 0.45829666919479733, 0.9192859162314654, 0.9457539567903358, 0.991132102220402, 0.9732503222701298, 0.9803944760296526, 0.0120970393608056, 0.05645285035042613, 0.11693804715445413, 0.8105016371739752, 0.9799550228310536, 0.8857881488133889, 0.9654909355525471, 0.015594677436301675, 0.02339201615445251, 0.0623787097452067, 0.8888966138691955, 0.011696008077226256, 0.03329786780120782, 0.04043312518718092, 0.0035676286929865516, 0.08800150776033494, 0.09989360340362344, 0.12129937556154276, 0.005946047821644253, 0.14984040510543517, 0.45784568226660743, 0.06067244545455586, 0.05200495324676216, 0.037559132900439336, 0.13290154718616998, 0.716512689177612, 0.080352315117023, 0.2737000733673596, 0.003348013129875958, 0.06277524618517422, 0.030969121451352614, 0.03431713458122857, 0.3456823556596927, 0.03682814442863554, 0.13308352191256934, 0.033546195194456944, 0.11741168318059932, 0.8386548798614236, 0.07313570158335826, 0.02123294562097498, 0.3821930211775496, 0.02123294562097498, 0.004718432360216662, 0.4340957771399329, 0.061339620682816606, 0.025252589599875617, 0.018037563999911153, 0.45093909999777887, 0.003607512799982231, 0.07215025599964461, 0.04329015359978677, 0.3860038695980987, 0.005720386687189943, 0.011440773374379886, 0.17447179395929327, 0.7951337495194021, 0.011440773374379886, 0.10678599439420226, 0.23526289389972688, 0.010011186974456462, 0.09510627625733639, 0.5422726277830584, 0.005005593487228231, 0.005005593487228231, 0.9788608639814947, 0.01686389771377452, 0.02083187364642735, 0.06447960890560847, 0.06150362695611885, 0.19939079061580464, 0.07836752466989337, 0.0029759819494896214, 0.5565086245545593, 0.011790871559344905, 0.07369294724590565, 0.04716348623737962, 0.04716348623737962, 0.07074522935606943, 0.664710384158069, 0.02358174311868981, 0.04863734518229773, 0.011790871559344905, 0.03426272815081243, 0.10278818445243729, 0.8565682037703107, 0.08047176587024267, 0.006035382440268201, 0.6477977152554535, 0.09254253075077908, 0.09857791319104728, 0.07443638342997448, 0.9056968742171746, 0.015087960591445128, 0.030175921182890256, 0.935453556669598, 0.9658978786648799, 0.02060797411739335, 0.9479668094000941, 0.947946817869171, 0.021065484841537134, 0.9663208577664725, 0.029778705598042087, 0.9628448143366941, 0.896738235624501, 0.9920341674482177, 0.9721534807388157, 0.028933563748566232, 0.9548076037026857, 0.9573305050302602, 0.04330579260403257, 0.9527274372887164, 0.3160505842291417, 0.011705577193671914, 0.023411154387343827, 0.6438067456519553, 0.12376561081720909, 0.04177089365080807, 0.05182684952970631, 0.3047728166373774, 0.05646805993535165, 0.17095124994127006, 0.009282420811290682, 0.0030941402704302273, 0.08199471716640103, 0.15702761872433404, 0.8922165675270389, 0.10496665500318104, 0.0012713658875384162, 0.1881621513556856, 0.6064415283558245, 0.0012713658875384162, 0.16273483360491728, 0.04068370840122932, 0.07543111016434116, 0.9177451736661508, 0.09322809892460875, 0.9012049562712179, 0.007769008243717395, 0.005610070726580792, 0.9929825186048001, 0.9751458044900512, 0.9620898786495683, 0.6369926122364483, 0.019014704842879055, 0.08556617179295574, 0.25669851537886723, 0.02467674445038126, 0.01645116296692084, 0.0822558148346042, 0.01645116296692084, 0.8554604742798837, 0.9826449181896201, 0.9716382920179035, 0.9445732770104893, 0.0832956078256731, 0.17478422625715012, 0.005462007070535941, 0.23623180580067946, 0.008193010605803911, 0.1379156785310325, 0.10924014141071882, 0.22667329342724155, 0.019117024746875794, 0.1041819458333814, 0.8334555666670512, 0.0347273152777938, 0.7131247676071468, 0.03111817167740277, 0.10891360087090969, 0.14262495352142937, 0.0450945174224442, 0.01803780696897768, 0.8928714449643952, 0.03607561393795536, 0.10995326906209707, 0.054289426599410426, 0.0006872079316381067, 0.4095759272563116, 0.02267786174405752, 0.14019041805417376, 0.06803358523217257, 0.03504760451354344, 0.14637528943891673, 0.013056950701124026, 0.8048651206063381, 0.045558403053188944, 0.07593067175531491, 0.06833760457978341, 0.9653915089024385, 0.9693088356877131, 0.017767318917607057, 0.12437123242324939, 0.8350639891275317, 0.9965875120776952, 0.9615993221117821, 0.9397324672170707, 0.7170867826087044, 0.012805121118012578, 0.25610242236025155, 0.8856161130802443, 0.975562839481475, 0.9625164633460261, 0.04524764983457265, 0.012340268136701632, 0.0501837570892533, 0.8917900440123046, 0.022444122701110257, 0.965097276147741, 0.9972316910365255, 0.3652937107457336, 0.006280121101645849, 0.0889683822733162, 0.1507229064395004, 0.25853165201775413, 0.12978916943401422, 0.04291385514399433, 0.12648294147703593, 0.0011293119774735349, 0.059853534806097355, 0.0779225264456739, 0.11744844565724763, 0.3455694651069017, 0.021456927571997166, 0.003387935932420605, 0.20440546792270983, 0.023860611886984157, 0.04772122377396831, 0.9279126844938282, 0.9375088751361513, 0.961517853944445, 0.9488304021323566, 0.9113361217765094, 0.053608007163324076, 0.007673147099496853, 0.10742405939295595, 0.1592178023145597, 0.013428007424119493, 0.034529161947735844, 0.5946689002110062, 0.028774301623113202, 0.009591433874371067, 0.0422023090472327, 0.9681490993683197, 0.11479803736961221, 0.20408539976819948, 0.012315498261874107, 0.20408539976819948, 0.05761893829662528, 0.13107208864423156, 0.07345315034760627, 0.04310424391655937, 0.04442376158747446, 0.11479803736961221, 0.018750604356827846, 0.9562808221982201, 0.058345993212905914, 0.0014960511080232286, 0.4742482012433635, 0.004488153324069686, 0.12118013974988151, 0.05385783988883623, 0.011968408864185829, 0.013464459972209058, 0.26031289279604175, 0.0743631273520125, 0.20051486125274798, 0.10357721309744598, 0.21512190412546472, 0.062411910456153345, 0.19121947033374642, 0.05975608447929576, 0.011951216895859151, 0.07834686631729888, 0.0026558259768575893, 0.9774130673717032, 0.47663449856781637, 0.008362008746803797, 0.004181004373401898, 0.008362008746803797, 0.07525807872123416, 0.029267030613813284, 0.34702336299235753, 0.029267030613813284, 0.02508602624041139, 0.988553934508476, 0.9776908650247255, 0.9583778730976307, 0.9885057104555781, 0.9657892241776712, 0.9558161614725381, 0.9747859145747739, 0.9364594565815364, 0.04071562854702332, 0.003592734702533973, 0.926925553253765, 0.03592734702533973, 0.03592734702533973, 0.9863709254581978, 0.04547539500328195, 0.4097895145239565, 0.04598635449770085, 0.14817825338148052, 0.0012773987360472458, 0.0020438379776755934, 0.02886921143466776, 0.31832776502297366, 0.012415941990189566, 0.02897053131044232, 0.062079709950947824, 0.8980864706237118, 0.9657892515146185, 0.30458832955927106, 0.017026676807661116, 0.09932228137802318, 0.5779610849711635, 0.9520886416977848, 0.9920341695596111, 0.9915871988661955, 0.005059118361562222, 0.06729568857811057, 0.9253157179490202, 0.04846559716934054, 0.71729083810624, 0.04846559716934054, 0.08723807490481297, 0.07754495547094487, 0.009693119433868108, 0.14439204970976405, 0.2791041854725048, 0.0871192255232096, 0.02419978486755822, 0.03226637982341096, 0.23877121069324111, 0.019359827894046576, 0.0685660571247483, 0.06614607863799248, 0.04113963427484898, 0.09063527119838335, 0.2719058135951501, 0.05981927899093302, 0.009063527119838335, 0.056193868142997684, 0.2048357129083464, 0.07432092238267435, 0.0036254108479353343, 0.0018127054239676671, 0.23021358884389373, 0.9833783755503384, 0.9437268354684949, 0.9667689687044004, 0.9483545594195683, 0.7967621364257205, 0.19380700615760768, 0.008909098848742436, 0.0014848498081237395, 0.7379703546374985, 0.008909098848742436, 0.24203051872416953, 0.9338673137656535, 0.06462278683625057, 0.9047190157075079, 0.03611283936887416, 0.7655921946201323, 0.1986206165288079, 0.8857880829692583, 0.9721742863467705, 0.7741933459094402, 0.040044483409108975, 0.08008896681821795, 0.10678528909095726, 0.11659216699729198, 0.7481330715659569, 0.08744412524796899, 0.038864055665763994, 0.9804852804671409, 0.1429695819121803, 0.7267620413869165, 0.11914131826015023, 0.017457568582814192, 0.017457568582814192, 0.9427087034719664, 0.9310859283050524, 0.8868880949934329, 0.0492715608329685, 0.919470702092309, 0.001851681005399977, 0.007406724021599908, 0.003703362010799954, 0.010184245529699874, 0.0027775215080999656, 0.44347760079329446, 0.06017963267549925, 0.4694011348688942, 0.08565410565291644, 0.8836648566525879, 0.0014275684275486073, 0.028551368550972147, 0.09863844967632317, 0.8877460470869085, 0.02528617351837047, 0.8597298996245959, 0.10114469407348188, 0.9554079510402347, 0.004847937469121386, 0.1902815456630144, 0.3118839771801425, 0.05009535384758765, 0.21250125906315406, 0.031107598760195556, 0.05332731216033524, 0.0670631349895125, 0.07918297866231597, 0.19317519190252547, 0.040643873507907415, 0.29712073047159904, 0.05699485710304258, 0.04111104446776842, 0.14458941207698098, 0.011212103036664114, 0.02756308663179928, 0.05255673298436304, 0.13524599287976088, 0.08770297391884126, 0.03189199051594228, 0.869056741559427, 0.8137498326071416, 0.1017187290758927, 0.021796870516262723, 0.06539061154878817, 0.9782085806899494, 0.016807707571992257, 0.11543436448361694, 0.01915923061968746, 0.07663692247874984, 0.04885603808020302, 0.04358724965978897, 0.41958715057115537, 0.013890442199273408, 0.019638211385179644, 0.24332222887003074, 0.16228870158207703, 0.03338954147382446, 0.23916229706832404, 0.0046590057870452735, 0.03338954147382446, 0.10871013503105638, 0.0015530019290150912, 0.04736655883496028, 0.1568531948305242, 0.2112082623460524, 0.967675740628218, 0.9736608736565057, 0.028871115119847864, 0.10465779230944851, 0.003608889389980983, 0.03608889389980983, 0.7542578825060254, 0.005413334084971475, 0.06676445371464819, 0.9794703373613233, 0.7631806065061633, 0.013389133447476548, 0.006694566723738274, 0.2075315684358865, 0.006694566723738274, 0.03178248118871135, 0.8263445109064952, 0.015891240594355677, 0.03178248118871135, 0.08740182326895622, 0.9499801994334975, 0.03608753341747302, 0.07939257351844065, 0.1257908307694774, 0.23714664817196557, 0.5021322506945533, 0.018559302900414697, 0.21352761718074684, 0.5201313751838705, 0.26280322114553456, 0.008212171251064118, 0.09033388376170531, 0.8869144951149248, 0.008212171251064118, 0.9837995794807592, 0.9797106188251228, 0.9192209477178539, 0.06413169402682702, 0.9981151715619131, 0.01559648870451817, 0.08830984820531235, 0.07482099310951285, 0.19537763552822085, 0.05795992423976347, 0.18589328428898683, 0.04742175619617011, 0.056906107435404134, 0.1264580165231203, 0.15111732974512876, 0.2149435090635575, 0.5110878993289034, 0.20061394179265368, 0.04776522423634611, 0.023882612118173056, 0.992853441717214, 0.9667854937343346, 0.9816766589330007, 0.0044419506798272735, 0.990555001601482, 0.01248329595271777, 0.973697084311986, 0.9506444590494153, 0.9697069997352791, 0.9667934804298616, 0.14526773543551916, 0.6658104540794628, 0.08473951233738618, 0.10895080157663938, 0.9837071978577221, 0.06949419285188133, 0.01882134389738453, 0.1056890849622362, 0.8049744005342921, 0.07555775638476185, 0.06393348617172157, 0.05812135106520142, 0.8020746446997796, 0.06070421892877501, 0.13453367438269057, 0.8039207371648582, 0.992052674415739, 0.013436085257281632, 0.026872170514563264, 0.09021371529889095, 0.08829427454785073, 0.32246604617475916, 0.4568268987475755, 0.03358831802638948, 0.007464070672530996, 0.09703291874290294, 0.8583681273410646, 0.9845149514731517, 0.9310859132603605, 0.9465425057548457, 0.972771964266175, 0.06489752678863477, 0.04056095424289673, 0.86800442079799, 0.01622438169715869, 0.2684695573830955, 0.04592242428921371, 0.6835376230740656, 0.9657396993053816, 0.9892695638729542, 0.9976650750721139, 0.9045474785571763, 0.08474466541893283, 0.6580174020764196, 0.24924901593803772, 0.0066662030225072425, 0.07523286268258174, 0.8418462102709147, 0.027617126807530003, 0.002856944152503104, 0.045711106440049665, 0.9836257632838868, 0.12881289215317746, 0.8050805759573592, 0.06440644607658873, 0.9652278095290172, 0.9868947414174775, 0.009581502343859004, 0.004790751171929502, 0.07639104578218057, 0.019097761445545144, 0.719349014448867, 0.15278209156436115, 0.02546368192739352, 0.977969325129778, 0.7031727687424579, 0.04678072473962298, 0.10891137478443474, 0.01534992530518879, 0.000730948824056609, 0.000730948824056609, 0.09429239830330256, 0.029237952962264363, 0.705205385799236, 0.005001456636874014, 0.0016671522122913378, 0.2867501805141101, 0.10909352045563446, 0.0014742367629139792, 0.49829202586492494, 0.019165077917881728, 0.03685591907284948, 0.029484735258279583, 0.19017654241590332, 0.11499046750729038, 0.02411661958464219, 0.02411661958464219, 0.04019436597440365, 0.9003537978266418, 0.9310858767935146, 0.9750913559528706, 0.9824670257032886, 0.991122107834815, 0.9931226169643246, 0.948809120340204, 0.9667853908346232, 0.012147263979341044, 0.042515423927693655, 0.8594189265383788, 0.08503084785538731, 0.08382687153254362, 0.06489822312196925, 0.005408185260164104, 0.05813799154676412, 0.04056138945123078, 0.11492393677848721, 0.04596957471139489, 0.20551103988623595, 0.050025713656517964, 0.32989930087001035, 0.9907266195155442, 0.012514550176639867, 0.035979331757839614, 0.07665161983191918, 0.012514550176639867, 0.07039434474359925, 0.7915452986724716, 0.966139590470385, 0.9857953751790974, 0.2504440112877415, 0.14311086359299516, 0.003577771589824879, 0.07871097497614733, 0.0011925905299416263, 0.46868807826705916, 0.05485916437731481, 0.20823366011856362, 0.09768986524080762, 0.694112200395212, 0.9056948452569562, 0.20525477930981773, 0.073424473899447, 0.08315877915126763, 0.23529206408686423, 0.04477780415837487, 0.04700278821593387, 0.008899936230236, 0.19579859706519198, 0.10624298874844225, 0.10376931553135758, 0.19356968474118624, 0.01995563760218415, 0.1995563760218415, 0.05188465776567879, 0.01197338256131049, 0.017960073841965737, 0.16563179209812845, 0.16563179209812845, 0.06984473160764453, 0.9558693652474592, 0.9614608592698274, 0.01269969556441341, 0.43178964919005597, 0.00423323185480447, 0.37675763507759785, 0.17356250604698328, 0.9764081168241746, 0.14202195986389987, 0.3195494096937747, 0.5325823494896246, 0.03399266010270373, 0.09772889779527322, 0.5693770567202874, 0.004249082512837966, 0.05098899015405559, 0.24219770323176404, 0.9661807521637732, 0.021958653458267575, 0.9837995796646375, 0.9819827084146769, 0.21894770928404034, 0.0765375946494353, 0.007528287998305112, 0.16060347729717572, 0.030113151993220448, 0.14052804263502874, 0.1455469013005655, 0.02823107999364417, 0.035132010658757186, 0.15746669063121524, 0.966610781374091, 0.0776418941586668, 0.151586555262159, 0.01848616527587305, 0.7542355432556204, 0.09551207315282305, 0.08582728251844589, 0.07714436677728015, 0.21473518544498327, 0.055771035722102964, 0.10219123910756592, 0.06612374295195442, 0.04575228678998866, 0.06044645189042298, 0.19703539566491468, 0.08327733365300222, 0.888291558965357, 0.057318579843800975, 0.03821238656253398, 0.01910619328126699, 0.011463715968760195, 0.03439114790628058, 0.748962776625666, 0.06878229581256116, 0.026748670593773786, 0.8021238172742953, 0.027659441974975697, 0.15904179135611027, 0.8059455623115475, 0.049143022092167525, 0.009828604418433506, 0.049143022092167525, 0.05897162651060103, 0.019657208836867012, 0.9583718368947562, 0.9058062494141742, 0.01741935095027258, 0.05225805285081774, 0.9749408309675214, 0.054950976978816186, 0.041213232734112135, 0.011775209352603467, 0.03140055827360925, 0.1334523726628393, 0.02943802338150867, 0.604460746766978, 0.09027660503662659, 0.23370938522404197, 0.762913395443999, 0.9554079358678019, 0.0479635542111643, 0.08441585541164917, 0.45661303609028414, 0.03069667469514515, 0.1093569036014546, 0.036452301200484864, 0.15156483130727919, 0.08441585541164917, 0.8967381754521457, 0.026638669008048666, 0.008879556336016222, 0.004439778168008111, 0.958992084289752, 0.020989440328247972, 0.020989440328247972, 0.8185881728016708, 0.01399296021883198, 0.11894016186007184, 0.02038651426180611, 0.11824178271847544, 0.02446381711416733, 0.04485033137597344, 0.43627140520265073, 0.061159542785418325, 0.27725659396056307, 0.02038651426180611, 0.4060250163314136, 0.008317085995615548, 0.5852204146005849, 0.9992406380188326, 0.9656699389794553, 0.9754305991766388, 0.10355201058565108, 0.5242320535898586, 0.032360003308015965, 0.33654403440336605, 0.8856170883089639, 0.9785609367658546, 0.19830115052876834, 0.09885460339792332, 0.06688964182015171, 0.03610856770822349, 0.0065113810621386615, 0.5931276203875399, 0.2577150900759689, 0.0017123926250894944, 0.19692515188529183, 0.2217548449490895, 0.02140490781361868, 0.0599337418781323, 0.0008561963125447472, 0.043666011939782104, 0.17209545882149418, 0.02482969306379767, 0.896738027123453, 0.9248813800386013, 0.09499544033147521, 0.09499544033147521, 0.022351868313288285, 0.027939835391610355, 0.016763901234966214, 0.03073381893077139, 0.709671818946903, 0.965725500099395, 0.9756329869343625, 0.971330706874209, 0.9676757327680279, 0.9856923398784461, 0.8856172514790926, 0.07669004929621223, 0.8819355669064406, 0.9718107257170567, 0.02608887854273978, 0.01315234170089631, 0.06576170850448154, 0.9206639190627416, 0.10480520947962699, 0.017467534913271163, 0.8733767456635583, 0.9702755401993424, 0.7799222741230903, 0.01733160609162423, 0.19931347005367864, 0.27322108844699894, 0.02597839857364908, 0.1209339243945733, 0.08958068473672097, 0.006270647931570467, 0.08062261626304887, 0.19170266533658287, 0.03045743281048513, 0.08778907104198655, 0.09316391212618981, 0.949023431890468, 0.008953051244249699, 0.035812204976998795, 0.0407220675653939, 0.848376407612373, 0.10180516891348475, 0.9746700256675476, 0.9397324114693788, 0.97639714646718, 0.017079447913294313, 0.13094243400192307, 0.8425860970558529, 0.9167571506640888, 0.9732503278651068, 0.1339541277581513, 0.830515592100538, 0.03562049735350347, 0.8263955386012805, 0.1353578899433132, 0.8346856526770708, 0.07464668438575431, 0.08482577771108443, 0.9653046478947603, 0.9892701554444238, 0.9661014971504979, 0.2783554371856889, 0.11068464234549047, 0.019178032089565183, 0.12712295556511777, 0.007123269061838496, 0.06520530910452162, 0.04821905211090674, 0.23013638507478218, 0.11452024876340351, 0.9549480455140444, 0.018260162895976834, 0.03309654524895801, 0.2830325248876409, 0.3503668755665555, 0.02168394343897249, 0.01597764253397973, 0.0034237805429956562, 0.0068475610859913124, 0.047932927601939186, 0.219121954751722, 0.950657277239859, 0.9248813233203257, 0.9192862845428756, 0.116783851674452, 0.01015511753690887, 0.8530298731003451, 0.015232676305363305, 0.006208573960407659, 0.018625721881222978, 0.13658862712896852, 0.031042869802038298, 0.6456916918823966, 0.16142292297059915, 0.9849713296571828, 0.9798131149095521, 0.12451128243971187, 0.02394447739225228, 0.8332678132503794, 0.014366686435351368, 0.7987453751041134, 0.1961830745869752, 0.9869697782976208, 0.9885552724311566, 0.07330463262604663, 0.07612404157320227, 0.018326158156511656, 0.14097044735778197, 0.08881138183540264, 0.41868222865261245, 0.007048522367889098, 0.03806202078660113, 0.06766581473173534, 0.07048522367889098, 0.1584653506990403, 0.6817695320772664, 0.1105572214179351, 0.00368524071393117, 0.04053764785324287, 0.002005568923018026, 0.13838425568824378, 0.008022275692072103, 0.1243452732271176, 0.17448449630256824, 0.551531453829957, 0.9708655810124923, 0.38346116973863015, 0.02922722330324925, 0.1122325374844771, 0.04910173514945874, 0.023381778642599396, 0.22212689710469427, 0.07014533592779819, 0.026889045438989307, 0.08417440311335783, 0.06160969517275217, 0.35792299100360786, 0.28164432078972423, 0.017602770049357765, 0.11441800532082547, 0.011735180032905176, 0.04107313011516812, 0.11441800532082547, 0.8967382747687548, 0.9457540846125151, 0.9572393824723776, 0.0060449850218158825, 0.05440486519634294, 0.0362699101308953, 0.8281629479887759, 0.01813495506544765, 0.04835988017452706, 0.9723070310761108, 0.9407459286321634, 0.1457777097150098, 0.02204540296780121, 0.43614148574136447, 0.07169721145383998, 0.006951253188045427, 0.13664177695357868, 0.18033536842129277, 0.5622217549778741, 0.036507906167394424, 0.31396799303959205, 0.08396818418500718, 0.8624977002778587, 0.1257809146238544, 0.7953834116162716, 0.07134164188161214, 0.0364297745778445, 0.0956281582668418, 0.9965776131403838, 0.0009518410822735281, 0.0009518410822735281, 0.9549480193528913, 0.447328104400901, 0.05920519028835454, 0.010963924127473063, 0.12937430470418215, 0.0021927848254946125, 0.06578354476483839, 0.004385569650989225, 0.2762908880123212, 0.004385569650989225, 0.007742300866301742, 0.023226902598905225, 0.11613451299452612, 0.36388814071618186, 0.48776495457700975, 0.9663236253985953, 0.965988379141929, 0.037322011952884225, 0.2146015687290843, 0.4758556523992739, 0.2705845866584107, 0.1056783018311916, 0.04822902365450355, 0.2035548498359194, 0.0872377927868226, 0.26313187905618846, 0.12979281365844336, 0.007092503478603463, 0.019859009740089695, 0.13617606678918648, 0.033578410287359195, 0.6241633912238532, 0.013826404235971432, 0.10863603328263269, 0.13628884175457556, 0.0414792127079143, 0.033578410287359195, 0.007900802420555105, 0.9445735936533899, 0.16333349498569913, 0.016217510140424028, 0.18302618587049974, 0.028959839536471476, 0.02200947804771832, 0.35794361667078745, 0.010425542233129732, 0.01390072297750631, 0.2038772703367592, 0.4378011447242464, 0.1480184822639119, 0.11570458824855084, 0.29812173188365354, 0.9658978556626646, 0.07831309867070387, 0.23937211291800048, 0.03398492961181489, 0.03546253524711118, 0.08274591557659276, 0.15514859170611142, 0.16992464805907442, 0.02511929580003709, 0.04137295778829638, 0.13593971844725955, 0.9935640278737152, 0.9506572146253818, 0.962100246527337, 0.9666108081212409, 0.03702484989262544, 0.9034063373800606, 0.05183478984967561, 0.29304875813418035, 0.6808203471804191, 0.023680707728014574, 0.9716859207967529, 0.9829873105372021, 0.06844401357686199, 0.6673291323744043, 0.25666505091323244, 0.8099965294197067, 0.18274311944225088, 0.004939003228168943, 0.9764375118870812, 0.9506572807108569, 0.9151774960787266, 0.07198025250057401, 0.9885552854702818, 0.28832724311421176, 0.05155520241115044, 0.6587609196980334, 0.9669849073170781, 0.9308727373202063, 0.040472727709574184, 0.02191050487929688, 0.9531069622494143, 0.019719454391367193, 0.004382100975859376, 0.03485307957039644, 0.0014522116487665185, 0.03485307957039644, 0.6651129351350654, 0.03485307957039644, 0.2279972288563434, 0.18719646829178432, 0.02339955853647304, 0.7086723442474693, 0.010028382229917017, 0.07019867560941913, 0.9661981632201438, 0.9002758226269771, 0.022229032657456224, 0.04445806531491245, 0.022229032657456224, 0.07869682715064286, 0.008585108416433767, 0.11518353792048637, 0.0035771285068474028, 0.4936437339449416, 0.030763305158887665, 0.020747345339714937, 0.24825271837520976, 0.9637895137324574, 0.9667853865910974, 0.031160759852223087, 0.9659835554189157, 0.7462646323806118, 0.19735924162131885, 0.04317233410466349, 0.8402816880921679, 0.1512507038565902, 0.8857881582880065, 0.11362546404536163, 0.5278849683774093, 0.023671971676117006, 0.023671971676117006, 0.021304774508505306, 0.24382130826400517, 0.044976746184622315, 0.09023580464346091, 0.004718212007501224, 0.11205753517815407, 0.6894487295961164, 0.028309272045007345, 0.015923965525316632, 0.03715591955907214, 0.021821730534693162, 0.06693551498709654, 0.05529455585890584, 0.05965991553197735, 0.1338710299741931, 0.02037167847433373, 0.0072755994551191895, 0.04801895640378665, 0.017461438692286054, 0.45399740599943744, 0.13678126975624078, 0.1143149215342771, 0.024267972169287874, 0.21585722613735003, 0.027780441825369016, 0.046620051798895126, 0.04039340104493311, 0.37886774972184295, 0.028898045806849376, 0.011335697526443679, 0.11176039814803626, 0.01936297498393469, 0.053248181205820394, 0.14360873113084896, 0.0016135812486612242, 0.5841164120153631, 0.025817299978579587, 0.17103961235808976, 0.9488092037602777, 0.9764081385421373, 0.27370274259467836, 0.283992319383952, 0.014405407504983071, 0.1090695139663004, 0.004115830715709449, 0.2922239808153709, 0.02263706893640197, 0.03111951080267549, 0.9647048348829402, 0.9681490629798234, 0.10805271848021746, 0.036017572826739154, 0.00240117152178261, 0.6651245115337829, 0.046822844674760895, 0.141669119785174, 0.009960937628243008, 0.037187500478773894, 0.08101562604304313, 0.08964843865418708, 0.0039843750512972035, 0.24636719067187707, 0.007304687594044873, 0.010625000136792542, 0.5139843816173392, 0.9900773939773218, 0.17403289789859303, 0.1560294946677041, 0.6571242179274461, 0.012002268820592623, 0.030298176126629706, 0.7498798591340852, 0.15149088063314853, 0.06059635225325941, 0.9465425608120568, 0.07978248774298413, 0.04432360430165785, 0.12410609204464197, 0.6471246228042046, 0.10046683641709113, 0.9591901151228989], \"Term\": [\"000\", \"000\", \"000\", \"000\", \"2008\", \"2008\", \"2017\", \"2017\", \"2017\", \"2017\", \"2017\", \"2017\", \"2017\", \"2017\", \"2017\", \"2018\", \"2018\", \"2018\", \"2018\", \"2018\", \"2018\", \"2018\", \"2018\", \"2018\", \"2019\", \"2019\", \"2019\", \"2019\", \"2019\", \"2019\", \"2019\", \"2019\", \"2020\", \"2020\", \"2020\", \"2020\", \"2020\", \"2020\", \"2020\", \"2020\", \"2020\", \"2021\", \"2021\", \"2021\", \"2021\", \"2021\", \"2021\", \"2021\", \"2021\", \"2021\", \"2021\", \"2022\", \"2022\", \"2022\", \"2022\", \"2022\", \"2022\", \"2022\", \"2022\", \"2035\", \"2038\", \"2038\", \"2040\", \"2040\", \"2040\", \"2042\", \"2045\", \"2045\", \"27\", \"27\", \"27\", \"500\", \"500\", \"7g\", \"89\", \"89\", \"90\", \"90\", \"90\", \"90\", \"90\", \"91\", \"91\", \"91\", \"92\", \"92\", \"92\", \"92\", \"93\", \"93\", \"93\", \"93\", \"93\", \"95\", \"95\", \"95\", \"95\", \"96\", \"96\", \"96\", \"96\", \"97\", \"97\", \"98\", \"98\", \"accents\", \"accents\", \"accents\", \"accents\", \"accents\", \"accents\", \"accents\", \"achieved\", \"acidity\", \"acidity\", \"acidity\", \"acidity\", \"acidity\", \"acidity\", \"acidity\", \"acidity\", \"acidity\", \"acids\", \"acids\", \"acids\", \"acids\", \"acids\", \"acres\", \"active\", \"age\", \"age\", \"age\", \"age\", \"age\", \"age\", \"age\", \"age\", \"aged\", \"aged\", \"aged\", \"aged\", \"aged\", \"aged\", \"aged\", \"aged\", \"ages\", \"ages\", \"aglianico\", \"alba\", \"alba\", \"alba\", \"alcohol\", \"alcohol\", \"alcohol\", \"alcohol\", \"alder\", \"align\", \"almond\", \"almond\", \"almond\", \"almond\", \"almonds\", \"almonds\", \"alongside\", \"alongside\", \"alongside\", \"alongside\", \"alongside\", \"alongside\", \"altitude\", \"american\", \"american\", \"anise\", \"anise\", \"anise\", \"anise\", \"anise\", \"appealingly\", \"appetizers\", \"apple\", \"apple\", \"apple\", \"apple\", \"apple\", \"apples\", \"apples\", \"apples\", \"apricot\", \"apricot\", \"apricot\", \"apricot\", \"apricot\", \"apricots\", \"aromas\", \"aromas\", \"aromas\", \"aromas\", \"aromas\", \"aromas\", \"aromas\", \"aromas\", \"aromas\", \"aromas\", \"attractively\", \"attractively\", \"attractively\", \"august\", \"august\", \"august\", \"auslese\", \"austere\", \"austere\", \"austere\", \"austere\", \"austere\", \"avize\", \"avocado\", \"avola\", \"a\\u00e7a\\u00ed\", \"a\\u00ff\", \"bages\", \"balsam\", \"bark\", \"bark\", \"barolo\", \"barolo\", \"barolo\", \"barolo\", \"barrel\", \"barrel\", \"barrel\", \"barrel\", \"barrels\", \"barrels\", \"based\", \"based\", \"based\", \"beach\", \"beam\", \"beam\", \"beaucaillou\", \"beefy\", \"beefy\", \"beeswax\", \"beeswax\", \"berardenga\", \"berries\", \"berries\", \"berries\", \"berries\", \"berries\", \"berries\", \"berries\", \"berries\", \"berry\", \"berry\", \"berry\", \"berry\", \"berry\", \"berry\", \"berry\", \"best\", \"best\", \"best\", \"best\", \"best\", \"best\", \"best\", \"best\", \"best\", \"best\", \"bilberry\", \"biodynamic\", \"biodynamically\", \"biodynamically\", \"bits\", \"black\", \"black\", \"black\", \"black\", \"black\", \"black\", \"black\", \"black\", \"blackberries\", \"blackberries\", \"blackberries\", \"blackberry\", \"blackberry\", \"blackberry\", \"blackberry\", \"blackberry\", \"blackberry\", \"blackcurrants\", \"blackcurrants\", \"blackcurrants\", \"blanc\", \"blanc\", \"blanc\", \"blanc\", \"blancs\", \"blancs\", \"blend\", \"blend\", \"blend\", \"blend\", \"blend\", \"blend\", \"blend\", \"blend\", \"blend\", \"blood\", \"blood\", \"blood\", \"blossom\", \"blossom\", \"blossom\", \"blossom\", \"blossom\", \"blueberries\", \"blueberries\", \"blueberries\", \"bodied\", \"bodied\", \"bodied\", \"bodied\", \"bodied\", \"bodied\", \"bodied\", \"bodied\", \"bodied\", \"body\", \"body\", \"body\", \"body\", \"body\", \"body\", \"bois\", \"bois\", \"botanical\", \"bottle\", \"bottle\", \"bottle\", \"bottle\", \"bottle\", \"bottle\", \"bottle\", \"bottle\", \"bottled\", \"bottled\", \"bottled\", \"bottled\", \"bottled\", \"bottlings\", \"bouquet\", \"bouquet\", \"bouquet\", \"bouquet\", \"bouquet\", \"bouquet\", \"bouquet\", \"bouquet\", \"bourboulenc\", \"box\", \"box\", \"box\", \"boysenberry\", \"boysenberry\", \"braised\", \"brambleberries\", \"brawny\", \"bread\", \"bread\", \"bright\", \"bright\", \"bright\", \"bright\", \"bright\", \"bright\", \"bright\", \"bright\", \"bright\", \"bright\", \"brim\", \"brimming\", \"brimming\", \"brisson\", \"broody\", \"brought\", \"brought\", \"brought\", \"brought\", \"brunello\", \"brunello\", \"brunello\", \"brunello\", \"brut\", \"brut\", \"br\\u00fbl\\u00e9e\", \"burly\", \"burly\", \"burning\", \"butter\", \"butter\", \"butterscotch\", \"butterscotch\", \"cab\", \"cab\", \"cabernet\", \"cabernet\", \"cabernet\", \"cabernet\", \"cabernet\", \"cacao\", \"camphor\", \"camphor\", \"camphor\", \"canaiolo\", \"cannubi\", \"canon\", \"caramelized\", \"caramelized\", \"carm\\u00e9n\\u00e8re\", \"casks\", \"cassis\", \"cassis\", \"cassis\", \"cassis\", \"cassis\", \"cast\", \"cast\", \"cast\", \"cent\", \"cerequio\", \"certain\", \"certification\", \"certified\", \"chablis\", \"chablis\", \"chablis\", \"chai\", \"chamomile\", \"chamomile\", \"champagne\", \"champagne\", \"champagne\", \"champagnes\", \"character\", \"character\", \"character\", \"character\", \"character\", \"character\", \"character\", \"character\", \"character\", \"chardonnay\", \"chardonnay\", \"chardonnay\", \"charges\", \"checks\", \"cherries\", \"cherries\", \"cherries\", \"cherries\", \"cherry\", \"cherry\", \"cherry\", \"cherry\", \"cherry\", \"cherry\", \"cherry\", \"chest\", \"cheval\", \"chewy\", \"chewy\", \"chewy\", \"chewy\", \"chicken\", \"chicken\", \"chicken\", \"chili\", \"chili\", \"chocolate\", \"chocolate\", \"chocolate\", \"chocolate\", \"chocolate\", \"chocolatey\", \"chops\", \"ch\\u00e2teau\", \"ch\\u00e2teau\", \"ch\\u00e2teauneuf\", \"citrus\", \"citrus\", \"citrus\", \"citrus\", \"citrus\", \"citrus\", \"citrus\", \"clairette\", \"clams\", \"clay\", \"clay\", \"clay\", \"clear\", \"clear\", \"clear\", \"clear\", \"cloves\", \"cloves\", \"color\", \"color\", \"color\", \"color\", \"color\", \"color\", \"color\", \"color\", \"color\", \"comes\", \"comes\", \"comes\", \"comes\", \"comes\", \"comes\", \"comes\", \"comes\", \"comes\", \"coming\", \"coming\", \"coming\", \"coming\", \"coming\", \"commentary\", \"complex\", \"complex\", \"complex\", \"complex\", \"complex\", \"complex\", \"complex\", \"complex\", \"complex\", \"complex\", \"concentrated\", \"concentrated\", \"concentrated\", \"concentrated\", \"concentrated\", \"concentrated\", \"concentrated\", \"concentrated\", \"concentrated\", \"coolish\", \"copper\", \"core\", \"core\", \"core\", \"core\", \"core\", \"core\", \"core\", \"core\", \"core\", \"cos\", \"crab\", \"cramant\", \"cranberry\", \"cranberry\", \"creamy\", \"creamy\", \"creamy\", \"creamy\", \"creamy\", \"creamy\", \"creamy\", \"creek\", \"crisp\", \"crisp\", \"crisp\", \"crisp\", \"crisp\", \"crisp\", \"crisp\", \"crozes\", \"crust\", \"crystalline\", \"crystalline\", \"crystalline\", \"culminate\", \"curd\", \"currant\", \"currant\", \"currant\", \"currant\", \"currant\", \"current\", \"cuv\\u00e9e\", \"cuv\\u00e9e\", \"cuv\\u00e9e\", \"cuv\\u00e9e\", \"cuv\\u00e9e\", \"dark\", \"dark\", \"dark\", \"dark\", \"dark\", \"dark\", \"dark\", \"de\", \"de\", \"de\", \"de\", \"de\", \"de\", \"decades\", \"decades\", \"decades\", \"decades\", \"decades\", \"december\", \"december\", \"deep\", \"deep\", \"deep\", \"deep\", \"deep\", \"deep\", \"deep\", \"deep\", \"deep\", \"deepen\", \"define\", \"define\", \"delineation\", \"demeter\", \"demeter\", \"dense\", \"dense\", \"dense\", \"dense\", \"dense\", \"dense\", \"dense\", \"dense\", \"depth\", \"depth\", \"depth\", \"depth\", \"depth\", \"depth\", \"depth\", \"depth\", \"depth\", \"di\", \"di\", \"di\", \"different\", \"different\", \"different\", \"different\", \"discreet\", \"discreet\", \"discreet\", \"discreet\", \"disgorged\", \"disgorgement\", \"dosage\", \"douro\", \"dried\", \"dried\", \"dried\", \"dried\", \"dried\", \"dried\", \"dried\", \"dried\", \"dried\", \"drier\", \"drink\", \"drink\", \"drink\", \"drink\", \"drink\", \"drink\", \"drink\", \"drink\", \"drinkable\", \"drinkable\", \"drinkable\", \"drinkable\", \"drinkable\", \"drinkable\", \"dry\", \"dry\", \"dry\", \"dry\", \"dry\", \"dry\", \"dry\", \"dry\", \"dry\", \"du\", \"du\", \"du\", \"du\", \"ducru\", \"dusky\", \"earl\", \"earth\", \"earth\", \"earth\", \"earth\", \"earth\", \"earth\", \"editors\", \"editors\", \"editors\", \"elderflower\", \"elegant\", \"elegant\", \"elegant\", \"elegant\", \"elegant\", \"elegant\", \"elegant\", \"elegant\", \"elegant\", \"elegant\", \"elements\", \"elements\", \"elements\", \"elements\", \"elements\", \"elements\", \"elements\", \"embedded\", \"embers\", \"emilion\", \"enjoy\", \"enjoy\", \"enjoy\", \"enjoy\", \"enjoy\", \"enjoy\", \"enjoy\", \"enjoy\", \"enormously\", \"estournel\", \"evokes\", \"evokes\", \"evolve\", \"evolve\", \"excellent\", \"excellent\", \"excellent\", \"excellent\", \"excellent\", \"excellent\", \"excellent\", \"excellent\", \"excellent\", \"excels\", \"excels\", \"exhibits\", \"exhibits\", \"exhibits\", \"extends\", \"extreme\", \"extreme\", \"exude\", \"facing\", \"fantastically\", \"fantastically\", \"february\", \"february\", \"february\", \"february\", \"fermentation\", \"fermentation\", \"fermented\", \"fermented\", \"fermented\", \"field\", \"fill\", \"fill\", \"fill\", \"fill\", \"fill\", \"fils\", \"finale\", \"fine\", \"fine\", \"fine\", \"fine\", \"fine\", \"fine\", \"fine\", \"fine\", \"fine\", \"finish\", \"finish\", \"finish\", \"finish\", \"finish\", \"finish\", \"finish\", \"finish\", \"finish\", \"finish\", \"firm\", \"firm\", \"firm\", \"firm\", \"firm\", \"firm\", \"firm\", \"firm\", \"firm\", \"firming\", \"flavorful\", \"flavorful\", \"flavorful\", \"flavorful\", \"flavorful\", \"flavors\", \"flavors\", \"flavors\", \"flavors\", \"flavors\", \"flavors\", \"flavors\", \"flavors\", \"flavors\", \"flavors\", \"flawless\", \"flint\", \"flint\", \"flint\", \"flinty\", \"flinty\", \"flinty\", \"flinty\", \"flinty\", \"floor\", \"floor\", \"floor\", \"floral\", \"floral\", \"floral\", \"floral\", \"floral\", \"floral\", \"floral\", \"floral\", \"floral\", \"floral\", \"florality\", \"flower\", \"flower\", \"flower\", \"flower\", \"flower\", \"flower\", \"flowers\", \"flowers\", \"flowers\", \"flowers\", \"flowers\", \"flowers\", \"flowers\", \"flowers\", \"flowers\", \"follow\", \"follow\", \"follow\", \"follow\", \"follow\", \"fontalloro\", \"forefront\", \"forest\", \"forest\", \"forest\", \"forest\", \"forest\", \"forest\", \"forest\", \"forest\", \"frames\", \"frames\", \"franc\", \"franc\", \"franc\", \"franc\", \"franca\", \"francisco\", \"french\", \"french\", \"french\", \"fresh\", \"fresh\", \"fresh\", \"fresh\", \"fresh\", \"fresh\", \"fresh\", \"fresh\", \"fresh\", \"fresh\", \"freshness\", \"freshness\", \"freshness\", \"freshness\", \"freshness\", \"freshness\", \"freshness\", \"freshness\", \"freshness\", \"freshness\", \"fried\", \"fruit\", \"fruit\", \"fruit\", \"fruit\", \"fruit\", \"fruit\", \"fruit\", \"fruit\", \"fruit\", \"fruit\", \"fruits\", \"fruits\", \"fruits\", \"fruits\", \"fruits\", \"fruits\", \"fruits\", \"fruits\", \"fruits\", \"fruits\", \"fudge\", \"f\\u00e8vre\", \"gallonibarrel\", \"ganache\", \"garlic\", \"garnet\", \"garnet\", \"garnet\", \"garnet\", \"garni\", \"gather\", \"gg\", \"ginger\", \"ginger\", \"ginger\", \"ginger\", \"ginger\", \"glass\", \"glass\", \"glass\", \"glass\", \"glass\", \"glass\", \"glass\", \"glass\", \"glass\", \"going\", \"going\", \"going\", \"going\", \"going\", \"good\", \"good\", \"good\", \"good\", \"good\", \"good\", \"good\", \"good\", \"good\", \"graciano\", \"graciano\", \"graciano\", \"grained\", \"grained\", \"grained\", \"grained\", \"grained\", \"grained\", \"grained\", \"grand\", \"grand\", \"grand\", \"grand\", \"grand\", \"grand\", \"grand\", \"grapefruit\", \"grapefruit\", \"grapefruit\", \"grapefruit\", \"grapefruit\", \"grapes\", \"grapes\", \"grapes\", \"grapes\", \"grapes\", \"grapes\", \"grapes\", \"gravelly\", \"great\", \"great\", \"great\", \"great\", \"great\", \"great\", \"great\", \"great\", \"green\", \"green\", \"green\", \"green\", \"green\", \"green\", \"green\", \"green\", \"green\", \"grey\", \"grey\", \"grey\", \"grilled\", \"grilled\", \"grilled\", \"grilled\", \"grilled\", \"grilled\", \"grimaldi\", \"growing\", \"growing\", \"growing\", \"gr\\u00fcner\", \"guava\", \"guava\", \"ha\", \"ha\", \"handrolls\", \"haut\", \"haut\", \"heavier\", \"hectares\", \"helped\", \"hermitage\", \"hermitage\", \"hibiscus\", \"highlighted\", \"highlighted\", \"highly\", \"highly\", \"highly\", \"highly\", \"hints\", \"hints\", \"hints\", \"hints\", \"hints\", \"hints\", \"hints\", \"hints\", \"hints\", \"hints\", \"hip\", \"hip\", \"hold\", \"hold\", \"hold\", \"hold\", \"hold\", \"hold\", \"honey\", \"honey\", \"honeyed\", \"honeyed\", \"honeyed\", \"honeysuckle\", \"honeysuckle\", \"imported\", \"imposing\", \"impressively\", \"impressively\", \"impressively\", \"impressively\", \"incredible\", \"incredible\", \"incredible\", \"incredible\", \"incredible\", \"indigenous\", \"inflected\", \"inlaid\", \"intense\", \"intense\", \"intense\", \"intense\", \"intense\", \"intense\", \"intense\", \"intense\", \"intense\", \"intertwined\", \"intertwined\", \"intertwined\", \"iron\", \"iron\", \"iron\", \"iron\", \"jasmine\", \"jasmine\", \"jasmine\", \"jasmine\", \"juicy\", \"juicy\", \"juicy\", \"juicy\", \"juicy\", \"juicy\", \"juicy\", \"juicy\", \"juicy\", \"juicy\", \"june\", \"june\", \"june\", \"june\", \"kabinett\", \"kiwi\", \"lacy\", \"lacy\", \"lacy\", \"lamb\", \"lanolin\", \"latent\", \"latest\", \"latest\", \"latest\", \"laurel\", \"laurent\", \"leg\", \"lemon\", \"lemon\", \"lemon\", \"lemon\", \"lemongrass\", \"lemongrass\", \"lemons\", \"licorice\", \"licorice\", \"licorice\", \"licorice\", \"licorice\", \"licorice\", \"like\", \"like\", \"like\", \"like\", \"like\", \"like\", \"like\", \"like\", \"like\", \"like\", \"lime\", \"lime\", \"lime\", \"limey\", \"lined\", \"lining\", \"lip\", \"lip\", \"little\", \"little\", \"little\", \"little\", \"little\", \"little\", \"little\", \"little\", \"little\", \"loganberry\", \"long\", \"long\", \"long\", \"long\", \"long\", \"long\", \"long\", \"long\", \"long\", \"long\", \"longevity\", \"longevity\", \"lots\", \"lots\", \"lots\", \"lots\", \"lots\", \"lots\", \"lots\", \"lots\", \"lots\", \"lovely\", \"lovely\", \"lovely\", \"lovely\", \"lovely\", \"lovely\", \"lovely\", \"lovely\", \"lovely\", \"lovely\", \"lower\", \"lush\", \"lush\", \"lush\", \"lush\", \"lush\", \"lush\", \"lush\", \"lush\", \"lush\", \"lynch\", \"l\\u00e9oville\", \"magnum\", \"mango\", \"mangoes\", \"marasca\", \"marbled\", \"markedly\", \"markedly\", \"matured\", \"matured\", \"matured\", \"matured\", \"mazuelo\", \"medium\", \"medium\", \"medium\", \"medium\", \"medium\", \"medium\", \"medium\", \"medium\", \"melon\", \"melon\", \"melon\", \"melon\", \"meringue\", \"merlot\", \"merlot\", \"merlot\", \"merlot\", \"mesnil\", \"meters\", \"meunier\", \"meunier\", \"meyer\", \"meyer\", \"middle\", \"middle\", \"middle\", \"middle\", \"middle\", \"middle\", \"mineral\", \"mineral\", \"mineral\", \"mineral\", \"mineral\", \"mineral\", \"mineral\", \"mineral\", \"mineral\", \"mineral\", \"minerality\", \"minerality\", \"minerality\", \"minerality\", \"minerality\", \"minerality\", \"minerality\", \"minerality\", \"minerality\", \"minerality\", \"mingled\", \"monforte\", \"monopole\", \"montagne\", \"montalcino\", \"montalcino\", \"months\", \"months\", \"months\", \"months\", \"months\", \"morra\", \"moss\", \"moss\", \"mousse\", \"mousse\", \"mousse\", \"muddled\", \"muids\", \"mulberry\", \"mulberry\", \"mulberry\", \"mulberry\", \"mushrooms\", \"mushrooms\", \"mushrooms\", \"mushrooms\", \"nacional\", \"natural\", \"natural\", \"natural\", \"nebbiolo\", \"nebbiolo\", \"nebbiolo\", \"needle\", \"needles\", \"needles\", \"nerello\", \"new\", \"new\", \"new\", \"new\", \"new\", \"new\", \"new\", \"new\", \"noir\", \"noir\", \"noir\", \"noir\", \"noirs\", \"noirs\", \"non\", \"non\", \"non\", \"nonvintage\", \"nose\", \"nose\", \"nose\", \"nose\", \"nose\", \"nose\", \"nose\", \"nose\", \"nose\", \"notes\", \"notes\", \"notes\", \"notes\", \"notes\", \"notes\", \"notes\", \"notes\", \"notes\", \"notes\", \"notions\", \"notions\", \"notions\", \"november\", \"november\", \"november\", \"november\", \"nv\", \"nv\", \"oak\", \"oak\", \"oak\", \"oak\", \"oak\", \"oak\", \"oak\", \"oak\", \"oak\", \"offers\", \"offers\", \"offers\", \"offers\", \"offers\", \"offers\", \"offers\", \"offers\", \"offers\", \"offers\", \"oger\", \"oily\", \"old\", \"old\", \"old\", \"old\", \"old\", \"old\", \"old\", \"oldest\", \"olive\", \"olive\", \"olive\", \"olive\", \"olive\", \"olives\", \"olives\", \"olives\", \"olives\", \"olives\", \"onwards\", \"orange\", \"orange\", \"orange\", \"orange\", \"orange\", \"orange\", \"orchard\", \"orchard\", \"orchard\", \"organic\", \"organic\", \"organic\", \"organic\", \"oven\", \"overtly\", \"oysters\", \"oysters\", \"pair\", \"palate\", \"palate\", \"palate\", \"palate\", \"palate\", \"palate\", \"palate\", \"palate\", \"palate\", \"palate\", \"pale\", \"pale\", \"pale\", \"pale\", \"pale\", \"pan\", \"panko\", \"papaya\", \"pape\", \"pape\", \"parcels\", \"parcels\", \"particular\", \"pasta\", \"pastille\", \"patience\", \"patience\", \"patience\", \"patience\", \"pavie\", \"peach\", \"peach\", \"peach\", \"peach\", \"peaches\", \"peaches\", \"peaches\", \"peaches\", \"pear\", \"pear\", \"pear\", \"pears\", \"peel\", \"peel\", \"peel\", \"peel\", \"peel\", \"peel\", \"pencil\", \"pencil\", \"pencil\", \"pencil\", \"peonies\", \"peppermint\", \"perlage\", \"perrier\", \"petal\", \"petal\", \"petal\", \"petal\", \"petit\", \"petit\", \"petit\", \"petrale\", \"pillowy\", \"pineapple\", \"pineapples\", \"pink\", \"pink\", \"pink\", \"pinot\", \"pinot\", \"pinot\", \"pinot\", \"pinot\", \"pinot\", \"pinpoint\", \"pipe\", \"pipe\", \"pipe\", \"piquant\", \"planted\", \"planted\", \"planted\", \"pleasing\", \"pleasing\", \"pleasing\", \"pleasing\", \"pleasing\", \"plot\", \"plum\", \"plum\", \"plum\", \"plum\", \"plum\", \"plum\", \"plum\", \"plum\", \"plums\", \"plums\", \"plums\", \"plums\", \"polished\", \"polished\", \"polished\", \"polished\", \"polished\", \"polished\", \"polished\", \"polished\", \"pomegranate\", \"pomegranate\", \"pomegranate\", \"pomegranate\", \"pomegranates\", \"pomerol\", \"pork\", \"port\", \"possess\", \"potting\", \"priorat\", \"produced\", \"produced\", \"produced\", \"produced\", \"pure\", \"pure\", \"pure\", \"pure\", \"pure\", \"pure\", \"pure\", \"pure\", \"pure\", \"pure\", \"puree\", \"purple\", \"purple\", \"purple\", \"purple\", \"purple\", \"purple\", \"p\\u00e2te\", \"quinta\", \"raspberry\", \"raspberry\", \"raspberry\", \"raspberry\", \"raspberry\", \"raspberry\", \"raspberry\", \"rating\", \"rating\", \"rating\", \"recalling\", \"red\", \"red\", \"red\", \"red\", \"red\", \"red\", \"red\", \"red\", \"red\", \"refined\", \"refined\", \"refined\", \"refined\", \"refined\", \"refined\", \"refined\", \"refined\", \"refined\", \"refined\", \"relax\", \"relaxed\", \"release\", \"release\", \"release\", \"release\", \"release\", \"repeating\", \"reserva\", \"reserva\", \"reserva\", \"reserve\", \"reserve\", \"reserve\", \"reserve\", \"reserve\", \"reserve\", \"residual\", \"residual\", \"ribeye\", \"ribs\", \"rich\", \"rich\", \"rich\", \"rich\", \"rich\", \"rich\", \"rich\", \"rich\", \"rich\", \"rich\", \"ried\", \"riesling\", \"riesling\", \"riesling\", \"riesling\", \"ripe\", \"ripe\", \"ripe\", \"ripe\", \"ripe\", \"ripe\", \"ripe\", \"ripe\", \"ripe\", \"ripe\", \"ripened\", \"ripened\", \"ripeness\", \"ripeness\", \"ripeness\", \"ripeness\", \"ripeness\", \"ripeness\", \"ripeness\", \"ripeness\", \"riserva\", \"riserva\", \"riserva\", \"roast\", \"roast\", \"roast\", \"roast\", \"roast\", \"roast\", \"roederer\", \"root\", \"root\", \"root\", \"roriz\", \"rose\", \"rose\", \"rose\", \"rose\", \"rose\", \"rose\", \"rose\", \"rose\", \"ros\\u00e9\", \"ros\\u00e9\", \"rotie\", \"round\", \"round\", \"round\", \"round\", \"round\", \"round\", \"round\", \"round\", \"sagebrush\", \"saint\", \"saint\", \"saint\", \"saint\", \"salted\", \"salted\", \"salted\", \"salted\", \"salted\", \"salty\", \"salty\", \"salty\", \"salty\", \"salty\", \"salty\", \"salty\", \"salty\", \"sample\", \"sample\", \"sample\", \"san\", \"sancerre\", \"sanguine\", \"sappy\", \"sappy\", \"sappy\", \"sappy\", \"sarsaparilla\", \"sashimi\", \"sauvignon\", \"sauvignon\", \"sauvignon\", \"sauvignon\", \"sauvignon\", \"sauvignon\", \"savory\", \"savory\", \"savory\", \"savory\", \"savory\", \"savory\", \"savory\", \"savory\", \"savory\", \"savory\", \"scavino\", \"scrub\", \"seamless\", \"seamless\", \"seamless\", \"seamless\", \"seamless\", \"seamless\", \"seamless\", \"seared\", \"season\", \"seeking\", \"sel\", \"semillon\", \"sensibility\", \"serralunga\", \"serralunga\", \"serve\", \"serve\", \"sexy\", \"sexy\", \"sexy\", \"shavings\", \"shavings\", \"shavings\", \"shimmering\", \"shines\", \"shines\", \"shines\", \"shows\", \"shows\", \"shows\", \"shows\", \"shows\", \"shows\", \"shows\", \"shows\", \"shows\", \"shows\", \"singed\", \"singed\", \"singed\", \"single\", \"single\", \"single\", \"skinned\", \"slavonian\", \"slew\", \"sliced\", \"sliced\", \"sliced\", \"smacking\", \"smoldering\", \"sneaky\", \"sneaky\", \"soften\", \"soften\", \"soften\", \"soils\", \"soils\", \"soils\", \"sole\", \"solera\", \"sous\", \"spice\", \"spice\", \"spice\", \"spice\", \"spice\", \"spice\", \"spice\", \"spice\", \"spice\", \"spicecake\", \"spices\", \"spices\", \"spices\", \"spices\", \"spices\", \"spices\", \"spices\", \"spices\", \"spices\", \"spices\", \"spicier\", \"spirits\", \"stags\", \"stainless\", \"stainless\", \"stainless\", \"stainless\", \"star\", \"star\", \"star\", \"star\", \"star\", \"star\", \"stated\", \"steamed\", \"steel\", \"steel\", \"steel\", \"steel\", \"steeped\", \"steeped\", \"stew\", \"stimulating\", \"stone\", \"stone\", \"stone\", \"stone\", \"stone\", \"stone\", \"stone\", \"stone\", \"stone\", \"stone\", \"strawberries\", \"strawberries\", \"strawberries\", \"strawberries\", \"strawberries\", \"strawberry\", \"strawberry\", \"strawberry\", \"strawberry\", \"strawberry\", \"strawberry\", \"struck\", \"structure\", \"structure\", \"structure\", \"structure\", \"structure\", \"structure\", \"structure\", \"structure\", \"structure\", \"succulent\", \"succulent\", \"succulent\", \"succulent\", \"succulent\", \"succulent\", \"succulent\", \"succulent\", \"suede\", \"sufficiently\", \"suffused\", \"sugar\", \"sugar\", \"sugar\", \"sugar\", \"sugar\", \"sugar\", \"s\\u00e9millon\", \"tannined\", \"tannins\", \"tannins\", \"tannins\", \"tannins\", \"tannins\", \"tannins\", \"tannins\", \"tar\", \"tar\", \"tar\", \"tar\", \"tarry\", \"tarry\", \"tasted\", \"tasted\", \"tasted\", \"tasted\", \"tasting\", \"tasting\", \"tasting\", \"tautly\", \"tea\", \"tea\", \"tea\", \"tea\", \"tea\", \"tea\", \"tea\", \"tea\", \"tea\", \"tempranillo\", \"tempranillo\", \"tempranillo\", \"tempranillo\", \"tempranillo\", \"tender\", \"tensioned\", \"terroir\", \"terroir\", \"terroir\", \"terroir\", \"texture\", \"texture\", \"texture\", \"texture\", \"texture\", \"texture\", \"texture\", \"texture\", \"texture\", \"tight\", \"tight\", \"tight\", \"tight\", \"tight\", \"tight\", \"tight\", \"tight\", \"tile\", \"time\", \"time\", \"time\", \"time\", \"time\", \"time\", \"time\", \"time\", \"time\", \"tobacco\", \"tobacco\", \"tobacco\", \"tobacco\", \"tondonia\", \"touch\", \"touch\", \"touch\", \"touch\", \"touch\", \"touch\", \"touch\", \"touch\", \"touch\", \"touch\", \"touriga\", \"treatment\", \"trimmed\", \"trocken\", \"tropical\", \"tropical\", \"tropical\", \"try\", \"try\", \"try\", \"tug\", \"uco\", \"underbrush\", \"underbrush\", \"underbrush\", \"undertones\", \"undertones\", \"undertones\", \"unquestionably\", \"valmur\", \"vats\", \"vats\", \"veltliner\", \"verdot\", \"verdot\", \"verdot\", \"vergelesses\", \"vigna\", \"vigna\", \"vines\", \"vines\", \"vines\", \"vines\", \"vineyard\", \"vineyard\", \"vineyard\", \"vineyard\", \"vineyard\", \"vineyard\", \"vineyards\", \"vineyards\", \"vineyards\", \"vineyards\", \"vineyards\", \"vinification\", \"vinous\", \"vinous\", \"vinous\", \"vinous\", \"vintage\", \"vintage\", \"vintage\", \"vintage\", \"vintage\", \"vintage\", \"vintage\", \"vintage\", \"viscous\", \"vital\", \"vi\\u00f1a\", \"vi\\u00f1a\", \"walnut\", \"walnut\", \"walnut\", \"walnuts\", \"walnuts\", \"wears\", \"weight\", \"weight\", \"weight\", \"weight\", \"weight\", \"weight\", \"weight\", \"white\", \"white\", \"white\", \"white\", \"white\", \"white\", \"white\", \"white\", \"wild\", \"wild\", \"wild\", \"wild\", \"wild\", \"wild\", \"wild\", \"wild\", \"wild\", \"wild\", \"wine\", \"wine\", \"wine\", \"wine\", \"wine\", \"wine\", \"wine\", \"wine\", \"wine\", \"wine\", \"wines\", \"wines\", \"wines\", \"wines\", \"wines\", \"wines\", \"wines\", \"winey\", \"wisps\", \"wood\", \"wood\", \"wood\", \"wood\", \"wood\", \"wood\", \"wood\", \"woodland\", \"woodland\", \"woodsy\", \"year\", \"year\", \"year\", \"year\", \"year\", \"year\", \"years\", \"years\", \"years\", \"years\", \"years\", \"years\", \"years\", \"years\", \"years\", \"yeasts\", \"yellow\", \"yellow\", \"yellow\", \"yellow\", \"youthfully\", \"youthfully\", \"youthfully\", \"youthfully\", \"yuzu\", \"zest\", \"zest\", \"zest\", \"zest\", \"zest\", \"zingy\"]}, \"R\": 30, \"lambda.step\": 0.01, \"plot.opts\": {\"xlab\": \"PC1\", \"ylab\": \"PC2\"}, \"topic.order\": [1, 2, 3, 4, 5, 6, 7, 8, 9, 10]};\n",
       "\n",
       "function LDAvis_load_lib(url, callback){\n",
       "  var s = document.createElement('script');\n",
       "  s.src = url;\n",
       "  s.async = true;\n",
       "  s.onreadystatechange = s.onload = callback;\n",
       "  s.onerror = function(){console.warn(\"failed to load library \" + url);};\n",
       "  document.getElementsByTagName(\"head\")[0].appendChild(s);\n",
       "}\n",
       "\n",
       "if(typeof(LDAvis) !== \"undefined\"){\n",
       "   // already loaded: just create the visualization\n",
       "   !function(LDAvis){\n",
       "       new LDAvis(\"#\" + \"ldavis_el870631402270118168002359667593\", ldavis_el870631402270118168002359667593_data);\n",
       "   }(LDAvis);\n",
       "}else if(typeof define === \"function\" && define.amd){\n",
       "   // require.js is available: use it to load d3/LDAvis\n",
       "   require.config({paths: {d3: \"https://d3js.org/d3.v5\"}});\n",
       "   require([\"d3\"], function(d3){\n",
       "      window.d3 = d3;\n",
       "      LDAvis_load_lib(\"https://cdn.jsdelivr.net/gh/bmabey/pyLDAvis@3.3.1/pyLDAvis/js/ldavis.v3.0.0.js\", function(){\n",
       "        new LDAvis(\"#\" + \"ldavis_el870631402270118168002359667593\", ldavis_el870631402270118168002359667593_data);\n",
       "      });\n",
       "    });\n",
       "}else{\n",
       "    // require.js not available: dynamically load d3 & LDAvis\n",
       "    LDAvis_load_lib(\"https://d3js.org/d3.v5.js\", function(){\n",
       "         LDAvis_load_lib(\"https://cdn.jsdelivr.net/gh/bmabey/pyLDAvis@3.3.1/pyLDAvis/js/ldavis.v3.0.0.js\", function(){\n",
       "                 new LDAvis(\"#\" + \"ldavis_el870631402270118168002359667593\", ldavis_el870631402270118168002359667593_data);\n",
       "            })\n",
       "         });\n",
       "}\n",
       "</script>"
      ],
      "text/plain": [
       "<IPython.core.display.HTML object>"
      ]
     },
     "execution_count": 32,
     "metadata": {},
     "output_type": "execute_result"
    }
   ],
   "source": [
    "pyLDAvis.display(lda_display_review)"
   ]
  },
  {
   "cell_type": "markdown",
   "id": "dcb42624",
   "metadata": {},
   "source": [
    "## Hyperparameter tuning "
   ]
  },
  {
   "cell_type": "markdown",
   "id": "d0fc1637",
   "metadata": {},
   "source": [
    "### Fitting an LSA Model"
   ]
  },
  {
   "cell_type": "code",
   "execution_count": 14,
   "id": "77760f5c",
   "metadata": {
    "scrolled": true
   },
   "outputs": [
    {
     "name": "stderr",
     "output_type": "stream",
     "text": [
      "/opt/anaconda3/lib/python3.8/site-packages/ipykernel/ipkernel.py:287: DeprecationWarning: `should_run_async` will not call `transform_cell` automatically in the future. Please pass the result to `transformed_cell` argument and any exception that happen during thetransform in `preprocessing_exc_tuple` in IPython 7.17 and above.\n",
      "  and should_run_async(code)\n",
      "/opt/anaconda3/lib/python3.8/site-packages/sklearn/feature_extraction/text.py:404: UserWarning: Your stop_words may be inconsistent with your preprocessing. Tokenizing the stop words generated tokens ['ll', 've'] not in stop_words.\n",
      "  warnings.warn(\n",
      "/opt/anaconda3/lib/python3.8/site-packages/sklearn/model_selection/_validation.py:776: UserWarning: Scoring failed. The score on this train-test partition for these parameters will be set to nan. Details: \n",
      "Traceback (most recent call last):\n",
      "  File \"/opt/anaconda3/lib/python3.8/site-packages/sklearn/model_selection/_validation.py\", line 765, in _score\n",
      "    scores = scorer(estimator, X_test)\n",
      "TypeError: __call__() missing 1 required positional argument: 'y_true'\n",
      "\n",
      "  warnings.warn(\n",
      "/opt/anaconda3/lib/python3.8/site-packages/sklearn/model_selection/_validation.py:378: FitFailedWarning: \n",
      "45 fits failed out of a total of 135.\n",
      "The score on these train-test partitions for these parameters will be set to nan.\n",
      "If these failures are not expected, you can try to debug them by setting error_score='raise'.\n",
      "\n",
      "Below are more details about the failures:\n",
      "--------------------------------------------------------------------------------\n",
      "45 fits failed with the following error:\n",
      "Traceback (most recent call last):\n",
      "  File \"/opt/anaconda3/lib/python3.8/site-packages/sklearn/model_selection/_validation.py\", line 684, in _fit_and_score\n",
      "    estimator.fit(X_train, **fit_params)\n",
      "  File \"/opt/anaconda3/lib/python3.8/site-packages/sklearn/pipeline.py\", line 382, in fit\n",
      "    self._final_estimator.fit(Xt, y, **fit_params_last_step)\n",
      "  File \"/opt/anaconda3/lib/python3.8/site-packages/sklearn/decomposition/_truncated_svd.py\", line 192, in fit\n",
      "    self.fit_transform(X)\n",
      "  File \"/opt/anaconda3/lib/python3.8/site-packages/sklearn/decomposition/_truncated_svd.py\", line 248, in fit_transform\n",
      "    raise ValueError(\"unknown algorithm %r\" % self.algorithm)\n",
      "ValueError: unknown algorithm 'full'\n",
      "\n",
      "  warnings.warn(some_fits_failed_message, FitFailedWarning)\n",
      "/opt/anaconda3/lib/python3.8/site-packages/sklearn/model_selection/_search.py:953: UserWarning: One or more of the test scores are non-finite: [nan nan nan nan nan nan nan nan nan nan nan nan nan nan nan nan nan nan\n",
      " nan nan nan nan nan nan nan nan nan]\n",
      "  warnings.warn(\n"
     ]
    },
    {
     "name": "stdout",
     "output_type": "stream",
     "text": [
      "Best parameters:  {'svd__algorithm': 'randomized', 'svd__n_components': 5, 'svd__tol': 0.0001}\n"
     ]
    }
   ],
   "source": [
    "from sklearn.pipeline import Pipeline\n",
    "from sklearn.decomposition import TruncatedSVD\n",
    "from sklearn.model_selection import GridSearchCV\n",
    "\n",
    "# Define the pipeline\n",
    "pipeline = Pipeline([\n",
    "    ('tfidf', TfidfVectorizer(stop_words=stopwords, min_df=5, max_df=0.7)),\n",
    "    ('svd', TruncatedSVD(random_state=42))\n",
    "])\n",
    "\n",
    "# Define the hyperparameter grid\n",
    "param_grid = {\n",
    "    'svd__n_components': [5, 10, 15],\n",
    "    'svd__algorithm': ['randomized', 'arpack', 'full'],\n",
    "    'svd__tol': [0.0001, 0.001, 0.01]\n",
    "}\n",
    "\n",
    "# Perform grid search\n",
    "grid_search = GridSearchCV(pipeline, param_grid=param_grid, scoring='accuracy', cv=5)\n",
    "grid_search.fit(wine_df[\"reviews\"])\n",
    "\n",
    "# Print the best hyperparameters\n",
    "print(\"Best parameters: \", grid_search.best_params_)"
   ]
  },
  {
   "cell_type": "markdown",
   "id": "62c5a0bc",
   "metadata": {},
   "source": [
    "using the gridSearchCV it gave the the best parameters to be n_componets to be 10, algorithm='randomized', tol=0.001"
   ]
  },
  {
   "cell_type": "code",
   "execution_count": 15,
   "id": "93f239e7",
   "metadata": {},
   "outputs": [
    {
     "name": "stderr",
     "output_type": "stream",
     "text": [
      "/opt/anaconda3/lib/python3.8/site-packages/ipykernel/ipkernel.py:287: DeprecationWarning: `should_run_async` will not call `transform_cell` automatically in the future. Please pass the result to `transformed_cell` argument and any exception that happen during thetransform in `preprocessing_exc_tuple` in IPython 7.17 and above.\n",
      "  and should_run_async(code)\n"
     ]
    }
   ],
   "source": [
    "hyp_svd_reviews_model = TruncatedSVD(n_components=10, random_state=42, algorithm='randomized', tol=0.001)"
   ]
  },
  {
   "cell_type": "code",
   "execution_count": 16,
   "id": "16fd6535",
   "metadata": {},
   "outputs": [
    {
     "name": "stderr",
     "output_type": "stream",
     "text": [
      "/opt/anaconda3/lib/python3.8/site-packages/ipykernel/ipkernel.py:287: DeprecationWarning: `should_run_async` will not call `transform_cell` automatically in the future. Please pass the result to `transformed_cell` argument and any exception that happen during thetransform in `preprocessing_exc_tuple` in IPython 7.17 and above.\n",
      "  and should_run_async(code)\n"
     ]
    }
   ],
   "source": [
    "#creating the matrix \n",
    "W_h_svd_reviews_matrix = hyp_svd_reviews_model.fit_transform(tfidf_reviews_vectors)\n",
    "H_h_svd_reviews_matrix = hyp_svd_reviews_model.components_"
   ]
  },
  {
   "cell_type": "code",
   "execution_count": 17,
   "id": "ddb798d4",
   "metadata": {},
   "outputs": [
    {
     "name": "stderr",
     "output_type": "stream",
     "text": [
      "/opt/anaconda3/lib/python3.8/site-packages/ipykernel/ipkernel.py:287: DeprecationWarning: `should_run_async` will not call `transform_cell` automatically in the future. Please pass the result to `transformed_cell` argument and any exception that happen during thetransform in `preprocessing_exc_tuple` in IPython 7.17 and above.\n",
      "  and should_run_async(code)\n"
     ]
    }
   ],
   "source": [
    "wine_df[\"svd_topic_reviews_H\"] = np.argmax(W_h_svd_reviews_matrix, axis = 1).astype(str)"
   ]
  },
  {
   "cell_type": "code",
   "execution_count": 18,
   "id": "47d7dc06",
   "metadata": {},
   "outputs": [
    {
     "name": "stdout",
     "output_type": "stream",
     "text": [
      "topic 0 observes original label counts of:\n",
      "Red Wine                   11040\n",
      "White Wine                  4696\n",
      "Champagne & Sparkling       1481\n",
      "Dessert, Sherry, & Port      765\n",
      "Rosé Wine                    419\n",
      "Name: category, dtype: int64\n",
      "\n",
      "topic 1 observes original label counts of:\n",
      "Red Wine                   482\n",
      "White Wine                 242\n",
      "Champagne & Sparkling      172\n",
      "Rosé Wine                   55\n",
      "Dessert, Sherry, & Port     25\n",
      "Name: category, dtype: int64\n",
      "\n",
      "topic 4 observes original label counts of:\n",
      "Red Wine                   248\n",
      "Dessert, Sherry, & Port     12\n",
      "Champagne & Sparkling        4\n",
      "White Wine                   3\n",
      "Rosé Wine                    2\n",
      "Name: category, dtype: int64\n",
      "\n",
      "topic 2 observes original label counts of:\n",
      "Red Wine                   392\n",
      "Dessert, Sherry, & Port      4\n",
      "White Wine                   1\n",
      "Name: category, dtype: int64\n",
      "\n",
      "topic 8 observes original label counts of:\n",
      "Red Wine                 23\n",
      "Champagne & Sparkling     3\n",
      "Rosé Wine                 3\n",
      "Name: category, dtype: int64\n",
      "\n",
      "topic 6 observes original label counts of:\n",
      "Red Wine                   192\n",
      "White Wine                 156\n",
      "Dessert, Sherry, & Port      5\n",
      "Name: category, dtype: int64\n",
      "\n",
      "topic 5 observes original label counts of:\n",
      "Red Wine                   149\n",
      "White Wine                  11\n",
      "Champagne & Sparkling        4\n",
      "Dessert, Sherry, & Port      1\n",
      "Name: category, dtype: int64\n",
      "\n",
      "topic 7 observes original label counts of:\n",
      "Red Wine                   44\n",
      "White Wine                 13\n",
      "Champagne & Sparkling       7\n",
      "Dessert, Sherry, & Port     5\n",
      "Name: category, dtype: int64\n",
      "\n",
      "topic 9 observes original label counts of:\n",
      "Champagne & Sparkling    290\n",
      "Red Wine                  25\n",
      "White Wine                 6\n",
      "Name: category, dtype: int64\n",
      "\n",
      "topic 3 observes original label counts of:\n",
      "Red Wine    8\n",
      "Name: category, dtype: int64\n",
      "\n"
     ]
    },
    {
     "name": "stderr",
     "output_type": "stream",
     "text": [
      "/opt/anaconda3/lib/python3.8/site-packages/ipykernel/ipkernel.py:287: DeprecationWarning: `should_run_async` will not call `transform_cell` automatically in the future. Please pass the result to `transformed_cell` argument and any exception that happen during thetransform in `preprocessing_exc_tuple` in IPython 7.17 and above.\n",
      "  and should_run_async(code)\n"
     ]
    }
   ],
   "source": [
    "#for loop that count the unique topic \n",
    "for label in wine_df['svd_topic_reviews_H'].unique():\n",
    "    print(f\"topic {label} observes original label counts of:\")\n",
    "    print(wine_df[wine_df['svd_topic_reviews_H'] == label]['category'].value_counts())\n",
    "    print()"
   ]
  },
  {
   "cell_type": "markdown",
   "id": "7ee578ac",
   "metadata": {},
   "source": [
    "topic 0 and 1 are still the best topics for differentiating the wine types after hyperrameter tuning the LSA"
   ]
  },
  {
   "cell_type": "markdown",
   "id": "6524b7aa",
   "metadata": {},
   "source": [
    "## Fitting an LDA Model"
   ]
  },
  {
   "cell_type": "code",
   "execution_count": 19,
   "id": "524c7afe",
   "metadata": {},
   "outputs": [
    {
     "name": "stderr",
     "output_type": "stream",
     "text": [
      "/opt/anaconda3/lib/python3.8/site-packages/ipykernel/ipkernel.py:287: DeprecationWarning: `should_run_async` will not call `transform_cell` automatically in the future. Please pass the result to `transformed_cell` argument and any exception that happen during thetransform in `preprocessing_exc_tuple` in IPython 7.17 and above.\n",
      "  and should_run_async(code)\n",
      "/opt/anaconda3/lib/python3.8/site-packages/sklearn/model_selection/_search.py:953: UserWarning: One or more of the test scores are non-finite: [nan nan nan nan nan nan nan nan nan nan nan nan nan nan nan nan]\n",
      "  warnings.warn(\n"
     ]
    },
    {
     "name": "stdout",
     "output_type": "stream",
     "text": [
      "Best parameters:  {'lda__learning_method': 'batch', 'lda__n_components': 5, 'vectorizer__max_df': 0.5, 'vectorizer__min_df': 1}\n"
     ]
    }
   ],
   "source": [
    "from sklearn.metrics import make_scorer\n",
    "import numpy as np\n",
    "\n",
    "# Define a custom scorer based on the log-likelihood metric for LDA\n",
    "def log_likelihood_scorer(model, X):\n",
    "    return np.sum(model.score(X))\n",
    "\n",
    "# Create the pipeline\n",
    "pipeline = Pipeline([\n",
    "    ('vectorizer', CountVectorizer()),\n",
    "    ('lda', LatentDirichletAllocation())\n",
    "])\n",
    "\n",
    "# Define the hyperparameter grid\n",
    "param_grid = {\n",
    "    'vectorizer__max_df': [0.5, 0.75],\n",
    "    'vectorizer__min_df': [1, 2],\n",
    "    'lda__n_components': [5, 10],\n",
    "    'lda__learning_method': ['batch', 'online']\n",
    "}\n",
    "\n",
    "# Perform grid search with the custom scorer\n",
    "grid_search = GridSearchCV(pipeline, param_grid=param_grid, scoring=make_scorer(log_likelihood_scorer), refit=True)\n",
    "grid_search.fit(wine_df[\"reviews\"])\n",
    "\n",
    "# Print the best hyperparameters\n",
    "print(\"Best parameters: \", grid_search.best_params_)"
   ]
  },
  {
   "cell_type": "markdown",
   "id": "fedf4b0c",
   "metadata": {},
   "source": [
    "using the gridSearchCV it gave the the best parameters to be n_componets to be 5, learning_method='batch'"
   ]
  },
  {
   "cell_type": "code",
   "execution_count": 20,
   "id": "877f3abb",
   "metadata": {},
   "outputs": [
    {
     "name": "stderr",
     "output_type": "stream",
     "text": [
      "/opt/anaconda3/lib/python3.8/site-packages/ipykernel/ipkernel.py:287: DeprecationWarning: `should_run_async` will not call `transform_cell` automatically in the future. Please pass the result to `transformed_cell` argument and any exception that happen during thetransform in `preprocessing_exc_tuple` in IPython 7.17 and above.\n",
      "  and should_run_async(code)\n"
     ]
    }
   ],
   "source": [
    "lda_reviews_model_H = LatentDirichletAllocation(learning_method='batch', n_components = 5, random_state=42,)"
   ]
  },
  {
   "cell_type": "code",
   "execution_count": 21,
   "id": "d189644c",
   "metadata": {},
   "outputs": [
    {
     "name": "stderr",
     "output_type": "stream",
     "text": [
      "/opt/anaconda3/lib/python3.8/site-packages/ipykernel/ipkernel.py:287: DeprecationWarning: `should_run_async` will not call `transform_cell` automatically in the future. Please pass the result to `transformed_cell` argument and any exception that happen during thetransform in `preprocessing_exc_tuple` in IPython 7.17 and above.\n",
      "  and should_run_async(code)\n"
     ]
    }
   ],
   "source": [
    "#creating the matrix \n",
    "W_lda_H_reviews_matrix = lda_reviews_model_H.fit_transform(count_reviews_vectors)\n",
    "H_lda_H_reviews_matrix = lda_reviews_model_H.components_"
   ]
  },
  {
   "cell_type": "code",
   "execution_count": 22,
   "id": "61daa3ff",
   "metadata": {},
   "outputs": [
    {
     "name": "stderr",
     "output_type": "stream",
     "text": [
      "/opt/anaconda3/lib/python3.8/site-packages/ipykernel/ipkernel.py:287: DeprecationWarning: `should_run_async` will not call `transform_cell` automatically in the future. Please pass the result to `transformed_cell` argument and any exception that happen during thetransform in `preprocessing_exc_tuple` in IPython 7.17 and above.\n",
      "  and should_run_async(code)\n"
     ]
    }
   ],
   "source": [
    "#saving the matrix of the new topic \n",
    "wine_df[\"lda_topic_reviews_H\"] = np.argmax(W_lda_H_reviews_matrix, axis = 1).astype(str)"
   ]
  },
  {
   "cell_type": "code",
   "execution_count": 23,
   "id": "65c0bd59",
   "metadata": {},
   "outputs": [
    {
     "name": "stdout",
     "output_type": "stream",
     "text": [
      "topic 0 observes original label counts of:\n",
      "Red Wine                   6029\n",
      "White Wine                 2535\n",
      "Champagne & Sparkling       435\n",
      "Rosé Wine                   253\n",
      "Dessert, Sherry, & Port     249\n",
      "Name: category, dtype: int64\n",
      "\n",
      "topic 2 observes original label counts of:\n",
      "Red Wine                   568\n",
      "White Wine                 268\n",
      "Champagne & Sparkling      175\n",
      "Rosé Wine                   55\n",
      "Dessert, Sherry, & Port     26\n",
      "Name: category, dtype: int64\n",
      "\n",
      "topic 1 observes original label counts of:\n",
      "Red Wine                   1951\n",
      "White Wine                 1645\n",
      "Champagne & Sparkling       615\n",
      "Dessert, Sherry, & Port     281\n",
      "Rosé Wine                   110\n",
      "Name: category, dtype: int64\n",
      "\n",
      "topic 3 observes original label counts of:\n",
      "Red Wine                   3761\n",
      "Dessert, Sherry, & Port      63\n",
      "White Wine                   10\n",
      "Rosé Wine                     9\n",
      "Champagne & Sparkling         6\n",
      "Name: category, dtype: int64\n",
      "\n",
      "topic 4 observes original label counts of:\n",
      "Champagne & Sparkling      730\n",
      "White Wine                 670\n",
      "Red Wine                   294\n",
      "Dessert, Sherry, & Port    198\n",
      "Rosé Wine                   52\n",
      "Name: category, dtype: int64\n",
      "\n"
     ]
    },
    {
     "name": "stderr",
     "output_type": "stream",
     "text": [
      "/opt/anaconda3/lib/python3.8/site-packages/ipykernel/ipkernel.py:287: DeprecationWarning: `should_run_async` will not call `transform_cell` automatically in the future. Please pass the result to `transformed_cell` argument and any exception that happen during thetransform in `preprocessing_exc_tuple` in IPython 7.17 and above.\n",
      "  and should_run_async(code)\n"
     ]
    }
   ],
   "source": [
    "#for loop that count the unique topic \n",
    "for label in wine_df['lda_topic_reviews_H'].unique():\n",
    "    print(f\"topic {label} observes original label counts of:\")\n",
    "    print(wine_df[wine_df['lda_topic_reviews_H'] == label]['category'].value_counts())\n",
    "    print()"
   ]
  },
  {
   "cell_type": "markdown",
   "id": "ed69da04",
   "metadata": {},
   "source": [
    "It looks like the tuned LDA redused th eobservation in each topic beside in topic 0, most of the topics are dominated by the red wine hyper tuning didn't make a big difference"
   ]
  },
  {
   "cell_type": "code",
   "execution_count": 24,
   "id": "02259710",
   "metadata": {},
   "outputs": [
    {
     "name": "stderr",
     "output_type": "stream",
     "text": [
      "/opt/anaconda3/lib/python3.8/site-packages/ipykernel/ipkernel.py:287: DeprecationWarning: `should_run_async` will not call `transform_cell` automatically in the future. Please pass the result to `transformed_cell` argument and any exception that happen during thetransform in `preprocessing_exc_tuple` in IPython 7.17 and above.\n",
      "  and should_run_async(code)\n"
     ]
    },
    {
     "data": {
      "text/html": [
       "\n",
       "<link rel=\"stylesheet\" type=\"text/css\" href=\"https://cdn.jsdelivr.net/gh/bmabey/pyLDAvis@3.3.1/pyLDAvis/js/ldavis.v1.0.0.css\">\n",
       "\n",
       "\n",
       "<div id=\"ldavis_el870631402269762994884481813841\"></div>\n",
       "<script type=\"text/javascript\">\n",
       "\n",
       "var ldavis_el870631402269762994884481813841_data = {\"mdsDat\": {\"x\": [0.08893857783416297, 0.06859549738848483, -0.27731770111861975, 0.09302230306437057, 0.026761322831601028], \"y\": [0.1295544974299027, -0.1265626474258102, -0.014837948065496133, -0.10975702258353473, 0.12160312064493815], \"topics\": [1, 2, 3, 4, 5], \"cluster\": [1, 1, 1, 1, 1], \"Freq\": [25.32379566981731, 25.061375926331554, 9.237289206084839, 24.806970080780676, 15.570569116985622]}, \"tinfo\": {\"Term\": [\"wine\", \"flavors\", \"tannins\", \"notes\", \"aromas\", \"tasted\", \"tasting\", \"san\", \"commentary\", \"francisco\", \"bodied\", \"medium\", \"2022\", \"cabernet\", \"black\", \"white\", \"pinot\", \"2021\", \"enjoy\", \"chocolate\", \"finish\", \"cherries\", \"chardonnay\", \"vintage\", \"spices\", \"lemon\", \"sauvignon\", \"noir\", \"drink\", \"cherry\", \"brunello\", \"riserva\", \"montalcino\", \"heat\", \"pauillac\", \"yield\", \"property\", \"altitude\", \"ha\", \"ducru\", \"gallonibarrel\", \"plateau\", \"las\", \"backward\", \"highest\", \"extraction\", \"roriz\", \"ultimately\", \"american\", \"balsam\", \"serralunga\", \"helped\", \"yeasts\", \"tinta\", \"smoldering\", \"careful\", \"conditions\", \"north\", \"measured\", \"tug\", \"terms\", \"di\", \"ages\", \"antonio\", \"classical\", \"massive\", \"hectare\", \"liquorice\", \"touriga\", \"selection\", \"term\", \"use\", \"cellar\", \"indigenous\", \"place\", \"000\", \"window\", \"vintage\", \"bottles\", \"barrels\", \"barolo\", \"matured\", \"months\", \"new\", \"produced\", \"soils\", \"french\", \"vats\", \"wine\", \"oak\", \"vines\", \"bottle\", \"time\", \"age\", \"vineyard\", \"little\", \"alcohol\", \"estate\", \"wines\", \"2016\", \"barrel\", \"sample\", \"years\", \"fruit\", \"year\", \"2018\", \"2017\", \"good\", \"structure\", \"tannins\", \"2019\", \"fruits\", \"shows\", \"cabernet\", \"black\", \"best\", \"dark\", \"rich\", \"blend\", \"great\", \"balance\", \"cherry\", \"red\", \"spice\", \"finale\", \"possess\", \"poached\", \"beam\", \"meshed\", \"certification\", \"lacy\", \"imported\", \"underpinning\", \"pastille\", \"sneaky\", \"flash\", \"juniper\", \"brimming\", \"suffused\", \"meet\", \"appealingly\", \"details\", \"demeter\", \"grated\", \"frames\", \"chopped\", \"sorbet\", \"kabinett\", \"exude\", \"underscored\", \"overtone\", \"earl\", \"overtly\", \"markedly\", \"sliced\", \"echoes\", \"shell\", \"sanguine\", \"bead\", \"lemons\", \"ginger\", \"singed\", \"2032\", \"solidly\", \"minerally\", \"midpalate\", \"accents\", \"lemon\", \"oyster\", \"salted\", \"zest\", \"middle\", \"boysenberry\", \"apple\", \"lime\", \"sleek\", \"strawberry\", \"grapefruit\", \"flavors\", \"raspberry\", \"mineral\", \"green\", \"mouthwatering\", \"acidity\", \"peach\", \"cherry\", \"finish\", \"white\", \"pear\", \"drink\", \"lingering\", \"orange\", \"fresh\", \"crisp\", \"tea\", \"floral\", \"peel\", \"nose\", \"bright\", \"aromas\", \"long\", \"palate\", \"creamy\", \"fruit\", \"notes\", \"red\", \"spice\", \"plum\", \"medium\", \"ripe\", \"bodied\", \"dried\", \"fine\", \"juicy\", \"tasting\", \"san\", \"commentary\", \"francisco\", \"pair\", \"exhibits\", \"december\", \"lamb\", \"1er\", \"fried\", \"serve\", \"chicken\", \"mingled\", \"chops\", \"stew\", \"ribeye\", \"oven\", \"pork\", \"ribs\", \"braised\", \"garlic\", \"active\", \"steamed\", \"sashimi\", \"chalkiness\", \"clams\", \"marbled\", \"sole\", \"avocado\", \"crab\", \"excels\", \"pan\", \"august\", \"tasted\", \"roast\", \"acids\", \"beef\", \"november\", \"june\", \"enjoy\", \"cru\", \"march\", \"shines\", \"2022\", \"grilled\", \"february\", \"2021\", \"pleasing\", \"notes\", \"aromas\", \"wine\", \"flavors\", \"spices\", \"2020\", \"offers\", \"2019\", \"dried\", \"fruit\", \"palate\", \"red\", \"lively\", \"fruits\", \"savory\", \"black\", \"ripe\", \"earth\", \"bright\", \"mulberries\", \"stewed\", \"skinned\", \"plums\", \"blackcurrants\", \"cedary\", \"morello\", \"garnet\", \"cent\", \"bark\", \"truffles\", \"chest\", \"garni\", \"stick\", \"blueberries\", \"chewy\", \"walla\", \"marasca\", \"onwards\", \"bags\", \"cloves\", \"oakville\", \"needles\", \"chocolatey\", \"77\", \"chock\", \"chinese\", \"61\", \"cone\", \"tile\", \"cherries\", \"blackberries\", \"redcurrants\", \"box\", \"grainy\", \"leafy\", \"chocolate\", \"grained\", \"olives\", \"cedar\", \"currants\", \"verdot\", \"violets\", \"petit\", \"tannins\", \"purple\", \"merlot\", \"finishing\", \"cabernet\", \"bodied\", \"medium\", \"raspberries\", \"franc\", \"black\", \"sauvignon\", \"polished\", \"dark\", \"firm\", \"deep\", \"body\", \"red\", \"tobacco\", \"ripe\", \"palate\", \"finish\", \"fine\", \"drink\", \"juicy\", \"nose\", \"fruit\", \"aromas\", \"dried\", \"hints\", \"long\", \"notes\", \"fresh\", \"nv\", \"dosage\", \"ch\\u00e2teauneuf\", \"lees\", \"roussanne\", \"tawny\", \"2008\", \"clairette\", \"stated\", \"solera\", \"demi\", \"bourboulenc\", \"oloroso\", \"mourvedre\", \"muids\", \"residual\", \"manzanilla\", \"whites\", \"vinous\", \"auslese\", \"marsanne\", \"cinsault\", \"oger\", \"proven\\u00e7al\", \"burgundian\", \"gr\\u00fcner\", \"bandol\", \"amontillado\", \"tensioned\", \"mataro\", \"meunier\", \"grams\", \"sugar\", \"pape\", \"grenache\", \"du\", \"noir\", \"veltliner\", \"pinot\", \"blanc\", \"chardonnay\", \"disgorged\", \"chateauneuf\", \"mourv\\u00e8dre\", \"brut\", \"cuv\\u00e9e\", \"champagne\", \"riesling\", \"cork\", \"release\", \"white\", \"blend\", \"citrus\", \"reserve\", \"old\", \"years\", \"palate\", \"elegant\", \"dry\", \"wine\", \"flowers\", \"bodied\", \"style\", \"great\", \"acidity\", \"fruit\", \"medium\", \"finish\", \"de\", \"fresh\", \"2020\", \"vintage\", \"notes\", \"ripe\", \"nose\", \"balanced\", \"long\"], \"Freq\": [6278.0, 4266.0, 5065.0, 4272.0, 4181.0, 1320.0, 1053.0, 1004.0, 950.0, 934.0, 4450.0, 3938.0, 1186.0, 2551.0, 3558.0, 1686.0, 1051.0, 1027.0, 628.0, 1122.0, 5705.0, 969.0, 850.0, 1402.0, 882.0, 1206.0, 1690.0, 702.0, 2937.0, 2450.0, 187.98841982985422, 144.27593709472293, 139.31156363571145, 74.71818847844382, 59.709886739892674, 51.865130375468986, 48.88219623571313, 47.88886899351217, 46.899242313587415, 46.888424697645355, 45.89740434081832, 38.94082540477724, 36.95547727443229, 31.98614279039837, 30.998554290084915, 29.01223008237257, 27.025215786924, 27.020080673452156, 70.42707975323773, 26.028647894379276, 25.039603448558136, 25.028622153726406, 92.40406668117869, 57.74740351524108, 25.010383762301725, 24.045246209238634, 24.039421701245697, 54.806128956897105, 26.91588994816771, 24.02632925053038, 69.2091422158848, 231.08256326129217, 60.4238250717451, 55.60120057828055, 64.84857826400491, 44.02154921882916, 50.409676975553644, 87.15810274801296, 106.97608733136173, 195.70226919917985, 131.22895670315467, 66.72732186529232, 363.53896712364485, 66.71170792469448, 102.60566769978463, 180.22683724101918, 119.09442488539588, 1030.4054725615356, 243.62774274314054, 343.1419518588252, 154.23652713956307, 230.9260947788897, 506.2036406485187, 740.5129537748868, 259.83378080509556, 231.78202948199774, 387.813844235374, 88.25313838759087, 3152.175221448135, 1217.0519688713453, 332.2683296206115, 471.0878838252624, 543.4851085224617, 450.88895050570034, 441.83206457833654, 353.13818723965016, 340.6795671002453, 396.1900159231014, 382.0017101896072, 349.16631895661254, 712.8258993180925, 656.434926971417, 696.5100853497929, 1742.308512350019, 461.68500794717926, 589.4765283770768, 406.74769276338986, 529.0777926960457, 419.9016988251194, 1049.7233792030195, 551.725733359156, 548.2404411037365, 461.4882328274218, 622.5831118454905, 694.6401895867897, 497.3426123514903, 516.6965164626911, 484.06972388253195, 468.28591721186666, 426.31378787953565, 418.4967257585948, 465.49372894597406, 427.0318835550412, 423.29307923948824, 157.04258132138148, 113.91030539097252, 74.69398707571523, 55.07497048835359, 50.1896365287469, 49.197877047333236, 54.96112832851821, 47.24706105530336, 44.307682001787384, 37.44478466233769, 36.46479556304951, 35.48460380498655, 44.03664310515712, 32.53885373500164, 31.56403779034763, 31.562109411179563, 30.58402318113117, 112.72384198026154, 30.56771379505122, 29.598645543640817, 28.622402510323848, 28.619324919614645, 26.662106210679923, 28.545074284200602, 25.68228056817653, 28.499847383367783, 24.699714566994878, 24.69444607127549, 24.692661519688954, 23.72011130046576, 167.12451409326914, 38.85974308001912, 104.52605668541581, 51.63287508517125, 48.8439197936653, 147.02547816833788, 231.32437966464875, 103.33309859454567, 59.29726512233802, 44.05596890641982, 149.99194994397408, 70.6253502323181, 388.0288671796209, 962.990004069102, 111.76040413152242, 124.78530923434842, 276.81209425569426, 92.96834577846172, 127.35796227499604, 729.8469652516297, 300.69214916598366, 263.68363391320133, 376.42623934979076, 274.5603962790974, 2558.645196532904, 580.9034892090003, 805.6116768780611, 475.76187545550056, 211.59459268987595, 1442.4815858772781, 476.3796712124813, 1412.9252032696309, 2860.386244075942, 970.9939615130912, 413.4956786287253, 1483.1431874706457, 279.6707904534402, 590.5283902245326, 1370.973702813947, 430.4606002552547, 316.2740509010793, 577.1029669102309, 348.3544575002935, 1098.4343363617947, 772.7352741333992, 1435.3602194299108, 930.9601678806517, 1502.1506890200117, 521.8443919688125, 1663.480830126808, 1355.3293522113718, 1159.8978089212303, 736.307411682208, 607.2250670279841, 832.1614296240974, 721.8808922822897, 735.6263247486424, 569.0486568569909, 584.9105456493221, 510.4875502789952, 1052.6246408643078, 1003.7073618329249, 949.7890767087265, 933.8126299694271, 326.71088197210065, 290.4629900509116, 153.96876022526286, 130.00534199024477, 141.67240309814636, 83.07473600380446, 152.2542168155993, 101.74025021903795, 68.08936602172341, 61.10887765677755, 57.1146501241046, 48.12832573838036, 48.128132945227186, 45.12689759946348, 44.132898929098026, 44.12981765471402, 41.137901895651, 41.13074720583845, 40.1397043734873, 38.138766225832505, 38.13659332621304, 37.14065101784579, 33.15055123505205, 31.14840326066705, 30.155138983835776, 30.152595386677557, 113.44212990440407, 84.09775253832217, 134.92783707508295, 1150.384828725905, 95.39292482213881, 262.676056611603, 79.48334921722798, 125.26801550634548, 119.69739526987671, 510.4692551949874, 295.2173178504756, 82.99203782459591, 182.6495338699974, 727.2113737170004, 346.88481956458094, 100.20134816538734, 536.8488488977935, 124.04245178427311, 1366.3495866234462, 1223.0131427248082, 1552.137346924304, 1046.2008613181638, 344.1275754072877, 358.6736285782593, 352.5758975363678, 319.5246010320597, 333.17978013273927, 504.8632511491019, 418.88577228978824, 359.75757666664066, 226.70548799748622, 269.80547944931453, 249.4174125225419, 316.20809965045476, 284.4382060541646, 236.63304857770615, 247.04909115801203, 90.6988065921223, 57.24855297421127, 46.39448910627508, 597.0837834398604, 237.50401709141508, 62.74389421827737, 40.52732728239728, 242.19785383715464, 37.57772338941527, 171.2469186154728, 34.623069306583794, 31.675308586837566, 29.699395807980924, 28.71916058899692, 273.3723166683785, 450.73221558484283, 25.767048245207295, 23.80062781766643, 22.82067267787243, 21.83722043153642, 129.09732785315427, 21.819579892900475, 19.85626012165472, 17.866866482329165, 15.912872921432474, 14.950995916564075, 14.949955558057516, 14.939077722709946, 13.967463490531278, 13.96733660794116, 914.0064667982691, 485.6053666097269, 69.66633493744479, 135.7250103167996, 150.48763690158287, 82.98631486056735, 986.0499896766484, 369.5837749200485, 116.07188911023808, 452.303006518618, 241.4368669261151, 436.26809671769826, 403.0653494645689, 464.57004666924576, 3575.9560761608714, 514.2883223048968, 818.4749983463411, 282.0356268721867, 1805.915815598341, 2918.578602963413, 2513.781246295416, 268.8460370966901, 610.3613399030813, 2221.6989682411713, 1126.839307258775, 502.309430719674, 1149.8676257136447, 824.2687860722039, 626.8867202365744, 574.3476804902621, 1488.306111139438, 576.3370272575269, 1244.026116028265, 1658.9480650168207, 1792.8470826374664, 934.5967449926619, 1050.5995279426445, 712.5868386816715, 910.8176468255525, 1373.0701421985796, 1146.8065528003137, 724.3028221742912, 630.8373047357225, 746.0012458014749, 788.7054832195178, 706.808379031877, 297.73358988083845, 150.95914559506858, 141.0392450065171, 141.96566499627974, 91.445381178918, 85.49318399420518, 66.62362271729069, 61.6905629037017, 46.81392397913032, 43.83723357197597, 61.24373292000418, 36.894689592281374, 33.91769438823979, 33.913016788350696, 48.44030585795397, 88.70710844235056, 26.969309908749576, 37.544369949243396, 87.53622469739503, 24.992938085923022, 24.98908137334586, 96.7540818100167, 22.01836357736514, 22.015327786852456, 22.010006168232604, 21.02174554369626, 21.00361319281628, 20.031973860630565, 20.028361837498192, 20.007719631620407, 188.93002364015618, 152.2498419780576, 155.62686443731536, 208.15499675046337, 437.5725576046666, 286.29596037047935, 602.5693543255416, 38.54168808606378, 855.7073078669213, 450.7701115827371, 661.7996483309611, 128.51602663372918, 79.68967535736219, 152.33650661989492, 294.5058346405533, 203.75814497584886, 287.902918672695, 183.32365638970046, 71.95127001609977, 160.7418323313914, 671.4541508675103, 518.1758623359137, 347.93464183444246, 145.73123702391567, 240.18272577345851, 414.28947525337605, 739.5586012036994, 372.97851156518044, 301.0702158472518, 814.6416382580869, 312.04145812232485, 624.0267641527763, 312.1648055867288, 306.9029461282853, 435.6085810810029, 605.351065668223, 512.8822740564, 581.9076259322817, 285.33017290121694, 415.20765884627895, 302.1039104806891, 319.26734481677704, 417.6582917076029, 352.30819609252546, 337.0553535103021, 292.4811264899053, 293.02329026118105], \"Total\": [6278.0, 4266.0, 5065.0, 4272.0, 4181.0, 1320.0, 1053.0, 1004.0, 950.0, 934.0, 4450.0, 3938.0, 1186.0, 2551.0, 3558.0, 1686.0, 1051.0, 1027.0, 628.0, 1122.0, 5705.0, 969.0, 850.0, 1402.0, 882.0, 1206.0, 1690.0, 702.0, 2937.0, 2450.0, 188.7941228795112, 145.07252567702372, 140.104163694374, 75.51523232030925, 60.60905158029803, 52.66071783946098, 49.679693100148434, 48.68600649338853, 47.69235149909649, 47.69224320969824, 46.69872162732084, 39.74289853084153, 37.75557669431387, 32.787142771028606, 31.793543580680517, 29.806185711468473, 27.818834377644627, 27.81880736020811, 72.54025846052426, 26.825144091864747, 25.831500677373015, 25.831514182167542, 95.38477102263535, 59.62086052570086, 25.831159757862746, 24.83782174141853, 24.8378006106886, 56.635088170302545, 27.818618107794133, 24.83758025992285, 71.54802322671325, 242.50425261421205, 62.60204532832386, 57.6351271592303, 67.56233039951888, 45.703350546696605, 52.65688820916186, 92.39938075970733, 114.25670892225132, 213.6447388685997, 141.97543185987402, 70.53232799768519, 415.0030330670321, 70.54129480117747, 111.28901959707068, 203.65787916438637, 131.13508959432897, 1402.1604836129566, 293.008486710232, 430.84774284879285, 177.80739919513042, 279.13185107275785, 675.9987483239769, 1082.7733990523095, 330.80017510761604, 295.00317738996364, 537.3856814541966, 97.36089739224744, 6278.996566476357, 2092.8105234776344, 457.9402356654672, 695.605775031576, 868.8948768802984, 700.0765568601398, 690.7847292652732, 524.0525489313567, 511.0128591029617, 632.1857706313378, 621.944530216124, 552.7291645429843, 1455.4840826471668, 1326.8354129111945, 1512.4700515103223, 5889.073801492732, 836.0589648391356, 1239.102951907751, 713.656261649962, 1196.8551749811506, 855.2688071536692, 5065.35849019117, 1470.368150672405, 1543.2592866191517, 1115.9536305061881, 2551.9846742923883, 3558.8181375360186, 1589.340422074841, 1859.8209235866873, 1596.0231737893503, 1482.8571199587425, 1007.1870001389988, 956.1331731232333, 2450.2689587877526, 3594.529197195224, 1819.8091021983983, 157.83927548222206, 114.70561501719153, 75.49325671814462, 55.88722327581478, 50.98545147319207, 50.00526224888447, 55.88876753732143, 48.044554954317555, 45.10358970885899, 38.24142904163541, 37.26112918153963, 36.28080644747454, 45.107268274755356, 33.33994168456288, 32.35956675238441, 32.359582167072425, 31.3792423856711, 115.71544888749781, 31.379404194314276, 30.398987916884266, 29.418643801407292, 29.418689840681903, 27.458022105126776, 29.41979528042232, 26.477696971083972, 29.419477296099142, 25.49740690845292, 25.497435960779775, 25.4975077366319, 24.51710229351276, 174.61374309078525, 40.20849292258885, 109.85030095904979, 53.931647358323055, 51.00130225000728, 157.95729760525404, 254.23689156369392, 110.87509519008228, 62.78535348503708, 46.08820981097462, 166.7203202092387, 75.5074381771132, 455.23201083086946, 1206.7887039848554, 123.67930389967411, 141.36395061072457, 335.95013292108445, 103.06273473683927, 145.22254257076355, 982.7727055684014, 374.35593093740147, 328.83146942084045, 493.1842790028246, 346.93018997424286, 4266.073981145571, 828.3964790601096, 1231.4737273611217, 674.9653016531148, 266.31843421400663, 2479.7722837798756, 686.871793394917, 2450.2689587877526, 5705.760556037458, 1686.847616181064, 606.1138373665534, 2937.7616225602023, 380.9126418694851, 958.8419844572865, 2814.3134823959954, 662.7491210773478, 452.59061349541633, 1009.261368972931, 515.0271473305035, 2477.276215145548, 1569.538402336045, 4181.52165180243, 2273.891575782378, 4734.063899757433, 960.6260162342313, 5889.073801492732, 4272.087429140049, 3594.529197195224, 1819.8091021983983, 1365.1147296261106, 3938.0957744770235, 2996.1098252432257, 4450.955367931966, 1793.8867687827337, 2132.477449229379, 1458.2951410506425, 1053.426274333576, 1004.4990206501872, 950.5791226131963, 934.6028518847222, 327.50458969643336, 291.55594608363964, 154.7611925388382, 130.796790023455, 142.77327444900553, 83.8665004907785, 153.75788934494187, 102.8362710502334, 68.88867938919945, 61.89914310445101, 57.905074776723545, 48.91842520301376, 48.918423271213015, 45.92281575974175, 44.92434667414399, 44.924317035207075, 41.928798808476046, 41.92874287790091, 40.93028570406624, 38.933220873964906, 38.93319930414145, 37.93469874820199, 33.94067263519555, 31.943609537879247, 30.945122761465385, 30.945101050119014, 118.79237565194539, 87.81657060235004, 142.73191863692762, 1320.171500394237, 101.8020734627311, 299.3071878662916, 84.8388081044199, 137.70820735828104, 131.71992258518273, 628.8835713561417, 376.88971751734346, 90.8089480724658, 231.2987197531871, 1186.3923818895953, 498.2355460736569, 117.70389497271431, 1027.894698592821, 157.15670200913345, 4272.087429140049, 4181.52165180243, 6278.996566476357, 4266.073981145571, 882.5681860073466, 1137.8753070277673, 1281.4797318981905, 1470.368150672405, 1793.8867687827337, 5889.073801492732, 4734.063899757433, 3594.529197195224, 795.0024534206653, 1543.2592866191517, 1165.326745381228, 3558.8181375360186, 2996.1098252432257, 1061.590835886313, 1569.538402336045, 91.49298342600758, 58.046108929008945, 47.225403623475785, 608.0847132982987, 242.05507919046852, 63.952585874828614, 41.322647570998505, 246.96237481819628, 38.371444328462516, 175.15631669813706, 35.42027608533487, 32.46905463322474, 30.501682802238506, 29.517878425545597, 281.4547139079561, 464.2910223094239, 26.56671853371284, 24.59917355047375, 23.615462738036264, 22.631727480173634, 133.83288941031725, 22.6319501718814, 20.66436827840705, 18.69715255956891, 16.729540151630804, 15.745604047782333, 15.745623749543839, 15.745725346221716, 14.761868557089427, 14.76187847512914, 969.7358359776525, 517.9156213457418, 73.8132679060217, 146.68367461510695, 163.42692565138893, 89.51170758988194, 1122.7016289312023, 423.1396105858915, 128.0057780980789, 530.996427093012, 276.8114864237663, 523.2298865115553, 485.8455229648743, 565.6717938268723, 5065.35849019117, 638.7010319285159, 1058.0265706593934, 336.6321813553515, 2551.9846742923883, 4450.955367931966, 3938.0957744770235, 330.1811237475482, 821.5602096777787, 3558.8181375360186, 1690.396025620704, 681.3532100763415, 1859.8209235866873, 1258.7539498713625, 916.1648552596764, 828.5031231787622, 3594.529197195224, 958.8324193464454, 2996.1098252432257, 4734.063899757433, 5705.760556037458, 2132.477449229379, 2937.7616225602023, 1458.2951410506425, 2477.276215145548, 5889.073801492732, 4181.52165180243, 1793.8867687827337, 1295.9755653037967, 2273.891575782378, 4272.087429140049, 2814.3134823959954, 298.54734558873776, 151.75212321060116, 141.8335268320653, 142.82466994342442, 92.24058258641585, 86.28945160366632, 67.44430999981041, 62.48482266267813, 47.60696662391514, 44.63140677141151, 62.48566872019465, 37.688361396760534, 34.71278242851743, 34.712787558139475, 49.59133687502722, 91.25193669006049, 27.769751836423882, 38.68091540244441, 90.25641869421591, 25.786064157812838, 25.78602153626626, 100.14498355984307, 22.810512128632734, 22.81047842074585, 22.810498401002327, 21.818669930642923, 21.818773220324648, 20.826783611368988, 20.826742604426034, 20.826582641289082, 198.26879742235207, 160.69285038435777, 165.65592281027222, 226.1675674507543, 492.3759398090525, 321.41390733302245, 702.2696249078537, 40.67285177485037, 1051.5180135636174, 541.02620899768, 850.3863709654772, 146.6227263642989, 88.18259787358656, 183.20211792915268, 393.4281101397654, 271.0199644815666, 448.3767876982281, 261.1131732978112, 82.33960070724663, 237.16295490731716, 1686.847616181064, 1482.8571199587425, 872.1683706343192, 236.01522210801662, 556.2344376580206, 1512.4700515103223, 4734.063899757433, 1331.243659056458, 893.809081961781, 6278.996566476357, 960.6881928766431, 4450.955367931966, 995.8564471684383, 1007.1870001389988, 2479.7722837798756, 5889.073801492732, 3938.0957744770235, 5705.760556037458, 895.2697643301483, 2814.3134823959954, 1137.8753070277673, 1402.1604836129566, 4272.087429140049, 2996.1098252432257, 2477.276215145548, 1357.4298774702618, 2273.891575782378], \"Category\": [\"Default\", \"Default\", \"Default\", \"Default\", \"Default\", \"Default\", \"Default\", \"Default\", \"Default\", \"Default\", \"Default\", \"Default\", \"Default\", \"Default\", \"Default\", \"Default\", \"Default\", \"Default\", \"Default\", \"Default\", \"Default\", \"Default\", \"Default\", \"Default\", \"Default\", \"Default\", \"Default\", \"Default\", \"Default\", \"Default\", \"Topic1\", \"Topic1\", \"Topic1\", \"Topic1\", \"Topic1\", \"Topic1\", \"Topic1\", \"Topic1\", \"Topic1\", \"Topic1\", \"Topic1\", \"Topic1\", \"Topic1\", \"Topic1\", \"Topic1\", \"Topic1\", \"Topic1\", \"Topic1\", \"Topic1\", \"Topic1\", \"Topic1\", \"Topic1\", \"Topic1\", \"Topic1\", \"Topic1\", \"Topic1\", \"Topic1\", \"Topic1\", \"Topic1\", \"Topic1\", \"Topic1\", \"Topic1\", \"Topic1\", \"Topic1\", \"Topic1\", \"Topic1\", \"Topic1\", \"Topic1\", \"Topic1\", \"Topic1\", \"Topic1\", \"Topic1\", \"Topic1\", \"Topic1\", \"Topic1\", \"Topic1\", \"Topic1\", \"Topic1\", \"Topic1\", \"Topic1\", \"Topic1\", \"Topic1\", \"Topic1\", \"Topic1\", \"Topic1\", \"Topic1\", \"Topic1\", \"Topic1\", \"Topic1\", \"Topic1\", \"Topic1\", \"Topic1\", \"Topic1\", \"Topic1\", \"Topic1\", \"Topic1\", \"Topic1\", \"Topic1\", \"Topic1\", \"Topic1\", \"Topic1\", \"Topic1\", \"Topic1\", \"Topic1\", \"Topic1\", \"Topic1\", \"Topic1\", \"Topic1\", \"Topic1\", \"Topic1\", \"Topic1\", \"Topic1\", \"Topic1\", \"Topic1\", \"Topic1\", \"Topic1\", \"Topic1\", \"Topic1\", \"Topic1\", \"Topic1\", \"Topic1\", \"Topic1\", \"Topic1\", \"Topic1\", \"Topic2\", \"Topic2\", \"Topic2\", \"Topic2\", \"Topic2\", \"Topic2\", \"Topic2\", \"Topic2\", \"Topic2\", \"Topic2\", \"Topic2\", \"Topic2\", \"Topic2\", \"Topic2\", \"Topic2\", \"Topic2\", \"Topic2\", \"Topic2\", \"Topic2\", \"Topic2\", \"Topic2\", \"Topic2\", \"Topic2\", \"Topic2\", \"Topic2\", \"Topic2\", \"Topic2\", \"Topic2\", \"Topic2\", \"Topic2\", \"Topic2\", \"Topic2\", \"Topic2\", \"Topic2\", \"Topic2\", \"Topic2\", \"Topic2\", \"Topic2\", \"Topic2\", \"Topic2\", \"Topic2\", \"Topic2\", \"Topic2\", \"Topic2\", \"Topic2\", \"Topic2\", \"Topic2\", \"Topic2\", \"Topic2\", \"Topic2\", \"Topic2\", \"Topic2\", \"Topic2\", \"Topic2\", \"Topic2\", \"Topic2\", \"Topic2\", \"Topic2\", \"Topic2\", \"Topic2\", \"Topic2\", \"Topic2\", \"Topic2\", \"Topic2\", \"Topic2\", \"Topic2\", \"Topic2\", \"Topic2\", \"Topic2\", \"Topic2\", \"Topic2\", \"Topic2\", \"Topic2\", \"Topic2\", \"Topic2\", \"Topic2\", \"Topic2\", \"Topic2\", \"Topic2\", \"Topic2\", \"Topic2\", \"Topic2\", \"Topic2\", \"Topic2\", \"Topic2\", \"Topic2\", \"Topic2\", \"Topic2\", \"Topic2\", \"Topic2\", \"Topic3\", \"Topic3\", \"Topic3\", \"Topic3\", \"Topic3\", \"Topic3\", \"Topic3\", \"Topic3\", \"Topic3\", \"Topic3\", \"Topic3\", \"Topic3\", \"Topic3\", \"Topic3\", \"Topic3\", \"Topic3\", \"Topic3\", \"Topic3\", \"Topic3\", \"Topic3\", \"Topic3\", \"Topic3\", \"Topic3\", \"Topic3\", \"Topic3\", \"Topic3\", \"Topic3\", \"Topic3\", \"Topic3\", \"Topic3\", \"Topic3\", \"Topic3\", \"Topic3\", \"Topic3\", \"Topic3\", \"Topic3\", \"Topic3\", \"Topic3\", \"Topic3\", \"Topic3\", \"Topic3\", \"Topic3\", \"Topic3\", \"Topic3\", \"Topic3\", \"Topic3\", \"Topic3\", \"Topic3\", \"Topic3\", \"Topic3\", \"Topic3\", \"Topic3\", \"Topic3\", \"Topic3\", \"Topic3\", \"Topic3\", \"Topic3\", \"Topic3\", \"Topic3\", \"Topic3\", \"Topic3\", \"Topic3\", \"Topic3\", \"Topic3\", \"Topic3\", \"Topic3\", \"Topic3\", \"Topic4\", \"Topic4\", \"Topic4\", \"Topic4\", \"Topic4\", \"Topic4\", \"Topic4\", \"Topic4\", \"Topic4\", \"Topic4\", \"Topic4\", \"Topic4\", \"Topic4\", \"Topic4\", \"Topic4\", \"Topic4\", \"Topic4\", \"Topic4\", \"Topic4\", \"Topic4\", \"Topic4\", \"Topic4\", \"Topic4\", \"Topic4\", \"Topic4\", \"Topic4\", \"Topic4\", \"Topic4\", \"Topic4\", \"Topic4\", \"Topic4\", \"Topic4\", \"Topic4\", \"Topic4\", \"Topic4\", \"Topic4\", \"Topic4\", \"Topic4\", \"Topic4\", \"Topic4\", \"Topic4\", \"Topic4\", \"Topic4\", \"Topic4\", \"Topic4\", \"Topic4\", \"Topic4\", \"Topic4\", \"Topic4\", \"Topic4\", \"Topic4\", \"Topic4\", \"Topic4\", \"Topic4\", \"Topic4\", \"Topic4\", \"Topic4\", \"Topic4\", \"Topic4\", \"Topic4\", \"Topic4\", \"Topic4\", \"Topic4\", \"Topic4\", \"Topic4\", \"Topic4\", \"Topic4\", \"Topic4\", \"Topic4\", \"Topic4\", \"Topic4\", \"Topic4\", \"Topic4\", \"Topic4\", \"Topic4\", \"Topic4\", \"Topic5\", \"Topic5\", \"Topic5\", \"Topic5\", \"Topic5\", \"Topic5\", \"Topic5\", \"Topic5\", \"Topic5\", \"Topic5\", \"Topic5\", \"Topic5\", \"Topic5\", \"Topic5\", \"Topic5\", \"Topic5\", \"Topic5\", \"Topic5\", \"Topic5\", \"Topic5\", \"Topic5\", \"Topic5\", \"Topic5\", \"Topic5\", \"Topic5\", \"Topic5\", \"Topic5\", \"Topic5\", \"Topic5\", \"Topic5\", \"Topic5\", \"Topic5\", \"Topic5\", \"Topic5\", \"Topic5\", \"Topic5\", \"Topic5\", \"Topic5\", \"Topic5\", \"Topic5\", \"Topic5\", \"Topic5\", \"Topic5\", \"Topic5\", \"Topic5\", \"Topic5\", \"Topic5\", \"Topic5\", \"Topic5\", \"Topic5\", \"Topic5\", \"Topic5\", \"Topic5\", \"Topic5\", \"Topic5\", \"Topic5\", \"Topic5\", \"Topic5\", \"Topic5\", \"Topic5\", \"Topic5\", \"Topic5\", \"Topic5\", \"Topic5\", \"Topic5\", \"Topic5\", \"Topic5\", \"Topic5\", \"Topic5\", \"Topic5\", \"Topic5\", \"Topic5\", \"Topic5\", \"Topic5\", \"Topic5\", \"Topic5\", \"Topic5\"], \"logprob\": [30.0, 29.0, 28.0, 27.0, 26.0, 25.0, 24.0, 23.0, 22.0, 21.0, 20.0, 19.0, 18.0, 17.0, 16.0, 15.0, 14.0, 13.0, 12.0, 11.0, 10.0, 9.0, 8.0, 7.0, 6.0, 5.0, 4.0, 3.0, 2.0, 1.0, -6.4256, -6.6902, -6.7253, -7.3483, -7.5725, -7.7133, -7.7726, -7.7931, -7.814, -7.8142, -7.8356, -7.9999, -8.0523, -8.1967, -8.228, -8.2943, -8.3652, -8.3654, -7.4074, -8.4028, -8.4415, -8.442, -7.1358, -7.6059, -8.4427, -8.482, -8.4823, -7.6582, -8.3693, -8.4828, -7.4248, -6.2192, -7.5606, -7.6438, -7.4899, -7.8773, -7.7418, -7.1942, -6.9894, -6.3854, -6.785, -7.4614, -5.7661, -7.4616, -7.0311, -6.4678, -6.8821, -4.7243, -6.1663, -5.8238, -6.6235, -6.2199, -5.435, -5.0546, -6.1019, -6.2162, -5.7014, -7.1818, -3.6061, -4.5578, -5.856, -5.5069, -5.364, -5.5508, -5.571, -5.7951, -5.831, -5.6801, -5.7165, -5.8064, -5.0927, -5.1752, -5.1159, -4.199, -5.5271, -5.2827, -5.6538, -5.3908, -5.622, -4.7057, -5.3489, -5.3553, -5.5275, -5.2281, -5.1186, -5.4527, -5.4145, -5.4797, -5.5129, -5.6068, -5.6253, -5.5189, -5.6051, -5.6139, -6.595, -6.9161, -7.3382, -7.6429, -7.7357, -7.7557, -7.6449, -7.7962, -7.8604, -8.0287, -8.0552, -8.0825, -7.8665, -8.1691, -8.1995, -8.1996, -8.2311, -6.9266, -8.2316, -8.2638, -8.2974, -8.2975, -8.3683, -8.3001, -8.4058, -8.3017, -8.4448, -8.445, -8.4451, -8.4852, -6.5328, -7.9916, -7.0021, -7.7074, -7.7629, -6.661, -6.2077, -7.0136, -7.569, -7.8661, -6.641, -7.3942, -5.6905, -4.7815, -6.9352, -6.825, -6.0282, -7.1193, -6.8046, -5.0587, -5.9455, -6.0768, -5.7208, -6.0364, -3.8043, -5.287, -4.96, -5.4866, -6.2969, -4.3774, -5.4853, -4.3981, -3.6928, -4.7732, -5.6269, -4.3496, -6.0179, -5.2705, -4.4283, -5.5867, -5.8949, -5.2935, -5.7983, -4.6499, -5.0016, -4.3824, -4.8153, -4.3369, -5.3942, -4.2349, -4.4398, -4.5955, -5.0499, -5.2427, -4.9275, -5.0697, -5.0508, -5.3076, -5.2801, -5.4162, -3.6944, -3.742, -3.7972, -3.8142, -4.8644, -4.982, -5.6167, -5.7859, -5.7, -6.2337, -5.6279, -6.0311, -6.4327, -6.5408, -6.6084, -6.7796, -6.7796, -6.844, -6.8663, -6.8663, -6.9365, -6.9367, -6.9611, -7.0122, -7.0123, -7.0388, -7.1524, -7.2147, -7.2471, -7.2472, -5.9222, -6.2215, -5.7487, -3.6056, -6.0955, -5.0826, -6.2779, -5.823, -5.8685, -4.4181, -4.9658, -6.2347, -5.4459, -4.0643, -4.8045, -6.0463, -4.3678, -5.8329, -3.4336, -3.5444, -3.3061, -3.7006, -4.8125, -4.7711, -4.7882, -4.8866, -4.8448, -4.4292, -4.6159, -4.768, -5.2298, -5.0558, -5.1343, -4.8971, -5.003, -5.187, -5.1439, -7.1338, -7.594, -7.8042, -5.2493, -6.1712, -7.5023, -7.9394, -6.1516, -8.0149, -6.4982, -8.0968, -8.1858, -8.2502, -8.2838, -6.0305, -5.5305, -8.3923, -8.4716, -8.5137, -8.5577, -6.7808, -8.5585, -8.6528, -8.7584, -8.8742, -8.9366, -8.9366, -8.9374, -9.0046, -9.0046, -4.8235, -5.456, -7.3976, -6.7307, -6.6275, -7.2227, -4.7476, -5.729, -6.8871, -5.527, -6.1547, -5.5631, -5.6423, -5.5002, -3.4594, -5.3986, -4.9339, -5.9993, -4.1425, -3.6625, -3.8118, -6.0472, -5.2273, -3.9353, -4.6142, -5.4221, -4.594, -4.9269, -5.2006, -5.2881, -4.336, -5.2847, -4.5152, -4.2274, -4.1498, -4.8012, -4.6842, -5.0725, -4.827, -4.4165, -4.5966, -5.0561, -5.1943, -5.0266, -4.971, -5.0806, -5.4794, -6.1586, -6.2266, -6.22, -6.6599, -6.7272, -6.9766, -7.0535, -7.3294, -7.3951, -7.0608, -7.5675, -7.6517, -7.6518, -7.2953, -6.6903, -7.8809, -7.5501, -6.7036, -7.957, -7.9572, -6.6034, -8.0837, -8.0839, -8.0841, -8.1301, -8.1309, -8.1783, -8.1785, -8.1795, -5.9342, -6.1501, -6.1282, -5.8373, -5.0944, -5.5186, -4.7744, -7.5239, -4.4237, -5.0647, -4.6806, -6.3196, -6.7975, -6.1495, -5.4903, -5.8587, -5.513, -5.9644, -6.8996, -6.0958, -4.6662, -4.9253, -5.3236, -6.1938, -5.6942, -5.149, -4.5696, -5.2541, -5.4683, -4.4729, -5.4325, -4.7394, -5.4321, -5.4491, -5.0989, -4.7698, -4.9356, -4.8093, -5.522, -5.1468, -5.4648, -5.4096, -5.1409, -5.3111, -5.3554, -5.4972, -5.4954], \"loglift\": [30.0, 29.0, 28.0, 27.0, 26.0, 25.0, 24.0, 23.0, 22.0, 21.0, 20.0, 19.0, 18.0, 17.0, 16.0, 15.0, 14.0, 13.0, 12.0, 11.0, 10.0, 9.0, 8.0, 7.0, 6.0, 5.0, 4.0, 3.0, 2.0, 1.0, 1.3691, 1.3679, 1.3678, 1.3628, 1.3585, 1.3582, 1.3572, 1.3569, 1.3567, 1.3564, 1.3561, 1.353, 1.352, 1.3487, 1.3481, 1.3464, 1.3445, 1.3443, 1.3439, 1.3433, 1.3423, 1.3419, 1.3417, 1.3415, 1.3411, 1.341, 1.3408, 1.3406, 1.3404, 1.3402, 1.3402, 1.3252, 1.338, 1.3375, 1.3324, 1.3359, 1.3298, 1.315, 1.3076, 1.2857, 1.2947, 1.318, 1.241, 1.3176, 1.2922, 1.2512, 1.2771, 1.0654, 1.1889, 1.1458, 1.2312, 1.1838, 1.0842, 0.9935, 1.132, 1.1322, 1.0472, 1.2752, 0.6843, 0.8313, 1.0526, 0.9837, 0.9042, 0.9335, 0.9265, 0.9787, 0.968, 0.9061, 0.886, 0.9141, 0.6596, 0.6697, 0.598, 0.1555, 0.7796, 0.6305, 0.8112, 0.5571, 0.662, -0.2005, 0.3932, 0.3385, 0.4904, -0.0373, -0.2604, 0.2116, 0.0926, 0.1804, 0.2208, 0.5137, 0.5472, -0.2874, -0.7569, -0.085, 1.3788, 1.3769, 1.3732, 1.3692, 1.3681, 1.3676, 1.3671, 1.3671, 1.366, 1.3628, 1.3622, 1.3617, 1.3598, 1.3595, 1.359, 1.3589, 1.3582, 1.3576, 1.3576, 1.3572, 1.3564, 1.3563, 1.3544, 1.3537, 1.3533, 1.3521, 1.3521, 1.3518, 1.3518, 1.3508, 1.34, 1.3497, 1.3342, 1.3403, 1.3406, 1.3121, 1.2894, 1.3134, 1.3267, 1.3387, 1.2781, 1.317, 1.2241, 1.1582, 1.2825, 1.2591, 1.1902, 1.2808, 1.2526, 1.0863, 1.1647, 1.163, 1.1137, 1.1499, 0.8726, 1.0289, 0.9595, 1.0341, 1.1538, 0.842, 1.0179, 0.8333, 0.6933, 0.8315, 1.0014, 0.7004, 1.0749, 0.8991, 0.6646, 0.9523, 1.0255, 0.8249, 0.9928, 0.5706, 0.6752, 0.3146, 0.4908, 0.236, 0.7736, 0.1197, 0.2358, 0.2528, 0.479, 0.5737, -0.1706, -0.0394, -0.4163, 0.2357, 0.0903, 0.3342, 2.3812, 2.3811, 2.3811, 2.3811, 2.3795, 2.3782, 2.3768, 2.3759, 2.3742, 2.3724, 2.3721, 2.3712, 2.3703, 2.3691, 2.3682, 2.3656, 2.3656, 2.3644, 2.3641, 2.3641, 2.3629, 2.3627, 2.3624, 2.3613, 2.3612, 2.3608, 2.3584, 2.3567, 2.3561, 2.356, 2.3358, 2.3387, 2.3257, 2.2443, 2.3169, 2.2514, 2.3167, 2.2872, 2.2862, 2.1733, 2.1377, 2.2919, 2.1458, 1.8925, 2.0198, 2.2209, 1.7324, 2.1453, 1.242, 1.1526, 0.9843, 0.9764, 1.4401, 1.2274, 1.0914, 0.8555, 0.6985, -0.0746, -0.043, 0.0802, 1.1272, 0.638, 0.8403, -0.0389, 0.0274, 0.8809, 0.533, 1.3853, 1.3802, 1.3763, 1.3758, 1.3751, 1.375, 1.3746, 1.3746, 1.3731, 1.3715, 1.3713, 1.3693, 1.3674, 1.3666, 1.3649, 1.3644, 1.3635, 1.361, 1.3598, 1.3583, 1.358, 1.3575, 1.3542, 1.3486, 1.344, 1.3423, 1.3422, 1.3415, 1.3387, 1.3387, 1.3349, 1.3296, 1.3362, 1.3164, 1.3116, 1.3184, 1.2643, 1.2587, 1.2962, 1.2336, 1.2573, 1.2123, 1.2073, 1.1971, 1.0459, 1.1774, 1.1373, 1.2171, 1.0482, 0.972, 0.9451, 1.1885, 1.0969, 0.9229, 0.9885, 1.0892, 0.9132, 0.9707, 1.0146, 1.0277, 0.5123, 0.885, 0.5151, 0.3454, 0.2364, 0.5691, 0.3658, 0.6779, 0.3935, -0.062, 0.1004, 0.4871, 0.6741, 0.2795, -0.2954, 0.0123, 1.8571, 1.8545, 1.8542, 1.8538, 1.8511, 1.8505, 1.8475, 1.847, 1.843, 1.8418, 1.8397, 1.8385, 1.8366, 1.8365, 1.8363, 1.8315, 1.8305, 1.83, 1.8292, 1.8285, 1.8284, 1.8253, 1.8244, 1.8243, 1.8241, 1.8226, 1.8217, 1.8209, 1.8207, 1.8197, 1.8115, 1.8058, 1.7973, 1.7768, 1.7418, 1.7441, 1.7067, 1.806, 1.6537, 1.6773, 1.6091, 1.728, 1.7585, 1.6753, 1.5702, 1.5745, 1.4168, 1.5061, 1.7249, 1.4708, 0.9386, 0.8084, 0.9408, 1.3777, 1.02, 0.5649, 0.0033, 0.5874, 0.7716, -0.1824, 0.7353, -0.1049, 0.6997, 0.6714, 0.1206, -0.4153, -0.1786, -0.4231, 0.7163, -0.0539, 0.5336, 0.38, -0.4654, -0.2808, -0.1349, 0.3248, -0.1892]}, \"token.table\": {\"Topic\": [1, 5, 2, 3, 5, 1, 3, 4, 5, 1, 3, 4, 5, 1, 3, 4, 5, 1, 3, 4, 5, 1, 2, 3, 4, 5, 1, 2, 3, 4, 5, 1, 2, 3, 4, 5, 1, 2, 4, 4, 1, 2, 3, 4, 1, 2, 4, 5, 1, 3, 5, 3, 1, 2, 4, 5, 1, 3, 1, 4, 5, 1, 1, 3, 5, 1, 3, 2, 2, 3, 5, 1, 2, 3, 4, 5, 3, 5, 5, 3, 1, 4, 1, 2, 3, 4, 5, 1, 2, 3, 4, 5, 1, 5, 3, 4, 1, 3, 4, 1, 2, 3, 4, 5, 1, 4, 5, 2, 5, 2, 1, 3, 5, 1, 2, 3, 4, 5, 1, 2, 3, 4, 3, 4, 1, 3, 4, 2, 3, 5, 1, 3, 4, 5, 1, 3, 4, 1, 2, 3, 4, 5, 1, 2, 4, 5, 1, 2, 3, 4, 5, 1, 4, 5, 5, 1, 4, 1, 2, 3, 4, 3, 1, 2, 3, 4, 5, 2, 1, 3, 5, 5, 1, 3, 4, 1, 1, 2, 4, 1, 4, 1, 3, 4, 5, 4, 2, 3, 2, 3, 5, 2, 3, 5, 2, 5, 1, 3, 4, 5, 1, 2, 4, 5, 4, 1, 2, 4, 3, 5, 4, 4, 1, 2, 4, 4, 2, 3, 5, 2, 5, 2, 3, 4, 5, 5, 3, 1, 5, 1, 4, 3, 1, 4, 1, 5, 3, 1, 2, 3, 4, 5, 2, 3, 5, 1, 2, 3, 5, 1, 3, 4, 5, 1, 3, 4, 5, 1, 2, 4, 1, 2, 3, 4, 5, 3, 1, 2, 3, 4, 5, 2, 1, 5, 1, 2, 1, 3, 2, 3, 5, 5, 1, 2, 3, 4, 5, 1, 2, 4, 5, 1, 2, 3, 4, 5, 1, 3, 4, 5, 1, 2, 1, 2, 3, 4, 2, 5, 1, 2, 3, 4, 5, 1, 3, 4, 5, 1, 3, 4, 5, 1, 3, 3, 1, 2, 3, 5, 2, 1, 2, 3, 4, 5, 1, 2, 3, 4, 5, 1, 2, 4, 5, 1, 2, 3, 4, 2, 1, 2, 3, 4, 5, 1, 2, 3, 4, 5, 1, 2, 3, 4, 5, 2, 1, 4, 3, 1, 4, 5, 1, 2, 3, 4, 5, 3, 1, 2, 3, 4, 5, 1, 2, 3, 4, 5, 1, 3, 1, 4, 4, 2, 3, 5, 1, 2, 3, 4, 5, 1, 2, 4, 1, 4, 1, 5, 2, 3, 5, 2, 1, 2, 3, 4, 5, 2, 3, 4, 5, 1, 2, 4, 5, 1, 2, 3, 4, 5, 1, 1, 1, 5, 1, 1, 1, 2, 3, 4, 5, 2, 1, 5, 1, 2, 3, 4, 5, 3, 5, 2, 2, 2, 3, 1, 2, 4, 5, 5, 2, 3, 5, 2, 5, 2, 5, 1, 2, 4, 5, 1, 5, 1, 2, 4, 5, 1, 2, 3, 4, 5, 1, 2, 3, 4, 5, 5, 4, 3, 3, 5, 2, 5, 1, 5, 5, 1, 5, 1, 1, 2, 3, 4, 5, 2, 1, 3, 4, 2, 2, 5, 1, 2, 4, 2, 4, 1, 2, 3, 4, 5, 2, 4, 5, 3, 1, 1, 4, 5, 4, 5, 1, 2, 4, 5, 1, 2, 4, 5, 1, 5, 4, 4, 1, 3, 4, 5, 2, 3, 5, 1, 5, 1, 2, 4, 5, 1, 2, 3, 4, 5, 3, 5, 5, 1, 2, 3, 4, 5, 4, 1, 2, 3, 4, 5, 5, 1, 3, 4, 5, 3, 4, 5, 5, 4, 1, 2, 3, 4, 5, 3, 2, 2, 2, 3, 4, 3, 1, 2, 3, 4, 5, 3, 4, 1, 4, 5, 2, 1, 2, 3, 5, 2, 5, 2, 3, 4, 5, 1, 4, 2, 3, 5, 1, 3, 5, 1, 2, 3, 1, 2, 4, 5, 1, 3, 4, 5, 2, 1, 2, 4, 3, 2, 1, 3, 5, 1, 5, 1, 4, 1, 2, 3, 4, 5, 1, 2, 4, 5, 1, 2, 3, 4, 5, 4, 5, 1, 3, 4, 5, 1, 3, 4, 5, 1, 5, 3, 3, 1, 2, 3, 4, 5, 2, 3, 5, 1, 2, 3, 4, 5, 1, 3, 5, 1, 5, 1, 2, 5, 1, 2, 3, 4, 3, 2, 4, 3, 1, 2, 3, 4, 5, 1, 2, 3, 4, 5, 1, 3, 4, 5, 1, 3, 5, 2, 3, 4, 1, 3, 4, 5, 1, 2, 3, 4, 5, 1, 2, 4, 1, 2, 4, 2, 3, 5, 1, 2, 1, 5, 3, 5, 2, 4, 2, 1, 2, 3, 4, 5, 1, 2, 3, 4, 5, 5, 3, 3, 4, 4, 1, 2, 3, 4, 5, 1, 2, 3, 4, 5, 1, 2, 3, 4, 5, 2, 1, 5, 1, 2, 4, 1, 3, 5, 3, 5, 1, 2, 3, 4, 5, 5, 1, 2, 4, 5, 1, 3, 4, 1, 2, 4, 5, 1, 3, 1, 2, 4, 1, 5, 4, 1, 1, 2, 2, 1, 2, 5, 1, 5, 3, 5, 1, 4, 1, 3, 5, 1, 2, 3, 4, 5, 2, 3, 5, 1, 2, 3, 4, 5, 1, 3, 4, 4, 1, 2, 3, 5, 1, 5, 1, 2, 5, 1, 2, 3, 4, 5, 1, 3, 5, 1, 3, 4, 5, 1, 2, 3, 4, 5, 1, 5, 1, 2, 4, 5], \"Freq\": [0.8838351883980365, 0.11293449629530468, 0.007004111966047056, 0.994583899178682, 0.9934121944488473, 0.6314123125537718, 0.06513135602273865, 0.13388112071340721, 0.17006520739270645, 0.5703025698380653, 0.12470989856409781, 0.13872224671736721, 0.16674694302390605, 0.47534387606224504, 0.16140708864592362, 0.20821514435324145, 0.15414376965685705, 0.3754161838635911, 0.217632570355705, 0.22239328283223603, 0.18498768480234926, 0.24695148779877935, 0.020213111100967705, 0.31550029935858287, 0.15291657963340785, 0.2654069370648803, 0.21402970586498607, 0.02334869518527121, 0.5224270547704433, 0.045724528071156116, 0.19457245987726007, 0.05815951033847846, 0.026129635079606264, 0.6127820871894759, 0.15340624466091418, 0.1500346788441908, 0.04778184454619589, 0.9397096094085192, 0.9526395050196492, 0.9563920977493402, 0.010983410395227303, 0.8523126466696388, 0.013180092474272764, 0.1230141964265458, 0.12944736986523014, 0.5815050073073579, 0.11291359365191414, 0.17582259582940918, 0.006682098128874381, 0.8786959039469812, 0.11359566819086449, 0.9778494938280057, 0.6442152584322289, 0.04570928662933775, 0.10855955574467717, 0.20140654421051948, 0.9584351387454335, 0.01597391897909056, 0.6673021900047595, 0.09784489589512604, 0.23482775014830248, 0.9859095756091293, 0.9649813977171499, 0.013785448538816426, 0.9603019061033667, 0.9716296772502491, 0.017350529950897305, 0.9879142274689119, 0.7427963717997169, 0.07733222500928559, 0.1801026819295204, 0.028697687108298106, 0.3431765083367315, 0.29247726111207156, 0.27430205927681606, 0.06122173249770263, 0.9458290849673535, 0.04904298959089981, 0.9695159310470159, 0.969458102695191, 0.9759923340522327, 0.9720866433758955, 0.4371775938226182, 0.2259099527887214, 0.011504673521647848, 0.16315718812518767, 0.16211130871412877, 0.2018520474226137, 0.29099109026252706, 0.05156804131234657, 0.2401597352546426, 0.2151124009029314, 0.9692399008542516, 0.9624739112480466, 0.01712755815235699, 0.9762708146843484, 0.8661056890607597, 0.06748875499174752, 0.06186469207576855, 0.489871382655885, 0.2047428780244793, 0.010992906202656605, 0.28444144799373966, 0.00961879292732453, 0.796104901773564, 0.06963016633588023, 0.1346183215827018, 0.9607597813836805, 0.03921468495443593, 0.9841247565398596, 0.047148234273597836, 0.9311776269035572, 0.011787058568399459, 0.31270833680249566, 0.3064164185569726, 0.013213028315598408, 0.2189587549442022, 0.14911846241889634, 0.19528955207618162, 0.09160344457098592, 0.08879352295837899, 0.6243645823212598, 0.061786126313108355, 0.9383767933803332, 0.00413129112326174, 0.012393873369785218, 0.983247287336294, 0.012938375042806876, 0.15341216122185297, 0.8336010206151288, 0.315606941289813, 0.013487476123496281, 0.3210019317392115, 0.3493256315985537, 0.007105938899478011, 0.021317816698434033, 0.9699606597787486, 0.02875787093310537, 0.16535775786535586, 0.00988551813325497, 0.6558142597948013, 0.14019462079888867, 0.0012069960535130472, 0.29571403311069655, 0.6928157347164892, 0.009655968428104377, 0.67710766199234, 0.001437595885334055, 0.00287519177066811, 0.09631892431738169, 0.2213897663414445, 0.8327403848930203, 0.01365148171955771, 0.15357916934502425, 0.9817354384417546, 0.06817391251098437, 0.9271652101493874, 0.03442991639926437, 0.874519876541315, 0.0068859832798528735, 0.07574581607838161, 0.9794250175359885, 0.04013918990846802, 0.49250148887691714, 0.15737110964113654, 0.1669280596193432, 0.14335424967310006, 0.9898037708710126, 0.995793709743719, 0.24909252154144623, 0.749819325048231, 0.964468185361232, 0.24412372310689712, 0.04819778160858482, 0.707684500691904, 0.9662683084635634, 0.14501039191834766, 0.0037665036861908485, 0.8512298330791318, 0.015636584296329362, 0.9851048106687498, 0.877102023351251, 0.009638483773090671, 0.08192711207127071, 0.03132507226254468, 0.990319772034565, 0.9798968707756973, 0.9760307572760355, 0.2408688472800413, 0.11597388943113099, 0.6423169260801102, 0.11994547829381999, 0.10113050130655411, 0.7784696728481258, 0.09072084734301358, 0.9072084734301358, 0.001031208668278033, 0.047435598740789515, 0.9425247228061221, 0.008249669346224264, 0.1897750850298713, 0.5766713874133509, 0.23017881281042457, 0.003264947699438646, 0.9855537945738413, 0.0021538215299230063, 0.025845858359076074, 0.9713735099952758, 0.9918679368505602, 0.009724195459319218, 0.95264565180751, 0.9526468438098857, 0.11311999263856273, 0.008016377431079249, 0.8782386830049044, 0.9627134368536712, 0.985767896430829, 0.9854740621702346, 0.9941232030910984, 0.029956567901449672, 0.9685956954802061, 0.5010500434476595, 0.095165111226901, 0.005732838025716927, 0.39900552658989813, 0.9922409532104233, 0.9753603223685468, 0.9620745704837746, 0.029602294476423836, 0.0298880194369594, 0.9638886268419407, 0.9993907686383809, 0.9662691305152009, 0.9483894227791686, 0.12144824500126473, 0.8744273640091061, 0.96945878287525, 0.015614817573650349, 0.5433956515630322, 0.011450866220676922, 0.2998044974140867, 0.13012347978041958, 0.6488126295829757, 0.06789899611914862, 0.28215805053957316, 0.010613184213007698, 0.0026532960532519244, 0.7827223357093176, 0.20430379610039817, 0.06863877018063189, 0.03251310166450984, 0.8706286112385413, 0.02528796796128543, 0.1070031872208161, 0.1254520126037154, 0.014759060306319462, 0.7527120756222926, 0.27798375286743154, 0.10377343192149767, 0.6183391021229135, 0.3250416931233344, 0.03797737995255454, 0.21222653502898126, 0.10611326751449063, 0.3183398025434719, 0.9950815024984563, 0.17900708486958505, 0.04038574475716248, 0.006549039690350673, 0.6843746476416452, 0.08950354243479253, 0.987909133265729, 0.016003669649082453, 0.9762238485940297, 0.017283776878785326, 0.9765333936513709, 0.9525606149574887, 0.045360029283689936, 0.10912360175493117, 0.013640450219366397, 0.8798090391491326, 0.9950437384684406, 0.04905549309542742, 0.3171883587647523, 0.18563044546337876, 0.4035929204669256, 0.044038454028849615, 0.04425137798849299, 0.5048061042841162, 0.35775537127620105, 0.09326828899113139, 0.1454449307168248, 0.4911563429591237, 0.023494950346564004, 0.003356421478080572, 0.33676095496741737, 0.003111253051548522, 0.06844756713406748, 0.037335036618582264, 0.8898183727428773, 0.9854852033976571, 0.9804907457540071, 0.13752944643508141, 0.23926355749664852, 0.22324985482954998, 0.39940058416763374, 0.9699443367619996, 0.024870367609282042, 0.22910907250155393, 0.2786867734363164, 0.01802825488536818, 0.19455491730459826, 0.2801891280100971, 0.07632573370694275, 0.8109609206362667, 0.09063680877699451, 0.02067155287896366, 0.6263981544610394, 0.0648543543760167, 0.12021782762383584, 0.18823580904258508, 0.042090243355766395, 0.9512394998403205, 0.994663301830952, 0.9729524025894304, 0.9819585150624822, 0.8495895571100823, 0.144430224708714, 0.994682720890235, 0.16553516199084067, 0.2743288095315632, 0.0042204432235625105, 0.4384571571145497, 0.11770347212379889, 0.05976416231472882, 0.5012478129622417, 0.022783991498283716, 0.31424382120325156, 0.10200217732308556, 0.0029706013132012247, 0.06535322889042694, 0.8377095703227453, 0.09505924202243919, 0.08579913493899025, 0.23276987534374208, 0.027010838777089523, 0.6546156221271108, 0.9646974096529849, 0.04289658379315281, 0.5998489504190057, 0.24519030954993354, 0.08133942391379248, 0.030707390584169495, 0.1545684842359046, 0.5717052269494677, 0.025761414039317438, 0.12583459934589672, 0.12286212849520624, 0.09368284180792094, 0.16030175153799806, 0.041636818581298196, 0.3788950490898136, 0.32476718493412593, 0.9857694391273311, 0.25682840711425836, 0.7424897077710786, 0.9993549646424612, 0.7220140271509461, 0.20469469841908267, 0.0725735748940384, 0.04192852030809996, 0.48715255374919525, 0.07213126798766348, 0.25121579540531075, 0.1474604739649278, 0.9896680976825332, 0.2958020324959159, 0.28238735938042947, 0.08575202434583096, 0.23314362262737803, 0.10273262322619352, 0.3550926307403044, 0.016199481329393448, 0.17495439835744925, 0.28057501662509454, 0.17365843985109777, 0.9850376712044284, 0.9778481894337434, 0.01619679922070979, 0.9799063528529421, 0.9835522910164914, 0.9086014172814397, 0.043266734156259035, 0.04720007362500986, 0.44199165534654705, 0.29159751931180516, 0.0016710459559415767, 0.11697321691591038, 0.14788756710082954, 0.0543555824711223, 0.07089858583189865, 0.8744158919267501, 0.07342731286273826, 0.9178414107842283, 0.04978441779372867, 0.9459039380808447, 0.7926666745849268, 0.017294545627307492, 0.19024000190038243, 0.9868749605093707, 0.42296018509096034, 0.021843014253523772, 0.001985728568502161, 0.24821607106277013, 0.30480933526508175, 0.7052214370637838, 0.06222542091739269, 0.022223364613354533, 0.2088996273655326, 0.006092905354318136, 0.09342454876621141, 0.010154842257196893, 0.8895641817304478, 0.08630456084247966, 0.10236122332480145, 0.696457735170708, 0.11440372018654281, 0.9624784676038775, 0.9854829657726227, 0.9931771073930645, 0.9495433873986578, 0.037981735495946314, 0.9678100874651178, 0.9750407318181822, 0.03163639893965822, 0.3125058919649166, 0.06944575376998147, 0.4868918958762034, 0.09953891373697343, 0.9782586194146089, 0.9497982733211985, 0.04252828089497904, 0.09463104972055011, 0.34972344461942434, 0.0006857322443518124, 0.48892709022284225, 0.065830295457774, 0.9110239183628164, 0.08351052584992483, 0.9754525530561768, 0.9857308565059364, 0.9840975642068341, 0.9939081836541086, 0.9799876796895102, 0.055858614863081676, 0.9272530067271558, 0.011171722972616335, 0.9942259979053262, 0.7979855933521277, 0.01657290951925499, 0.18561658661565586, 0.930631266985606, 0.06330824945480314, 0.8040476325466103, 0.19500158530200185, 0.018376916989797522, 0.7350766795919008, 0.20739663459914345, 0.039379107835280404, 0.9415647516756753, 0.054112916762969844, 0.6735965710305856, 0.10304310151742668, 0.15074824110882792, 0.0725118121789299, 0.03647787484833713, 0.40754591209866314, 0.28553371001974237, 0.18113151648829473, 0.08930790049075643, 0.10950390187989793, 0.40943025160716856, 0.02418760884897344, 0.3280719309333488, 0.12885398895907668, 0.9722809249085818, 0.9756425333052617, 0.9722847969070567, 0.9140068436181615, 0.07708491452201363, 0.9789085069139845, 0.969517533553566, 0.9627302916236691, 0.021880233900537935, 0.9603111727196968, 0.827565894441004, 0.17196174429942943, 0.9705730132020909, 0.015235789944181325, 0.21126962055931436, 0.004824666815657419, 0.6383795986611975, 0.13026600402275032, 0.9888879230511722, 0.20887944228306693, 0.017012805253824457, 0.773137483201578, 0.9806719084617654, 0.045392921715403385, 0.9532513560234711, 0.08732545301636552, 0.9023630145024436, 0.009702828112929501, 0.9403047132053352, 0.05297491342001888, 0.03491751309396025, 0.6545003617146967, 0.10637660965834402, 0.07876741325846846, 0.12505341898767158, 0.8997103641100603, 0.0959691055050731, 0.005998069094067068, 0.9870997760868852, 0.9921189801554889, 0.7485220960165094, 0.06804746327422813, 0.1819529996245665, 0.9921919918019738, 0.9794661388992271, 0.021833808720196492, 0.13100285232117895, 0.010916904360098246, 0.8296847313674667, 0.05256864790947952, 0.7960395254864042, 0.0037549034221056802, 0.14644123346212154, 0.0201648123042146, 0.9679109906023008, 0.9946117898056492, 0.9678495722948728, 0.6843537167135391, 0.012929759829945407, 0.1994877230905863, 0.10343807863956325, 0.048414453358225785, 0.09255704318484342, 0.8586445698532397, 0.9711294142354681, 0.017656898440644875, 0.05288065949170037, 0.44322873375486266, 0.3677426015033514, 0.13603650571529027, 0.08052269662216291, 0.31717515675299635, 0.3197500104240539, 0.18468723149676317, 0.09784443950018631, 0.9077164128263061, 0.08714077563132538, 0.9981666372291524, 0.5815146599978409, 0.0893535262280988, 0.0864865681673042, 0.1863522739516499, 0.05590568218549497, 0.9720770783303264, 0.1529481856959807, 0.21459566870609537, 0.27546280383000604, 0.23098297431637901, 0.12641635756504527, 0.9644676049331069, 0.43686615489528396, 0.11505939882015709, 0.01618022795908459, 0.43147274557558907, 0.03124858939520037, 0.9062090924608107, 0.06249717879040074, 0.9794662836381604, 0.9739381461687402, 0.022944343652674122, 0.6163685044877457, 0.020858494229703747, 0.1814688997984226, 0.15852455614574848, 0.9812254114135874, 0.9804879856584126, 0.9804918629475212, 0.9055678393116757, 0.06468341709369113, 0.032341708546845566, 0.998459289694532, 0.08766252606376183, 0.3172749738500489, 0.08850746607401497, 0.3504388692524841, 0.15631390189682834, 0.9565392889272323, 0.03416211746168687, 0.07516550755537298, 0.004421500444433705, 0.9196720924422106, 0.9675370645724614, 0.9899511448468861, 0.6929968657576302, 0.03639689420995957, 0.26933701715370084, 0.6813901523753435, 0.31677217737546237, 0.675692537381299, 0.03689125922484104, 0.1708647795676848, 0.11455706811924322, 0.17678095512502376, 0.8220314413313604, 0.11031670261822095, 0.07512947850723668, 0.8140611848379063, 0.9255180823132271, 0.026956837348928946, 0.05391367469785789, 0.9813073892870441, 0.203618424100935, 0.7890213933911231, 0.19705303456338505, 0.4446512713010213, 0.34868864108613856, 0.008790469943348032, 0.0016445077110653259, 0.01151155397745728, 0.9817711035059995, 0.0032890154221306518, 0.9934662148702075, 0.13355774751513097, 0.12915474484979697, 0.7367691126658873, 0.9799050701818955, 0.9938484701286351, 0.7859729817719011, 0.018137838040890027, 0.19649324544297528, 0.9863184923711535, 0.964469030162527, 0.1941440420498306, 0.8047583678517172, 0.0030286407310327825, 0.0030286407310327825, 0.06057281462065565, 0.8147043566478185, 0.1211456292413113, 0.08450060058128361, 0.701354984824654, 0.14968677817255954, 0.06397902615440045, 0.11879163489148564, 0.322712638112701, 0.10015219803497619, 0.4139624185445682, 0.044512088015544966, 0.9483389908860734, 0.054190799479204195, 0.2993722186829164, 0.008433020244589196, 0.01686604048917839, 0.6788581296894302, 0.11439940084730198, 0.11863641569349835, 0.14405850477067655, 0.61860416754467, 0.021917343045474755, 0.9753217655236266, 0.9812253726647525, 0.9794243713581706, 0.30325374214389716, 0.2700462042645035, 0.014410818325019907, 0.28633669454496075, 0.12531146369582527, 0.2604234751589609, 0.038297569876317786, 0.7008455287366154, 0.1311700915262998, 0.2409791503358485, 0.09478958268058306, 0.41520507343184976, 0.11748567994213112, 0.9926069690176106, 0.9331833504823329, 0.05893789581993682, 0.9705654677500561, 0.9865505772878915, 0.02829575703507921, 0.8842424073462254, 0.09196121036400744, 0.49440947506871097, 0.204999050638246, 0.0030146919211506765, 0.2969471542333416, 0.9995032143984928, 0.9641834163623977, 0.03708397755239991, 0.9760302165344619, 0.21947519656748535, 0.008282082889339069, 0.09997657202130734, 0.6667076725917951, 0.005324196143146545, 0.05835273263015542, 0.30549371788728424, 0.21367397683689265, 0.38015089051704193, 0.04204829263055317, 0.9174108430563697, 0.03276467296629892, 0.004680667566614131, 0.046806675666141315, 0.9678105934394526, 0.9885671600174076, 0.006503731315903997, 0.9558462660848067, 0.018206595544472508, 0.02730989331670876, 0.15131947136303908, 0.7911846645553187, 0.04755754814266943, 0.008646826935030806, 0.4130996014510871, 0.25359476618363913, 0.12814152496205086, 0.1442712274048265, 0.06093443145048573, 0.063134105887344, 0.9289732723423474, 0.9740520243459256, 0.06082142939428915, 0.8028428680046168, 0.1368482161371506, 0.95639665609352, 0.02863463042196168, 0.01145385216878467, 0.9678233665985613, 0.9661542951262885, 0.7864322074515151, 0.213557021851058, 0.9704601467545394, 0.9858528597441397, 0.9546910192533152, 0.021697523164848073, 0.9833191879818154, 0.2324419629998553, 0.40443802545601304, 0.02198032747043549, 0.30058097815820534, 0.039564589446783885, 0.012463626238062058, 0.07591481435910526, 0.38977158417212254, 0.5064764480376127, 0.014729740099527886, 0.9872504663296435, 0.9772714583330205, 0.9843696812375525, 0.9819779663389953, 0.9824554319900779, 0.008110558609223412, 0.7623925092670006, 0.010138198261529265, 0.08313322574453996, 0.13585185670449215, 0.4910736793941523, 0.22215237877354507, 0.004676892184706212, 0.17655267997265953, 0.10523007415588978, 0.30626904195601656, 0.19882383707308615, 0.02209153745256513, 0.15966156613444796, 0.31329816750910544, 0.9888883941143026, 0.054329479123470956, 0.9417109714734965, 0.2072903629690329, 0.08666711366038612, 0.7059717504545349, 0.11437907874462336, 0.8710989440815686, 0.014392069510912873, 0.9995953448817805, 0.9850566717054957, 0.024304525264113554, 0.6982027257690804, 0.01104751148368798, 0.26293077331177395, 0.002209502296737596, 0.9603037968957115, 0.9226948513831148, 0.05634777718370167, 0.007043472147962708, 0.014086944295925417, 0.9643872309562017, 0.027953253071194253, 0.9483887855862818, 0.6249317546325058, 0.012659759301947631, 0.2543460732482206, 0.10703251046192089, 0.9728138689812745, 0.01677265291347025, 0.23153159563724238, 0.16791255359277488, 0.6007306265182505, 0.9364876776978643, 0.061265549008271504, 0.988134590359422, 0.9662777029341162, 0.9705664103566378, 0.9755321091739572, 0.9517504243256097, 0.9499190215612745, 0.014177895844198127, 0.028355791688396255, 0.9038536245764635, 0.09243957524077467, 0.049172849031369835, 0.9588705561117118, 0.1643636998134294, 0.8332857339378513, 0.7249854329081741, 0.028387983818693563, 0.24457339905335995, 0.6398520136224152, 0.004342886970287886, 0.040533611722686935, 0.08975299738594965, 0.22583012245497008, 0.011079544418751518, 0.011079544418751518, 0.9749999088501335, 0.7345806789148642, 0.0007131851251600624, 0.009984591752240873, 0.02710103475608237, 0.22750605492605988, 0.15231178739368575, 0.016466139177695755, 0.8294817610764237, 0.9786681018585837, 0.008299504866773489, 0.5756299446883613, 0.01778465328594319, 0.3977834118289294, 0.025852542257487673, 0.9823966057845316, 0.907461156034824, 0.00762572400029264, 0.08388296400321903, 0.5019910373623341, 0.061952574090719525, 0.24717325189922032, 0.0590858740042595, 0.12979780947027356, 0.6142026843893234, 0.08360874237760423, 0.3006699004733075, 0.5525926034282672, 0.002392175772416741, 0.13515793114154587, 0.31098285041417634, 0.4608355711268397, 0.011901062095097725, 0.0006611701163943181, 0.2532281545790238, 0.2737244281872477, 0.9645145552445461, 0.020967707722707524, 0.9874533073879621, 0.8245271332131546, 0.002976632249866984, 0.17264467049228507], \"Term\": [\"000\", \"000\", \"1er\", \"1er\", \"2008\", \"2016\", \"2016\", \"2016\", \"2016\", \"2017\", \"2017\", \"2017\", \"2017\", \"2018\", \"2018\", \"2018\", \"2018\", \"2019\", \"2019\", \"2019\", \"2019\", \"2020\", \"2020\", \"2020\", \"2020\", \"2020\", \"2021\", \"2021\", \"2021\", \"2021\", \"2021\", \"2022\", \"2022\", \"2022\", \"2022\", \"2022\", \"2032\", \"2032\", \"61\", \"77\", \"accents\", \"accents\", \"accents\", \"accents\", \"acidity\", \"acidity\", \"acidity\", \"acidity\", \"acids\", \"acids\", \"acids\", \"active\", \"age\", \"age\", \"age\", \"age\", \"ages\", \"ages\", \"alcohol\", \"alcohol\", \"alcohol\", \"altitude\", \"american\", \"american\", \"amontillado\", \"antonio\", \"antonio\", \"appealingly\", \"apple\", \"apple\", \"apple\", \"aromas\", \"aromas\", \"aromas\", \"aromas\", \"aromas\", \"august\", \"august\", \"auslese\", \"avocado\", \"backward\", \"bags\", \"balance\", \"balance\", \"balance\", \"balance\", \"balance\", \"balanced\", \"balanced\", \"balanced\", \"balanced\", \"balanced\", \"balsam\", \"bandol\", \"bark\", \"bark\", \"barolo\", \"barolo\", \"barolo\", \"barrel\", \"barrel\", \"barrel\", \"barrel\", \"barrel\", \"barrels\", \"barrels\", \"barrels\", \"bead\", \"bead\", \"beam\", \"beef\", \"beef\", \"beef\", \"best\", \"best\", \"best\", \"best\", \"best\", \"black\", \"black\", \"black\", \"black\", \"blackberries\", \"blackberries\", \"blackcurrants\", \"blackcurrants\", \"blackcurrants\", \"blanc\", \"blanc\", \"blanc\", \"blend\", \"blend\", \"blend\", \"blend\", \"blueberries\", \"blueberries\", \"blueberries\", \"bodied\", \"bodied\", \"bodied\", \"bodied\", \"bodied\", \"body\", \"body\", \"body\", \"body\", \"bottle\", \"bottle\", \"bottle\", \"bottle\", \"bottle\", \"bottles\", \"bottles\", \"bottles\", \"bourboulenc\", \"box\", \"box\", \"boysenberry\", \"boysenberry\", \"boysenberry\", \"boysenberry\", \"braised\", \"bright\", \"bright\", \"bright\", \"bright\", \"bright\", \"brimming\", \"brunello\", \"brut\", \"brut\", \"burgundian\", \"cabernet\", \"cabernet\", \"cabernet\", \"careful\", \"cedar\", \"cedar\", \"cedar\", \"cedary\", \"cedary\", \"cellar\", \"cellar\", \"cellar\", \"cellar\", \"cent\", \"certification\", \"chalkiness\", \"champagne\", \"champagne\", \"champagne\", \"chardonnay\", \"chardonnay\", \"chardonnay\", \"chateauneuf\", \"chateauneuf\", \"cherries\", \"cherries\", \"cherries\", \"cherries\", \"cherry\", \"cherry\", \"cherry\", \"cherry\", \"chest\", \"chewy\", \"chewy\", \"chewy\", \"chicken\", \"chicken\", \"chinese\", \"chock\", \"chocolate\", \"chocolate\", \"chocolate\", \"chocolatey\", \"chopped\", \"chops\", \"ch\\u00e2teauneuf\", \"cinsault\", \"cinsault\", \"citrus\", \"citrus\", \"citrus\", \"citrus\", \"clairette\", \"clams\", \"classical\", \"classical\", \"cloves\", \"cloves\", \"commentary\", \"conditions\", \"cone\", \"cork\", \"cork\", \"crab\", \"creamy\", \"creamy\", \"creamy\", \"creamy\", \"creamy\", \"crisp\", \"crisp\", \"crisp\", \"cru\", \"cru\", \"cru\", \"cru\", \"currants\", \"currants\", \"currants\", \"currants\", \"cuv\\u00e9e\", \"cuv\\u00e9e\", \"cuv\\u00e9e\", \"cuv\\u00e9e\", \"dark\", \"dark\", \"dark\", \"de\", \"de\", \"de\", \"de\", \"de\", \"december\", \"deep\", \"deep\", \"deep\", \"deep\", \"deep\", \"demeter\", \"demi\", \"demi\", \"details\", \"details\", \"di\", \"di\", \"disgorged\", \"disgorged\", \"disgorged\", \"dosage\", \"dried\", \"dried\", \"dried\", \"dried\", \"dried\", \"drink\", \"drink\", \"drink\", \"drink\", \"dry\", \"dry\", \"dry\", \"dry\", \"dry\", \"du\", \"du\", \"du\", \"du\", \"ducru\", \"earl\", \"earth\", \"earth\", \"earth\", \"earth\", \"echoes\", \"echoes\", \"elegant\", \"elegant\", \"elegant\", \"elegant\", \"elegant\", \"enjoy\", \"enjoy\", \"enjoy\", \"enjoy\", \"estate\", \"estate\", \"estate\", \"estate\", \"excels\", \"excels\", \"exhibits\", \"extraction\", \"exude\", \"february\", \"february\", \"finale\", \"fine\", \"fine\", \"fine\", \"fine\", \"fine\", \"finish\", \"finish\", \"finish\", \"finish\", \"finish\", \"finishing\", \"finishing\", \"finishing\", \"finishing\", \"firm\", \"firm\", \"firm\", \"firm\", \"flash\", \"flavors\", \"flavors\", \"flavors\", \"flavors\", \"flavors\", \"floral\", \"floral\", \"floral\", \"floral\", \"floral\", \"flowers\", \"flowers\", \"flowers\", \"flowers\", \"flowers\", \"frames\", \"franc\", \"franc\", \"francisco\", \"french\", \"french\", \"french\", \"fresh\", \"fresh\", \"fresh\", \"fresh\", \"fresh\", \"fried\", \"fruit\", \"fruit\", \"fruit\", \"fruit\", \"fruit\", \"fruits\", \"fruits\", \"fruits\", \"fruits\", \"fruits\", \"gallonibarrel\", \"garlic\", \"garnet\", \"garnet\", \"garni\", \"ginger\", \"ginger\", \"ginger\", \"good\", \"good\", \"good\", \"good\", \"good\", \"grained\", \"grained\", \"grained\", \"grainy\", \"grainy\", \"grams\", \"grams\", \"grapefruit\", \"grapefruit\", \"grapefruit\", \"grated\", \"great\", \"great\", \"great\", \"great\", \"great\", \"green\", \"green\", \"green\", \"green\", \"grenache\", \"grenache\", \"grenache\", \"grenache\", \"grilled\", \"grilled\", \"grilled\", \"grilled\", \"gr\\u00fcner\", \"ha\", \"heat\", \"hectare\", \"hectare\", \"helped\", \"highest\", \"hints\", \"hints\", \"hints\", \"hints\", \"hints\", \"imported\", \"indigenous\", \"indigenous\", \"juicy\", \"juicy\", \"juicy\", \"juicy\", \"juicy\", \"june\", \"june\", \"juniper\", \"kabinett\", \"lacy\", \"lamb\", \"las\", \"leafy\", \"leafy\", \"leafy\", \"lees\", \"lemon\", \"lemon\", \"lemon\", \"lemons\", \"lemons\", \"lime\", \"lime\", \"lingering\", \"lingering\", \"lingering\", \"lingering\", \"liquorice\", \"liquorice\", \"little\", \"little\", \"little\", \"little\", \"lively\", \"lively\", \"lively\", \"lively\", \"lively\", \"long\", \"long\", \"long\", \"long\", \"long\", \"manzanilla\", \"marasca\", \"marbled\", \"march\", \"march\", \"markedly\", \"marsanne\", \"massive\", \"massive\", \"mataro\", \"matured\", \"matured\", \"measured\", \"medium\", \"medium\", \"medium\", \"medium\", \"medium\", \"meet\", \"merlot\", \"merlot\", \"merlot\", \"meshed\", \"meunier\", \"meunier\", \"middle\", \"middle\", \"middle\", \"midpalate\", \"midpalate\", \"mineral\", \"mineral\", \"mineral\", \"mineral\", \"mineral\", \"minerally\", \"minerally\", \"minerally\", \"mingled\", \"montalcino\", \"months\", \"months\", \"months\", \"morello\", \"mourvedre\", \"mourv\\u00e8dre\", \"mourv\\u00e8dre\", \"mourv\\u00e8dre\", \"mourv\\u00e8dre\", \"mouthwatering\", \"mouthwatering\", \"mouthwatering\", \"mouthwatering\", \"muids\", \"muids\", \"mulberries\", \"needles\", \"new\", \"new\", \"new\", \"new\", \"noir\", \"noir\", \"noir\", \"north\", \"north\", \"nose\", \"nose\", \"nose\", \"nose\", \"notes\", \"notes\", \"notes\", \"notes\", \"notes\", \"november\", \"november\", \"nv\", \"oak\", \"oak\", \"oak\", \"oak\", \"oak\", \"oakville\", \"offers\", \"offers\", \"offers\", \"offers\", \"offers\", \"oger\", \"old\", \"old\", \"old\", \"old\", \"olives\", \"olives\", \"olives\", \"oloroso\", \"onwards\", \"orange\", \"orange\", \"orange\", \"orange\", \"orange\", \"oven\", \"overtly\", \"overtone\", \"oyster\", \"oyster\", \"oyster\", \"pair\", \"palate\", \"palate\", \"palate\", \"palate\", \"palate\", \"pan\", \"pan\", \"pape\", \"pape\", \"pape\", \"pastille\", \"pauillac\", \"peach\", \"peach\", \"peach\", \"pear\", \"pear\", \"peel\", \"peel\", \"peel\", \"peel\", \"petit\", \"petit\", \"pinot\", \"pinot\", \"pinot\", \"place\", \"place\", \"place\", \"plateau\", \"pleasing\", \"pleasing\", \"plum\", \"plum\", \"plum\", \"plum\", \"plums\", \"plums\", \"plums\", \"plums\", \"poached\", \"polished\", \"polished\", \"polished\", \"pork\", \"possess\", \"produced\", \"produced\", \"produced\", \"property\", \"proven\\u00e7al\", \"purple\", \"purple\", \"raspberries\", \"raspberries\", \"raspberries\", \"raspberries\", \"raspberries\", \"raspberry\", \"raspberry\", \"raspberry\", \"raspberry\", \"red\", \"red\", \"red\", \"red\", \"red\", \"redcurrants\", \"redcurrants\", \"release\", \"release\", \"release\", \"release\", \"reserve\", \"reserve\", \"reserve\", \"reserve\", \"residual\", \"residual\", \"ribeye\", \"ribs\", \"rich\", \"rich\", \"rich\", \"rich\", \"rich\", \"riesling\", \"riesling\", \"riesling\", \"ripe\", \"ripe\", \"ripe\", \"ripe\", \"ripe\", \"riserva\", \"roast\", \"roast\", \"roriz\", \"roussanne\", \"salted\", \"salted\", \"salted\", \"sample\", \"sample\", \"sample\", \"sample\", \"san\", \"sanguine\", \"sanguine\", \"sashimi\", \"sauvignon\", \"sauvignon\", \"sauvignon\", \"sauvignon\", \"sauvignon\", \"savory\", \"savory\", \"savory\", \"savory\", \"savory\", \"selection\", \"selection\", \"selection\", \"selection\", \"serralunga\", \"serve\", \"serve\", \"shell\", \"shell\", \"shell\", \"shines\", \"shines\", \"shines\", \"shines\", \"shows\", \"shows\", \"shows\", \"shows\", \"shows\", \"singed\", \"singed\", \"skinned\", \"sleek\", \"sleek\", \"sleek\", \"sliced\", \"sliced\", \"sliced\", \"smoldering\", \"sneaky\", \"soils\", \"soils\", \"sole\", \"solera\", \"solidly\", \"solidly\", \"sorbet\", \"spice\", \"spice\", \"spice\", \"spice\", \"spice\", \"spices\", \"spices\", \"spices\", \"spices\", \"spices\", \"stated\", \"steamed\", \"stew\", \"stewed\", \"stick\", \"strawberry\", \"strawberry\", \"strawberry\", \"strawberry\", \"strawberry\", \"structure\", \"structure\", \"structure\", \"structure\", \"structure\", \"style\", \"style\", \"style\", \"style\", \"style\", \"suffused\", \"sugar\", \"sugar\", \"tannins\", \"tannins\", \"tannins\", \"tasted\", \"tasted\", \"tasted\", \"tasting\", \"tawny\", \"tea\", \"tea\", \"tea\", \"tea\", \"tea\", \"tensioned\", \"term\", \"term\", \"term\", \"term\", \"terms\", \"terms\", \"tile\", \"time\", \"time\", \"time\", \"time\", \"tinta\", \"tinta\", \"tobacco\", \"tobacco\", \"tobacco\", \"touriga\", \"touriga\", \"truffles\", \"tug\", \"ultimately\", \"underpinning\", \"underscored\", \"use\", \"use\", \"use\", \"vats\", \"vats\", \"veltliner\", \"veltliner\", \"verdot\", \"verdot\", \"vines\", \"vines\", \"vines\", \"vineyard\", \"vineyard\", \"vineyard\", \"vineyard\", \"vineyard\", \"vinous\", \"vinous\", \"vinous\", \"vintage\", \"vintage\", \"vintage\", \"vintage\", \"vintage\", \"violets\", \"violets\", \"violets\", \"walla\", \"white\", \"white\", \"white\", \"white\", \"whites\", \"whites\", \"window\", \"window\", \"window\", \"wine\", \"wine\", \"wine\", \"wine\", \"wine\", \"wines\", \"wines\", \"wines\", \"year\", \"year\", \"year\", \"year\", \"years\", \"years\", \"years\", \"years\", \"years\", \"yeasts\", \"yeasts\", \"yield\", \"zest\", \"zest\", \"zest\"]}, \"R\": 30, \"lambda.step\": 0.01, \"plot.opts\": {\"xlab\": \"PC1\", \"ylab\": \"PC2\"}, \"topic.order\": [1, 2, 3, 4, 5]};\n",
       "\n",
       "function LDAvis_load_lib(url, callback){\n",
       "  var s = document.createElement('script');\n",
       "  s.src = url;\n",
       "  s.async = true;\n",
       "  s.onreadystatechange = s.onload = callback;\n",
       "  s.onerror = function(){console.warn(\"failed to load library \" + url);};\n",
       "  document.getElementsByTagName(\"head\")[0].appendChild(s);\n",
       "}\n",
       "\n",
       "if(typeof(LDAvis) !== \"undefined\"){\n",
       "   // already loaded: just create the visualization\n",
       "   !function(LDAvis){\n",
       "       new LDAvis(\"#\" + \"ldavis_el870631402269762994884481813841\", ldavis_el870631402269762994884481813841_data);\n",
       "   }(LDAvis);\n",
       "}else if(typeof define === \"function\" && define.amd){\n",
       "   // require.js is available: use it to load d3/LDAvis\n",
       "   require.config({paths: {d3: \"https://d3js.org/d3.v5\"}});\n",
       "   require([\"d3\"], function(d3){\n",
       "      window.d3 = d3;\n",
       "      LDAvis_load_lib(\"https://cdn.jsdelivr.net/gh/bmabey/pyLDAvis@3.3.1/pyLDAvis/js/ldavis.v3.0.0.js\", function(){\n",
       "        new LDAvis(\"#\" + \"ldavis_el870631402269762994884481813841\", ldavis_el870631402269762994884481813841_data);\n",
       "      });\n",
       "    });\n",
       "}else{\n",
       "    // require.js not available: dynamically load d3 & LDAvis\n",
       "    LDAvis_load_lib(\"https://d3js.org/d3.v5.js\", function(){\n",
       "         LDAvis_load_lib(\"https://cdn.jsdelivr.net/gh/bmabey/pyLDAvis@3.3.1/pyLDAvis/js/ldavis.v3.0.0.js\", function(){\n",
       "                 new LDAvis(\"#\" + \"ldavis_el870631402269762994884481813841\", ldavis_el870631402269762994884481813841_data);\n",
       "            })\n",
       "         });\n",
       "}\n",
       "</script>"
      ],
      "text/plain": [
       "<IPython.core.display.HTML object>"
      ]
     },
     "execution_count": 24,
     "metadata": {},
     "output_type": "execute_result"
    }
   ],
   "source": [
    "lda_display_review_H = pyLDAvis.sklearn.prepare(lda_reviews_model_H, count_reviews_vectors, count_reviews_vectorizer, sort_topics=False)\n",
    "pyLDAvis.display(lda_display_review_H)"
   ]
  },
  {
   "cell_type": "markdown",
   "id": "6b11c704",
   "metadata": {},
   "source": [
    "## Description "
   ]
  },
  {
   "cell_type": "code",
   "execution_count": 33,
   "id": "dc18a8d9",
   "metadata": {},
   "outputs": [
    {
     "name": "stderr",
     "output_type": "stream",
     "text": [
      "/opt/anaconda3/lib/python3.8/site-packages/ipykernel/ipkernel.py:287: DeprecationWarning: `should_run_async` will not call `transform_cell` automatically in the future. Please pass the result to `transformed_cell` argument and any exception that happen during thetransform in `preprocessing_exc_tuple` in IPython 7.17 and above.\n",
      "  and should_run_async(code)\n"
     ]
    }
   ],
   "source": [
    "wine_df['text'] = wine_df['text'].fillna('')"
   ]
  },
  {
   "cell_type": "code",
   "execution_count": 34,
   "id": "01770df0",
   "metadata": {},
   "outputs": [
    {
     "name": "stderr",
     "output_type": "stream",
     "text": [
      "/opt/anaconda3/lib/python3.8/site-packages/ipykernel/ipkernel.py:287: DeprecationWarning: `should_run_async` will not call `transform_cell` automatically in the future. Please pass the result to `transformed_cell` argument and any exception that happen during thetransform in `preprocessing_exc_tuple` in IPython 7.17 and above.\n",
      "  and should_run_async(code)\n",
      "/opt/anaconda3/lib/python3.8/site-packages/sklearn/feature_extraction/text.py:404: UserWarning: Your stop_words may be inconsistent with your preprocessing. Tokenizing the stop words generated tokens ['ll', 've'] not in stop_words.\n",
      "  warnings.warn(\n"
     ]
    },
    {
     "data": {
      "text/plain": [
       "(20988, 7626)"
      ]
     },
     "execution_count": 34,
     "metadata": {},
     "output_type": "execute_result"
    }
   ],
   "source": [
    "#Using the CountVectorizer with the stopwords\n",
    "count_text_vectorizer = CountVectorizer(stop_words=stopwords, min_df=5, max_df=0.7)\n",
    "#Applying the CountVectorizer to the wine_df reviews column \n",
    "count_text_vectors = count_text_vectorizer.fit_transform(wine_df[\"text\"])\n",
    "count_text_vectors.shape"
   ]
  },
  {
   "cell_type": "code",
   "execution_count": 35,
   "id": "6327afb6",
   "metadata": {},
   "outputs": [
    {
     "name": "stderr",
     "output_type": "stream",
     "text": [
      "/opt/anaconda3/lib/python3.8/site-packages/ipykernel/ipkernel.py:287: DeprecationWarning: `should_run_async` will not call `transform_cell` automatically in the future. Please pass the result to `transformed_cell` argument and any exception that happen during thetransform in `preprocessing_exc_tuple` in IPython 7.17 and above.\n",
      "  and should_run_async(code)\n"
     ]
    },
    {
     "data": {
      "text/plain": [
       "(20988, 7626)"
      ]
     },
     "execution_count": 35,
     "metadata": {},
     "output_type": "execute_result"
    }
   ],
   "source": [
    "#Using the TfidfVectorizer with the stopwords\n",
    "tfidf_text_vectorizer = TfidfVectorizer(stop_words=stopwords, min_df=5, max_df=0.7)\n",
    "#Applying the TfidfVectorizer to the wine_df reviews column \n",
    "tfidf_text_vectors = tfidf_text_vectorizer.fit_transform(wine_df[\"text\"])\n",
    "tfidf_text_vectors.shape"
   ]
  },
  {
   "cell_type": "markdown",
   "id": "9193bc98",
   "metadata": {},
   "source": [
    "## Fitting a Non-Negative Matrix Factorization Model"
   ]
  },
  {
   "cell_type": "code",
   "execution_count": 36,
   "id": "7e2ba82e",
   "metadata": {},
   "outputs": [
    {
     "name": "stderr",
     "output_type": "stream",
     "text": [
      "/opt/anaconda3/lib/python3.8/site-packages/ipykernel/ipkernel.py:287: DeprecationWarning: `should_run_async` will not call `transform_cell` automatically in the future. Please pass the result to `transformed_cell` argument and any exception that happen during thetransform in `preprocessing_exc_tuple` in IPython 7.17 and above.\n",
      "  and should_run_async(code)\n"
     ]
    }
   ],
   "source": [
    "nmf_text_model = NMF(n_components=5, random_state=314)\n",
    "W_text_matrix = nmf_text_model.fit_transform(tfidf_text_vectors)\n",
    "H_text_matrix = nmf_text_model.components_"
   ]
  },
  {
   "cell_type": "code",
   "execution_count": 37,
   "id": "8b1aa44f",
   "metadata": {},
   "outputs": [
    {
     "name": "stdout",
     "output_type": "stream",
     "text": [
      "\n",
      "Topic 00\n",
      "  red (3.38)\n",
      "  intense (1.71)\n",
      "  ruby (1.69)\n",
      "  color (1.43)\n",
      "  nose (1.19)\n",
      "\n",
      "Topic 01\n",
      "  cabernet (9.04)\n",
      "  merlot (5.63)\n",
      "  sauvignon (5.27)\n",
      "  blend (4.59)\n",
      "  franc (4.33)\n",
      "\n",
      "Topic 02\n",
      "  white (1.45)\n",
      "  fresh (1.32)\n",
      "  citrus (1.23)\n",
      "  yellow (1.05)\n",
      "  notes (0.92)\n",
      "\n",
      "Topic 03\n",
      "  black (2.20)\n",
      "  cherry (1.68)\n",
      "  dark (1.66)\n",
      "  flavors (1.15)\n",
      "  plum (1.12)\n",
      "\n",
      "Topic 04\n",
      "  pinot (1.31)\n",
      "  wine (1.21)\n",
      "  noir (1.02)\n",
      "  chardonnay (0.62)\n",
      "  blend (0.61)\n"
     ]
    },
    {
     "name": "stderr",
     "output_type": "stream",
     "text": [
      "/opt/anaconda3/lib/python3.8/site-packages/ipykernel/ipkernel.py:287: DeprecationWarning: `should_run_async` will not call `transform_cell` automatically in the future. Please pass the result to `transformed_cell` argument and any exception that happen during thetransform in `preprocessing_exc_tuple` in IPython 7.17 and above.\n",
      "  and should_run_async(code)\n",
      "/opt/anaconda3/lib/python3.8/site-packages/sklearn/utils/deprecation.py:87: FutureWarning: Function get_feature_names is deprecated; get_feature_names is deprecated in 1.0 and will be removed in 1.2. Please use get_feature_names_out instead.\n",
      "  warnings.warn(msg, category=FutureWarning)\n"
     ]
    }
   ],
   "source": [
    "display_topics(nmf_text_model, tfidf_text_vectorizer.get_feature_names())"
   ]
  },
  {
   "cell_type": "markdown",
   "id": "34182603",
   "metadata": {},
   "source": [
    "top 5 topics and their top 5 associated words"
   ]
  },
  {
   "cell_type": "markdown",
   "id": "c53d8166",
   "metadata": {},
   "source": [
    "## Fitting an LSA Model"
   ]
  },
  {
   "cell_type": "code",
   "execution_count": 38,
   "id": "03431f9e",
   "metadata": {},
   "outputs": [
    {
     "name": "stderr",
     "output_type": "stream",
     "text": [
      "/opt/anaconda3/lib/python3.8/site-packages/ipykernel/ipkernel.py:287: DeprecationWarning: `should_run_async` will not call `transform_cell` automatically in the future. Please pass the result to `transformed_cell` argument and any exception that happen during thetransform in `preprocessing_exc_tuple` in IPython 7.17 and above.\n",
      "  and should_run_async(code)\n"
     ]
    }
   ],
   "source": [
    "svd_text_model = TruncatedSVD(n_components = 10, random_state=42)"
   ]
  },
  {
   "cell_type": "code",
   "execution_count": 39,
   "id": "0655c558",
   "metadata": {},
   "outputs": [
    {
     "name": "stderr",
     "output_type": "stream",
     "text": [
      "/opt/anaconda3/lib/python3.8/site-packages/ipykernel/ipkernel.py:287: DeprecationWarning: `should_run_async` will not call `transform_cell` automatically in the future. Please pass the result to `transformed_cell` argument and any exception that happen during thetransform in `preprocessing_exc_tuple` in IPython 7.17 and above.\n",
      "  and should_run_async(code)\n"
     ]
    }
   ],
   "source": [
    "W_svd_text_matrix = svd_text_model.fit_transform(tfidf_text_vectors)\n",
    "H_svd_text_matrix = svd_text_model.components_"
   ]
  },
  {
   "cell_type": "code",
   "execution_count": 41,
   "id": "f3845f13",
   "metadata": {},
   "outputs": [
    {
     "name": "stderr",
     "output_type": "stream",
     "text": [
      "/opt/anaconda3/lib/python3.8/site-packages/ipykernel/ipkernel.py:287: DeprecationWarning: `should_run_async` will not call `transform_cell` automatically in the future. Please pass the result to `transformed_cell` argument and any exception that happen during thetransform in `preprocessing_exc_tuple` in IPython 7.17 and above.\n",
      "  and should_run_async(code)\n"
     ]
    }
   ],
   "source": [
    "wine_df[\"svd_topic_text\"] = np.argmax(W_svd_text_matrix, axis = 1).astype(str)"
   ]
  },
  {
   "cell_type": "code",
   "execution_count": 43,
   "id": "f7e07c34",
   "metadata": {},
   "outputs": [
    {
     "name": "stdout",
     "output_type": "stream",
     "text": [
      "topic 0 observes original label counts of:\n",
      "Red Wine                   9594\n",
      "White Wine                 3620\n",
      "Champagne & Sparkling      1277\n",
      "Dessert, Sherry, & Port     664\n",
      "Rosé Wine                   358\n",
      "Name: category, dtype: int64\n",
      "\n",
      "topic 4 observes original label counts of:\n",
      "Red Wine                   1056\n",
      "White Wine                  563\n",
      "Champagne & Sparkling       260\n",
      "Dessert, Sherry, & Port     116\n",
      "Rosé Wine                    26\n",
      "Name: category, dtype: int64\n",
      "\n",
      "topic 6 observes original label counts of:\n",
      "Red Wine                   102\n",
      "White Wine                  85\n",
      "Rosé Wine                   14\n",
      "Champagne & Sparkling        7\n",
      "Dessert, Sherry, & Port      3\n",
      "Name: category, dtype: int64\n",
      "\n",
      "topic 1 observes original label counts of:\n",
      "Red Wine                   1138\n",
      "White Wine                   12\n",
      "Dessert, Sherry, & Port       6\n",
      "Rosé Wine                     5\n",
      "Champagne & Sparkling         2\n",
      "Name: category, dtype: int64\n",
      "\n",
      "topic 3 observes original label counts of:\n",
      "Red Wine                   88\n",
      "White Wine                  6\n",
      "Champagne & Sparkling       3\n",
      "Dessert, Sherry, & Port     3\n",
      "Name: category, dtype: int64\n",
      "\n",
      "topic 5 observes original label counts of:\n",
      "Champagne & Sparkling    279\n",
      "Red Wine                 128\n",
      "White Wine                17\n",
      "Rosé Wine                 10\n",
      "Name: category, dtype: int64\n",
      "\n",
      "topic 8 observes original label counts of:\n",
      "White Wine               13\n",
      "Red Wine                  2\n",
      "Champagne & Sparkling     1\n",
      "Rosé Wine                 1\n",
      "Name: category, dtype: int64\n",
      "\n",
      "topic 9 observes original label counts of:\n",
      "Red Wine                   313\n",
      "Rosé Wine                   61\n",
      "White Wine                  36\n",
      "Dessert, Sherry, & Port     12\n",
      "Champagne & Sparkling        1\n",
      "Name: category, dtype: int64\n",
      "\n",
      "topic 7 observes original label counts of:\n",
      "Red Wine      182\n",
      "White Wine      3\n",
      "Name: category, dtype: int64\n",
      "\n",
      "topic 2 observes original label counts of:\n",
      "White Wine                 773\n",
      "Champagne & Sparkling      131\n",
      "Dessert, Sherry, & Port     13\n",
      "Rosé Wine                    4\n",
      "Name: category, dtype: int64\n",
      "\n"
     ]
    },
    {
     "name": "stderr",
     "output_type": "stream",
     "text": [
      "/opt/anaconda3/lib/python3.8/site-packages/ipykernel/ipkernel.py:287: DeprecationWarning: `should_run_async` will not call `transform_cell` automatically in the future. Please pass the result to `transformed_cell` argument and any exception that happen during thetransform in `preprocessing_exc_tuple` in IPython 7.17 and above.\n",
      "  and should_run_async(code)\n"
     ]
    }
   ],
   "source": [
    "#for loop that count the unique topic \n",
    "for label in wine_df['svd_topic_text'].unique():\n",
    "    print(f\"topic {label} observes original label counts of:\")\n",
    "    print(wine_df[wine_df['svd_topic_text'] == label]['category'].value_counts())\n",
    "    print()"
   ]
  },
  {
   "cell_type": "markdown",
   "id": "b89df500",
   "metadata": {},
   "source": [
    "The LSA model shows bias towards red wine when using description data with topic 0 having the highest cpunt for red wine"
   ]
  },
  {
   "cell_type": "markdown",
   "id": "aac0de10",
   "metadata": {},
   "source": [
    "## Fitting an LDA Model"
   ]
  },
  {
   "cell_type": "code",
   "execution_count": 44,
   "id": "3b7d0f9b",
   "metadata": {},
   "outputs": [
    {
     "name": "stderr",
     "output_type": "stream",
     "text": [
      "/opt/anaconda3/lib/python3.8/site-packages/ipykernel/ipkernel.py:287: DeprecationWarning: `should_run_async` will not call `transform_cell` automatically in the future. Please pass the result to `transformed_cell` argument and any exception that happen during thetransform in `preprocessing_exc_tuple` in IPython 7.17 and above.\n",
      "  and should_run_async(code)\n"
     ]
    }
   ],
   "source": [
    "lda_text_model = LatentDirichletAllocation(n_components = 10, random_state=42)"
   ]
  },
  {
   "cell_type": "code",
   "execution_count": 45,
   "id": "2bf58ea7",
   "metadata": {},
   "outputs": [
    {
     "name": "stderr",
     "output_type": "stream",
     "text": [
      "/opt/anaconda3/lib/python3.8/site-packages/ipykernel/ipkernel.py:287: DeprecationWarning: `should_run_async` will not call `transform_cell` automatically in the future. Please pass the result to `transformed_cell` argument and any exception that happen during thetransform in `preprocessing_exc_tuple` in IPython 7.17 and above.\n",
      "  and should_run_async(code)\n"
     ]
    }
   ],
   "source": [
    "#creating the matrix \n",
    "W_lda_text_matrix = lda_text_model.fit_transform(count_text_vectors)\n",
    "H_lda_text_matrix = lda_text_model.components_"
   ]
  },
  {
   "cell_type": "code",
   "execution_count": 46,
   "id": "5e5c6424",
   "metadata": {},
   "outputs": [
    {
     "name": "stderr",
     "output_type": "stream",
     "text": [
      "/opt/anaconda3/lib/python3.8/site-packages/ipykernel/ipkernel.py:287: DeprecationWarning: `should_run_async` will not call `transform_cell` automatically in the future. Please pass the result to `transformed_cell` argument and any exception that happen during thetransform in `preprocessing_exc_tuple` in IPython 7.17 and above.\n",
      "  and should_run_async(code)\n"
     ]
    }
   ],
   "source": [
    "#saving the matrix of the new topic \n",
    "wine_df[\"lda_topic\"] = np.argmax(W_lda_text_matrix, axis = 1).astype(str)"
   ]
  },
  {
   "cell_type": "code",
   "execution_count": 47,
   "id": "add415aa",
   "metadata": {},
   "outputs": [
    {
     "name": "stdout",
     "output_type": "stream",
     "text": [
      "topic 9 observes original label counts of:\n",
      "Red Wine                   740\n",
      "Champagne & Sparkling      275\n",
      "White Wine                  67\n",
      "Rosé Wine                   21\n",
      "Dessert, Sherry, & Port      7\n",
      "Name: category, dtype: int64\n",
      "\n",
      "topic 0 observes original label counts of:\n",
      "White Wine                 2195\n",
      "Red Wine                   1411\n",
      "Champagne & Sparkling       682\n",
      "Dessert, Sherry, & Port     206\n",
      "Rosé Wine                   135\n",
      "Name: category, dtype: int64\n",
      "\n",
      "topic 6 observes original label counts of:\n",
      "Red Wine                   4642\n",
      "Dessert, Sherry, & Port      77\n",
      "Rosé Wine                    18\n",
      "White Wine                   18\n",
      "Champagne & Sparkling         9\n",
      "Name: category, dtype: int64\n",
      "\n",
      "topic 5 observes original label counts of:\n",
      "Red Wine                   2910\n",
      "Dessert, Sherry, & Port      53\n",
      "White Wine                   27\n",
      "Champagne & Sparkling        22\n",
      "Rosé Wine                     9\n",
      "Name: category, dtype: int64\n",
      "\n",
      "topic 8 observes original label counts of:\n",
      "White Wine                 919\n",
      "Red Wine                   505\n",
      "Champagne & Sparkling      455\n",
      "Rosé Wine                  171\n",
      "Dessert, Sherry, & Port     90\n",
      "Name: category, dtype: int64\n",
      "\n",
      "topic 7 observes original label counts of:\n",
      "Red Wine                   1492\n",
      "White Wine                  676\n",
      "Champagne & Sparkling       153\n",
      "Dessert, Sherry, & Port      40\n",
      "Rosé Wine                    38\n",
      "Name: category, dtype: int64\n",
      "\n",
      "topic 1 observes original label counts of:\n",
      "Red Wine                   312\n",
      "Dessert, Sherry, & Port    172\n",
      "Champagne & Sparkling      135\n",
      "White Wine                  97\n",
      "Rosé Wine                   62\n",
      "Name: category, dtype: int64\n",
      "\n",
      "topic 3 observes original label counts of:\n",
      "White Wine                 545\n",
      "Red Wine                   303\n",
      "Champagne & Sparkling       97\n",
      "Dessert, Sherry, & Port     41\n",
      "Rosé Wine                   12\n",
      "Name: category, dtype: int64\n",
      "\n",
      "topic 2 observes original label counts of:\n",
      "White Wine                 450\n",
      "Red Wine                   110\n",
      "Dessert, Sherry, & Port     66\n",
      "Champagne & Sparkling       36\n",
      "Rosé Wine                   13\n",
      "Name: category, dtype: int64\n",
      "\n",
      "topic 4 observes original label counts of:\n",
      "Red Wine                   178\n",
      "White Wine                 134\n",
      "Champagne & Sparkling       97\n",
      "Dessert, Sherry, & Port     65\n",
      "Name: category, dtype: int64\n",
      "\n"
     ]
    },
    {
     "name": "stderr",
     "output_type": "stream",
     "text": [
      "/opt/anaconda3/lib/python3.8/site-packages/ipykernel/ipkernel.py:287: DeprecationWarning: `should_run_async` will not call `transform_cell` automatically in the future. Please pass the result to `transformed_cell` argument and any exception that happen during thetransform in `preprocessing_exc_tuple` in IPython 7.17 and above.\n",
      "  and should_run_async(code)\n"
     ]
    }
   ],
   "source": [
    "#for loop that count the unique topic \n",
    "for label in wine_df['lda_topic'].unique():\n",
    "    print(f\"topic {label} observes original label counts of:\")\n",
    "    print(wine_df[wine_df['lda_topic'] == label]['category'].value_counts())\n",
    "    print()"
   ]
  },
  {
   "cell_type": "markdown",
   "id": "16093bd3",
   "metadata": {},
   "source": [
    "topic 0 has th best descrioption for the wine types it has the close observation count to the original were topic 6 and 5 are specific to wine types. 6 focuses on red wines and topic 5 is focused on white and champagne"
   ]
  },
  {
   "cell_type": "code",
   "execution_count": 48,
   "id": "bc137268",
   "metadata": {},
   "outputs": [
    {
     "name": "stderr",
     "output_type": "stream",
     "text": [
      "/opt/anaconda3/lib/python3.8/site-packages/ipykernel/ipkernel.py:287: DeprecationWarning: `should_run_async` will not call `transform_cell` automatically in the future. Please pass the result to `transformed_cell` argument and any exception that happen during thetransform in `preprocessing_exc_tuple` in IPython 7.17 and above.\n",
      "  and should_run_async(code)\n"
     ]
    }
   ],
   "source": [
    "lda_display = pyLDAvis.sklearn.prepare(lda_text_model, count_text_vectors, count_text_vectorizer, sort_topics=False)"
   ]
  },
  {
   "cell_type": "code",
   "execution_count": 49,
   "id": "c623fc4c",
   "metadata": {},
   "outputs": [
    {
     "name": "stderr",
     "output_type": "stream",
     "text": [
      "/opt/anaconda3/lib/python3.8/site-packages/ipykernel/ipkernel.py:287: DeprecationWarning: `should_run_async` will not call `transform_cell` automatically in the future. Please pass the result to `transformed_cell` argument and any exception that happen during thetransform in `preprocessing_exc_tuple` in IPython 7.17 and above.\n",
      "  and should_run_async(code)\n"
     ]
    },
    {
     "data": {
      "text/html": [
       "\n",
       "<link rel=\"stylesheet\" type=\"text/css\" href=\"https://cdn.jsdelivr.net/gh/bmabey/pyLDAvis@3.3.1/pyLDAvis/js/ldavis.v1.0.0.css\">\n",
       "\n",
       "\n",
       "<div id=\"ldavis_el870631402270118507525339189360\"></div>\n",
       "<script type=\"text/javascript\">\n",
       "\n",
       "var ldavis_el870631402270118507525339189360_data = {\"mdsDat\": {\"x\": [0.17076188351961166, -0.15588872041226684, -0.07164002472844781, -0.03829023521143832, -0.07630719189050428, 0.18100706347522, 0.11016047810369349, -0.30458035736579603, 0.11763742637884801, 0.0671396781310807], \"y\": [0.07857538943300355, -0.07893714191009699, 0.21021902587675925, 0.11505584217482719, -0.004049622681299597, -0.12646643453184755, -0.06907470951884369, -0.07490797766676632, 0.08918084002592735, -0.13959521120166327], \"topics\": [1, 2, 3, 4, 5, 6, 7, 8, 9, 10], \"cluster\": [1, 1, 1, 1, 1, 1, 1, 1, 1, 1], \"Freq\": [13.319964513079164, 6.172054807090211, 3.951976388223557, 6.58156970277282, 4.555530627525814, 12.45075823628418, 21.66663014464872, 11.58744750905539, 12.421726815919492, 7.292341255400673]}, \"tinfo\": {\"Term\": [\"red\", \"sauvignon\", \"cabernet\", \"tannins\", \"black\", \"blanc\", \"ruby\", \"white\", \"wine\", \"yellow\", \"citrus\", \"blend\", \"dark\", \"pinot\", \"fresh\", \"merlot\", \"vineyard\", \"color\", \"cherry\", \"intense\", \"flavors\", \"lemon\", \"notes\", \"nose\", \"grenache\", \"years\", \"noir\", \"crisp\", \"franc\", \"dishes\", \"greenish\", \"perlage\", \"straw\", \"acacia\", \"bubble\", \"broom\", \"greedy\", \"bluish\", \"starters\", \"garnacho\", \"yellow\", \"tint\", \"terrine\", \"charlemagne\", \"limes\", \"froth\", \"crustaceans\", \"glimmers\", \"bream\", \"cheery\", \"acidulous\", \"releasing\", \"sandeman\", \"arinto\", \"saintes\", \"closing\", \"perceive\", \"russet\", \"holding\", \"scallop\", \"fleshed\", \"clear\", \"shades\", \"pale\", \"prosecco\", \"silver\", \"golden\", \"transport\", \"flowers\", \"discrete\", \"pleasant\", \"gold\", \"citrus\", \"peach\", \"green\", \"white\", \"fruity\", \"honey\", \"delicate\", \"peaches\", \"brilliant\", \"mineral\", \"aperitif\", \"fresh\", \"aftertaste\", \"apricot\", \"light\", \"nose\", \"floral\", \"color\", \"persistent\", \"notes\", \"fruits\", \"palate\", \"aromas\", \"finish\", \"acidity\", \"fish\", \"balanced\", \"fruit\", \"fine\", \"hints\", \"elegant\", \"wine\", \"long\", \"intense\", \"touriga\", \"tinta\", \"fonseca\", \"stay\", \"glasses\", \"nacional\", \"lo\", \"macabeo\", \"xarel\", \"rolle\", \"continuum\", \"franca\", \"jacket\", \"parellada\", \"pedro\", \"roriz\", \"symphony\", \"cinsault\", \"sold\", \"quinta\", \"closure\", \"ounce\", \"crescendo\", \"cha\", \"teau\", \"soleras\", \"corkscrew\", \"refrigerator\", \"standard\", \"unico\", \"tawny\", \"mourv\\u00e8dre\", \"port\", \"provence\", \"grenache\", \"stored\", \"ice\", \"pour\", \"mourvedre\", \"appreciate\", \"pleasure\", \"serving\", \"clicquot\", \"syrah\", \"years\", \"carignan\", \"age\", \"20\", \"de\", \"champagne\", \"rare\", \"bottle\", \"year\", \"15\", \"old\", \"wine\", \"blend\", \"10\", \"ros\\u00e9\", \"wines\", \"30\", \"best\", \"style\", \"complexity\", \"grapes\", \"vintage\", \"great\", \"freshness\", \"fine\", \"fruit\", \"semillon\", \"veltliner\", \"vermouth\", \"gr\\u00fcner\", \"thirst\", \"se\\u00f1a\", \"marlborough\", \"resulted\", \"verdelho\", \"spritz\", \"ragnaie\", \"botanicals\", \"poured\", \"germany\", \"chenin\", \"verdejo\", \"passionfruit\", \"soave\", \"methode\", \"gruner\", \"luxuriant\", \"gin\", \"pfalz\", \"formal\", \"malartic\", \"sp\\u00e4tlese\", \"weft\", \"sands\", \"roman\", \"negroni\", \"blanc\", \"muscat\", \"s\\u00e9millon\", \"led\", \"kabinett\", \"lemongrass\", \"quenching\", \"gunflint\", \"gooseberry\", \"guava\", \"lambrusco\", \"lime\", \"alsace\", \"gris\", \"melon\", \"crisp\", \"tropical\", \"sauvignon\", \"zesty\", \"grass\", \"grapefruit\", \"refreshing\", \"honeydew\", \"viognier\", \"citrus\", \"riesling\", \"white\", \"blend\", \"acidity\", \"minerality\", \"lemon\", \"flavors\", \"fresh\", \"wine\", \"bright\", \"fruit\", \"green\", \"dry\", \"orange\", \"herbs\", \"aromas\", \"style\", \"classic\", \"great\", \"freshness\", \"recent\", \"detailed\", \"remelluri\", \"faceted\", \"june\", \"spikes\", \"moves\", \"rains\", \"deutz\", \"pistachio\", \"frost\", \"shimmers\", \"aligned\", \"celebration\", \"romitorio\", \"barn\", \"smacking\", \"synonymous\", \"announce\", \"bartlett\", \"rieussec\", \"praline\", \"universal\", \"dutton\", \"doubt\", \"formed\", \"underscores\", \"heft\", \"respects\", \"honeycomb\", \"steely\", \"aspects\", \"russian\", \"patient\", \"oregon\", \"weather\", \"verbena\", \"aromatically\", \"tantalizing\", \"previous\", \"lithe\", \"promises\", \"graham\", \"meyer\", \"river\", \"heat\", \"rain\", \"lemon\", \"energy\", \"chardonnay\", \"vintage\", \"jasmine\", \"curd\", \"zest\", \"2018\", \"wet\", \"texture\", \"orange\", \"wine\", \"aromatics\", \"2019\", \"richness\", \"stone\", \"blossom\", \"2021\", \"2016\", \"valley\", \"wines\", \"palate\", \"white\", \"fruit\", \"pear\", \"finish\", \"flavors\", \"acidity\", \"minerality\", \"notes\", \"long\", \"touch\", \"aromas\", \"complexity\", \"balance\", \"ripe\", \"vineyard\", \"apple\", \"fresh\", \"roederer\", \"corvina\", \"nerello\", \"lake\", \"rondinella\", \"climatic\", \"mascalese\", \"stress\", \"madeira\", \"thermal\", \"successive\", \"hydric\", \"conversely\", \"humid\", \"excesses\", \"closer\", \"rainfall\", \"abrilliant\", \"amplitudes\", \"erase\", \"leoville\", \"relayed\", \"corvinone\", \"progression\", \"manifests\", \"ravera\", \"intensifies\", \"pn\", \"swings\", \"seneca\", \"las\", \"cristal\", \"center\", \"healthy\", \"riesling\", \"marsanne\", \"hot\", \"montalcino\", \"amontillado\", \"period\", \"winter\", \"exceptional\", \"dry\", \"temperatures\", \"maturity\", \"summer\", \"freshness\", \"exceptionally\", \"style\", \"tension\", \"wine\", \"fruit\", \"year\", \"ageing\", \"pure\", \"mild\", \"champagne\", \"character\", \"years\", \"wines\", \"balance\", \"aromas\", \"rich\", \"palate\", \"aging\", \"intense\", \"vintage\", \"blend\", \"long\", \"acidity\", \"citrus\", \"notes\", \"flavors\", \"great\", \"fine\", \"mineral\", \"ripe\", \"finish\", \"pomerol\", \"serraboella\", \"joins\", \"sor\\u00ec\", \"reminding\", \"hare\", \"assorted\", \"association\", \"bourgneuf\", \"africa\", \"casserole\", \"ironstone\", \"legumes\", \"chavignol\", \"marionberries\", \"bends\", \"steeper\", \"jumping\", \"chinotto\", \"oaked\", \"accounted\", \"pomegranates\", \"tour\", \"fuisse\", \"grains\", \"lynch\", \"rotlay\", \"anchors\", \"parmigiano\", \"valtellina\", \"prunes\", \"colorino\", \"chianti\", \"barbaresco\", \"pecorino\", \"riserva\", \"balsamic\", \"drying\", \"cured\", \"classico\", \"ruby\", \"cherries\", \"plums\", \"red\", \"stewed\", \"blackcurrants\", \"blackberries\", \"dolcetto\", \"violet\", \"meats\", \"stews\", \"spices\", \"intense\", \"purple\", \"deep\", \"tannins\", \"lamb\", \"raspberries\", \"game\", \"licorice\", \"meat\", \"pepper\", \"color\", \"violets\", \"ripe\", \"beef\", \"black\", \"fruits\", \"notes\", \"nose\", \"elegant\", \"cheeses\", \"fruit\", \"roasted\", \"wine\", \"long\", \"structure\", \"soft\", \"palate\", \"hints\", \"aromas\", \"finish\", \"cherry\", \"balanced\", \"great\", \"complex\", \"fresh\", \"verdot\", \"sirah\", \"boysenberry\", \"espresso\", \"mulberry\", \"pencil\", \"inky\", \"cab\", \"94\", \"petit\", \"briary\", \"nibs\", \"cranberries\", \"huckleberry\", \"molasses\", \"bonarda\", \"mignon\", \"sandalwood\", \"bing\", \"saturated\", \"shavings\", \"sassafras\", \"dead\", \"liquor\", \"chaparral\", \"dusted\", \"dusty\", \"2019blend\", \"worthiness\", \"tannat\", \"petite\", \"cigar\", \"franc\", \"zinfandel\", \"mocha\", \"cabernet\", \"malbec\", \"blueberry\", \"merlot\", \"cedar\", \"plush\", \"cassis\", \"currant\", \"powder\", \"blackberry\", \"graphite\", \"dark\", \"sauvignon\", \"plum\", \"black\", \"clove\", \"cherry\", \"polished\", \"chocolate\", \"tannins\", \"baking\", \"raspberry\", \"blend\", \"spice\", \"finish\", \"palate\", \"red\", \"oak\", \"flavors\", \"aromas\", \"notes\", \"fruit\", \"vanilla\", \"wine\", \"long\", \"rich\", \"ripe\", \"deep\", \"nose\", \"planted\", \"tanks\", \"facing\", \"concrete\", \"tank\", \"ch\\u00e2teauneuf\", \"neutral\", \"altitude\", \"rocky\", \"stainless\", \"hectares\", \"biodynamic\", \"acre\", \"situated\", \"meters\", \"acres\", \"hectare\", \"barriques\", \"steel\", \"techniques\", \"fermented\", \"lieu\", \"plot\", \"unfined\", \"calcareous\", \"clusters\", \"garnatxa\", \"slope\", \"separately\", \"sulfur\", \"located\", \"exposure\", \"fermentation\", \"soils\", \"yeasts\", \"vines\", \"village\", \"steep\", \"sandy\", \"months\", \"vineyard\", \"harvested\", \"hand\", \"vineyards\", \"clay\", \"soil\", \"malolactic\", \"pape\", \"limestone\", \"du\", \"single\", \"south\", \"barrels\", \"grapes\", \"old\", \"bottling\", \"aged\", \"grown\", \"estate\", \"wines\", \"barrel\", \"french\", \"wine\", \"valley\", \"blend\", \"oak\", \"de\", \"years\", \"fruit\", \"year\", \"100\", \"cabernet\", \"pinot\", \"crab\", \"perignon\", \"si\\u00e8cle\", \"gouda\", \"tacos\", \"brie\", \"tomatoes\", \"cheddar\", \"roger\", \"comt\\u00e9\", \"cod\", \"avocado\", \"agreeable\", \"ratatouille\", \"pesto\", \"manchego\", \"chinese\", \"gaga\", \"gravenstein\", \"aggressive\", \"moroccan\", \"potato\", \"seasoning\", \"pol\", \"bolognese\", \"triple\", \"glazed\", \"cuv\\u00e9es\", \"salsa\", \"beaufort\", \"chicken\", \"salad\", \"pizza\", \"shrimp\", \"ham\", \"salmon\", \"sashimi\", \"goat\", \"halibut\", \"scallops\", \"pan\", \"bbq\", \"pork\", \"seared\", \"watermelon\", \"fried\", \"cream\", \"foods\", \"tomato\", \"asian\", \"sauce\", \"tuna\", \"pair\", \"pairs\", \"pasta\", \"grilled\", \"risotto\", \"dishes\", \"salads\", \"cheese\", \"enjoy\", \"versatile\", \"pinot\", \"seafood\", \"fish\", \"noir\", \"pairing\", \"flavors\", \"strawberry\", \"poultry\", \"creamy\", \"apple\", \"chardonnay\", \"food\", \"wine\", \"fresh\", \"lemon\", \"light\", \"aromas\", \"palate\", \"acidity\", \"finish\", \"fruit\", \"bright\", \"white\", \"notes\", \"oak\", \"balanced\", \"citrus\", \"rich\", \"hints\", \"red\", \"noirs\", \"flexible\", \"dame\", \"vinosity\", \"animal\", \"avaline\", \"orma\", \"sanford\", \"graacher\", \"feathered\", \"stoned\", \"taittinger\", \"delectably\", \"wanted\", \"benedict\", \"certan\", \"chaource\", \"acknowledged\", \"preservation\", \"ragout\", \"hollow\", \"recurring\", \"verging\", \"sleepy\", \"epoisses\", \"iv\", \"mains\", \"apertif\", \"gastronomy\", \"vinepair\", \"nero\", \"pinots\", \"avola\", \"gew\\u00fcrztraminer\", \"pleasantness\", \"grande\", \"barolo\", \"wehlener\", \"birds\", \"gourmet\", \"game\", \"sensual\", \"charming\", \"champagne\", \"noble\", \"laurent\", \"enriched\", \"pinot\", \"crus\", \"meunier\", \"noir\", \"grand\", \"meat\", \"courses\", \"burgundy\", \"cheeses\", \"truffles\", \"ros\\u00e9\", \"45\", \"garnet\", \"red\", \"roasts\", \"dishes\", \"potential\", \"elegance\", \"wine\", \"fine\", \"cru\", \"bouquet\", \"great\", \"color\", \"elegant\", \"de\", \"intense\", \"spicy\", \"rose\", \"aromas\", \"nose\", \"tannins\", \"ruby\", \"notes\", \"blend\", \"structure\", \"palate\", \"rich\", \"fruit\", \"complex\"], \"Freq\": [8633.0, 3358.0, 4601.0, 5159.0, 4478.0, 1070.0, 2296.0, 3238.0, 14367.0, 1539.0, 2250.0, 5518.0, 2836.0, 2368.0, 5374.0, 2110.0, 1699.0, 4799.0, 3543.0, 3381.0, 4338.0, 1500.0, 8226.0, 5049.0, 840.0, 1668.0, 1722.0, 1077.0, 1317.0, 1557.0, 173.13664845476092, 90.50522470035109, 714.7651674494056, 218.64704907554346, 28.28899928650563, 28.288993531374455, 23.428248738044392, 20.511876230380462, 57.66717353443431, 18.567702981858492, 1463.2191225584772, 16.62316475954627, 16.62312756647989, 20.306704277264206, 16.539635843818704, 14.658955206117078, 24.691997626509185, 13.707036237494894, 13.707016491080113, 13.706915174586245, 12.73489137293112, 12.734882134069244, 12.734877434347732, 12.734864014817225, 12.734576273672742, 12.728768443001002, 11.762741744951246, 11.762739511502666, 11.762705286259143, 11.762701664863746, 62.10589695169779, 312.2862910873282, 81.86290566769934, 800.2218524156276, 147.85282780835917, 49.409120691151806, 585.2913459031139, 19.51148881757817, 801.4325436950418, 33.08507281715996, 528.5670010734083, 371.4538479790316, 1280.7115173888785, 702.0925269700493, 748.3879343029154, 1707.0706130458573, 901.1668378588365, 365.87420437666873, 1008.2896093667564, 163.53321223686936, 309.99166709419677, 812.9270810588837, 362.43385537158747, 2152.4222470930727, 265.5744724021759, 298.37996921516896, 761.8518540639105, 1760.7598236095957, 735.7585401079191, 1604.2247198254784, 600.6719830653926, 2242.3517992841666, 1127.7556890697354, 1986.9347446029333, 1883.027291471506, 1615.402232590901, 1021.0575229283675, 485.8678671352098, 911.4452331900566, 1382.267863244764, 708.1992556311693, 746.187029148122, 789.789418391663, 1339.4163867934535, 757.4246550247627, 728.0669597140569, 99.1949416015579, 58.155647011888284, 58.12494737987269, 55.152716003101915, 57.119015084783996, 51.14894352854759, 40.13839595487435, 39.137424183444914, 38.13647932983294, 37.13495227470722, 37.13001263751675, 34.13266079607618, 33.13171601236303, 33.13170176963102, 32.13070069010705, 29.12787457297088, 24.12299403188584, 221.82537594721853, 24.10947648053855, 59.75314128081288, 22.12112595025787, 20.11925112406327, 20.119114356261647, 19.118299750996215, 19.118299750996215, 19.118288349033392, 18.11734055603789, 18.117340556037412, 18.117309087545713, 17.11636575169107, 214.35802238333804, 240.40874521526806, 254.46260821392346, 84.27978857560932, 593.6629985858707, 37.7748265042496, 103.36732411027953, 29.844489305544204, 79.74387910302787, 47.30597035680935, 88.53469888746069, 64.40935079749971, 74.94154816834626, 377.2540779187518, 560.4780805318773, 72.32453964281247, 284.67445794958877, 278.4672183662293, 299.3817591889862, 222.45095047940313, 100.93157038720196, 210.7664992091138, 242.06808504192853, 193.74297764165397, 258.62597362934036, 1132.7342656618998, 581.8136274379408, 243.27610861693609, 201.6963167308108, 294.3170918686505, 180.15604658608797, 188.0672425887362, 193.6227481827849, 222.9600793297478, 206.22527012203747, 208.58403028755424, 223.58419955108693, 208.66780928436543, 213.35809894389598, 267.5116309386691, 121.32098675745132, 80.57506550618093, 76.5004718617007, 71.40723250474124, 33.54323260919565, 24.54941282638539, 75.45424680240275, 21.49117935288472, 20.474786247025097, 20.474697910485006, 19.456180051922967, 19.456156022015612, 18.4374663579131, 18.43742288336503, 103.15744096505212, 15.381552497257138, 82.42697506958338, 14.362915298065447, 14.36290621106902, 13.344264195136958, 12.325630517867795, 12.325610062891117, 12.325597992428111, 12.325574966171947, 11.306984621297564, 11.30697056913967, 11.306844887364013, 11.306788446967921, 13.16548216953599, 10.288333644987096, 902.4154506461197, 54.64138741767981, 62.786460174984384, 33.05762393979898, 30.584555239816087, 86.57114693711932, 35.19081500478028, 22.09375889293262, 71.87700399808136, 97.05944800142706, 21.79166906926811, 302.93306328636453, 38.25887140527027, 75.34888776977216, 148.20844233088224, 301.9599714495993, 213.3987218028186, 650.209606666343, 86.65098990521558, 67.16706705157006, 184.28386212619986, 234.0802532187483, 63.858314438885856, 77.24088468920228, 289.8481222196619, 128.12479142246605, 286.38912754435785, 367.6344224817326, 305.83095267192476, 186.58686968024986, 191.8224338638627, 299.23636996083275, 324.8868937609796, 463.0926618844233, 232.5921356730818, 320.5385174155022, 164.43761939235725, 171.4031279436455, 141.67698945658782, 121.57176677497287, 177.7226915321084, 121.58714983642727, 120.5049190867595, 119.88827497008731, 118.13962406912991, 35.28517288004971, 29.253396272352234, 28.248259971661742, 23.2218208346753, 23.22180660864482, 21.210707907815767, 20.20597650111519, 35.52310402939753, 18.19550750805752, 18.195492510690325, 17.190215334505492, 17.190169971210995, 17.190129256817936, 16.184843934548635, 15.179663910641871, 15.179515227044236, 14.174355975917983, 14.174340769845353, 13.169116610318646, 13.16909035276992, 13.169059800457573, 27.179766838442614, 12.163850940318936, 12.163839130310723, 12.163796572562834, 12.163790565312668, 12.163782168073082, 12.163767563724766, 12.1616167414719, 28.80551567651984, 35.52956070354381, 20.107857653834643, 91.86097610164245, 20.784833202583023, 43.26443530938579, 68.5794425726303, 41.98864090331669, 45.40668115670288, 32.73733074950108, 40.239702171395926, 34.21473050756338, 46.99884348428217, 81.42918536100517, 109.8153066863998, 147.85139405742385, 55.04882369966831, 32.93153776963047, 481.54055188636306, 98.74801352204528, 506.4835505334739, 480.0876023388081, 101.14983851073234, 74.91207595455383, 159.1172270918037, 204.9473536370576, 114.81771668372204, 362.89646560446187, 232.60540255545436, 1193.9294926577788, 148.06962033345485, 172.40244317983903, 178.993512853834, 175.44273325493197, 136.01255506225942, 109.92963461137289, 89.51965412617203, 175.44373035596675, 236.621123504501, 502.03460582284566, 321.7213901716551, 510.26212030193636, 182.7375853855153, 385.4656338900775, 313.56932996533817, 297.038521362566, 193.95352344755986, 370.20875627594563, 267.08778810040826, 167.34525833032282, 297.1426152873584, 183.15628772295253, 186.12150880466285, 215.83359089145455, 173.92334950453255, 165.5166126674267, 177.70687370023444, 83.31036552710363, 44.21155559685575, 41.20398898847177, 40.19747841701368, 37.19385203129797, 30.176180351180747, 30.176134635908944, 28.17112392097718, 26.16595662656772, 24.16100715047104, 26.06896271056876, 23.15847306896754, 22.155946366888607, 22.155915086575224, 21.153394703022748, 20.15086385885323, 20.150849733023318, 19.148351854735616, 19.148351854735616, 19.148351854735616, 19.148351854735616, 19.148351854735616, 19.148313239893675, 19.148304662624632, 17.143262689072383, 16.140733621749675, 16.140703935195358, 15.13822086044995, 15.138218136375983, 15.128023901775705, 35.138843256231674, 45.214204502042236, 61.21058045525164, 39.445075517159175, 276.5819068612351, 41.26285962972536, 97.00646367531895, 83.1887503937838, 35.749303044549364, 47.62290199963344, 63.293143991599074, 127.1974380900159, 291.83991731345304, 65.75693736439257, 79.14796918462852, 124.5207375772718, 262.8299918852689, 50.19974302396048, 172.90593017153444, 85.72817859278769, 698.1781951896547, 521.1035783734808, 153.596330074672, 107.6005144866754, 122.54714726942564, 72.73044588734217, 112.9977021168454, 141.14149423754725, 162.71685359099732, 162.9670165785715, 154.7292922710373, 274.198389766364, 199.1221734365656, 255.4032000182951, 120.22851831293971, 185.37244767490225, 144.58273187364804, 208.51768811396963, 181.52573238708317, 176.56827458790224, 144.56716407403093, 191.70680554149143, 161.30883053696346, 141.89610475433167, 136.35910277695916, 124.85816260026974, 128.58573217585442, 124.2217909588823, 33.96144470787624, 26.063488016422056, 21.550283970192183, 20.42204706341458, 20.41860263081683, 20.40994901407158, 18.165322895630858, 17.037126197185767, 17.037122179157656, 17.03683580340493, 17.03680144244408, 15.90869210122969, 14.78055160730771, 14.780466191503189, 13.652307379885327, 13.65230205527847, 13.652298840955577, 13.652290546604494, 13.652289416211113, 13.651826124379403, 12.52402275766231, 12.523977888793443, 12.52392495105157, 12.523726501482459, 12.52368512925139, 11.395700520183425, 11.39568873772312, 11.395671149329777, 11.395660504102253, 11.395597727784681, 43.33045377860498, 33.05244347120143, 151.19005569628135, 102.35055561606409, 47.494411328566244, 104.34932065383137, 311.69013093576336, 26.666429045251956, 108.8422672950642, 113.30286421977058, 1504.3950975383943, 818.6508565597119, 403.7477553606494, 4130.506998438482, 74.76412279855464, 75.90011439688416, 339.3512327659736, 32.73528815426547, 568.2886330001227, 597.1220179089731, 101.50944562894195, 862.721837477061, 1447.1046602230683, 514.7450332116256, 917.2667428463125, 1831.931863009551, 272.7543644745762, 257.51624013796567, 359.1434463076225, 451.16647379100965, 440.23069169409945, 514.3802538931646, 1331.2783532966218, 299.0835882668868, 1032.3282719869787, 209.80907527404756, 1115.1971662447152, 897.7680979677258, 1682.4170030053804, 1165.8555210343843, 862.7511914744784, 435.33394789442775, 1489.8697958853816, 390.2335188292091, 1823.296972611893, 841.1031815842539, 615.8222090985638, 544.1067076835707, 1099.7804246837825, 658.2228845936547, 1039.8620240346427, 917.6385992343819, 670.8843848009616, 655.8475932164143, 564.21491707121, 539.5116341464761, 538.2367129335668, 951.8988396838884, 249.4073296643101, 223.90918454737243, 133.25019782879096, 113.40547984320202, 76.5880926723218, 91.52033625380489, 42.590920099437966, 45.35571981916371, 1002.963890066074, 34.09160469631959, 32.202901137259346, 36.64544195246143, 27.481074082010306, 27.48028242232247, 26.536582691835417, 25.591915614836232, 95.23001924231798, 107.6053360867431, 50.90996699670596, 61.85693314972141, 19.92450319381854, 18.981718188779116, 18.981620229313616, 18.037399777193922, 18.037346067229596, 119.65570645899444, 17.09304606050152, 17.0929745157687, 37.67840268021979, 291.18536774554843, 122.25227667364088, 1211.9611978410842, 267.3649200975656, 295.34363923849975, 4156.10363211977, 620.4575906635899, 544.8695692153844, 1874.7186635878195, 551.4491851042076, 262.0244337273333, 622.6088628388499, 527.0581855086152, 107.81397954593444, 1234.3079400658532, 261.9980146610664, 2220.968137189406, 2504.303717498177, 1192.2156980586644, 3140.8320545605825, 323.95396100503035, 2356.7723574525185, 197.63044653037588, 922.247547811023, 2825.8354904942194, 337.3517690518573, 791.0074691282664, 2649.9830134061954, 1187.4739926099767, 2377.384033168924, 2468.6137042147807, 2483.213537810592, 1064.2714583131249, 1525.2574386282736, 2197.6555683172523, 2256.8053687712695, 2335.8249028467594, 908.9594105867454, 2578.6808898304894, 1285.5750082411053, 1174.458387108145, 1138.62833297051, 885.1026001252118, 1121.305918454741, 450.49610313199963, 199.73166414988944, 146.62721830702785, 132.85939669620706, 130.89257812795051, 111.22422348779078, 107.29056888150572, 120.91804928726943, 91.55590801503111, 314.00656789951154, 71.88764284610178, 70.9042363367914, 70.90423564904503, 72.82020737388129, 65.00374594057001, 64.02030026521419, 63.036915762876234, 60.084848729924495, 335.4689845944291, 50.2524446728742, 445.3380157332951, 48.2856899147602, 48.28559060540893, 51.175055970029355, 51.12761361665295, 45.335394358014156, 44.35201363877103, 132.20810715737343, 42.38518736302914, 41.40175998052404, 287.097265002959, 87.09382773499838, 508.9946769116427, 572.4734881314275, 117.73791305114251, 875.7285470271754, 233.41025632458212, 127.11350123490071, 134.98457982183757, 646.6072168698422, 1350.5571167507778, 274.5283012017802, 312.3405603025312, 866.7689431718862, 293.3446256547362, 446.5031950897192, 117.54496808977495, 140.9678731283121, 297.40282436577365, 241.6141373154017, 206.90700363497544, 232.58658796139446, 432.8412768360348, 879.8341670693588, 694.5700211161975, 199.92170096419355, 649.614403796499, 344.3242412819506, 468.85695337453853, 689.6641800143958, 369.0847195560911, 375.51953692523807, 1895.600072376778, 379.19270474586375, 773.342144337767, 542.7914911268092, 365.586905232857, 409.62048231286025, 525.5346367601967, 335.17811941425674, 342.6703243848972, 391.54966608528747, 353.0913818867076, 71.24245884658542, 47.852344293513376, 39.08076097744421, 38.061179912881755, 37.10042812358342, 34.20802929063651, 34.20793859329524, 31.284274121686682, 29.33500342147983, 27.38590898545871, 25.436711242867602, 24.462147233440795, 23.487514295039894, 22.512920735405086, 21.53838186974476, 21.538376721567495, 25.257886388102516, 20.56383838269332, 20.56375731877069, 20.56369416406465, 19.589196624284263, 19.589190302757558, 19.589138616982538, 19.589127819603757, 19.54754037325824, 18.61462912415452, 18.614610867552173, 18.61454271231255, 18.6140347253952, 17.639977384831113, 479.85740056228923, 138.80419547202206, 129.89093838085233, 72.12895902749514, 67.14431359240089, 343.3731378316313, 47.90824203388821, 126.84934770249377, 31.026029156112006, 88.83048380471914, 49.428898541555704, 75.34126051794524, 314.49045444734514, 66.0062981118055, 65.91670778534653, 112.59758294854731, 273.0038999537469, 183.7576889121057, 100.00433432367517, 205.48456383027195, 302.71416093522186, 80.9915458506339, 673.08220684671, 558.6010199040917, 354.7333235988671, 697.5343246868061, 114.19413918716437, 798.3778612016296, 188.3027952689368, 415.9799597047579, 317.96188081869064, 189.92986347307655, 1039.387143335874, 371.17108682603043, 511.78733962132816, 719.277810147848, 206.86859120690295, 1335.6517147557624, 406.3558458227459, 203.9242458744971, 369.2719801762461, 504.174674447097, 627.2693408773986, 293.84497323094615, 1949.813665295088, 1088.5464716116294, 511.15860001574566, 532.8177702205735, 1273.6249066261923, 1253.5017670486247, 831.5431678011381, 1083.9339275975474, 1198.6912300724503, 643.6496955609049, 654.7716278421818, 887.6619015805777, 530.6118771705356, 522.2812520757791, 446.4038821550095, 466.4242157647413, 411.591603810481, 423.22893391828046, 75.90791697082024, 30.168206345560648, 29.228382709658714, 26.408848633504576, 24.52735904739861, 22.64960025050291, 21.709805534536248, 18.89029369973165, 18.890293660110604, 17.950533457675014, 17.946900198548935, 17.01073281399538, 17.010709302481306, 17.010645685685628, 17.01063064315011, 17.010601039568968, 16.07091708393965, 16.070904566353867, 16.070902241292856, 16.07086102627948, 16.070540310040048, 15.131084672899517, 15.131053850762799, 15.130957247615587, 15.078850545710132, 14.191286712507225, 14.191285215558894, 14.191264115563808, 14.191229449589258, 14.153427414924371, 59.59075448040157, 25.427372209660735, 23.487866307596622, 22.500756167870403, 24.042278517413514, 68.03190971350743, 159.28475945861146, 22.887371924391157, 57.96712384835076, 41.51805961683508, 404.49830116679607, 49.00492625015296, 101.4549410490435, 324.6202590157824, 108.45046277308485, 45.120357891413, 40.31137859635183, 762.531774027329, 96.39750206786948, 135.95931373962873, 551.0139452408744, 178.40171564487682, 364.34406057506294, 75.72111672718354, 100.66965757108981, 372.12220986373984, 63.61146008722649, 244.5115642750424, 90.62303356352298, 256.2192358961915, 1157.0489618494669, 84.7554511447102, 349.4232593215724, 165.890594975374, 273.79586623887815, 1293.2420618651502, 413.66143011199944, 144.09811019248815, 264.996103762129, 334.6750218348575, 484.8180513202405, 401.9037236412639, 224.03215980723547, 395.70023757330375, 285.23364815788943, 195.76963242820912, 518.0235834657213, 416.39384696845775, 410.85782943179237, 281.28200369173567, 447.3541968006093, 378.7834818849944, 266.245471180121, 387.6212510166553, 290.85079870103385, 347.3313454183892, 255.2782039552549], \"Total\": [8633.0, 3358.0, 4601.0, 5159.0, 4478.0, 1070.0, 2296.0, 3238.0, 14367.0, 1539.0, 2250.0, 5518.0, 2836.0, 2368.0, 5374.0, 2110.0, 1699.0, 4799.0, 3543.0, 3381.0, 4338.0, 1500.0, 8226.0, 5049.0, 840.0, 1668.0, 1722.0, 1077.0, 1317.0, 1557.0, 174.03646558527555, 91.40526218763628, 722.3356276557861, 221.60032984792014, 29.18882595088855, 29.188828653342814, 24.328178994426633, 21.41178155571041, 60.301420121418424, 19.46750754275059, 1539.2831673919416, 17.52325098355071, 17.52325972630506, 21.418769723612737, 17.52346468751791, 15.579670316546435, 26.249808982079283, 14.606848831097766, 14.606848643072718, 14.60686029788261, 13.634720119230154, 13.634718073441977, 13.634719943928346, 13.634718482142347, 13.63472082578903, 13.634656805427813, 12.662587776952023, 12.66258782380684, 12.662587327281532, 12.662587963023215, 67.22997218178863, 362.40350440933975, 93.46047341416967, 987.6524304816008, 175.20152187430415, 56.448408083580915, 764.094233208057, 21.423386111882277, 1163.0568891184753, 38.05992607292741, 754.0025304200648, 522.7750095622631, 2250.639384246294, 1178.340639210221, 1277.3547747017378, 3238.1551941454363, 1683.9583890234592, 601.2360042055213, 1930.4657194566726, 239.4747883419089, 510.8337244094869, 1597.9286864251749, 634.5729026471213, 5374.371802372661, 440.18819931235873, 509.36130218352025, 1642.0560107725169, 5049.482624758746, 1680.0462115884068, 4799.505708712662, 1327.7599553266898, 8226.98285532467, 3297.4305859628157, 8168.513098235571, 7785.846908830257, 6825.355847499864, 3939.3776598092495, 1072.4235106006313, 3459.0653471290234, 8898.93562125753, 2299.922058877102, 2836.1078563864544, 3342.7197430413717, 14367.984664166606, 3898.30426828324, 3381.331148391607, 100.09188758456722, 59.052592533569126, 59.05085437499741, 56.04971779248492, 58.0506052838251, 52.045883239343304, 41.035339873689615, 40.034381284361224, 39.033423254442596, 38.03253701278243, 38.032152861618194, 35.02959002242646, 34.02863125402159, 34.02863067382835, 33.027672278356285, 30.02479812040112, 25.02000535517745, 230.08513936048135, 25.019646604321405, 62.06090533717303, 23.018090934463718, 21.016171611210073, 21.016167383993125, 20.01521336891272, 20.01521336891272, 20.015212803025303, 19.014254780046993, 19.01425478004699, 19.01425425605347, 18.013296006043856, 226.0691234429337, 253.91903007919623, 271.51097640612625, 94.89253476875938, 840.5999552273196, 41.970764159318925, 132.23331491952572, 33.06807677276752, 104.49014647680194, 57.79218131691897, 135.16272718848208, 90.12734663880566, 110.82816253475158, 955.4320042100611, 1668.120236986856, 106.77130407262247, 804.7440692871878, 828.7793497021463, 1071.5551321266064, 669.498933954753, 196.708755551824, 675.4346682538389, 855.1435113546855, 612.7157545340964, 1075.8312885679545, 14367.984664166606, 5518.149752219439, 1057.5415853833983, 740.1831371115021, 1674.9295098300913, 634.6407739249169, 815.5216927771523, 955.2573189099111, 1437.3125136815388, 1365.1210801069483, 1735.2512159637708, 2307.941233627801, 1872.167716007189, 2299.922058877102, 8898.93562125753, 122.21615609490132, 81.47022220115076, 77.39562917823872, 72.30238717287375, 34.60445238509482, 25.444562577915363, 78.34019076314131, 22.388519911223753, 21.36996873938661, 21.36996450524853, 20.351321963482874, 20.35132120455371, 19.33267058686265, 19.332671168522584, 108.80351697718362, 16.276726709554694, 87.51794041095278, 15.258079178649746, 15.25807879483191, 14.239430514913565, 13.22078421176597, 13.220782370519508, 13.220782099643113, 13.220783186158425, 12.202134519718655, 12.20213426469766, 12.202141917762289, 12.202132973368418, 14.231271238089882, 11.183486127236318, 1070.0096149222172, 61.922712857526975, 72.16181538223775, 38.52312693592449, 35.56536480585989, 110.19634395224632, 42.637603754810975, 25.337600124963764, 96.9732979173721, 138.72905233254696, 25.318631979315516, 596.1607347429184, 55.022638160350425, 136.01086180020454, 371.8617548983205, 1077.0998218229972, 659.3281880572191, 3358.687789889498, 181.27114030711363, 125.59918236972472, 597.416071268704, 917.9096843419217, 123.92353266423015, 178.88580665613864, 2250.639384246294, 548.9053201246952, 3238.1551941454363, 5518.149752219439, 3939.3776598092495, 1399.6476184179055, 1500.452148333582, 4338.409131106205, 5374.371802372661, 14367.984664166606, 2652.8527021629934, 8898.93562125753, 1277.3547747017378, 1510.5840066447568, 965.0774279980084, 919.0496915963678, 7785.846908830257, 955.2573189099111, 1043.935145052211, 2307.941233627801, 1872.167716007189, 36.18169683292452, 30.150030175908217, 29.144757873776214, 24.118374110925263, 24.118381577461136, 22.107891396397942, 21.102541729084614, 37.170846409388744, 19.09198857904128, 19.091988521734844, 18.086711715121705, 18.086710838623134, 18.086705538709996, 17.08143408567157, 16.076158152583517, 16.07617206670877, 15.070880256144262, 15.070880289536872, 14.065603761871584, 14.065603136395586, 14.06560423232507, 29.13632149790353, 13.060326820918469, 13.060326653986396, 13.060327273133646, 13.060327894145367, 13.060327155383382, 13.060328202093684, 13.060317095291097, 31.11094803441536, 40.110623614534546, 22.12249553950411, 110.16659799161305, 23.08195966301707, 51.04412235682515, 86.99227272848668, 51.03718524059029, 55.68237848346525, 38.88691533885498, 50.05132863674782, 42.10351915460671, 61.82728967021273, 119.45370873989494, 172.9323444112656, 259.85206912668116, 77.2520441269628, 41.306245139762744, 1500.452148333582, 188.64918093511287, 1817.953888644326, 1735.2512159637708, 204.68583543665446, 142.10259389591837, 433.54670816707426, 654.5945165517358, 278.00106792721783, 1733.4787672478506, 965.0774279980084, 14367.984664166606, 485.62725421308875, 629.0790266589797, 676.7177835461474, 689.3406441313355, 446.87964574579496, 321.78806364265233, 226.27527620368508, 882.1365008282512, 1674.9295098300913, 8168.513098235571, 3238.1551941454363, 8898.93562125753, 1018.3140694571159, 6825.355847499864, 4338.409131106205, 3939.3776598092495, 1399.6476184179055, 8226.98285532467, 3898.30426828324, 1013.7716024493216, 7785.846908830257, 1437.3125136815388, 1708.9968439050065, 3677.5672606001954, 1699.93076521776, 1280.185019425627, 5374.371802372661, 84.20711887301155, 45.10839142837367, 42.10079528241473, 41.09818721793127, 38.09066873971976, 31.072948742920794, 31.07294863043901, 29.067885327794116, 27.062823483725477, 25.057759437637074, 27.056760383141043, 24.055228042131297, 23.05269641142164, 23.052697392748012, 22.05016453306497, 21.047633189909217, 21.04763344910183, 20.045101853119547, 20.045101853119547, 20.045101853119547, 20.045101853119547, 20.045101853119547, 20.045101048572082, 20.045102330858523, 18.04003936870031, 17.037507884034575, 17.037505846313522, 16.034975572290303, 16.0349758976493, 16.03478154010995, 38.348450904501966, 53.11763003576021, 79.283481254988, 50.47901839646187, 548.9053201246952, 55.86973585361051, 194.38700420248924, 177.34031916617863, 51.10086194205792, 81.8039011223413, 130.9547260016069, 401.408192105127, 1510.5840066447568, 147.72055305034914, 203.1354764448477, 442.1985158336112, 1872.167716007189, 98.7924828035034, 955.2573189099111, 265.5794045308417, 14367.984664166606, 8898.93562125753, 855.1435113546855, 474.5907775035336, 628.2574089175972, 224.21470635124058, 669.498933954753, 1149.933536485495, 1668.120236986856, 1674.9295098300913, 1708.9968439050065, 7785.846908830257, 3463.6605170697403, 8168.513098235571, 943.3775053189445, 3381.331148391607, 1735.2512159637708, 5518.149752219439, 3898.30426828324, 3939.3776598092495, 2250.639384246294, 8226.98285532467, 4338.409131106205, 2307.941233627801, 2299.922058877102, 1597.9286864251749, 3677.5672606001954, 6825.355847499864, 34.84570574790591, 26.947682024734203, 22.434514107578664, 21.306230987607957, 21.305675194811915, 21.304864046635476, 19.049631146447815, 17.921352231725702, 17.921352569940964, 17.921322501531243, 17.921314695195903, 16.793044507223453, 15.664772399480952, 15.664763129317006, 14.536488097229121, 14.53648764309919, 14.536487213466968, 14.53648537320538, 14.53648594186216, 14.536432967189382, 13.408198449926815, 13.408191203139861, 13.408186951132087, 13.408159649392339, 13.40815663265273, 12.279903257809544, 12.279902412131747, 12.27989961128376, 12.27989830135351, 12.27989164818522, 46.76257118593114, 35.74489264956904, 169.91232739469305, 114.25162114758244, 52.29186598133126, 119.8145739014906, 382.9996722930451, 29.95359270960819, 133.79037881422582, 139.98114017864276, 2296.473380874421, 1224.0798457418334, 612.918188215126, 8633.186389901526, 97.26715582774189, 99.08605119323414, 534.1485314410177, 38.68067383092224, 1058.3550497791696, 1122.9973674580178, 143.99246739510147, 1789.4796537707127, 3381.331148391607, 1009.5589994959455, 2201.533894328029, 5159.028761848591, 507.018166760595, 483.1360204403152, 785.3878108488782, 1054.3551826198382, 1041.369577967489, 1300.0232915429178, 4799.505708712662, 641.7180364591258, 3677.5672606001954, 408.3603020903705, 4478.972389553314, 3297.4305859628157, 8226.98285532467, 5049.482624758746, 3342.7197430413717, 1189.5584947232624, 8898.93562125753, 1002.9329585661319, 14367.984664166606, 3898.30426828324, 2268.809095554944, 1834.6994863762131, 8168.513098235571, 2836.1078563864544, 7785.846908830257, 6825.355847499864, 3543.260846137149, 3459.0653471290234, 2307.941233627801, 2438.9898874562127, 5374.371802372661, 953.9074100043355, 250.30994275420198, 224.81203750793546, 134.1527773089247, 114.32358933694334, 77.49075107647714, 92.59977110423634, 43.49352860440385, 46.3294543845393, 1024.56868812303, 34.99422528242647, 33.10548829671547, 37.84406752795698, 28.383652309485214, 28.38380604118714, 27.43929325388806, 26.494926557585366, 98.68247660013976, 111.58333544477483, 53.009739771587775, 64.5637021714953, 20.82882028344589, 19.884353360794087, 19.884362260350223, 18.939980543161973, 18.939982536703372, 125.92199630015428, 17.995612364873566, 17.995621509754148, 39.80534909533506, 308.5706382037141, 129.80703749202596, 1317.8355472388034, 286.936152150543, 317.9658774664071, 4601.763968818371, 675.5376654549998, 592.0203620056209, 2110.2853776376846, 621.363462737592, 288.76530421882575, 704.870301759694, 597.1009884515697, 115.771383263964, 1498.6973209250257, 294.30735937190474, 2836.0255115418317, 3358.687789889498, 1531.5600310440623, 4478.972389553314, 384.65051049184984, 3543.260846137149, 222.4906904990549, 1270.672778135426, 5159.028761848591, 426.259611459963, 1226.4495804737007, 5518.149752219439, 2208.3673111012176, 6825.355847499864, 8168.513098235571, 8633.186389901526, 2435.446845281576, 4338.409131106205, 7785.846908830257, 8226.98285532467, 8898.93562125753, 1955.606955938638, 14367.984664166606, 3898.30426828324, 3463.6605170697403, 3677.5672606001954, 2201.533894328029, 5049.482624758746, 451.4023101096113, 200.6303703815835, 147.52592762353885, 133.75810870909152, 131.79127831422565, 112.1229685024632, 108.18930445580182, 121.96215019253302, 92.45465514942781, 317.755405819808, 72.78634237457211, 71.80292614995024, 71.80292677108554, 73.77157944160894, 65.90243281214764, 64.91901765467742, 63.93560156075231, 60.98528773791285, 341.4340338649018, 51.1511999924403, 453.4941891201763, 49.184367582410566, 49.18436900284489, 52.13224083098862, 52.13849435738482, 46.2341225004341, 45.25070507933865, 134.98235049567862, 43.283874117955044, 42.300458665624795, 295.1742474665029, 89.4373882695985, 538.6900120882317, 627.4524898653616, 122.89115416090037, 977.2338420762786, 251.93383474041013, 134.872331966851, 143.82641523579514, 753.2552589415061, 1699.93076521776, 306.65394645941427, 354.77559357173504, 1071.3129553099022, 337.21862417115256, 538.5324259319832, 124.84935878065198, 152.63167657987373, 359.397333863537, 285.9656613826711, 239.12686526670242, 274.50829149283066, 574.2541542847947, 1365.1210801069483, 1075.8312885679545, 242.31408536207337, 1223.2969575013728, 514.1550596859171, 805.0850914633866, 1674.9295098300913, 686.3473254056871, 743.454403100467, 14367.984664166606, 882.1365008282512, 5518.149752219439, 2435.446845281576, 1071.5551321266064, 1668.120236986856, 8898.93562125753, 855.1435113546855, 1035.601352404735, 4601.763968818371, 2368.198930181483, 72.14203681716307, 48.75188836462777, 39.98057573684101, 39.01312877485355, 38.030431881479196, 35.10763828117754, 35.10764055427342, 32.18386984253865, 30.234690648787108, 28.28550944830172, 26.336333968165725, 25.361741344315348, 24.387151451935054, 23.41257089746879, 22.437972151437105, 22.437975625897757, 26.337997058503785, 21.46338245380864, 21.463384761592046, 21.463388813093417, 20.488796139152146, 20.488796125375835, 20.488796247416115, 20.488795536718357, 20.487507645329625, 19.514204360862426, 19.51420461421255, 19.514208753054163, 19.51422579990094, 18.539615958666158, 506.9865760417549, 148.1395366101435, 139.3572034313084, 77.00493176677178, 72.93566443742459, 394.65928178005066, 51.756029493366746, 142.95369029606618, 33.19380372953089, 100.47454842845033, 54.588656405360126, 86.49989814369252, 409.1398139036852, 75.36993536181252, 75.32556264575547, 137.30830953980376, 374.2355152699442, 241.8222122987977, 122.26153086227275, 274.7820664201684, 443.22790602025816, 98.84330898879723, 1162.2380443210734, 942.6812273621869, 558.6122267669703, 1247.3635274501246, 148.8993604648265, 1557.5384214333183, 273.98125962502456, 726.8176332466962, 529.971371365244, 281.1011534368276, 2368.198930181483, 682.7852475307803, 1072.4235106006313, 1722.7899307756793, 331.69001046842055, 4338.409131106205, 849.2836866989987, 333.6337514947096, 806.6720433299627, 1280.185019425627, 1817.953888644326, 591.9505500920636, 14367.984664166606, 5374.371802372661, 1500.452148333582, 1642.0560107725169, 7785.846908830257, 8168.513098235571, 3939.3776598092495, 6825.355847499864, 8898.93562125753, 2652.8527021629934, 3238.1551941454363, 8226.98285532467, 2435.446845281576, 3459.0653471290234, 2250.639384246294, 3463.6605170697403, 2836.1078563864544, 8633.186389901526, 77.13397466683072, 31.07125432846285, 30.13143462041276, 27.311977848850336, 25.432404385374248, 23.552695479994934, 22.61287346043102, 19.79341466522565, 19.793415832328808, 18.853594218317838, 18.85372460933776, 17.913769123910946, 17.91377156266076, 17.91377557441467, 17.913775263528777, 17.913777915306852, 16.97394980111185, 16.973949593655647, 16.97394985673472, 16.973957182278276, 16.973964403248015, 16.03412924256172, 16.03413608727342, 16.0341368156965, 16.036063228072504, 15.094307702088301, 15.094307771528708, 15.094308841634678, 15.094311872457187, 15.095609407505982, 64.08462354626445, 27.380336728953548, 25.519683978857252, 24.56833803303057, 26.47101871343753, 82.71907757010968, 218.74709604001856, 25.508496363848252, 76.35377274947083, 52.09238961781413, 785.3878108488782, 64.90028224305638, 159.35330163720982, 669.498933954753, 189.79387188990313, 62.15455351471033, 54.05369430582988, 2368.198930181483, 168.37554421212138, 269.2943515682499, 1722.7899307756793, 396.69880191126913, 1041.369577967489, 129.75336643973475, 191.85420516188742, 1189.5584947232624, 105.03658202745508, 740.1831371115021, 176.3139416834336, 870.467274639085, 8633.186389901526, 165.67388470444246, 1557.5384214333183, 493.3861687997122, 1110.6108519419495, 14367.984664166606, 2299.922058877102, 449.52341501273594, 1355.5698990266924, 2307.941233627801, 4799.505708712662, 3342.7197430413717, 1071.5551321266064, 3381.331148391607, 1754.5366227898485, 865.1873404024942, 7785.846908830257, 5049.482624758746, 5159.028761848591, 2296.473380874421, 8226.98285532467, 5518.149752219439, 2268.809095554944, 8168.513098235571, 3463.6605170697403, 8898.93562125753, 2438.9898874562127], \"Category\": [\"Default\", \"Default\", \"Default\", \"Default\", \"Default\", \"Default\", \"Default\", \"Default\", \"Default\", \"Default\", \"Default\", \"Default\", \"Default\", \"Default\", \"Default\", \"Default\", \"Default\", \"Default\", \"Default\", \"Default\", \"Default\", \"Default\", \"Default\", \"Default\", \"Default\", \"Default\", \"Default\", \"Default\", \"Default\", \"Default\", \"Topic1\", \"Topic1\", \"Topic1\", \"Topic1\", \"Topic1\", \"Topic1\", \"Topic1\", \"Topic1\", \"Topic1\", \"Topic1\", \"Topic1\", \"Topic1\", \"Topic1\", \"Topic1\", \"Topic1\", \"Topic1\", \"Topic1\", \"Topic1\", \"Topic1\", \"Topic1\", \"Topic1\", \"Topic1\", \"Topic1\", \"Topic1\", \"Topic1\", \"Topic1\", \"Topic1\", \"Topic1\", \"Topic1\", \"Topic1\", \"Topic1\", \"Topic1\", \"Topic1\", \"Topic1\", \"Topic1\", \"Topic1\", \"Topic1\", \"Topic1\", \"Topic1\", \"Topic1\", \"Topic1\", \"Topic1\", \"Topic1\", \"Topic1\", \"Topic1\", \"Topic1\", \"Topic1\", \"Topic1\", \"Topic1\", \"Topic1\", \"Topic1\", \"Topic1\", \"Topic1\", \"Topic1\", \"Topic1\", \"Topic1\", \"Topic1\", \"Topic1\", \"Topic1\", \"Topic1\", \"Topic1\", \"Topic1\", \"Topic1\", \"Topic1\", \"Topic1\", \"Topic1\", \"Topic1\", \"Topic1\", \"Topic1\", \"Topic1\", \"Topic1\", \"Topic1\", \"Topic1\", \"Topic1\", \"Topic1\", \"Topic1\", \"Topic2\", \"Topic2\", \"Topic2\", \"Topic2\", \"Topic2\", \"Topic2\", \"Topic2\", \"Topic2\", \"Topic2\", \"Topic2\", \"Topic2\", \"Topic2\", \"Topic2\", \"Topic2\", \"Topic2\", \"Topic2\", \"Topic2\", \"Topic2\", \"Topic2\", \"Topic2\", \"Topic2\", \"Topic2\", \"Topic2\", \"Topic2\", \"Topic2\", \"Topic2\", \"Topic2\", \"Topic2\", \"Topic2\", \"Topic2\", \"Topic2\", \"Topic2\", \"Topic2\", \"Topic2\", \"Topic2\", \"Topic2\", \"Topic2\", \"Topic2\", \"Topic2\", \"Topic2\", \"Topic2\", \"Topic2\", \"Topic2\", \"Topic2\", \"Topic2\", \"Topic2\", \"Topic2\", \"Topic2\", \"Topic2\", \"Topic2\", \"Topic2\", \"Topic2\", \"Topic2\", \"Topic2\", \"Topic2\", \"Topic2\", \"Topic2\", \"Topic2\", \"Topic2\", \"Topic2\", \"Topic2\", \"Topic2\", \"Topic2\", \"Topic2\", \"Topic2\", \"Topic2\", \"Topic2\", \"Topic2\", \"Topic2\", \"Topic2\", \"Topic3\", \"Topic3\", \"Topic3\", \"Topic3\", \"Topic3\", \"Topic3\", \"Topic3\", \"Topic3\", \"Topic3\", \"Topic3\", \"Topic3\", \"Topic3\", \"Topic3\", \"Topic3\", \"Topic3\", \"Topic3\", \"Topic3\", \"Topic3\", \"Topic3\", \"Topic3\", \"Topic3\", \"Topic3\", \"Topic3\", \"Topic3\", \"Topic3\", \"Topic3\", \"Topic3\", \"Topic3\", \"Topic3\", \"Topic3\", \"Topic3\", \"Topic3\", \"Topic3\", \"Topic3\", \"Topic3\", \"Topic3\", \"Topic3\", \"Topic3\", \"Topic3\", \"Topic3\", \"Topic3\", \"Topic3\", \"Topic3\", \"Topic3\", \"Topic3\", \"Topic3\", \"Topic3\", \"Topic3\", \"Topic3\", \"Topic3\", \"Topic3\", \"Topic3\", \"Topic3\", \"Topic3\", \"Topic3\", \"Topic3\", \"Topic3\", \"Topic3\", \"Topic3\", \"Topic3\", \"Topic3\", \"Topic3\", \"Topic3\", \"Topic3\", \"Topic3\", \"Topic3\", \"Topic3\", \"Topic3\", \"Topic3\", \"Topic3\", \"Topic3\", \"Topic3\", \"Topic3\", \"Topic3\", \"Topic3\", \"Topic4\", \"Topic4\", \"Topic4\", \"Topic4\", \"Topic4\", \"Topic4\", \"Topic4\", \"Topic4\", \"Topic4\", \"Topic4\", \"Topic4\", \"Topic4\", \"Topic4\", \"Topic4\", \"Topic4\", \"Topic4\", \"Topic4\", \"Topic4\", \"Topic4\", \"Topic4\", \"Topic4\", \"Topic4\", \"Topic4\", \"Topic4\", \"Topic4\", \"Topic4\", \"Topic4\", \"Topic4\", \"Topic4\", \"Topic4\", \"Topic4\", \"Topic4\", \"Topic4\", \"Topic4\", \"Topic4\", \"Topic4\", \"Topic4\", \"Topic4\", \"Topic4\", \"Topic4\", \"Topic4\", \"Topic4\", \"Topic4\", \"Topic4\", \"Topic4\", \"Topic4\", \"Topic4\", \"Topic4\", \"Topic4\", \"Topic4\", \"Topic4\", \"Topic4\", \"Topic4\", \"Topic4\", \"Topic4\", \"Topic4\", \"Topic4\", \"Topic4\", \"Topic4\", \"Topic4\", \"Topic4\", \"Topic4\", \"Topic4\", \"Topic4\", \"Topic4\", \"Topic4\", \"Topic4\", \"Topic4\", \"Topic4\", \"Topic4\", \"Topic4\", \"Topic4\", \"Topic4\", \"Topic4\", \"Topic4\", \"Topic4\", \"Topic4\", \"Topic4\", \"Topic4\", \"Topic4\", \"Topic4\", \"Topic4\", \"Topic4\", \"Topic4\", \"Topic4\", \"Topic4\", \"Topic5\", \"Topic5\", \"Topic5\", \"Topic5\", \"Topic5\", \"Topic5\", \"Topic5\", \"Topic5\", \"Topic5\", \"Topic5\", \"Topic5\", \"Topic5\", \"Topic5\", \"Topic5\", \"Topic5\", \"Topic5\", \"Topic5\", \"Topic5\", \"Topic5\", \"Topic5\", \"Topic5\", \"Topic5\", \"Topic5\", \"Topic5\", \"Topic5\", \"Topic5\", \"Topic5\", \"Topic5\", \"Topic5\", \"Topic5\", \"Topic5\", \"Topic5\", \"Topic5\", \"Topic5\", \"Topic5\", \"Topic5\", \"Topic5\", \"Topic5\", \"Topic5\", \"Topic5\", \"Topic5\", \"Topic5\", \"Topic5\", \"Topic5\", \"Topic5\", \"Topic5\", \"Topic5\", \"Topic5\", \"Topic5\", \"Topic5\", \"Topic5\", \"Topic5\", \"Topic5\", \"Topic5\", \"Topic5\", \"Topic5\", \"Topic5\", \"Topic5\", \"Topic5\", \"Topic5\", \"Topic5\", \"Topic5\", \"Topic5\", \"Topic5\", \"Topic5\", \"Topic5\", \"Topic5\", \"Topic5\", \"Topic5\", \"Topic5\", \"Topic5\", \"Topic5\", \"Topic5\", \"Topic5\", \"Topic5\", \"Topic5\", \"Topic5\", \"Topic5\", \"Topic6\", \"Topic6\", \"Topic6\", \"Topic6\", \"Topic6\", \"Topic6\", \"Topic6\", \"Topic6\", \"Topic6\", \"Topic6\", \"Topic6\", \"Topic6\", \"Topic6\", \"Topic6\", \"Topic6\", \"Topic6\", \"Topic6\", \"Topic6\", \"Topic6\", \"Topic6\", \"Topic6\", \"Topic6\", \"Topic6\", \"Topic6\", \"Topic6\", \"Topic6\", \"Topic6\", \"Topic6\", \"Topic6\", \"Topic6\", \"Topic6\", \"Topic6\", \"Topic6\", \"Topic6\", \"Topic6\", \"Topic6\", \"Topic6\", \"Topic6\", \"Topic6\", \"Topic6\", \"Topic6\", \"Topic6\", \"Topic6\", \"Topic6\", \"Topic6\", \"Topic6\", \"Topic6\", \"Topic6\", \"Topic6\", \"Topic6\", \"Topic6\", \"Topic6\", \"Topic6\", \"Topic6\", \"Topic6\", \"Topic6\", \"Topic6\", \"Topic6\", \"Topic6\", \"Topic6\", \"Topic6\", \"Topic6\", \"Topic6\", \"Topic6\", \"Topic6\", \"Topic6\", \"Topic6\", \"Topic6\", \"Topic6\", \"Topic6\", \"Topic6\", \"Topic6\", \"Topic6\", \"Topic6\", \"Topic6\", \"Topic6\", \"Topic6\", \"Topic6\", \"Topic6\", \"Topic6\", \"Topic6\", \"Topic6\", \"Topic6\", \"Topic6\", \"Topic6\", \"Topic6\", \"Topic6\", \"Topic7\", \"Topic7\", \"Topic7\", \"Topic7\", \"Topic7\", \"Topic7\", \"Topic7\", \"Topic7\", \"Topic7\", \"Topic7\", \"Topic7\", \"Topic7\", \"Topic7\", \"Topic7\", \"Topic7\", \"Topic7\", \"Topic7\", \"Topic7\", \"Topic7\", \"Topic7\", \"Topic7\", \"Topic7\", \"Topic7\", \"Topic7\", \"Topic7\", \"Topic7\", \"Topic7\", \"Topic7\", \"Topic7\", \"Topic7\", \"Topic7\", \"Topic7\", \"Topic7\", \"Topic7\", \"Topic7\", \"Topic7\", \"Topic7\", \"Topic7\", \"Topic7\", \"Topic7\", \"Topic7\", \"Topic7\", \"Topic7\", \"Topic7\", \"Topic7\", \"Topic7\", \"Topic7\", \"Topic7\", \"Topic7\", \"Topic7\", \"Topic7\", \"Topic7\", \"Topic7\", \"Topic7\", \"Topic7\", \"Topic7\", \"Topic7\", \"Topic7\", \"Topic7\", \"Topic7\", \"Topic7\", \"Topic7\", \"Topic7\", \"Topic7\", \"Topic7\", \"Topic7\", \"Topic7\", \"Topic7\", \"Topic7\", \"Topic7\", \"Topic7\", \"Topic7\", \"Topic7\", \"Topic7\", \"Topic8\", \"Topic8\", \"Topic8\", \"Topic8\", \"Topic8\", \"Topic8\", \"Topic8\", \"Topic8\", \"Topic8\", \"Topic8\", \"Topic8\", \"Topic8\", \"Topic8\", \"Topic8\", \"Topic8\", \"Topic8\", \"Topic8\", \"Topic8\", \"Topic8\", \"Topic8\", \"Topic8\", \"Topic8\", \"Topic8\", \"Topic8\", \"Topic8\", \"Topic8\", \"Topic8\", \"Topic8\", \"Topic8\", \"Topic8\", \"Topic8\", \"Topic8\", \"Topic8\", \"Topic8\", \"Topic8\", \"Topic8\", \"Topic8\", \"Topic8\", \"Topic8\", \"Topic8\", \"Topic8\", \"Topic8\", \"Topic8\", \"Topic8\", \"Topic8\", \"Topic8\", \"Topic8\", \"Topic8\", \"Topic8\", \"Topic8\", \"Topic8\", \"Topic8\", \"Topic8\", \"Topic8\", \"Topic8\", \"Topic8\", \"Topic8\", \"Topic8\", \"Topic8\", \"Topic8\", \"Topic8\", \"Topic8\", \"Topic8\", \"Topic8\", \"Topic8\", \"Topic8\", \"Topic8\", \"Topic8\", \"Topic8\", \"Topic8\", \"Topic8\", \"Topic8\", \"Topic8\", \"Topic9\", \"Topic9\", \"Topic9\", \"Topic9\", \"Topic9\", \"Topic9\", \"Topic9\", \"Topic9\", \"Topic9\", \"Topic9\", \"Topic9\", \"Topic9\", \"Topic9\", \"Topic9\", \"Topic9\", \"Topic9\", \"Topic9\", \"Topic9\", \"Topic9\", \"Topic9\", \"Topic9\", \"Topic9\", \"Topic9\", \"Topic9\", \"Topic9\", \"Topic9\", \"Topic9\", \"Topic9\", \"Topic9\", \"Topic9\", \"Topic9\", \"Topic9\", \"Topic9\", \"Topic9\", \"Topic9\", \"Topic9\", \"Topic9\", \"Topic9\", \"Topic9\", \"Topic9\", \"Topic9\", \"Topic9\", \"Topic9\", \"Topic9\", \"Topic9\", \"Topic9\", \"Topic9\", \"Topic9\", \"Topic9\", \"Topic9\", \"Topic9\", \"Topic9\", \"Topic9\", \"Topic9\", \"Topic9\", \"Topic9\", \"Topic9\", \"Topic9\", \"Topic9\", \"Topic9\", \"Topic9\", \"Topic9\", \"Topic9\", \"Topic9\", \"Topic9\", \"Topic9\", \"Topic9\", \"Topic9\", \"Topic9\", \"Topic9\", \"Topic9\", \"Topic9\", \"Topic9\", \"Topic9\", \"Topic9\", \"Topic9\", \"Topic9\", \"Topic9\", \"Topic9\", \"Topic9\", \"Topic9\", \"Topic9\", \"Topic9\", \"Topic9\", \"Topic9\", \"Topic9\", \"Topic9\", \"Topic9\", \"Topic9\", \"Topic9\", \"Topic9\", \"Topic9\", \"Topic10\", \"Topic10\", \"Topic10\", \"Topic10\", \"Topic10\", \"Topic10\", \"Topic10\", \"Topic10\", \"Topic10\", \"Topic10\", \"Topic10\", \"Topic10\", \"Topic10\", \"Topic10\", \"Topic10\", \"Topic10\", \"Topic10\", \"Topic10\", \"Topic10\", \"Topic10\", \"Topic10\", \"Topic10\", \"Topic10\", \"Topic10\", \"Topic10\", \"Topic10\", \"Topic10\", \"Topic10\", \"Topic10\", \"Topic10\", \"Topic10\", \"Topic10\", \"Topic10\", \"Topic10\", \"Topic10\", \"Topic10\", \"Topic10\", \"Topic10\", \"Topic10\", \"Topic10\", \"Topic10\", \"Topic10\", \"Topic10\", \"Topic10\", \"Topic10\", \"Topic10\", \"Topic10\", \"Topic10\", \"Topic10\", \"Topic10\", \"Topic10\", \"Topic10\", \"Topic10\", \"Topic10\", \"Topic10\", \"Topic10\", \"Topic10\", \"Topic10\", \"Topic10\", \"Topic10\", \"Topic10\", \"Topic10\", \"Topic10\", \"Topic10\", \"Topic10\", \"Topic10\", \"Topic10\", \"Topic10\", \"Topic10\", \"Topic10\", \"Topic10\", \"Topic10\", \"Topic10\", \"Topic10\", \"Topic10\", \"Topic10\", \"Topic10\", \"Topic10\", \"Topic10\", \"Topic10\", \"Topic10\", \"Topic10\", \"Topic10\", \"Topic10\", \"Topic10\", \"Topic10\", \"Topic10\"], \"logprob\": [30.0, 29.0, 28.0, 27.0, 26.0, 25.0, 24.0, 23.0, 22.0, 21.0, 20.0, 19.0, 18.0, 17.0, 16.0, 15.0, 14.0, 13.0, 12.0, 11.0, 10.0, 9.0, 8.0, 7.0, 6.0, 5.0, 4.0, 3.0, 2.0, 1.0, -6.2751, -6.9238, -4.8573, -6.0418, -8.0868, -8.0868, -8.2753, -8.4082, -7.3745, -8.5078, -4.1408, -8.6184, -8.6184, -8.4183, -8.6235, -8.7442, -8.2227, -8.8113, -8.8113, -8.8113, -8.8849, -8.8849, -8.8849, -8.8849, -8.8849, -8.8854, -8.9643, -8.9643, -8.9643, -8.9643, -7.3004, -5.6853, -7.0242, -4.7443, -6.433, -7.5291, -5.0571, -8.4582, -4.7428, -7.9301, -5.1591, -5.5118, -4.2741, -4.8752, -4.8113, -3.9867, -4.6255, -5.5269, -4.5132, -6.3322, -5.6927, -4.7286, -5.5364, -3.7549, -5.8473, -5.7309, -4.7935, -3.9557, -4.8283, -4.0488, -5.0312, -3.7139, -4.4012, -3.8349, -3.8886, -4.0419, -4.5006, -5.2433, -4.6142, -4.1977, -4.8665, -4.8142, -4.7575, -4.2292, -4.7993, -4.8388, -6.0629, -6.5969, -6.5974, -6.6499, -6.6149, -6.7253, -6.9677, -6.9929, -7.0188, -7.0454, -7.0456, -7.1297, -7.1595, -7.1595, -7.1902, -7.2883, -7.4768, -5.2581, -7.4774, -6.5698, -7.5635, -7.6583, -7.6583, -7.7093, -7.7093, -7.7093, -7.7631, -7.7631, -7.7631, -7.82, -5.2923, -5.1777, -5.1208, -6.2259, -4.2737, -7.0284, -6.0217, -7.264, -6.2812, -6.8034, -6.1766, -6.4947, -6.3433, -4.7271, -4.3312, -6.3788, -5.0086, -5.0307, -4.9583, -5.2553, -6.0456, -5.3092, -5.1708, -5.3935, -5.1046, -3.6276, -4.2938, -5.1658, -5.3532, -4.9753, -5.4662, -5.4232, -5.3941, -5.253, -5.331, -5.3197, -5.2502, -5.3193, -5.297, -5.0708, -5.4157, -5.825, -5.8769, -5.9458, -6.7013, -7.0135, -5.8907, -7.1465, -7.195, -7.195, -7.246, -7.246, -7.2998, -7.2998, -5.5779, -7.481, -5.8023, -7.5495, -7.5495, -7.6231, -7.7025, -7.7025, -7.7025, -7.7025, -7.7888, -7.7888, -7.7888, -7.7888, -7.6366, -7.8832, -3.4091, -6.2134, -6.0744, -6.7159, -6.7937, -5.7532, -6.6534, -7.1189, -5.9392, -5.6389, -7.1327, -4.5007, -6.5698, -5.892, -5.2156, -4.5039, -4.851, -3.7369, -5.7523, -6.007, -4.9977, -4.7585, -6.0575, -5.8672, -4.5448, -5.3612, -4.5568, -4.3071, -4.4911, -4.9853, -4.9576, -4.5129, -4.4307, -4.0763, -4.7649, -4.4442, -5.1116, -5.0702, -5.2606, -5.4137, -5.034, -5.4135, -5.4225, -5.4276, -5.4423, -7.1608, -7.3482, -7.3832, -7.5791, -7.5791, -7.6697, -7.7183, -7.1541, -7.8231, -7.8231, -7.8799, -7.8799, -7.8799, -7.9402, -8.0043, -8.0043, -8.0728, -8.0728, -8.1464, -8.1464, -8.1464, -7.4218, -8.2258, -8.2258, -8.2258, -8.2258, -8.2258, -8.2258, -8.226, -7.3637, -7.1539, -7.7231, -6.204, -7.69, -6.9569, -6.4962, -6.9868, -6.9086, -7.2357, -7.0294, -7.1916, -6.8741, -6.3245, -6.0254, -5.728, -6.716, -7.2298, -4.5472, -6.1317, -4.4967, -4.5503, -6.1076, -6.4079, -5.6546, -5.4015, -5.9809, -4.8301, -5.2749, -3.6392, -5.7266, -5.5744, -5.5369, -5.5569, -5.8115, -6.0244, -6.2298, -5.5569, -5.2578, -4.5056, -4.9505, -4.4893, -5.5162, -4.7698, -4.9762, -5.0304, -5.4566, -4.8102, -5.1367, -5.6042, -5.03, -5.5139, -5.4978, -5.3497, -5.5656, -5.6152, -5.5441, -5.9337, -6.5673, -6.6378, -6.6625, -6.7402, -6.9493, -6.9493, -7.018, -7.0918, -7.1716, -7.0956, -7.2139, -7.2582, -7.2582, -7.3045, -7.3531, -7.3531, -7.4041, -7.4041, -7.4041, -7.4041, -7.4041, -7.4041, -7.4041, -7.5147, -7.575, -7.575, -7.6391, -7.6391, -7.6398, -6.797, -6.5449, -6.242, -6.6814, -4.7338, -6.6363, -5.7815, -5.9352, -6.7798, -6.493, -6.2085, -5.5106, -4.6801, -6.1703, -5.985, -5.5318, -4.7848, -6.4403, -5.2036, -5.9051, -3.8078, -4.1004, -5.322, -5.6779, -5.5478, -6.0695, -5.6289, -5.4065, -5.2643, -5.2628, -5.3146, -4.7425, -5.0624, -4.8135, -5.5669, -5.1339, -5.3825, -5.0163, -5.1549, -5.1826, -5.3826, -5.1003, -5.273, -5.4012, -5.441, -5.5291, -5.4997, -5.5342, -7.8365, -8.1012, -8.2914, -8.3451, -8.3453, -8.3457, -8.4622, -8.5263, -8.5263, -8.5264, -8.5264, -8.5949, -8.6684, -8.6684, -8.7478, -8.7478, -8.7478, -8.7478, -8.7478, -8.7479, -8.8341, -8.8341, -8.8341, -8.8341, -8.8341, -8.9285, -8.9285, -8.9285, -8.9285, -8.9285, -7.5929, -7.8636, -6.3432, -6.7333, -7.5011, -6.714, -5.6197, -8.0783, -6.6718, -6.6317, -4.0456, -4.6541, -5.361, -3.0356, -7.0474, -7.0323, -5.5347, -7.8733, -5.0191, -4.9696, -6.7416, -4.6017, -4.0844, -5.1181, -4.5403, -3.8486, -5.7532, -5.8107, -5.478, -5.2499, -5.2744, -5.1188, -4.1678, -5.661, -4.4222, -6.0155, -4.345, -4.5618, -3.9338, -4.3005, -4.6016, -5.2856, -4.0553, -5.395, -3.8533, -4.627, -4.9388, -5.0626, -4.3589, -4.8722, -4.4149, -4.5399, -4.8531, -4.8758, -5.0263, -5.0711, -5.0734, -5.0573, -6.3966, -6.5045, -7.0235, -7.1848, -7.5773, -7.3992, -8.1641, -8.1012, -5.005, -8.3867, -8.4437, -8.3144, -8.6022, -8.6023, -8.6372, -8.6735, -7.3594, -7.2373, -7.9857, -7.7909, -8.9238, -8.9723, -8.9723, -9.0233, -9.0233, -7.1311, -9.0771, -9.0771, -8.2866, -6.2418, -7.1096, -4.8157, -6.3271, -6.2276, -3.5834, -5.4853, -5.6152, -4.3795, -5.6032, -6.3473, -5.4818, -5.6484, -7.2353, -4.7975, -6.3474, -4.21, -4.09, -4.8322, -3.8635, -6.1351, -4.1507, -6.6293, -5.0889, -3.9692, -6.0946, -5.2424, -4.0334, -4.8362, -4.142, -4.1043, -4.0984, -4.9457, -4.5858, -4.2206, -4.194, -4.1596, -5.1034, -4.0607, -4.7568, -4.8472, -4.8782, -5.13, -4.8935, -5.1795, -5.9929, -6.302, -6.4006, -6.4155, -6.5783, -6.6143, -6.4948, -6.7729, -5.5405, -7.0148, -7.0286, -7.0286, -7.0019, -7.1154, -7.1307, -7.1462, -7.1941, -5.4744, -7.3728, -5.1911, -7.4127, -7.4128, -7.3546, -7.3556, -7.4758, -7.4977, -6.4055, -7.5431, -7.5666, -5.6301, -6.8229, -5.0574, -4.9399, -6.5214, -4.5148, -5.8371, -6.4448, -6.3847, -4.8181, -4.0816, -5.6748, -5.5458, -4.5251, -5.6085, -5.1884, -6.5231, -6.3414, -5.5948, -5.8025, -5.9576, -5.8406, -5.2195, -4.5102, -4.7466, -5.992, -4.8135, -5.4483, -5.1396, -4.7537, -5.3789, -5.3616, -3.7426, -5.3518, -4.6392, -4.9932, -5.3884, -5.2747, -5.0255, -5.4752, -5.4531, -5.3198, -5.4232, -7.0933, -7.4913, -7.6938, -7.7202, -7.7458, -7.8269, -7.827, -7.9163, -7.9806, -8.0494, -8.1232, -8.1623, -8.2029, -8.2453, -8.2896, -8.2896, -8.1303, -8.3359, -8.3359, -8.3359, -8.3844, -8.3844, -8.3844, -8.3844, -8.3866, -8.4355, -8.4355, -8.4355, -8.4355, -8.4892, -5.1859, -6.4263, -6.4927, -7.081, -7.1526, -5.5206, -7.4901, -6.5164, -7.9246, -6.8727, -7.4589, -7.0374, -5.6085, -7.1697, -7.171, -6.6356, -5.7499, -6.1458, -6.7542, -6.034, -5.6466, -6.9651, -4.8475, -5.034, -5.488, -4.8119, -6.6215, -4.6768, -6.1214, -5.3288, -5.5975, -6.1128, -4.413, -5.4427, -5.1215, -4.7812, -6.0273, -4.1622, -5.3522, -6.0417, -5.4479, -5.1365, -4.918, -5.6764, -3.7839, -4.3668, -5.1227, -5.0812, -4.2098, -4.2257, -4.6361, -4.3711, -4.2704, -4.8923, -4.8751, -4.5708, -5.0854, -5.1012, -5.2582, -5.2143, -5.3394, -5.3115, -6.4973, -7.42, -7.4516, -7.5531, -7.627, -7.7066, -7.749, -7.8881, -7.8881, -7.9392, -7.9394, -7.9929, -7.9929, -7.9929, -7.9929, -7.9929, -8.0498, -8.0498, -8.0498, -8.0498, -8.0498, -8.11, -8.11, -8.11, -8.1135, -8.1742, -8.1742, -8.1742, -8.1742, -8.1768, -6.7393, -7.591, -7.6703, -7.7132, -7.647, -6.6068, -5.7561, -7.6962, -6.7669, -7.1007, -4.8241, -6.9349, -6.2072, -5.0441, -6.1405, -7.0175, -7.1302, -4.1901, -6.2583, -5.9144, -4.515, -5.6427, -4.9287, -6.4997, -6.2149, -4.9076, -6.674, -5.3275, -6.3201, -5.2808, -3.7732, -6.387, -4.9705, -5.7155, -5.2144, -3.6619, -4.8017, -5.8563, -5.2471, -5.0136, -4.643, -4.8306, -5.415, -4.8461, -5.1735, -5.5498, -4.5768, -4.7952, -4.8085, -5.1874, -4.7234, -4.8898, -5.2424, -4.8668, -5.154, -4.9765, -5.2844], \"loglift\": [30.0, 29.0, 28.0, 27.0, 26.0, 25.0, 24.0, 23.0, 22.0, 21.0, 20.0, 19.0, 18.0, 17.0, 16.0, 15.0, 14.0, 13.0, 12.0, 11.0, 10.0, 9.0, 8.0, 7.0, 6.0, 5.0, 4.0, 3.0, 2.0, 1.0, 2.0107, 2.006, 2.0054, 2.0025, 1.9846, 1.9846, 1.9782, 1.973, 1.9712, 1.9686, 1.9652, 1.9632, 1.9632, 1.9626, 1.9581, 1.955, 1.9547, 1.9523, 1.9523, 1.9523, 1.9476, 1.9476, 1.9476, 1.9476, 1.9476, 1.9472, 1.9422, 1.9422, 1.9422, 1.9422, 1.9366, 1.8671, 1.8834, 1.8055, 1.8462, 1.8827, 1.7493, 1.9224, 1.6435, 1.8758, 1.6607, 1.6742, 1.4521, 1.4981, 1.4813, 1.3757, 1.3907, 1.5192, 1.3664, 1.6345, 1.5164, 1.3401, 1.4558, 1.1009, 1.5106, 1.4811, 1.248, 0.9624, 1.1902, 0.92, 1.2227, 0.716, 0.943, 0.6022, 0.5965, 0.5748, 0.6657, 1.2242, 0.6822, 0.1537, 0.838, 0.6807, 0.5731, -0.3569, 0.3775, 0.4803, 2.7761, 2.7698, 2.7693, 2.769, 2.769, 2.7678, 2.763, 2.7625, 2.7619, 2.7613, 2.7611, 2.7592, 2.7584, 2.7584, 2.7576, 2.7548, 2.7486, 2.7486, 2.7481, 2.7472, 2.7454, 2.7415, 2.7415, 2.7393, 2.7393, 2.7393, 2.7368, 2.7368, 2.7368, 2.7341, 2.7319, 2.7305, 2.7203, 2.6665, 2.4373, 2.6798, 2.5389, 2.6826, 2.5149, 2.5849, 2.3621, 2.4492, 2.3939, 1.8559, 1.6945, 2.3956, 1.746, 1.6945, 1.51, 1.6833, 2.1179, 1.6205, 1.5231, 1.6338, 1.3597, 0.2448, 0.5355, 1.3156, 1.485, 1.0463, 1.5259, 1.3181, 1.1891, 0.9216, 0.8951, 0.6666, 0.4508, 0.591, 0.4075, -0.7194, 3.2236, 3.2199, 3.2193, 3.2185, 3.1998, 3.1951, 3.1934, 3.19, 3.1882, 3.1882, 3.186, 3.186, 3.1835, 3.1835, 3.1777, 3.1744, 3.171, 3.1705, 3.1705, 3.166, 3.1608, 3.1608, 3.1608, 3.1608, 3.1548, 3.1548, 3.1548, 3.1547, 3.1531, 3.1475, 3.0606, 3.1059, 3.0918, 3.0779, 3.0801, 2.9897, 3.039, 3.094, 2.9315, 2.8738, 3.0809, 2.554, 2.8676, 2.6403, 2.3111, 1.9592, 2.1029, 1.5889, 2.4928, 2.605, 2.0548, 1.8645, 2.568, 2.3911, 1.1813, 1.776, 0.8055, 0.5222, 0.6752, 1.2159, 1.174, 0.5569, 0.425, -0.2039, 0.7968, -0.0927, 1.1809, 1.0547, 1.3123, 1.2081, -0.5489, 1.1696, 1.0719, 0.2734, 0.468, 2.6958, 2.6907, 2.6897, 2.683, 2.683, 2.6795, 2.6775, 2.6756, 2.6728, 2.6728, 2.6701, 2.6701, 2.6701, 2.667, 2.6635, 2.6635, 2.6596, 2.6596, 2.655, 2.655, 2.655, 2.6514, 2.6498, 2.6498, 2.6498, 2.6498, 2.6498, 2.6498, 2.6496, 2.6439, 2.5996, 2.6254, 2.5392, 2.6161, 2.5555, 2.4831, 2.5257, 2.5169, 2.5488, 2.5027, 2.5134, 2.4467, 2.3377, 2.2668, 2.157, 2.382, 2.4943, 1.5844, 2.0736, 1.4429, 1.436, 2.016, 2.0807, 1.7185, 1.5596, 1.8366, 1.1571, 1.298, 0.2331, 1.5331, 1.4265, 1.391, 1.3525, 1.5314, 1.6468, 1.7936, 1.1059, 0.7638, -0.0685, 0.4118, -0.1379, 1.003, -0.1531, 0.0937, 0.136, 0.7445, -0.3802, 0.0402, 0.9195, -0.545, 0.6607, 0.5036, -0.1146, 0.4412, 0.6752, -0.6884, 3.0781, 3.0687, 3.0673, 3.0667, 3.065, 3.0595, 3.0595, 3.0575, 3.0551, 3.0524, 3.0516, 3.0508, 3.0492, 3.0491, 3.0473, 3.0453, 3.0453, 3.0431, 3.0431, 3.0431, 3.0431, 3.0431, 3.0431, 3.0431, 3.0378, 3.0348, 3.0348, 3.0313, 3.0313, 3.0306, 3.0014, 2.9277, 2.8301, 2.8422, 2.4034, 2.7858, 2.3938, 2.3319, 2.7316, 2.5478, 2.3618, 1.9396, 1.4448, 2.2795, 2.1463, 1.8215, 1.1255, 2.4118, 1.3796, 1.9581, 0.0645, 0.2511, 1.3719, 1.6048, 1.4544, 1.963, 1.3097, 0.9911, 0.7614, 0.7588, 0.6868, -0.2574, 0.2327, -0.3764, 1.0288, 0.1852, 0.6038, -0.1869, 0.0219, -0.0162, 0.3436, -0.6704, -0.2031, 0.2998, 0.2635, 0.5395, -0.2646, -0.9175, 2.0577, 2.05, 2.0432, 2.041, 2.0409, 2.0405, 2.0359, 2.0328, 2.0328, 2.0328, 2.0328, 2.0293, 2.0253, 2.0253, 2.0206, 2.0206, 2.0206, 2.0206, 2.0206, 2.0206, 2.0152, 2.0152, 2.0152, 2.0152, 2.0151, 2.0087, 2.0087, 2.0087, 2.0087, 2.0087, 2.0072, 2.0051, 1.9666, 1.9734, 1.9872, 1.9452, 1.8774, 1.9671, 1.877, 1.8719, 1.6604, 1.6811, 1.6659, 1.3462, 1.8203, 1.8168, 1.6298, 1.9165, 1.4615, 1.4518, 1.7338, 1.3538, 1.2347, 1.4098, 1.2079, 1.048, 1.4634, 1.4542, 1.3009, 1.2345, 1.2224, 1.1562, 0.801, 1.32, 0.813, 1.4174, 0.693, 0.7824, 0.4962, 0.6176, 0.729, 1.0782, 0.2961, 1.1395, 0.019, 0.5498, 0.7793, 0.8679, 0.0782, 0.6227, 0.0702, 0.0768, 0.4192, 0.4206, 0.6747, 0.5747, -0.2177, 1.5273, 1.5258, 1.5254, 1.5226, 1.5213, 1.5177, 1.5177, 1.5084, 1.5082, 1.5081, 1.5033, 1.5018, 1.4972, 1.4971, 1.497, 1.4959, 1.4947, 1.4938, 1.4931, 1.489, 1.4866, 1.485, 1.4829, 1.4829, 1.4806, 1.4806, 1.4784, 1.4779, 1.4779, 1.4745, 1.4714, 1.4694, 1.4456, 1.4588, 1.4556, 1.4275, 1.4443, 1.4464, 1.411, 1.41, 1.4322, 1.4053, 1.4046, 1.4582, 1.3353, 1.4131, 1.2849, 1.2359, 1.2789, 1.1745, 1.3577, 1.1216, 1.4109, 1.2089, 0.9275, 1.2955, 1.0908, 0.7959, 0.909, 0.4748, 0.3328, 0.2833, 0.7016, 0.4841, 0.2645, 0.2359, 0.1918, 0.7632, -0.1883, 0.4201, 0.4479, 0.357, 0.6182, 0.0246, 2.1532, 2.1508, 2.1491, 2.1485, 2.1484, 2.1472, 2.1469, 2.1467, 2.1455, 2.1434, 2.1428, 2.1427, 2.1427, 2.1423, 2.1415, 2.1413, 2.1411, 2.1404, 2.1376, 2.1375, 2.1371, 2.1368, 2.1368, 2.1367, 2.1357, 2.1356, 2.1352, 2.1345, 2.1343, 2.1338, 2.1275, 2.1287, 2.0985, 2.0635, 2.1124, 2.0456, 2.0789, 2.096, 2.0918, 2.0026, 1.9252, 2.0446, 2.0279, 1.9434, 2.0159, 1.9678, 2.095, 2.0758, 1.9659, 1.9867, 2.0105, 1.9895, 1.8725, 1.716, 1.7177, 1.9629, 1.5223, 1.7543, 1.6146, 1.2679, 1.5349, 1.4723, 0.1298, 1.3109, 0.1902, 0.6541, 1.0799, 0.751, -0.674, 1.2186, 1.0493, -0.3088, 0.2521, 2.0732, 2.0671, 2.063, 2.061, 2.061, 2.0598, 2.0598, 2.0574, 2.0555, 2.0534, 2.051, 2.0496, 2.0481, 2.0465, 2.0448, 2.0448, 2.0438, 2.0429, 2.0429, 2.0429, 2.0408, 2.0408, 2.0408, 2.0408, 2.0388, 2.0385, 2.0385, 2.0385, 2.0385, 2.036, 2.0307, 2.0206, 2.0154, 2.0203, 2.003, 1.9465, 2.0085, 1.9662, 2.0182, 1.9625, 1.9864, 1.9476, 1.8226, 1.9531, 1.9523, 1.8873, 1.7703, 1.8111, 1.8848, 1.7951, 1.7044, 1.8865, 1.5395, 1.5624, 1.6316, 1.5045, 1.8204, 1.4174, 1.7107, 1.5277, 1.5748, 1.6937, 1.2622, 1.4762, 1.346, 1.2123, 1.6136, 0.9076, 1.3486, 1.5934, 1.3043, 1.1539, 1.0216, 1.3854, 0.0885, 0.4889, 1.0089, 0.9602, 0.2753, 0.2114, 0.5302, 0.2457, 0.081, 0.6695, 0.4873, -0.1409, 0.5619, 0.1952, 0.468, 0.0807, 0.1556, -0.9297, 2.6023, 2.5889, 2.5879, 2.5847, 2.5821, 2.5792, 2.5776, 2.5716, 2.5716, 2.5693, 2.5691, 2.5666, 2.5666, 2.5666, 2.5666, 2.5666, 2.5637, 2.5637, 2.5637, 2.5637, 2.5637, 2.5604, 2.5604, 2.5604, 2.5568, 2.5567, 2.5567, 2.5567, 2.5567, 2.5539, 2.5456, 2.5443, 2.5354, 2.5304, 2.5221, 2.4229, 2.3011, 2.5099, 2.3428, 2.3915, 1.9548, 2.3374, 2.1668, 1.8945, 2.0587, 2.2981, 2.325, 1.4851, 2.0606, 1.9349, 1.4784, 1.8192, 1.5682, 2.0798, 1.9735, 1.4562, 2.1168, 1.5107, 1.9528, 1.3953, 0.6086, 1.9481, 1.1238, 1.5284, 1.2181, 0.2105, 0.9028, 1.4807, 0.9861, 0.6874, 0.3259, 0.5, 1.0533, 0.473, 0.8017, 1.1323, -0.0917, 0.1229, 0.0881, 0.5186, -0.2935, -0.0605, 0.4758, -0.4297, 0.1411, -0.6251, 0.3614]}, \"token.table\": {\"Topic\": [1, 2, 3, 4, 5, 6, 7, 8, 9, 10, 1, 2, 3, 4, 5, 6, 7, 8, 9, 10, 1, 2, 3, 4, 5, 7, 8, 9, 10, 1, 2, 3, 4, 5, 6, 7, 8, 9, 10, 2, 4, 5, 6, 7, 10, 2, 4, 6, 7, 8, 9, 10, 1, 2, 3, 4, 6, 7, 8, 9, 10, 7, 1, 3, 4, 7, 8, 9, 1, 2, 5, 7, 8, 9, 10, 2, 5, 7, 8, 9, 10, 7, 5, 1, 10, 6, 1, 2, 3, 4, 5, 6, 7, 8, 9, 10, 1, 10, 8, 8, 6, 1, 2, 6, 7, 9, 10, 1, 2, 3, 4, 5, 6, 7, 8, 9, 10, 2, 5, 6, 7, 8, 9, 10, 1, 2, 3, 4, 5, 6, 7, 8, 9, 10, 9, 1, 2, 3, 4, 5, 6, 7, 8, 9, 10, 9, 4, 3, 9, 10, 8, 2, 5, 5, 6, 10, 4, 1, 3, 5, 9, 10, 10, 1, 3, 4, 5, 9, 2, 9, 1, 3, 4, 5, 6, 9, 1, 1, 2, 3, 4, 5, 6, 7, 8, 9, 10, 4, 7, 2, 3, 4, 5, 6, 7, 8, 9, 1, 4, 9, 10, 3, 4, 6, 6, 10, 9, 3, 10, 4, 6, 7, 9, 1, 2, 3, 4, 5, 6, 7, 8, 9, 10, 1, 2, 3, 4, 5, 6, 7, 8, 9, 10, 1, 6, 7, 10, 2, 6, 10, 4, 3, 5, 7, 8, 10, 2, 3, 4, 5, 6, 7, 8, 9, 2, 6, 7, 8, 9, 8, 4, 6, 7, 9, 9, 6, 7, 9, 10, 6, 10, 1, 2, 3, 4, 5, 6, 8, 9, 10, 7, 9, 8, 4, 6, 9, 10, 1, 2, 4, 5, 6, 7, 8, 9, 10, 6, 7, 6, 7, 10, 1, 4, 6, 7, 1, 2, 3, 5, 8, 9, 10, 1, 2, 3, 4, 5, 6, 7, 8, 9, 10, 1, 3, 4, 9, 6, 7, 9, 1, 9, 7, 3, 1, 2, 3, 4, 5, 7, 8, 9, 10, 2, 4, 8, 9, 1, 2, 3, 4, 5, 6, 7, 9, 10, 6, 7, 1, 7, 9, 1, 2, 3, 4, 5, 6, 7, 8, 9, 10, 1, 2, 5, 6, 7, 9, 10, 1, 1, 1, 5, 8, 9, 10, 7, 3, 5, 7, 8, 8, 2, 7, 8, 6, 4, 6, 7, 6, 7, 4, 3, 4, 5, 8, 10, 2, 1, 2, 5, 8, 9, 10, 10, 7, 1, 2, 3, 4, 5, 6, 7, 8, 9, 10, 1, 2, 3, 4, 5, 8, 9, 10, 1, 1, 2, 4, 5, 7, 8, 9, 10, 6, 9, 1, 1, 2, 5, 6, 7, 9, 10, 1, 6, 9, 10, 3, 8, 1, 2, 4, 6, 7, 9, 10, 1, 3, 4, 5, 6, 7, 9, 10, 3, 5, 6, 8, 3, 4, 6, 9, 9, 6, 2, 4, 6, 7, 9, 8, 2, 7, 2, 8, 1, 2, 3, 4, 5, 6, 9, 10, 1, 2, 3, 4, 5, 6, 7, 8, 9, 10, 3, 5, 6, 10, 3, 4, 5, 6, 8, 1, 2, 4, 5, 6, 7, 8, 9, 2, 10, 5, 5, 1, 2, 3, 6, 7, 9, 8, 9, 1, 2, 4, 5, 6, 7, 8, 9, 10, 2, 5, 6, 1, 2, 3, 4, 5, 6, 7, 8, 9, 10, 1, 2, 3, 4, 5, 6, 7, 8, 9, 10, 9, 8, 2, 5, 2, 5, 5, 1, 2, 10, 9, 7, 1, 3, 4, 5, 9, 1, 2, 4, 5, 6, 7, 9, 10, 2, 1, 3, 4, 5, 6, 7, 9, 2, 5, 1, 2, 6, 8, 10, 2, 4, 5, 8, 10, 1, 10, 1, 3, 4, 9, 3, 6, 9, 1, 6, 7, 9, 9, 10, 2, 5, 6, 7, 8, 9, 10, 1, 2, 4, 5, 6, 7, 8, 9, 10, 7, 1, 2, 3, 4, 5, 6, 7, 8, 9, 10, 10, 1, 2, 3, 4, 5, 6, 7, 8, 9, 10, 4, 4, 1, 5, 1, 2, 5, 6, 9, 10, 2, 6, 8, 4, 1, 2, 3, 4, 5, 6, 7, 8, 9, 10, 6, 9, 2, 8, 7, 3, 4, 7, 9, 4, 1, 2, 3, 4, 5, 6, 7, 8, 9, 10, 1, 2, 3, 4, 5, 6, 7, 8, 9, 10, 4, 5, 6, 7, 8, 10, 1, 2, 3, 4, 5, 7, 8, 9, 10, 1, 10, 10, 5, 7, 2, 3, 4, 5, 7, 8, 10, 1, 2, 4, 5, 6, 7, 8, 9, 1, 4, 5, 6, 7, 10, 5, 8, 10, 4, 8, 10, 3, 8, 9, 2, 8, 1, 2, 3, 4, 5, 6, 7, 8, 9, 10, 1, 2, 3, 4, 5, 6, 7, 9, 10, 1, 3, 5, 6, 9, 10, 1, 2, 3, 4, 5, 6, 7, 8, 9, 10, 1, 5, 10, 1, 2, 3, 4, 5, 6, 7, 8, 9, 10, 1, 2, 3, 4, 5, 6, 7, 9, 10, 2, 1, 2, 3, 4, 5, 6, 7, 9, 10, 1, 2, 3, 4, 5, 6, 9, 10, 3, 4, 7, 8, 2, 2, 3, 4, 7, 8, 9, 1, 2, 3, 4, 5, 6, 7, 8, 9, 10, 1, 2, 3, 4, 5, 6, 7, 8, 9, 10, 1, 4, 9, 10, 4, 1, 1, 2, 3, 4, 5, 6, 7, 8, 9, 10, 1, 2, 3, 4, 5, 6, 7, 8, 9, 10, 1, 2, 3, 4, 5, 6, 7, 8, 9, 10, 6, 9, 5, 6, 7, 9, 10, 1, 8, 1, 5, 6, 7, 10, 10, 3, 4, 10, 3, 2, 9, 1, 1, 3, 9, 10, 1, 2, 5, 9, 10, 1, 2, 4, 5, 9, 10, 1, 3, 6, 9, 9, 10, 10, 2, 4, 6, 1, 2, 5, 7, 8, 10, 4, 10, 1, 3, 4, 5, 9, 10, 1, 2, 3, 4, 5, 6, 8, 9, 10, 2, 6, 7, 1, 3, 9, 9, 1, 2, 3, 4, 5, 6, 7, 8, 9, 10, 1, 1, 2, 3, 4, 5, 6, 8, 9, 1, 2, 3, 5, 6, 7, 8, 1, 2, 6, 7, 9, 10, 3, 8, 9, 2, 3, 4, 7, 8, 9, 3, 3, 3, 4, 9, 3, 5, 7, 5, 9, 9, 10, 2, 3, 8, 9, 6, 2, 3, 5, 8, 5, 6, 8, 2, 3, 4, 5, 7, 8, 8, 8, 4, 1, 2, 3, 4, 5, 6, 7, 9, 10, 1, 2, 3, 4, 5, 6, 7, 9, 10, 1, 10, 1, 2, 4, 5, 9, 4, 9, 1, 3, 4, 9, 1, 2, 3, 4, 5, 6, 8, 9, 10, 7, 5, 5, 2, 3, 9, 7, 1, 2, 3, 4, 5, 6, 7, 8, 9, 10, 5, 6, 10, 2, 1, 3, 4, 9, 6, 6, 4, 3, 5, 5, 6, 7, 9, 10, 1, 3, 5, 6, 5, 10, 3, 8, 6, 1, 3, 4, 5, 9, 1, 3, 4, 5, 9, 5, 1, 3, 4, 5, 6, 7, 10, 8, 1, 2, 3, 4, 5, 6, 7, 8, 9, 10, 1, 2, 3, 4, 5, 9, 1, 1, 3, 5, 8, 9, 10, 7, 2, 4, 9, 2, 2, 4, 8, 1, 2, 3, 4, 5, 6, 7, 8, 9, 10, 3, 6, 2, 5, 10, 3, 7, 8, 8, 9, 9, 5, 6, 3, 8, 5, 8, 5, 2, 5, 6, 7, 8, 9, 10, 1, 5, 6, 7, 9, 10, 1, 6, 7, 9, 10, 1, 3, 4, 9, 3, 5, 7, 8, 8, 3, 2, 5, 8, 9, 10, 3, 4, 9, 7, 1, 2, 3, 5, 6, 7, 9, 10, 1, 2, 3, 4, 5, 6, 7, 8, 9, 10, 1, 2, 3, 4, 5, 6, 7, 8, 9, 10, 6, 7, 9, 7, 3, 4, 5, 6, 8, 2, 4, 5, 7, 8, 9, 2, 7, 8, 2, 7, 8, 4, 7, 1, 3, 5, 2, 3, 5, 1, 10, 8, 7, 1, 2, 3, 4, 6, 7, 8, 10, 2, 4, 5, 7, 8, 9, 10, 10, 1, 2, 3, 4, 5, 6, 7, 9, 10, 1, 2, 3, 4, 5, 6, 7, 9, 10, 1, 2, 4, 5, 6, 7, 8, 9, 10, 6, 2, 4, 5, 7, 8, 9, 1, 3, 4, 5, 7, 9, 10, 4, 9, 10, 2, 1, 3, 6, 7, 9, 10, 1, 2, 4, 5, 6, 7, 9, 10, 1, 2, 3, 6, 7, 9, 10, 1, 2, 3, 4, 5, 6, 7, 9, 10, 1, 2, 4, 5, 9, 10, 1, 9, 2, 8, 2, 6, 3, 4, 1, 6, 9, 10, 4, 8, 1, 3, 4, 5, 9, 10, 1, 5, 9, 1, 3, 4, 5, 9, 6, 9, 2, 7, 1, 3, 4, 6, 7, 9, 10, 1, 9, 2, 5, 8, 1, 1, 2, 5, 6, 7, 9, 10, 9, 7, 8, 7, 8, 3, 1, 2, 4, 5, 8, 9, 10, 4, 10, 4, 1, 3, 9, 10, 8, 1, 6, 7, 9, 10, 4, 10, 1, 2, 4, 9, 10, 8, 1, 4, 6, 7, 9, 10, 1, 2, 4, 6, 7, 2, 3, 4, 7, 9, 5, 9, 2, 3, 7, 9, 6, 6, 5, 6, 7, 9, 2, 3, 5, 9, 2, 3, 4, 5, 7, 8, 10, 1, 5, 6, 9, 10, 2, 3, 3, 4, 6, 7, 10, 2, 4, 10, 4, 8, 5, 4, 6, 1, 3, 10, 2, 6, 7, 6, 7, 1, 2, 3, 4, 5, 6, 7, 8, 9, 10, 1, 6, 7, 9, 1, 3, 4, 2, 4, 3, 10, 3, 4, 5, 4, 8, 1, 2, 4, 5, 7, 8, 9, 10, 1, 3, 5, 6, 7, 9, 10, 1, 2, 6, 7, 9, 10, 9, 5, 4, 10, 1, 2, 3, 4, 5, 6, 7, 8, 9, 10, 1, 2, 3, 4, 5, 6, 7, 9, 2, 5, 1, 4, 6, 4, 3, 1, 2, 3, 4, 5, 6, 7, 8, 9, 10, 1, 2, 4, 5, 6, 7, 8, 9, 10, 1, 3, 4, 5, 8, 4, 1, 2, 3, 4, 5, 6, 7, 8, 9, 10, 2, 4, 6, 8, 1, 5, 6, 9, 10, 3, 4, 8, 9, 1, 2, 4, 6, 7, 9, 10, 6, 10, 8, 5, 9, 2, 3, 4, 5, 2, 1, 2, 3, 4, 6, 7, 9, 10, 1, 2, 5, 8, 9, 10, 6, 1, 6, 7, 9, 10, 1, 4, 8, 9, 1, 1, 9, 1, 3, 9, 1, 5, 9, 9, 6, 7, 1, 3, 3, 4, 8, 10, 5, 9, 7, 4, 7, 1, 2, 5, 6, 7, 9, 10, 3, 4, 5, 7, 8, 1, 1, 5, 9, 1, 3, 5, 9, 10, 3, 4, 9, 9, 3, 5, 4, 5, 10, 8, 6, 1, 2, 3, 10, 3, 1, 2, 10, 6, 7, 4, 1, 9, 1, 8, 9, 2, 3, 4, 5, 6, 7, 8, 7, 8, 9, 10, 6, 8, 4, 3, 1, 2, 4, 5, 6, 7, 8, 9, 10, 1, 2, 3, 4, 5, 6, 8, 1, 2, 3, 5, 6, 8, 2, 2, 6, 3, 5, 6, 8, 10, 1, 2, 3, 4, 5, 6, 7, 8, 9, 10, 1, 2, 4, 5, 6, 7, 8, 9, 10, 1, 2, 3, 4, 5, 6, 7, 8, 9, 10, 4, 3, 3, 3, 8, 2, 1, 9, 2, 3, 8, 4, 8, 9, 5, 8, 6, 6, 7, 9, 10, 6, 7, 9, 10, 1, 2, 3, 4, 5, 6, 7, 8, 9, 10, 2, 8, 1, 9, 1, 6, 7, 9, 10, 5, 1, 2, 3, 4, 5, 6, 7, 8, 9, 10, 1, 2, 3, 4, 5, 7, 8, 9, 10, 5, 8, 1, 2, 3, 4, 5, 6, 7, 8, 9, 10, 5, 2, 4, 2, 4, 6, 7, 8, 2, 3, 4, 9, 10, 8, 8, 3, 7, 1, 2, 4, 5, 6, 7, 8, 9, 10, 4, 7, 1, 2, 5, 9, 2, 8, 4, 5, 8, 1, 2, 3, 4, 5, 7, 8, 9, 10, 1, 1, 2, 3, 4, 5, 6, 7, 8, 9, 10, 5, 3, 1, 2, 4, 7, 9, 10, 9, 1, 2, 3, 4, 6, 7, 8, 9, 10, 6, 2, 1, 8, 9, 1, 3, 4, 5, 9, 3, 5, 6, 7, 9, 10, 3, 9, 10, 4, 8, 2, 4, 2, 3, 4, 5, 7, 8, 9, 6, 1, 2, 4, 5, 6, 7, 9, 10, 3, 1, 4, 5, 3, 3, 7, 8, 10, 3, 1, 2, 3, 4, 5, 6, 9, 10, 8, 10, 10, 2, 4, 5, 6, 8, 2, 3, 4, 5, 6, 7, 8, 10, 2, 3, 4, 5, 8, 10, 10, 2, 3, 4, 5, 6, 7, 8, 9, 10, 1, 2, 3, 4, 5, 7, 8, 9, 10, 1, 6, 7, 9, 10, 1, 2, 4, 6, 7, 9, 10, 10, 4, 9, 4, 7, 8, 3, 8, 10, 1, 3, 4, 5, 6, 7, 9, 1, 2, 3, 4, 5, 6, 7, 8, 9, 10, 1, 2, 3, 4, 5, 6, 7, 8, 9, 10, 1, 2, 3, 4, 5, 6, 7, 8, 9, 10, 3, 4, 5, 6, 8, 9, 7, 2, 2, 3, 4, 5, 8, 9, 1, 2, 4, 5, 6, 7, 8, 9, 10, 1, 8, 1, 2, 3, 4, 5, 9, 10, 1, 3, 4, 5, 9, 10, 1, 3, 4, 9, 7, 8], \"Freq\": [0.017966196566267217, 0.22977819818962808, 0.04917064323399449, 0.0009455892929614325, 0.09550451858910468, 0.00378235717184573, 0.3574327527394215, 0.1427839832371763, 0.001891178585922865, 0.10117805434687327, 0.05214361672530498, 0.09173414053525876, 0.0743529349601571, 0.06952482230040664, 0.03862490127800369, 0.02993429849045286, 0.10911534611036042, 0.33120852845888166, 0.09076851800330867, 0.1120122137062107, 0.03916987579052768, 0.3166231626400987, 0.0016320781579386532, 0.014688703421447877, 0.03100948500083441, 0.32804770974566927, 0.15178326868829475, 0.006528312631754613, 0.11424547105570572, 0.03981759440779964, 0.3354330680414636, 0.016892312779066512, 0.012065937699333224, 0.009652750159466579, 0.01568571900913319, 0.22804622251739792, 0.2002945658089315, 0.038611000637866315, 0.10497365798419904, 0.03977456198925823, 0.3977456198925823, 0.14142066485069593, 0.16351764373361716, 0.22538918460579663, 0.03535516621267398, 0.018331959245875506, 0.31317097045037323, 0.06263419409007465, 0.5010735527205972, 0.047357561385178396, 0.0015276632704896256, 0.05499587773762652, 0.02861325721761457, 0.03497175882152892, 0.06040576523718631, 0.273415568968317, 0.06040576523718631, 0.511859379115105, 0.01748587941076446, 0.01112737780685011, 0.0015896254009785872, 0.9446747159981649, 0.0279687192188538, 0.23928793109463806, 0.34183990156376864, 0.07147561578151526, 0.0279687192188538, 0.2890100985948226, 0.1292069519783191, 0.2836250165377736, 0.04727083608962894, 0.2048402897217254, 0.25998959849295916, 0.006302778145283858, 0.06617917052548052, 0.1247774270709706, 0.07373211599648263, 0.14746423199296527, 0.13044912830146926, 0.011343402460997328, 0.5161248119753784, 0.9713043375493982, 0.9478624822773399, 0.9882656769973912, 0.00902525732417709, 0.9695560554647785, 0.25917799413256515, 0.007869263289039688, 0.07767724407890787, 0.07539261925305765, 0.04493095490838789, 0.10407735317762166, 0.17870843082206256, 0.02132316504126883, 0.2112008727897103, 0.02005392902690759, 0.953448247292223, 0.9426209210601356, 0.988817631715134, 0.9858436296808135, 0.948590707998669, 0.6042869854656092, 0.02726106701348613, 0.17719693558765984, 0.140848846236345, 0.004543511168914355, 0.047706867273600725, 0.012426310900132045, 0.3541498606537633, 0.008698417630092431, 0.03230840834034332, 0.031065777250330114, 0.07207260322076586, 0.1652699349717562, 0.2385851692825353, 0.01118367981011884, 0.07455786540079228, 0.08501615193454226, 0.06294465095153609, 0.08992092993076585, 0.01226194499055898, 0.5313509495908891, 0.11444481991188381, 0.10300033792069543, 0.05267696125808905, 0.2486352571381803, 0.02317786295355918, 0.037927412105824114, 0.2275644726349447, 0.04214156900647124, 0.10746100096650166, 0.05056988280776549, 0.01053539225161781, 0.20227953123106196, 0.9784102679624043, 0.005300105177205344, 0.12084239804028185, 0.0021200420708821378, 0.025440504850585653, 0.12720252425292827, 0.13568269253645682, 0.1568831132452782, 0.24910494332865118, 0.04664092555940703, 0.12826254528836933, 0.9431195785752589, 0.9399168888781775, 0.6906248277165121, 0.16356903814338447, 0.12722036300041015, 0.9921110755179854, 0.29353712305299573, 0.7044890953271897, 0.9478624822773399, 0.8957727952346055, 0.9829978959589477, 0.9242404535267675, 0.5704624299113888, 0.018910356792642725, 0.0015758630660535602, 0.34511401146572973, 0.06303452264214242, 0.9275018914005362, 0.4085346977694297, 0.060928692975173074, 0.1296687568445991, 0.007811370894252958, 0.3936930930703491, 0.8132587995296952, 0.17303378713397768, 0.585046407574622, 0.09227241998660146, 0.1884713259300796, 0.04122810254720491, 0.009816214892191645, 0.08049296211597148, 0.9534483617704576, 0.24184909131264967, 0.014641952421477462, 0.022861995886166563, 0.03814613920332286, 0.035192061083200214, 0.1335757063011979, 0.28230711774041634, 0.0014128199704934394, 0.16363024021896744, 0.06653097679232742, 0.8081551331964499, 0.16163102663929, 0.004118385001354184, 0.16679459255484444, 0.3047604901002096, 0.008236770002708367, 0.03294708001083347, 0.2944645275968241, 0.09060447002979204, 0.1009004325331775, 0.12373442140147059, 0.12009517371319205, 0.7460457760971021, 0.003639247688278547, 0.045202856893531804, 0.904057137870636, 0.9485891343570237, 0.9449001852908033, 0.9765336633989778, 0.9463072615626776, 0.0391854382220598, 0.9012650791073753, 0.03049784603207954, 0.03284383418839335, 0.7905980086777542, 0.14075928937882864, 0.18490379378229246, 0.07840857078109871, 0.056758443028108764, 0.10883577735286835, 0.0906964811273903, 0.129315627930021, 0.19426601118899084, 0.014628464697966177, 0.06495038325896983, 0.07782343219318007, 0.26336594096324817, 0.02023668042527703, 0.02283853933709836, 0.01850210781739614, 0.0196584895559834, 0.18964660512831044, 0.25122393270808197, 0.015322058036281179, 0.15090781688563729, 0.048278937586018054, 0.0731071121611204, 0.8146221069381986, 0.04438646095496595, 0.06788517557818322, 0.043763055173994786, 0.8927663255494936, 0.05251566620879374, 0.9330579405194751, 0.08685829592235618, 0.06857233888607067, 0.004571489259071378, 0.11428723147678445, 0.7268667921923491, 0.01311289440033917, 0.03933868320101751, 0.059736518934878434, 0.08741929600226113, 0.1398708736036178, 0.09033327253566983, 0.5376286704139059, 0.030596753600791393, 0.088810850769583, 0.04701750923095571, 0.10100057538501597, 0.7540215369260675, 0.008706946153880688, 0.9838438453853465, 0.9242404946263361, 0.011560707254693096, 0.11560707254693096, 0.8670530441019823, 0.9708938977015907, 0.5142517500477478, 0.04897635714740455, 0.3918108571792364, 0.0440787214326641, 0.9630937227567574, 0.9489903579738905, 0.007357253710281802, 0.23052728292216312, 0.011035880565422703, 0.12139468621964973, 0.04536973121340444, 0.06744149234424986, 0.31513570059040386, 0.11035880565422704, 0.09319188033023616, 0.9678864641347067, 0.026885735114852965, 0.9888176402689572, 0.03929078933458192, 0.13096929778193972, 0.052387719112775885, 0.7596219271352503, 0.0002232654977584556, 0.004242044457410657, 0.003795513461893745, 0.004242044457410657, 0.248941030000678, 0.701276928459309, 0.0002232654977584556, 0.009600416403613591, 0.027015125228773126, 0.6346549321879646, 0.3631948579482748, 0.15880458093639727, 0.8233817347710682, 0.01734839959809382, 0.020184475775502145, 0.1110146167652618, 0.7670100794690815, 0.09083014098975965, 0.010280281454106026, 0.06635454393104799, 0.8429830792366941, 0.014953136660517856, 0.029906273321035712, 0.015887707701800223, 0.019625991866929687, 0.03334451007350678, 0.10547013512380948, 0.06668902014701356, 0.022833740593814423, 0.03787501415958107, 0.0036244032688594325, 0.4802334331238748, 0.14008318634141706, 0.04131819726499753, 0.06868244194488625, 0.3468495409794764, 0.08279634204026211, 0.30433250047231475, 0.2640531989392143, 0.05236306382263533, 0.9205764446237502, 0.02533696636579129, 0.980768458960829, 0.9762046387599148, 0.9839903582857108, 0.9336003205407939, 0.047376898912707126, 0.3123914272056626, 0.031091089911464052, 0.042935314639640836, 0.10215643828052474, 0.04589637082168503, 0.21319604510718207, 0.060701651731906, 0.14509175292016557, 0.11555250681429234, 0.004126875243367583, 0.8253750486735167, 0.053649378163778585, 0.3179474553908734, 0.023606307592825865, 0.00442618267365485, 0.0014753942245516165, 0.025081701817377483, 0.24491544127556836, 0.09958911015723412, 0.08778595636082119, 0.1954897347530892, 0.9485891164550646, 0.9963879269235892, 0.958454512817827, 0.9715888757530017, 0.9684502195133021, 0.25783564969223627, 0.016962871690278703, 0.08782998008522083, 0.05842766915540442, 0.024501925774847014, 0.0866991219725356, 0.20129274405797393, 0.0026386689295989094, 0.24275754152309967, 0.02148630414101969, 0.6068510851713119, 0.005872752437141728, 0.04698201949713383, 0.09396403899426765, 0.03915168291427819, 0.0626426926628451, 0.1468188109285432, 0.9592711078796009, 0.9592711966939403, 0.09382124298402279, 0.026061456384450777, 0.32316205916718965, 0.03127374766134093, 0.5264414189659057, 0.9886528267482562, 0.0008692318917493524, 0.010648090673929566, 0.9031319355275771, 0.08518472539143652, 0.978164034627065, 0.6743384903403247, 0.15921881021924333, 0.1498529978534055, 0.9485911211947594, 0.00993090499418779, 0.1064025535091549, 0.8838505444827133, 0.11104611734974089, 0.8867595747783656, 0.9366895027520722, 0.12612967848672593, 0.05045187139469038, 0.7693910387690283, 0.05045187139469038, 0.9489902174947669, 0.9492779142444951, 0.005974617429742365, 0.33159126735070127, 0.16878294239022182, 0.0044809630723067735, 0.0029873087148711824, 0.48543766616656714, 0.94262090953939, 0.9503705644776209, 0.06869962262466504, 0.08261347024485037, 0.09130962500746619, 0.042611158336817556, 0.12261578215288317, 0.10783231905643627, 0.12435501310540634, 0.09652731786503568, 0.12000693572409843, 0.14348655358316115, 0.06435806800757117, 0.04400551658637345, 0.0022002758293186726, 0.27833489240881204, 0.0379547580557471, 0.10726344667928528, 0.3448932362457019, 0.12046510165519732, 0.9337604474056864, 0.19453628937400905, 0.018826092520065393, 0.04392754921348591, 0.03137682086677565, 0.012550728346710262, 0.025101456693420524, 0.037652185040130785, 0.6338117815088682, 0.957563154716787, 0.9632154290851039, 0.9584537480672297, 0.06466546469167359, 0.017886192361526738, 0.0027517219017733443, 0.1926205331241341, 0.0013758609508866722, 0.5723581555688556, 0.1485929826957606, 0.05464212166810808, 0.36568189116349253, 0.26564477610957155, 0.3127210655467108, 0.9466605755179712, 0.04595439686980443, 0.0008169401722270547, 0.0016338803444541094, 0.0049016410333623285, 0.6690740010539579, 0.2434481713236623, 0.04003006843912568, 0.040847008611352736, 0.0033867108635488577, 0.0005644518105914762, 0.0002822259052957381, 0.002540033147661643, 0.18937358245344027, 0.6652064587820548, 0.0784588016722152, 0.06011411782799222, 0.005885388160666402, 0.005885388160666402, 0.8886936122606267, 0.10005159873132884, 0.0473385314999413, 0.001972438812497554, 0.001972438812497554, 0.946770629998826, 0.9491989821575372, 0.963093835469741, 0.04721908034265397, 0.01023080074090836, 0.20304204547341206, 0.7255998679321161, 0.013378739430418625, 0.9899844918711859, 0.05392619795694829, 0.9398565929639559, 0.9648602279010549, 0.03042352069958281, 0.5691715914004536, 0.005331818186421111, 0.12885227283851017, 0.032879545482930185, 0.06442613641925508, 0.00044431818220175924, 0.1981659092619846, 0.0013329545466052777, 0.0105370530460011, 0.09579139132728272, 0.11590758350601209, 0.13315003394492297, 0.045021953923822876, 0.015326622612365235, 0.2854583461553025, 0.07088562958218922, 0.13602377568474147, 0.09195973567419141, 0.14287639016567638, 0.014287639016567637, 0.8072516044360715, 0.028575278033135275, 0.0355852231753057, 0.026688917381479275, 0.01779261158765285, 0.05041239949834974, 0.8688725325303808, 0.8609188272296388, 0.02207484172383689, 0.005518710430959223, 0.01931548650835728, 0.011037420861918446, 0.04139032823219417, 0.024834196939316502, 0.013796776077398057, 0.6767233010515968, 0.31580420715741186, 0.9654700057018168, 0.9502256058694771, 0.9534526747182105, 0.9557699664423783, 0.02079810056607089, 0.07279335198124813, 0.8423230729258712, 0.062394301698212674, 0.9733071066629952, 0.9492589223017512, 0.33420108180894936, 0.0231273815965046, 0.0008334191566307964, 0.015418254397669733, 0.2773202243688975, 0.17918511867562123, 0.00229190268073469, 0.06646517774130602, 0.10105207274148406, 0.027976024709422554, 0.027976024709422554, 0.9232088154109442, 0.19967282460032057, 0.05412076560008689, 0.004920069600007899, 0.03690052200005924, 0.04018056840006451, 0.22140313200035547, 0.2755238976004424, 0.020910295800033573, 0.041820591600067146, 0.10455147900016785, 0.08557637871317716, 0.15515067034990657, 0.04244031789840494, 0.12732095369521482, 0.022959516240120704, 0.16767404284451787, 0.20524416032835174, 0.07166152038583129, 0.06261686247305646, 0.05913814789121999, 0.9545523671528249, 0.9943322411148896, 0.9728610456164885, 0.954335215601934, 0.9466581892490826, 0.9754282652678127, 0.947862520321566, 0.3776395275475071, 0.03082771653449038, 0.5857266141553172, 0.9841696066877422, 0.9776961731892738, 0.09886822198932962, 0.029393255186016917, 0.08550765145023104, 0.05611439626421411, 0.7294871514347835, 0.2714857937755751, 0.027272545493436766, 0.12024713240288028, 0.03718983476377741, 0.03718983476377741, 0.03347085128739967, 0.4574349675944621, 0.01611559506430354, 0.9516483017371148, 0.291523583643857, 0.2803825549695695, 0.09005664845049086, 0.008355771505715646, 0.0027852571685718823, 0.0018568381123812547, 0.3258750887229102, 0.1317829879700471, 0.8471763512360171, 0.10677975472899462, 0.04004240802337298, 0.002224578223520721, 0.5272250389744109, 0.32033926418698383, 0.07720836218128242, 0.07126925739810686, 0.07720836218128242, 0.19599045784479385, 0.5701540591848548, 0.9523878827867842, 0.038095515311471366, 0.1266690459794416, 0.07740886143188097, 0.5277876915810066, 0.26037526117996324, 0.01494875803272142, 0.8147073127833174, 0.16443633835993562, 0.018422344314863247, 0.023446620037098676, 0.8825977685393573, 0.07368937725945299, 0.9736495207383858, 0.962450024877134, 0.022566792766686293, 0.007757335013548413, 0.18547082805120296, 0.7831382302314103, 0.00035260613697947333, 0.00035260613697947333, 0.00035260613697947333, 0.01399834646886626, 0.2790337062794008, 0.029863139133581355, 0.03919537011282553, 0.02426380054603485, 0.03639570081905228, 0.34155965384033676, 0.026130246741883686, 0.20904197393506949, 0.9555251636928881, 0.019077607711699394, 0.013626862651213852, 0.005904973815526003, 0.01317263389617339, 0.02589103903730632, 0.41652776837210337, 0.4019924482108086, 0.0331586991179537, 0.002271143775202309, 0.06813431325606925, 0.9489905540290905, 0.5221537942065609, 0.03833271901913245, 0.0222744178084148, 0.07562941860531537, 0.04869291334862771, 0.0222744178084148, 0.05801708824517344, 0.0005180097164747628, 0.11603417649034688, 0.09634980726430589, 0.9618564170848769, 0.9428038323760554, 0.8670537072712127, 0.1050974190631773, 0.10722046897971155, 0.0025681549456218335, 0.003210193682027292, 0.1495950255824718, 0.5123469116515558, 0.22407151900550498, 0.10341081485509972, 0.8531392225545726, 0.05170540742754986, 0.9188131161678589, 0.26678423591623085, 0.054283641054915455, 0.11320125146817735, 0.0556076323001573, 0.1933027218053087, 0.019859868678627605, 0.047001689206085336, 0.04170572422511797, 0.1350471070146677, 0.07348151411092214, 0.9013943756849986, 0.1001549306316665, 0.15386462761737135, 0.8462554518955424, 0.9503704644456878, 0.015882848578994056, 0.007941424289497028, 0.9529709147396433, 0.02382427286849108, 0.9188131597257752, 0.07923567453543995, 0.14136364661436446, 0.052223512761994516, 0.06302837747137269, 0.02791256716589362, 0.19628837555370351, 0.15036770053884627, 0.03331499952058271, 0.009904459316929994, 0.24671107753080168, 0.23633450026570846, 0.034702281051673646, 0.014359564573106337, 0.015257037358925484, 0.02991575952730487, 0.25817300472064103, 0.20372632238094615, 0.039488802576042425, 0.047865215243687795, 0.12026135329976557, 0.5247836195697648, 0.07421182498966371, 0.01590253392635651, 0.2491396981795853, 0.021203378568475345, 0.11131773748449557, 0.02830341563801632, 0.09057093004165222, 0.10566608504859426, 0.007547577503471018, 0.026416521262148565, 0.10755297942446201, 0.003773788751735509, 0.600032411525946, 0.032077204389751826, 0.2405016006204391, 0.7400049249859664, 0.9353916722990474, 0.9478624822773399, 0.9914069814129147, 0.04347366554308094, 0.016147361487430064, 0.1676841385233122, 0.06086313176031333, 0.1254525777100336, 0.5825471182772847, 0.003726314189406938, 0.02989475610118404, 0.1893334553074989, 0.15694746953121622, 0.31638616873753106, 0.10961410570434148, 0.0996491870039468, 0.09466672765374945, 0.00249122967509867, 0.08097782111531569, 0.16195564223063139, 0.506111381970723, 0.07085559347590123, 0.1518334145912169, 0.030366682918243383, 0.9523738459415932, 0.9727475464483457, 0.022362012562030936, 0.9536297884019198, 0.9964350156476838, 0.9547251198666141, 0.042696169381051835, 0.9448847919545819, 0.011138131142883086, 0.015435699437694437, 0.9812694642534321, 0.3078365187495393, 0.09261183403058174, 0.00043479734286658094, 0.04652331568672416, 0.05913243862985501, 0.05043649177252339, 0.20044157506149382, 0.016087501686063495, 0.04652331568672416, 0.1800060999467645, 0.23661769966053514, 0.018021038426158403, 0.015823350813212258, 0.0564073153989511, 0.01816755093368815, 0.13449848191230418, 0.3482602303981994, 0.15881955816224155, 0.013186125677676882, 0.4531791733359206, 0.0009324674348475733, 0.0139870115227136, 0.007459739478780586, 0.4774233266419575, 0.047555839177226236, 0.08874220673185633, 0.008989470292317914, 0.068919272241104, 0.07237676081507244, 0.037110377360594464, 0.027198910115218303, 0.3515113383534569, 0.016826444393313017, 0.3079469823214547, 0.020514432205546006, 0.9222077294982828, 0.05949727287085695, 0.965522655856171, 0.43808318778573696, 0.02738019923660856, 0.010118769283094468, 0.04166552057744781, 0.019047095121119, 0.17201907781260595, 0.10118769283094468, 0.020237538566188935, 0.14701976546613726, 0.02321364717886378, 0.688702339063662, 0.0017196063397344867, 0.006018622189070703, 0.08855972649632607, 0.029233307775486272, 0.04384996166322941, 0.02063527607681384, 0.06448523774004325, 0.05588720604137082, 0.9822042477434103, 0.03040794538868244, 0.04561191808302366, 0.0506799089811374, 0.028718615089311193, 0.038854596885538675, 0.08615584526793359, 0.035475936286796184, 0.4966631080151465, 0.18920499352957962, 0.012405808265012369, 0.016541077686683156, 0.037217424795037105, 0.008270538843341578, 0.11165227438511131, 0.004135269421670789, 0.7608895735874253, 0.04548796363837868, 0.9076618102748609, 0.9188130724787785, 0.9196898676313934, 0.07967610239380883, 0.9706079910793332, 0.014795796425612818, 0.004035217206985314, 0.025556375644240324, 0.31340186974252604, 0.5057472232754927, 0.13719738503750067, 0.40041889157165156, 0.024002805303319264, 0.06047218390371132, 0.03312014995341728, 0.005209911228627437, 0.10010472289291289, 0.13210846329733858, 0.005768116003123234, 0.20262833314197423, 0.036283310342226795, 0.31193786486475095, 0.11163529752865231, 0.06302854118842571, 0.04700433580153782, 0.1404788672250505, 0.029911850055524065, 0.15543479225281256, 0.03525325185115336, 0.028309429516835277, 0.07745032603662481, 0.13837472811135415, 0.014565760853826753, 0.8229654882412115, 0.029131521707653506, 0.9399165679069711, 0.9627931589841927, 0.15529947162430494, 0.03011596121223858, 0.03607172966092755, 0.057310224694931626, 0.05854632758050859, 0.1674357545008787, 0.26250330370070646, 0.05910819252849811, 0.13473521452788828, 0.03899342739047309, 0.3420845323634419, 0.028810310793020374, 0.005762062158604074, 0.01849925219341308, 0.004852262870403431, 0.27233325360139254, 0.23594128207336684, 0.008794726452606219, 0.029720110081221017, 0.05307162514503753, 0.5350488502999751, 0.009501422424860823, 0.0065322279170918155, 0.0005938389015538014, 0.02137820045593685, 0.1769639926630328, 0.034442656290120485, 0.02909810617613627, 0.04513175651808891, 0.14073981966825094, 0.9695588611662425, 0.9784105578509871, 0.006366281639379917, 0.457099021707478, 0.005093025311503933, 0.0152790759345118, 0.5143955564618973, 0.9759852389051888, 0.9723605394182085, 0.0011488082655544084, 0.008041657858880858, 0.36302341191519305, 0.3331543970107784, 0.29409491598192855, 0.9275017051652422, 0.9310663716924727, 0.04070279392344584, 0.9361642602392543, 0.907661866271872, 0.9819019064712865, 0.9736497272434028, 0.9584545004802272, 0.03497636185288174, 0.0069952723705763485, 0.8883995910631962, 0.06995272370576348, 0.7096743211016353, 0.0038257375800627245, 0.07268901402119177, 0.1721581911028226, 0.040170244590658606, 0.7656123742013755, 0.04449712944076371, 0.06281947685754877, 0.00523495640479573, 0.1204039973103018, 0.0013087391011989324, 0.1546817559281219, 0.7424724284549851, 0.10312117061874793, 0.9740310811598742, 0.19196662071690185, 0.8062598070109878, 0.9599151637569846, 0.3097434176829606, 0.6780869414140489, 0.9695590793100708, 0.02268723766403776, 0.05545769206764786, 0.10839457995040264, 0.020166433479144676, 0.34282936914545953, 0.4487031449109691, 0.16924753528754127, 0.8220594571109147, 0.443576952051578, 0.3079930534999636, 0.02008650348912806, 0.0033477505815213433, 0.1824524066929132, 0.04184688226901679, 0.00952296480469083, 0.1509023653666393, 0.0725210396664917, 0.02124353687200262, 0.029301430168279477, 0.02637128715145153, 0.6446314637021485, 0.000732535754206987, 0.04541721676083319, 0.02378465837530883, 0.081547400143916, 0.8902257849044163, 0.3821680929315528, 0.5334429630502924, 0.07165651742466614, 0.9784104526504479, 0.13778513740583548, 0.09705619741794701, 0.05199439147390018, 0.05632725743005853, 0.061526696577448546, 0.24437363992733085, 0.11265451486011706, 0.038995793605425134, 0.054594111047595185, 0.14515100953130466, 0.9454057373249799, 0.5855851599056793, 0.001565735721672939, 0.12839032917718102, 0.06654376817109992, 0.027400375129276434, 0.008611546469201165, 0.008611546469201165, 0.17301379724485977, 0.9940445493317164, 0.7066381532691937, 0.0011896265206552082, 0.004758506082620833, 0.023792530413104165, 0.07137759123931249, 0.19152986982548853, 0.05611836362018283, 0.004008454544298773, 0.2701698362857373, 0.01362874545061583, 0.5595802543841089, 0.09700459997203033, 0.5514265479044793, 0.1543994334132542, 0.28674180491032925, 0.02917407835909089, 0.14392545323818173, 0.027229139801818167, 0.10308174353545449, 0.6690588637018178, 0.025284201244545442, 0.9129578592616147, 0.9819869409047344, 0.6992046609493274, 0.007208295473704406, 0.2883318189481763, 0.8682748125906602, 0.0394670369359391, 0.0394670369359391, 0.030126104502761437, 0.9339092395856046, 0.9186178053876904, 0.06855356756624556, 0.08456049554585285, 0.01973078229403233, 0.8794291536768696, 0.011274732739447046, 0.938752763510756, 0.032610048282302156, 0.04565406759522302, 0.02282703379761151, 0.8967763277633093, 0.7725982247454628, 0.07924084356363721, 0.11886126534545582, 0.06472320644075852, 0.03883392386445511, 0.7119552708483436, 0.09061248901706193, 0.012944641288151704, 0.06472320644075852, 0.9853665010117518, 0.989196566980582, 0.9188130508141668, 0.12730541239481158, 0.0021761608956378047, 0.13274581463390608, 0.0010880804478189024, 0.0032642413434567073, 0.24808234210270974, 0.39279704166262375, 0.05658018328658292, 0.03699473522584268, 0.2630365408424539, 0.0003525958992526192, 0.009872685179073337, 0.011283068776083814, 0.005641534388041907, 0.23200810170822342, 0.27855076040956916, 0.1452695104920791, 0.05394717258565073, 0.9476736222893415, 0.9426200986340206, 0.6087459790164025, 0.0016632403798262365, 0.08981498051061677, 0.06652961519304945, 0.2328536531756731, 0.9321477432291616, 0.06428605125718356, 0.11297289303342321, 0.5164475110099347, 0.08876441595483252, 0.28243223258355804, 0.10803191337896591, 0.06173252193083766, 0.01028875365513961, 0.13889817434438476, 0.4990045522742711, 0.03086626096541883, 0.08231002924111688, 0.005144376827569805, 0.06687689875840747, 0.951251787669946, 0.9543351749769997, 0.9561331100132109, 0.77892624912779, 0.1512478153646194, 0.06806151691407873, 0.993522974224621, 0.2152998236645017, 0.011238177608861352, 0.0023659321281813374, 0.01153391912488402, 0.054712180464193426, 0.4279379736847994, 0.1422516692069029, 0.001478707580113336, 0.01597004186522403, 0.1171136403449762, 0.9391045933793172, 0.9527754180081921, 0.9275019614223908, 0.9697715947978359, 0.2882466188934658, 0.10748179009586861, 0.4934391272583059, 0.10748179009586861, 0.9806318913128642, 0.9630938731452745, 0.9536294931785028, 0.871634528964323, 0.11246897147926749, 0.9732789377763084, 0.5384422450663504, 0.07494800480777038, 0.3510722330469244, 0.033529370571897275, 0.11848981423841938, 0.8689253044150755, 0.9126835419547842, 0.05215334525455909, 0.2574228128951683, 0.7240016612676607, 0.8566282808477332, 0.12979216376480807, 0.9575625880460938, 0.19327507399824584, 0.1279614283022869, 0.32123650230053274, 0.016661644310193607, 0.34056400970035733, 0.01814942246057366, 0.7894998770349543, 0.05444826738172098, 0.01814942246057366, 0.12704595722401563, 0.9478624822773399, 0.023711174765490846, 0.0028453409718589015, 0.0009484469906196339, 0.0028453409718589015, 0.4277495927694549, 0.4182651228632585, 0.1232981087805524, 0.9759198371225145, 0.46405238006559335, 0.017051793493223902, 0.017051793493223902, 0.0073079114970959575, 0.005480933622821969, 0.0876949379651515, 0.02923164598838383, 0.033494594361689806, 0.32459306899601215, 0.014006830369433919, 0.23483599613512288, 0.0016773999723937348, 0.5082521916353017, 0.13754679773628625, 0.0016773999723937348, 0.11574059809516771, 0.9701277859799735, 0.06121358710010183, 0.05286627976826976, 0.03617166510460563, 0.8263834258513747, 0.011129743109109424, 0.011129743109109424, 0.9555247360327137, 0.09500393507040954, 0.807533448098481, 0.07125295130280715, 0.9747695552936448, 0.016939147106887813, 0.010163488264132688, 0.9723070439353605, 0.1941869971923388, 0.03411739844990894, 0.0017956525499952072, 0.06849131869267433, 0.046686966299875385, 0.21573482779228131, 0.32988702561340516, 0.018469569085664987, 0.06669566614267912, 0.024113048528507066, 0.9076617398626383, 0.8957725292342532, 0.9741626759006442, 0.9607275462456969, 0.9275019571554768, 0.9014816204676317, 0.9177874627944053, 0.079936327404674, 0.9451390151495641, 0.056067568695313125, 0.98048060871444, 0.942348276107158, 0.9630936926690441, 0.9573629993672054, 0.025529679983125476, 0.7338498987614317, 0.2505828922600011, 0.965470009196747, 0.21168138994015018, 0.38890301872725264, 0.11814775252473499, 0.04430540719677562, 0.14276186763405477, 0.05415105324050353, 0.03938258417491166, 0.016324655875947558, 0.0019205477501114776, 0.4225205050245251, 0.005761643250334433, 0.2026177876367609, 0.34953969052028894, 0.06500460474385665, 0.5316130004394852, 0.006233318263109542, 0.2137137690208986, 0.18254717770535087, 0.23395791272966138, 0.39799736878149294, 0.102188513606059, 0.2635387982472048, 0.0004738695584004043, 0.01563769542721334, 0.888505422000758, 0.09524778123848127, 0.9863065326477403, 0.917546710057754, 0.0037134087446559763, 0.018567043723279882, 0.11140226233967929, 0.3564872394869737, 0.5050235892732128, 0.12721738131115523, 0.6360869065557762, 0.23130432965664588, 0.9813199498209716, 0.09366022569056076, 0.01338003224150868, 0.04906011821886516, 0.3255807845433779, 0.29436070931319097, 0.01338003224150868, 0.12934031166791723, 0.08028019344905209, 0.50878365655905, 0.026284026538105902, 0.05006481245353505, 0.061955205411249624, 0.07822626945864852, 0.1307943225348603, 0.033167938250466975, 0.041929280429835604, 0.05507129369888856, 0.01376782342472214, 0.33794220329160884, 0.05001258822497383, 0.13360505711528722, 0.1386063159377846, 0.027864156296771133, 0.05215598486318699, 0.08859372771281078, 0.0678742268767502, 0.06644529578460809, 0.0378666739417659, 0.06604482269396544, 0.9277725092723718, 0.0031449915568554972, 0.9512466355224127, 0.0169166268229664, 0.005638875607655467, 0.46802667543540377, 0.3270547852440171, 0.1748051438373195, 0.06372341836345205, 0.046464992556683786, 0.027878995534010274, 0.002655142431810502, 0.8589385766906974, 0.9761432474688885, 0.7656224313721386, 0.03828112156860693, 0.19140560784303465, 0.9451831945212813, 0.007876526621010677, 0.03938263310505338, 0.9477531311991184, 0.9884224301859317, 0.04844748980721275, 0.8882039797989004, 0.06459665307628366, 0.9799045923664393, 0.894175562631222, 0.973853337566891, 0.06241746894420453, 0.936262034163068, 0.9890071901119608, 0.9666070988952865, 0.015806622048051475, 0.11064635433636033, 0.02634437008008579, 0.05268874016017158, 0.08430198425627454, 0.08957085827229169, 0.04215099212813727, 0.5690383937298531, 0.027281329638859937, 0.049919028700892654, 0.023218152884136117, 0.0011609076442068058, 0.1607857087226426, 0.4173462980923467, 0.319830055978975, 0.9852986356306833, 0.3487486007705863, 0.011090245112522903, 0.004752962191081244, 0.02950797360296272, 0.007921603651802073, 0.23091474645003043, 0.2220029423417531, 0.06258066884923638, 0.08238467797874156, 0.2725178889304397, 0.009967202003700291, 0.008022382100539259, 0.044973960260598876, 0.02333783883793239, 0.20444919231980355, 0.27434115758965316, 0.10793750462543732, 0.05433340604456135, 0.002463613612271758, 0.0488616699767232, 0.032026976959532855, 0.014371079404918587, 0.02422553385400562, 0.43688081390952505, 0.22295703191059407, 0.21802980468605057, 0.0004106022687119596, 0.9630973452427991, 0.24074406717130942, 0.04926422996169652, 0.03067395450445255, 0.03160346827731475, 0.646012072139228, 0.001859027545724397, 0.24661233709891633, 0.14713845322708455, 0.24143140564725843, 0.05077312822624748, 0.0031085588709947438, 0.2279609838729479, 0.0828949032265265, 0.8424084500739866, 0.1371362593143699, 0.9728971436777615, 0.95164811032148, 0.07657639537345359, 0.0008604089367803775, 0.13938624775842115, 0.01978940554594868, 0.5790552144531941, 0.1841275124710008, 0.0723567163391705, 0.10552021132795698, 0.003014863180798771, 0.03316349498878648, 0.1537580222207373, 0.003014863180798771, 0.6240766784253455, 0.003014863180798771, 0.01909447168091768, 0.02545929557455691, 0.005304019911366023, 0.25777536769238873, 0.002121607964546409, 0.5929894260907214, 0.09653316238686162, 0.2432511249114847, 0.013099079197548498, 0.013221500498460166, 0.061455493057657434, 0.031217431732475393, 0.134663431002835, 0.3022581919509088, 0.15351631134323193, 0.04749946475372726, 0.8100015504542449, 0.015187529071017091, 0.001012501938067806, 0.002025003876135612, 0.14377527520562847, 0.027337552327830764, 0.07327529679970718, 0.8976223857964131, 0.0720689194175469, 0.9237925125340103, 0.9697716113325865, 0.8957728907891331, 0.9369507510683808, 0.04570491468626248, 0.06265527019085557, 0.17722490711127717, 0.6355034547929636, 0.12352038980482954, 0.9098014339591418, 0.04332387780757818, 0.5957530247539568, 0.08656240530613046, 0.13238956105643482, 0.005091906194478263, 0.16463830028813048, 0.01612436961584783, 0.6848320073086351, 0.016703219690454515, 0.29648214950556767, 0.42423061112207555, 0.013748214249326523, 0.17970880054476812, 0.021604336677513106, 0.36039961639305956, 0.8988013550095819, 0.07649373234124102, 0.9688845078243755, 0.9936669722559173, 0.03692241539998237, 0.020768858662490085, 0.011538254812494491, 0.3953775315748112, 0.4338383809497928, 0.06076814201247099, 0.040768500337480536, 0.9476735886358046, 0.9845772463416349, 0.17114098237274025, 0.5867690824208237, 0.23226276179157607, 0.9955663144775586, 0.4526420589722684, 0.0022594445539381117, 0.0037657409232301864, 0.2786648283190338, 0.08510574486500222, 0.05272037292522261, 0.12502259865124218, 0.9804807605392695, 0.9789485191446335, 0.02049642961319771, 0.9430579710824132, 0.05509273370584544, 0.907661884868667, 0.008867498305301025, 0.01773499661060205, 0.042226182406195356, 0.021113091203097678, 0.1490584238938696, 0.43873003520036974, 0.3221857717592706, 0.036522560328578514, 0.9130640082144628, 0.9428038352059717, 0.021527412477667526, 0.014351608318445017, 0.9328545406989261, 0.021527412477667526, 0.9968934361251479, 0.701589157406789, 0.0450926868654647, 0.07294405228236936, 0.04244017587337854, 0.13793057158848024, 0.07555432685273787, 0.9066519222328545, 0.14796978735202898, 0.658465553716529, 0.11097734051402174, 0.051789425573210146, 0.029593957470405798, 0.975919808938153, 0.013711509555184938, 0.02938180618968201, 0.12144479891735231, 0.7782913995133546, 0.02611716105749512, 0.030034735216119386, 0.02284154764727946, 0.008157695588314093, 0.014683852058965368, 0.6591418035357788, 0.2936770411793074, 0.017315099587625702, 0.031167179257726264, 0.03809321909277654, 0.9073112183915868, 0.0034630199175251404, 0.9354551201138827, 0.976143276170511, 0.008989140154646136, 0.07191312123716909, 0.8899248753099676, 0.02696742046393841, 0.9695565794852126, 0.9757299865290651, 0.02688567483825832, 0.20042048515792565, 0.0024441522580234834, 0.7674638090193738, 0.9355054567667521, 0.05524638524213103, 0.007366184698950804, 0.9761432481252302, 0.14998393688259218, 0.018241289620855805, 0.054723868862567415, 0.1905201360400495, 0.21889547545026966, 0.03242895932596587, 0.33645045300689597, 0.0869216614628387, 0.06893786943604448, 0.04495948006698553, 0.6114489289110032, 0.18583251761020686, 0.9072193767466342, 0.060481291783108945, 0.9310663997053642, 0.04318856576672124, 0.008637713153344249, 0.9328730205611788, 0.008637713153344249, 0.03432142249226464, 0.9266784072911453, 0.9426209064504637, 0.7991795840287024, 0.17981540640645802, 0.9478624596867418, 0.7601821178107335, 0.22643722658192061, 0.8447415206026606, 0.1484005374031701, 0.005707712977045004, 0.8852118894778915, 0.021076473558997416, 0.08430589423598966, 0.9195388300833395, 0.06415387186627951, 0.13529486289138004, 0.023875564039655302, 0.05570964942586237, 0.10823589031310403, 0.19577962512517347, 0.08117691773482802, 0.14962020131517323, 0.18622939950931136, 0.027058972578276008, 0.03820090246344848, 0.003962126039188525, 0.5101237275455225, 0.4843699082907971, 0.0009905315097971312, 0.02345347561627841, 0.8208716465697443, 0.14072085369767046, 0.9667922128113301, 0.0161132035468555, 0.9336002857255365, 0.9426204996384026, 0.1936753140579931, 0.7989106704892215, 0.9502255941678547, 0.9685009483912906, 0.026902804121980296, 0.02033463121038442, 0.5134494380622067, 0.11692412945971042, 0.13725876067009485, 0.030501946815576633, 0.11184047165711432, 0.02033463121038442, 0.05083657802596105, 0.01448867338357512, 0.0020698104833678744, 0.022767915317046618, 0.5340111047089116, 0.1635150281860621, 0.1531659757692227, 0.10969995561849734, 0.018753318820588238, 0.005707531814961637, 0.028537659074808187, 0.6449510950906651, 0.20302506027506395, 0.09947412591790282, 0.9823782317936988, 0.9391044810604726, 0.9673399277435434, 0.9355044962581018, 0.026757212177210377, 0.001737481310208466, 0.00011583208734723106, 0.0016216492228612349, 0.0027799700963335454, 0.4785023528314115, 0.2876110728831747, 0.017838141451473583, 0.04899697294787874, 0.13401772506074633, 0.3507970397227609, 0.04030897661410607, 0.25492704128921134, 0.053382158218681, 0.01307318160457494, 0.0217886360076249, 0.01307318160457494, 0.2516587458880676, 0.9466581892490827, 0.9478624822773399, 0.9534483903500509, 0.9607216543457291, 0.9387170233811761, 0.9188138321945188, 0.9379807188358323, 0.12125899692829029, 0.04475034410448808, 0.008372645026000996, 0.03753254666828033, 0.057453667592213736, 0.13251876092877438, 0.3389477676043162, 0.04041966564276343, 0.13453974421091255, 0.08401516215745827, 0.1699379014356253, 0.1256062749741578, 0.26451203788675587, 0.004433162646146746, 0.042853905579418546, 0.15663841349718505, 0.03250985940507614, 0.11969539144596215, 0.08275236939473926, 0.04918881091162751, 0.23319139987734525, 0.1311701624310067, 0.5046407637970675, 0.08015954370783743, 0.9242404226136168, 0.1588006305844393, 0.014683619951300892, 0.008973323303572768, 0.05873447980520357, 0.03507753655032991, 0.2806202924026393, 0.309715613417254, 0.002447269991883482, 0.10632028520293794, 0.02447269991883482, 0.05007738044399417, 0.04173115036999514, 0.868007927695899, 0.033384920295996115, 0.1410348569291585, 0.013431891136110331, 0.04701161897638616, 0.7656177947582888, 0.026863782272220662, 0.0038483434184720207, 0.5695548259338591, 0.39637937210261814, 0.026938403929304144, 0.01296198304080641, 0.0069795293296649906, 0.0099707561852357, 0.38885949122419233, 0.1465701159229648, 0.32404957602016027, 0.10868124241906914, 0.48287634555511116, 0.5130561171523056, 0.9950823985153264, 0.985664883335672, 0.9591631128914283, 0.9728512191433508, 0.9134812893738969, 0.9330587480933327, 0.9713665111218579, 0.9658682760732771, 0.1398541036715927, 0.0277396569265969, 0.0011558190386082043, 0.0034674571158246127, 0.1086469896291712, 0.15372393213489116, 0.33981079735081204, 0.22654053156720802, 0.016212203978097795, 0.27290543363131287, 0.0027020339963496325, 0.03782847594889485, 0.3404562835400537, 0.33099916455282996, 0.8957725909232563, 0.02003071334642892, 0.6549172363701976, 0.20074258375442894, 0.0013063508704192772, 0.1223615315292723, 0.9476735851291698, 0.8350988564338161, 0.1452345837276202, 0.018154322965952523, 0.9534481978840004, 0.06075353147408014, 0.9383045416552377, 0.284691004438596, 0.02554919270602785, 0.6861783183904623, 0.12415772860831488, 0.005067662392176118, 0.8691041002582042, 0.9736486701971261, 0.030400534151123555, 0.9626835814522459, 0.9534482595507221, 0.9014817347104711, 0.034764128632440626, 0.020858477179464374, 0.9386314730758968, 0.9599152203576287, 0.057964260963729676, 0.9274281754196748, 0.9602080063984896, 0.018864457820560388, 0.9620873488485797, 0.006768526889331021, 0.006768526889331021, 0.009024702519108028, 0.18500640164171456, 0.002256175629777007, 0.6836212158224331, 0.10604025459951932, 0.19352796111525006, 0.001488676623963462, 0.009229795068573465, 0.7455292532809018, 0.04972179924037964, 0.9476735747101558, 0.0796221543179857, 0.02985830786924464, 0.8857964667875909, 0.44230598287258055, 0.011716714778081604, 0.0014645893472602005, 0.5433626478335344, 0.0014645893472602005, 0.05307155937971879, 0.06633944922464849, 0.8756807297653599, 0.9761432423108918, 0.9900491380701175, 0.9354664397814518, 0.07704126742122058, 0.15408253484244117, 0.7550044207279617, 0.9703382808466661, 0.9648325216297133, 0.06657246910913286, 0.7101063371640839, 0.06657246910913286, 0.15533576125464335, 0.9825281894096611, 0.8773762533452765, 0.07489797284654799, 0.03209913121994914, 0.030977157949950936, 0.960291896448479, 0.9399166134561888, 0.051944724944565576, 0.9350050490021804, 0.8680492801045452, 0.05314587429211501, 0.07086116572282002, 0.029273164235196977, 0.016727522420112557, 0.02509128363016884, 0.016727522420112557, 0.004181880605028139, 0.0418188060502814, 0.865649285240825, 0.9947667170557092, 0.9895409662169474, 0.9754736964446102, 0.9355040544069614, 0.01481675191353279, 0.9779056262931642, 0.9289437486103259, 0.9175466869768152, 0.13081161344522607, 0.01199106456581239, 0.0032702903361306514, 0.02725241946775543, 0.2965063238091791, 0.2725241946775543, 0.0021801935574204344, 0.17223529103621432, 0.08284735518197651, 0.016712085598976918, 0.0037137967997726484, 0.027853475998294863, 0.050136256796930755, 0.03899486639761281, 0.029710374398181187, 0.8300335847491869, 0.01115622316121824, 0.00637498466355328, 0.0318749233177664, 0.02549993865421312, 0.01274996932710656, 0.911622806888119, 0.9592461628076996, 0.9492779410833018, 0.9386925360769963, 0.01821438606757197, 0.032785894921629546, 0.021857263281086364, 0.8487903907488538, 0.07650042148380228, 0.013584696644074256, 0.011320580536728547, 0.011320580536728547, 0.07426300832093927, 0.014943166308481682, 0.17433694026561963, 0.5375011638838714, 0.002716939328814851, 0.14082802187690313, 0.019924221744642243, 0.06538213483090616, 0.0005588216652214201, 0.0005588216652214201, 0.025705796600185325, 0.48226309708608556, 0.2861166925933671, 0.016205828291421184, 0.020676401613192542, 0.1028231864007413, 0.13621830225462697, 0.014248776386467255, 0.013678825331008566, 0.015388678497384636, 0.003989657388210831, 0.2530582686236585, 0.22798042218347608, 0.005129559499128212, 0.16756561030485492, 0.1624360508057267, 0.9498870617494325, 0.9358929910757661, 0.9014816393083308, 0.0094412241146929, 0.9881814573378569, 0.9466582153370245, 0.9618347276600707, 0.033166714746898994, 0.9812716667660785, 0.014644117176609272, 0.9811558508328212, 0.8975178333291978, 0.0498621018516221, 0.0498621018516221, 0.05190093400120393, 0.9416312311646998, 0.9630937512214125, 0.7710722017288492, 0.041123850758871955, 0.041123850758871955, 0.14393347765605186, 0.7083703880156579, 0.006944807725643705, 0.020834423176931117, 0.2639026935744608, 0.28723099629430293, 0.02030926236424364, 0.15086880613438133, 0.2538657795530455, 0.02030926236424364, 0.030463893546365462, 0.0507731559106091, 0.03191455514381143, 0.15522079092671925, 0.9547185170555141, 0.9053921404850742, 0.0714783268804006, 0.989844571726868, 0.0096907860169064, 0.048275977323147534, 0.062405531661629744, 0.3061403440004478, 0.47804992178531464, 0.10361673181553617, 0.9632623661559231, 0.0947633718593726, 0.06170638167587053, 0.02336027306300813, 0.048924345471583065, 0.036583069136408956, 0.2715080793738303, 0.2719488392429437, 0.03966838822020249, 0.03437926979084215, 0.11724212518415401, 0.01884309038379381, 0.20308664080311103, 0.1277142792679358, 0.04815456431413973, 0.1811030353553516, 0.08270023001776171, 0.12248008749465975, 0.15283839977966088, 0.0638571396339679, 0.9609428339469825, 0.9692566296761788, 0.033921416429276624, 0.0361828441912284, 0.02261427761951775, 0.2442341982907917, 0.28267847024397186, 0.0361828441912284, 0.0271371331434213, 0.0361828441912284, 0.2804170424820201, 0.002261427761951775, 0.9354551011329536, 0.9592324085987305, 0.9289437465520616, 0.394585902857314, 0.00732652870026843, 0.003139940871543613, 0.4155188420009381, 0.17792998272080474, 0.08314646698144, 0.87303790330512, 0.027715488993813334, 0.972905070216123, 0.9489906832230374, 0.9939959736004759, 0.9968580510498755, 0.025122251725640407, 0.9546455655743354, 0.002713689077202101, 0.0025198541431162365, 0.002713689077202101, 0.006590387758919388, 0.3551055992453035, 0.5477775237266527, 0.0023260192090303724, 0.0003876698681717287, 0.07966615790929026, 0.8486144944242234, 0.1285779537006399, 0.0132702774899611, 0.946613127617225, 0.0265405549799222, 0.0132702774899611, 0.9492779142444951, 0.9774941742791873, 0.27755108651688803, 0.4467895539052344, 0.27078154782135416, 0.12425662320576411, 0.033888169965208395, 0.007530704436712977, 0.1656754976076855, 0.323820290778658, 0.16944084982604196, 0.015061408873425953, 0.14308338429754655, 0.015061408873425953, 0.9701391331020696, 0.11075993754733315, 0.07730120641324294, 0.025959360362656208, 0.20940550692542675, 0.044419349953878404, 0.08076245446159709, 0.28209171594086413, 0.0178831149164965, 0.09460744665501374, 0.05768746747256935, 0.9577871501133375, 0.9825325256308586, 0.9701396171268738, 0.9821753374676858, 0.01635837524603707, 0.12268781434527803, 0.8179187623018536, 0.03271675049207414, 0.9684501568095669, 0.16867704676956394, 0.0049320773909229225, 0.01578264765095335, 0.16473138485682562, 0.1321796740767343, 0.28211482676079114, 0.001972830956369169, 0.1854461098987019, 0.0443886965183063, 0.9695568869512501, 0.9890911480349026, 0.9335592373470406, 0.046677961867352034, 0.9736497398841579, 0.31850602447134474, 0.32305611053522104, 0.019717039610130865, 0.009100172127752706, 0.3276061965990974, 0.019040985163409338, 0.019040985163409338, 0.10472541839875135, 0.13328689614386535, 0.12376640356216069, 0.6093115252290988, 0.010117022692080641, 0.8194788380585319, 0.16187236307329025, 0.9188131244517621, 0.9782813703585211, 0.9437473294335543, 0.9188131479818588, 0.028340285178685073, 0.007935279850031821, 0.1983819962507955, 0.04874529050733833, 0.27886840615826114, 0.4296387233088657, 0.006801668442884418, 0.8957733761132681, 0.16976826503495895, 0.006647552546549597, 0.029658311361528973, 0.03528316351630171, 0.09102033486814064, 0.4648173280625834, 0.1656774634678515, 0.036817214103967, 0.9942282936213211, 0.13715489925633365, 0.8229293955380019, 0.03918711407323819, 0.9215612123778404, 0.9358928056426379, 0.9980004243762748, 0.0010483197735044903, 0.9355040969064599, 0.994888223244137, 0.06403388879741888, 0.042689259198279254, 0.06759132706394215, 0.014229753066093085, 0.05691901226437234, 0.03201694439870944, 0.6759132706394215, 0.046246697464802526, 0.924846002681937, 0.07144733067929127, 0.9274219822512622, 0.03786197162532562, 0.026605709790769354, 0.031722192442840386, 0.007163075712899441, 0.8964077606428444, 0.014118222042369835, 0.015294740545900656, 0.10235710980718131, 0.010000407280011966, 0.002941296258827049, 0.03235425884709754, 0.7947382491350686, 0.02882470333650508, 0.048538571051778036, 0.037337362347521566, 0.08774280151667568, 0.01120120870425647, 0.80928732888253, 0.005600604352128235, 0.9519632794039644, 0.12044365569507463, 0.02823798626343855, 0.2766170082949082, 0.0835613879224202, 0.07606967728109977, 0.23166674444698565, 0.11410451592164965, 0.029390557131334, 0.03976369494239306, 0.022360633718073328, 0.03913110900662833, 0.4304421990729116, 0.1565244360265133, 0.07267205958373832, 0.09503269330181165, 0.1565244360265133, 0.016770475288554996, 0.005590158429518332, 0.018897250033599867, 0.5366819009542362, 0.3325916005913576, 0.0141729375251999, 0.09637597517135932, 0.003116633609109084, 0.006233267218218168, 0.010908217631881795, 0.46593672456180807, 0.4908697934346808, 0.007791584022772711, 0.01402485124099088, 0.9489903415045697, 0.11948135113607601, 0.8761965749978907, 0.7931738973570363, 0.022990547749479312, 0.1839243819958345, 0.9014810739078222, 0.07840524864627015, 0.9016603594321067, 0.04676241029190388, 0.05395662725988909, 0.4136674756591497, 0.118704579971756, 0.06834506119585951, 0.1690640987476525, 0.12949590542373382, 0.5271520040442301, 0.020073157740407126, 0.08832189405779135, 0.09943933526786299, 0.007720445284771971, 0.01327916588980779, 0.0006176356227817576, 0.011735076832853396, 0.20227566646102563, 0.02933769208213349, 0.09319330659778838, 0.07885587481351324, 0.03222442192290965, 0.08310142500206073, 0.04858023002633031, 0.12687931137249306, 0.17949629403711442, 0.1319600517620663, 0.1357184076666821, 0.08999174416052305, 0.0011940801020353892, 0.17552977499920222, 0.06149512525482255, 0.14149849209119364, 0.09731752831588422, 0.01791120153053084, 0.0011940801020353892, 0.4119576352022093, 0.0071644806122123355, 0.08597376734654803, 0.03818113444747803, 0.18326944534789455, 0.48108229403822317, 0.251995487353355, 0.030544907557982424, 0.007636226889495606, 0.9446742359404207, 0.9735246573761634, 0.28299343535523397, 0.05730032368763002, 0.04560638007790961, 0.18008673158969435, 0.3917471109256338, 0.04209819699499349, 0.0017984315119987592, 0.3357072155731017, 0.09771477881859925, 0.09771477881859925, 0.06114667140795781, 0.0881231440879392, 0.24578563997316374, 0.000599477170666253, 0.07133778330928411, 0.03254912875798069, 0.9601992983604302, 0.9504424078636612, 0.01883993836503498, 0.0006496530470701717, 0.010394448753122747, 0.008445489611912231, 0.0012993060941403434, 0.009095142658982404, 0.145313062729384, 0.22373598547222615, 0.3667424916503501, 0.009226226205040254, 0.23065565512600636, 0.023065565512600635, 0.13239835066596184, 0.47994402116411167, 0.03309958766649046, 0.35306226844256494, 0.930520598394017, 0.066216821608563], \"Term\": [\"10\", \"10\", \"10\", \"10\", \"10\", \"10\", \"10\", \"10\", \"10\", \"10\", \"100\", \"100\", \"100\", \"100\", \"100\", \"100\", \"100\", \"100\", \"100\", \"100\", \"15\", \"15\", \"15\", \"15\", \"15\", \"15\", \"15\", \"15\", \"15\", \"20\", \"20\", \"20\", \"20\", \"20\", \"20\", \"20\", \"20\", \"20\", \"20\", \"2016\", \"2016\", \"2016\", \"2016\", \"2016\", \"2016\", \"2018\", \"2018\", \"2018\", \"2018\", \"2018\", \"2018\", \"2018\", \"2019\", \"2019\", \"2019\", \"2019\", \"2019\", \"2019\", \"2019\", \"2019\", \"2019\", \"2019blend\", \"2021\", \"2021\", \"2021\", \"2021\", \"2021\", \"2021\", \"30\", \"30\", \"30\", \"30\", \"30\", \"30\", \"30\", \"45\", \"45\", \"45\", \"45\", \"45\", \"45\", \"94\", \"abrilliant\", \"acacia\", \"acacia\", \"accounted\", \"acidity\", \"acidity\", \"acidity\", \"acidity\", \"acidity\", \"acidity\", \"acidity\", \"acidity\", \"acidity\", \"acidity\", \"acidulous\", \"acknowledged\", \"acre\", \"acres\", \"africa\", \"aftertaste\", \"aftertaste\", \"aftertaste\", \"aftertaste\", \"aftertaste\", \"aftertaste\", \"age\", \"age\", \"age\", \"age\", \"age\", \"age\", \"age\", \"age\", \"age\", \"age\", \"aged\", \"aged\", \"aged\", \"aged\", \"aged\", \"aged\", \"aged\", \"ageing\", \"ageing\", \"ageing\", \"ageing\", \"ageing\", \"ageing\", \"ageing\", \"ageing\", \"ageing\", \"ageing\", \"aggressive\", \"aging\", \"aging\", \"aging\", \"aging\", \"aging\", \"aging\", \"aging\", \"aging\", \"aging\", \"aging\", \"agreeable\", \"aligned\", \"alsace\", \"alsace\", \"alsace\", \"altitude\", \"amontillado\", \"amontillado\", \"amplitudes\", \"anchors\", \"animal\", \"announce\", \"aperitif\", \"aperitif\", \"aperitif\", \"aperitif\", \"aperitif\", \"apertif\", \"apple\", \"apple\", \"apple\", \"apple\", \"apple\", \"appreciate\", \"appreciate\", \"apricot\", \"apricot\", \"apricot\", \"apricot\", \"apricot\", \"apricot\", \"arinto\", \"aromas\", \"aromas\", \"aromas\", \"aromas\", \"aromas\", \"aromas\", \"aromas\", \"aromas\", \"aromas\", \"aromas\", \"aromatically\", \"aromatically\", \"aromatics\", \"aromatics\", \"aromatics\", \"aromatics\", \"aromatics\", \"aromatics\", \"aromatics\", \"aromatics\", \"asian\", \"asian\", \"asian\", \"asian\", \"aspects\", \"aspects\", \"association\", \"assorted\", \"avaline\", \"avocado\", \"avola\", \"avola\", \"baking\", \"baking\", \"baking\", \"baking\", \"balance\", \"balance\", \"balance\", \"balance\", \"balance\", \"balance\", \"balance\", \"balance\", \"balance\", \"balance\", \"balanced\", \"balanced\", \"balanced\", \"balanced\", \"balanced\", \"balanced\", \"balanced\", \"balanced\", \"balanced\", \"balanced\", \"balsamic\", \"balsamic\", \"balsamic\", \"balsamic\", \"barbaresco\", \"barbaresco\", \"barbaresco\", \"barn\", \"barolo\", \"barolo\", \"barolo\", \"barolo\", \"barolo\", \"barrel\", \"barrel\", \"barrel\", \"barrel\", \"barrel\", \"barrel\", \"barrel\", \"barrel\", \"barrels\", \"barrels\", \"barrels\", \"barrels\", \"barrels\", \"barriques\", \"bartlett\", \"bbq\", \"bbq\", \"bbq\", \"beaufort\", \"beef\", \"beef\", \"beef\", \"beef\", \"bends\", \"benedict\", \"best\", \"best\", \"best\", \"best\", \"best\", \"best\", \"best\", \"best\", \"best\", \"bing\", \"bing\", \"biodynamic\", \"birds\", \"birds\", \"birds\", \"birds\", \"black\", \"black\", \"black\", \"black\", \"black\", \"black\", \"black\", \"black\", \"black\", \"blackberries\", \"blackberries\", \"blackberry\", \"blackberry\", \"blackberry\", \"blackcurrants\", \"blackcurrants\", \"blackcurrants\", \"blackcurrants\", \"blanc\", \"blanc\", \"blanc\", \"blanc\", \"blanc\", \"blanc\", \"blanc\", \"blend\", \"blend\", \"blend\", \"blend\", \"blend\", \"blend\", \"blend\", \"blend\", \"blend\", \"blend\", \"blossom\", \"blossom\", \"blossom\", \"blossom\", \"blueberry\", \"blueberry\", \"blueberry\", \"bluish\", \"bolognese\", \"bonarda\", \"botanicals\", \"bottle\", \"bottle\", \"bottle\", \"bottle\", \"bottle\", \"bottle\", \"bottle\", \"bottle\", \"bottle\", \"bottling\", \"bottling\", \"bottling\", \"bottling\", \"bouquet\", \"bouquet\", \"bouquet\", \"bouquet\", \"bouquet\", \"bouquet\", \"bouquet\", \"bouquet\", \"bouquet\", \"bourgneuf\", \"boysenberry\", \"bream\", \"briary\", \"brie\", \"bright\", \"bright\", \"bright\", \"bright\", \"bright\", \"bright\", \"bright\", \"bright\", \"bright\", \"bright\", \"brilliant\", \"brilliant\", \"brilliant\", \"brilliant\", \"brilliant\", \"brilliant\", \"brilliant\", \"broom\", \"bubble\", \"burgundy\", \"burgundy\", \"burgundy\", \"burgundy\", \"burgundy\", \"cab\", \"cabernet\", \"cabernet\", \"cabernet\", \"cabernet\", \"calcareous\", \"carignan\", \"carignan\", \"carignan\", \"casserole\", \"cassis\", \"cassis\", \"cassis\", \"cedar\", \"cedar\", \"celebration\", \"center\", \"center\", \"center\", \"center\", \"certan\", \"cha\", \"champagne\", \"champagne\", \"champagne\", \"champagne\", \"champagne\", \"champagne\", \"chaource\", \"chaparral\", \"character\", \"character\", \"character\", \"character\", \"character\", \"character\", \"character\", \"character\", \"character\", \"character\", \"chardonnay\", \"chardonnay\", \"chardonnay\", \"chardonnay\", \"chardonnay\", \"chardonnay\", \"chardonnay\", \"chardonnay\", \"charlemagne\", \"charming\", \"charming\", \"charming\", \"charming\", \"charming\", \"charming\", \"charming\", \"charming\", \"chavignol\", \"cheddar\", \"cheery\", \"cheese\", \"cheese\", \"cheese\", \"cheese\", \"cheese\", \"cheese\", \"cheese\", \"cheeses\", \"cheeses\", \"cheeses\", \"cheeses\", \"chenin\", \"chenin\", \"cherries\", \"cherries\", \"cherries\", \"cherries\", \"cherries\", \"cherries\", \"cherries\", \"cherry\", \"cherry\", \"cherry\", \"cherry\", \"cherry\", \"cherry\", \"cherry\", \"cherry\", \"chianti\", \"chianti\", \"chianti\", \"chianti\", \"chicken\", \"chicken\", \"chicken\", \"chicken\", \"chinese\", \"chinotto\", \"chocolate\", \"chocolate\", \"chocolate\", \"chocolate\", \"chocolate\", \"ch\\u00e2teauneuf\", \"cigar\", \"cigar\", \"cinsault\", \"cinsault\", \"citrus\", \"citrus\", \"citrus\", \"citrus\", \"citrus\", \"citrus\", \"citrus\", \"citrus\", \"classic\", \"classic\", \"classic\", \"classic\", \"classic\", \"classic\", \"classic\", \"classic\", \"classic\", \"classic\", \"classico\", \"classico\", \"classico\", \"classico\", \"clay\", \"clay\", \"clay\", \"clay\", \"clay\", \"clear\", \"clear\", \"clear\", \"clear\", \"clear\", \"clear\", \"clear\", \"clear\", \"clicquot\", \"clicquot\", \"climatic\", \"closer\", \"closing\", \"closure\", \"clove\", \"clove\", \"clove\", \"clove\", \"clusters\", \"cod\", \"color\", \"color\", \"color\", \"color\", \"color\", \"color\", \"color\", \"color\", \"color\", \"colorino\", \"colorino\", \"colorino\", \"complex\", \"complex\", \"complex\", \"complex\", \"complex\", \"complex\", \"complex\", \"complex\", \"complex\", \"complex\", \"complexity\", \"complexity\", \"complexity\", \"complexity\", \"complexity\", \"complexity\", \"complexity\", \"complexity\", \"complexity\", \"complexity\", \"comt\\u00e9\", \"concrete\", \"continuum\", \"conversely\", \"corkscrew\", \"corvina\", \"corvinone\", \"courses\", \"courses\", \"courses\", \"crab\", \"cranberries\", \"cream\", \"cream\", \"cream\", \"cream\", \"cream\", \"creamy\", \"creamy\", \"creamy\", \"creamy\", \"creamy\", \"creamy\", \"creamy\", \"creamy\", \"crescendo\", \"crisp\", \"crisp\", \"crisp\", \"crisp\", \"crisp\", \"crisp\", \"crisp\", \"cristal\", \"cristal\", \"cru\", \"cru\", \"cru\", \"cru\", \"cru\", \"crus\", \"crus\", \"crus\", \"crus\", \"crus\", \"crustaceans\", \"crustaceans\", \"curd\", \"curd\", \"curd\", \"curd\", \"cured\", \"cured\", \"cured\", \"currant\", \"currant\", \"currant\", \"currant\", \"cuv\\u00e9es\", \"dame\", \"dark\", \"dark\", \"dark\", \"dark\", \"dark\", \"dark\", \"dark\", \"de\", \"de\", \"de\", \"de\", \"de\", \"de\", \"de\", \"de\", \"de\", \"dead\", \"deep\", \"deep\", \"deep\", \"deep\", \"deep\", \"deep\", \"deep\", \"deep\", \"deep\", \"deep\", \"delectably\", \"delicate\", \"delicate\", \"delicate\", \"delicate\", \"delicate\", \"delicate\", \"delicate\", \"delicate\", \"delicate\", \"delicate\", \"detailed\", \"deutz\", \"discrete\", \"discrete\", \"dishes\", \"dishes\", \"dishes\", \"dishes\", \"dishes\", \"dishes\", \"dolcetto\", \"dolcetto\", \"dolcetto\", \"doubt\", \"dry\", \"dry\", \"dry\", \"dry\", \"dry\", \"dry\", \"dry\", \"dry\", \"dry\", \"dry\", \"drying\", \"drying\", \"du\", \"du\", \"dusted\", \"dusty\", \"dusty\", \"dusty\", \"dusty\", \"dutton\", \"elegance\", \"elegance\", \"elegance\", \"elegance\", \"elegance\", \"elegance\", \"elegance\", \"elegance\", \"elegance\", \"elegance\", \"elegant\", \"elegant\", \"elegant\", \"elegant\", \"elegant\", \"elegant\", \"elegant\", \"elegant\", \"elegant\", \"elegant\", \"energy\", \"energy\", \"energy\", \"energy\", \"energy\", \"energy\", \"enjoy\", \"enjoy\", \"enjoy\", \"enjoy\", \"enjoy\", \"enjoy\", \"enjoy\", \"enjoy\", \"enjoy\", \"enriched\", \"enriched\", \"epoisses\", \"erase\", \"espresso\", \"estate\", \"estate\", \"estate\", \"estate\", \"estate\", \"estate\", \"estate\", \"exceptional\", \"exceptional\", \"exceptional\", \"exceptional\", \"exceptional\", \"exceptional\", \"exceptional\", \"exceptional\", \"exceptionally\", \"exceptionally\", \"exceptionally\", \"exceptionally\", \"exceptionally\", \"exceptionally\", \"excesses\", \"exposure\", \"exposure\", \"faceted\", \"facing\", \"feathered\", \"fermentation\", \"fermentation\", \"fermentation\", \"fermented\", \"fermented\", \"fine\", \"fine\", \"fine\", \"fine\", \"fine\", \"fine\", \"fine\", \"fine\", \"fine\", \"fine\", \"finish\", \"finish\", \"finish\", \"finish\", \"finish\", \"finish\", \"finish\", \"finish\", \"finish\", \"fish\", \"fish\", \"fish\", \"fish\", \"fish\", \"fish\", \"flavors\", \"flavors\", \"flavors\", \"flavors\", \"flavors\", \"flavors\", \"flavors\", \"flavors\", \"flavors\", \"flavors\", \"fleshed\", \"fleshed\", \"flexible\", \"floral\", \"floral\", \"floral\", \"floral\", \"floral\", \"floral\", \"floral\", \"floral\", \"floral\", \"floral\", \"flowers\", \"flowers\", \"flowers\", \"flowers\", \"flowers\", \"flowers\", \"flowers\", \"flowers\", \"flowers\", \"fonseca\", \"food\", \"food\", \"food\", \"food\", \"food\", \"food\", \"food\", \"food\", \"food\", \"foods\", \"foods\", \"foods\", \"foods\", \"foods\", \"foods\", \"foods\", \"foods\", \"formal\", \"formed\", \"franc\", \"franc\", \"franca\", \"french\", \"french\", \"french\", \"french\", \"french\", \"french\", \"fresh\", \"fresh\", \"fresh\", \"fresh\", \"fresh\", \"fresh\", \"fresh\", \"fresh\", \"fresh\", \"fresh\", \"freshness\", \"freshness\", \"freshness\", \"freshness\", \"freshness\", \"freshness\", \"freshness\", \"freshness\", \"freshness\", \"freshness\", \"fried\", \"fried\", \"fried\", \"fried\", \"frost\", \"froth\", \"fruit\", \"fruit\", \"fruit\", \"fruit\", \"fruit\", \"fruit\", \"fruit\", \"fruit\", \"fruit\", \"fruit\", \"fruits\", \"fruits\", \"fruits\", \"fruits\", \"fruits\", \"fruits\", \"fruits\", \"fruits\", \"fruits\", \"fruits\", \"fruity\", \"fruity\", \"fruity\", \"fruity\", \"fruity\", \"fruity\", \"fruity\", \"fruity\", \"fruity\", \"fruity\", \"fuisse\", \"gaga\", \"game\", \"game\", \"game\", \"game\", \"game\", \"garnacho\", \"garnatxa\", \"garnet\", \"garnet\", \"garnet\", \"garnet\", \"garnet\", \"gastronomy\", \"germany\", \"gew\\u00fcrztraminer\", \"gew\\u00fcrztraminer\", \"gin\", \"glasses\", \"glazed\", \"glimmers\", \"goat\", \"goat\", \"goat\", \"goat\", \"gold\", \"gold\", \"gold\", \"gold\", \"gold\", \"golden\", \"golden\", \"golden\", \"golden\", \"golden\", \"golden\", \"gooseberry\", \"gooseberry\", \"gooseberry\", \"gouda\", \"gourmet\", \"gourmet\", \"graacher\", \"graham\", \"graham\", \"grains\", \"grand\", \"grand\", \"grand\", \"grand\", \"grand\", \"grand\", \"grande\", \"grande\", \"grapefruit\", \"grapefruit\", \"grapefruit\", \"grapefruit\", \"grapefruit\", \"grapefruit\", \"grapes\", \"grapes\", \"grapes\", \"grapes\", \"grapes\", \"grapes\", \"grapes\", \"grapes\", \"grapes\", \"graphite\", \"graphite\", \"graphite\", \"grass\", \"grass\", \"grass\", \"gravenstein\", \"great\", \"great\", \"great\", \"great\", \"great\", \"great\", \"great\", \"great\", \"great\", \"great\", \"greedy\", \"green\", \"green\", \"green\", \"green\", \"green\", \"green\", \"green\", \"green\", \"greenish\", \"grenache\", \"grenache\", \"grenache\", \"grenache\", \"grenache\", \"grenache\", \"grilled\", \"grilled\", \"grilled\", \"grilled\", \"grilled\", \"grilled\", \"gris\", \"gris\", \"gris\", \"grown\", \"grown\", \"grown\", \"grown\", \"grown\", \"grown\", \"gruner\", \"gr\\u00fcner\", \"guava\", \"guava\", \"guava\", \"gunflint\", \"gunflint\", \"gunflint\", \"halibut\", \"halibut\", \"ham\", \"ham\", \"hand\", \"hand\", \"hand\", \"hand\", \"hare\", \"harvested\", \"harvested\", \"harvested\", \"harvested\", \"healthy\", \"healthy\", \"healthy\", \"heat\", \"heat\", \"heat\", \"heat\", \"heat\", \"heat\", \"hectare\", \"hectares\", \"heft\", \"herbs\", \"herbs\", \"herbs\", \"herbs\", \"herbs\", \"herbs\", \"herbs\", \"herbs\", \"herbs\", \"hints\", \"hints\", \"hints\", \"hints\", \"hints\", \"hints\", \"hints\", \"hints\", \"hints\", \"holding\", \"hollow\", \"honey\", \"honey\", \"honey\", \"honey\", \"honey\", \"honeycomb\", \"honeycomb\", \"honeydew\", \"honeydew\", \"honeydew\", \"honeydew\", \"hot\", \"hot\", \"hot\", \"hot\", \"hot\", \"hot\", \"hot\", \"hot\", \"hot\", \"huckleberry\", \"humid\", \"hydric\", \"ice\", \"ice\", \"ice\", \"inky\", \"intense\", \"intense\", \"intense\", \"intense\", \"intense\", \"intense\", \"intense\", \"intense\", \"intense\", \"intense\", \"intensifies\", \"ironstone\", \"iv\", \"jacket\", \"jasmine\", \"jasmine\", \"jasmine\", \"jasmine\", \"joins\", \"jumping\", \"june\", \"kabinett\", \"kabinett\", \"lake\", \"lamb\", \"lamb\", \"lamb\", \"lamb\", \"lambrusco\", \"lambrusco\", \"las\", \"las\", \"laurent\", \"laurent\", \"led\", \"led\", \"legumes\", \"lemon\", \"lemon\", \"lemon\", \"lemon\", \"lemon\", \"lemongrass\", \"lemongrass\", \"lemongrass\", \"lemongrass\", \"lemongrass\", \"leoville\", \"licorice\", \"licorice\", \"licorice\", \"licorice\", \"licorice\", \"licorice\", \"licorice\", \"lieu\", \"light\", \"light\", \"light\", \"light\", \"light\", \"light\", \"light\", \"light\", \"light\", \"light\", \"lime\", \"lime\", \"lime\", \"lime\", \"lime\", \"lime\", \"limes\", \"limestone\", \"limestone\", \"limestone\", \"limestone\", \"limestone\", \"limestone\", \"liquor\", \"lithe\", \"lithe\", \"lithe\", \"lo\", \"located\", \"located\", \"located\", \"long\", \"long\", \"long\", \"long\", \"long\", \"long\", \"long\", \"long\", \"long\", \"long\", \"luxuriant\", \"lynch\", \"macabeo\", \"madeira\", \"mains\", \"malartic\", \"malbec\", \"malbec\", \"malolactic\", \"malolactic\", \"manchego\", \"manifests\", \"marionberries\", \"marlborough\", \"marlborough\", \"marsanne\", \"marsanne\", \"mascalese\", \"maturity\", \"maturity\", \"maturity\", \"maturity\", \"maturity\", \"maturity\", \"maturity\", \"meat\", \"meat\", \"meat\", \"meat\", \"meat\", \"meat\", \"meats\", \"meats\", \"meats\", \"meats\", \"meats\", \"melon\", \"melon\", \"melon\", \"melon\", \"merlot\", \"merlot\", \"merlot\", \"merlot\", \"meters\", \"methode\", \"meunier\", \"meunier\", \"meunier\", \"meunier\", \"meunier\", \"meyer\", \"meyer\", \"meyer\", \"mignon\", \"mild\", \"mild\", \"mild\", \"mild\", \"mild\", \"mild\", \"mild\", \"mild\", \"mineral\", \"mineral\", \"mineral\", \"mineral\", \"mineral\", \"mineral\", \"mineral\", \"mineral\", \"mineral\", \"mineral\", \"minerality\", \"minerality\", \"minerality\", \"minerality\", \"minerality\", \"minerality\", \"minerality\", \"minerality\", \"minerality\", \"minerality\", \"mocha\", \"mocha\", \"mocha\", \"molasses\", \"montalcino\", \"montalcino\", \"montalcino\", \"montalcino\", \"montalcino\", \"months\", \"months\", \"months\", \"months\", \"months\", \"moroccan\", \"mourvedre\", \"mourvedre\", \"mourvedre\", \"mourv\\u00e8dre\", \"mourv\\u00e8dre\", \"mourv\\u00e8dre\", \"moves\", \"mulberry\", \"muscat\", \"muscat\", \"muscat\", \"nacional\", \"negroni\", \"nerello\", \"nero\", \"nero\", \"neutral\", \"nibs\", \"noble\", \"noble\", \"noble\", \"noble\", \"noble\", \"noble\", \"noble\", \"noble\", \"noir\", \"noir\", \"noir\", \"noir\", \"noir\", \"noir\", \"noir\", \"noirs\", \"nose\", \"nose\", \"nose\", \"nose\", \"nose\", \"nose\", \"nose\", \"nose\", \"nose\", \"notes\", \"notes\", \"notes\", \"notes\", \"notes\", \"notes\", \"notes\", \"notes\", \"notes\", \"oak\", \"oak\", \"oak\", \"oak\", \"oak\", \"oak\", \"oak\", \"oak\", \"oak\", \"oaked\", \"old\", \"old\", \"old\", \"old\", \"old\", \"old\", \"orange\", \"orange\", \"orange\", \"orange\", \"orange\", \"orange\", \"orange\", \"oregon\", \"oregon\", \"orma\", \"ounce\", \"pair\", \"pair\", \"pair\", \"pair\", \"pair\", \"pair\", \"pairing\", \"pairing\", \"pairing\", \"pairing\", \"pairing\", \"pairing\", \"pairing\", \"pairing\", \"pairs\", \"pairs\", \"pairs\", \"pairs\", \"pairs\", \"pairs\", \"pairs\", \"palate\", \"palate\", \"palate\", \"palate\", \"palate\", \"palate\", \"palate\", \"palate\", \"palate\", \"pale\", \"pale\", \"pale\", \"pale\", \"pale\", \"pale\", \"pan\", \"pan\", \"pape\", \"pape\", \"parellada\", \"parmigiano\", \"passionfruit\", \"passionfruit\", \"pasta\", \"pasta\", \"pasta\", \"pasta\", \"patient\", \"patient\", \"peach\", \"peach\", \"peach\", \"peach\", \"peach\", \"peach\", \"peaches\", \"peaches\", \"peaches\", \"pear\", \"pear\", \"pear\", \"pear\", \"pear\", \"pecorino\", \"pecorino\", \"pedro\", \"pencil\", \"pepper\", \"pepper\", \"pepper\", \"pepper\", \"pepper\", \"pepper\", \"pepper\", \"perceive\", \"perignon\", \"period\", \"period\", \"period\", \"perlage\", \"persistent\", \"persistent\", \"persistent\", \"persistent\", \"persistent\", \"persistent\", \"persistent\", \"pesto\", \"petit\", \"petit\", \"petite\", \"petite\", \"pfalz\", \"pinot\", \"pinot\", \"pinot\", \"pinot\", \"pinot\", \"pinot\", \"pinot\", \"pinots\", \"pinots\", \"pistachio\", \"pizza\", \"pizza\", \"pizza\", \"pizza\", \"planted\", \"pleasant\", \"pleasant\", \"pleasant\", \"pleasant\", \"pleasant\", \"pleasantness\", \"pleasantness\", \"pleasure\", \"pleasure\", \"pleasure\", \"pleasure\", \"pleasure\", \"plot\", \"plum\", \"plum\", \"plum\", \"plum\", \"plum\", \"plum\", \"plums\", \"plums\", \"plums\", \"plums\", \"plums\", \"plush\", \"plush\", \"plush\", \"plush\", \"plush\", \"pn\", \"pol\", \"polished\", \"polished\", \"polished\", \"polished\", \"pomegranates\", \"pomerol\", \"pork\", \"pork\", \"pork\", \"pork\", \"port\", \"port\", \"port\", \"potato\", \"potential\", \"potential\", \"potential\", \"potential\", \"potential\", \"potential\", \"potential\", \"poultry\", \"poultry\", \"poultry\", \"poultry\", \"poultry\", \"pour\", \"pour\", \"poured\", \"powder\", \"powder\", \"powder\", \"powder\", \"praline\", \"praline\", \"preservation\", \"previous\", \"previous\", \"progression\", \"promises\", \"promises\", \"prosecco\", \"prosecco\", \"prosecco\", \"provence\", \"provence\", \"provence\", \"prunes\", \"prunes\", \"pure\", \"pure\", \"pure\", \"pure\", \"pure\", \"pure\", \"pure\", \"pure\", \"pure\", \"pure\", \"purple\", \"purple\", \"purple\", \"purple\", \"quenching\", \"quenching\", \"quenching\", \"quinta\", \"quinta\", \"ragnaie\", \"ragout\", \"rain\", \"rain\", \"rainfall\", \"rains\", \"rains\", \"rare\", \"rare\", \"rare\", \"rare\", \"rare\", \"rare\", \"rare\", \"rare\", \"raspberries\", \"raspberries\", \"raspberries\", \"raspberries\", \"raspberries\", \"raspberries\", \"raspberries\", \"raspberry\", \"raspberry\", \"raspberry\", \"raspberry\", \"raspberry\", \"raspberry\", \"ratatouille\", \"ravera\", \"recent\", \"recurring\", \"red\", \"red\", \"red\", \"red\", \"red\", \"red\", \"red\", \"red\", \"red\", \"red\", \"refreshing\", \"refreshing\", \"refreshing\", \"refreshing\", \"refreshing\", \"refreshing\", \"refreshing\", \"refreshing\", \"refrigerator\", \"relayed\", \"releasing\", \"remelluri\", \"reminding\", \"respects\", \"resulted\", \"rich\", \"rich\", \"rich\", \"rich\", \"rich\", \"rich\", \"rich\", \"rich\", \"rich\", \"rich\", \"richness\", \"richness\", \"richness\", \"richness\", \"richness\", \"richness\", \"richness\", \"richness\", \"richness\", \"riesling\", \"riesling\", \"riesling\", \"riesling\", \"riesling\", \"rieussec\", \"ripe\", \"ripe\", \"ripe\", \"ripe\", \"ripe\", \"ripe\", \"ripe\", \"ripe\", \"ripe\", \"ripe\", \"riserva\", \"riserva\", \"riserva\", \"riserva\", \"risotto\", \"risotto\", \"risotto\", \"risotto\", \"risotto\", \"river\", \"river\", \"river\", \"river\", \"roasted\", \"roasted\", \"roasted\", \"roasted\", \"roasted\", \"roasted\", \"roasted\", \"roasts\", \"roasts\", \"rocky\", \"roederer\", \"roger\", \"rolle\", \"roman\", \"romitorio\", \"rondinella\", \"roriz\", \"rose\", \"rose\", \"rose\", \"rose\", \"rose\", \"rose\", \"rose\", \"rose\", \"ros\\u00e9\", \"ros\\u00e9\", \"ros\\u00e9\", \"ros\\u00e9\", \"ros\\u00e9\", \"ros\\u00e9\", \"rotlay\", \"ruby\", \"ruby\", \"ruby\", \"ruby\", \"ruby\", \"russet\", \"russian\", \"russian\", \"russian\", \"saintes\", \"salad\", \"salad\", \"salads\", \"salads\", \"salads\", \"salmon\", \"salmon\", \"salmon\", \"salsa\", \"sandalwood\", \"sandalwood\", \"sandeman\", \"sands\", \"sandy\", \"sandy\", \"sandy\", \"sanford\", \"sashimi\", \"sashimi\", \"sassafras\", \"saturated\", \"saturated\", \"sauce\", \"sauce\", \"sauce\", \"sauce\", \"sauce\", \"sauce\", \"sauce\", \"sauvignon\", \"sauvignon\", \"sauvignon\", \"sauvignon\", \"sauvignon\", \"scallop\", \"scallops\", \"scallops\", \"scallops\", \"seafood\", \"seafood\", \"seafood\", \"seafood\", \"seafood\", \"seared\", \"seared\", \"seared\", \"seasoning\", \"semillon\", \"seneca\", \"sensual\", \"sensual\", \"sensual\", \"separately\", \"serraboella\", \"serving\", \"serving\", \"serving\", \"serving\", \"se\\u00f1a\", \"shades\", \"shades\", \"shades\", \"shavings\", \"shavings\", \"shimmers\", \"shrimp\", \"shrimp\", \"silver\", \"silver\", \"silver\", \"single\", \"single\", \"single\", \"single\", \"single\", \"single\", \"single\", \"sirah\", \"situated\", \"si\\u00e8cle\", \"sleepy\", \"slope\", \"slope\", \"smacking\", \"soave\", \"soft\", \"soft\", \"soft\", \"soft\", \"soft\", \"soft\", \"soft\", \"soft\", \"soft\", \"soil\", \"soil\", \"soil\", \"soil\", \"soil\", \"soil\", \"soil\", \"soils\", \"soils\", \"soils\", \"soils\", \"soils\", \"soils\", \"sold\", \"soleras\", \"sor\\u00ec\", \"south\", \"south\", \"south\", \"south\", \"south\", \"spice\", \"spice\", \"spice\", \"spice\", \"spice\", \"spice\", \"spice\", \"spice\", \"spice\", \"spice\", \"spices\", \"spices\", \"spices\", \"spices\", \"spices\", \"spices\", \"spices\", \"spices\", \"spices\", \"spicy\", \"spicy\", \"spicy\", \"spicy\", \"spicy\", \"spicy\", \"spicy\", \"spicy\", \"spicy\", \"spicy\", \"spikes\", \"spritz\", \"sp\\u00e4tlese\", \"stainless\", \"stainless\", \"standard\", \"starters\", \"starters\", \"stay\", \"steel\", \"steel\", \"steely\", \"steely\", \"steely\", \"steep\", \"steep\", \"steeper\", \"stewed\", \"stewed\", \"stewed\", \"stewed\", \"stews\", \"stews\", \"stews\", \"stews\", \"stone\", \"stone\", \"stone\", \"stone\", \"stone\", \"stone\", \"stone\", \"stone\", \"stone\", \"stoned\", \"stored\", \"stored\", \"straw\", \"straw\", \"strawberry\", \"strawberry\", \"strawberry\", \"strawberry\", \"strawberry\", \"stress\", \"structure\", \"structure\", \"structure\", \"structure\", \"structure\", \"structure\", \"structure\", \"structure\", \"structure\", \"structure\", \"style\", \"style\", \"style\", \"style\", \"style\", \"style\", \"style\", \"style\", \"style\", \"successive\", \"sulfur\", \"summer\", \"summer\", \"summer\", \"summer\", \"summer\", \"summer\", \"summer\", \"summer\", \"summer\", \"summer\", \"swings\", \"symphony\", \"synonymous\", \"syrah\", \"syrah\", \"syrah\", \"syrah\", \"syrah\", \"s\\u00e9millon\", \"s\\u00e9millon\", \"s\\u00e9millon\", \"tacos\", \"taittinger\", \"tank\", \"tanks\", \"tannat\", \"tannat\", \"tannins\", \"tannins\", \"tannins\", \"tannins\", \"tannins\", \"tannins\", \"tannins\", \"tannins\", \"tannins\", \"tantalizing\", \"tantalizing\", \"tawny\", \"tawny\", \"tawny\", \"tawny\", \"teau\", \"techniques\", \"temperatures\", \"temperatures\", \"temperatures\", \"tension\", \"tension\", \"tension\", \"tension\", \"tension\", \"tension\", \"tension\", \"tension\", \"tension\", \"terrine\", \"texture\", \"texture\", \"texture\", \"texture\", \"texture\", \"texture\", \"texture\", \"texture\", \"texture\", \"texture\", \"thermal\", \"thirst\", \"tint\", \"tinta\", \"tomato\", \"tomato\", \"tomato\", \"tomato\", \"tomatoes\", \"touch\", \"touch\", \"touch\", \"touch\", \"touch\", \"touch\", \"touch\", \"touch\", \"touch\", \"tour\", \"touriga\", \"transport\", \"transport\", \"triple\", \"tropical\", \"tropical\", \"tropical\", \"tropical\", \"tropical\", \"truffles\", \"truffles\", \"truffles\", \"truffles\", \"truffles\", \"truffles\", \"tuna\", \"tuna\", \"tuna\", \"underscores\", \"unfined\", \"unico\", \"universal\", \"valley\", \"valley\", \"valley\", \"valley\", \"valley\", \"valley\", \"valley\", \"valtellina\", \"vanilla\", \"vanilla\", \"vanilla\", \"vanilla\", \"vanilla\", \"vanilla\", \"vanilla\", \"vanilla\", \"veltliner\", \"verbena\", \"verbena\", \"verbena\", \"verdejo\", \"verdelho\", \"verdot\", \"verdot\", \"verging\", \"vermouth\", \"versatile\", \"versatile\", \"versatile\", \"versatile\", \"versatile\", \"versatile\", \"versatile\", \"versatile\", \"village\", \"village\", \"vinepair\", \"vines\", \"vines\", \"vines\", \"vines\", \"vines\", \"vineyard\", \"vineyard\", \"vineyard\", \"vineyard\", \"vineyard\", \"vineyard\", \"vineyard\", \"vineyard\", \"vineyards\", \"vineyards\", \"vineyards\", \"vineyards\", \"vineyards\", \"vineyards\", \"vinosity\", \"vintage\", \"vintage\", \"vintage\", \"vintage\", \"vintage\", \"vintage\", \"vintage\", \"vintage\", \"vintage\", \"viognier\", \"viognier\", \"viognier\", \"viognier\", \"viognier\", \"viognier\", \"viognier\", \"viognier\", \"viognier\", \"violet\", \"violet\", \"violet\", \"violet\", \"violet\", \"violets\", \"violets\", \"violets\", \"violets\", \"violets\", \"violets\", \"violets\", \"wanted\", \"watermelon\", \"watermelon\", \"weather\", \"weather\", \"weather\", \"weft\", \"wehlener\", \"wehlener\", \"wet\", \"wet\", \"wet\", \"wet\", \"wet\", \"wet\", \"wet\", \"white\", \"white\", \"white\", \"white\", \"white\", \"white\", \"white\", \"white\", \"white\", \"white\", \"wine\", \"wine\", \"wine\", \"wine\", \"wine\", \"wine\", \"wine\", \"wine\", \"wine\", \"wine\", \"wines\", \"wines\", \"wines\", \"wines\", \"wines\", \"wines\", \"wines\", \"wines\", \"wines\", \"wines\", \"winter\", \"winter\", \"winter\", \"winter\", \"winter\", \"winter\", \"worthiness\", \"xarel\", \"year\", \"year\", \"year\", \"year\", \"year\", \"year\", \"years\", \"years\", \"years\", \"years\", \"years\", \"years\", \"years\", \"years\", \"years\", \"yeasts\", \"yeasts\", \"yellow\", \"yellow\", \"yellow\", \"yellow\", \"yellow\", \"yellow\", \"yellow\", \"zest\", \"zest\", \"zest\", \"zest\", \"zest\", \"zest\", \"zesty\", \"zesty\", \"zesty\", \"zesty\", \"zinfandel\", \"zinfandel\"]}, \"R\": 30, \"lambda.step\": 0.01, \"plot.opts\": {\"xlab\": \"PC1\", \"ylab\": \"PC2\"}, \"topic.order\": [1, 2, 3, 4, 5, 6, 7, 8, 9, 10]};\n",
       "\n",
       "function LDAvis_load_lib(url, callback){\n",
       "  var s = document.createElement('script');\n",
       "  s.src = url;\n",
       "  s.async = true;\n",
       "  s.onreadystatechange = s.onload = callback;\n",
       "  s.onerror = function(){console.warn(\"failed to load library \" + url);};\n",
       "  document.getElementsByTagName(\"head\")[0].appendChild(s);\n",
       "}\n",
       "\n",
       "if(typeof(LDAvis) !== \"undefined\"){\n",
       "   // already loaded: just create the visualization\n",
       "   !function(LDAvis){\n",
       "       new LDAvis(\"#\" + \"ldavis_el870631402270118507525339189360\", ldavis_el870631402270118507525339189360_data);\n",
       "   }(LDAvis);\n",
       "}else if(typeof define === \"function\" && define.amd){\n",
       "   // require.js is available: use it to load d3/LDAvis\n",
       "   require.config({paths: {d3: \"https://d3js.org/d3.v5\"}});\n",
       "   require([\"d3\"], function(d3){\n",
       "      window.d3 = d3;\n",
       "      LDAvis_load_lib(\"https://cdn.jsdelivr.net/gh/bmabey/pyLDAvis@3.3.1/pyLDAvis/js/ldavis.v3.0.0.js\", function(){\n",
       "        new LDAvis(\"#\" + \"ldavis_el870631402270118507525339189360\", ldavis_el870631402270118507525339189360_data);\n",
       "      });\n",
       "    });\n",
       "}else{\n",
       "    // require.js not available: dynamically load d3 & LDAvis\n",
       "    LDAvis_load_lib(\"https://d3js.org/d3.v5.js\", function(){\n",
       "         LDAvis_load_lib(\"https://cdn.jsdelivr.net/gh/bmabey/pyLDAvis@3.3.1/pyLDAvis/js/ldavis.v3.0.0.js\", function(){\n",
       "                 new LDAvis(\"#\" + \"ldavis_el870631402270118507525339189360\", ldavis_el870631402270118507525339189360_data);\n",
       "            })\n",
       "         });\n",
       "}\n",
       "</script>"
      ],
      "text/plain": [
       "<IPython.core.display.HTML object>"
      ]
     },
     "execution_count": 49,
     "metadata": {},
     "output_type": "execute_result"
    }
   ],
   "source": [
    "pyLDAvis.display(lda_display)"
   ]
  },
  {
   "cell_type": "code",
   "execution_count": 50,
   "id": "7ab81ab5",
   "metadata": {},
   "outputs": [
    {
     "name": "stderr",
     "output_type": "stream",
     "text": [
      "/opt/anaconda3/lib/python3.8/site-packages/ipykernel/ipkernel.py:287: DeprecationWarning: `should_run_async` will not call `transform_cell` automatically in the future. Please pass the result to `transformed_cell` argument and any exception that happen during thetransform in `preprocessing_exc_tuple` in IPython 7.17 and above.\n",
      "  and should_run_async(code)\n"
     ]
    },
    {
     "data": {
      "text/html": [
       "\n",
       "<link rel=\"stylesheet\" type=\"text/css\" href=\"https://cdn.jsdelivr.net/gh/bmabey/pyLDAvis@3.3.1/pyLDAvis/js/ldavis.v1.0.0.css\">\n",
       "\n",
       "\n",
       "<div id=\"ldavis_el87063140227011816800934392196\"></div>\n",
       "<script type=\"text/javascript\">\n",
       "\n",
       "var ldavis_el87063140227011816800934392196_data = {\"mdsDat\": {\"x\": [0.1174475592412916, 0.05476563960680802, -0.08736547990349149, 0.1460411021288876, -0.07024698332776098, 0.09675354755069086, -0.21142832707881867, -0.15513833489589682, 0.1867596253930052, -0.07758834871471536], \"y\": [0.043537738499759004, 0.08647402245242317, -0.3024118779884984, 0.0382177445092225, -0.044215593779201874, -0.055375260950133315, 0.11984636030126473, 0.032318565375094775, -0.011025499815327673, 0.09263380139539668], \"topics\": [1, 2, 3, 4, 5, 6, 7, 8, 9, 10], \"cluster\": [1, 1, 1, 1, 1, 1, 1, 1, 1, 1], \"Freq\": [11.663079163483669, 7.674997753051229, 6.980940652732734, 12.242562146696919, 6.588434030176095, 11.321923547089357, 15.102485874501362, 3.311348897302665, 7.1760944646959635, 17.93813347027002]}, \"tinfo\": {\"Term\": [\"tannins\", \"cherry\", \"wine\", \"flavors\", \"tasting\", \"tasted\", \"san\", \"commentary\", \"francisco\", \"notes\", \"bodied\", \"aromas\", \"medium\", \"pinot\", \"black\", \"sample\", \"cabernet\", \"lemon\", \"barrel\", \"white\", \"palate\", \"noir\", \"finish\", \"2022\", \"red\", \"plum\", \"nose\", \"drink\", \"elegant\", \"dark\", \"alder\", \"2035\", \"sanguine\", \"puree\", \"balsam\", \"ganache\", \"smoldering\", \"tug\", \"loganberry\", \"woodsy\", \"avola\", \"2042\", \"p\\u00e2te\", \"lined\", \"singed\", \"relax\", \"canaiolo\", \"chai\", \"extends\", \"2045\", \"firming\", \"winey\", \"potting\", \"lining\", \"inlaid\", \"tile\", \"a\\u00e7a\\u00ed\", \"embedded\", \"latent\", \"slavonian\", \"2038\", \"2040\", \"cast\", \"burly\", \"root\", \"vigna\", \"plum\", \"boysenberry\", \"brunello\", \"riserva\", \"montalcino\", \"currant\", \"tarry\", \"blackberry\", \"iron\", \"olive\", \"beam\", \"di\", \"steeped\", \"black\", \"cherry\", \"fill\", \"dense\", \"best\", \"mulberry\", \"tobacco\", \"dark\", \"tar\", \"accents\", \"elements\", \"flavors\", \"structure\", \"licorice\", \"tea\", \"spice\", \"fruit\", \"notes\", \"red\", \"cabernet\", \"finish\", \"cassis\", \"merlot\", \"tannins\", \"core\", \"wine\", \"shows\", \"rich\", \"savory\", \"sauvignon\", \"drink\", \"earth\", \"ripe\", \"long\", \"finale\", \"possess\", \"certification\", \"pastille\", \"suffused\", \"inflected\", \"appealingly\", \"exude\", \"overtly\", \"wisps\", \"repeating\", \"slew\", \"shimmering\", \"delineation\", \"trimmed\", \"imposing\", \"spicecake\", \"brim\", \"tautly\", \"florality\", \"culminate\", \"deepen\", \"spicier\", \"valmur\", \"treatment\", \"particular\", \"smacking\", \"demeter\", \"sufficiently\", \"f\\u00e8vre\", \"evokes\", \"lip\", \"biodynamically\", \"markedly\", \"frames\", \"youthfully\", \"discreet\", \"middle\", \"sneaky\", \"89\", \"attractively\", \"brimming\", \"austere\", \"91\", \"weight\", \"sample\", \"chablis\", \"barrel\", \"impressively\", \"excellent\", \"floral\", \"92\", \"patience\", \"mineral\", \"good\", \"93\", \"sappy\", \"long\", \"90\", \"nose\", \"finish\", \"flavors\", \"depth\", \"fruit\", \"succulent\", \"dry\", \"minerality\", \"palate\", \"touch\", \"wood\", \"aromas\", \"fine\", \"ripe\", \"red\", \"spice\", \"acidity\", \"lovely\", \"medium\", \"fresh\", \"notes\", \"cherry\", \"san\", \"commentary\", \"francisco\", \"pair\", \"tasting\", \"lamb\", \"pan\", \"chops\", \"fried\", \"stew\", \"ribeye\", \"oven\", \"pork\", \"braised\", \"ribs\", \"garlic\", \"active\", \"steamed\", \"sashimi\", \"clams\", \"marbled\", \"avocado\", \"crab\", \"serve\", \"pasta\", \"seared\", \"leg\", \"appetizers\", \"fils\", \"exhibits\", \"december\", \"excels\", \"chicken\", \"tasted\", \"enjoy\", \"shines\", \"oysters\", \"november\", \"august\", \"2022\", \"june\", \"grilled\", \"27\", \"roast\", \"february\", \"pleasing\", \"notes\", \"2021\", \"wine\", \"flavors\", \"aromas\", \"offers\", \"spices\", \"2020\", \"dried\", \"earth\", \"savory\", \"fruits\", \"palate\", \"fruit\", \"black\", \"red\", \"2019\", \"ripe\", \"bright\", \"bark\", \"cent\", \"onwards\", \"chocolatey\", \"fontalloro\", \"brawny\", \"relaxed\", \"brambleberries\", \"carm\\u00e9n\\u00e8re\", \"cacao\", \"tannined\", \"peppermint\", \"needle\", \"pomegranates\", \"needles\", \"stags\", \"cheval\", \"fudge\", \"cab\", \"charges\", \"broody\", \"brisson\", \"pineapples\", \"cloves\", \"beefy\", \"moss\", \"sensibility\", \"sarsaparilla\", \"bits\", \"laurel\", \"chewy\", \"fantastically\", \"walnuts\", \"olives\", \"soften\", \"flavorful\", \"drinkable\", \"undertones\", \"body\", \"blackberries\", \"chili\", \"plums\", \"follow\", \"walnut\", \"cherries\", \"try\", \"blackcurrants\", \"blueberries\", \"hold\", \"strawberries\", \"mushrooms\", \"tight\", \"chocolate\", \"tannins\", \"firm\", \"medium\", \"box\", \"bodied\", \"polished\", \"character\", \"juicy\", \"fine\", \"drink\", \"dark\", \"berries\", \"nose\", \"finish\", \"fresh\", \"lots\", \"aromas\", \"red\", \"fruit\", \"dried\", \"palate\", \"ripe\", \"black\", \"long\", \"hints\", \"creamy\", \"disgorged\", \"meunier\", \"dosage\", \"clairette\", \"solera\", \"pillowy\", \"nv\", \"quinta\", \"bourboulenc\", \"pinpoint\", \"laurent\", \"perrier\", \"current\", \"oger\", \"sel\", \"copper\", \"2008\", \"champagnes\", \"magnum\", \"drier\", \"disgorgement\", \"nonvintage\", \"rotie\", \"roederer\", \"7g\", \"mesnil\", \"cramant\", \"avize\", \"montagne\", \"a\\u00ff\", \"blancs\", \"noir\", \"champagne\", \"pinot\", \"vinous\", \"brut\", \"ros\\u00e9\", \"mousse\", \"noirs\", \"lacy\", \"non\", \"pink\", \"latest\", \"reserve\", \"chardonnay\", \"bread\", \"cuv\\u00e9e\", \"blanc\", \"pale\", \"acids\", \"grand\", \"orchard\", \"de\", \"release\", \"crisp\", \"blend\", \"based\", \"citrus\", \"flowers\", \"color\", \"fruit\", \"palate\", \"wine\", \"white\", \"finish\", \"fresh\", \"drink\", \"aromas\", \"bodied\", \"vintage\", \"medium\", \"fine\", \"notes\", \"ripe\", \"red\", \"pineapple\", \"lemons\", \"curd\", \"pears\", \"honeysuckle\", \"mango\", \"crust\", \"apricots\", \"semillon\", \"papaya\", \"s\\u00e9millon\", \"oily\", \"struck\", \"elderflower\", \"kiwi\", \"meringue\", \"mangoes\", \"viscous\", \"guava\", \"lanolin\", \"zingy\", \"lemongrass\", \"caramelized\", \"yuzu\", \"perlage\", \"cerequio\", \"flint\", \"br\\u00fbl\\u00e9e\", \"butterscotch\", \"limey\", \"lime\", \"beeswax\", \"honey\", \"lemon\", \"butter\", \"melon\", \"ginger\", \"tropical\", \"honeyed\", \"meyer\", \"peach\", \"apricot\", \"pear\", \"jasmine\", \"apple\", \"chamomile\", \"grapefruit\", \"white\", \"sliced\", \"blossom\", \"almonds\", \"green\", \"peaches\", \"almond\", \"salted\", \"apples\", \"yellow\", \"creamy\", \"zest\", \"acidity\", \"citrus\", \"chardonnay\", \"crisp\", \"fresh\", \"finish\", \"drink\", \"palate\", \"flavors\", \"bright\", \"nose\", \"aromas\", \"notes\", \"medium\", \"bodied\", \"texture\", \"fruit\", \"stone\", \"blanc\", \"mineral\", \"dried\", \"ripe\", \"long\", \"touriga\", \"port\", \"yeasts\", \"nacional\", \"planted\", \"field\", \"indigenous\", \"casks\", \"plot\", \"facing\", \"meters\", \"hectares\", \"certified\", \"altitude\", \"franca\", \"lower\", \"season\", \"acres\", \"bottlings\", \"american\", \"parcels\", \"oldest\", \"uco\", \"achieved\", \"douro\", \"residual\", \"roriz\", \"biodynamic\", \"helped\", \"auslese\", \"vines\", \"fermented\", \"500\", \"ages\", \"matured\", \"000\", \"ha\", \"growing\", \"produced\", \"different\", \"vats\", \"fermentation\", \"soils\", \"stainless\", \"clay\", \"months\", \"old\", \"organic\", \"steel\", \"barrels\", \"year\", \"vineyard\", \"aged\", \"comes\", \"single\", \"sugar\", \"ripeness\", \"wine\", \"vintage\", \"vineyards\", \"wines\", \"oak\", \"alcohol\", \"little\", \"bottled\", \"grapes\", \"new\", \"2017\", \"french\", \"fruit\", \"good\", \"blend\", \"2018\", \"age\", \"freshness\", \"bottle\", \"years\", \"2019\", \"time\", \"like\", \"tannins\", \"acidity\", \"stated\", \"mazuelo\", \"stimulating\", \"veltliner\", \"piquant\", \"sole\", \"kabinett\", \"gg\", \"sancerre\", \"petrale\", \"tondonia\", \"gr\\u00fcner\", \"creek\", \"tensioned\", \"certain\", \"vi\\u00f1a\", \"coolish\", \"sous\", \"vinification\", \"aglianico\", \"handrolls\", \"tender\", \"enormously\", \"ried\", \"trocken\", \"monopole\", \"priorat\", \"vital\", \"panko\", \"vergelesses\", \"extreme\", \"ripened\", \"riesling\", \"graciano\", \"bois\", \"clear\", \"crystalline\", \"natural\", \"highly\", \"reserva\", \"intertwined\", \"tempranillo\", \"elegant\", \"flinty\", \"intense\", \"lush\", \"pure\", \"terroir\", \"bouquet\", \"alcohol\", \"palate\", \"salty\", \"fruit\", \"fine\", \"complex\", \"refined\", \"fresh\", \"2021\", \"wine\", \"nose\", \"ripe\", \"2020\", \"round\", \"concentrated\", \"notes\", \"deep\", \"finish\", \"long\", \"mineral\", \"aromas\", \"great\", \"2019\", \"2018\", \"cranberry\", \"skinned\", \"imported\", \"earl\", \"hibiscus\", \"marasca\", \"forefront\", \"woodland\", \"nebbiolo\", \"cannubi\", \"highlighted\", \"spirits\", \"dusky\", \"scrub\", \"morra\", \"monforte\", \"nerello\", \"recalling\", \"botanical\", \"grimaldi\", \"scavino\", \"berardenga\", \"suede\", \"heavier\", \"sagebrush\", \"beach\", \"align\", \"gather\", \"muddled\", \"wears\", \"pomegranate\", \"petal\", \"serralunga\", \"blood\", \"forest\", \"floor\", \"grey\", \"alba\", \"hip\", \"barolo\", \"alongside\", \"rose\", \"pipe\", \"star\", \"orange\", \"strawberry\", \"cherry\", \"underbrush\", \"raspberry\", \"wild\", \"berry\", \"peel\", \"editors\", \"camphor\", \"grained\", \"anise\", \"flower\", \"red\", \"spice\", \"dried\", \"tannins\", \"aromas\", \"licorice\", \"palate\", \"flavors\", \"drink\", \"acidity\", \"bright\", \"finish\", \"fresh\", \"juicy\", \"savory\", \"fine\", \"offers\", \"black\", \"notes\", \"dark\", \"ch\\u00e2teauneuf\", \"pape\", \"checks\", \"emilion\", \"mingled\", \"canon\", \"ducru\", \"cos\", \"gallonibarrel\", \"muids\", \"lynch\", \"seeking\", \"peonies\", \"pavie\", \"chest\", \"embers\", \"flawless\", \"estournel\", \"burning\", \"crozes\", \"garni\", \"beaucaillou\", \"bages\", \"gravelly\", \"l\\u00e9oville\", \"unquestionably\", \"bilberry\", \"du\", \"pomerol\", \"define\", \"saint\", \"haut\", \"98\", \"longevity\", \"hermitage\", \"ch\\u00e2teau\", \"evolve\", \"97\", \"brought\", \"pencil\", \"purple\", \"96\", \"sexy\", \"notions\", \"shavings\", \"coming\", \"decades\", \"garnet\", \"cabernet\", \"95\", \"franc\", \"sauvignon\", \"petit\", \"incredible\", \"sample\", \"going\", \"merlot\", \"seamless\", \"verdot\", \"rating\", \"barrel\", \"years\", \"great\", \"2019\", \"deep\", \"bodied\", \"fruits\", \"medium\", \"new\", \"cassis\", \"2018\", \"black\", \"blend\", \"glass\", \"tannins\", \"2020\", \"de\", \"palate\", \"ripe\", \"oak\", \"wine\", \"notes\", \"finish\", \"fruit\"], \"Freq\": [5035.0, 2471.0, 6263.0, 4285.0, 1050.0, 1317.0, 1001.0, 947.0, 932.0, 4281.0, 4426.0, 4180.0, 3914.0, 1050.0, 3553.0, 1322.0, 2549.0, 1215.0, 1451.0, 1695.0, 4744.0, 700.0, 5708.0, 1184.0, 3595.0, 1368.0, 2475.0, 2935.0, 1344.0, 1848.0, 67.26799898744106, 84.6582081348709, 53.31505822430436, 45.53676570308425, 25.781046457846223, 24.793340120803983, 24.793338522664655, 23.805550553440163, 21.8300046171731, 21.829861962516734, 21.828920571547172, 22.755439725509078, 20.842205034785213, 18.8666197031998, 106.34352439183782, 16.891019542807218, 16.88394304773462, 15.903235342861707, 15.900644475493065, 36.43776121273336, 14.915475041575688, 14.915466162245554, 14.915436884035916, 14.863865240540173, 13.927735408388369, 13.927475918502688, 12.939952780247998, 12.939912307354192, 12.939911931520166, 12.939835033273578, 47.6443941216017, 75.93259180303795, 40.99823390724417, 23.752362828269415, 52.18819328656426, 22.737521192004746, 962.0452976470922, 119.70660964388546, 150.21068658778174, 116.43964461943642, 111.40807241384022, 430.2609714802658, 47.81371107707246, 695.1896113530596, 275.3407320649088, 113.75389431487642, 47.63736422881117, 162.81746974056662, 56.544124183379395, 1369.2805068016373, 1016.0563425958111, 59.23795036218159, 310.305930184243, 651.041316907381, 57.67395976639072, 420.08538358083376, 673.1860489877669, 154.32028155199214, 219.45999872161838, 119.09153743732296, 1043.2163349512834, 327.76419531959914, 349.20030217603005, 204.41886613146826, 507.8172498823611, 1078.9771565452213, 826.9873448016712, 738.381065336247, 587.6874120135732, 948.0490682570794, 294.3751434014836, 321.575325030518, 734.3447154231764, 261.06253698724845, 715.5019446129488, 305.451637164864, 348.57883774994616, 301.357912447001, 334.83382604751534, 362.7136197053904, 260.8170061756016, 285.58182894680334, 261.30559736316206, 157.05933435234928, 113.89500388192214, 49.148436232646134, 37.37635709845701, 31.490345938066415, 41.00742433822761, 30.509294517720452, 25.604298963849907, 24.623241590456534, 22.661265865065396, 22.66124836643091, 22.625612862911765, 19.718155521366448, 22.51345077695208, 16.775226336890587, 16.74773869944114, 14.813207776638873, 14.813195570516184, 14.813174866193146, 14.81317407532965, 14.813123466426466, 14.780164665876015, 13.832202081120794, 13.832182137137083, 13.832087970773573, 13.801834690870294, 18.399358861461092, 29.390570875057435, 12.85118902637038, 12.851121562890043, 28.452526856895897, 17.355052594686878, 62.27384498687063, 22.66127524926244, 25.91970828213706, 99.10202966150777, 56.165256586456245, 74.231120078307, 31.12819264657984, 93.53726176323303, 42.515589732978285, 27.84917123348793, 146.92574421813885, 223.90418403100148, 222.77408791114988, 536.9221917649, 52.80658871302757, 551.5701870628234, 67.30390369791677, 225.25019373489098, 353.7484768489491, 201.70792559902344, 54.570136713163215, 346.34930424867315, 326.67228611522944, 185.3067259117385, 81.02343567499801, 464.16019850797676, 135.09036279510892, 471.06268207774195, 744.8888052510802, 592.1515922179071, 189.90600484761606, 580.7069349961325, 121.89193593339552, 205.27324934171338, 149.71817888004517, 419.0722372384006, 162.29016277354145, 137.81826351433313, 362.63204227780955, 246.15949862692585, 256.82459879765105, 263.9246626771423, 201.8481576431503, 201.01442034927194, 151.38088303641283, 177.95859809937622, 171.15981040422568, 174.28783284304862, 163.49130715121876, 1000.8677105353134, 947.0951137564014, 931.1624853335973, 325.72257108045613, 1047.2768278891651, 129.5521111012122, 86.73268258175773, 60.84271630791614, 82.39494593630538, 56.85955940710665, 47.89745790452106, 47.897454065977485, 44.9098702039139, 43.914258412242546, 43.91338713093708, 40.92691923763184, 40.92667375511657, 39.93113781300166, 37.939543393954615, 36.94374162469056, 32.96061986200343, 29.973251377269, 29.973211976850532, 148.63672117234032, 27.975003231729755, 24.994253489115277, 23.002728770809824, 23.002695648356, 22.971896753200802, 279.2813673345479, 147.8760512075417, 113.2607040249367, 97.92113630139987, 1048.30545972459, 513.3482500296622, 180.43415053250405, 43.23687454500796, 111.51185550506901, 114.27809475842906, 696.9648452045988, 106.01228408936697, 321.6115157110796, 79.43582226017566, 82.49697421719046, 91.63711795981712, 112.57103772732765, 1271.523555889375, 419.14003299093685, 1351.6487526340786, 1001.2215907974979, 968.9376675357796, 307.9597905970749, 247.80500008705425, 269.6377720338153, 295.1031659013496, 227.88069106467768, 229.52930028036184, 252.33432531735022, 355.3764859873673, 354.89780516832326, 304.884161816499, 298.52319907985134, 228.87135642090348, 231.07905153479294, 181.770921547545, 167.75428516785092, 36.71816553358642, 22.26219049093937, 17.397802530724203, 13.588543939636379, 13.588199219536742, 12.624096922024494, 11.661108838804182, 11.66103485426001, 11.660996523579689, 9.733681881503871, 8.769896594888065, 8.76988850561114, 8.769856214245195, 18.33748968817135, 7.806031567913778, 7.805917108432952, 7.805838882402585, 25.102740446466356, 6.842367586950834, 6.842274467105899, 6.842269989860083, 6.842256395431626, 115.48650311734391, 16.065216722421862, 13.514826786395238, 5.878718862853306, 5.878679331198654, 5.878430459398696, 5.8783911216900675, 395.69462552962847, 12.521675880773357, 100.40854086741217, 104.19538474226448, 115.80316692987414, 306.9952388058854, 121.38913203130224, 163.80715773897546, 632.5143544402644, 383.30663546240885, 30.89382089149027, 423.2542302134045, 131.21180481292976, 121.38115468005093, 628.6503405286395, 229.82295540602578, 167.45766212285645, 191.0787265992653, 477.3751836757717, 184.55345828207766, 76.77557679110423, 316.2149625042387, 594.1759101052281, 2196.241280744289, 654.4947956155111, 1604.1438038936637, 98.81166917404934, 1702.5096512736159, 337.70709025955546, 463.5517087824093, 596.4971878611004, 774.8353799065801, 948.8267900550653, 667.2398818536273, 347.02021278816494, 771.7260406965119, 1299.0025439638512, 809.1471667099088, 317.3825057158574, 954.8395193130713, 846.3804244034553, 1104.8400185678292, 548.5020879149819, 926.645875492505, 643.2828919082492, 621.6970268702441, 463.62964414986317, 394.0206487323243, 360.9300069633916, 145.3321878577646, 196.2978797218272, 150.1349650727603, 61.37265366040335, 43.583491404225185, 43.57041170407825, 291.29747267983515, 37.63671609265719, 36.66545821347755, 34.688863228011755, 26.782582965722668, 24.806017454424556, 23.817405606613107, 21.841164858700193, 21.841141806917456, 21.834745498365127, 64.24731607562464, 18.876295440897202, 17.887905142449036, 17.887883426542224, 16.899711688311243, 16.899706559864377, 16.89965075587138, 17.829706351180974, 16.870151367463308, 15.911432597001603, 15.911431750012236, 15.911427941259866, 14.923104302864802, 13.934852865338666, 83.22470359155061, 619.1627647694875, 390.57293136695444, 884.307162617308, 81.3283119487156, 326.0762424459444, 284.2032416854006, 211.5020036000269, 35.93353498907697, 47.39046595083169, 33.776638561943116, 132.2637853304795, 56.408638942532846, 134.47386563417618, 351.5785516370786, 99.89366329033322, 129.78082731773586, 209.09403109067708, 107.44737363283186, 135.27982638383475, 125.05762098939131, 95.17742390585059, 231.96498348172096, 101.80906253095195, 175.9545020965177, 261.54262286902247, 94.14723829371586, 177.86126458483625, 174.33315511820032, 132.06102469449212, 298.39150044435627, 275.13570253216835, 291.9729829935602, 190.04499417300542, 261.70386951095975, 205.45891732792444, 197.36172772313694, 199.6522347676031, 195.06002862034484, 160.82828743689194, 179.83109448991382, 168.04957998844685, 176.15880580857072, 166.84951128082471, 161.20224494666695, 246.58914927570586, 158.53670102789053, 135.71439452394034, 112.00367916187686, 176.65352539162814, 93.18785590373709, 69.42046053084376, 70.38960247058115, 40.70151208979909, 34.759732946564036, 25.84697897156833, 26.790742995780903, 24.85661066770157, 23.86635261165834, 23.86634703868362, 21.885750003407665, 21.885736737488674, 20.895428776127, 46.47143373441344, 19.905134612097225, 18.91474958444036, 42.50575288418613, 41.20312096604708, 14.953625089464163, 14.95356317337845, 14.953333909156047, 104.61540177956695, 13.963291928547067, 48.21085945704594, 12.972947213669537, 349.9264707350947, 60.102508692694585, 219.35244219624605, 1084.0245705894138, 75.74977178479952, 216.57149458092854, 227.9942540528, 121.8772127030484, 115.55317473051704, 54.97956179516648, 556.4317692132947, 272.961078069527, 489.9426537617636, 98.58951455181956, 764.5576031822259, 73.3747569713469, 278.1484680766619, 1169.121416802081, 147.77497548033278, 212.1198225638702, 105.59348427685705, 451.405620822558, 137.5230550171122, 215.0121097856889, 116.78971098923476, 237.60281439260405, 218.554977909291, 473.0085328348289, 219.4621726001565, 940.0935018973946, 437.22042872360447, 411.5230451608041, 344.8782907136317, 777.5554751961403, 1169.1363859451944, 692.8322334128167, 881.8847385757175, 740.6984956037942, 443.9012433429416, 525.8372274319144, 648.1707895645023, 618.9482155156049, 580.0577917329327, 576.1148503753623, 370.8610408356001, 565.4853727729488, 297.18047451165745, 260.216293704776, 296.01350073662184, 296.94847171001084, 306.19210863290965, 298.07366573059295, 112.83820960838476, 98.99306438912016, 94.04840023740256, 64.38010937673698, 205.82114974099085, 62.402195710460525, 69.22485574967929, 62.36246893411245, 59.435317635981725, 73.04498188513028, 51.523852914430364, 51.52384938493601, 50.5348687701297, 47.56805753967139, 42.62338796828902, 58.09723103961916, 55.18995878710935, 38.6675945702117, 37.677997092416106, 70.20950842644149, 77.87231901505854, 30.756038492785898, 34.55096093288885, 30.71014956347293, 27.789234696651597, 88.172640267921, 26.800308556369618, 32.511792504061304, 24.82239708275212, 24.821765665442427, 434.57984939712304, 336.7032957405679, 90.47224367174123, 59.97402140126797, 257.70056009850066, 189.08290114463324, 45.43468068595848, 62.42480120756172, 283.29438807104276, 139.3929113856969, 89.30522215772211, 81.30578503246325, 246.43838300550402, 167.93283570930188, 110.34686147145919, 497.11617664256147, 417.8368042607637, 108.48579044899085, 174.10523782371934, 316.0403879874801, 554.2149927220602, 457.9337961193892, 398.4681271673602, 389.2128373812401, 125.14809096917433, 137.0917099786162, 195.9466714094541, 2373.0992417103926, 690.3379163254181, 211.77231517204862, 362.14603033810505, 875.6259289051058, 310.3039727950816, 309.9945757582275, 165.72208790197638, 325.2874143551757, 479.39288910518303, 344.97627101800066, 288.33379154587016, 1070.2859132465185, 412.5400283231928, 460.21465962010654, 414.3097184768988, 308.76581120402665, 363.75995502552314, 298.92817156209907, 370.86732695201715, 360.8655317112556, 309.4341753628132, 305.6820816349759, 360.95853432040104, 328.5275202988453, 48.85881172826051, 45.74656226951139, 41.59741732737881, 41.59740522445551, 34.336002139387, 32.26122662591579, 30.186642317993197, 28.11195659822043, 24.99993244947974, 23.962505137809043, 21.88791050572017, 21.88789670237225, 21.887786211825762, 20.850553589078682, 20.849637154895365, 30.77016277018076, 19.813239457803732, 26.72063688037118, 18.77577989007165, 17.738514960887475, 17.738235758474506, 17.73715465493748, 16.70118771400194, 15.663870441719501, 15.66385879436888, 16.579524744203653, 14.626480453959946, 14.626470491837011, 14.626418084380472, 13.589107679492566, 22.545317855146404, 32.01963732736983, 203.66656459657054, 49.690719596039834, 27.4006436344726, 142.57836848585526, 55.248000121178265, 61.244828825488014, 55.189825105844996, 59.51516917546859, 23.662202740588224, 63.17119893279794, 278.8340083364302, 61.30262479812646, 165.97330596262614, 82.51630926649698, 152.18623363394386, 51.3977069947719, 131.06481600809056, 107.12429371412338, 270.256100195823, 67.56004751511809, 241.8365016335193, 156.4327999787482, 91.83152870896375, 82.67175045554086, 142.80261365501758, 101.11141543710123, 181.43958130601936, 132.12501909514563, 136.76872918289874, 100.45039653428458, 79.03770930948934, 87.79334711633639, 117.70770536362642, 85.48626164746388, 115.70556088739954, 98.00610218027026, 84.96414930642284, 98.78160850569603, 78.98871112413386, 75.04520135026594, 68.19916966235206, 111.92670588661525, 47.32936106164435, 48.21167869608177, 25.22220886771792, 25.2217579234258, 24.21737304728956, 18.188139590419794, 30.614060657251247, 54.34463951658696, 15.173279324126032, 21.697169654632447, 13.163785277094233, 13.163783986464157, 13.163747003643655, 14.975986417614545, 17.78275947844891, 12.158902115209559, 10.14918613790126, 10.149177882743377, 10.148561891592047, 9.14430386674708, 9.144287680626427, 9.144240218443036, 9.144229644041735, 9.144211803315452, 9.144211564847586, 8.139413184981503, 8.139389707004197, 8.139390037234914, 8.139334456493634, 111.91551372912524, 107.24231009410161, 23.14558823722404, 140.35066113754365, 203.8298287361102, 135.78105636872309, 24.812049162214812, 41.77943994910521, 16.664421586001687, 128.15783106698132, 140.6321652081774, 308.43950285738936, 25.232498801406805, 104.37512845315499, 487.4088608792585, 274.898978767189, 1006.4380599751654, 77.96960940100527, 392.76110506753525, 312.21360548711493, 363.9657773758905, 237.99172926227342, 74.20946204050655, 62.48773520325007, 184.19659476525854, 148.6999813193349, 102.84799600040623, 703.5804948802648, 419.6789016617522, 369.3654164421953, 688.2706401506323, 606.5421997754592, 246.84748183451998, 600.4374890036563, 567.4762844577458, 395.94647070539634, 331.0786244782701, 262.4037605015682, 425.6857728767643, 260.97704538767715, 212.8787975497716, 200.93256419244526, 232.71929894784992, 202.31359287998723, 228.4588187013154, 224.6086509168112, 192.89816671983795, 140.3052561811457, 223.4386890645563, 71.18937143374967, 58.35354296352815, 67.04644906537848, 51.44192402448721, 46.505126420973774, 46.50509425791143, 45.517731599681866, 48.367261824668404, 40.58079380796115, 47.185064429913865, 34.65657450311107, 33.669301514006435, 31.69456954145767, 31.694563533979334, 31.694516030199107, 30.70719460061374, 30.70718501489995, 30.707176879117558, 29.719823616091116, 28.732464439066984, 28.732394078831433, 28.732162193040974, 27.745078463229728, 26.757707933942584, 26.75764239938139, 309.476337986119, 25.77030755007507, 63.91439217354937, 215.5574185187218, 96.74945944681525, 115.2975275731905, 51.43826155173536, 66.47772438957452, 305.0655015820721, 130.55408849083562, 140.5937684371965, 122.99759488841266, 230.01793948308134, 506.3366862456201, 181.5937991900186, 69.52348344839153, 109.32262546086557, 100.22439281695362, 292.1086767431224, 146.5372796435269, 201.484154949193, 1606.5843809854562, 261.9285101458713, 552.7034952771794, 1001.5316773356409, 387.082967417056, 104.48674142990606, 774.2627949061824, 247.85121705885345, 611.3667508498633, 253.58401439150967, 344.97883562072553, 269.55759262139657, 769.2802977309995, 774.2193258313455, 560.7709573234897, 741.9001138697403, 507.11271838232096, 1621.6318272349056, 705.6273816559149, 1246.115573025632, 507.35973855305963, 430.4017105221475, 524.6526110906904, 943.9314514304154, 540.3056256106361, 385.4520702476835, 908.2503784283929, 438.18430206760826, 377.91272868504035, 716.665223779892, 589.5427035758553, 508.4652311323532, 700.1214106487027, 579.3556828301944, 536.9422133559096, 398.5163244573862], \"Total\": [5035.0, 2471.0, 6263.0, 4285.0, 1050.0, 1317.0, 1001.0, 947.0, 932.0, 4281.0, 4426.0, 4180.0, 3914.0, 1050.0, 3553.0, 1322.0, 2549.0, 1215.0, 1451.0, 1695.0, 4744.0, 700.0, 5708.0, 1184.0, 3595.0, 1368.0, 2475.0, 2935.0, 1344.0, 1848.0, 68.16179759554748, 85.94036737387069, 54.334977849513145, 46.43056832619836, 26.674907453572672, 25.68712224177527, 25.687122094106314, 24.699339041900217, 22.723772623818128, 22.723773477905528, 22.723779400155912, 23.71162977150938, 21.735989506211745, 19.760423503376558, 111.69376480920657, 17.784857029704025, 17.78480982170889, 16.79707456931458, 16.797076629783138, 38.520460901939195, 15.809290674912155, 15.80929015080448, 15.809291540770197, 15.808936946254788, 14.821507595799297, 14.82150262728738, 13.83372432314578, 13.833724466445677, 13.833724441274523, 13.833725261931763, 51.41846113596062, 83.0209144653903, 44.44183796776553, 25.686687447369994, 57.4074202221841, 24.70799613942109, 1368.084833149077, 146.01706912317997, 187.32306615704394, 144.6160773459897, 139.31384904652552, 609.9969816718635, 55.652322301307606, 1055.9640861800945, 385.6267689632324, 149.37486491158546, 56.32609800268514, 241.1951888875475, 71.36191554482588, 3553.004789066766, 2471.1533218169825, 76.95839522295668, 599.4210157814343, 1591.715541775201, 74.9166862599003, 959.3396569680998, 1848.7738365744772, 273.91327111854747, 461.1047604206873, 200.2191209110572, 4285.73530279016, 855.3669207851401, 955.3955891754321, 456.0410982297072, 1825.0047677750833, 5877.794877218917, 4281.088020957148, 3595.5313804705156, 2549.0809002317947, 5708.006327309895, 842.0931094538596, 1057.1646013684208, 5035.06332645055, 782.1868695525391, 6263.399304222143, 1116.3120743484108, 1593.9879030533411, 1167.9564433393157, 1689.34975468738, 2935.5735293293233, 1061.3209262793932, 2994.3858463043603, 2273.558032701075, 157.95379566239922, 114.78945102314104, 50.04293453523412, 38.27084144542311, 32.384793780561516, 42.19677254058296, 31.403786620478346, 26.498746716136925, 25.51773913605245, 23.555723362098366, 23.55572388604149, 23.555988547507607, 20.612701414580663, 23.55668337573505, 17.66967637869425, 17.66986679442252, 15.70766082035967, 15.707661003310365, 15.707661250676832, 15.707661086068029, 15.707661663448048, 15.707890270306946, 14.726653164269292, 14.726653110499987, 14.726654134231625, 14.726851733821833, 19.634425525845092, 31.412834046501676, 13.745645101100706, 13.745646958875975, 30.479725014378037, 18.65392975630234, 69.7156217713339, 24.560593454797814, 29.505683468743886, 132.0211481800819, 70.2974303533694, 103.1659629103469, 37.32621072362395, 137.631003030489, 54.852601459732014, 33.40010595794947, 250.49831485338734, 423.12958808073597, 422.44051897413954, 1322.5786057519163, 73.77440527880589, 1451.0326953114347, 105.1817536231173, 537.638328850263, 1011.6242018662072, 470.408605492848, 82.60609256434998, 1239.6804419620044, 1194.73844481255, 517.6166403466516, 154.51172709742707, 2273.558032701075, 340.87939414061975, 2475.279451608689, 5708.006327309895, 4285.73530279016, 726.2473851522516, 5877.794877218917, 340.85544395434, 896.7917066733453, 551.6616140592719, 4744.657685582963, 676.7705645623593, 485.9286346171452, 4180.4730186737015, 2128.4568990145485, 2994.3858463043603, 3595.5313804705156, 1825.0047677750833, 2491.3714996311915, 753.0613893484197, 3914.204593212522, 2816.5117469437178, 4281.088020957148, 2471.1533218169825, 1001.76069898904, 947.9880816340348, 932.0554542703626, 326.6156143983412, 1050.5955443858775, 130.44514247321317, 87.62622593071443, 61.73568509631477, 83.65786642146675, 57.752528246930424, 48.790425399818204, 48.79042540893744, 45.803063942820096, 44.80726836339343, 44.80730630281062, 41.81990107292275, 41.81989934178282, 40.82411165081461, 38.832533133388765, 37.836743926715364, 33.85358724063573, 30.8662196784286, 30.866219371196465, 153.32203695329602, 28.874701335190668, 25.887273347785612, 23.89569516561242, 23.89569493045211, 23.896981704222245, 290.6465357442559, 154.31200429104913, 118.45896061066111, 102.53990332326302, 1317.6035415050899, 627.5663404160229, 230.79222888253057, 46.778742484879096, 137.63443691431252, 142.79690400121729, 1184.4678366266962, 131.69908508415153, 497.06874911255596, 96.43068285138354, 101.74384454058445, 117.48618740978353, 157.08647364530768, 4281.088020957148, 1029.0574577788434, 6263.399304222143, 4285.73530279016, 4180.4730186737015, 1287.8284067994646, 876.2243848068407, 1139.8032363246273, 1792.4860249232436, 1061.3209262793932, 1167.9564433393157, 1540.4868668157771, 4744.657685582963, 5877.794877218917, 3553.004789066766, 3595.5313804705156, 1469.5369273223491, 2994.3858463043603, 1574.2639429941216, 171.67030622826385, 37.61435582915749, 23.158377419991783, 18.341668786165872, 14.484791992406313, 14.484805529412284, 13.521091238048662, 12.557327677871575, 12.557329334602828, 12.557335761390794, 10.62986263946942, 9.6661327078668, 9.666132551679294, 9.666133086449893, 20.295683414414626, 8.702403304078533, 8.702410106746056, 8.702406790691759, 28.04283597075644, 7.7386699765835445, 7.73867648649191, 7.738672194290169, 7.738676151267975, 131.45724478167315, 18.375774411125413, 15.47441775505484, 6.774935774996752, 6.774937023241797, 6.774945654886073, 6.774944483712605, 456.38817857824955, 14.512700116579058, 119.00771064885008, 125.85549807296789, 140.36861839348302, 381.7826430065088, 148.1153063018943, 202.47000331901668, 817.4139048177051, 510.21252600836954, 36.81230648275169, 599.825254483271, 173.67683542455964, 162.14087436249727, 957.4025777646784, 337.827741125148, 238.82311020918786, 277.76354960442256, 786.5556326481062, 271.3526951495297, 102.92286616714755, 506.27769017402704, 1112.385349100779, 5035.06332645055, 1249.491259250918, 3914.204593212522, 144.7029277346918, 4426.907687043065, 678.3170961110739, 1026.3630196540378, 1455.1636469274833, 2128.4568990145485, 2935.5735293293233, 1848.7738365744772, 734.463556162476, 2475.279451608689, 5708.006327309895, 2816.5117469437178, 668.4263623328525, 4180.4730186737015, 3595.5313804705156, 5877.794877218917, 1792.4860249232436, 4744.657685582963, 2994.3858463043603, 3553.004789066766, 2273.558032701075, 1292.7662130339736, 957.9269390599917, 146.2710325182028, 197.66289865794062, 151.21275800249256, 62.26642527843623, 44.47723380498956, 44.477260401848014, 297.4825673628339, 38.54755353573883, 37.559214653471, 35.58263854654502, 27.6763309417883, 25.699753815231634, 24.711469415191452, 22.7348884304132, 22.734888615083065, 22.73493704004794, 67.20923526876011, 19.77002322588105, 18.781735790519786, 18.781735851955247, 17.793446614047372, 17.7934462252388, 17.79344650780906, 18.781854085280965, 17.79350705077313, 16.80515794355918, 16.80515794927469, 16.805157978281606, 15.816869177262788, 14.828581169750322, 88.98688435238722, 700.4918158054115, 447.954709489666, 1050.073029034032, 89.97242618783707, 391.855216476809, 372.25719419268836, 276.9098241723704, 40.552137762969586, 56.28311196738975, 39.54730435087371, 200.60259741378394, 78.09375567665113, 235.34492375204528, 849.4386663701845, 183.99550450753907, 269.8046540050305, 539.6475707479267, 209.35733391555345, 296.3308800910393, 277.19929365321326, 182.64616312833803, 892.3492029944994, 236.22613508992157, 665.1653911561482, 1478.585518825154, 213.40430193082346, 872.2630062899817, 956.339013447272, 521.5460304966729, 5877.794877218917, 4744.657685582963, 6263.399304222143, 1695.5575517338439, 5708.006327309895, 2816.5117469437178, 2935.5735293293233, 4180.4730186737015, 4426.907687043065, 1397.7691856551733, 3914.204593212522, 2128.4568990145485, 4281.088020957148, 2994.3858463043603, 3595.5313804705156, 247.5780762217683, 159.4413830097346, 136.66448309518913, 112.89723105273765, 178.25087217919565, 94.0813988389997, 70.314031290363, 71.3044565743353, 41.59512896798615, 35.6532873441669, 26.74052451438537, 27.730394360619275, 25.75021762943548, 24.759910837547434, 24.759910480927665, 22.77929679326836, 22.779297438043038, 21.788989920292373, 48.52490566532638, 20.798683547402792, 19.808377609860557, 44.555094147232246, 43.57137521707153, 15.847147947717444, 15.847148869493028, 15.847151510006338, 110.9651831967629, 14.856840935366346, 51.51144674576513, 13.866535394784453, 377.1906622775862, 64.3653102380917, 238.62833200762316, 1215.5327448184019, 82.14555879114906, 241.62484025541073, 256.4977708797427, 135.04443676342612, 128.71655797362234, 59.43917187736586, 690.7051946384403, 327.06335708141347, 609.5128255156786, 110.87822391267962, 989.0656292822632, 81.19296768351248, 349.62671395602297, 1695.5575517338439, 175.64970572994093, 270.1076845748448, 124.74354849047847, 678.4909800547837, 172.0538118389892, 299.4073714715378, 142.92901349839926, 360.03295808349463, 333.27032245245914, 957.9269390599917, 338.42013158300284, 2491.3714996311915, 872.2630062899817, 849.4386663701845, 665.1653911561482, 2816.5117469437178, 5708.006327309895, 2935.5735293293233, 4744.657685582963, 4285.73530279016, 1574.2639429941216, 2475.279451608689, 4180.4730186737015, 4281.088020957148, 3914.204593212522, 4426.907687043065, 1409.9393860246696, 5877.794877218917, 709.3685369827956, 539.6475707479267, 1239.6804419620044, 1792.4860249232436, 2994.3858463043603, 2273.558032701075, 113.73197582628526, 99.8867840979487, 94.94207278320418, 65.27379989785052, 208.7355331371227, 63.29591493806844, 70.21865042270043, 63.295905798315054, 60.32909057977929, 74.17390795094813, 52.417549309903414, 52.41754942146617, 51.42860618671531, 48.46178050119718, 43.51706686915056, 59.340315713154894, 56.373657652578146, 39.56129768572279, 38.57235502017153, 72.20388108946639, 80.1070489546703, 31.649758872242607, 35.605749560360564, 31.65200532522515, 28.68293098942044, 91.08026609195325, 27.693988334866923, 33.62738250414002, 25.716103984939227, 25.71613456471719, 456.40207996525663, 354.043627644784, 93.99313111386707, 62.313658182651764, 278.3395053619448, 202.78786391463896, 47.47101752095399, 66.27800980385645, 329.29225929417805, 155.4693449972557, 97.24889475685264, 88.01624085083533, 294.72173052335216, 196.94503709395596, 123.6369003599825, 673.4687875695677, 554.1871151696724, 121.77047572777074, 208.81641800283563, 429.0262441256318, 832.9267534021128, 688.6048606271554, 597.2376148149108, 586.9154771343796, 147.34025943954947, 165.42638176787494, 261.69524857169426, 6263.399304222143, 1397.7691856551733, 299.15094291582704, 619.7394775315419, 2087.7665076434323, 514.3334084347567, 521.2984904541045, 217.73652591836756, 599.3295315839167, 1080.0996468438607, 711.1572590110694, 535.8645447419967, 5877.794877218917, 1194.73844481255, 1478.585518825154, 1238.9529117892762, 696.3180840627915, 995.8149630389516, 692.2058251769902, 1505.8823335535556, 1469.5369273223491, 863.2644517424025, 885.4949030445705, 5035.06332645055, 2491.3714996311915, 49.74764089534905, 46.63560006965095, 42.486243482075906, 42.48624292167887, 35.224845020358764, 33.150156346795825, 31.075475310640805, 29.000790135824214, 25.888762806907543, 24.8514170197852, 22.77673552231531, 22.77673497990251, 22.776730357271724, 21.739391956923892, 21.739348950670657, 32.09164361659998, 20.702051141417748, 27.94737414198829, 19.664703083968643, 18.627364102022895, 18.6273532805705, 18.6272999302643, 17.59002233578926, 16.55268108768155, 16.552680629651245, 17.584345950596937, 15.51533581517046, 15.51533588327216, 15.515334163797338, 14.477992256201105, 24.785293954982976, 36.02420812967332, 270.4725358333606, 59.619279873816296, 30.944585123723915, 222.10080624844343, 73.79547426749762, 83.93393783141266, 85.42936272639373, 112.65863402626505, 28.795776235528486, 129.16057090373306, 1344.8391458531855, 128.53175901720806, 732.3315309453661, 239.17698014420978, 739.619633495807, 107.17535820549143, 596.0139332144154, 514.3334084347567, 4744.657685582963, 245.26017227807503, 5877.794877218917, 2128.4568990145485, 658.2116228551547, 501.11152544208846, 2816.5117469437178, 1029.0574577788434, 6263.399304222143, 2475.279451608689, 2994.3858463043603, 1139.8032363246273, 521.2290959492915, 1011.5801983126992, 4281.088020957148, 919.1779775807654, 5708.006327309895, 2273.558032701075, 1239.6804419620044, 4180.4730186737015, 1008.0706304399788, 1469.5369273223491, 1238.9529117892762, 113.52095381186695, 48.22144804115617, 49.223408211350936, 26.11430067647327, 26.11428327901217, 25.10943104689233, 19.080209019856245, 32.134181232502705, 57.28174546508344, 16.065590406117686, 23.091599064899267, 14.055857408094235, 14.055857061485414, 14.05585654611992, 16.06223901285845, 19.073315840451066, 13.050986804357445, 11.041246455546386, 11.041246267396387, 11.041221720725655, 10.036375984712176, 10.03637564771689, 10.03637321304353, 10.036373651149463, 10.03637432460383, 10.03637507071485, 9.03150526058595, 9.031504892808607, 9.031505564156076, 9.031504796205311, 124.39554347452754, 123.2712615698786, 26.07900266532729, 169.3241692540084, 257.60427304578155, 174.34248575129848, 29.186233962408163, 51.135181834538265, 19.05366994822679, 179.08970035176978, 208.92730422941548, 509.5450807142903, 31.052792411829493, 161.06758272947098, 969.8640135668996, 498.61163509413444, 2471.1533218169825, 116.88385268371317, 838.5107670182044, 687.2285961924342, 888.6233985357258, 520.9850835239661, 119.9022160686021, 98.8436482617026, 423.8695921261789, 320.5553915892526, 197.26084752321202, 3595.5313804705156, 1825.0047677750833, 1792.4860249232436, 5035.06332645055, 4180.4730186737015, 955.3955891754321, 4744.657685582963, 4285.73530279016, 2935.5735293293233, 2491.3714996311915, 1574.2639429941216, 5708.006327309895, 2816.5117469437178, 1455.1636469274833, 1167.9564433393157, 2128.4568990145485, 1287.8284067994646, 3553.004789066766, 4281.088020957148, 1848.7738365744772, 141.1991129734536, 225.12631771023743, 72.0831982050141, 59.247385381040914, 68.13247236853677, 52.33579454055715, 47.398942946763604, 47.39894297129264, 46.411573085916245, 49.373862973041646, 41.47472238870388, 48.3872276119514, 35.550501236805715, 34.56313024245815, 32.588389867219455, 32.58838990540257, 32.58839101372765, 31.601019802910745, 31.60101965964052, 31.601019708344687, 30.613649913575742, 29.626279274248, 29.626279705823222, 29.626273832261663, 28.63890929296132, 27.651539060414937, 27.651539752377275, 320.0457805856634, 26.664168276409853, 66.1602334025146, 225.23647852627872, 100.74312968785475, 120.47114273428735, 53.33161432931947, 69.12387348409881, 332.97735929114845, 139.04468671827286, 153.06598316386103, 134.3045398506718, 267.9503032253336, 639.2558971023268, 212.39929911975187, 76.03208787769343, 125.42334094826933, 114.4981252323404, 373.3316308939817, 173.97293979829135, 247.99456383683417, 2549.0809002317947, 338.59375189828324, 821.3303049169108, 1689.34975468738, 566.1722002361033, 121.57195233075606, 1322.5786057519163, 346.12087649786866, 1057.1646013684208, 357.911915365212, 523.7104838552704, 388.9861031779416, 1451.0326953114347, 1505.8823335535556, 1008.0706304399788, 1469.5369273223491, 919.1779775807654, 4426.907687043065, 1540.4868668157771, 3914.204593212522, 1080.0996468438607, 842.0931094538596, 1238.9529117892762, 3553.004789066766, 1478.585518825154, 840.8946833221662, 5035.06332645055, 1139.8032363246273, 892.3492029944994, 4744.657685582963, 2994.3858463043603, 2087.7665076434323, 6263.399304222143, 4281.088020957148, 5708.006327309895, 5877.794877218917], \"Category\": [\"Default\", \"Default\", \"Default\", \"Default\", \"Default\", \"Default\", \"Default\", \"Default\", \"Default\", \"Default\", \"Default\", \"Default\", \"Default\", \"Default\", \"Default\", \"Default\", \"Default\", \"Default\", \"Default\", \"Default\", \"Default\", \"Default\", \"Default\", \"Default\", \"Default\", \"Default\", \"Default\", \"Default\", \"Default\", \"Default\", \"Topic1\", \"Topic1\", \"Topic1\", \"Topic1\", \"Topic1\", \"Topic1\", \"Topic1\", \"Topic1\", \"Topic1\", \"Topic1\", \"Topic1\", \"Topic1\", \"Topic1\", \"Topic1\", \"Topic1\", \"Topic1\", \"Topic1\", \"Topic1\", \"Topic1\", \"Topic1\", \"Topic1\", \"Topic1\", \"Topic1\", \"Topic1\", \"Topic1\", \"Topic1\", \"Topic1\", \"Topic1\", \"Topic1\", \"Topic1\", \"Topic1\", \"Topic1\", \"Topic1\", \"Topic1\", \"Topic1\", \"Topic1\", \"Topic1\", \"Topic1\", \"Topic1\", \"Topic1\", \"Topic1\", \"Topic1\", \"Topic1\", \"Topic1\", \"Topic1\", \"Topic1\", \"Topic1\", \"Topic1\", \"Topic1\", \"Topic1\", \"Topic1\", \"Topic1\", \"Topic1\", \"Topic1\", \"Topic1\", \"Topic1\", \"Topic1\", \"Topic1\", \"Topic1\", \"Topic1\", \"Topic1\", \"Topic1\", \"Topic1\", \"Topic1\", \"Topic1\", \"Topic1\", \"Topic1\", \"Topic1\", \"Topic1\", \"Topic1\", \"Topic1\", \"Topic1\", \"Topic1\", \"Topic1\", \"Topic1\", \"Topic1\", \"Topic1\", \"Topic1\", \"Topic1\", \"Topic1\", \"Topic1\", \"Topic1\", \"Topic1\", \"Topic2\", \"Topic2\", \"Topic2\", \"Topic2\", \"Topic2\", \"Topic2\", \"Topic2\", \"Topic2\", \"Topic2\", \"Topic2\", \"Topic2\", \"Topic2\", \"Topic2\", \"Topic2\", \"Topic2\", \"Topic2\", \"Topic2\", \"Topic2\", \"Topic2\", \"Topic2\", \"Topic2\", \"Topic2\", \"Topic2\", \"Topic2\", \"Topic2\", \"Topic2\", \"Topic2\", \"Topic2\", \"Topic2\", \"Topic2\", \"Topic2\", \"Topic2\", \"Topic2\", \"Topic2\", \"Topic2\", \"Topic2\", \"Topic2\", \"Topic2\", \"Topic2\", \"Topic2\", \"Topic2\", \"Topic2\", \"Topic2\", \"Topic2\", \"Topic2\", \"Topic2\", \"Topic2\", \"Topic2\", \"Topic2\", \"Topic2\", \"Topic2\", \"Topic2\", \"Topic2\", \"Topic2\", \"Topic2\", \"Topic2\", \"Topic2\", \"Topic2\", \"Topic2\", \"Topic2\", \"Topic2\", \"Topic2\", \"Topic2\", \"Topic2\", \"Topic2\", \"Topic2\", \"Topic2\", \"Topic2\", \"Topic2\", \"Topic2\", \"Topic2\", \"Topic2\", \"Topic2\", \"Topic2\", \"Topic2\", \"Topic2\", \"Topic2\", \"Topic2\", \"Topic2\", \"Topic2\", \"Topic2\", \"Topic3\", \"Topic3\", \"Topic3\", \"Topic3\", \"Topic3\", \"Topic3\", \"Topic3\", \"Topic3\", \"Topic3\", \"Topic3\", \"Topic3\", \"Topic3\", \"Topic3\", \"Topic3\", \"Topic3\", \"Topic3\", \"Topic3\", \"Topic3\", \"Topic3\", \"Topic3\", \"Topic3\", \"Topic3\", \"Topic3\", \"Topic3\", \"Topic3\", \"Topic3\", \"Topic3\", \"Topic3\", \"Topic3\", \"Topic3\", \"Topic3\", \"Topic3\", \"Topic3\", \"Topic3\", \"Topic3\", \"Topic3\", \"Topic3\", \"Topic3\", \"Topic3\", \"Topic3\", \"Topic3\", \"Topic3\", \"Topic3\", \"Topic3\", \"Topic3\", \"Topic3\", \"Topic3\", \"Topic3\", \"Topic3\", \"Topic3\", \"Topic3\", \"Topic3\", \"Topic3\", \"Topic3\", \"Topic3\", \"Topic3\", \"Topic3\", \"Topic3\", \"Topic3\", \"Topic3\", \"Topic3\", \"Topic3\", \"Topic3\", \"Topic3\", \"Topic3\", \"Topic4\", \"Topic4\", \"Topic4\", \"Topic4\", \"Topic4\", \"Topic4\", \"Topic4\", \"Topic4\", \"Topic4\", \"Topic4\", \"Topic4\", \"Topic4\", \"Topic4\", \"Topic4\", \"Topic4\", \"Topic4\", \"Topic4\", \"Topic4\", \"Topic4\", \"Topic4\", \"Topic4\", \"Topic4\", \"Topic4\", \"Topic4\", \"Topic4\", \"Topic4\", \"Topic4\", \"Topic4\", \"Topic4\", \"Topic4\", \"Topic4\", \"Topic4\", \"Topic4\", \"Topic4\", \"Topic4\", \"Topic4\", \"Topic4\", \"Topic4\", \"Topic4\", \"Topic4\", \"Topic4\", \"Topic4\", \"Topic4\", \"Topic4\", \"Topic4\", \"Topic4\", \"Topic4\", \"Topic4\", \"Topic4\", \"Topic4\", \"Topic4\", \"Topic4\", \"Topic4\", \"Topic4\", \"Topic4\", \"Topic4\", \"Topic4\", \"Topic4\", \"Topic4\", \"Topic4\", \"Topic4\", \"Topic4\", \"Topic4\", \"Topic4\", \"Topic4\", \"Topic4\", \"Topic4\", \"Topic4\", \"Topic4\", \"Topic4\", \"Topic4\", \"Topic4\", \"Topic4\", \"Topic4\", \"Topic4\", \"Topic4\", \"Topic4\", \"Topic4\", \"Topic4\", \"Topic5\", \"Topic5\", \"Topic5\", \"Topic5\", \"Topic5\", \"Topic5\", \"Topic5\", \"Topic5\", \"Topic5\", \"Topic5\", \"Topic5\", \"Topic5\", \"Topic5\", \"Topic5\", \"Topic5\", \"Topic5\", \"Topic5\", \"Topic5\", \"Topic5\", \"Topic5\", \"Topic5\", \"Topic5\", \"Topic5\", \"Topic5\", \"Topic5\", \"Topic5\", \"Topic5\", \"Topic5\", \"Topic5\", \"Topic5\", \"Topic5\", \"Topic5\", \"Topic5\", \"Topic5\", \"Topic5\", \"Topic5\", \"Topic5\", \"Topic5\", \"Topic5\", \"Topic5\", \"Topic5\", \"Topic5\", \"Topic5\", \"Topic5\", \"Topic5\", \"Topic5\", \"Topic5\", \"Topic5\", \"Topic5\", \"Topic5\", \"Topic5\", \"Topic5\", \"Topic5\", \"Topic5\", \"Topic5\", \"Topic5\", \"Topic5\", \"Topic5\", \"Topic5\", \"Topic5\", \"Topic5\", \"Topic5\", \"Topic5\", \"Topic5\", \"Topic5\", \"Topic5\", \"Topic5\", \"Topic5\", \"Topic5\", \"Topic5\", \"Topic5\", \"Topic5\", \"Topic5\", \"Topic5\", \"Topic5\", \"Topic6\", \"Topic6\", \"Topic6\", \"Topic6\", \"Topic6\", \"Topic6\", \"Topic6\", \"Topic6\", \"Topic6\", \"Topic6\", \"Topic6\", \"Topic6\", \"Topic6\", \"Topic6\", \"Topic6\", \"Topic6\", \"Topic6\", \"Topic6\", \"Topic6\", \"Topic6\", \"Topic6\", \"Topic6\", \"Topic6\", \"Topic6\", \"Topic6\", \"Topic6\", \"Topic6\", \"Topic6\", \"Topic6\", \"Topic6\", \"Topic6\", \"Topic6\", \"Topic6\", \"Topic6\", \"Topic6\", \"Topic6\", \"Topic6\", \"Topic6\", \"Topic6\", \"Topic6\", \"Topic6\", \"Topic6\", \"Topic6\", \"Topic6\", \"Topic6\", \"Topic6\", \"Topic6\", \"Topic6\", \"Topic6\", \"Topic6\", \"Topic6\", \"Topic6\", \"Topic6\", \"Topic6\", \"Topic6\", \"Topic6\", \"Topic6\", \"Topic6\", \"Topic6\", \"Topic6\", \"Topic6\", \"Topic6\", \"Topic6\", \"Topic6\", \"Topic6\", \"Topic6\", \"Topic6\", \"Topic6\", \"Topic6\", \"Topic6\", \"Topic6\", \"Topic6\", \"Topic6\", \"Topic6\", \"Topic6\", \"Topic6\", \"Topic6\", \"Topic6\", \"Topic6\", \"Topic6\", \"Topic6\", \"Topic6\", \"Topic7\", \"Topic7\", \"Topic7\", \"Topic7\", \"Topic7\", \"Topic7\", \"Topic7\", \"Topic7\", \"Topic7\", \"Topic7\", \"Topic7\", \"Topic7\", \"Topic7\", \"Topic7\", \"Topic7\", \"Topic7\", \"Topic7\", \"Topic7\", \"Topic7\", \"Topic7\", \"Topic7\", \"Topic7\", \"Topic7\", \"Topic7\", \"Topic7\", \"Topic7\", \"Topic7\", \"Topic7\", \"Topic7\", \"Topic7\", \"Topic7\", \"Topic7\", \"Topic7\", \"Topic7\", \"Topic7\", \"Topic7\", \"Topic7\", \"Topic7\", \"Topic7\", \"Topic7\", \"Topic7\", \"Topic7\", \"Topic7\", \"Topic7\", \"Topic7\", \"Topic7\", \"Topic7\", \"Topic7\", \"Topic7\", \"Topic7\", \"Topic7\", \"Topic7\", \"Topic7\", \"Topic7\", \"Topic7\", \"Topic7\", \"Topic7\", \"Topic7\", \"Topic7\", \"Topic7\", \"Topic7\", \"Topic7\", \"Topic7\", \"Topic7\", \"Topic7\", \"Topic7\", \"Topic7\", \"Topic7\", \"Topic7\", \"Topic7\", \"Topic7\", \"Topic7\", \"Topic7\", \"Topic7\", \"Topic7\", \"Topic7\", \"Topic7\", \"Topic7\", \"Topic7\", \"Topic7\", \"Topic7\", \"Topic7\", \"Topic8\", \"Topic8\", \"Topic8\", \"Topic8\", \"Topic8\", \"Topic8\", \"Topic8\", \"Topic8\", \"Topic8\", \"Topic8\", \"Topic8\", \"Topic8\", \"Topic8\", \"Topic8\", \"Topic8\", \"Topic8\", \"Topic8\", \"Topic8\", \"Topic8\", \"Topic8\", \"Topic8\", \"Topic8\", \"Topic8\", \"Topic8\", \"Topic8\", \"Topic8\", \"Topic8\", \"Topic8\", \"Topic8\", \"Topic8\", \"Topic8\", \"Topic8\", \"Topic8\", \"Topic8\", \"Topic8\", \"Topic8\", \"Topic8\", \"Topic8\", \"Topic8\", \"Topic8\", \"Topic8\", \"Topic8\", \"Topic8\", \"Topic8\", \"Topic8\", \"Topic8\", \"Topic8\", \"Topic8\", \"Topic8\", \"Topic8\", \"Topic8\", \"Topic8\", \"Topic8\", \"Topic8\", \"Topic8\", \"Topic8\", \"Topic8\", \"Topic8\", \"Topic8\", \"Topic8\", \"Topic8\", \"Topic8\", \"Topic8\", \"Topic8\", \"Topic8\", \"Topic8\", \"Topic8\", \"Topic8\", \"Topic8\", \"Topic8\", \"Topic8\", \"Topic8\", \"Topic8\", \"Topic9\", \"Topic9\", \"Topic9\", \"Topic9\", \"Topic9\", \"Topic9\", \"Topic9\", \"Topic9\", \"Topic9\", \"Topic9\", \"Topic9\", \"Topic9\", \"Topic9\", \"Topic9\", \"Topic9\", \"Topic9\", \"Topic9\", \"Topic9\", \"Topic9\", \"Topic9\", \"Topic9\", \"Topic9\", \"Topic9\", \"Topic9\", \"Topic9\", \"Topic9\", \"Topic9\", \"Topic9\", \"Topic9\", \"Topic9\", \"Topic9\", \"Topic9\", \"Topic9\", \"Topic9\", \"Topic9\", \"Topic9\", \"Topic9\", \"Topic9\", \"Topic9\", \"Topic9\", \"Topic9\", \"Topic9\", \"Topic9\", \"Topic9\", \"Topic9\", \"Topic9\", \"Topic9\", \"Topic9\", \"Topic9\", \"Topic9\", \"Topic9\", \"Topic9\", \"Topic9\", \"Topic9\", \"Topic9\", \"Topic9\", \"Topic9\", \"Topic9\", \"Topic9\", \"Topic9\", \"Topic9\", \"Topic9\", \"Topic9\", \"Topic9\", \"Topic9\", \"Topic9\", \"Topic9\", \"Topic9\", \"Topic9\", \"Topic9\", \"Topic9\", \"Topic9\", \"Topic9\", \"Topic9\", \"Topic9\", \"Topic9\", \"Topic9\", \"Topic10\", \"Topic10\", \"Topic10\", \"Topic10\", \"Topic10\", \"Topic10\", \"Topic10\", \"Topic10\", \"Topic10\", \"Topic10\", \"Topic10\", \"Topic10\", \"Topic10\", \"Topic10\", \"Topic10\", \"Topic10\", \"Topic10\", \"Topic10\", \"Topic10\", \"Topic10\", \"Topic10\", \"Topic10\", \"Topic10\", \"Topic10\", \"Topic10\", \"Topic10\", \"Topic10\", \"Topic10\", \"Topic10\", \"Topic10\", \"Topic10\", \"Topic10\", \"Topic10\", \"Topic10\", \"Topic10\", \"Topic10\", \"Topic10\", \"Topic10\", \"Topic10\", \"Topic10\", \"Topic10\", \"Topic10\", \"Topic10\", \"Topic10\", \"Topic10\", \"Topic10\", \"Topic10\", \"Topic10\", \"Topic10\", \"Topic10\", \"Topic10\", \"Topic10\", \"Topic10\", \"Topic10\", \"Topic10\", \"Topic10\", \"Topic10\", \"Topic10\", \"Topic10\", \"Topic10\", \"Topic10\", \"Topic10\", \"Topic10\", \"Topic10\", \"Topic10\", \"Topic10\", \"Topic10\", \"Topic10\", \"Topic10\", \"Topic10\", \"Topic10\", \"Topic10\", \"Topic10\", \"Topic10\", \"Topic10\", \"Topic10\", \"Topic10\", \"Topic10\", \"Topic10\", \"Topic10\", \"Topic10\", \"Topic10\", \"Topic10\", \"Topic10\"], \"logprob\": [30.0, 29.0, 28.0, 27.0, 26.0, 25.0, 24.0, 23.0, 22.0, 21.0, 20.0, 19.0, 18.0, 17.0, 16.0, 15.0, 14.0, 13.0, 12.0, 11.0, 10.0, 9.0, 8.0, 7.0, 6.0, 5.0, 4.0, 3.0, 2.0, 1.0, -6.678, -6.448, -6.9104, -7.0681, -7.637, -7.6761, -7.6761, -7.7167, -7.8034, -7.8034, -7.8034, -7.7619, -7.8497, -7.9493, -6.22, -8.0599, -8.0603, -8.1201, -8.1203, -7.2911, -8.1843, -8.1843, -8.1843, -8.1877, -8.2528, -8.2528, -8.3263, -8.3263, -8.3263, -8.3263, -7.0229, -6.5568, -7.1731, -7.719, -6.9318, -7.7626, -4.0176, -6.1016, -5.8746, -6.1293, -6.1735, -4.8223, -7.0193, -4.3425, -5.2686, -6.1526, -7.023, -5.794, -6.8516, -3.6646, -3.963, -6.8051, -5.1491, -4.4081, -6.8319, -4.8462, -4.3746, -5.8476, -5.4955, -6.1068, -3.9366, -5.0944, -5.031, -5.5665, -4.6565, -3.9029, -4.1689, -4.2822, -4.5105, -4.0323, -5.2018, -5.1134, -4.2877, -5.3219, -4.3137, -5.1649, -5.0328, -5.1784, -5.073, -4.993, -5.3228, -5.2321, -5.321, -5.4116, -5.7329, -6.5734, -6.8472, -7.0185, -6.7544, -7.0502, -7.2254, -7.2645, -7.3475, -7.3475, -7.3491, -7.4867, -7.3541, -7.6483, -7.6499, -7.7727, -7.7727, -7.7727, -7.7727, -7.7727, -7.7749, -7.8412, -7.8412, -7.8412, -7.8434, -7.5559, -7.0875, -7.9148, -7.9148, -7.12, -7.6143, -6.3367, -7.3475, -7.2132, -5.872, -6.4399, -6.161, -7.0301, -5.9298, -6.7183, -7.1414, -5.4783, -5.057, -5.062, -4.1823, -6.5016, -4.1554, -6.259, -5.051, -4.5996, -5.1614, -6.4687, -4.6207, -4.6792, -5.2462, -6.0735, -4.328, -5.5623, -4.3132, -3.855, -4.0844, -5.2217, -4.104, -5.6651, -5.1439, -5.4594, -4.4302, -5.3788, -5.5423, -4.5748, -4.9622, -4.9198, -4.8925, -5.1607, -5.1648, -5.4484, -5.2866, -5.3256, -5.3075, -5.3714, -3.4648, -3.52, -3.537, -4.5874, -3.4195, -5.5093, -5.9106, -6.2651, -5.9619, -6.3328, -6.5044, -6.5044, -6.5688, -6.5912, -6.5912, -6.6616, -6.6616, -6.6863, -6.7374, -6.764, -6.8781, -6.9731, -6.9731, -5.3719, -7.0421, -7.1548, -7.2378, -7.2378, -7.2391, -4.7412, -5.377, -5.6437, -5.7893, -3.4185, -4.1325, -5.178, -6.6067, -5.6593, -5.6348, -3.8267, -5.7099, -4.6001, -5.9985, -5.9607, -5.8556, -5.6498, -3.2254, -4.3352, -3.1643, -3.4644, -3.4972, -4.6434, -4.8608, -4.7763, -4.6861, -4.9446, -4.9374, -4.8427, -4.5002, -4.5016, -4.6535, -4.6746, -4.9403, -4.9307, -5.1707, -5.8126, -7.3319, -7.8323, -8.0788, -8.3259, -8.3259, -8.3995, -8.4789, -8.4789, -8.4789, -8.6596, -8.7638, -8.7638, -8.7638, -8.0262, -8.8803, -8.8803, -8.8803, -7.7122, -9.012, -9.012, -9.012, -9.012, -6.186, -8.1585, -8.3314, -9.1638, -9.1638, -9.1639, -9.1639, -4.9545, -8.4077, -6.3259, -6.2889, -6.1833, -5.2083, -6.1361, -5.8365, -4.4854, -4.9863, -7.5046, -4.8872, -6.0583, -6.1362, -4.4916, -5.4978, -5.8144, -5.6825, -4.7668, -5.7172, -6.5943, -5.1787, -4.548, -3.2406, -4.4513, -3.5548, -6.3419, -3.4953, -5.113, -4.7962, -4.5441, -4.2825, -4.0799, -4.432, -5.0858, -4.2865, -3.7658, -4.2392, -5.175, -4.0736, -4.1942, -3.9277, -4.628, -4.1036, -4.4686, -4.5027, -4.7961, -4.9587, -5.0465, -5.3365, -5.0359, -5.304, -6.1986, -6.5409, -6.5412, -4.6412, -6.6876, -6.7137, -6.7691, -7.0278, -7.1045, -7.1451, -7.2317, -7.2317, -7.232, -6.1528, -7.3776, -7.4314, -7.4314, -7.4882, -7.4882, -7.4883, -7.4347, -7.49, -7.5485, -7.5485, -7.5485, -7.6126, -7.6812, -5.894, -3.8872, -4.3479, -3.5307, -5.9171, -4.5284, -4.6659, -4.9613, -6.7339, -6.4571, -6.7958, -5.4307, -6.2829, -5.4142, -4.4531, -5.7114, -5.4497, -4.9728, -5.6385, -5.4082, -5.4868, -5.7598, -4.869, -5.6924, -5.1453, -4.7489, -5.7707, -5.1345, -5.1546, -5.4323, -4.6171, -4.6983, -4.6389, -5.0683, -4.7483, -4.9903, -5.0305, -5.019, -5.0422, -5.2352, -5.1235, -5.1913, -5.1442, -5.1985, -5.2329, -5.3492, -5.791, -5.9464, -6.1384, -5.6828, -6.3224, -6.6168, -6.6029, -7.1507, -7.3085, -7.6048, -7.5689, -7.6438, -7.6845, -7.6845, -7.7711, -7.7711, -7.8174, -7.0181, -7.866, -7.917, -7.1073, -7.1385, -8.152, -8.152, -8.152, -6.2067, -8.2205, -6.9814, -8.2941, -4.9992, -6.7609, -5.4663, -3.8685, -6.5295, -5.479, -5.4276, -6.054, -6.1072, -6.85, -4.5354, -5.2476, -4.6627, -6.266, -4.2177, -6.5614, -5.2288, -3.793, -5.8613, -5.4998, -6.1974, -4.7446, -5.9332, -5.4863, -6.0966, -5.3864, -5.4699, -4.6979, -5.4658, -4.011, -4.7765, -4.8371, -5.0138, -4.2008, -3.7929, -4.3162, -4.0749, -4.2494, -4.7614, -4.592, -4.3828, -4.4289, -4.4938, -4.5007, -4.9411, -4.5193, -5.1626, -5.2955, -5.1666, -5.1634, -5.1328, -5.1596, -6.4191, -6.55, -6.6013, -6.9803, -5.8181, -7.0115, -6.9077, -7.0121, -7.0602, -6.854, -7.203, -7.203, -7.2224, -7.2829, -7.3927, -7.083, -7.1343, -7.4901, -7.516, -6.8936, -6.79, -7.719, -7.6027, -7.7205, -7.8204, -6.6658, -7.8567, -7.6635, -7.9333, -7.9334, -5.0707, -5.3259, -6.64, -7.0512, -5.5933, -5.9029, -7.3288, -7.0111, -5.4986, -6.2078, -6.653, -6.7469, -5.638, -6.0215, -6.4415, -4.9363, -5.11, -6.4585, -5.9854, -5.3892, -4.8275, -5.0184, -5.1575, -5.181, -6.3156, -6.2244, -5.8672, -3.3731, -4.6079, -5.7896, -5.253, -4.3701, -5.4075, -5.4085, -6.0348, -5.3604, -4.9726, -5.3016, -5.481, -4.1694, -5.1228, -5.0134, -5.1185, -5.4125, -5.2486, -5.4449, -5.2292, -5.2566, -5.4103, -5.4225, -5.2563, -5.3505, -5.7386, -5.8045, -5.8995, -5.8995, -6.0914, -6.1537, -6.2202, -6.2914, -6.4087, -6.4511, -6.5417, -6.5417, -6.5417, -6.5902, -6.5902, -6.201, -6.6412, -6.3421, -6.695, -6.7518, -6.7519, -6.7519, -6.8121, -6.8762, -6.8762, -6.8194, -6.9448, -6.9448, -6.9448, -7.0183, -6.5121, -6.1612, -4.3111, -5.7218, -6.317, -4.6677, -5.6158, -5.5127, -5.6168, -5.5414, -6.4637, -5.4817, -3.997, -5.5118, -4.5158, -5.2146, -4.6025, -5.688, -4.7519, -4.9536, -4.0282, -5.4146, -4.1393, -4.575, -5.1076, -5.2127, -4.6661, -5.0114, -4.4267, -4.7438, -4.7093, -5.0179, -5.2577, -5.1526, -4.8594, -5.1792, -4.8765, -5.0426, -5.1854, -5.0347, -5.2583, -5.3095, -5.4052, -5.6831, -6.5439, -6.5254, -7.1733, -7.1733, -7.2139, -7.5002, -6.9795, -6.4056, -7.6814, -7.3238, -7.8235, -7.8235, -7.8235, -7.6945, -7.5228, -7.9029, -8.0836, -8.0836, -8.0837, -8.1879, -8.1879, -8.1879, -8.1879, -8.1879, -8.1879, -8.3043, -8.3043, -8.3043, -8.3043, -5.6832, -5.7259, -7.2592, -5.4568, -5.0837, -5.4899, -7.1897, -6.6686, -7.5877, -5.5477, -5.4548, -4.6695, -7.1729, -5.753, -4.2119, -4.7846, -3.4868, -6.0447, -4.4278, -4.6573, -4.5039, -4.9287, -6.0941, -6.266, -5.185, -5.3991, -5.7677, -3.8448, -4.3615, -4.4892, -3.8668, -3.9932, -4.8922, -4.0033, -4.0598, -4.4197, -4.5986, -4.8311, -4.3473, -4.8366, -5.0403, -5.098, -4.9512, -5.0912, -4.9696, -4.9866, -5.1388, -6.3733, -5.908, -7.0518, -7.2506, -7.1118, -7.3767, -7.4776, -7.4776, -7.4991, -7.4383, -7.6139, -7.4631, -7.7717, -7.8006, -7.861, -7.861, -7.861, -7.8927, -7.8927, -7.8927, -7.9253, -7.9591, -7.9591, -7.9591, -7.9941, -8.0303, -8.0303, -5.5823, -8.0679, -7.1596, -5.9439, -6.745, -6.5696, -7.3768, -7.1203, -5.5966, -6.4454, -6.3713, -6.505, -5.879, -5.09, -6.1154, -7.0755, -6.6229, -6.7097, -5.64, -6.3299, -6.0114, -3.9353, -5.7491, -5.0023, -4.4079, -5.3585, -6.6681, -4.6652, -5.8043, -4.9015, -5.7815, -5.4737, -5.7204, -4.6717, -4.6653, -4.9878, -4.7079, -5.0884, -3.926, -4.7581, -4.1894, -5.0879, -5.2524, -5.0544, -4.4671, -5.025, -5.3627, -4.5056, -5.2345, -5.3825, -4.7425, -4.9378, -5.0858, -4.7659, -4.9552, -5.0313, -5.3294], \"loglift\": [30.0, 29.0, 28.0, 27.0, 26.0, 25.0, 24.0, 23.0, 22.0, 21.0, 20.0, 19.0, 18.0, 17.0, 16.0, 15.0, 14.0, 13.0, 12.0, 11.0, 10.0, 9.0, 8.0, 7.0, 6.0, 5.0, 4.0, 3.0, 2.0, 1.0, 2.1355, 2.1337, 2.1298, 2.1293, 2.1147, 2.1133, 2.1133, 2.1119, 2.1086, 2.1086, 2.1086, 2.1076, 2.1068, 2.1025, 2.0997, 2.0972, 2.0968, 2.0941, 2.0939, 2.0932, 2.0905, 2.0905, 2.0905, 2.0871, 2.0865, 2.0865, 2.082, 2.0819, 2.0819, 2.0819, 2.0725, 2.0595, 2.0681, 2.0705, 2.0534, 2.0656, 1.7966, 1.9501, 1.9279, 1.932, 1.9252, 1.7997, 1.9969, 1.7307, 1.8119, 1.8763, 1.9812, 1.7558, 1.916, 1.1952, 1.26, 1.887, 1.4903, 1.2547, 1.8872, 1.323, 1.1385, 1.575, 1.4063, 1.6292, 0.7358, 1.1895, 1.1423, 1.3463, 0.8695, 0.4536, 0.5046, 0.5658, 0.6814, 0.3535, 1.0977, 0.9586, 0.2235, 1.0514, -0.0208, 0.8527, 0.6286, 0.794, 0.5303, 0.0577, 0.7453, -0.2012, -0.0147, 2.5615, 2.5594, 2.5492, 2.5436, 2.5392, 2.5386, 2.5383, 2.5329, 2.5315, 2.5285, 2.5285, 2.5269, 2.5228, 2.5219, 2.5153, 2.5136, 2.5086, 2.5086, 2.5086, 2.5086, 2.5086, 2.5063, 2.5045, 2.5045, 2.5045, 2.5023, 2.5022, 2.5007, 2.4999, 2.4999, 2.4984, 2.495, 2.4543, 2.4867, 2.4376, 2.2804, 2.3428, 2.238, 2.3856, 2.181, 2.3124, 2.3854, 2.0337, 1.9307, 1.9273, 1.6657, 2.2328, 1.5999, 2.1207, 1.6972, 1.5165, 1.7204, 2.1526, 1.292, 1.2705, 1.54, 1.9217, 0.9783, 1.6416, 0.9081, 0.5308, 0.5879, 1.2258, 0.2525, 1.5389, 1.0927, 1.263, 0.1405, 1.1393, 1.3071, 0.1224, 0.41, 0.1111, -0.0446, 0.3654, 0.05, 0.9629, -0.5236, -0.2335, -0.6341, -0.1485, 2.6611, 2.661, 2.661, 2.6592, 2.6588, 2.6551, 2.6517, 2.6474, 2.6468, 2.6464, 2.6435, 2.6435, 2.6423, 2.6419, 2.6418, 2.6404, 2.6404, 2.6399, 2.6387, 2.6381, 2.6353, 2.6326, 2.6326, 2.631, 2.6303, 2.6269, 2.6239, 2.6239, 2.6225, 2.6221, 2.6194, 2.6171, 2.6159, 2.4333, 2.4611, 2.4158, 2.5833, 2.4515, 2.4392, 2.1317, 2.445, 2.2266, 2.4681, 2.4523, 2.4135, 2.3288, 1.448, 1.7638, 1.1286, 1.2079, 1.2, 1.2312, 1.399, 1.2205, 0.858, 1.1235, 1.035, 0.8529, 0.0704, -0.1451, 0.2064, 0.1734, 0.8024, 0.1003, 0.5032, 2.0772, 2.0761, 2.0608, 2.0474, 2.0364, 2.0364, 2.0316, 2.0262, 2.0262, 2.0262, 2.0122, 2.0029, 2.0029, 2.0029, 1.9988, 1.9915, 1.9915, 1.9915, 1.9895, 1.9772, 1.9771, 1.9771, 1.9771, 1.9707, 1.9659, 1.9649, 1.9584, 1.9584, 1.9583, 1.9583, 1.9576, 1.9527, 1.9303, 1.9114, 1.9079, 1.8822, 1.9013, 1.8883, 1.8438, 1.8143, 1.925, 1.7516, 1.8199, 1.8107, 1.6796, 1.715, 1.7453, 1.7262, 1.6009, 1.7148, 1.8072, 1.6296, 1.4732, 1.2706, 1.4536, 1.2082, 1.7188, 1.1447, 1.4028, 1.3054, 1.2085, 1.0897, 0.9708, 1.0811, 1.3505, 0.9348, 0.62, 0.853, 1.3554, 0.6236, 0.6538, 0.4288, 0.9161, 0.467, 0.5623, 0.3572, 0.5102, 0.9121, 1.1242, 2.7134, 2.7129, 2.7127, 2.7054, 2.6996, 2.6993, 2.6988, 2.6959, 2.6958, 2.6944, 2.687, 2.6845, 2.683, 2.6798, 2.6797, 2.6795, 2.6748, 2.6736, 2.6711, 2.6711, 2.6683, 2.6683, 2.6683, 2.6678, 2.6666, 2.6652, 2.6652, 2.6652, 2.6617, 2.6577, 2.6529, 2.5964, 2.5828, 2.548, 2.6188, 2.5361, 2.45, 2.4504, 2.5989, 2.5479, 2.5621, 2.3033, 2.3946, 2.1602, 1.8377, 2.109, 1.988, 1.7717, 2.0528, 1.9357, 1.9239, 2.068, 1.3726, 1.8782, 1.39, 0.9876, 1.9015, 1.1298, 1.0177, 1.3463, -0.2607, -0.1277, -0.346, 0.5313, -0.3626, 0.1018, 0.0202, -0.3217, -0.4023, 0.5576, -0.3605, 0.181, -0.4707, -0.1675, -0.3849, 2.1744, 2.1727, 2.1715, 2.1705, 2.1694, 2.1689, 2.1656, 2.1655, 2.1567, 2.153, 2.1444, 2.144, 2.1431, 2.1417, 2.1417, 2.1384, 2.1384, 2.1366, 2.1352, 2.1345, 2.1323, 2.1313, 2.1225, 2.1204, 2.1204, 2.1204, 2.1195, 2.1164, 2.1122, 2.1118, 2.1034, 2.1099, 2.0942, 2.0639, 2.0974, 2.069, 2.0606, 2.0758, 2.0705, 2.1004, 1.9623, 1.9976, 1.9601, 2.061, 1.921, 2.0772, 1.9497, 1.8067, 2.0056, 1.9368, 2.0118, 1.7709, 1.9544, 1.8473, 1.9765, 1.7628, 1.7565, 1.4728, 1.7453, 1.2038, 1.4878, 1.4537, 1.5216, 0.8913, 0.5928, 0.7346, 0.4957, 0.423, 0.9125, 0.6293, 0.3144, 0.2445, 0.2692, 0.1393, 0.843, -0.1628, 1.3084, 1.449, 0.7462, 0.3806, -0.1019, 0.1467, 1.8824, 1.8813, 1.8809, 1.8765, 1.8763, 1.8761, 1.8761, 1.8755, 1.8754, 1.875, 1.8731, 1.8731, 1.8728, 1.8717, 1.8696, 1.8691, 1.8691, 1.8675, 1.8669, 1.8623, 1.862, 1.8617, 1.8602, 1.8601, 1.8587, 1.8579, 1.8575, 1.8566, 1.8549, 1.8549, 1.8413, 1.8401, 1.8521, 1.852, 1.8133, 1.8203, 1.8465, 1.8304, 1.7399, 1.7812, 1.8051, 1.811, 1.7114, 1.731, 1.7766, 1.5867, 1.6079, 1.7748, 1.7085, 1.5847, 1.4829, 1.4824, 1.4856, 1.4796, 1.7271, 1.7024, 1.601, 0.9198, 1.1849, 1.5449, 1.3531, 1.0214, 1.385, 1.3705, 1.6173, 1.2792, 1.078, 1.1669, 1.2705, 0.1871, 0.827, 0.7232, 0.7949, 1.0771, 0.8832, 1.0506, 0.489, 0.4861, 0.8643, 0.8267, -0.7451, -0.1357, 3.3898, 3.3886, 3.3867, 3.3867, 3.3823, 3.3806, 3.3788, 3.3767, 3.3729, 3.3714, 3.368, 3.368, 3.368, 3.3661, 3.366, 3.3658, 3.3639, 3.3629, 3.3616, 3.3589, 3.3589, 3.3588, 3.356, 3.3526, 3.3526, 3.349, 3.3488, 3.3488, 3.3488, 3.3445, 3.3131, 3.29, 3.1241, 3.2257, 3.2862, 2.9646, 3.1183, 3.0927, 2.9709, 2.7697, 3.2115, 2.6926, 1.8344, 2.6675, 1.9234, 2.3436, 1.8268, 2.6729, 1.8932, 1.8389, 0.5424, 2.1185, 0.2171, 0.7973, 1.4382, 1.6059, 0.426, 1.0876, -0.1337, 0.4775, 0.3216, 0.9789, 1.5215, 0.9635, -0.1859, 1.0327, -0.4908, 0.2637, 0.7274, -0.3375, 0.8613, 0.4332, 0.5082, 2.6203, 2.6157, 2.6136, 2.5997, 2.5996, 2.5982, 2.5865, 2.586, 2.5818, 2.5773, 2.5721, 2.5688, 2.5688, 2.5688, 2.5644, 2.5644, 2.5636, 2.5502, 2.5502, 2.5501, 2.5413, 2.5413, 2.5413, 2.5413, 2.5413, 2.5413, 2.5304, 2.5304, 2.5304, 2.5304, 2.5287, 2.4951, 2.5151, 2.4467, 2.4003, 2.3844, 2.472, 2.4323, 2.5004, 2.2998, 2.2386, 2.1324, 2.4269, 2.2006, 1.9464, 2.039, 1.7361, 2.2296, 1.876, 1.8454, 1.7418, 1.8509, 2.1546, 2.1758, 1.801, 1.8663, 1.9831, 1.0032, 1.1646, 1.0548, 0.6444, 0.704, 1.2811, 0.5673, 0.6126, 0.631, 0.6162, 0.8428, 0.0385, 0.2556, 0.7123, 0.8744, 0.4211, 0.7835, -0.1098, -0.3132, 0.3743, 1.7119, 1.7107, 1.7058, 1.703, 1.7022, 1.701, 1.6992, 1.6992, 1.6988, 1.6976, 1.6965, 1.6931, 1.6928, 1.692, 1.6904, 1.6904, 1.6904, 1.6895, 1.6895, 1.6895, 1.6886, 1.6876, 1.6876, 1.6876, 1.6865, 1.6854, 1.6854, 1.6847, 1.6841, 1.6837, 1.6743, 1.6778, 1.6743, 1.6821, 1.6792, 1.6307, 1.6552, 1.6332, 1.6303, 1.5656, 1.4851, 1.5615, 1.6288, 1.5809, 1.5851, 1.4729, 1.5466, 1.5105, 1.2566, 1.4615, 1.3221, 1.1954, 1.338, 1.5668, 1.1828, 1.3843, 1.1706, 1.3736, 1.3008, 1.3515, 1.0837, 1.053, 1.1318, 1.0348, 1.1235, 0.714, 0.9375, 0.5737, 0.9627, 1.0471, 0.859, 0.3927, 0.7115, 0.9382, 0.0056, 0.7623, 0.859, -0.1719, 0.0931, 0.3058, -0.473, -0.2818, -0.6455, -0.9729]}, \"token.table\": {\"Topic\": [1, 7, 9, 10, 5, 7, 1, 3, 4, 5, 6, 7, 8, 9, 10, 1, 3, 4, 5, 6, 7, 8, 9, 10, 1, 3, 5, 6, 7, 8, 9, 10, 1, 2, 3, 5, 6, 7, 8, 9, 10, 1, 2, 3, 4, 5, 6, 7, 8, 9, 10, 1, 3, 4, 5, 7, 8, 9, 10, 1, 1, 9, 1, 6, 9, 1, 1, 2, 3, 4, 10, 7, 9, 5, 2, 10, 2, 4, 7, 8, 10, 2, 7, 10, 2, 7, 8, 10, 2, 4, 7, 8, 10, 2, 7, 8, 10, 2, 7, 8, 10, 7, 10, 7, 10, 1, 2, 3, 5, 6, 9, 10, 7, 1, 2, 4, 5, 6, 7, 8, 9, 10, 2, 5, 6, 7, 10, 7, 3, 1, 2, 4, 5, 6, 7, 8, 10, 1, 3, 4, 5, 6, 7, 8, 10, 7, 10, 8, 1, 3, 9, 7, 8, 9, 10, 1, 9, 1, 5, 6, 9, 5, 6, 1, 5, 6, 7, 9, 10, 7, 3, 7, 1, 2, 3, 9, 10, 2, 3, 1, 2, 3, 5, 6, 3, 5, 6, 2, 5, 6, 8, 9, 6, 1, 2, 3, 4, 5, 6, 7, 8, 9, 10, 2, 4, 6, 3, 7, 8, 7, 1, 2, 7, 9, 10, 5, 3, 1, 1, 5, 10, 1, 3, 4, 1, 3, 7, 9, 2, 6, 7, 10, 7, 10, 5, 7, 10, 9, 1, 6, 10, 4, 7, 5, 6, 9, 2, 3, 4, 5, 7, 8, 9, 10, 1, 2, 4, 5, 7, 9, 10, 1, 2, 3, 4, 5, 6, 7, 8, 9, 10, 10, 7, 2, 7, 4, 1, 2, 3, 4, 7, 8, 9, 10, 3, 4, 10, 1, 2, 4, 7, 9, 10, 3, 4, 10, 3, 5, 6, 10, 3, 5, 1, 2, 3, 4, 5, 6, 7, 8, 10, 2, 5, 9, 2, 5, 6, 9, 10, 3, 4, 10, 1, 2, 4, 5, 6, 7, 8, 9, 10, 2, 4, 6, 8, 9, 10, 5, 8, 9, 1, 2, 4, 5, 6, 7, 8, 10, 5, 6, 7, 8, 10, 7, 1, 2, 5, 6, 7, 8, 9, 10, 5, 1, 4, 10, 1, 2, 3, 4, 4, 5, 6, 1, 2, 3, 4, 5, 6, 7, 8, 9, 10, 2, 2, 5, 4, 4, 1, 5, 6, 10, 1, 4, 7, 9, 3, 5, 6, 1, 10, 10, 2, 6, 3, 6, 3, 4, 1, 3, 4, 7, 10, 4, 1, 9, 10, 1, 9, 10, 6, 10, 4, 7, 1, 2, 4, 9, 10, 1, 4, 5, 4, 6, 8, 2, 7, 2, 6, 7, 1, 5, 6, 3, 5, 6, 5, 1, 2, 4, 5, 6, 7, 8, 9, 10, 3, 5, 6, 4, 10, 3, 4, 5, 10, 1, 2, 4, 5, 7, 9, 10, 10, 4, 1, 2, 4, 9, 3, 5, 6, 3, 4, 1, 4, 7, 9, 10, 4, 3, 3, 10, 10, 2, 3, 4, 5, 6, 7, 9, 5, 3, 3, 7, 10, 2, 6, 7, 8, 4, 10, 1, 2, 4, 5, 6, 7, 8, 9, 10, 1, 2, 3, 4, 5, 6, 7, 8, 10, 4, 5, 6, 7, 10, 3, 1, 2, 3, 4, 5, 6, 7, 8, 9, 10, 1, 2, 4, 5, 6, 7, 8, 9, 10, 8, 5, 1, 2, 3, 4, 5, 6, 8, 9, 10, 10, 3, 5, 2, 9, 1, 2, 4, 5, 6, 7, 9, 8, 2, 3, 4, 5, 6, 7, 9, 10, 6, 5, 6, 8, 2, 6, 1, 2, 4, 9, 10, 5, 3, 5, 6, 7, 10, 1, 2, 4, 7, 8, 9, 10, 1, 3, 5, 7, 8, 10, 3, 5, 7, 8, 10, 3, 5, 1, 2, 4, 5, 6, 7, 8, 9, 10, 2, 5, 10, 2, 2, 7, 1, 2, 4, 6, 7, 8, 9, 10, 1, 2, 4, 5, 6, 7, 8, 9, 10, 1, 3, 7, 1, 7, 8, 10, 2, 7, 8, 10, 5, 5, 5, 7, 1, 2, 3, 4, 5, 6, 7, 9, 10, 5, 1, 2, 4, 5, 6, 7, 9, 10, 2, 4, 6, 7, 9, 10, 1, 2, 3, 4, 5, 6, 7, 8, 9, 3, 5, 8, 10, 10, 9, 9, 1, 2, 3, 4, 9, 10, 6, 7, 9, 6, 1, 2, 3, 4, 5, 6, 7, 8, 9, 10, 1, 2, 3, 4, 5, 6, 7, 1, 10, 10, 1, 3, 4, 5, 6, 8, 9, 10, 8, 10, 2, 8, 4, 10, 1, 2, 3, 4, 5, 6, 7, 8, 10, 3, 10, 2, 3, 5, 1, 7, 8, 2, 7, 4, 7, 3, 5, 7, 8, 5, 7, 5, 6, 7, 7, 1, 4, 5, 7, 10, 3, 2, 1, 2, 4, 5, 6, 7, 8, 9, 10, 1, 2, 3, 4, 5, 6, 7, 8, 9, 10, 1, 2, 3, 4, 6, 7, 8, 9, 10, 1, 3, 4, 5, 6, 7, 1, 2, 3, 4, 5, 6, 7, 8, 9, 10, 10, 2, 6, 9, 2, 5, 6, 7, 8, 8, 9, 10, 1, 2, 3, 4, 5, 6, 7, 8, 9, 10, 2, 2, 4, 5, 6, 9, 10, 2, 3, 4, 5, 6, 7, 8, 9, 10, 2, 4, 6, 7, 9, 4, 9, 1, 2, 3, 4, 7, 8, 9, 10, 2, 9, 1, 3, 4, 10, 7, 3, 7, 9, 10, 1, 2, 3, 4, 5, 6, 7, 8, 9, 10, 1, 2, 3, 4, 5, 6, 7, 8, 9, 10, 3, 1, 2, 3, 4, 5, 6, 7, 8, 9, 10, 1, 2, 3, 4, 5, 6, 7, 8, 9, 10, 4, 2, 10, 1, 3, 1, 4, 9, 10, 10, 9, 8, 2, 3, 5, 6, 9, 1, 2, 4, 5, 6, 7, 8, 9, 10, 2, 4, 6, 7, 10, 1, 2, 3, 4, 5, 6, 7, 8, 10, 4, 7, 8, 1, 2, 4, 7, 8, 9, 10, 2, 3, 5, 6, 7, 8, 10, 2, 3, 5, 6, 8, 2, 4, 5, 6, 7, 8, 9, 10, 1, 4, 5, 6, 7, 8, 9, 10, 1, 2, 3, 4, 5, 6, 7, 9, 10, 5, 8, 9, 1, 2, 3, 4, 6, 9, 9, 1, 3, 7, 8, 5, 6, 7, 10, 8, 3, 10, 9, 7, 7, 7, 10, 9, 7, 9, 2, 5, 7, 8, 1, 2, 3, 4, 5, 6, 7, 8, 9, 10, 9, 10, 1, 2, 4, 5, 6, 7, 5, 6, 5, 6, 10, 2, 6, 9, 2, 2, 4, 7, 10, 1, 6, 7, 8, 10, 7, 2, 1, 1, 2, 3, 4, 5, 6, 7, 8, 9, 6, 8, 10, 1, 4, 9, 10, 2, 3, 6, 7, 1, 2, 3, 4, 5, 6, 7, 8, 9, 10, 3, 5, 7, 8, 8, 6, 1, 2, 5, 3, 6, 1, 5, 6, 7, 4, 5, 3, 2, 3, 5, 6, 2, 6, 6, 1, 2, 3, 4, 9, 10, 1, 2, 3, 4, 5, 6, 7, 8, 9, 10, 2, 5, 6, 6, 1, 1, 2, 7, 1, 2, 4, 5, 6, 7, 8, 9, 10, 1, 1, 2, 3, 4, 5, 6, 7, 8, 9, 10, 3, 10, 1, 2, 4, 5, 6, 7, 8, 9, 10, 1, 2, 3, 4, 5, 6, 7, 8, 9, 10, 7, 1, 2, 4, 5, 6, 7, 8, 9, 10, 10, 10, 5, 6, 6, 9, 3, 2, 9, 6, 7, 8, 10, 8, 2, 4, 5, 6, 7, 8, 9, 10, 2, 3, 5, 6, 6, 1, 3, 4, 10, 5, 7, 5, 6, 3, 6, 1, 2, 4, 6, 7, 8, 1, 2, 3, 4, 5, 6, 7, 8, 9, 10, 1, 2, 3, 4, 5, 6, 7, 8, 9, 10, 10, 9, 8, 5, 1, 7, 5, 6, 7, 8, 10, 9, 1, 4, 3, 5, 6, 9, 10, 1, 2, 4, 10, 3, 4, 6, 7, 7, 7, 8, 10, 3, 8, 9, 4, 4, 6, 9, 1, 3, 4, 5, 6, 7, 9, 10, 3, 5, 6, 9, 3, 5, 3, 5, 7, 5, 1, 2, 4, 5, 6, 7, 8, 9, 10, 1, 2, 3, 4, 5, 6, 7, 8, 9, 10, 5, 6, 10, 3, 5, 7, 8, 5, 7, 1, 2, 3, 4, 6, 7, 8, 9, 10, 1, 2, 3, 4, 5, 6, 7, 8, 9, 10, 5, 6, 1, 3, 4, 5, 7, 8, 10, 7, 1, 2, 3, 4, 5, 3, 4, 6, 7, 10, 4, 2, 4, 5, 6, 9, 10, 2, 5, 6, 1, 3, 7, 8, 3, 2, 3, 5, 3, 1, 2, 3, 4, 5, 6, 7, 8, 9, 10, 2, 5, 6, 7, 9, 3, 8, 6, 5, 10, 5, 7, 2, 3, 2, 1, 2, 7, 10, 10, 2, 3, 5, 6, 3, 4, 5, 6, 2, 5, 6, 6, 2, 3, 4, 5, 6, 9, 1, 3, 4, 10, 10, 4, 6, 5, 2, 5, 9, 10, 1, 4, 10, 8, 5, 6, 4, 2, 5, 6, 2, 3, 5, 6, 8, 9, 5, 1, 9, 10, 8, 7, 8, 10, 1, 2, 3, 6, 9, 7, 1, 2, 4, 5, 6, 7, 9, 10, 4, 5, 7, 10, 1, 2, 4, 6, 7, 8, 9, 10, 2, 3, 5, 9, 4, 10, 3, 7, 2, 1, 8, 3, 5, 7, 10, 1, 2, 3, 4, 5, 6, 7, 8, 9, 10, 1, 1, 2, 4, 7, 9, 10, 1, 5, 1, 2, 4, 5, 7, 9, 10, 7, 8, 10, 9, 1, 2, 3, 4, 5, 7, 8, 9, 10, 1, 2, 3, 4, 5, 6, 7, 8, 9, 10, 1, 4, 1, 5, 6, 7, 10, 2, 3, 7, 8, 1, 3, 5, 6, 7, 10, 7, 8, 3, 3, 1, 2, 3, 4, 5, 6, 7, 8, 9, 10, 8, 2, 6, 7, 8, 1, 2, 3, 4, 5, 6, 7, 8, 9, 10, 4, 8, 1, 2, 4, 5, 6, 7, 8, 10, 1, 7, 9, 3, 5, 6, 8, 9, 10, 5, 1, 8, 9, 7, 1, 2, 3, 4, 5, 7, 9, 10, 3, 5, 5, 1, 2, 4, 5, 6, 7, 8, 10, 9, 3, 5, 8, 10, 1, 5, 6, 8, 9, 1, 2, 4, 5, 6, 7, 8, 9, 2, 7, 10, 3, 8, 1, 1, 2, 7, 10, 4, 3, 1, 3, 4, 6, 7, 10, 1, 2, 3, 4, 5, 6, 7, 8, 9, 10, 9, 9, 2, 4, 6, 7, 8, 9, 10, 3, 7, 10, 5, 6, 4, 1, 9, 3, 7, 2, 7, 10, 1, 4, 10, 2, 3, 8, 10, 1, 2, 3, 4, 5, 6, 7, 8, 9, 10, 1, 6, 9, 6, 7, 10, 9, 1, 2, 3, 4, 6, 2, 1, 1, 2, 1, 4, 7, 7, 8, 10, 8, 5, 8, 1, 2, 3, 4, 5, 6, 7, 9, 10, 2, 1, 2, 3, 4, 5, 6, 7, 8, 9, 10, 2, 9, 4, 5, 6, 7, 8, 2, 5, 6, 8, 9, 10, 8, 3, 5, 6, 7, 8, 1, 9, 3, 8, 1, 2, 3, 4, 5, 6, 7, 8, 9, 10, 3, 4, 5, 7, 10, 1, 2, 3, 4, 5, 9, 6, 1, 2, 4, 5, 6, 7, 8, 9, 10, 1, 2, 4, 5, 6, 7, 9, 10, 9, 2, 2, 3, 5, 6, 7, 8, 9, 6, 4, 1, 2, 4, 7, 8, 9, 10, 1, 3, 4, 9, 1, 8, 3, 7, 8, 10, 3, 7, 8, 2, 1, 2, 3, 4, 5, 6, 8, 9, 10, 1, 3, 4, 7, 8, 8, 8, 1, 7, 8, 10, 1, 2, 4, 5, 6, 7, 8, 9, 10, 1, 4, 5, 6, 7, 8, 9, 10, 1, 1, 2, 4, 5, 6, 7, 8, 9, 10, 1, 4, 9, 10, 8, 1, 2, 3, 4, 5, 6, 7, 8, 9, 10, 7, 2, 2, 8, 3, 6, 8, 3, 4, 10, 1, 7, 1, 9, 10, 4, 6, 9, 10, 2, 7, 8, 8, 1, 4, 10, 8, 1, 3, 3, 7, 8, 10, 3, 4, 6, 7, 9, 10, 3, 5, 7, 8, 10, 8, 5, 6, 7, 9, 1, 4, 5, 6, 7, 8, 9, 10, 6, 8, 7, 8, 4, 6, 9, 4, 5, 9, 1, 2, 3, 5, 6, 7, 10, 2, 3, 5, 6, 7, 8, 9, 10, 1, 2, 3, 4, 5, 6, 7, 8, 9, 10, 1, 2, 3, 4, 5, 6, 7, 8, 9, 10, 2, 3, 5, 6, 7, 8, 10, 1, 2, 1, 2, 3, 4, 6, 7, 10, 6, 9, 1, 4, 5, 6, 7, 8, 10, 1, 2, 4, 5, 6, 7, 8, 9, 10, 7, 2, 5, 6, 8, 1, 2, 9, 10, 6, 2, 4, 5, 6, 9, 6], \"Freq\": [0.009862523138178897, 0.9320084365579057, 0.019725046276357794, 0.03451883098362614, 0.9522500850377654, 0.02975781515743017, 0.02249853994635377, 0.08999415978541508, 0.0267170161862951, 0.05062171487929598, 0.018280063706412438, 0.4851247675932532, 0.014061587466471107, 0.005624634986588443, 0.28685638431601057, 0.013721264011114731, 0.10573444620329588, 0.001614266354248792, 0.033092460262100235, 0.001614266354248792, 0.3341531353294999, 0.054885056044458924, 0.03147819390785144, 0.4237449179903079, 0.0013609729451604937, 0.15583140222087655, 0.029941404793530864, 0.008165837670962963, 0.24565561660146912, 0.05103648544351852, 0.0027219458903209874, 0.5049209626545432, 0.005264066471110756, 0.009650788530369719, 0.23688299119998402, 0.042989876180737845, 0.034216432062219915, 0.16055402736887806, 0.08773444118517927, 0.039480498533330674, 0.3842768523910852, 0.02040702376845623, 0.0019435260731863076, 0.40716871233253144, 0.0019435260731863076, 0.06607988648833446, 0.01554820858549046, 0.10980922313502638, 0.09814806669590853, 0.025265838951422, 0.2546019155874063, 0.0785162729828606, 0.5884499168715466, 0.07682775098322918, 0.09118018798009617, 0.0320819179929968, 0.03968026699133815, 0.01941800299576122, 0.07429496798378206, 0.9890579083775642, 0.9335168524993089, 0.05834480328120681, 0.9154319786694571, 0.04818063045628722, 0.02409031522814361, 0.9699881544049563, 0.9345682568971466, 0.02596022935825407, 0.8192413209574877, 0.010370143303259338, 0.15555214954889005, 0.9575167773799382, 0.03191722591266461, 0.9554046850624284, 0.6829856495282276, 0.31242960563525307, 0.3960344987714621, 0.002933588879788608, 0.1144099663117557, 0.005867177759577216, 0.47817498740554304, 0.5293886466697746, 0.00945336869053169, 0.4584883814907869, 0.4294139130136963, 0.017006491604502825, 0.031887171758442794, 0.520823805387899, 0.357407365953506, 0.005795795123570368, 0.040570565864992574, 0.01931931707856789, 0.5757156489413232, 0.1506229802353851, 0.05906783538642552, 0.01476695884660638, 0.7737886435621744, 0.07532981542928309, 0.047081134643301936, 0.018832453857320772, 0.8568766505080953, 0.07839756261947303, 0.9211713607788081, 0.03320297217419486, 0.9545854500081021, 0.4749463002728407, 0.0021687045674558935, 0.013012227404735361, 0.0021687045674558935, 0.18217118366629506, 0.3209682759834722, 0.004337409134911787, 0.9794008209424402, 0.060609186555418644, 0.08067845362674933, 0.1123878955994518, 0.04977178233690008, 0.37730222094101673, 0.13205577732935586, 0.02568866185130327, 0.1328585480122091, 0.028899744582716175, 0.016873030574686955, 0.45557182551654773, 0.013498424459749563, 0.023622242804561735, 0.4859432805509843, 0.9858119495932167, 0.9803945166132035, 0.04595600880173945, 0.07467851430282661, 0.06893401320260918, 0.03303088132625023, 0.011489002200434863, 0.4437627099917966, 0.0057445011002174315, 0.31594756051195877, 0.0016743754498951123, 0.02344125629853157, 0.005023126349685336, 0.06195189164611915, 0.008371877249475562, 0.6664014290582547, 0.005023126349685336, 0.22938943663563038, 0.9628707694247376, 0.01604784615707896, 0.9663202963883245, 0.058668022531088534, 0.11733604506217707, 0.8213523154352395, 0.6027218821802892, 0.20803626255900304, 0.021386905496719937, 0.16720671570162862, 0.9829552970060846, 0.8857881127426783, 0.023379517897626087, 0.1536368318986857, 0.7180851925699442, 0.10353786497520125, 0.14429603949717623, 0.8497433437055933, 0.12444519923279317, 0.004786353816645891, 0.12923155304943906, 0.0526498919831048, 0.6748758881470707, 0.009572707633291782, 0.9904712435981221, 0.013849671027529945, 0.9694769719270961, 0.4492203337653296, 0.03743502781377747, 0.018717513906888736, 0.46481826202107024, 0.0280762708603331, 0.9871421040603098, 0.9625164728182625, 0.06268542568301724, 0.033364823347412406, 0.06470753618892103, 0.06470753618892103, 0.7734572685081967, 0.29441749045490917, 0.04444037591772214, 0.6610505917761168, 0.0152875578744683, 0.11007041669617176, 0.8347006599459692, 0.02140258102425562, 0.01834506944936196, 0.9817058198462616, 0.031096959463511584, 0.08683227911734388, 0.23179195169340558, 0.22844304836656587, 0.047841476097710126, 0.1550063825565808, 0.006697806653679418, 0.023681530668366514, 0.14519887995655023, 0.043774950629404764, 0.7839190641043131, 0.14584540727522105, 0.07292270363761053, 0.7983366361992568, 0.10504429423674431, 0.09103838833851174, 0.9721523247238045, 0.02395225693838182, 0.5868302949903546, 0.2514986978530091, 0.12774537033803635, 0.007984085646127272, 0.9520886397306015, 0.9719363210832724, 0.9681488106617094, 0.9397324752416208, 0.9441226938528284, 0.9788606699173192, 0.9746987893117403, 0.01747535765452068, 0.9786200286531581, 0.18426520305288954, 0.061421734350963174, 0.0390865582233402, 0.7147256360839351, 0.3804187195668423, 0.0013783286940827618, 0.08821303642129676, 0.5299673828748219, 0.7365516779609074, 0.26105629092285326, 0.4404784680979429, 0.1171485287494529, 0.4357925269479648, 0.8967381087880135, 0.8521804581192856, 0.14203007635321427, 0.978860684176687, 0.8707116033331893, 0.10883895041664866, 0.04660895735455627, 0.9321791470911255, 0.8967380572335744, 0.05446151774908667, 0.09258458017344733, 0.4724536664733268, 0.0612692074677225, 0.0027230758874543333, 0.025869220930816166, 0.09258458017344733, 0.19878453978416633, 0.08327487225965156, 0.08552554448288538, 0.31734478347596945, 0.013504033339402956, 0.01575470556263678, 0.4096223446285563, 0.07539751947833316, 0.4089926767153104, 0.010680300313610258, 0.0037695177577447966, 0.0841858965896338, 0.08921192026662686, 0.019475841748348117, 0.12439408600557829, 0.03581041869857557, 0.06596656076053395, 0.15643498694640906, 0.9764374874523485, 0.9813431062003478, 0.889327218558833, 0.10040791177277147, 0.8856159599852754, 0.3853076709079197, 0.016887114868133806, 0.0858428339130135, 0.1750630907996538, 0.006754845947253522, 0.00028145191446889676, 0.06417103649890846, 0.2656906072586385, 0.058799026818694526, 0.7506675757186668, 0.19011685338044565, 0.6581663231693164, 0.016099032365292632, 0.24337948928707098, 0.0018940038076814862, 0.035039070442107495, 0.04545609138435567, 0.016748797871765236, 0.6992623111461986, 0.2805423643520677, 0.1223020422542198, 0.38728980047169603, 0.48179592403177496, 0.005559183738828173, 0.056188055536364745, 0.9327217219036548, 0.051400476355529065, 0.007439542630405522, 0.012850119088882266, 0.060192663100553774, 0.17719637901511334, 0.0067632205730959296, 0.31110814636241274, 0.008115864687715116, 0.3652139109471802, 0.01181166285245279, 0.15355161708188628, 0.8268163996716953, 0.09996013272446716, 0.02221336282765937, 0.7848721532439644, 0.01851113568971614, 0.07034231562092133, 0.025201290846005756, 0.6876352216552999, 0.2844145681192078, 0.0004517826305377268, 0.028914088354414516, 0.3846929099028744, 0.044048806477428364, 0.13011339759486532, 0.0020330218374197706, 0.009713326556561127, 0.033431914659791784, 0.36639571336609644, 0.001223370429724968, 0.7743934820159047, 0.19329252789654494, 0.001223370429724968, 0.004893481718899872, 0.025690779024224328, 0.09694749462645165, 0.8725274516380649, 0.9056948606905839, 0.023114512213053044, 0.02166985519973723, 0.03900573935952701, 0.07512216469242239, 0.008667942079894892, 0.43195244698142876, 0.007223285066579077, 0.39294670762190176, 0.027556240160869855, 0.009185413386956618, 0.7623893111173993, 0.11941037403043603, 0.08266872048260956, 0.9851615225497066, 0.06711252501140781, 0.08724628251483016, 0.05033439375855586, 0.01845594437813715, 0.038589701881559496, 0.2197935194123606, 0.04530095438270028, 0.4714654882051399, 0.9851111196378723, 0.01382142041843781, 0.6841603107126716, 0.2971605389964129, 0.8218217275595912, 0.17121285990824817, 0.9819835398836106, 0.9556173341837935, 0.9665300629388598, 0.543491539468034, 0.4510979777584682, 0.019691742377736562, 0.06796827207799394, 0.1156095842821953, 0.1892948138246934, 0.07495566453461014, 0.282036568248872, 0.025408699842240725, 0.03684261477124905, 0.16642698396667674, 0.022867829858016653, 0.9549480343915477, 0.8383206938101283, 0.14970012389466578, 0.9045479410750614, 0.9045474393739948, 0.014891529372154697, 0.03722882343038674, 0.029783058744309393, 0.9158290563875138, 0.8007556307787861, 0.09075230482159576, 0.08541393394973719, 0.016015112615575724, 0.16587759270992597, 0.831939926514398, 0.942326841951531, 0.9343361244681361, 0.038930671852839, 0.9809810042171482, 0.07304107596680544, 0.9251869622462021, 0.058239482474769295, 0.9318317195963087, 0.07131946291329576, 0.891493286416197, 0.23067137647397995, 0.04825268589506723, 0.08905170486325416, 0.0019614912965474486, 0.63042330271035, 0.9556167190253527, 0.060701927797263695, 0.6272532539050582, 0.30350963898631844, 0.9558719025068844, 0.9336725025859046, 0.9744764639137753, 0.9409847588178937, 0.022950847776046186, 0.9556172081059419, 0.9795262302992502, 0.3491300388275045, 0.014250205666428754, 0.08550123399857253, 0.03918806558267908, 0.5106323697136971, 0.9225541038545265, 0.022501319606207965, 0.04500263921241593, 0.9836669852343647, 0.9465423480382943, 0.9659902901255998, 0.9791592050921832, 0.9916659964464286, 0.7184063334662487, 0.2575418931294099, 0.013554836480495259, 0.9525468220060949, 0.08621436313654367, 0.8990926441382412, 0.058041581993011286, 0.872856098433362, 0.06920342468397499, 0.9610509700932972, 0.015589026196007348, 0.10327729854854868, 0.4520817596842131, 0.038972565490018374, 0.17050497401883039, 0.15491594782282303, 0.01461471205875689, 0.008768827235254134, 0.04092119376451929, 0.1012433309252269, 0.41439130797302176, 0.48502619001387776, 0.9045482002955693, 0.9849729447085112, 0.03133478089232151, 0.6569859060423409, 0.005222463482053585, 0.30603636004834006, 0.4111440561093791, 0.06596110348998897, 0.08821791755102819, 0.011735411050366136, 0.006879378891593941, 0.4070973626437356, 0.00849805627785134, 0.981944800905573, 0.9192855659374692, 0.07230686847061273, 0.039440110074879665, 0.8676824216473527, 0.019720055037439833, 0.9557254963567626, 0.009752300983232272, 0.029256902949696816, 0.135824143546744, 0.8421096899898128, 0.17350102656063907, 0.533987615424972, 0.00988865954490689, 0.06472577156666327, 0.21755050998795156, 0.9268513240639358, 0.9880833087837769, 0.08108659416807905, 0.9159781933801522, 0.9915076451388258, 0.13069452582298438, 0.07337236537430702, 0.08712968388198958, 0.2040668911972914, 0.5009956823214401, 0.0022928864179470945, 0.0011464432089735473, 0.9796611854177726, 0.9778854140214596, 0.03235280072820944, 0.8897020200257596, 0.06470560145641888, 0.08104428031596193, 0.009004920035106882, 0.265645141035653, 0.6438517825101421, 0.8748091456731375, 0.11410554073997445, 0.0019173763033872413, 0.0019173763033872413, 0.03451277346097034, 0.25309367204711586, 0.011504257820323447, 0.04601703128129379, 0.021091139337259653, 0.10353832038291103, 0.5234437308247168, 0.00340764569672795, 0.0204458741803677, 0.001703822848363975, 0.015334405635275775, 0.02385351987709565, 0.0340764569672795, 0.6627870880135862, 0.001703822848363975, 0.2368313759225925, 0.005357167286390361, 0.04821450557751326, 0.06160742379348916, 0.09910759479822169, 0.7821464238129928, 0.9989577066914896, 0.0957138977988903, 0.14736901724591045, 0.025827559723510078, 0.14129194436979042, 0.03798170547575012, 0.18838925915972057, 0.07596341095150023, 0.13977267615076042, 0.03798170547575012, 0.11090657998919035, 0.13345456961808663, 0.13839733145579355, 0.05041617074461051, 0.017793942615744886, 0.06722156099281401, 0.11664917936988314, 0.08699260834364166, 0.052393275479693274, 0.33610780496407006, 0.9660878462418063, 0.9676736716379141, 0.33367985344641327, 0.021733936814517338, 0.0076708012286531785, 0.15725142518739016, 0.12528975340133525, 0.12145435278700865, 0.006392334357210982, 0.040910939886150285, 0.1840992294876763, 0.9915832939242071, 0.971936330757605, 0.9520886413739752, 0.008808946422853828, 0.9866019993596288, 0.00939528854761267, 0.0020878418994694824, 0.37685546285424154, 0.06263525698408447, 0.49377460922453253, 0.0177466561454906, 0.03758115419045068, 0.9658980746978135, 0.07967943116805697, 0.042094793824633873, 0.051115106787055414, 0.2645958468976986, 0.5186679953392388, 0.009020312962421544, 0.03457786635594925, 0.9809810027052394, 0.981311961976171, 0.06775483252368218, 0.1761625645615737, 0.745303157760504, 0.954947994258446, 0.9951378508875177, 0.7049215207941971, 0.07704956157517968, 0.11311531380185953, 0.06065603783577975, 0.04262316172243982, 0.9712089393294405, 0.04447662344540677, 0.48183008732523996, 0.007412770574234461, 0.048183008732524, 0.4151151521571298, 0.3640250563297543, 0.07139867375264125, 0.3607796620682706, 0.03353574070199817, 0.001081798087161231, 0.1043935154110588, 0.06436698618609325, 0.030257213106029336, 0.12551140251389947, 0.2599879052073632, 0.1524067030525922, 0.007844462657118717, 0.4236009834844107, 0.028740101798573545, 0.028740101798573545, 0.08622030539572063, 0.017244061079144127, 0.8449589928780622, 0.9590958310725846, 0.03240188618488461, 0.052220572262113824, 0.052220572262113824, 0.12728764488890246, 0.01087928588794038, 0.002175857177588076, 0.05548435802849594, 0.09247393004749323, 0.05330850085090786, 0.5515797945185773, 0.9549340962964905, 0.015114819712259241, 0.9673484615845914, 0.9763683466447373, 0.9231895459375025, 0.03183412227370698, 0.5171657179818244, 0.046711742269326076, 0.16682765096187885, 0.018351041605806674, 0.05171657179818244, 0.08508210199055821, 0.006673106038475154, 0.10676969661560247, 0.10051671302705781, 0.26161884212521896, 0.11841694959352017, 0.06609318116847637, 0.033046590584238186, 0.16247907037250442, 0.015146354017775835, 0.0027538825486865155, 0.23958778173572684, 0.6758012079419857, 0.04975223616750815, 0.27363729892129485, 0.025728544749902993, 0.894066930059129, 0.03216068093737874, 0.03859281712485449, 0.7966151780868883, 0.014225271037265863, 0.17070325244719037, 0.014225271037265863, 0.9913104290280811, 0.9554079301634023, 0.9919797904719615, 0.9761903346044957, 0.08535631400894836, 0.0011157688105744882, 0.164575899559737, 0.30627853850269704, 0.027894220264362207, 0.16569166837031152, 0.0005578844052872441, 0.20585934555099308, 0.0429570992071178, 0.9583778699627561, 0.12365556385260529, 0.04224046809290098, 0.3232758404851857, 0.06710784043791526, 0.2360697128095192, 0.02112023404645049, 0.13489697874829668, 0.05177863830742701, 0.040508980130457076, 0.816931099297551, 0.04726047681886659, 0.06751496688409513, 0.0067514966884095135, 0.013502993376819027, 0.020071550468247656, 0.22859265811059834, 0.015611205919748178, 0.04125818707362019, 0.14719137010048283, 0.26204524222434444, 0.20294567695672633, 0.07136551277599168, 0.00892068909699896, 0.024996423903356917, 0.0031245529879196147, 0.006249105975839229, 0.9654868732671609, 0.9915832944373532, 0.9248813461273324, 0.957329867252499, 0.24591996024705878, 0.0744355435230561, 0.2148266319399594, 0.1451021987664638, 0.11589331459918863, 0.2044621891709263, 0.30858478861500305, 0.06672103537621688, 0.6171695772300061, 0.9693088217266494, 0.029743334080763552, 0.10187091922661518, 0.004461500112114533, 0.046102167825183504, 0.07807625196200432, 0.08402491877815704, 0.10484525263469152, 0.2074597552133258, 0.09071716894632884, 0.2528183396864902, 0.5943488287158301, 0.2547209265924986, 0.004994527972401934, 0.004994527972401934, 0.024972639862009666, 0.09989055944803867, 0.0149835839172058, 0.9397324655071805, 0.9819447997550493, 0.9789461530999464, 0.04461679697709471, 0.817443458901771, 0.004780371104688719, 0.011154199244273678, 0.0031869140697924794, 0.0031869140697924794, 0.015934570348962396, 0.10038779319846311, 0.9664569876873447, 0.9809809997696535, 0.9186434584561282, 0.03280869494486172, 0.050343527431459055, 0.9421431562173052, 0.0018599864376085227, 0.4184969484619176, 0.27527799276606135, 0.13577900994542216, 0.009299932188042613, 0.03719972875217045, 0.0650995253162983, 0.05393960669064716, 0.0018599864376085227, 0.9539168621561431, 0.03376696857189887, 0.020643631566555076, 0.9599288678448111, 0.017203026305462565, 0.9525467051588113, 0.04034650554543673, 0.9279696275450448, 0.9811784790624379, 0.9841735728455288, 0.8957671484680528, 0.06890516526677329, 0.7830707764744335, 0.08511638874722104, 0.10213966649666524, 0.034046555498888416, 0.06816923719985317, 0.9202847021980178, 0.033894127906857106, 0.014122553294523794, 0.9518600920509037, 0.9795260888583975, 0.766648002847132, 0.051976135786246234, 0.038982101839684674, 0.038982101839684674, 0.07796420367936935, 0.9624646444758435, 0.9939615527540864, 0.039935034643808875, 0.11557668849855274, 0.36411355116413974, 0.07893042141364577, 0.04087468251778085, 0.10383109007390307, 0.07329253416981393, 0.10946897731773492, 0.0742321820437859, 0.16608250685783305, 0.13051842574798062, 0.013489823869254371, 0.22757508059949907, 0.045900439659021366, 0.2048000532877709, 0.02277502731172816, 0.02032233206277282, 0.07463201257535536, 0.09407838204921555, 0.15606351669631077, 0.09123713283784322, 0.02641074897937567, 0.5234130252276269, 0.012004885899716213, 0.014405863079659456, 0.008803582993125223, 0.11364625318398015, 0.05442214941204684, 0.9488091723054708, 0.03405078842145888, 0.8041224650298366, 0.010477165668141195, 0.1466803193539767, 0.002619291417035299, 0.2433654732061897, 0.13813265593294757, 0.23356552126500085, 0.03943313995383131, 0.014233263533631422, 0.17289915210526038, 0.01469992791178327, 0.0011666609453796248, 0.13229935120604944, 0.010033284130264773, 0.9819447663592905, 0.009011835705500572, 0.9462427490775601, 0.03604734282200229, 0.007780178281588119, 0.007780178281588119, 0.4901512317400515, 0.015560356563176237, 0.47459087517687526, 0.022943346154339253, 0.7800737692475346, 0.18928260577329883, 0.06326459952414656, 0.3499323161179357, 0.021747206086425382, 0.07908074940518321, 0.05140248711336909, 0.0998394461240438, 0.13344876462124666, 0.019770187351295803, 0.11960963347533961, 0.062276090156581775, 0.9549480293602914, 0.01013885940931414, 0.0506942970465707, 0.030416578227942418, 0.37513779814462317, 0.5221512595796782, 0.01013885940931414, 0.04496313482496112, 0.021958740263353108, 0.26245922886198236, 0.18194384789635432, 0.15580249043998157, 0.007319580087784369, 0.010456542982549099, 0.04810009771972585, 0.26768750035325695, 0.011515640500420933, 0.7542744527775711, 0.16697678725610351, 0.040304741751473264, 0.023031281000841865, 0.9665309662257859, 0.9433858916989798, 0.003881923184644843, 0.003881923184644843, 0.003881923184644843, 0.011645769553934529, 0.007763846369289686, 0.031055385477158744, 0.791912329667548, 0.14751308101650404, 0.8811861629147637, 0.10167532649016504, 0.25690029789092667, 0.006087684784145181, 0.06331192175510988, 0.673297937126457, 0.9881180670860629, 0.9988676057143093, 0.5374492543421839, 0.026126005419411718, 0.43294523266453705, 0.05538766176611205, 0.06071339847439205, 0.05893815290496538, 0.2872347331332349, 0.0727850683464934, 0.27622821060278957, 0.03834530429961603, 0.05077202328560271, 0.09266781872407208, 0.006745933163821339, 0.04117230762919986, 0.0763193995077851, 0.004016810500409742, 0.09841185726003868, 0.050210131255121776, 0.08134041263329728, 0.3655297555372865, 0.0311302813781755, 0.002008405250204871, 0.25105065627560885, 0.9801827790692814, 0.1835722447855359, 0.0988465933460578, 0.060396799720913115, 0.18799567237072956, 0.05069928539952707, 0.09612448406286173, 0.18204105831373812, 0.041171902908340774, 0.03130425675675497, 0.06788260024970234, 0.07335343288811912, 0.02596581695154659, 0.16358464679474352, 0.02726410779912392, 0.07140599661675312, 0.02466752610396926, 0.12982908475773294, 0.02077265356123727, 0.005842308814097983, 0.45829666919479733, 0.9192859162314654, 0.9457539567903358, 0.991132102220402, 0.9732503222701298, 0.9803944760296526, 0.0120970393608056, 0.05645285035042613, 0.11693804715445413, 0.8105016371739752, 0.9799550228310536, 0.8857881488133889, 0.9654909355525471, 0.015594677436301675, 0.02339201615445251, 0.0623787097452067, 0.8888966138691955, 0.011696008077226256, 0.03329786780120782, 0.04043312518718092, 0.0035676286929865516, 0.08800150776033494, 0.09989360340362344, 0.12129937556154276, 0.005946047821644253, 0.14984040510543517, 0.45784568226660743, 0.06067244545455586, 0.05200495324676216, 0.037559132900439336, 0.13290154718616998, 0.716512689177612, 0.080352315117023, 0.2737000733673596, 0.003348013129875958, 0.06277524618517422, 0.030969121451352614, 0.03431713458122857, 0.3456823556596927, 0.03682814442863554, 0.13308352191256934, 0.033546195194456944, 0.11741168318059932, 0.8386548798614236, 0.07313570158335826, 0.02123294562097498, 0.3821930211775496, 0.02123294562097498, 0.004718432360216662, 0.4340957771399329, 0.061339620682816606, 0.025252589599875617, 0.018037563999911153, 0.45093909999777887, 0.003607512799982231, 0.07215025599964461, 0.04329015359978677, 0.3860038695980987, 0.005720386687189943, 0.011440773374379886, 0.17447179395929327, 0.7951337495194021, 0.011440773374379886, 0.10678599439420226, 0.23526289389972688, 0.010011186974456462, 0.09510627625733639, 0.5422726277830584, 0.005005593487228231, 0.005005593487228231, 0.9788608639814947, 0.01686389771377452, 0.02083187364642735, 0.06447960890560847, 0.06150362695611885, 0.19939079061580464, 0.07836752466989337, 0.0029759819494896214, 0.5565086245545593, 0.011790871559344905, 0.07369294724590565, 0.04716348623737962, 0.04716348623737962, 0.07074522935606943, 0.664710384158069, 0.02358174311868981, 0.04863734518229773, 0.011790871559344905, 0.03426272815081243, 0.10278818445243729, 0.8565682037703107, 0.08047176587024267, 0.006035382440268201, 0.6477977152554535, 0.09254253075077908, 0.09857791319104728, 0.07443638342997448, 0.9056968742171746, 0.015087960591445128, 0.030175921182890256, 0.935453556669598, 0.9658978786648799, 0.02060797411739335, 0.9479668094000941, 0.947946817869171, 0.021065484841537134, 0.9663208577664725, 0.029778705598042087, 0.9628448143366941, 0.896738235624501, 0.9920341674482177, 0.9721534807388157, 0.028933563748566232, 0.9548076037026857, 0.9573305050302602, 0.04330579260403257, 0.9527274372887164, 0.3160505842291417, 0.011705577193671914, 0.023411154387343827, 0.6438067456519553, 0.12376561081720909, 0.04177089365080807, 0.05182684952970631, 0.3047728166373774, 0.05646805993535165, 0.17095124994127006, 0.009282420811290682, 0.0030941402704302273, 0.08199471716640103, 0.15702761872433404, 0.8922165675270389, 0.10496665500318104, 0.0012713658875384162, 0.1881621513556856, 0.6064415283558245, 0.0012713658875384162, 0.16273483360491728, 0.04068370840122932, 0.07543111016434116, 0.9177451736661508, 0.09322809892460875, 0.9012049562712179, 0.007769008243717395, 0.005610070726580792, 0.9929825186048001, 0.9751458044900512, 0.9620898786495683, 0.6369926122364483, 0.019014704842879055, 0.08556617179295574, 0.25669851537886723, 0.02467674445038126, 0.01645116296692084, 0.0822558148346042, 0.01645116296692084, 0.8554604742798837, 0.9826449181896201, 0.9716382920179035, 0.9445732770104893, 0.0832956078256731, 0.17478422625715012, 0.005462007070535941, 0.23623180580067946, 0.008193010605803911, 0.1379156785310325, 0.10924014141071882, 0.22667329342724155, 0.019117024746875794, 0.1041819458333814, 0.8334555666670512, 0.0347273152777938, 0.7131247676071468, 0.03111817167740277, 0.10891360087090969, 0.14262495352142937, 0.0450945174224442, 0.01803780696897768, 0.8928714449643952, 0.03607561393795536, 0.10995326906209707, 0.054289426599410426, 0.0006872079316381067, 0.4095759272563116, 0.02267786174405752, 0.14019041805417376, 0.06803358523217257, 0.03504760451354344, 0.14637528943891673, 0.013056950701124026, 0.8048651206063381, 0.045558403053188944, 0.07593067175531491, 0.06833760457978341, 0.9653915089024385, 0.9693088356877131, 0.017767318917607057, 0.12437123242324939, 0.8350639891275317, 0.9965875120776952, 0.9615993221117821, 0.9397324672170707, 0.7170867826087044, 0.012805121118012578, 0.25610242236025155, 0.8856161130802443, 0.975562839481475, 0.9625164633460261, 0.04524764983457265, 0.012340268136701632, 0.0501837570892533, 0.8917900440123046, 0.022444122701110257, 0.965097276147741, 0.9972316910365255, 0.3652937107457336, 0.006280121101645849, 0.0889683822733162, 0.1507229064395004, 0.25853165201775413, 0.12978916943401422, 0.04291385514399433, 0.12648294147703593, 0.0011293119774735349, 0.059853534806097355, 0.0779225264456739, 0.11744844565724763, 0.3455694651069017, 0.021456927571997166, 0.003387935932420605, 0.20440546792270983, 0.023860611886984157, 0.04772122377396831, 0.9279126844938282, 0.9375088751361513, 0.961517853944445, 0.9488304021323566, 0.9113361217765094, 0.053608007163324076, 0.007673147099496853, 0.10742405939295595, 0.1592178023145597, 0.013428007424119493, 0.034529161947735844, 0.5946689002110062, 0.028774301623113202, 0.009591433874371067, 0.0422023090472327, 0.9681490993683197, 0.11479803736961221, 0.20408539976819948, 0.012315498261874107, 0.20408539976819948, 0.05761893829662528, 0.13107208864423156, 0.07345315034760627, 0.04310424391655937, 0.04442376158747446, 0.11479803736961221, 0.018750604356827846, 0.9562808221982201, 0.058345993212905914, 0.0014960511080232286, 0.4742482012433635, 0.004488153324069686, 0.12118013974988151, 0.05385783988883623, 0.011968408864185829, 0.013464459972209058, 0.26031289279604175, 0.0743631273520125, 0.20051486125274798, 0.10357721309744598, 0.21512190412546472, 0.062411910456153345, 0.19121947033374642, 0.05975608447929576, 0.011951216895859151, 0.07834686631729888, 0.0026558259768575893, 0.9774130673717032, 0.47663449856781637, 0.008362008746803797, 0.004181004373401898, 0.008362008746803797, 0.07525807872123416, 0.029267030613813284, 0.34702336299235753, 0.029267030613813284, 0.02508602624041139, 0.988553934508476, 0.9776908650247255, 0.9583778730976307, 0.9885057104555781, 0.9657892241776712, 0.9558161614725381, 0.9747859145747739, 0.9364594565815364, 0.04071562854702332, 0.003592734702533973, 0.926925553253765, 0.03592734702533973, 0.03592734702533973, 0.9863709254581978, 0.04547539500328195, 0.4097895145239565, 0.04598635449770085, 0.14817825338148052, 0.0012773987360472458, 0.0020438379776755934, 0.02886921143466776, 0.31832776502297366, 0.012415941990189566, 0.02897053131044232, 0.062079709950947824, 0.8980864706237118, 0.9657892515146185, 0.30458832955927106, 0.017026676807661116, 0.09932228137802318, 0.5779610849711635, 0.9520886416977848, 0.9920341695596111, 0.9915871988661955, 0.005059118361562222, 0.06729568857811057, 0.9253157179490202, 0.04846559716934054, 0.71729083810624, 0.04846559716934054, 0.08723807490481297, 0.07754495547094487, 0.009693119433868108, 0.14439204970976405, 0.2791041854725048, 0.0871192255232096, 0.02419978486755822, 0.03226637982341096, 0.23877121069324111, 0.019359827894046576, 0.0685660571247483, 0.06614607863799248, 0.04113963427484898, 0.09063527119838335, 0.2719058135951501, 0.05981927899093302, 0.009063527119838335, 0.056193868142997684, 0.2048357129083464, 0.07432092238267435, 0.0036254108479353343, 0.0018127054239676671, 0.23021358884389373, 0.9833783755503384, 0.9437268354684949, 0.9667689687044004, 0.9483545594195683, 0.7967621364257205, 0.19380700615760768, 0.008909098848742436, 0.0014848498081237395, 0.7379703546374985, 0.008909098848742436, 0.24203051872416953, 0.9338673137656535, 0.06462278683625057, 0.9047190157075079, 0.03611283936887416, 0.7655921946201323, 0.1986206165288079, 0.8857880829692583, 0.9721742863467705, 0.7741933459094402, 0.040044483409108975, 0.08008896681821795, 0.10678528909095726, 0.11659216699729198, 0.7481330715659569, 0.08744412524796899, 0.038864055665763994, 0.9804852804671409, 0.1429695819121803, 0.7267620413869165, 0.11914131826015023, 0.017457568582814192, 0.017457568582814192, 0.9427087034719664, 0.9310859283050524, 0.8868880949934329, 0.0492715608329685, 0.919470702092309, 0.001851681005399977, 0.007406724021599908, 0.003703362010799954, 0.010184245529699874, 0.0027775215080999656, 0.44347760079329446, 0.06017963267549925, 0.4694011348688942, 0.08565410565291644, 0.8836648566525879, 0.0014275684275486073, 0.028551368550972147, 0.09863844967632317, 0.8877460470869085, 0.02528617351837047, 0.8597298996245959, 0.10114469407348188, 0.9554079510402347, 0.004847937469121386, 0.1902815456630144, 0.3118839771801425, 0.05009535384758765, 0.21250125906315406, 0.031107598760195556, 0.05332731216033524, 0.0670631349895125, 0.07918297866231597, 0.19317519190252547, 0.040643873507907415, 0.29712073047159904, 0.05699485710304258, 0.04111104446776842, 0.14458941207698098, 0.011212103036664114, 0.02756308663179928, 0.05255673298436304, 0.13524599287976088, 0.08770297391884126, 0.03189199051594228, 0.869056741559427, 0.8137498326071416, 0.1017187290758927, 0.021796870516262723, 0.06539061154878817, 0.9782085806899494, 0.016807707571992257, 0.11543436448361694, 0.01915923061968746, 0.07663692247874984, 0.04885603808020302, 0.04358724965978897, 0.41958715057115537, 0.013890442199273408, 0.019638211385179644, 0.24332222887003074, 0.16228870158207703, 0.03338954147382446, 0.23916229706832404, 0.0046590057870452735, 0.03338954147382446, 0.10871013503105638, 0.0015530019290150912, 0.04736655883496028, 0.1568531948305242, 0.2112082623460524, 0.967675740628218, 0.9736608736565057, 0.028871115119847864, 0.10465779230944851, 0.003608889389980983, 0.03608889389980983, 0.7542578825060254, 0.005413334084971475, 0.06676445371464819, 0.9794703373613233, 0.7631806065061633, 0.013389133447476548, 0.006694566723738274, 0.2075315684358865, 0.006694566723738274, 0.03178248118871135, 0.8263445109064952, 0.015891240594355677, 0.03178248118871135, 0.08740182326895622, 0.9499801994334975, 0.03608753341747302, 0.07939257351844065, 0.1257908307694774, 0.23714664817196557, 0.5021322506945533, 0.018559302900414697, 0.21352761718074684, 0.5201313751838705, 0.26280322114553456, 0.008212171251064118, 0.09033388376170531, 0.8869144951149248, 0.008212171251064118, 0.9837995794807592, 0.9797106188251228, 0.9192209477178539, 0.06413169402682702, 0.9981151715619131, 0.01559648870451817, 0.08830984820531235, 0.07482099310951285, 0.19537763552822085, 0.05795992423976347, 0.18589328428898683, 0.04742175619617011, 0.056906107435404134, 0.1264580165231203, 0.15111732974512876, 0.2149435090635575, 0.5110878993289034, 0.20061394179265368, 0.04776522423634611, 0.023882612118173056, 0.992853441717214, 0.9667854937343346, 0.9816766589330007, 0.0044419506798272735, 0.990555001601482, 0.01248329595271777, 0.973697084311986, 0.9506444590494153, 0.9697069997352791, 0.9667934804298616, 0.14526773543551916, 0.6658104540794628, 0.08473951233738618, 0.10895080157663938, 0.9837071978577221, 0.06949419285188133, 0.01882134389738453, 0.1056890849622362, 0.8049744005342921, 0.07555775638476185, 0.06393348617172157, 0.05812135106520142, 0.8020746446997796, 0.06070421892877501, 0.13453367438269057, 0.8039207371648582, 0.992052674415739, 0.013436085257281632, 0.026872170514563264, 0.09021371529889095, 0.08829427454785073, 0.32246604617475916, 0.4568268987475755, 0.03358831802638948, 0.007464070672530996, 0.09703291874290294, 0.8583681273410646, 0.9845149514731517, 0.9310859132603605, 0.9465425057548457, 0.972771964266175, 0.06489752678863477, 0.04056095424289673, 0.86800442079799, 0.01622438169715869, 0.2684695573830955, 0.04592242428921371, 0.6835376230740656, 0.9657396993053816, 0.9892695638729542, 0.9976650750721139, 0.9045474785571763, 0.08474466541893283, 0.6580174020764196, 0.24924901593803772, 0.0066662030225072425, 0.07523286268258174, 0.8418462102709147, 0.027617126807530003, 0.002856944152503104, 0.045711106440049665, 0.9836257632838868, 0.12881289215317746, 0.8050805759573592, 0.06440644607658873, 0.9652278095290172, 0.9868947414174775, 0.009581502343859004, 0.004790751171929502, 0.07639104578218057, 0.019097761445545144, 0.719349014448867, 0.15278209156436115, 0.02546368192739352, 0.977969325129778, 0.7031727687424579, 0.04678072473962298, 0.10891137478443474, 0.01534992530518879, 0.000730948824056609, 0.000730948824056609, 0.09429239830330256, 0.029237952962264363, 0.705205385799236, 0.005001456636874014, 0.0016671522122913378, 0.2867501805141101, 0.10909352045563446, 0.0014742367629139792, 0.49829202586492494, 0.019165077917881728, 0.03685591907284948, 0.029484735258279583, 0.19017654241590332, 0.11499046750729038, 0.02411661958464219, 0.02411661958464219, 0.04019436597440365, 0.9003537978266418, 0.9310858767935146, 0.9750913559528706, 0.9824670257032886, 0.991122107834815, 0.9931226169643246, 0.948809120340204, 0.9667853908346232, 0.012147263979341044, 0.042515423927693655, 0.8594189265383788, 0.08503084785538731, 0.08382687153254362, 0.06489822312196925, 0.005408185260164104, 0.05813799154676412, 0.04056138945123078, 0.11492393677848721, 0.04596957471139489, 0.20551103988623595, 0.050025713656517964, 0.32989930087001035, 0.9907266195155442, 0.012514550176639867, 0.035979331757839614, 0.07665161983191918, 0.012514550176639867, 0.07039434474359925, 0.7915452986724716, 0.966139590470385, 0.9857953751790974, 0.2504440112877415, 0.14311086359299516, 0.003577771589824879, 0.07871097497614733, 0.0011925905299416263, 0.46868807826705916, 0.05485916437731481, 0.20823366011856362, 0.09768986524080762, 0.694112200395212, 0.9056948452569562, 0.20525477930981773, 0.073424473899447, 0.08315877915126763, 0.23529206408686423, 0.04477780415837487, 0.04700278821593387, 0.008899936230236, 0.19579859706519198, 0.10624298874844225, 0.10376931553135758, 0.19356968474118624, 0.01995563760218415, 0.1995563760218415, 0.05188465776567879, 0.01197338256131049, 0.017960073841965737, 0.16563179209812845, 0.16563179209812845, 0.06984473160764453, 0.9558693652474592, 0.9614608592698274, 0.01269969556441341, 0.43178964919005597, 0.00423323185480447, 0.37675763507759785, 0.17356250604698328, 0.9764081168241746, 0.14202195986389987, 0.3195494096937747, 0.5325823494896246, 0.03399266010270373, 0.09772889779527322, 0.5693770567202874, 0.004249082512837966, 0.05098899015405559, 0.24219770323176404, 0.9661807521637732, 0.021958653458267575, 0.9837995796646375, 0.9819827084146769, 0.21894770928404034, 0.0765375946494353, 0.007528287998305112, 0.16060347729717572, 0.030113151993220448, 0.14052804263502874, 0.1455469013005655, 0.02823107999364417, 0.035132010658757186, 0.15746669063121524, 0.966610781374091, 0.0776418941586668, 0.151586555262159, 0.01848616527587305, 0.7542355432556204, 0.09551207315282305, 0.08582728251844589, 0.07714436677728015, 0.21473518544498327, 0.055771035722102964, 0.10219123910756592, 0.06612374295195442, 0.04575228678998866, 0.06044645189042298, 0.19703539566491468, 0.08327733365300222, 0.888291558965357, 0.057318579843800975, 0.03821238656253398, 0.01910619328126699, 0.011463715968760195, 0.03439114790628058, 0.748962776625666, 0.06878229581256116, 0.026748670593773786, 0.8021238172742953, 0.027659441974975697, 0.15904179135611027, 0.8059455623115475, 0.049143022092167525, 0.009828604418433506, 0.049143022092167525, 0.05897162651060103, 0.019657208836867012, 0.9583718368947562, 0.9058062494141742, 0.01741935095027258, 0.05225805285081774, 0.9749408309675214, 0.054950976978816186, 0.041213232734112135, 0.011775209352603467, 0.03140055827360925, 0.1334523726628393, 0.02943802338150867, 0.604460746766978, 0.09027660503662659, 0.23370938522404197, 0.762913395443999, 0.9554079358678019, 0.0479635542111643, 0.08441585541164917, 0.45661303609028414, 0.03069667469514515, 0.1093569036014546, 0.036452301200484864, 0.15156483130727919, 0.08441585541164917, 0.8967381754521457, 0.026638669008048666, 0.008879556336016222, 0.004439778168008111, 0.958992084289752, 0.020989440328247972, 0.020989440328247972, 0.8185881728016708, 0.01399296021883198, 0.11894016186007184, 0.02038651426180611, 0.11824178271847544, 0.02446381711416733, 0.04485033137597344, 0.43627140520265073, 0.061159542785418325, 0.27725659396056307, 0.02038651426180611, 0.4060250163314136, 0.008317085995615548, 0.5852204146005849, 0.9992406380188326, 0.9656699389794553, 0.9754305991766388, 0.10355201058565108, 0.5242320535898586, 0.032360003308015965, 0.33654403440336605, 0.8856170883089639, 0.9785609367658546, 0.19830115052876834, 0.09885460339792332, 0.06688964182015171, 0.03610856770822349, 0.0065113810621386615, 0.5931276203875399, 0.2577150900759689, 0.0017123926250894944, 0.19692515188529183, 0.2217548449490895, 0.02140490781361868, 0.0599337418781323, 0.0008561963125447472, 0.043666011939782104, 0.17209545882149418, 0.02482969306379767, 0.896738027123453, 0.9248813800386013, 0.09499544033147521, 0.09499544033147521, 0.022351868313288285, 0.027939835391610355, 0.016763901234966214, 0.03073381893077139, 0.709671818946903, 0.965725500099395, 0.9756329869343625, 0.971330706874209, 0.9676757327680279, 0.9856923398784461, 0.8856172514790926, 0.07669004929621223, 0.8819355669064406, 0.9718107257170567, 0.02608887854273978, 0.01315234170089631, 0.06576170850448154, 0.9206639190627416, 0.10480520947962699, 0.017467534913271163, 0.8733767456635583, 0.9702755401993424, 0.7799222741230903, 0.01733160609162423, 0.19931347005367864, 0.27322108844699894, 0.02597839857364908, 0.1209339243945733, 0.08958068473672097, 0.006270647931570467, 0.08062261626304887, 0.19170266533658287, 0.03045743281048513, 0.08778907104198655, 0.09316391212618981, 0.949023431890468, 0.008953051244249699, 0.035812204976998795, 0.0407220675653939, 0.848376407612373, 0.10180516891348475, 0.9746700256675476, 0.9397324114693788, 0.97639714646718, 0.017079447913294313, 0.13094243400192307, 0.8425860970558529, 0.9167571506640888, 0.9732503278651068, 0.1339541277581513, 0.830515592100538, 0.03562049735350347, 0.8263955386012805, 0.1353578899433132, 0.8346856526770708, 0.07464668438575431, 0.08482577771108443, 0.9653046478947603, 0.9892701554444238, 0.9661014971504979, 0.2783554371856889, 0.11068464234549047, 0.019178032089565183, 0.12712295556511777, 0.007123269061838496, 0.06520530910452162, 0.04821905211090674, 0.23013638507478218, 0.11452024876340351, 0.9549480455140444, 0.018260162895976834, 0.03309654524895801, 0.2830325248876409, 0.3503668755665555, 0.02168394343897249, 0.01597764253397973, 0.0034237805429956562, 0.0068475610859913124, 0.047932927601939186, 0.219121954751722, 0.950657277239859, 0.9248813233203257, 0.9192862845428756, 0.116783851674452, 0.01015511753690887, 0.8530298731003451, 0.015232676305363305, 0.006208573960407659, 0.018625721881222978, 0.13658862712896852, 0.031042869802038298, 0.6456916918823966, 0.16142292297059915, 0.9849713296571828, 0.9798131149095521, 0.12451128243971187, 0.02394447739225228, 0.8332678132503794, 0.014366686435351368, 0.7987453751041134, 0.1961830745869752, 0.9869697782976208, 0.9885552724311566, 0.07330463262604663, 0.07612404157320227, 0.018326158156511656, 0.14097044735778197, 0.08881138183540264, 0.41868222865261245, 0.007048522367889098, 0.03806202078660113, 0.06766581473173534, 0.07048522367889098, 0.1584653506990403, 0.6817695320772664, 0.1105572214179351, 0.00368524071393117, 0.04053764785324287, 0.002005568923018026, 0.13838425568824378, 0.008022275692072103, 0.1243452732271176, 0.17448449630256824, 0.551531453829957, 0.9708655810124923, 0.38346116973863015, 0.02922722330324925, 0.1122325374844771, 0.04910173514945874, 0.023381778642599396, 0.22212689710469427, 0.07014533592779819, 0.026889045438989307, 0.08417440311335783, 0.06160969517275217, 0.35792299100360786, 0.28164432078972423, 0.017602770049357765, 0.11441800532082547, 0.011735180032905176, 0.04107313011516812, 0.11441800532082547, 0.8967382747687548, 0.9457540846125151, 0.9572393824723776, 0.0060449850218158825, 0.05440486519634294, 0.0362699101308953, 0.8281629479887759, 0.01813495506544765, 0.04835988017452706, 0.9723070310761108, 0.9407459286321634, 0.1457777097150098, 0.02204540296780121, 0.43614148574136447, 0.07169721145383998, 0.006951253188045427, 0.13664177695357868, 0.18033536842129277, 0.5622217549778741, 0.036507906167394424, 0.31396799303959205, 0.08396818418500718, 0.8624977002778587, 0.1257809146238544, 0.7953834116162716, 0.07134164188161214, 0.0364297745778445, 0.0956281582668418, 0.9965776131403838, 0.0009518410822735281, 0.0009518410822735281, 0.9549480193528913, 0.447328104400901, 0.05920519028835454, 0.010963924127473063, 0.12937430470418215, 0.0021927848254946125, 0.06578354476483839, 0.004385569650989225, 0.2762908880123212, 0.004385569650989225, 0.007742300866301742, 0.023226902598905225, 0.11613451299452612, 0.36388814071618186, 0.48776495457700975, 0.9663236253985953, 0.965988379141929, 0.037322011952884225, 0.2146015687290843, 0.4758556523992739, 0.2705845866584107, 0.1056783018311916, 0.04822902365450355, 0.2035548498359194, 0.0872377927868226, 0.26313187905618846, 0.12979281365844336, 0.007092503478603463, 0.019859009740089695, 0.13617606678918648, 0.033578410287359195, 0.6241633912238532, 0.013826404235971432, 0.10863603328263269, 0.13628884175457556, 0.0414792127079143, 0.033578410287359195, 0.007900802420555105, 0.9445735936533899, 0.16333349498569913, 0.016217510140424028, 0.18302618587049974, 0.028959839536471476, 0.02200947804771832, 0.35794361667078745, 0.010425542233129732, 0.01390072297750631, 0.2038772703367592, 0.4378011447242464, 0.1480184822639119, 0.11570458824855084, 0.29812173188365354, 0.9658978556626646, 0.07831309867070387, 0.23937211291800048, 0.03398492961181489, 0.03546253524711118, 0.08274591557659276, 0.15514859170611142, 0.16992464805907442, 0.02511929580003709, 0.04137295778829638, 0.13593971844725955, 0.9935640278737152, 0.9506572146253818, 0.962100246527337, 0.9666108081212409, 0.03702484989262544, 0.9034063373800606, 0.05183478984967561, 0.29304875813418035, 0.6808203471804191, 0.023680707728014574, 0.9716859207967529, 0.9829873105372021, 0.06844401357686199, 0.6673291323744043, 0.25666505091323244, 0.8099965294197067, 0.18274311944225088, 0.004939003228168943, 0.9764375118870812, 0.9506572807108569, 0.9151774960787266, 0.07198025250057401, 0.9885552854702818, 0.28832724311421176, 0.05155520241115044, 0.6587609196980334, 0.9669849073170781, 0.9308727373202063, 0.040472727709574184, 0.02191050487929688, 0.9531069622494143, 0.019719454391367193, 0.004382100975859376, 0.03485307957039644, 0.0014522116487665185, 0.03485307957039644, 0.6651129351350654, 0.03485307957039644, 0.2279972288563434, 0.18719646829178432, 0.02339955853647304, 0.7086723442474693, 0.010028382229917017, 0.07019867560941913, 0.9661981632201438, 0.9002758226269771, 0.022229032657456224, 0.04445806531491245, 0.022229032657456224, 0.07869682715064286, 0.008585108416433767, 0.11518353792048637, 0.0035771285068474028, 0.4936437339449416, 0.030763305158887665, 0.020747345339714937, 0.24825271837520976, 0.9637895137324574, 0.9667853865910974, 0.031160759852223087, 0.9659835554189157, 0.7462646323806118, 0.19735924162131885, 0.04317233410466349, 0.8402816880921679, 0.1512507038565902, 0.8857881582880065, 0.11362546404536163, 0.5278849683774093, 0.023671971676117006, 0.023671971676117006, 0.021304774508505306, 0.24382130826400517, 0.044976746184622315, 0.09023580464346091, 0.004718212007501224, 0.11205753517815407, 0.6894487295961164, 0.028309272045007345, 0.015923965525316632, 0.03715591955907214, 0.021821730534693162, 0.06693551498709654, 0.05529455585890584, 0.05965991553197735, 0.1338710299741931, 0.02037167847433373, 0.0072755994551191895, 0.04801895640378665, 0.017461438692286054, 0.45399740599943744, 0.13678126975624078, 0.1143149215342771, 0.024267972169287874, 0.21585722613735003, 0.027780441825369016, 0.046620051798895126, 0.04039340104493311, 0.37886774972184295, 0.028898045806849376, 0.011335697526443679, 0.11176039814803626, 0.01936297498393469, 0.053248181205820394, 0.14360873113084896, 0.0016135812486612242, 0.5841164120153631, 0.025817299978579587, 0.17103961235808976, 0.9488092037602777, 0.9764081385421373, 0.27370274259467836, 0.283992319383952, 0.014405407504983071, 0.1090695139663004, 0.004115830715709449, 0.2922239808153709, 0.02263706893640197, 0.03111951080267549, 0.9647048348829402, 0.9681490629798234, 0.10805271848021746, 0.036017572826739154, 0.00240117152178261, 0.6651245115337829, 0.046822844674760895, 0.141669119785174, 0.009960937628243008, 0.037187500478773894, 0.08101562604304313, 0.08964843865418708, 0.0039843750512972035, 0.24636719067187707, 0.007304687594044873, 0.010625000136792542, 0.5139843816173392, 0.9900773939773218, 0.17403289789859303, 0.1560294946677041, 0.6571242179274461, 0.012002268820592623, 0.030298176126629706, 0.7498798591340852, 0.15149088063314853, 0.06059635225325941, 0.9465425608120568, 0.07978248774298413, 0.04432360430165785, 0.12410609204464197, 0.6471246228042046, 0.10046683641709113, 0.9591901151228989], \"Term\": [\"000\", \"000\", \"000\", \"000\", \"2008\", \"2008\", \"2017\", \"2017\", \"2017\", \"2017\", \"2017\", \"2017\", \"2017\", \"2017\", \"2017\", \"2018\", \"2018\", \"2018\", \"2018\", \"2018\", \"2018\", \"2018\", \"2018\", \"2018\", \"2019\", \"2019\", \"2019\", \"2019\", \"2019\", \"2019\", \"2019\", \"2019\", \"2020\", \"2020\", \"2020\", \"2020\", \"2020\", \"2020\", \"2020\", \"2020\", \"2020\", \"2021\", \"2021\", \"2021\", \"2021\", \"2021\", \"2021\", \"2021\", \"2021\", \"2021\", \"2021\", \"2022\", \"2022\", \"2022\", \"2022\", \"2022\", \"2022\", \"2022\", \"2022\", \"2035\", \"2038\", \"2038\", \"2040\", \"2040\", \"2040\", \"2042\", \"2045\", \"2045\", \"27\", \"27\", \"27\", \"500\", \"500\", \"7g\", \"89\", \"89\", \"90\", \"90\", \"90\", \"90\", \"90\", \"91\", \"91\", \"91\", \"92\", \"92\", \"92\", \"92\", \"93\", \"93\", \"93\", \"93\", \"93\", \"95\", \"95\", \"95\", \"95\", \"96\", \"96\", \"96\", \"96\", \"97\", \"97\", \"98\", \"98\", \"accents\", \"accents\", \"accents\", \"accents\", \"accents\", \"accents\", \"accents\", \"achieved\", \"acidity\", \"acidity\", \"acidity\", \"acidity\", \"acidity\", \"acidity\", \"acidity\", \"acidity\", \"acidity\", \"acids\", \"acids\", \"acids\", \"acids\", \"acids\", \"acres\", \"active\", \"age\", \"age\", \"age\", \"age\", \"age\", \"age\", \"age\", \"age\", \"aged\", \"aged\", \"aged\", \"aged\", \"aged\", \"aged\", \"aged\", \"aged\", \"ages\", \"ages\", \"aglianico\", \"alba\", \"alba\", \"alba\", \"alcohol\", \"alcohol\", \"alcohol\", \"alcohol\", \"alder\", \"align\", \"almond\", \"almond\", \"almond\", \"almond\", \"almonds\", \"almonds\", \"alongside\", \"alongside\", \"alongside\", \"alongside\", \"alongside\", \"alongside\", \"altitude\", \"american\", \"american\", \"anise\", \"anise\", \"anise\", \"anise\", \"anise\", \"appealingly\", \"appetizers\", \"apple\", \"apple\", \"apple\", \"apple\", \"apple\", \"apples\", \"apples\", \"apples\", \"apricot\", \"apricot\", \"apricot\", \"apricot\", \"apricot\", \"apricots\", \"aromas\", \"aromas\", \"aromas\", \"aromas\", \"aromas\", \"aromas\", \"aromas\", \"aromas\", \"aromas\", \"aromas\", \"attractively\", \"attractively\", \"attractively\", \"august\", \"august\", \"august\", \"auslese\", \"austere\", \"austere\", \"austere\", \"austere\", \"austere\", \"avize\", \"avocado\", \"avola\", \"a\\u00e7a\\u00ed\", \"a\\u00ff\", \"bages\", \"balsam\", \"bark\", \"bark\", \"barolo\", \"barolo\", \"barolo\", \"barolo\", \"barrel\", \"barrel\", \"barrel\", \"barrel\", \"barrels\", \"barrels\", \"based\", \"based\", \"based\", \"beach\", \"beam\", \"beam\", \"beaucaillou\", \"beefy\", \"beefy\", \"beeswax\", \"beeswax\", \"berardenga\", \"berries\", \"berries\", \"berries\", \"berries\", \"berries\", \"berries\", \"berries\", \"berries\", \"berry\", \"berry\", \"berry\", \"berry\", \"berry\", \"berry\", \"berry\", \"best\", \"best\", \"best\", \"best\", \"best\", \"best\", \"best\", \"best\", \"best\", \"best\", \"bilberry\", \"biodynamic\", \"biodynamically\", \"biodynamically\", \"bits\", \"black\", \"black\", \"black\", \"black\", \"black\", \"black\", \"black\", \"black\", \"blackberries\", \"blackberries\", \"blackberries\", \"blackberry\", \"blackberry\", \"blackberry\", \"blackberry\", \"blackberry\", \"blackberry\", \"blackcurrants\", \"blackcurrants\", \"blackcurrants\", \"blanc\", \"blanc\", \"blanc\", \"blanc\", \"blancs\", \"blancs\", \"blend\", \"blend\", \"blend\", \"blend\", \"blend\", \"blend\", \"blend\", \"blend\", \"blend\", \"blood\", \"blood\", \"blood\", \"blossom\", \"blossom\", \"blossom\", \"blossom\", \"blossom\", \"blueberries\", \"blueberries\", \"blueberries\", \"bodied\", \"bodied\", \"bodied\", \"bodied\", \"bodied\", \"bodied\", \"bodied\", \"bodied\", \"bodied\", \"body\", \"body\", \"body\", \"body\", \"body\", \"body\", \"bois\", \"bois\", \"botanical\", \"bottle\", \"bottle\", \"bottle\", \"bottle\", \"bottle\", \"bottle\", \"bottle\", \"bottle\", \"bottled\", \"bottled\", \"bottled\", \"bottled\", \"bottled\", \"bottlings\", \"bouquet\", \"bouquet\", \"bouquet\", \"bouquet\", \"bouquet\", \"bouquet\", \"bouquet\", \"bouquet\", \"bourboulenc\", \"box\", \"box\", \"box\", \"boysenberry\", \"boysenberry\", \"braised\", \"brambleberries\", \"brawny\", \"bread\", \"bread\", \"bright\", \"bright\", \"bright\", \"bright\", \"bright\", \"bright\", \"bright\", \"bright\", \"bright\", \"bright\", \"brim\", \"brimming\", \"brimming\", \"brisson\", \"broody\", \"brought\", \"brought\", \"brought\", \"brought\", \"brunello\", \"brunello\", \"brunello\", \"brunello\", \"brut\", \"brut\", \"br\\u00fbl\\u00e9e\", \"burly\", \"burly\", \"burning\", \"butter\", \"butter\", \"butterscotch\", \"butterscotch\", \"cab\", \"cab\", \"cabernet\", \"cabernet\", \"cabernet\", \"cabernet\", \"cabernet\", \"cacao\", \"camphor\", \"camphor\", \"camphor\", \"canaiolo\", \"cannubi\", \"canon\", \"caramelized\", \"caramelized\", \"carm\\u00e9n\\u00e8re\", \"casks\", \"cassis\", \"cassis\", \"cassis\", \"cassis\", \"cassis\", \"cast\", \"cast\", \"cast\", \"cent\", \"cerequio\", \"certain\", \"certification\", \"certified\", \"chablis\", \"chablis\", \"chablis\", \"chai\", \"chamomile\", \"chamomile\", \"champagne\", \"champagne\", \"champagne\", \"champagnes\", \"character\", \"character\", \"character\", \"character\", \"character\", \"character\", \"character\", \"character\", \"character\", \"chardonnay\", \"chardonnay\", \"chardonnay\", \"charges\", \"checks\", \"cherries\", \"cherries\", \"cherries\", \"cherries\", \"cherry\", \"cherry\", \"cherry\", \"cherry\", \"cherry\", \"cherry\", \"cherry\", \"chest\", \"cheval\", \"chewy\", \"chewy\", \"chewy\", \"chewy\", \"chicken\", \"chicken\", \"chicken\", \"chili\", \"chili\", \"chocolate\", \"chocolate\", \"chocolate\", \"chocolate\", \"chocolate\", \"chocolatey\", \"chops\", \"ch\\u00e2teau\", \"ch\\u00e2teau\", \"ch\\u00e2teauneuf\", \"citrus\", \"citrus\", \"citrus\", \"citrus\", \"citrus\", \"citrus\", \"citrus\", \"clairette\", \"clams\", \"clay\", \"clay\", \"clay\", \"clear\", \"clear\", \"clear\", \"clear\", \"cloves\", \"cloves\", \"color\", \"color\", \"color\", \"color\", \"color\", \"color\", \"color\", \"color\", \"color\", \"comes\", \"comes\", \"comes\", \"comes\", \"comes\", \"comes\", \"comes\", \"comes\", \"comes\", \"coming\", \"coming\", \"coming\", \"coming\", \"coming\", \"commentary\", \"complex\", \"complex\", \"complex\", \"complex\", \"complex\", \"complex\", \"complex\", \"complex\", \"complex\", \"complex\", \"concentrated\", \"concentrated\", \"concentrated\", \"concentrated\", \"concentrated\", \"concentrated\", \"concentrated\", \"concentrated\", \"concentrated\", \"coolish\", \"copper\", \"core\", \"core\", \"core\", \"core\", \"core\", \"core\", \"core\", \"core\", \"core\", \"cos\", \"crab\", \"cramant\", \"cranberry\", \"cranberry\", \"creamy\", \"creamy\", \"creamy\", \"creamy\", \"creamy\", \"creamy\", \"creamy\", \"creek\", \"crisp\", \"crisp\", \"crisp\", \"crisp\", \"crisp\", \"crisp\", \"crisp\", \"crozes\", \"crust\", \"crystalline\", \"crystalline\", \"crystalline\", \"culminate\", \"curd\", \"currant\", \"currant\", \"currant\", \"currant\", \"currant\", \"current\", \"cuv\\u00e9e\", \"cuv\\u00e9e\", \"cuv\\u00e9e\", \"cuv\\u00e9e\", \"cuv\\u00e9e\", \"dark\", \"dark\", \"dark\", \"dark\", \"dark\", \"dark\", \"dark\", \"de\", \"de\", \"de\", \"de\", \"de\", \"de\", \"decades\", \"decades\", \"decades\", \"decades\", \"decades\", \"december\", \"december\", \"deep\", \"deep\", \"deep\", \"deep\", \"deep\", \"deep\", \"deep\", \"deep\", \"deep\", \"deepen\", \"define\", \"define\", \"delineation\", \"demeter\", \"demeter\", \"dense\", \"dense\", \"dense\", \"dense\", \"dense\", \"dense\", \"dense\", \"dense\", \"depth\", \"depth\", \"depth\", \"depth\", \"depth\", \"depth\", \"depth\", \"depth\", \"depth\", \"di\", \"di\", \"di\", \"different\", \"different\", \"different\", \"different\", \"discreet\", \"discreet\", \"discreet\", \"discreet\", \"disgorged\", \"disgorgement\", \"dosage\", \"douro\", \"dried\", \"dried\", \"dried\", \"dried\", \"dried\", \"dried\", \"dried\", \"dried\", \"dried\", \"drier\", \"drink\", \"drink\", \"drink\", \"drink\", \"drink\", \"drink\", \"drink\", \"drink\", \"drinkable\", \"drinkable\", \"drinkable\", \"drinkable\", \"drinkable\", \"drinkable\", \"dry\", \"dry\", \"dry\", \"dry\", \"dry\", \"dry\", \"dry\", \"dry\", \"dry\", \"du\", \"du\", \"du\", \"du\", \"ducru\", \"dusky\", \"earl\", \"earth\", \"earth\", \"earth\", \"earth\", \"earth\", \"earth\", \"editors\", \"editors\", \"editors\", \"elderflower\", \"elegant\", \"elegant\", \"elegant\", \"elegant\", \"elegant\", \"elegant\", \"elegant\", \"elegant\", \"elegant\", \"elegant\", \"elements\", \"elements\", \"elements\", \"elements\", \"elements\", \"elements\", \"elements\", \"embedded\", \"embers\", \"emilion\", \"enjoy\", \"enjoy\", \"enjoy\", \"enjoy\", \"enjoy\", \"enjoy\", \"enjoy\", \"enjoy\", \"enormously\", \"estournel\", \"evokes\", \"evokes\", \"evolve\", \"evolve\", \"excellent\", \"excellent\", \"excellent\", \"excellent\", \"excellent\", \"excellent\", \"excellent\", \"excellent\", \"excellent\", \"excels\", \"excels\", \"exhibits\", \"exhibits\", \"exhibits\", \"extends\", \"extreme\", \"extreme\", \"exude\", \"facing\", \"fantastically\", \"fantastically\", \"february\", \"february\", \"february\", \"february\", \"fermentation\", \"fermentation\", \"fermented\", \"fermented\", \"fermented\", \"field\", \"fill\", \"fill\", \"fill\", \"fill\", \"fill\", \"fils\", \"finale\", \"fine\", \"fine\", \"fine\", \"fine\", \"fine\", \"fine\", \"fine\", \"fine\", \"fine\", \"finish\", \"finish\", \"finish\", \"finish\", \"finish\", \"finish\", \"finish\", \"finish\", \"finish\", \"finish\", \"firm\", \"firm\", \"firm\", \"firm\", \"firm\", \"firm\", \"firm\", \"firm\", \"firm\", \"firming\", \"flavorful\", \"flavorful\", \"flavorful\", \"flavorful\", \"flavorful\", \"flavors\", \"flavors\", \"flavors\", \"flavors\", \"flavors\", \"flavors\", \"flavors\", \"flavors\", \"flavors\", \"flavors\", \"flawless\", \"flint\", \"flint\", \"flint\", \"flinty\", \"flinty\", \"flinty\", \"flinty\", \"flinty\", \"floor\", \"floor\", \"floor\", \"floral\", \"floral\", \"floral\", \"floral\", \"floral\", \"floral\", \"floral\", \"floral\", \"floral\", \"floral\", \"florality\", \"flower\", \"flower\", \"flower\", \"flower\", \"flower\", \"flower\", \"flowers\", \"flowers\", \"flowers\", \"flowers\", \"flowers\", \"flowers\", \"flowers\", \"flowers\", \"flowers\", \"follow\", \"follow\", \"follow\", \"follow\", \"follow\", \"fontalloro\", \"forefront\", \"forest\", \"forest\", \"forest\", \"forest\", \"forest\", \"forest\", \"forest\", \"forest\", \"frames\", \"frames\", \"franc\", \"franc\", \"franc\", \"franc\", \"franca\", \"francisco\", \"french\", \"french\", \"french\", \"fresh\", \"fresh\", \"fresh\", \"fresh\", \"fresh\", \"fresh\", \"fresh\", \"fresh\", \"fresh\", \"fresh\", \"freshness\", \"freshness\", \"freshness\", \"freshness\", \"freshness\", \"freshness\", \"freshness\", \"freshness\", \"freshness\", \"freshness\", \"fried\", \"fruit\", \"fruit\", \"fruit\", \"fruit\", \"fruit\", \"fruit\", \"fruit\", \"fruit\", \"fruit\", \"fruit\", \"fruits\", \"fruits\", \"fruits\", \"fruits\", \"fruits\", \"fruits\", \"fruits\", \"fruits\", \"fruits\", \"fruits\", \"fudge\", \"f\\u00e8vre\", \"gallonibarrel\", \"ganache\", \"garlic\", \"garnet\", \"garnet\", \"garnet\", \"garnet\", \"garni\", \"gather\", \"gg\", \"ginger\", \"ginger\", \"ginger\", \"ginger\", \"ginger\", \"glass\", \"glass\", \"glass\", \"glass\", \"glass\", \"glass\", \"glass\", \"glass\", \"glass\", \"going\", \"going\", \"going\", \"going\", \"going\", \"good\", \"good\", \"good\", \"good\", \"good\", \"good\", \"good\", \"good\", \"good\", \"graciano\", \"graciano\", \"graciano\", \"grained\", \"grained\", \"grained\", \"grained\", \"grained\", \"grained\", \"grained\", \"grand\", \"grand\", \"grand\", \"grand\", \"grand\", \"grand\", \"grand\", \"grapefruit\", \"grapefruit\", \"grapefruit\", \"grapefruit\", \"grapefruit\", \"grapes\", \"grapes\", \"grapes\", \"grapes\", \"grapes\", \"grapes\", \"grapes\", \"gravelly\", \"great\", \"great\", \"great\", \"great\", \"great\", \"great\", \"great\", \"great\", \"green\", \"green\", \"green\", \"green\", \"green\", \"green\", \"green\", \"green\", \"green\", \"grey\", \"grey\", \"grey\", \"grilled\", \"grilled\", \"grilled\", \"grilled\", \"grilled\", \"grilled\", \"grimaldi\", \"growing\", \"growing\", \"growing\", \"gr\\u00fcner\", \"guava\", \"guava\", \"ha\", \"ha\", \"handrolls\", \"haut\", \"haut\", \"heavier\", \"hectares\", \"helped\", \"hermitage\", \"hermitage\", \"hibiscus\", \"highlighted\", \"highlighted\", \"highly\", \"highly\", \"highly\", \"highly\", \"hints\", \"hints\", \"hints\", \"hints\", \"hints\", \"hints\", \"hints\", \"hints\", \"hints\", \"hints\", \"hip\", \"hip\", \"hold\", \"hold\", \"hold\", \"hold\", \"hold\", \"hold\", \"honey\", \"honey\", \"honeyed\", \"honeyed\", \"honeyed\", \"honeysuckle\", \"honeysuckle\", \"imported\", \"imposing\", \"impressively\", \"impressively\", \"impressively\", \"impressively\", \"incredible\", \"incredible\", \"incredible\", \"incredible\", \"incredible\", \"indigenous\", \"inflected\", \"inlaid\", \"intense\", \"intense\", \"intense\", \"intense\", \"intense\", \"intense\", \"intense\", \"intense\", \"intense\", \"intertwined\", \"intertwined\", \"intertwined\", \"iron\", \"iron\", \"iron\", \"iron\", \"jasmine\", \"jasmine\", \"jasmine\", \"jasmine\", \"juicy\", \"juicy\", \"juicy\", \"juicy\", \"juicy\", \"juicy\", \"juicy\", \"juicy\", \"juicy\", \"juicy\", \"june\", \"june\", \"june\", \"june\", \"kabinett\", \"kiwi\", \"lacy\", \"lacy\", \"lacy\", \"lamb\", \"lanolin\", \"latent\", \"latest\", \"latest\", \"latest\", \"laurel\", \"laurent\", \"leg\", \"lemon\", \"lemon\", \"lemon\", \"lemon\", \"lemongrass\", \"lemongrass\", \"lemons\", \"licorice\", \"licorice\", \"licorice\", \"licorice\", \"licorice\", \"licorice\", \"like\", \"like\", \"like\", \"like\", \"like\", \"like\", \"like\", \"like\", \"like\", \"like\", \"lime\", \"lime\", \"lime\", \"limey\", \"lined\", \"lining\", \"lip\", \"lip\", \"little\", \"little\", \"little\", \"little\", \"little\", \"little\", \"little\", \"little\", \"little\", \"loganberry\", \"long\", \"long\", \"long\", \"long\", \"long\", \"long\", \"long\", \"long\", \"long\", \"long\", \"longevity\", \"longevity\", \"lots\", \"lots\", \"lots\", \"lots\", \"lots\", \"lots\", \"lots\", \"lots\", \"lots\", \"lovely\", \"lovely\", \"lovely\", \"lovely\", \"lovely\", \"lovely\", \"lovely\", \"lovely\", \"lovely\", \"lovely\", \"lower\", \"lush\", \"lush\", \"lush\", \"lush\", \"lush\", \"lush\", \"lush\", \"lush\", \"lush\", \"lynch\", \"l\\u00e9oville\", \"magnum\", \"mango\", \"mangoes\", \"marasca\", \"marbled\", \"markedly\", \"markedly\", \"matured\", \"matured\", \"matured\", \"matured\", \"mazuelo\", \"medium\", \"medium\", \"medium\", \"medium\", \"medium\", \"medium\", \"medium\", \"medium\", \"melon\", \"melon\", \"melon\", \"melon\", \"meringue\", \"merlot\", \"merlot\", \"merlot\", \"merlot\", \"mesnil\", \"meters\", \"meunier\", \"meunier\", \"meyer\", \"meyer\", \"middle\", \"middle\", \"middle\", \"middle\", \"middle\", \"middle\", \"mineral\", \"mineral\", \"mineral\", \"mineral\", \"mineral\", \"mineral\", \"mineral\", \"mineral\", \"mineral\", \"mineral\", \"minerality\", \"minerality\", \"minerality\", \"minerality\", \"minerality\", \"minerality\", \"minerality\", \"minerality\", \"minerality\", \"minerality\", \"mingled\", \"monforte\", \"monopole\", \"montagne\", \"montalcino\", \"montalcino\", \"months\", \"months\", \"months\", \"months\", \"months\", \"morra\", \"moss\", \"moss\", \"mousse\", \"mousse\", \"mousse\", \"muddled\", \"muids\", \"mulberry\", \"mulberry\", \"mulberry\", \"mulberry\", \"mushrooms\", \"mushrooms\", \"mushrooms\", \"mushrooms\", \"nacional\", \"natural\", \"natural\", \"natural\", \"nebbiolo\", \"nebbiolo\", \"nebbiolo\", \"needle\", \"needles\", \"needles\", \"nerello\", \"new\", \"new\", \"new\", \"new\", \"new\", \"new\", \"new\", \"new\", \"noir\", \"noir\", \"noir\", \"noir\", \"noirs\", \"noirs\", \"non\", \"non\", \"non\", \"nonvintage\", \"nose\", \"nose\", \"nose\", \"nose\", \"nose\", \"nose\", \"nose\", \"nose\", \"nose\", \"notes\", \"notes\", \"notes\", \"notes\", \"notes\", \"notes\", \"notes\", \"notes\", \"notes\", \"notes\", \"notions\", \"notions\", \"notions\", \"november\", \"november\", \"november\", \"november\", \"nv\", \"nv\", \"oak\", \"oak\", \"oak\", \"oak\", \"oak\", \"oak\", \"oak\", \"oak\", \"oak\", \"offers\", \"offers\", \"offers\", \"offers\", \"offers\", \"offers\", \"offers\", \"offers\", \"offers\", \"offers\", \"oger\", \"oily\", \"old\", \"old\", \"old\", \"old\", \"old\", \"old\", \"old\", \"oldest\", \"olive\", \"olive\", \"olive\", \"olive\", \"olive\", \"olives\", \"olives\", \"olives\", \"olives\", \"olives\", \"onwards\", \"orange\", \"orange\", \"orange\", \"orange\", \"orange\", \"orange\", \"orchard\", \"orchard\", \"orchard\", \"organic\", \"organic\", \"organic\", \"organic\", \"oven\", \"overtly\", \"oysters\", \"oysters\", \"pair\", \"palate\", \"palate\", \"palate\", \"palate\", \"palate\", \"palate\", \"palate\", \"palate\", \"palate\", \"palate\", \"pale\", \"pale\", \"pale\", \"pale\", \"pale\", \"pan\", \"panko\", \"papaya\", \"pape\", \"pape\", \"parcels\", \"parcels\", \"particular\", \"pasta\", \"pastille\", \"patience\", \"patience\", \"patience\", \"patience\", \"pavie\", \"peach\", \"peach\", \"peach\", \"peach\", \"peaches\", \"peaches\", \"peaches\", \"peaches\", \"pear\", \"pear\", \"pear\", \"pears\", \"peel\", \"peel\", \"peel\", \"peel\", \"peel\", \"peel\", \"pencil\", \"pencil\", \"pencil\", \"pencil\", \"peonies\", \"peppermint\", \"perlage\", \"perrier\", \"petal\", \"petal\", \"petal\", \"petal\", \"petit\", \"petit\", \"petit\", \"petrale\", \"pillowy\", \"pineapple\", \"pineapples\", \"pink\", \"pink\", \"pink\", \"pinot\", \"pinot\", \"pinot\", \"pinot\", \"pinot\", \"pinot\", \"pinpoint\", \"pipe\", \"pipe\", \"pipe\", \"piquant\", \"planted\", \"planted\", \"planted\", \"pleasing\", \"pleasing\", \"pleasing\", \"pleasing\", \"pleasing\", \"plot\", \"plum\", \"plum\", \"plum\", \"plum\", \"plum\", \"plum\", \"plum\", \"plum\", \"plums\", \"plums\", \"plums\", \"plums\", \"polished\", \"polished\", \"polished\", \"polished\", \"polished\", \"polished\", \"polished\", \"polished\", \"pomegranate\", \"pomegranate\", \"pomegranate\", \"pomegranate\", \"pomegranates\", \"pomerol\", \"pork\", \"port\", \"possess\", \"potting\", \"priorat\", \"produced\", \"produced\", \"produced\", \"produced\", \"pure\", \"pure\", \"pure\", \"pure\", \"pure\", \"pure\", \"pure\", \"pure\", \"pure\", \"pure\", \"puree\", \"purple\", \"purple\", \"purple\", \"purple\", \"purple\", \"purple\", \"p\\u00e2te\", \"quinta\", \"raspberry\", \"raspberry\", \"raspberry\", \"raspberry\", \"raspberry\", \"raspberry\", \"raspberry\", \"rating\", \"rating\", \"rating\", \"recalling\", \"red\", \"red\", \"red\", \"red\", \"red\", \"red\", \"red\", \"red\", \"red\", \"refined\", \"refined\", \"refined\", \"refined\", \"refined\", \"refined\", \"refined\", \"refined\", \"refined\", \"refined\", \"relax\", \"relaxed\", \"release\", \"release\", \"release\", \"release\", \"release\", \"repeating\", \"reserva\", \"reserva\", \"reserva\", \"reserve\", \"reserve\", \"reserve\", \"reserve\", \"reserve\", \"reserve\", \"residual\", \"residual\", \"ribeye\", \"ribs\", \"rich\", \"rich\", \"rich\", \"rich\", \"rich\", \"rich\", \"rich\", \"rich\", \"rich\", \"rich\", \"ried\", \"riesling\", \"riesling\", \"riesling\", \"riesling\", \"ripe\", \"ripe\", \"ripe\", \"ripe\", \"ripe\", \"ripe\", \"ripe\", \"ripe\", \"ripe\", \"ripe\", \"ripened\", \"ripened\", \"ripeness\", \"ripeness\", \"ripeness\", \"ripeness\", \"ripeness\", \"ripeness\", \"ripeness\", \"ripeness\", \"riserva\", \"riserva\", \"riserva\", \"roast\", \"roast\", \"roast\", \"roast\", \"roast\", \"roast\", \"roederer\", \"root\", \"root\", \"root\", \"roriz\", \"rose\", \"rose\", \"rose\", \"rose\", \"rose\", \"rose\", \"rose\", \"rose\", \"ros\\u00e9\", \"ros\\u00e9\", \"rotie\", \"round\", \"round\", \"round\", \"round\", \"round\", \"round\", \"round\", \"round\", \"sagebrush\", \"saint\", \"saint\", \"saint\", \"saint\", \"salted\", \"salted\", \"salted\", \"salted\", \"salted\", \"salty\", \"salty\", \"salty\", \"salty\", \"salty\", \"salty\", \"salty\", \"salty\", \"sample\", \"sample\", \"sample\", \"san\", \"sancerre\", \"sanguine\", \"sappy\", \"sappy\", \"sappy\", \"sappy\", \"sarsaparilla\", \"sashimi\", \"sauvignon\", \"sauvignon\", \"sauvignon\", \"sauvignon\", \"sauvignon\", \"sauvignon\", \"savory\", \"savory\", \"savory\", \"savory\", \"savory\", \"savory\", \"savory\", \"savory\", \"savory\", \"savory\", \"scavino\", \"scrub\", \"seamless\", \"seamless\", \"seamless\", \"seamless\", \"seamless\", \"seamless\", \"seamless\", \"seared\", \"season\", \"seeking\", \"sel\", \"semillon\", \"sensibility\", \"serralunga\", \"serralunga\", \"serve\", \"serve\", \"sexy\", \"sexy\", \"sexy\", \"shavings\", \"shavings\", \"shavings\", \"shimmering\", \"shines\", \"shines\", \"shines\", \"shows\", \"shows\", \"shows\", \"shows\", \"shows\", \"shows\", \"shows\", \"shows\", \"shows\", \"shows\", \"singed\", \"singed\", \"singed\", \"single\", \"single\", \"single\", \"skinned\", \"slavonian\", \"slew\", \"sliced\", \"sliced\", \"sliced\", \"smacking\", \"smoldering\", \"sneaky\", \"sneaky\", \"soften\", \"soften\", \"soften\", \"soils\", \"soils\", \"soils\", \"sole\", \"solera\", \"sous\", \"spice\", \"spice\", \"spice\", \"spice\", \"spice\", \"spice\", \"spice\", \"spice\", \"spice\", \"spicecake\", \"spices\", \"spices\", \"spices\", \"spices\", \"spices\", \"spices\", \"spices\", \"spices\", \"spices\", \"spices\", \"spicier\", \"spirits\", \"stags\", \"stainless\", \"stainless\", \"stainless\", \"stainless\", \"star\", \"star\", \"star\", \"star\", \"star\", \"star\", \"stated\", \"steamed\", \"steel\", \"steel\", \"steel\", \"steel\", \"steeped\", \"steeped\", \"stew\", \"stimulating\", \"stone\", \"stone\", \"stone\", \"stone\", \"stone\", \"stone\", \"stone\", \"stone\", \"stone\", \"stone\", \"strawberries\", \"strawberries\", \"strawberries\", \"strawberries\", \"strawberries\", \"strawberry\", \"strawberry\", \"strawberry\", \"strawberry\", \"strawberry\", \"strawberry\", \"struck\", \"structure\", \"structure\", \"structure\", \"structure\", \"structure\", \"structure\", \"structure\", \"structure\", \"structure\", \"succulent\", \"succulent\", \"succulent\", \"succulent\", \"succulent\", \"succulent\", \"succulent\", \"succulent\", \"suede\", \"sufficiently\", \"suffused\", \"sugar\", \"sugar\", \"sugar\", \"sugar\", \"sugar\", \"sugar\", \"s\\u00e9millon\", \"tannined\", \"tannins\", \"tannins\", \"tannins\", \"tannins\", \"tannins\", \"tannins\", \"tannins\", \"tar\", \"tar\", \"tar\", \"tar\", \"tarry\", \"tarry\", \"tasted\", \"tasted\", \"tasted\", \"tasted\", \"tasting\", \"tasting\", \"tasting\", \"tautly\", \"tea\", \"tea\", \"tea\", \"tea\", \"tea\", \"tea\", \"tea\", \"tea\", \"tea\", \"tempranillo\", \"tempranillo\", \"tempranillo\", \"tempranillo\", \"tempranillo\", \"tender\", \"tensioned\", \"terroir\", \"terroir\", \"terroir\", \"terroir\", \"texture\", \"texture\", \"texture\", \"texture\", \"texture\", \"texture\", \"texture\", \"texture\", \"texture\", \"tight\", \"tight\", \"tight\", \"tight\", \"tight\", \"tight\", \"tight\", \"tight\", \"tile\", \"time\", \"time\", \"time\", \"time\", \"time\", \"time\", \"time\", \"time\", \"time\", \"tobacco\", \"tobacco\", \"tobacco\", \"tobacco\", \"tondonia\", \"touch\", \"touch\", \"touch\", \"touch\", \"touch\", \"touch\", \"touch\", \"touch\", \"touch\", \"touch\", \"touriga\", \"treatment\", \"trimmed\", \"trocken\", \"tropical\", \"tropical\", \"tropical\", \"try\", \"try\", \"try\", \"tug\", \"uco\", \"underbrush\", \"underbrush\", \"underbrush\", \"undertones\", \"undertones\", \"undertones\", \"unquestionably\", \"valmur\", \"vats\", \"vats\", \"veltliner\", \"verdot\", \"verdot\", \"verdot\", \"vergelesses\", \"vigna\", \"vigna\", \"vines\", \"vines\", \"vines\", \"vines\", \"vineyard\", \"vineyard\", \"vineyard\", \"vineyard\", \"vineyard\", \"vineyard\", \"vineyards\", \"vineyards\", \"vineyards\", \"vineyards\", \"vineyards\", \"vinification\", \"vinous\", \"vinous\", \"vinous\", \"vinous\", \"vintage\", \"vintage\", \"vintage\", \"vintage\", \"vintage\", \"vintage\", \"vintage\", \"vintage\", \"viscous\", \"vital\", \"vi\\u00f1a\", \"vi\\u00f1a\", \"walnut\", \"walnut\", \"walnut\", \"walnuts\", \"walnuts\", \"wears\", \"weight\", \"weight\", \"weight\", \"weight\", \"weight\", \"weight\", \"weight\", \"white\", \"white\", \"white\", \"white\", \"white\", \"white\", \"white\", \"white\", \"wild\", \"wild\", \"wild\", \"wild\", \"wild\", \"wild\", \"wild\", \"wild\", \"wild\", \"wild\", \"wine\", \"wine\", \"wine\", \"wine\", \"wine\", \"wine\", \"wine\", \"wine\", \"wine\", \"wine\", \"wines\", \"wines\", \"wines\", \"wines\", \"wines\", \"wines\", \"wines\", \"winey\", \"wisps\", \"wood\", \"wood\", \"wood\", \"wood\", \"wood\", \"wood\", \"wood\", \"woodland\", \"woodland\", \"woodsy\", \"year\", \"year\", \"year\", \"year\", \"year\", \"year\", \"years\", \"years\", \"years\", \"years\", \"years\", \"years\", \"years\", \"years\", \"years\", \"yeasts\", \"yellow\", \"yellow\", \"yellow\", \"yellow\", \"youthfully\", \"youthfully\", \"youthfully\", \"youthfully\", \"yuzu\", \"zest\", \"zest\", \"zest\", \"zest\", \"zest\", \"zingy\"]}, \"R\": 30, \"lambda.step\": 0.01, \"plot.opts\": {\"xlab\": \"PC1\", \"ylab\": \"PC2\"}, \"topic.order\": [1, 2, 3, 4, 5, 6, 7, 8, 9, 10]};\n",
       "\n",
       "function LDAvis_load_lib(url, callback){\n",
       "  var s = document.createElement('script');\n",
       "  s.src = url;\n",
       "  s.async = true;\n",
       "  s.onreadystatechange = s.onload = callback;\n",
       "  s.onerror = function(){console.warn(\"failed to load library \" + url);};\n",
       "  document.getElementsByTagName(\"head\")[0].appendChild(s);\n",
       "}\n",
       "\n",
       "if(typeof(LDAvis) !== \"undefined\"){\n",
       "   // already loaded: just create the visualization\n",
       "   !function(LDAvis){\n",
       "       new LDAvis(\"#\" + \"ldavis_el87063140227011816800934392196\", ldavis_el87063140227011816800934392196_data);\n",
       "   }(LDAvis);\n",
       "}else if(typeof define === \"function\" && define.amd){\n",
       "   // require.js is available: use it to load d3/LDAvis\n",
       "   require.config({paths: {d3: \"https://d3js.org/d3.v5\"}});\n",
       "   require([\"d3\"], function(d3){\n",
       "      window.d3 = d3;\n",
       "      LDAvis_load_lib(\"https://cdn.jsdelivr.net/gh/bmabey/pyLDAvis@3.3.1/pyLDAvis/js/ldavis.v3.0.0.js\", function(){\n",
       "        new LDAvis(\"#\" + \"ldavis_el87063140227011816800934392196\", ldavis_el87063140227011816800934392196_data);\n",
       "      });\n",
       "    });\n",
       "}else{\n",
       "    // require.js not available: dynamically load d3 & LDAvis\n",
       "    LDAvis_load_lib(\"https://d3js.org/d3.v5.js\", function(){\n",
       "         LDAvis_load_lib(\"https://cdn.jsdelivr.net/gh/bmabey/pyLDAvis@3.3.1/pyLDAvis/js/ldavis.v3.0.0.js\", function(){\n",
       "                 new LDAvis(\"#\" + \"ldavis_el87063140227011816800934392196\", ldavis_el87063140227011816800934392196_data);\n",
       "            })\n",
       "         });\n",
       "}\n",
       "</script>"
      ],
      "text/plain": [
       "<IPython.core.display.HTML object>"
      ]
     },
     "execution_count": 50,
     "metadata": {},
     "output_type": "execute_result"
    }
   ],
   "source": [
    "# Display both visualizations\n",
    "pyLDAvis.display(lda_display)\n",
    "pyLDAvis.display(lda_display_review)"
   ]
  }
 ],
 "metadata": {
  "kernelspec": {
   "display_name": "Python 3",
   "language": "python",
   "name": "python3"
  },
  "language_info": {
   "codemirror_mode": {
    "name": "ipython",
    "version": 3
   },
   "file_extension": ".py",
   "mimetype": "text/x-python",
   "name": "python",
   "nbconvert_exporter": "python",
   "pygments_lexer": "ipython3",
   "version": "3.8.8"
  }
 },
 "nbformat": 4,
 "nbformat_minor": 5
}
