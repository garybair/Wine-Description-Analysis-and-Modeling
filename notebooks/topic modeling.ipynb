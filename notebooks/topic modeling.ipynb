{
 "cells": [
  {
   "cell_type": "code",
   "execution_count": 5,
   "metadata": {},
   "outputs": [
    {
     "name": "stderr",
     "output_type": "stream",
     "text": [
      "/opt/anaconda3/lib/python3.8/site-packages/ipykernel/ipkernel.py:287: DeprecationWarning: `should_run_async` will not call `transform_cell` automatically in the future. Please pass the result to `transformed_cell` argument and any exception that happen during thetransform in `preprocessing_exc_tuple` in IPython 7.17 and above.\n",
      "  and should_run_async(code)\n",
      "[nltk_data] Downloading package brown to\n",
      "[nltk_data]     /Users/georgegarcia/nltk_data...\n",
      "[nltk_data]   Package brown is already up-to-date!\n"
     ]
    }
   ],
   "source": [
    "#imports\n",
    "import nltk\n",
    "nltk.download('brown')\n",
    "from nltk.corpus import brown\n",
    "\n",
    "import numpy as np\n",
    "import pandas as pd\n",
    "from tqdm.auto import tqdm\n",
    "\n",
    "import pyLDAvis\n",
    "import pyLDAvis.sklearn\n",
    "import pyLDAvis.gensim_models\n",
    "\n",
    "import spacy\n",
    "from sklearn.feature_extraction.text import TfidfVectorizer, CountVectorizer\n",
    "from sklearn.decomposition import NMF, TruncatedSVD, LatentDirichletAllocation\n",
    "\n",
    "from spacy.lang.en.stop_words import STOP_WORDS as stopwords\n",
    "\n",
    "from collections import Counter, defaultdict\n",
    "\n",
    "nlp = spacy.load('en_core_web_sm')"
   ]
  },
  {
   "cell_type": "markdown",
   "metadata": {},
   "source": [
    "Topic Modeling"
   ]
  },
  {
   "cell_type": "code",
   "execution_count": 7,
   "metadata": {},
   "outputs": [
    {
     "name": "stderr",
     "output_type": "stream",
     "text": [
      "/opt/anaconda3/lib/python3.8/site-packages/ipykernel/ipkernel.py:287: DeprecationWarning: `should_run_async` will not call `transform_cell` automatically in the future. Please pass the result to `transformed_cell` argument and any exception that happen during thetransform in `preprocessing_exc_tuple` in IPython 7.17 and above.\n",
      "  and should_run_async(code)\n"
     ]
    }
   ],
   "source": [
    "#directory locations\n",
    "current_directory = os.getcwd()\n",
    "parent_directory = os.path.dirname(current_directory)\n",
    "processed_folder = parent_directory + '/data/wine-com/processed/'"
   ]
  },
  {
   "cell_type": "markdown",
   "metadata": {},
   "source": [
    "LoadData"
   ]
  },
  {
   "cell_type": "code",
   "execution_count": 8,
   "metadata": {},
   "outputs": [
    {
     "name": "stderr",
     "output_type": "stream",
     "text": [
      "/opt/anaconda3/lib/python3.8/site-packages/ipykernel/ipkernel.py:287: DeprecationWarning: `should_run_async` will not call `transform_cell` automatically in the future. Please pass the result to `transformed_cell` argument and any exception that happen during thetransform in `preprocessing_exc_tuple` in IPython 7.17 and above.\n",
      "  and should_run_async(code)\n"
     ]
    }
   ],
   "source": [
    "df = pd.read_csv(processed_folder + '1676752918.122732.txt', sep = '|')"
   ]
  },
  {
   "cell_type": "code",
   "execution_count": 9,
   "metadata": {},
   "outputs": [
    {
     "name": "stderr",
     "output_type": "stream",
     "text": [
      "/opt/anaconda3/lib/python3.8/site-packages/ipykernel/ipkernel.py:287: DeprecationWarning: `should_run_async` will not call `transform_cell` automatically in the future. Please pass the result to `transformed_cell` argument and any exception that happen during thetransform in `preprocessing_exc_tuple` in IPython 7.17 and above.\n",
      "  and should_run_async(code)\n"
     ]
    },
    {
     "data": {
      "text/html": [
       "<div>\n",
       "<style scoped>\n",
       "    .dataframe tbody tr th:only-of-type {\n",
       "        vertical-align: middle;\n",
       "    }\n",
       "\n",
       "    .dataframe tbody tr th {\n",
       "        vertical-align: top;\n",
       "    }\n",
       "\n",
       "    .dataframe thead th {\n",
       "        text-align: right;\n",
       "    }\n",
       "</style>\n",
       "<table border=\"1\" class=\"dataframe\">\n",
       "  <thead>\n",
       "    <tr style=\"text-align: right;\">\n",
       "      <th></th>\n",
       "      <th>url</th>\n",
       "      <th>name</th>\n",
       "      <th>variety</th>\n",
       "      <th>origin</th>\n",
       "      <th>type</th>\n",
       "      <th>description</th>\n",
       "      <th>reviews</th>\n",
       "    </tr>\n",
       "  </thead>\n",
       "  <tbody>\n",
       "    <tr>\n",
       "      <th>0</th>\n",
       "      <td>https://www.wine.com/product/domaine-du-terme-...</td>\n",
       "      <td>Domaine du Terme Gigondas 2019</td>\n",
       "      <td>Rhone Red Blends</td>\n",
       "      <td>from Gigondas, Rhone, France</td>\n",
       "      <td>Red Wine</td>\n",
       "      <td>NaN</td>\n",
       "      <td>spectacular gigondas wine red cherry flavor so...</td>\n",
       "    </tr>\n",
       "    <tr>\n",
       "      <th>1</th>\n",
       "      <td>https://www.wine.com/product/viticcio-chianti-...</td>\n",
       "      <td>Viticcio Chianti Classico Riserva 2017</td>\n",
       "      <td>Sangiovese</td>\n",
       "      <td>from Chianti Classico, Chianti, Tuscany, Italy</td>\n",
       "      <td>Red Wine</td>\n",
       "      <td>intense ruby red violet nuance complexnose sou...</td>\n",
       "      <td>supple vibrant concentrate feature black cherr...</td>\n",
       "    </tr>\n",
       "    <tr>\n",
       "      <th>2</th>\n",
       "      <td>https://www.wine.com/product/bodegas-urbina-cr...</td>\n",
       "      <td>Bodegas Urbina Crianza 2012</td>\n",
       "      <td>Tempranillo</td>\n",
       "      <td>from Rioja, Spain</td>\n",
       "      <td>Red Wine</td>\n",
       "      <td>medium crimson color emit aromatic array cedar...</td>\n",
       "      <td>dark amber rim red aromas red currant cherry p...</td>\n",
       "    </tr>\n",
       "    <tr>\n",
       "      <th>3</th>\n",
       "      <td>https://www.wine.com/product/sanford-sanford-a...</td>\n",
       "      <td>Sanford Sanford &amp; Benedict Vineyard Pinot Noir...</td>\n",
       "      <td>Pinot Noir</td>\n",
       "      <td>from Sta. Rita Hills, Santa Barbara, Central ...</td>\n",
       "      <td>Red Wine</td>\n",
       "      <td>2017 pinot noir sanford benedict bright beauti...</td>\n",
       "      <td>lastly 2017 pinot noir sanford benedict come s...</td>\n",
       "    </tr>\n",
       "    <tr>\n",
       "      <th>4</th>\n",
       "      <td>https://www.wine.com/product/san-simeon-estate...</td>\n",
       "      <td>San Simeon Estate Reserve Petite Sirah 2019</td>\n",
       "      <td>Petite Sirah</td>\n",
       "      <td>from Paso Robles, Central Coast, California</td>\n",
       "      <td>Red Wine</td>\n",
       "      <td>aromas blackberry ripe plum thyme greet nose a...</td>\n",
       "      <td>cassis cola cream black cherry sauce aroma ric...</td>\n",
       "    </tr>\n",
       "  </tbody>\n",
       "</table>\n",
       "</div>"
      ],
      "text/plain": [
       "                                                 url  \\\n",
       "0  https://www.wine.com/product/domaine-du-terme-...   \n",
       "1  https://www.wine.com/product/viticcio-chianti-...   \n",
       "2  https://www.wine.com/product/bodegas-urbina-cr...   \n",
       "3  https://www.wine.com/product/sanford-sanford-a...   \n",
       "4  https://www.wine.com/product/san-simeon-estate...   \n",
       "\n",
       "                                                name           variety  \\\n",
       "0                     Domaine du Terme Gigondas 2019  Rhone Red Blends   \n",
       "1             Viticcio Chianti Classico Riserva 2017        Sangiovese   \n",
       "2                        Bodegas Urbina Crianza 2012       Tempranillo   \n",
       "3  Sanford Sanford & Benedict Vineyard Pinot Noir...        Pinot Noir   \n",
       "4        San Simeon Estate Reserve Petite Sirah 2019      Petite Sirah   \n",
       "\n",
       "                                              origin      type  \\\n",
       "0                       from Gigondas, Rhone, France  Red Wine   \n",
       "1     from Chianti Classico, Chianti, Tuscany, Italy  Red Wine   \n",
       "2                                  from Rioja, Spain  Red Wine   \n",
       "3   from Sta. Rita Hills, Santa Barbara, Central ...  Red Wine   \n",
       "4        from Paso Robles, Central Coast, California  Red Wine   \n",
       "\n",
       "                                         description  \\\n",
       "0                                                NaN   \n",
       "1  intense ruby red violet nuance complexnose sou...   \n",
       "2  medium crimson color emit aromatic array cedar...   \n",
       "3  2017 pinot noir sanford benedict bright beauti...   \n",
       "4  aromas blackberry ripe plum thyme greet nose a...   \n",
       "\n",
       "                                             reviews  \n",
       "0  spectacular gigondas wine red cherry flavor so...  \n",
       "1  supple vibrant concentrate feature black cherr...  \n",
       "2  dark amber rim red aromas red currant cherry p...  \n",
       "3  lastly 2017 pinot noir sanford benedict come s...  \n",
       "4  cassis cola cream black cherry sauce aroma ric...  "
      ]
     },
     "execution_count": 9,
     "metadata": {},
     "output_type": "execute_result"
    }
   ],
   "source": [
    "df.head()"
   ]
  },
  {
   "cell_type": "code",
   "execution_count": 6,
   "metadata": {},
   "outputs": [
    {
     "name": "stderr",
     "output_type": "stream",
     "text": [
      "/opt/anaconda3/lib/python3.8/site-packages/ipykernel/ipkernel.py:287: DeprecationWarning: `should_run_async` will not call `transform_cell` automatically in the future. Please pass the result to `transformed_cell` argument and any exception that happen during thetransform in `preprocessing_exc_tuple` in IPython 7.17 and above.\n",
      "  and should_run_async(code)\n"
     ]
    }
   ],
   "source": [
    "# This function comes from the BTAP repo.\n",
    "def display_topics(model, features, no_top_words=5):\n",
    "    for topic, words in enumerate(model.components_):\n",
    "        total = words.sum()\n",
    "        largest = words.argsort()[::-1] # invert sort order\n",
    "        print(\"\\nTopic %02d\" % topic)\n",
    "        for i in range(0, no_top_words):\n",
    "            print(\"  %s (%2.2f)\" % (features[largest[i]], abs(words[largest[i]]*100.0/total)))"
   ]
  },
  {
   "cell_type": "code",
   "execution_count": 11,
   "metadata": {},
   "outputs": [
    {
     "name": "stdout",
     "output_type": "stream",
     "text": [
      "The 'category' column does not exist in the DataFrame.\n"
     ]
    },
    {
     "name": "stderr",
     "output_type": "stream",
     "text": [
      "/opt/anaconda3/lib/python3.8/site-packages/ipykernel/ipkernel.py:287: DeprecationWarning: `should_run_async` will not call `transform_cell` automatically in the future. Please pass the result to `transformed_cell` argument and any exception that happen during thetransform in `preprocessing_exc_tuple` in IPython 7.17 and above.\n",
      "  and should_run_async(code)\n"
     ]
    }
   ],
   "source": [
    "# Check if the 'category' column exists in the DataFrame\n",
    "if 'category' in df.columns:\n",
    "    # Get a list of all unique categories in the DataFrame\n",
    "    categories = df['category'].unique()\n",
    "\n",
    "    # Loop through each category and print the number of articles in the DataFrame for that category\n",
    "    for category in categories:\n",
    "        num_articles = len(df[df['category'] == category])\n",
    "        print(f\"For {category} we have {num_articles} articles.\")\n",
    "else:\n",
    "    print(\"The 'category' column does not exist in the DataFrame.\")"
   ]
  },
  {
   "cell_type": "markdown",
   "metadata": {},
   "source": [
    "what type of wine in the df"
   ]
  },
  {
   "cell_type": "code",
   "execution_count": 12,
   "metadata": {},
   "outputs": [
    {
     "name": "stdout",
     "output_type": "stream",
     "text": [
      "For Red Wine we have 7849 articles.\n",
      "For White Wine we have 3800 articles.\n",
      "For Sparkling & Champagne we have 906 articles.\n",
      "For Pink and Rosé we have 415 articles.\n",
      "For Collectible we have 13 articles.\n",
      "For Green Wine we have 10 articles.\n",
      "For Screw Cap we have 37 articles.\n",
      "For Boutique we have 12 articles.\n"
     ]
    },
    {
     "name": "stderr",
     "output_type": "stream",
     "text": [
      "/opt/anaconda3/lib/python3.8/site-packages/ipykernel/ipkernel.py:287: DeprecationWarning: `should_run_async` will not call `transform_cell` automatically in the future. Please pass the result to `transformed_cell` argument and any exception that happen during thetransform in `preprocessing_exc_tuple` in IPython 7.17 and above.\n",
      "  and should_run_async(code)\n"
     ]
    }
   ],
   "source": [
    "# Check if the 'type' column exists in the DataFrame\n",
    "if 'type' in df.columns:\n",
    "    # Get a list of all unique types in the DataFrame\n",
    "    types = df['type'].unique()\n",
    "\n",
    "    # Loop through each type and print the number of articles in the DataFrame for that type\n",
    "    for article_type in types:\n",
    "        num_articles = len(df[df['type'] == article_type])\n",
    "        print(f\"For {article_type} we have {num_articles} articles.\")\n",
    "else:\n",
    "    print(\"The 'type' column does not exist in the DataFrame.\")"
   ]
  },
  {
   "cell_type": "markdown",
   "metadata": {},
   "source": [
    "what review topics of wine in the df"
   ]
  },
  {
   "cell_type": "code",
   "execution_count": 13,
   "metadata": {},
   "outputs": [
    {
     "name": "stdout",
     "output_type": "stream",
     "text": [
      "There are 6643 reviews in the DataFrame.\n"
     ]
    },
    {
     "name": "stderr",
     "output_type": "stream",
     "text": [
      "/opt/anaconda3/lib/python3.8/site-packages/ipykernel/ipkernel.py:287: DeprecationWarning: `should_run_async` will not call `transform_cell` automatically in the future. Please pass the result to `transformed_cell` argument and any exception that happen during thetransform in `preprocessing_exc_tuple` in IPython 7.17 and above.\n",
      "  and should_run_async(code)\n"
     ]
    }
   ],
   "source": [
    "# Check if the 'reviews' column exists in the DataFrame\n",
    "if 'reviews' in df.columns:\n",
    "    # Count the number of non-null values in the 'reviews' column\n",
    "    num_reviews = df['reviews'].count()\n",
    "\n",
    "    # Print the total number of reviews in the DataFrame\n",
    "    print(f\"There are {num_reviews} reviews in the DataFrame.\")\n",
    "else:\n",
    "    print(\"The 'reviews' column does not exist in the DataFrame.\")"
   ]
  },
  {
   "cell_type": "code",
   "execution_count": 16,
   "metadata": {},
   "outputs": [
    {
     "name": "stderr",
     "output_type": "stream",
     "text": [
      "/opt/anaconda3/lib/python3.8/site-packages/ipykernel/ipkernel.py:287: DeprecationWarning: `should_run_async` will not call `transform_cell` automatically in the future. Please pass the result to `transformed_cell` argument and any exception that happen during thetransform in `preprocessing_exc_tuple` in IPython 7.17 and above.\n",
      "  and should_run_async(code)\n"
     ]
    },
    {
     "name": "stdout",
     "output_type": "stream",
     "text": [
      "(13461, 4)\n"
     ]
    }
   ],
   "source": [
    "# Define the wine types to search for\n",
    "wine_types = ['red', 'white', 'sparkling', 'champagne']\n",
    "\n",
    "# Define empty lists to hold the category, id, text, and review data for each wine type\n",
    "category_list = []\n",
    "id_list = []\n",
    "text_list = []\n",
    "review_list = []\n",
    "\n",
    "# Loop through each wine type\n",
    "for wine_type in wine_types:\n",
    "    # Filter the DataFrame to select only the rows that match the wine type\n",
    "    filtered_df = df[df['type'].str.contains(wine_type, case=False)]\n",
    "\n",
    "    # Loop through each row in the filtered DataFrame\n",
    "    for index, row in filtered_df.iterrows():\n",
    "        # Add the category, id, text, and review data to their respective lists\n",
    "        category_list.append(wine_type)\n",
    "        id_list.append(row['name'])\n",
    "        text_list.append(row['description'])\n",
    "        review_list.append(row['reviews'])\n",
    "\n",
    "# Create a new DataFrame from the category, id, text, and review lists\n",
    "wine_df = pd.DataFrame({\n",
    "    'category': category_list,\n",
    "    'id': id_list,\n",
    "    'text': text_list,\n",
    "    'reviews': review_list\n",
    "})\n",
    "\n",
    "# Print the shape of the new DataFrame\n",
    "print(wine_df.shape)"
   ]
  },
  {
   "cell_type": "code",
   "execution_count": 17,
   "metadata": {},
   "outputs": [
    {
     "name": "stderr",
     "output_type": "stream",
     "text": [
      "/opt/anaconda3/lib/python3.8/site-packages/ipykernel/ipkernel.py:287: DeprecationWarning: `should_run_async` will not call `transform_cell` automatically in the future. Please pass the result to `transformed_cell` argument and any exception that happen during thetransform in `preprocessing_exc_tuple` in IPython 7.17 and above.\n",
      "  and should_run_async(code)\n"
     ]
    },
    {
     "data": {
      "text/html": [
       "<div>\n",
       "<style scoped>\n",
       "    .dataframe tbody tr th:only-of-type {\n",
       "        vertical-align: middle;\n",
       "    }\n",
       "\n",
       "    .dataframe tbody tr th {\n",
       "        vertical-align: top;\n",
       "    }\n",
       "\n",
       "    .dataframe thead th {\n",
       "        text-align: right;\n",
       "    }\n",
       "</style>\n",
       "<table border=\"1\" class=\"dataframe\">\n",
       "  <thead>\n",
       "    <tr style=\"text-align: right;\">\n",
       "      <th></th>\n",
       "      <th>category</th>\n",
       "      <th>id</th>\n",
       "      <th>text</th>\n",
       "      <th>reviews</th>\n",
       "    </tr>\n",
       "  </thead>\n",
       "  <tbody>\n",
       "    <tr>\n",
       "      <th>0</th>\n",
       "      <td>red</td>\n",
       "      <td>Domaine du Terme Gigondas 2019</td>\n",
       "      <td>NaN</td>\n",
       "      <td>spectacular gigondas wine red cherry flavor so...</td>\n",
       "    </tr>\n",
       "    <tr>\n",
       "      <th>1</th>\n",
       "      <td>red</td>\n",
       "      <td>Viticcio Chianti Classico Riserva 2017</td>\n",
       "      <td>intense ruby red violet nuance complexnose sou...</td>\n",
       "      <td>supple vibrant concentrate feature black cherr...</td>\n",
       "    </tr>\n",
       "    <tr>\n",
       "      <th>2</th>\n",
       "      <td>red</td>\n",
       "      <td>Bodegas Urbina Crianza 2012</td>\n",
       "      <td>medium crimson color emit aromatic array cedar...</td>\n",
       "      <td>dark amber rim red aromas red currant cherry p...</td>\n",
       "    </tr>\n",
       "    <tr>\n",
       "      <th>3</th>\n",
       "      <td>red</td>\n",
       "      <td>Sanford Sanford &amp; Benedict Vineyard Pinot Noir...</td>\n",
       "      <td>2017 pinot noir sanford benedict bright beauti...</td>\n",
       "      <td>lastly 2017 pinot noir sanford benedict come s...</td>\n",
       "    </tr>\n",
       "    <tr>\n",
       "      <th>4</th>\n",
       "      <td>red</td>\n",
       "      <td>San Simeon Estate Reserve Petite Sirah 2019</td>\n",
       "      <td>aromas blackberry ripe plum thyme greet nose a...</td>\n",
       "      <td>cassis cola cream black cherry sauce aroma ric...</td>\n",
       "    </tr>\n",
       "  </tbody>\n",
       "</table>\n",
       "</div>"
      ],
      "text/plain": [
       "  category                                                 id  \\\n",
       "0      red                     Domaine du Terme Gigondas 2019   \n",
       "1      red             Viticcio Chianti Classico Riserva 2017   \n",
       "2      red                        Bodegas Urbina Crianza 2012   \n",
       "3      red  Sanford Sanford & Benedict Vineyard Pinot Noir...   \n",
       "4      red        San Simeon Estate Reserve Petite Sirah 2019   \n",
       "\n",
       "                                                text  \\\n",
       "0                                                NaN   \n",
       "1  intense ruby red violet nuance complexnose sou...   \n",
       "2  medium crimson color emit aromatic array cedar...   \n",
       "3  2017 pinot noir sanford benedict bright beauti...   \n",
       "4  aromas blackberry ripe plum thyme greet nose a...   \n",
       "\n",
       "                                             reviews  \n",
       "0  spectacular gigondas wine red cherry flavor so...  \n",
       "1  supple vibrant concentrate feature black cherr...  \n",
       "2  dark amber rim red aromas red currant cherry p...  \n",
       "3  lastly 2017 pinot noir sanford benedict come s...  \n",
       "4  cassis cola cream black cherry sauce aroma ric...  "
      ]
     },
     "execution_count": 17,
     "metadata": {},
     "output_type": "execute_result"
    }
   ],
   "source": [
    "wine_df.head()"
   ]
  },
  {
   "cell_type": "markdown",
   "metadata": {},
   "source": []
  },
  {
   "cell_type": "code",
   "execution_count": 21,
   "metadata": {},
   "outputs": [
    {
     "name": "stderr",
     "output_type": "stream",
     "text": [
      "/opt/anaconda3/lib/python3.8/site-packages/ipykernel/ipkernel.py:287: DeprecationWarning: `should_run_async` will not call `transform_cell` automatically in the future. Please pass the result to `transformed_cell` argument and any exception that happen during thetransform in `preprocessing_exc_tuple` in IPython 7.17 and above.\n",
      "  and should_run_async(code)\n"
     ]
    }
   ],
   "source": [
    "wine_df['reviews'] = wine_df['reviews'].fillna('')"
   ]
  },
  {
   "cell_type": "code",
   "execution_count": 22,
   "metadata": {},
   "outputs": [
    {
     "name": "stderr",
     "output_type": "stream",
     "text": [
      "/opt/anaconda3/lib/python3.8/site-packages/ipykernel/ipkernel.py:287: DeprecationWarning: `should_run_async` will not call `transform_cell` automatically in the future. Please pass the result to `transformed_cell` argument and any exception that happen during thetransform in `preprocessing_exc_tuple` in IPython 7.17 and above.\n",
      "  and should_run_async(code)\n"
     ]
    },
    {
     "data": {
      "text/plain": [
       "(13461, 4409)"
      ]
     },
     "execution_count": 22,
     "metadata": {},
     "output_type": "execute_result"
    }
   ],
   "source": [
    "count_text_vectorizer = CountVectorizer(stop_words=stopwords, min_df=5, max_df=0.7)\n",
    "count_text_vectors = count_text_vectorizer.fit_transform(wine_df[\"reviews\"])\n",
    "count_text_vectors.shape"
   ]
  },
  {
   "cell_type": "code",
   "execution_count": 23,
   "metadata": {},
   "outputs": [
    {
     "name": "stderr",
     "output_type": "stream",
     "text": [
      "/opt/anaconda3/lib/python3.8/site-packages/ipykernel/ipkernel.py:287: DeprecationWarning: `should_run_async` will not call `transform_cell` automatically in the future. Please pass the result to `transformed_cell` argument and any exception that happen during thetransform in `preprocessing_exc_tuple` in IPython 7.17 and above.\n",
      "  and should_run_async(code)\n"
     ]
    },
    {
     "data": {
      "text/plain": [
       "(13461, 4409)"
      ]
     },
     "execution_count": 23,
     "metadata": {},
     "output_type": "execute_result"
    }
   ],
   "source": [
    "tfidf_text_vectorizer = TfidfVectorizer(stop_words=stopwords, min_df=5, max_df=0.7)\n",
    "tfidf_text_vectors = tfidf_text_vectorizer.fit_transform(wine_df[\"reviews\"])\n",
    "tfidf_text_vectors.shape"
   ]
  },
  {
   "cell_type": "markdown",
   "metadata": {},
   "source": [
    "## Fitting a Non-Negative Matrix Factorization Model"
   ]
  },
  {
   "cell_type": "code",
   "execution_count": 29,
   "metadata": {},
   "outputs": [
    {
     "name": "stderr",
     "output_type": "stream",
     "text": [
      "/opt/anaconda3/lib/python3.8/site-packages/ipykernel/ipkernel.py:287: DeprecationWarning: `should_run_async` will not call `transform_cell` automatically in the future. Please pass the result to `transformed_cell` argument and any exception that happen during thetransform in `preprocessing_exc_tuple` in IPython 7.17 and above.\n",
      "  and should_run_async(code)\n"
     ]
    }
   ],
   "source": [
    "nmf_text_model = NMF(n_components=5, random_state=314)\n",
    "W_text_matrix = nmf_text_model.fit_transform(tfidf_text_vectors)\n",
    "H_text_matrix = nmf_text_model.components_"
   ]
  },
  {
   "cell_type": "code",
   "execution_count": 30,
   "metadata": {},
   "outputs": [
    {
     "name": "stdout",
     "output_type": "stream",
     "text": [
      "\n",
      "Topic 00\n",
      "  tannin (2.11)\n",
      "  cherry (1.80)\n",
      "  red (1.50)\n",
      "  medium (1.39)\n",
      "  finish (1.32)\n",
      "\n",
      "Topic 01\n",
      "  taste (5.00)\n",
      "  commentary (2.80)\n",
      "  san (2.76)\n",
      "  francisco (2.75)\n",
      "  wine (2.55)\n",
      "\n",
      "Topic 02\n",
      "  lemon (1.47)\n",
      "  apple (1.41)\n",
      "  white (1.39)\n",
      "  fresh (1.17)\n",
      "  acidity (1.03)\n",
      "\n",
      "Topic 03\n",
      "  barrel (1.24)\n",
      "  sample (1.11)\n",
      "  wine (1.07)\n",
      "  fruit (0.85)\n",
      "  year (0.69)\n",
      "\n",
      "Topic 04\n",
      "  cabernet (4.74)\n",
      "  sauvignon (2.98)\n",
      "  merlot (1.87)\n",
      "  franc (1.65)\n",
      "  petit (1.30)\n"
     ]
    },
    {
     "name": "stderr",
     "output_type": "stream",
     "text": [
      "/opt/anaconda3/lib/python3.8/site-packages/ipykernel/ipkernel.py:287: DeprecationWarning: `should_run_async` will not call `transform_cell` automatically in the future. Please pass the result to `transformed_cell` argument and any exception that happen during thetransform in `preprocessing_exc_tuple` in IPython 7.17 and above.\n",
      "  and should_run_async(code)\n",
      "/opt/anaconda3/lib/python3.8/site-packages/sklearn/utils/deprecation.py:87: FutureWarning: Function get_feature_names is deprecated; get_feature_names is deprecated in 1.0 and will be removed in 1.2. Please use get_feature_names_out instead.\n",
      "  warnings.warn(msg, category=FutureWarning)\n"
     ]
    }
   ],
   "source": [
    "display_topics(nmf_text_model, tfidf_text_vectorizer.get_feature_names())"
   ]
  },
  {
   "cell_type": "markdown",
   "metadata": {},
   "source": [
    "## Fitting an LDA Model"
   ]
  },
  {
   "cell_type": "code",
   "execution_count": 24,
   "metadata": {},
   "outputs": [
    {
     "name": "stderr",
     "output_type": "stream",
     "text": [
      "/opt/anaconda3/lib/python3.8/site-packages/ipykernel/ipkernel.py:287: DeprecationWarning: `should_run_async` will not call `transform_cell` automatically in the future. Please pass the result to `transformed_cell` argument and any exception that happen during thetransform in `preprocessing_exc_tuple` in IPython 7.17 and above.\n",
      "  and should_run_async(code)\n"
     ]
    }
   ],
   "source": [
    "# Fit your LDA model here\n",
    "from sklearn.decomposition import LatentDirichletAllocation\n",
    "\n",
    "lda_text_model = LatentDirichletAllocation(n_components = 10, random_state=42)"
   ]
  },
  {
   "cell_type": "code",
   "execution_count": 25,
   "metadata": {},
   "outputs": [
    {
     "name": "stderr",
     "output_type": "stream",
     "text": [
      "/opt/anaconda3/lib/python3.8/site-packages/ipykernel/ipkernel.py:287: DeprecationWarning: `should_run_async` will not call `transform_cell` automatically in the future. Please pass the result to `transformed_cell` argument and any exception that happen during thetransform in `preprocessing_exc_tuple` in IPython 7.17 and above.\n",
      "  and should_run_async(code)\n"
     ]
    }
   ],
   "source": [
    "#creating the matrix \n",
    "W_lda_text_matrix = lda_text_model.fit_transform(count_text_vectors)\n",
    "H_lda_text_matrix = lda_text_model.components_"
   ]
  },
  {
   "cell_type": "code",
   "execution_count": 26,
   "metadata": {},
   "outputs": [
    {
     "name": "stderr",
     "output_type": "stream",
     "text": [
      "/opt/anaconda3/lib/python3.8/site-packages/ipykernel/ipkernel.py:287: DeprecationWarning: `should_run_async` will not call `transform_cell` automatically in the future. Please pass the result to `transformed_cell` argument and any exception that happen during thetransform in `preprocessing_exc_tuple` in IPython 7.17 and above.\n",
      "  and should_run_async(code)\n"
     ]
    }
   ],
   "source": [
    "#saving the matrix of the new topic \n",
    "wine_df[\"lda_topic\"] = np.argmax(W_lda_text_matrix, axis = 1).astype(str)"
   ]
  },
  {
   "cell_type": "code",
   "execution_count": 28,
   "metadata": {},
   "outputs": [
    {
     "name": "stdout",
     "output_type": "stream",
     "text": [
      "topic 3 observes original label counts of:\n",
      "red          503\n",
      "white         94\n",
      "champagne      8\n",
      "sparkling      8\n",
      "Name: category, dtype: int64\n",
      "\n",
      "topic 4 observes original label counts of:\n",
      "red          1341\n",
      "sparkling      30\n",
      "champagne      30\n",
      "white          16\n",
      "Name: category, dtype: int64\n",
      "\n",
      "topic 7 observes original label counts of:\n",
      "red          1068\n",
      "white           4\n",
      "sparkling       2\n",
      "champagne       2\n",
      "Name: category, dtype: int64\n",
      "\n",
      "topic 0 observes original label counts of:\n",
      "red          3822\n",
      "white        2266\n",
      "champagne     391\n",
      "sparkling     391\n",
      "Name: category, dtype: int64\n",
      "\n",
      "topic 8 observes original label counts of:\n",
      "red      719\n",
      "white      6\n",
      "Name: category, dtype: int64\n",
      "\n",
      "topic 2 observes original label counts of:\n",
      "white        81\n",
      "champagne    44\n",
      "sparkling    44\n",
      "red           7\n",
      "Name: category, dtype: int64\n",
      "\n",
      "topic 1 observes original label counts of:\n",
      "white        146\n",
      "champagne    104\n",
      "sparkling    104\n",
      "red           25\n",
      "Name: category, dtype: int64\n",
      "\n",
      "topic 6 observes original label counts of:\n",
      "red          341\n",
      "white        160\n",
      "champagne      1\n",
      "sparkling      1\n",
      "Name: category, dtype: int64\n",
      "\n",
      "topic 5 observes original label counts of:\n",
      "champagne    212\n",
      "sparkling    212\n",
      "white         10\n",
      "red            2\n",
      "Name: category, dtype: int64\n",
      "\n",
      "topic 9 observes original label counts of:\n",
      "white        1017\n",
      "sparkling     114\n",
      "champagne     114\n",
      "red            21\n",
      "Name: category, dtype: int64\n",
      "\n"
     ]
    },
    {
     "name": "stderr",
     "output_type": "stream",
     "text": [
      "/opt/anaconda3/lib/python3.8/site-packages/ipykernel/ipkernel.py:287: DeprecationWarning: `should_run_async` will not call `transform_cell` automatically in the future. Please pass the result to `transformed_cell` argument and any exception that happen during thetransform in `preprocessing_exc_tuple` in IPython 7.17 and above.\n",
      "  and should_run_async(code)\n"
     ]
    }
   ],
   "source": [
    "#for loop that count the unique topic \n",
    "for label in wine_df['lda_topic'].unique():\n",
    "    print(f\"topic {label} observes original label counts of:\")\n",
    "    print(wine_df[wine_df['lda_topic'] == label]['category'].value_counts())\n",
    "    print()"
   ]
  }
 ],
 "metadata": {
  "interpreter": {
   "hash": "aee8b7b246df8f9039afb4144a1f6fd8d2ca17a180786b69acc140d282b71a49"
  },
  "kernelspec": {
   "display_name": "Python 3.9.6 64-bit",
   "language": "python",
   "name": "python3"
  },
  "language_info": {
   "codemirror_mode": {
    "name": "ipython",
    "version": 3
   },
   "file_extension": ".py",
   "mimetype": "text/x-python",
   "name": "python",
   "nbconvert_exporter": "python",
   "pygments_lexer": "ipython3",
   "version": "3.8.8"
  },
  "orig_nbformat": 4
 },
 "nbformat": 4,
 "nbformat_minor": 2
}
