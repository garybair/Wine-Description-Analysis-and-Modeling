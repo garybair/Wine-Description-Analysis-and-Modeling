{
 "cells": [
  {
   "cell_type": "markdown",
   "id": "694c83fc",
   "metadata": {},
   "source": [
    "# Descriptive Statistics"
   ]
  },
  {
   "cell_type": "code",
   "execution_count": 1,
   "id": "416740f9",
   "metadata": {},
   "outputs": [],
   "source": [
    "#imports\n",
    "import numpy as np\n",
    "import pandas as pd\n",
    "import os\n",
    "import matplotlib.pyplot as plt\n",
    "import seaborn as sns\n",
    "\n",
    "from collections import Counter, defaultdict"
   ]
  },
  {
   "cell_type": "code",
   "execution_count": 2,
   "id": "eb747d85",
   "metadata": {},
   "outputs": [],
   "source": [
    "#directory locations\n",
    "current_directory = os.getcwd()\n",
    "parent_directory = os.path.dirname(current_directory)\n",
    "processed_folder = parent_directory + '/data/wine-com/processed/'"
   ]
  },
  {
   "cell_type": "markdown",
   "id": "9bb72b73",
   "metadata": {},
   "source": [
    "### Load Data"
   ]
  },
  {
   "cell_type": "code",
   "execution_count": 3,
   "id": "a99e87da",
   "metadata": {},
   "outputs": [],
   "source": [
    "df = pd.read_csv(processed_folder + '1677432096.083379.txt', sep = '|')"
   ]
  },
  {
   "cell_type": "code",
   "execution_count": 4,
   "id": "b3288527",
   "metadata": {},
   "outputs": [
    {
     "data": {
      "text/html": [
       "<div>\n",
       "<style scoped>\n",
       "    .dataframe tbody tr th:only-of-type {\n",
       "        vertical-align: middle;\n",
       "    }\n",
       "\n",
       "    .dataframe tbody tr th {\n",
       "        vertical-align: top;\n",
       "    }\n",
       "\n",
       "    .dataframe thead th {\n",
       "        text-align: right;\n",
       "    }\n",
       "</style>\n",
       "<table border=\"1\" class=\"dataframe\">\n",
       "  <thead>\n",
       "    <tr style=\"text-align: right;\">\n",
       "      <th></th>\n",
       "      <th>product_url</th>\n",
       "      <th>product_name</th>\n",
       "      <th>product_variety</th>\n",
       "      <th>product_origin</th>\n",
       "      <th>product_family</th>\n",
       "      <th>user_avg_rating</th>\n",
       "      <th>user_rating_count</th>\n",
       "      <th>winemaker_description</th>\n",
       "      <th>reviewer_name</th>\n",
       "      <th>reviewer_rating</th>\n",
       "      <th>reviewer_text</th>\n",
       "    </tr>\n",
       "  </thead>\n",
       "  <tbody>\n",
       "    <tr>\n",
       "      <th>0</th>\n",
       "      <td>https://www.wine.com/product/proyecto-salvaje-...</td>\n",
       "      <td>Proyecto Salvaje del Moncayo Garnacha 2020</td>\n",
       "      <td>Grenache</td>\n",
       "      <td>from Navarra, Spain</td>\n",
       "      <td>Red Wine</td>\n",
       "      <td>4.8</td>\n",
       "      <td>19</td>\n",
       "      <td>bright burgundy wine medium depth tobacco wild...</td>\n",
       "      <td>Decanter</td>\n",
       "      <td>92.0</td>\n",
       "      <td>part proyecto garnachas de españa collection s...</td>\n",
       "    </tr>\n",
       "    <tr>\n",
       "      <th>1</th>\n",
       "      <td>https://www.wine.com/product/proyecto-salvaje-...</td>\n",
       "      <td>Proyecto Salvaje del Moncayo Garnacha 2020</td>\n",
       "      <td>Grenache</td>\n",
       "      <td>from Navarra, Spain</td>\n",
       "      <td>Red Wine</td>\n",
       "      <td>4.8</td>\n",
       "      <td>19</td>\n",
       "      <td>bright burgundy wine medium depth tobacco wild...</td>\n",
       "      <td>Wilfred Wong of Wine.com</td>\n",
       "      <td>91.0</td>\n",
       "      <td>commentary 2020 proyecto garnachas salvaje del...</td>\n",
       "    </tr>\n",
       "    <tr>\n",
       "      <th>2</th>\n",
       "      <td>https://www.wine.com/product/domaine-du-terme-...</td>\n",
       "      <td>Domaine du Terme Gigondas 2019</td>\n",
       "      <td>Rhone Red Blends</td>\n",
       "      <td>from Gigondas, Rhone, France</td>\n",
       "      <td>Red Wine</td>\n",
       "      <td>4.0</td>\n",
       "      <td>17</td>\n",
       "      <td>NaN</td>\n",
       "      <td>Wine &amp; Spirits</td>\n",
       "      <td>96.0</td>\n",
       "      <td>spectacular gigondas wine red cherry flavors s...</td>\n",
       "    </tr>\n",
       "    <tr>\n",
       "      <th>3</th>\n",
       "      <td>https://www.wine.com/product/domaine-du-terme-...</td>\n",
       "      <td>Domaine du Terme Gigondas 2019</td>\n",
       "      <td>Rhone Red Blends</td>\n",
       "      <td>from Gigondas, Rhone, France</td>\n",
       "      <td>Red Wine</td>\n",
       "      <td>4.0</td>\n",
       "      <td>17</td>\n",
       "      <td>NaN</td>\n",
       "      <td>Decanter</td>\n",
       "      <td>94.0</td>\n",
       "      <td>straight first sniff clear going special soari...</td>\n",
       "    </tr>\n",
       "    <tr>\n",
       "      <th>4</th>\n",
       "      <td>https://www.wine.com/product/scott-harvey-moun...</td>\n",
       "      <td>Scott Harvey Mountain Selection Zinfandel 2019</td>\n",
       "      <td>Zinfandel</td>\n",
       "      <td>from Amador, Sierra Foothills, California</td>\n",
       "      <td>Red Wine</td>\n",
       "      <td>4.3</td>\n",
       "      <td>39</td>\n",
       "      <td>fruit forward rich full flavors expressing var...</td>\n",
       "      <td>Wine Enthusiast</td>\n",
       "      <td>93.0</td>\n",
       "      <td>fresh smelling full bodied flavor packed wine ...</td>\n",
       "    </tr>\n",
       "  </tbody>\n",
       "</table>\n",
       "</div>"
      ],
      "text/plain": [
       "                                         product_url  \\\n",
       "0  https://www.wine.com/product/proyecto-salvaje-...   \n",
       "1  https://www.wine.com/product/proyecto-salvaje-...   \n",
       "2  https://www.wine.com/product/domaine-du-terme-...   \n",
       "3  https://www.wine.com/product/domaine-du-terme-...   \n",
       "4  https://www.wine.com/product/scott-harvey-moun...   \n",
       "\n",
       "                                     product_name   product_variety  \\\n",
       "0      Proyecto Salvaje del Moncayo Garnacha 2020          Grenache   \n",
       "1      Proyecto Salvaje del Moncayo Garnacha 2020          Grenache   \n",
       "2                  Domaine du Terme Gigondas 2019  Rhone Red Blends   \n",
       "3                  Domaine du Terme Gigondas 2019  Rhone Red Blends   \n",
       "4  Scott Harvey Mountain Selection Zinfandel 2019         Zinfandel   \n",
       "\n",
       "                               product_origin product_family  user_avg_rating  \\\n",
       "0                         from Navarra, Spain       Red Wine              4.8   \n",
       "1                         from Navarra, Spain       Red Wine              4.8   \n",
       "2                from Gigondas, Rhone, France       Red Wine              4.0   \n",
       "3                from Gigondas, Rhone, France       Red Wine              4.0   \n",
       "4   from Amador, Sierra Foothills, California       Red Wine              4.3   \n",
       "\n",
       "   user_rating_count                              winemaker_description  \\\n",
       "0                 19  bright burgundy wine medium depth tobacco wild...   \n",
       "1                 19  bright burgundy wine medium depth tobacco wild...   \n",
       "2                 17                                                NaN   \n",
       "3                 17                                                NaN   \n",
       "4                 39  fruit forward rich full flavors expressing var...   \n",
       "\n",
       "              reviewer_name  reviewer_rating  \\\n",
       "0                  Decanter             92.0   \n",
       "1  Wilfred Wong of Wine.com             91.0   \n",
       "2            Wine & Spirits             96.0   \n",
       "3                  Decanter             94.0   \n",
       "4           Wine Enthusiast             93.0   \n",
       "\n",
       "                                       reviewer_text  \n",
       "0  part proyecto garnachas de españa collection s...  \n",
       "1  commentary 2020 proyecto garnachas salvaje del...  \n",
       "2  spectacular gigondas wine red cherry flavors s...  \n",
       "3  straight first sniff clear going special soari...  \n",
       "4  fresh smelling full bodied flavor packed wine ...  "
      ]
     },
     "execution_count": 4,
     "metadata": {},
     "output_type": "execute_result"
    }
   ],
   "source": [
    "df.head()"
   ]
  },
  {
   "cell_type": "code",
   "execution_count": 5,
   "id": "ee8ef1b2",
   "metadata": {},
   "outputs": [
    {
     "name": "stdout",
     "output_type": "stream",
     "text": [
      "<class 'pandas.core.frame.DataFrame'>\n",
      "RangeIndex: 20988 entries, 0 to 20987\n",
      "Data columns (total 11 columns):\n",
      " #   Column                 Non-Null Count  Dtype  \n",
      "---  ------                 --------------  -----  \n",
      " 0   product_url            20988 non-null  object \n",
      " 1   product_name           20988 non-null  object \n",
      " 2   product_variety        20988 non-null  object \n",
      " 3   product_origin         20986 non-null  object \n",
      " 4   product_family         20988 non-null  object \n",
      " 5   user_avg_rating        20988 non-null  float64\n",
      " 6   user_rating_count      20988 non-null  int64  \n",
      " 7   winemaker_description  19337 non-null  object \n",
      " 8   reviewer_name          14537 non-null  object \n",
      " 9   reviewer_rating        14537 non-null  float64\n",
      " 10  reviewer_text          14494 non-null  object \n",
      "dtypes: float64(2), int64(1), object(8)\n",
      "memory usage: 1.8+ MB\n"
     ]
    }
   ],
   "source": [
    "df.info()"
   ]
  },
  {
   "cell_type": "markdown",
   "id": "1a684e64",
   "metadata": {},
   "source": [
    "To aid descriptive analysis, two subsets of this dataframe will be created based on unique winemaker descriptions and unique critical reviews."
   ]
  },
  {
   "cell_type": "code",
   "execution_count": 8,
   "id": "ed630e12",
   "metadata": {},
   "outputs": [],
   "source": [
    "description_df = df[['product_name', \n",
    "                     'product_family', \n",
    "                     'user_avg_rating', \n",
    "                     'user_rating_count', \n",
    "                     'winemaker_description']].drop_duplicates(subset = ['product_name'])"
   ]
  },
  {
   "cell_type": "code",
   "execution_count": 9,
   "id": "54209f86",
   "metadata": {},
   "outputs": [],
   "source": [
    "review_df = df[['product_name', \n",
    "                'product_family', \n",
    "                'reviewer_name', \n",
    "                'reviewer_rating', \n",
    "                'reviewer_text']]"
   ]
  },
  {
   "cell_type": "markdown",
   "id": "63c6d736",
   "metadata": {},
   "source": [
    "### Basic Descriptive Statistics"
   ]
  },
  {
   "cell_type": "code",
   "execution_count": 10,
   "id": "132ead17",
   "metadata": {},
   "outputs": [
    {
     "data": {
      "text/plain": [
       "product_url              13672\n",
       "product_name             13672\n",
       "product_variety            134\n",
       "product_origin             441\n",
       "product_family               5\n",
       "user_avg_rating             35\n",
       "user_rating_count          270\n",
       "winemaker_description    12258\n",
       "reviewer_name               16\n",
       "reviewer_rating             13\n",
       "reviewer_text            14070\n",
       "dtype: int64"
      ]
     },
     "execution_count": 10,
     "metadata": {},
     "output_type": "execute_result"
    }
   ],
   "source": [
    "df.nunique()"
   ]
  },
  {
   "cell_type": "markdown",
   "id": "b5f2c0ff",
   "metadata": {},
   "source": [
    "Of note, this dataset contains 13, 672 unique products across 134 vartietals and 5 distinct wine types. On a posotive note for this analysis, descriptions provided by wine makers do not outnumber the quantity of professional reviews.\n",
    "\n",
    "To ensure that sufficient coverage is present across wine types, the above statistics will be recomputed for each unique wine type."
   ]
  },
  {
   "cell_type": "code",
   "execution_count": 11,
   "id": "e92a62a5",
   "metadata": {
    "scrolled": false
   },
   "outputs": [
    {
     "data": {
      "text/html": [
       "<div>\n",
       "<style scoped>\n",
       "    .dataframe tbody tr th:only-of-type {\n",
       "        vertical-align: middle;\n",
       "    }\n",
       "\n",
       "    .dataframe tbody tr th {\n",
       "        vertical-align: top;\n",
       "    }\n",
       "\n",
       "    .dataframe thead tr th {\n",
       "        text-align: left;\n",
       "    }\n",
       "\n",
       "    .dataframe thead tr:last-of-type th {\n",
       "        text-align: right;\n",
       "    }\n",
       "</style>\n",
       "<table border=\"1\" class=\"dataframe\">\n",
       "  <thead>\n",
       "    <tr>\n",
       "      <th></th>\n",
       "      <th colspan=\"8\" halign=\"left\">user_avg_rating</th>\n",
       "      <th colspan=\"8\" halign=\"left\">user_rating_count</th>\n",
       "    </tr>\n",
       "    <tr>\n",
       "      <th></th>\n",
       "      <th>count</th>\n",
       "      <th>mean</th>\n",
       "      <th>std</th>\n",
       "      <th>min</th>\n",
       "      <th>25%</th>\n",
       "      <th>50%</th>\n",
       "      <th>75%</th>\n",
       "      <th>max</th>\n",
       "      <th>count</th>\n",
       "      <th>mean</th>\n",
       "      <th>std</th>\n",
       "      <th>min</th>\n",
       "      <th>25%</th>\n",
       "      <th>50%</th>\n",
       "      <th>75%</th>\n",
       "      <th>max</th>\n",
       "    </tr>\n",
       "    <tr>\n",
       "      <th>product_family</th>\n",
       "      <th></th>\n",
       "      <th></th>\n",
       "      <th></th>\n",
       "      <th></th>\n",
       "      <th></th>\n",
       "      <th></th>\n",
       "      <th></th>\n",
       "      <th></th>\n",
       "      <th></th>\n",
       "      <th></th>\n",
       "      <th></th>\n",
       "      <th></th>\n",
       "      <th></th>\n",
       "      <th></th>\n",
       "      <th></th>\n",
       "      <th></th>\n",
       "    </tr>\n",
       "  </thead>\n",
       "  <tbody>\n",
       "    <tr>\n",
       "      <th>Champagne &amp; Sparkling</th>\n",
       "      <td>1067.0</td>\n",
       "      <td>2.192690</td>\n",
       "      <td>2.038399</td>\n",
       "      <td>0.0</td>\n",
       "      <td>0.0</td>\n",
       "      <td>3.5</td>\n",
       "      <td>4.1</td>\n",
       "      <td>5.0</td>\n",
       "      <td>1067.0</td>\n",
       "      <td>49.145267</td>\n",
       "      <td>135.037534</td>\n",
       "      <td>0.0</td>\n",
       "      <td>0.0</td>\n",
       "      <td>7.0</td>\n",
       "      <td>40.5</td>\n",
       "      <td>1884.0</td>\n",
       "    </tr>\n",
       "    <tr>\n",
       "      <th>Dessert, Sherry, &amp; Port</th>\n",
       "      <td>405.0</td>\n",
       "      <td>2.373827</td>\n",
       "      <td>2.071400</td>\n",
       "      <td>0.0</td>\n",
       "      <td>0.0</td>\n",
       "      <td>3.6</td>\n",
       "      <td>4.2</td>\n",
       "      <td>5.0</td>\n",
       "      <td>405.0</td>\n",
       "      <td>32.758025</td>\n",
       "      <td>73.199245</td>\n",
       "      <td>0.0</td>\n",
       "      <td>0.0</td>\n",
       "      <td>9.0</td>\n",
       "      <td>31.0</td>\n",
       "      <td>619.0</td>\n",
       "    </tr>\n",
       "    <tr>\n",
       "      <th>Red Wine</th>\n",
       "      <td>7752.0</td>\n",
       "      <td>1.192363</td>\n",
       "      <td>1.869361</td>\n",
       "      <td>0.0</td>\n",
       "      <td>0.0</td>\n",
       "      <td>0.0</td>\n",
       "      <td>3.6</td>\n",
       "      <td>5.0</td>\n",
       "      <td>7752.0</td>\n",
       "      <td>7.779799</td>\n",
       "      <td>35.387293</td>\n",
       "      <td>0.0</td>\n",
       "      <td>0.0</td>\n",
       "      <td>0.0</td>\n",
       "      <td>6.0</td>\n",
       "      <td>1849.0</td>\n",
       "    </tr>\n",
       "    <tr>\n",
       "      <th>Rosé Wine</th>\n",
       "      <td>415.0</td>\n",
       "      <td>1.305301</td>\n",
       "      <td>1.929887</td>\n",
       "      <td>0.0</td>\n",
       "      <td>0.0</td>\n",
       "      <td>0.0</td>\n",
       "      <td>3.8</td>\n",
       "      <td>5.0</td>\n",
       "      <td>415.0</td>\n",
       "      <td>10.344578</td>\n",
       "      <td>42.256856</td>\n",
       "      <td>0.0</td>\n",
       "      <td>0.0</td>\n",
       "      <td>0.0</td>\n",
       "      <td>7.0</td>\n",
       "      <td>645.0</td>\n",
       "    </tr>\n",
       "    <tr>\n",
       "      <th>White Wine</th>\n",
       "      <td>4033.0</td>\n",
       "      <td>1.096157</td>\n",
       "      <td>1.817765</td>\n",
       "      <td>0.0</td>\n",
       "      <td>0.0</td>\n",
       "      <td>0.0</td>\n",
       "      <td>3.4</td>\n",
       "      <td>5.0</td>\n",
       "      <td>4033.0</td>\n",
       "      <td>5.987354</td>\n",
       "      <td>28.261211</td>\n",
       "      <td>0.0</td>\n",
       "      <td>0.0</td>\n",
       "      <td>0.0</td>\n",
       "      <td>5.0</td>\n",
       "      <td>1013.0</td>\n",
       "    </tr>\n",
       "  </tbody>\n",
       "</table>\n",
       "</div>"
      ],
      "text/plain": [
       "                        user_avg_rating                                     \\\n",
       "                                  count      mean       std  min  25%  50%   \n",
       "product_family                                                               \n",
       "Champagne & Sparkling            1067.0  2.192690  2.038399  0.0  0.0  3.5   \n",
       "Dessert, Sherry, & Port           405.0  2.373827  2.071400  0.0  0.0  3.6   \n",
       "Red Wine                         7752.0  1.192363  1.869361  0.0  0.0  0.0   \n",
       "Rosé Wine                         415.0  1.305301  1.929887  0.0  0.0  0.0   \n",
       "White Wine                       4033.0  1.096157  1.817765  0.0  0.0  0.0   \n",
       "\n",
       "                                  user_rating_count                         \\\n",
       "                         75%  max             count       mean         std   \n",
       "product_family                                                               \n",
       "Champagne & Sparkling    4.1  5.0            1067.0  49.145267  135.037534   \n",
       "Dessert, Sherry, & Port  4.2  5.0             405.0  32.758025   73.199245   \n",
       "Red Wine                 3.6  5.0            7752.0   7.779799   35.387293   \n",
       "Rosé Wine                3.8  5.0             415.0  10.344578   42.256856   \n",
       "White Wine               3.4  5.0            4033.0   5.987354   28.261211   \n",
       "\n",
       "                                                      \n",
       "                         min  25%  50%   75%     max  \n",
       "product_family                                        \n",
       "Champagne & Sparkling    0.0  0.0  7.0  40.5  1884.0  \n",
       "Dessert, Sherry, & Port  0.0  0.0  9.0  31.0   619.0  \n",
       "Red Wine                 0.0  0.0  0.0   6.0  1849.0  \n",
       "Rosé Wine                0.0  0.0  0.0   7.0   645.0  \n",
       "White Wine               0.0  0.0  0.0   5.0  1013.0  "
      ]
     },
     "execution_count": 11,
     "metadata": {},
     "output_type": "execute_result"
    }
   ],
   "source": [
    "description_df.groupby('product_family').describe()"
   ]
  },
  {
   "cell_type": "code",
   "execution_count": 12,
   "id": "2d3552fe",
   "metadata": {},
   "outputs": [
    {
     "data": {
      "text/html": [
       "<div>\n",
       "<style scoped>\n",
       "    .dataframe tbody tr th:only-of-type {\n",
       "        vertical-align: middle;\n",
       "    }\n",
       "\n",
       "    .dataframe tbody tr th {\n",
       "        vertical-align: top;\n",
       "    }\n",
       "\n",
       "    .dataframe thead tr th {\n",
       "        text-align: left;\n",
       "    }\n",
       "\n",
       "    .dataframe thead tr:last-of-type th {\n",
       "        text-align: right;\n",
       "    }\n",
       "</style>\n",
       "<table border=\"1\" class=\"dataframe\">\n",
       "  <thead>\n",
       "    <tr>\n",
       "      <th></th>\n",
       "      <th colspan=\"8\" halign=\"left\">reviewer_rating</th>\n",
       "    </tr>\n",
       "    <tr>\n",
       "      <th></th>\n",
       "      <th>count</th>\n",
       "      <th>mean</th>\n",
       "      <th>std</th>\n",
       "      <th>min</th>\n",
       "      <th>25%</th>\n",
       "      <th>50%</th>\n",
       "      <th>75%</th>\n",
       "      <th>max</th>\n",
       "    </tr>\n",
       "    <tr>\n",
       "      <th>product_family</th>\n",
       "      <th></th>\n",
       "      <th></th>\n",
       "      <th></th>\n",
       "      <th></th>\n",
       "      <th></th>\n",
       "      <th></th>\n",
       "      <th></th>\n",
       "      <th></th>\n",
       "    </tr>\n",
       "  </thead>\n",
       "  <tbody>\n",
       "    <tr>\n",
       "      <th>Champagne &amp; Sparkling</th>\n",
       "      <td>1553.0</td>\n",
       "      <td>92.007083</td>\n",
       "      <td>2.080983</td>\n",
       "      <td>88.0</td>\n",
       "      <td>90.0</td>\n",
       "      <td>92.0</td>\n",
       "      <td>93.0</td>\n",
       "      <td>100.0</td>\n",
       "    </tr>\n",
       "    <tr>\n",
       "      <th>Dessert, Sherry, &amp; Port</th>\n",
       "      <td>687.0</td>\n",
       "      <td>93.126638</td>\n",
       "      <td>2.376385</td>\n",
       "      <td>89.0</td>\n",
       "      <td>91.0</td>\n",
       "      <td>93.0</td>\n",
       "      <td>95.0</td>\n",
       "      <td>99.0</td>\n",
       "    </tr>\n",
       "    <tr>\n",
       "      <th>Red Wine</th>\n",
       "      <td>9205.0</td>\n",
       "      <td>92.913525</td>\n",
       "      <td>2.278310</td>\n",
       "      <td>88.0</td>\n",
       "      <td>91.0</td>\n",
       "      <td>93.0</td>\n",
       "      <td>94.0</td>\n",
       "      <td>100.0</td>\n",
       "    </tr>\n",
       "    <tr>\n",
       "      <th>Rosé Wine</th>\n",
       "      <td>237.0</td>\n",
       "      <td>91.075949</td>\n",
       "      <td>1.549512</td>\n",
       "      <td>88.0</td>\n",
       "      <td>90.0</td>\n",
       "      <td>91.0</td>\n",
       "      <td>92.0</td>\n",
       "      <td>97.0</td>\n",
       "    </tr>\n",
       "    <tr>\n",
       "      <th>White Wine</th>\n",
       "      <td>2855.0</td>\n",
       "      <td>92.177933</td>\n",
       "      <td>2.038660</td>\n",
       "      <td>88.0</td>\n",
       "      <td>91.0</td>\n",
       "      <td>92.0</td>\n",
       "      <td>93.0</td>\n",
       "      <td>100.0</td>\n",
       "    </tr>\n",
       "  </tbody>\n",
       "</table>\n",
       "</div>"
      ],
      "text/plain": [
       "                        reviewer_rating                                   \\\n",
       "                                  count       mean       std   min   25%   \n",
       "product_family                                                             \n",
       "Champagne & Sparkling            1553.0  92.007083  2.080983  88.0  90.0   \n",
       "Dessert, Sherry, & Port           687.0  93.126638  2.376385  89.0  91.0   \n",
       "Red Wine                         9205.0  92.913525  2.278310  88.0  91.0   \n",
       "Rosé Wine                         237.0  91.075949  1.549512  88.0  90.0   \n",
       "White Wine                       2855.0  92.177933  2.038660  88.0  91.0   \n",
       "\n",
       "                                            \n",
       "                          50%   75%    max  \n",
       "product_family                              \n",
       "Champagne & Sparkling    92.0  93.0  100.0  \n",
       "Dessert, Sherry, & Port  93.0  95.0   99.0  \n",
       "Red Wine                 93.0  94.0  100.0  \n",
       "Rosé Wine                91.0  92.0   97.0  \n",
       "White Wine               92.0  93.0  100.0  "
      ]
     },
     "execution_count": 12,
     "metadata": {},
     "output_type": "execute_result"
    }
   ],
   "source": [
    "review_df.groupby('product_family').describe()"
   ]
  },
  {
   "cell_type": "markdown",
   "id": "a78cc270",
   "metadata": {},
   "source": [
    "Looking at the product counts for each data frame indicate that there is some significant imbalance present in wines available for purchase and that the range of ratings values between user and critic reviews vary significantly.\n",
    "\n",
    "Another aspect worth noting is that unless the text bodies of 'description' and 'review' are proven to diverge significantly, predictive models would likely benefit from combining these fields into a single corpus."
   ]
  },
  {
   "cell_type": "markdown",
   "id": "3ee63c8c",
   "metadata": {},
   "source": [
    "### 'Description' Analysis"
   ]
  },
  {
   "cell_type": "code",
   "execution_count": 13,
   "id": "713c4616",
   "metadata": {},
   "outputs": [],
   "source": [
    "#lifted from homwork\n",
    "def descriptive_stats(tokens, num_tokens = 10, verbose=True):\n",
    "    tokens_str = tokens.astype(str)\n",
    "    joined_series_tokens = ' '.join(tokens_str)\n",
    "    tokens = joined_series_tokens.split()\n",
    "    \n",
    "    num_tokens = len(tokens)\n",
    "    num_unique_tokens = len(set(tokens))\n",
    "    lexical_diversity = num_unique_tokens/num_tokens #defined as unique tokens to the total number of words\n",
    "    num_characters = sum(len(i) for i in tokens)\n",
    "    \n",
    "    if verbose :        \n",
    "        print(f\"There are {num_tokens} tokens in the data.\")\n",
    "        print(f\"There are {num_unique_tokens} unique tokens in the data.\")\n",
    "        print(f\"There are {num_characters} characters in the data.\")\n",
    "        print(f\"The lexical diversity is {lexical_diversity:.3f} in the data.\")\n",
    "    \n",
    "        # find five most common tokens\n",
    "        counter = Counter(tokens)\n",
    "        n_most_common_tokens = counter.most_common(10)\n",
    "        print(f\"The {num_tokens} most common tokens were:\\n{n_most_common_tokens}\")\n",
    "        \n",
    "    return([num_tokens, num_unique_tokens,\n",
    "            lexical_diversity,\n",
    "            num_characters])"
   ]
  },
  {
   "cell_type": "code",
   "execution_count": 14,
   "id": "dd7c5886",
   "metadata": {
    "scrolled": false
   },
   "outputs": [
    {
     "name": "stdout",
     "output_type": "stream",
     "text": [
      "Red Wine Outputs\n",
      "\n",
      "There are 255855 tokens in the data.\n",
      "There are 13949 unique tokens in the data.\n",
      "There are 1550509 characters in the data.\n",
      "The lexical diversity is 0.055 in the data.\n",
      "The 255855 most common tokens were:\n",
      "[('wine', 5058), ('red', 4884), ('fruit', 3426), ('tannins', 2993), ('notes', 2908), ('palate', 2904), ('aromas', 2824), ('black', 2652), ('finish', 2518), ('cherry', 2226)]\n",
      "\n",
      "\n",
      "White Wine Outputs\n",
      "\n",
      "There are 130342 tokens in the data.\n",
      "There are 10225 unique tokens in the data.\n",
      "There are 808703 characters in the data.\n",
      "The lexical diversity is 0.078 in the data.\n",
      "The 130342 most common tokens were:\n",
      "[('wine', 2658), ('fruit', 1596), ('palate', 1590), ('white', 1520), ('aromas', 1477), ('notes', 1471), ('fresh', 1461), ('finish', 1284), ('acidity', 1213), ('citrus', 1195)]\n",
      "\n",
      "\n",
      "Champagne & Sparkling Outputs\n",
      "\n",
      "There are 46992 tokens in the data.\n",
      "There are 5724 unique tokens in the data.\n",
      "There are 291806 characters in the data.\n",
      "The lexical diversity is 0.122 in the data.\n",
      "The 46992 most common tokens were:\n",
      "[('wine', 799), ('notes', 512), ('fresh', 511), ('pinot', 509), ('palate', 485), ('fruit', 453), ('aromas', 452), ('fine', 378), ('blend', 369), ('finish', 359)]\n",
      "\n",
      "\n",
      "Rosé Wine Outputs\n",
      "\n",
      "There are 14862 tokens in the data.\n",
      "There are 2987 unique tokens in the data.\n",
      "There are 91266 characters in the data.\n",
      "The lexical diversity is 0.201 in the data.\n",
      "The 14862 most common tokens were:\n",
      "[('rosé', 244), ('wine', 230), ('fresh', 212), ('palate', 182), ('notes', 174), ('pink', 160), ('finish', 156), ('aromas', 153), ('color', 148), ('red', 147)]\n",
      "\n",
      "\n",
      "Dessert, Sherry, & Port Outputs\n",
      "\n",
      "There are 17022 tokens in the data.\n",
      "There are 3427 unique tokens in the data.\n",
      "There are 104522 characters in the data.\n",
      "The lexical diversity is 0.201 in the data.\n",
      "The 17022 most common tokens were:\n",
      "[('wine', 339), ('fruit', 177), ('palate', 169), ('aromas', 156), ('color', 152), ('finish', 151), ('notes', 131), ('rich', 115), ('fresh', 112), ('port', 107)]\n",
      "\n",
      "\n"
     ]
    }
   ],
   "source": [
    "unique_wines = description_df['product_family'].unique()\n",
    "\n",
    "for wine_types in unique_wines:\n",
    "    tmp = description_df[description_df['product_family'] == wine_types]\n",
    "    print(f'{wine_types} Outputs\\n')\n",
    "    descriptive_stats(tmp['winemaker_description'])\n",
    "    print('\\n')"
   ]
  },
  {
   "cell_type": "markdown",
   "id": "89c006e4",
   "metadata": {},
   "source": [
    "### 'Review' Analysis"
   ]
  },
  {
   "cell_type": "code",
   "execution_count": 19,
   "id": "72a2f887",
   "metadata": {},
   "outputs": [
    {
     "name": "stdout",
     "output_type": "stream",
     "text": [
      "Red Wine Outputs\n",
      "\n",
      "There are 337417 tokens in the data.\n",
      "There are 13358 unique tokens in the data.\n",
      "There are 1982860 characters in the data.\n",
      "The lexical diversity is 0.040 in the data.\n",
      "The 337417 most common tokens were:\n",
      "[('tannins', 4972), ('fruit', 4119), ('wine', 4114), ('finish', 3565), ('black', 3483), ('nan', 3420), ('bodied', 3326), ('red', 3175), ('full', 3016), ('palate', 2957)]\n",
      "\n",
      "\n",
      "White Wine Outputs\n",
      "\n",
      "There are 94927 tokens in the data.\n",
      "There are 7744 unique tokens in the data.\n",
      "There are 560822 characters in the data.\n",
      "The lexical diversity is 0.082 in the data.\n",
      "The 94927 most common tokens were:\n",
      "[('nan', 2280), ('finish', 1270), ('white', 1110), ('wine', 1057), ('palate', 1037), ('fruit', 1025), ('flavors', 956), ('aromas', 953), ('notes', 908), ('acidity', 814)]\n",
      "\n",
      "\n",
      "Champagne & Sparkling Outputs\n",
      "\n",
      "There are 52945 tokens in the data.\n",
      "There are 5095 unique tokens in the data.\n",
      "There are 312677 characters in the data.\n",
      "The lexical diversity is 0.096 in the data.\n",
      "The 52945 most common tokens were:\n",
      "[('wine', 739), ('pinot', 611), ('finish', 581), ('notes', 537), ('fruit', 528), ('palate', 515), ('flavors', 509), ('aromas', 484), ('champagne', 452), ('fresh', 437)]\n",
      "\n",
      "\n",
      "Rosé Wine Outputs\n",
      "\n",
      "There are 7185 tokens in the data.\n",
      "There are 1653 unique tokens in the data.\n",
      "There are 41944 characters in the data.\n",
      "The lexical diversity is 0.230 in the data.\n",
      "The 7185 most common tokens were:\n",
      "[('nan', 243), ('wine', 116), ('rosé', 107), ('notes', 106), ('aromas', 102), ('flavors', 102), ('fresh', 90), ('red', 85), ('palate', 79), ('2021', 74)]\n",
      "\n",
      "\n",
      "Dessert, Sherry, & Port Outputs\n",
      "\n",
      "There are 23620 tokens in the data.\n",
      "There are 3915 unique tokens in the data.\n",
      "There are 138666 characters in the data.\n",
      "The lexical diversity is 0.166 in the data.\n",
      "The 23620 most common tokens were:\n",
      "[('finish', 317), ('wine', 295), ('flavors', 240), ('fruit', 231), ('palate', 212), ('notes', 206), ('dried', 189), ('sweet', 180), ('acidity', 146), ('aromas', 145)]\n",
      "\n",
      "\n"
     ]
    }
   ],
   "source": [
    "unique_wines = review_df['product_family'].unique()\n",
    "\n",
    "for wine_types in unique_wines:\n",
    "    tmp = review_df[review_df['product_family'] == wine_types]\n",
    "    print(f'{wine_types} Outputs\\n')\n",
    "    descriptive_stats(tmp['reviewer_text'])\n",
    "    print('\\n')"
   ]
  },
  {
   "cell_type": "markdown",
   "id": "ccc447ca",
   "metadata": {},
   "source": [
    "Based on the top 10 most common terms, joining the fields 'description' and 'reviews' may be a reasonable proposal but a transform such as TF-IDF is likely in order for this dataset as the terms themselves are largely generic."
   ]
  },
  {
   "cell_type": "markdown",
   "id": "01f9be79",
   "metadata": {},
   "source": [
    "### Description Lengths"
   ]
  },
  {
   "cell_type": "code",
   "execution_count": 21,
   "id": "3d4fa322",
   "metadata": {},
   "outputs": [],
   "source": [
    "description_df['description_length'] = description_df['winemaker_description'].str.len()"
   ]
  },
  {
   "cell_type": "code",
   "execution_count": 24,
   "id": "6a2e43c8",
   "metadata": {},
   "outputs": [
    {
     "data": {
      "image/png": "[encoded data removed]",
      "text/plain": [
       "<Figure size 1000x1000 with 1 Axes>"
      ]
     },
     "metadata": {},
     "output_type": "display_data"
    }
   ],
   "source": [
    "fig = plt.figure(figsize=(10, 10))\n",
    "description_df.groupby('product_family')['description_length'].plot(kind=\"hist\",density=True,alpha=0.5,legend=True)\n",
    "plt.show()"
   ]
  },
  {
   "cell_type": "markdown",
   "id": "340af89c",
   "metadata": {},
   "source": [
    "### Review Lengths"
   ]
  },
  {
   "cell_type": "code",
   "execution_count": 25,
   "id": "4156a40b",
   "metadata": {},
   "outputs": [
    {
     "name": "stderr",
     "output_type": "stream",
     "text": [
      "C:\\Users\\garyb\\AppData\\Local\\Temp\\ipykernel_3104\\232450227.py:1: SettingWithCopyWarning: \n",
      "A value is trying to be set on a copy of a slice from a DataFrame.\n",
      "Try using .loc[row_indexer,col_indexer] = value instead\n",
      "\n",
      "See the caveats in the documentation: https://pandas.pydata.org/pandas-docs/stable/user_guide/indexing.html#returning-a-view-versus-a-copy\n",
      "  review_df['review_length'] = review_df['reviewer_text'].str.len()\n"
     ]
    }
   ],
   "source": [
    "review_df['review_length'] = review_df['reviewer_text'].str.len()"
   ]
  },
  {
   "cell_type": "code",
   "execution_count": 26,
   "id": "12915b04",
   "metadata": {},
   "outputs": [
    {
     "data": {
      "image/png": "[encoded data removed]",
      "text/plain": [
       "<Figure size 1000x1000 with 1 Axes>"
      ]
     },
     "metadata": {},
     "output_type": "display_data"
    }
   ],
   "source": [
    "fig = plt.figure(figsize=(10, 10))\n",
    "review_df.groupby('product_family')['review_length'].plot(kind=\"hist\", \n",
    "                                                        density=True, \n",
    "                                                        alpha=0.5,\n",
    "                                                        legend=True)\n",
    "plt.show()"
   ]
  },
  {
   "cell_type": "markdown",
   "id": "a7074fa9",
   "metadata": {},
   "source": [
    "Interestingly, the distrbution of description and review lengths appear to follow similiar distributions."
   ]
  },
  {
   "cell_type": "markdown",
   "id": "ccb4486a",
   "metadata": {},
   "source": [
    "### Description Ratings"
   ]
  },
  {
   "cell_type": "code",
   "execution_count": 30,
   "id": "b263efb4",
   "metadata": {},
   "outputs": [
    {
     "data": {
      "image/png": "[encoded data removed]",
      "text/plain": [
       "<Figure size 1000x1000 with 1 Axes>"
      ]
     },
     "metadata": {},
     "output_type": "display_data"
    }
   ],
   "source": [
    "fig = plt.figure(figsize=(10, 10))\n",
    "description_df.groupby('product_family')['user_avg_rating'].plot(kind=\"hist\", \n",
    "                                                                density=True, \n",
    "                                                                alpha=0.5,\n",
    "                                                                legend=True)\n",
    "plt.show()"
   ]
  },
  {
   "cell_type": "markdown",
   "id": "5402c691",
   "metadata": {},
   "source": [
    "Interestingly, the distrbution of user rating indicates that 0.0 is the default value for wines with no user ratings. Depending on the models implemented, this could be import for implementing machine learning models to predict sentiment."
   ]
  },
  {
   "cell_type": "markdown",
   "id": "f3a6f4b4",
   "metadata": {},
   "source": [
    "### Review Lengths"
   ]
  },
  {
   "cell_type": "code",
   "execution_count": 31,
   "id": "6fb962a8",
   "metadata": {},
   "outputs": [
    {
     "data": {
      "image/png": "[encoded data removed]",
      "text/plain": [
       "<Figure size 1000x1000 with 1 Axes>"
      ]
     },
     "metadata": {},
     "output_type": "display_data"
    }
   ],
   "source": [
    "fig = plt.figure(figsize=(10, 10))\n",
    "review_df.groupby('product_family')['reviewer_rating'].plot(kind=\"hist\", \n",
    "                                                            density=True, \n",
    "                                                            alpha=0.5,\n",
    "                                                            legend=True)\n",
    "plt.show()"
   ]
  },
  {
   "cell_type": "markdown",
   "id": "073d3b7f",
   "metadata": {},
   "source": [
    "### Unique Tokens\n",
    "\n",
    "Given that there are multiple labels in the set, we will modify a function from prior homework to perform OvR comparisons for terms unique to each wine type."
   ]
  },
  {
   "cell_type": "code",
   "execution_count": 27,
   "id": "e7136e14",
   "metadata": {},
   "outputs": [],
   "source": [
    "#modified from homework to be generally useful\n",
    "def unique_tokens(df, comparison_column, split_column, n_total_corpora, n_top_terms):\n",
    "    unique_splits = df[split_column].unique()\n",
    "    for split in unique_splits:\n",
    "        #perform split\n",
    "        corpus_1 = df[df[split_column] == split]\n",
    "        corpus_2 = df[df[split_column] != split]\n",
    "        #preprocess\n",
    "        corpus_1_str = corpus_1[comparison_column].astype(str)\n",
    "        corpus_2_str = corpus_2[comparison_column].astype(str)\n",
    "        corpus_1_joined = ' '.join(corpus_1_str)\n",
    "        corpus_2_joined = ' '.join(corpus_2_str)\n",
    "        corpus_1_tokens = corpus_1_joined.split()\n",
    "        corpus_2_tokens = corpus_2_joined.split()\n",
    "        #generate token counts for each corpora\n",
    "        corpus_1_counts = Counter(corpus_1_tokens)\n",
    "        corpus_2_counts = Counter(corpus_2_tokens)\n",
    "        #write to dataframe\n",
    "        corpus_1_df = pd.DataFrame(data = corpus_1_counts.values(), \n",
    "                               index = corpus_1_counts.keys(),\n",
    "                               columns = ['1_word_counts'])\n",
    "        corpus_2_df = pd.DataFrame(data = corpus_2_counts.values(), \n",
    "                               index = corpus_2_counts.keys(),\n",
    "                               columns = ['2_word_counts'])\n",
    "        #join dataframes\n",
    "        corpus_df = corpus_1_df.merge(corpus_2_df, \n",
    "                                      how = 'outer',\n",
    "                                      left_index = True, \n",
    "                                      right_index= True)\n",
    "        #impute null values with 0\n",
    "        corpus_df = corpus_df.fillna(0)\n",
    "        #filtering corpora to required  relevance\n",
    "        corpus_df = corpus_df[corpus_df['1_word_counts'] >= n_total_corpora]\n",
    "        corpus_df = corpus_df[corpus_df['2_word_counts'] >= n_total_corpora]\n",
    "        #calculate term concentrations\n",
    "        corpus_df['1_concentrations'] = corpus_df['1_word_counts']/len(corpus_1)\n",
    "        corpus_df['2_concentrations'] = corpus_df['2_word_counts']/len(corpus_2)\n",
    "        #generate term ratio\n",
    "        corpus_df['term_ratio'] = corpus_df['1_concentrations']/corpus_df['2_concentrations']\n",
    "        #sort ratios\n",
    "        corpus_df = corpus_df.sort_values(by = ['term_ratio'], ascending = False)\n",
    "        #generate outputs\n",
    "        corpus_1_top_n = corpus_df['term_ratio'].head(n_top_terms).to_dict()\n",
    "        #print outputs\n",
    "        print(f'Unique tokens observed for the label {split}:\\n')\n",
    "        print(corpus_1_top_n)\n",
    "        print(f'\\n')"
   ]
  },
  {
   "cell_type": "markdown",
   "id": "127f84ed",
   "metadata": {},
   "source": [
    "### Description Unique Terms"
   ]
  },
  {
   "cell_type": "code",
   "execution_count": 28,
   "id": "74834841",
   "metadata": {},
   "outputs": [
    {
     "name": "stdout",
     "output_type": "stream",
     "text": [
      "Unique tokens observed for the label Red Wine:\n",
      "\n",
      "{'garnet': 62.23942208462333, 'merlot': 48.92604059167527, 'tobacco': 44.511278195488714, 'cabernet': 40.79136147398625, 'sangiovese': 36.80908152734778, 'tannins': 32.652513637033756, 'blueberry': 31.734892787524362, 'cedar': 24.645839196922786, 'zinfandel': 23.005675954592363, 'blackberry': 22.713139585205898}\n",
      "\n",
      "\n",
      "Unique tokens observed for the label White Wine:\n",
      "\n",
      "{'riesling': 71.70096702206794, 'grigio': 49.71267046863378, 'lemongrass': 29.078725514505333, 'semillon': 26.290354574758247, 'curd': 25.99160054549963, 'tropical': 23.80277000460487, 'lime': 22.053479250726955, 'guava': 20.71361269526407, 'pineapple': 20.03074634267295, 'gooseberry': 19.41901190181007}\n",
      "\n",
      "\n",
      "Unique tokens observed for the label Champagne & Sparkling:\n",
      "\n",
      "{'champagne': 559.9597000937207, 'bubbles': 262.6230985509336, 'mousse': 122.07278975320213, 'sparkling': 74.70298803682672, 'effervescence': 52.62375394052995, 'noirs': 44.3006091846298, 'xarel': 42.1910563663141, 'bubble': 40.16588566073102, 'lo': 38.39386129334583, 'featured': 37.40940331146517}\n",
      "\n",
      "\n",
      "Unique tokens observed for the label Rosé Wine:\n",
      "\n",
      "{'watermelon': 90.50963855421688, 'provence': 82.38338617628408, 'rosé': 41.905790905557716, 'worldwide': 38.333493975903615, 'provencal': 38.333493975903615, 'miraval': 37.26867469879518, 'languedoc': 31.944578313253015, 'pomelo': 31.944578313253015, 'hondarrabi': 31.944578313253015, 'provençal': 29.040525739320923}\n",
      "\n",
      "\n",
      "Unique tokens observed for the label Dessert, Sherry, & Port:\n",
      "\n",
      "{'tawny': 497.921975308642, 'system': 85.17086419753086, 'fino': 65.51604938271605, 'slice': 65.51604938271605, 'spirits': 60.056378600823045, 'appreciate': 58.23648834019204, 'pedro': 57.32654320987654, 'amber': 54.98668430335097, 'drier': 54.59670781893004, 'proof': 50.95692729766803}\n",
      "\n",
      "\n"
     ]
    }
   ],
   "source": [
    "unique_tokens(description_df, \n",
    "              comparison_column = 'winemaker_description', \n",
    "              split_column = 'product_family',\n",
    "              n_total_corpora = 5,\n",
    "              n_top_terms = 10)"
   ]
  },
  {
   "cell_type": "code",
   "execution_count": 29,
   "id": "eeda3aef",
   "metadata": {},
   "outputs": [
    {
     "name": "stdout",
     "output_type": "stream",
     "text": [
      "Unique tokens observed for the label Red Wine:\n",
      "\n",
      "{'cabernet': 171.31932873125447, 'purple': 85.42680314210902, 'franc': 78.41245281735641, 'blackberries': 57.549988098071886, 'leather': 47.9028802666032, 'tobacco': 42.447274458462275, 'cassis': 26.359256866279004, 'iron': 25.215543918114736, 'grained': 23.119792906450847, 'garnet': 23.09603155711225}\n",
      "\n",
      "\n",
      "Unique tokens observed for the label White Wine:\n",
      "\n",
      "{'riesling': 159.58970358814352, 'roussanne': 25.361154446177846, 'tropical': 24.742589703588145, 'clairette': 20.876560062402497, 'whites': 20.41263650546022, 'honeydew': 19.794071762870516, 'semillon': 18.041471658866357, 'passion': 17.938377535101406, 'adige': 16.701248049921997, 'oily': 13.60842433697348}\n",
      "\n",
      "\n",
      "Unique tokens observed for the label Champagne & Sparkling:\n",
      "\n",
      "{'mousse': 149.53577106518281, 'pillowy': 75.68108108108109, 'dough': 42.44932432432432, 'lacy': 39.69287469287469, 'pinpoint': 38.810810810810814, 'vinous': 38.81081081081081, 'aperitif': 38.81081081081081, 'nv': 34.400491400491404, 'brioche': 31.47462096242584, 'biscuit': 30.87223587223587}\n",
      "\n",
      "\n",
      "Unique tokens observed for the label Rosé Wine:\n",
      "\n",
      "{'bandol': 107.04070981210856, 'provence': 34.52926122971244, 'cantaloupe': 30.58305994631673, 'handrolls': 29.971398747390396, 'cinsault': 26.242238534581457, 'avocado': 24.78837490385672, 'watermelon': 20.551816283924843, 'rosé': 17.09456111924719, 'sashimi': 13.287812252537613, 'cotes': 12.844885177453028}\n",
      "\n",
      "\n",
      "Unique tokens observed for the label Dessert, Sherry, & Port:\n",
      "\n",
      "{'port': 328.0124147578248, 'fino': 74.0673194614443, 'quinta': 69.12949816401468, 'botrytis': 67.01328903654485, 'douro': 61.722766217870266, 'molasses': 61.722766217870266, 'toffee': 60.69405344757242, 'spirit': 54.316034271725826, 'residual': 41.390560875512996, 'dessert': 38.79716733694702}\n",
      "\n",
      "\n"
     ]
    }
   ],
   "source": [
    "unique_tokens(review_df, \n",
    "              comparison_column = 'reviewer_text', \n",
    "              split_column = 'product_family',\n",
    "              n_total_corpora = 5,\n",
    "              n_top_terms = 10)"
   ]
  },
  {
   "cell_type": "markdown",
   "id": "bd8c8843",
   "metadata": {},
   "source": [
    "Observing the unique terms produced in the OvR analysis does produce an interesting insight that the reviews tend to focus more on the tasting notes of the product however the types of terms present in these outputs suppports the possiblity that these fields could be combined. Depending on the predictive application, this dynamic could be useful for informing the final model inputs."
   ]
  },
  {
   "cell_type": "code",
   "execution_count": null,
   "id": "b0f5c3af",
   "metadata": {},
   "outputs": [],
   "source": []
  }
 ],
 "metadata": {
  "kernelspec": {
   "display_name": "Python 3 (ipykernel)",
   "language": "python",
   "name": "python3"
  },
  "language_info": {
   "codemirror_mode": {
    "name": "ipython",
    "version": 3
   },
   "file_extension": ".py",
   "mimetype": "text/x-python",
   "name": "python",
   "nbconvert_exporter": "python",
   "pygments_lexer": "ipython3",
   "version": "3.9.13"
  }
 },
 "nbformat": 4,
 "nbformat_minor": 5
}
