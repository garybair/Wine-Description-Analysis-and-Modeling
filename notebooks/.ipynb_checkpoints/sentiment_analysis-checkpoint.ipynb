{
 "cells": [
  {
   "cell_type": "markdown",
   "id": "e922dae4",
   "metadata": {},
   "source": [
    "# Sentiment Analysis & Modeling"
   ]
  },
  {
   "cell_type": "code",
   "execution_count": 1,
   "id": "ec1af70b",
   "metadata": {},
   "outputs": [],
   "source": [
    "import pandas as pd\n",
    "import numpy as np\n",
    "import os\n",
    "import re\n",
    "import dill\n",
    "from scipy.stats import uniform, randint\n",
    "from string import punctuation\n",
    "import nltk\n",
    "\n",
    "# preprocessing packages\n",
    "from sklearn.preprocessing import OneHotEncoder\n",
    "from sklearn.impute import SimpleImputer\n",
    "\n",
    "# pipeline tools\n",
    "from sklearn.base import TransformerMixin\n",
    "from sklearn.compose import ColumnTransformer, make_column_transformer\n",
    "from sklearn.pipeline import Pipeline, make_pipeline\n",
    "from sklearn.model_selection import train_test_split, cross_val_score, RandomizedSearchCV\n",
    "\n",
    "#feature selection\n",
    "from sklearn.feature_selection import VarianceThreshold\n",
    "from sklearn.feature_extraction.text import TfidfVectorizer, CountVectorizer\n",
    "\n",
    "#models\n",
    "from nltk.sentiment import SentimentIntensityAnalyzer\n",
    "from xgboost import XGBRegressor\n",
    "\n",
    "#metrics\n",
    "from sklearn.metrics import make_scorer, mean_squared_error\n",
    "\n",
    "#custom classes\n",
    "from preprocessing import preprocess_text"
   ]
  },
  {
   "cell_type": "code",
   "execution_count": 2,
   "id": "2763b03f",
   "metadata": {},
   "outputs": [],
   "source": [
    "#nltk.download()"
   ]
  },
  {
   "cell_type": "code",
   "execution_count": 3,
   "id": "5077831b",
   "metadata": {},
   "outputs": [],
   "source": [
    "#directory locations\n",
    "current_directory = os.getcwd()\n",
    "parent_directory = os.path.dirname(current_directory)\n",
    "processed_data_folder = parent_directory + '/data/wine-com/processed/'\n",
    "models_folder = parent_directory + '/models/'"
   ]
  },
  {
   "cell_type": "markdown",
   "id": "7ea0d6c4",
   "metadata": {},
   "source": [
    "### Load Data"
   ]
  },
  {
   "cell_type": "code",
   "execution_count": 4,
   "id": "972eecbd",
   "metadata": {},
   "outputs": [],
   "source": [
    "df = pd.read_csv(processed_data_folder + '1677432096.083379.txt', \n",
    "                 sep = '|')"
   ]
  },
  {
   "cell_type": "code",
   "execution_count": 5,
   "id": "ebc7b946",
   "metadata": {
    "scrolled": false
   },
   "outputs": [
    {
     "data": {
      "text/html": [
       "<div>\n",
       "<style scoped>\n",
       "    .dataframe tbody tr th:only-of-type {\n",
       "        vertical-align: middle;\n",
       "    }\n",
       "\n",
       "    .dataframe tbody tr th {\n",
       "        vertical-align: top;\n",
       "    }\n",
       "\n",
       "    .dataframe thead th {\n",
       "        text-align: right;\n",
       "    }\n",
       "</style>\n",
       "<table border=\"1\" class=\"dataframe\">\n",
       "  <thead>\n",
       "    <tr style=\"text-align: right;\">\n",
       "      <th></th>\n",
       "      <th>product_url</th>\n",
       "      <th>product_name</th>\n",
       "      <th>product_variety</th>\n",
       "      <th>product_origin</th>\n",
       "      <th>product_family</th>\n",
       "      <th>user_avg_rating</th>\n",
       "      <th>user_rating_count</th>\n",
       "      <th>winemaker_description</th>\n",
       "      <th>reviewer_name</th>\n",
       "      <th>reviewer_rating</th>\n",
       "      <th>reviewer_text</th>\n",
       "    </tr>\n",
       "  </thead>\n",
       "  <tbody>\n",
       "    <tr>\n",
       "      <th>0</th>\n",
       "      <td>https://www.wine.com/product/proyecto-salvaje-...</td>\n",
       "      <td>Proyecto Salvaje del Moncayo Garnacha 2020</td>\n",
       "      <td>Grenache</td>\n",
       "      <td>from Navarra, Spain</td>\n",
       "      <td>Red Wine</td>\n",
       "      <td>4.8</td>\n",
       "      <td>19</td>\n",
       "      <td>bright burgundy wine medium depth tobacco wild...</td>\n",
       "      <td>Decanter</td>\n",
       "      <td>92.0</td>\n",
       "      <td>part proyecto garnachas de españa collection s...</td>\n",
       "    </tr>\n",
       "    <tr>\n",
       "      <th>1</th>\n",
       "      <td>https://www.wine.com/product/proyecto-salvaje-...</td>\n",
       "      <td>Proyecto Salvaje del Moncayo Garnacha 2020</td>\n",
       "      <td>Grenache</td>\n",
       "      <td>from Navarra, Spain</td>\n",
       "      <td>Red Wine</td>\n",
       "      <td>4.8</td>\n",
       "      <td>19</td>\n",
       "      <td>bright burgundy wine medium depth tobacco wild...</td>\n",
       "      <td>Wilfred Wong of Wine.com</td>\n",
       "      <td>91.0</td>\n",
       "      <td>commentary 2020 proyecto garnachas salvaje del...</td>\n",
       "    </tr>\n",
       "    <tr>\n",
       "      <th>2</th>\n",
       "      <td>https://www.wine.com/product/domaine-du-terme-...</td>\n",
       "      <td>Domaine du Terme Gigondas 2019</td>\n",
       "      <td>Rhone Red Blends</td>\n",
       "      <td>from Gigondas, Rhone, France</td>\n",
       "      <td>Red Wine</td>\n",
       "      <td>4.0</td>\n",
       "      <td>17</td>\n",
       "      <td>NaN</td>\n",
       "      <td>Wine &amp; Spirits</td>\n",
       "      <td>96.0</td>\n",
       "      <td>spectacular gigondas wine red cherry flavors s...</td>\n",
       "    </tr>\n",
       "    <tr>\n",
       "      <th>3</th>\n",
       "      <td>https://www.wine.com/product/domaine-du-terme-...</td>\n",
       "      <td>Domaine du Terme Gigondas 2019</td>\n",
       "      <td>Rhone Red Blends</td>\n",
       "      <td>from Gigondas, Rhone, France</td>\n",
       "      <td>Red Wine</td>\n",
       "      <td>4.0</td>\n",
       "      <td>17</td>\n",
       "      <td>NaN</td>\n",
       "      <td>Decanter</td>\n",
       "      <td>94.0</td>\n",
       "      <td>straight first sniff clear going special soari...</td>\n",
       "    </tr>\n",
       "    <tr>\n",
       "      <th>4</th>\n",
       "      <td>https://www.wine.com/product/scott-harvey-moun...</td>\n",
       "      <td>Scott Harvey Mountain Selection Zinfandel 2019</td>\n",
       "      <td>Zinfandel</td>\n",
       "      <td>from Amador, Sierra Foothills, California</td>\n",
       "      <td>Red Wine</td>\n",
       "      <td>4.3</td>\n",
       "      <td>39</td>\n",
       "      <td>fruit forward rich full flavors expressing var...</td>\n",
       "      <td>Wine Enthusiast</td>\n",
       "      <td>93.0</td>\n",
       "      <td>fresh smelling full bodied flavor packed wine ...</td>\n",
       "    </tr>\n",
       "  </tbody>\n",
       "</table>\n",
       "</div>"
      ],
      "text/plain": [
       "                                         product_url  \\\n",
       "0  https://www.wine.com/product/proyecto-salvaje-...   \n",
       "1  https://www.wine.com/product/proyecto-salvaje-...   \n",
       "2  https://www.wine.com/product/domaine-du-terme-...   \n",
       "3  https://www.wine.com/product/domaine-du-terme-...   \n",
       "4  https://www.wine.com/product/scott-harvey-moun...   \n",
       "\n",
       "                                     product_name   product_variety  \\\n",
       "0      Proyecto Salvaje del Moncayo Garnacha 2020          Grenache   \n",
       "1      Proyecto Salvaje del Moncayo Garnacha 2020          Grenache   \n",
       "2                  Domaine du Terme Gigondas 2019  Rhone Red Blends   \n",
       "3                  Domaine du Terme Gigondas 2019  Rhone Red Blends   \n",
       "4  Scott Harvey Mountain Selection Zinfandel 2019         Zinfandel   \n",
       "\n",
       "                               product_origin product_family  user_avg_rating  \\\n",
       "0                         from Navarra, Spain       Red Wine              4.8   \n",
       "1                         from Navarra, Spain       Red Wine              4.8   \n",
       "2                from Gigondas, Rhone, France       Red Wine              4.0   \n",
       "3                from Gigondas, Rhone, France       Red Wine              4.0   \n",
       "4   from Amador, Sierra Foothills, California       Red Wine              4.3   \n",
       "\n",
       "   user_rating_count                              winemaker_description  \\\n",
       "0                 19  bright burgundy wine medium depth tobacco wild...   \n",
       "1                 19  bright burgundy wine medium depth tobacco wild...   \n",
       "2                 17                                                NaN   \n",
       "3                 17                                                NaN   \n",
       "4                 39  fruit forward rich full flavors expressing var...   \n",
       "\n",
       "              reviewer_name  reviewer_rating  \\\n",
       "0                  Decanter             92.0   \n",
       "1  Wilfred Wong of Wine.com             91.0   \n",
       "2            Wine & Spirits             96.0   \n",
       "3                  Decanter             94.0   \n",
       "4           Wine Enthusiast             93.0   \n",
       "\n",
       "                                       reviewer_text  \n",
       "0  part proyecto garnachas de españa collection s...  \n",
       "1  commentary 2020 proyecto garnachas salvaje del...  \n",
       "2  spectacular gigondas wine red cherry flavors s...  \n",
       "3  straight first sniff clear going special soari...  \n",
       "4  fresh smelling full bodied flavor packed wine ...  "
      ]
     },
     "execution_count": 5,
     "metadata": {},
     "output_type": "execute_result"
    }
   ],
   "source": [
    "df.head()"
   ]
  },
  {
   "cell_type": "code",
   "execution_count": 6,
   "id": "ccbcc5af",
   "metadata": {},
   "outputs": [
    {
     "data": {
      "text/plain": [
       "Index(['product_url', 'product_name', 'product_variety', 'product_origin',\n",
       "       'product_family', 'user_avg_rating', 'user_rating_count',\n",
       "       'winemaker_description', 'reviewer_name', 'reviewer_rating',\n",
       "       'reviewer_text'],\n",
       "      dtype='object')"
      ]
     },
     "execution_count": 6,
     "metadata": {},
     "output_type": "execute_result"
    }
   ],
   "source": [
    "df.columns"
   ]
  },
  {
   "cell_type": "code",
   "execution_count": 7,
   "id": "10ac16fa",
   "metadata": {},
   "outputs": [
    {
     "data": {
      "text/plain": [
       "(20988, 11)"
      ]
     },
     "execution_count": 7,
     "metadata": {},
     "output_type": "execute_result"
    }
   ],
   "source": [
    "df.shape"
   ]
  },
  {
   "cell_type": "markdown",
   "id": "5e3e30ca",
   "metadata": {},
   "source": [
    "### Reduce to Relevant Data"
   ]
  },
  {
   "cell_type": "code",
   "execution_count": 8,
   "id": "a241ffe3",
   "metadata": {},
   "outputs": [],
   "source": [
    "review_data = df[['product_family', 'reviewer_rating', 'reviewer_text']]"
   ]
  },
  {
   "cell_type": "markdown",
   "id": "6458ec79",
   "metadata": {},
   "source": [
    "### Missing Data & Data Type Correction"
   ]
  },
  {
   "cell_type": "code",
   "execution_count": 9,
   "id": "338f4fdf",
   "metadata": {},
   "outputs": [
    {
     "data": {
      "text/plain": [
       "product_family        0\n",
       "reviewer_rating    6451\n",
       "reviewer_text      6494\n",
       "dtype: int64"
      ]
     },
     "execution_count": 9,
     "metadata": {},
     "output_type": "execute_result"
    }
   ],
   "source": [
    "review_data.isnull().sum()"
   ]
  },
  {
   "cell_type": "code",
   "execution_count": 10,
   "id": "a67ebba8",
   "metadata": {},
   "outputs": [],
   "source": [
    "review_data = review_data.dropna(subset = ['reviewer_text'])"
   ]
  },
  {
   "cell_type": "code",
   "execution_count": 11,
   "id": "53711561",
   "metadata": {},
   "outputs": [],
   "source": [
    "review_data['reviewer_rating'] = review_data['reviewer_rating'].astype(int)"
   ]
  },
  {
   "cell_type": "code",
   "execution_count": 12,
   "id": "94c9bf52",
   "metadata": {},
   "outputs": [
    {
     "name": "stdout",
     "output_type": "stream",
     "text": [
      "<class 'pandas.core.frame.DataFrame'>\n",
      "Int64Index: 14494 entries, 0 to 20987\n",
      "Data columns (total 3 columns):\n",
      " #   Column           Non-Null Count  Dtype \n",
      "---  ------           --------------  ----- \n",
      " 0   product_family   14494 non-null  object\n",
      " 1   reviewer_rating  14494 non-null  int32 \n",
      " 2   reviewer_text    14494 non-null  object\n",
      "dtypes: int32(1), object(2)\n",
      "memory usage: 396.3+ KB\n"
     ]
    }
   ],
   "source": [
    "review_data.info()"
   ]
  },
  {
   "cell_type": "markdown",
   "id": "0d0d6616",
   "metadata": {},
   "source": [
    "### Data Assignment & Splitting"
   ]
  },
  {
   "cell_type": "code",
   "execution_count": 13,
   "id": "adc4ccca",
   "metadata": {},
   "outputs": [],
   "source": [
    "# specifying predictive and target features\n",
    "X = review_data.drop(columns = ['reviewer_rating'])\n",
    "y = review_data[['reviewer_rating']]"
   ]
  },
  {
   "cell_type": "code",
   "execution_count": 14,
   "id": "367405fb",
   "metadata": {},
   "outputs": [],
   "source": [
    "# create holdout set to approximate real-world performance\n",
    "X_train, X_test, y_train, y_test = train_test_split(X, \n",
    "                                                    y, \n",
    "                                                    test_size=0.2, \n",
    "                                                    random_state=123)"
   ]
  },
  {
   "cell_type": "markdown",
   "id": "139616d2",
   "metadata": {},
   "source": [
    "## Rule-based Approach\n",
    "\n",
    "### NLTK - VADER\n",
    "\n",
    "The first approach this analysis implements is a rules based approach using VADER and NLTK's SentimentIntensityAnalyzer. Given that this approach does not require labeled training data, it provides a useful baseline for comparison for other models."
   ]
  },
  {
   "cell_type": "code",
   "execution_count": 19,
   "id": "d174aa03",
   "metadata": {},
   "outputs": [],
   "source": [
    "class SIATransformer(TransformerMixin):\n",
    "    def __init__(self):\n",
    "        self.sia = SentimentIntensityAnalyzer()\n",
    "        self.sia_transformer_lambda = lambda x: self.sia.polarity_scores(x)['compound']\n",
    "        \n",
    "    def transform(self, X):\n",
    "        return np.vectorize(self.sia_transformer_lambda)(X)\n",
    "\n",
    "    def fit(self, X, y=None):\n",
    "        return self\n",
    "    \n",
    "class SIAScaler(TransformerMixin):\n",
    "    def __init__(self):\n",
    "        self.sia_scaler_lambda = lambda x: (x - (-1))*100/(2)\n",
    "    \n",
    "    def transform(self, X):\n",
    "        return np.vectorize(self.sia_scaler_lambda)(X)\n",
    "\n",
    "    def fit(self, X, y=None):\n",
    "        return self\n",
    "    \n",
    "    def predict(self, X):\n",
    "        return np.vectorize(self.sia_scaler_lambda)(X)"
   ]
  },
  {
   "cell_type": "code",
   "execution_count": 27,
   "id": "f94ef16d",
   "metadata": {},
   "outputs": [
    {
     "data": {
      "text/plain": [
       "Pipeline(steps=[('column_transformer',\n",
       "                 ColumnTransformer(transformers=[('text',\n",
       "                                                  Pipeline(steps=[('text_cleaner',\n",
       "                                                                   <preprocessing.preprocess_text object at 0x000001FC78987A30>)]),\n",
       "                                                  ['reviewer_text'])])),\n",
       "                ('sia_transformer',\n",
       "                 <__main__.SIATransformer object at 0x000001FC789874C0>),\n",
       "                ('sia_scaler',\n",
       "                 <__main__.SIAScaler object at 0x000001FC79186190>)])"
      ]
     },
     "execution_count": 27,
     "metadata": {},
     "output_type": "execute_result"
    }
   ],
   "source": [
    "# specifiying column transformer fields\n",
    "text_variables = ['reviewer_text']\n",
    "\n",
    "# text pipeline:\n",
    "text_transformer = Pipeline([('text_cleaner', preprocess_text())])\n",
    "\n",
    "sia_pipeline = Pipeline([('column_transformer', ColumnTransformer([('text', text_transformer, text_variables)],\n",
    "                                                                   remainder = 'drop')),\n",
    "                         ('sia_transformer', SIATransformer()), \n",
    "                         ('sia_scaler', SIAScaler())])\n",
    "\n",
    "sia_pipeline.fit(X_train, y_train)"
   ]
  },
  {
   "cell_type": "markdown",
   "id": "b6f45411",
   "metadata": {},
   "source": [
    "Since the SIA model values are static, sentiment projection will be performed on entire available dataset."
   ]
  },
  {
   "cell_type": "markdown",
   "id": "f051b870",
   "metadata": {},
   "source": [
    "### VADER Performance"
   ]
  },
  {
   "cell_type": "code",
   "execution_count": 28,
   "id": "c5ba35b6",
   "metadata": {},
   "outputs": [
    {
     "data": {
      "text/plain": [
       "16.85189886947674"
      ]
     },
     "execution_count": 28,
     "metadata": {},
     "output_type": "execute_result"
    }
   ],
   "source": [
    "np.sqrt(mean_squared_error(y_test, sia_pipeline.predict(X_test)))"
   ]
  },
  {
   "cell_type": "markdown",
   "id": "d25acb8c",
   "metadata": {},
   "source": [
    "### Write Pipeline to File"
   ]
  },
  {
   "cell_type": "code",
   "execution_count": 29,
   "id": "efc60675",
   "metadata": {
    "scrolled": false
   },
   "outputs": [],
   "source": [
    "sia_model_path = models_folder + 'sia_pipeline.pkl'\n",
    "\n",
    "with open(sia_model_path, 'wb') as f:\n",
    "    dill.dump(sia_pipeline, f)"
   ]
  },
  {
   "cell_type": "markdown",
   "id": "0cd2ad37",
   "metadata": {},
   "source": [
    "## Machine Learning Approach\n",
    "\n",
    "### XGBoost - Count Vectorizer"
   ]
  },
  {
   "cell_type": "code",
   "execution_count": 30,
   "id": "bf22577b",
   "metadata": {},
   "outputs": [],
   "source": [
    "class CovertToList(TransformerMixin):\n",
    "    def transform(self, X):\n",
    "        X = X.iloc[:, 0].tolist()\n",
    "        X = [str(i) for i in X]\n",
    "        return X\n",
    "\n",
    "    def fit(self, X, y=None):\n",
    "        return self"
   ]
  },
  {
   "cell_type": "code",
   "execution_count": 31,
   "id": "c3c62f03",
   "metadata": {},
   "outputs": [],
   "source": [
    "# specifiying column transformer fields\n",
    "text_variables = ['reviewer_text']\n",
    "\n",
    "# text pipeline:\n",
    "text_transformer = Pipeline([('convert_to_list', CovertToList()),\n",
    "                             ('count_vectorizer', CountVectorizer(ngram_range = (1, 2)))])\n",
    "\n",
    "cv_full_pipeline = Pipeline([('column_transformer', ColumnTransformer([('text', text_transformer, text_variables)],\n",
    "                                                                      remainder = 'drop')),\n",
    "                             ('xgBoost', XGBRegressor(objective = 'reg:squarederror',\n",
    "                                                      tree_method = 'gpu_hist'))])"
   ]
  },
  {
   "cell_type": "code",
   "execution_count": 33,
   "id": "b0b089d4",
   "metadata": {
    "scrolled": false
   },
   "outputs": [
    {
     "name": "stdout",
     "output_type": "stream",
     "text": [
      "Best parameter (CV score=-2.257):\n",
      "{'near_zero_variance__threshold': 0.0003445833203715276, 'xgBoost__colsample_bytree': 0.882867360015585, 'xgBoost__gamma': 4.603327846714448, 'xgBoost__learning_rate': 0.11984504160563986, 'xgBoost__max_depth': 5, 'xgBoost__n_estimators': 1043, 'xgBoost__reg_alpha': 0.11224791868521704, 'xgBoost__reg_lambda': 0.14346660640816958}\n"
     ]
    }
   ],
   "source": [
    "search_space = [{'near_zero_variance__threshold': uniform(0.0, 0.2),\n",
    "                 'xgBoost__n_estimators': randint(100, 2000),\n",
    "                 'xgBoost__learning_rate': uniform(0.01, 0.3),\n",
    "                 'xgBoost__max_depth': randint(3, 10),\n",
    "                 'xgBoost__colsample_bytree': uniform(0.3, 0.7),\n",
    "                 'xgBoost__gamma': uniform(2, 10),\n",
    "                 'xgBoost__reg_alpha' : uniform(0.00001, 0.3),\n",
    "                 'xgBoost__reg_lambda' : uniform(0.00001, 0.3)}]\n",
    "\n",
    "\n",
    "cv_xgb = RandomizedSearchCV(cv_full_pipeline,\n",
    "                            param_distributions = search_space, \n",
    "                            n_iter = 500, \n",
    "                            cv = 5,\n",
    "                            n_jobs = 6,\n",
    "                            scoring = 'neg_mean_squared_error',\n",
    "                            random_state=123)\n",
    "\n",
    "cv_xgb.fit(X_train, y_train)\n",
    "\n",
    "print(\"Best parameter (CV score=%0.3f):\" % cv_xgb.best_score_)\n",
    "print(cv_xgb.best_params_)"
   ]
  },
  {
   "cell_type": "markdown",
   "id": "44f2ea3b",
   "metadata": {},
   "source": [
    "### Write Pipeline to File"
   ]
  },
  {
   "cell_type": "code",
   "execution_count": 38,
   "id": "c97412dc",
   "metadata": {},
   "outputs": [
    {
     "ename": "NameError",
     "evalue": "name 'pickle' is not defined",
     "output_type": "error",
     "traceback": [
      "\u001b[1;31m---------------------------------------------------------------------------\u001b[0m",
      "\u001b[1;31mNameError\u001b[0m                                 Traceback (most recent call last)",
      "\u001b[1;32m~\\AppData\\Local\\Temp\\ipykernel_17096\\3016584523.py\u001b[0m in \u001b[0;36m<module>\u001b[1;34m\u001b[0m\n\u001b[0;32m      1\u001b[0m \u001b[0mcv_xgb_best_pipeline\u001b[0m \u001b[1;33m=\u001b[0m \u001b[0mcv_xgb\u001b[0m\u001b[1;33m.\u001b[0m\u001b[0mbest_estimator_\u001b[0m\u001b[1;33m\u001b[0m\u001b[1;33m\u001b[0m\u001b[0m\n\u001b[0;32m      2\u001b[0m \u001b[1;32mwith\u001b[0m \u001b[0mopen\u001b[0m\u001b[1;33m(\u001b[0m\u001b[0mmodels_folder\u001b[0m \u001b[1;33m+\u001b[0m \u001b[1;34m'sentiment_xgb_best_cv.pkl'\u001b[0m\u001b[1;33m,\u001b[0m \u001b[1;34m'wb'\u001b[0m\u001b[1;33m)\u001b[0m \u001b[1;32mas\u001b[0m \u001b[0mf\u001b[0m\u001b[1;33m:\u001b[0m\u001b[1;33m\u001b[0m\u001b[1;33m\u001b[0m\u001b[0m\n\u001b[1;32m----> 3\u001b[1;33m     \u001b[0mpickle\u001b[0m\u001b[1;33m.\u001b[0m\u001b[0mdump\u001b[0m\u001b[1;33m(\u001b[0m\u001b[0mcv_xgb_best_pipeline\u001b[0m\u001b[1;33m,\u001b[0m \u001b[0mf\u001b[0m\u001b[1;33m)\u001b[0m\u001b[1;33m\u001b[0m\u001b[1;33m\u001b[0m\u001b[0m\n\u001b[0m",
      "\u001b[1;31mNameError\u001b[0m: name 'pickle' is not defined"
     ]
    }
   ],
   "source": [
    "cv_xgb_best_pipeline = cv_xgb.best_estimator_\n",
    "with open(models_folder + 'sentiment_xgb_best_cv.pkl', 'wb') as f:\n",
    "    dill.dump(cv_xgb_best_pipeline, f)"
   ]
  },
  {
   "cell_type": "markdown",
   "id": "1a07b4ea",
   "metadata": {},
   "source": [
    "### Holdout Performance"
   ]
  },
  {
   "cell_type": "code",
   "execution_count": 36,
   "id": "9a59f074",
   "metadata": {},
   "outputs": [
    {
     "data": {
      "text/plain": [
       "1.4807609960520562"
      ]
     },
     "execution_count": 36,
     "metadata": {},
     "output_type": "execute_result"
    }
   ],
   "source": [
    "np.sqrt(mean_squared_error(y_test, cv_xgb.predict(X_test)))"
   ]
  },
  {
   "cell_type": "markdown",
   "id": "e9469f54",
   "metadata": {},
   "source": [
    "### XGBoost - TF-IDF Vectorizer"
   ]
  },
  {
   "cell_type": "code",
   "execution_count": 39,
   "id": "98cdca34",
   "metadata": {},
   "outputs": [],
   "source": [
    "# text pipeline:\n",
    "tf_text_transformer = Pipeline([('convert_to_list', CovertToList()),\n",
    "                                ('tfidf_vectorizer', TfidfVectorizer(ngram_range = (1, 2)))])\n",
    "\n",
    "tf_full_pipeline = Pipeline([('column_transformer', ColumnTransformer([('text', tf_text_transformer, text_variables)],\n",
    "                                                                      remainder = 'drop')),\n",
    "                             ('xgBoost', XGBRegressor(objective = 'reg:squarederror',\n",
    "                                                      tree_method = 'gpu_hist'))])"
   ]
  },
  {
   "cell_type": "code",
   "execution_count": null,
   "id": "a3c86115",
   "metadata": {
    "scrolled": false
   },
   "outputs": [
    {
     "name": "stderr",
     "output_type": "stream",
     "text": [
      "C:\\Users\\garyb\\anaconda3\\lib\\site-packages\\joblib\\externals\\loky\\process_executor.py:702: UserWarning: A worker stopped while some jobs were given to the executor. This can be caused by a too short worker timeout or by a memory leak.\n",
      "  warnings.warn(\n"
     ]
    }
   ],
   "source": [
    "search_space = [{'xgBoost__n_estimators': randint(100, 2000),\n",
    "                 'xgBoost__learning_rate': uniform(0.01, 0.3),\n",
    "                 'xgBoost__max_depth': randint(3, 10),\n",
    "                 'xgBoost__colsample_bytree': uniform(0.3, 0.7),\n",
    "                 'xgBoost__gamma': uniform(2, 10),\n",
    "                 'xgBoost__reg_alpha' : uniform(0.00001, 0.3),\n",
    "                 'xgBoost__reg_lambda' : uniform(0.00001, 0.3)}]\n",
    "\n",
    "tf_xgb = RandomizedSearchCV(tf_full_pipeline,\n",
    "                            param_distributions = search_space, \n",
    "                            n_iter = 500, \n",
    "                            cv = 5,\n",
    "                            n_jobs = 6,\n",
    "                            scoring = 'neg_mean_squared_error',\n",
    "                            random_state=123)\n",
    "tf_xgb.fit(X_train, y_train)\n",
    "\n",
    "print(\"Best parameter (CV score=%0.3f):\" % tf_xgb.best_score_)\n",
    "print(tf_xgb.best_params_)"
   ]
  },
  {
   "cell_type": "code",
   "execution_count": 37,
   "id": "6ecaf7df",
   "metadata": {},
   "outputs": [
    {
     "data": {
      "text/plain": [
       "2.1704606157795706e+17"
      ]
     },
     "execution_count": 37,
     "metadata": {},
     "output_type": "execute_result"
    }
   ],
   "source": [
    "np.sqrt(mean_squared_error(y_test, tf_xgb.predict(X_test)))"
   ]
  },
  {
   "cell_type": "code",
   "execution_count": null,
   "id": "95bcc9ee",
   "metadata": {},
   "outputs": [],
   "source": [
    "tf_xgb_best_pipeline = tf_xgb.best_estimator_\n",
    "with open(models_folder + 'sentiment_xgb_best_tfidf.pkl', 'wb') as f:\n",
    "    dill.dump(tf_xgb_best_pipeline, f)"
   ]
  },
  {
   "cell_type": "code",
   "execution_count": null,
   "id": "85326b36",
   "metadata": {},
   "outputs": [],
   "source": []
  }
 ],
 "metadata": {
  "kernelspec": {
   "display_name": "Python 3 (ipykernel)",
   "language": "python",
   "name": "python3"
  },
  "language_info": {
   "codemirror_mode": {
    "name": "ipython",
    "version": 3
   },
   "file_extension": ".py",
   "mimetype": "text/x-python",
   "name": "python",
   "nbconvert_exporter": "python",
   "pygments_lexer": "ipython3",
   "version": "3.9.13"
  }
 },
 "nbformat": 4,
 "nbformat_minor": 5
}
