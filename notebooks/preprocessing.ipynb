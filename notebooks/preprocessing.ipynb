{
 "cells": [
  {
   "cell_type": "markdown",
   "metadata": {},
   "source": [
    "# Preprocessing\n",
    "\n",
    "### Summary\n",
    "The code contained within this notebook and sister file \"preprocessing.py\" are intended to perform the bulk of the preprocessing required for nlp modeling tasks. Given that web scraping can result in large dumps of data, this analysis opt to utilize SpaCy to support data cleaning and parsing efforts."
   ]
  },
  {
   "cell_type": "code",
   "execution_count": 4,
   "metadata": {},
   "outputs": [],
   "source": [
    "#imports\n",
    "import numpy as np\n",
    "import pandas as pd\n",
    "import spacy\n",
    "from spacy.lang.en.stop_words import STOP_WORDS as stopwords\n",
    "import os\n",
    "import re\n",
    "import string\n",
    "from sklearn.feature_extraction.text import TfidfVectorizer\n",
    "\n",
    "nlp = spacy.load('en_core_web_sm')"
   ]
  },
  {
   "cell_type": "code",
   "execution_count": 13,
   "metadata": {},
   "outputs": [],
   "source": [
    "#directory locations\n",
    "current_directory = os.getcwd()\n",
    "parent_directory = os.path.dirname(current_directory)\n",
    "raw_folder = parent_directory + '/data/wine-com/raw/'\n",
    "processed_folder = parent_directory + '/data/wine-com/processed/'"
   ]
  },
  {
   "cell_type": "markdown",
   "metadata": {},
   "source": [
    "### Load Data"
   ]
  },
  {
   "cell_type": "code",
   "execution_count": 16,
   "metadata": {
    "scrolled": false
   },
   "outputs": [],
   "source": [
    "file_data = dict()\n",
    "\n",
    "for filename in os.listdir(raw_folder):\n",
    "    file_data[filename] = dict()\n",
    "    with open(raw_folder + filename) as file: \n",
    "        file_data[filename]['lines'] = file.readlines()\n",
    "        \n",
    "    file_data[filename]['data'] = []\n",
    "\n",
    "    for line in file_data[filename]['lines']:\n",
    "        values = line.strip().split('|')\n",
    "        if len(values) == 7:\n",
    "            row = {\n",
    "                'url': values[0],\n",
    "                'name': values[1],\n",
    "                'variety': values[2],\n",
    "                'origin': values[3],\n",
    "                'type': values[4],\n",
    "                'description': values[5],\n",
    "                'reviews': values[6]\n",
    "            }\n",
    "            file_data[filename]['data'].append(row)\n",
    "            \n",
    "    # Convert the list of dictionaries to a Pandas DataFrame\n",
    "    file_data[filename]['df'] = pd.DataFrame(file_data[filename]['data'])"
   ]
  },
  {
   "cell_type": "code",
   "execution_count": 17,
   "metadata": {},
   "outputs": [
    {
     "data": {
      "text/html": [
       "<div>\n",
       "<style scoped>\n",
       "    .dataframe tbody tr th:only-of-type {\n",
       "        vertical-align: middle;\n",
       "    }\n",
       "\n",
       "    .dataframe tbody tr th {\n",
       "        vertical-align: top;\n",
       "    }\n",
       "\n",
       "    .dataframe thead th {\n",
       "        text-align: right;\n",
       "    }\n",
       "</style>\n",
       "<table border=\"1\" class=\"dataframe\">\n",
       "  <thead>\n",
       "    <tr style=\"text-align: right;\">\n",
       "      <th></th>\n",
       "      <th>url</th>\n",
       "      <th>name</th>\n",
       "      <th>variety</th>\n",
       "      <th>origin</th>\n",
       "      <th>type</th>\n",
       "      <th>description</th>\n",
       "      <th>reviews</th>\n",
       "    </tr>\n",
       "  </thead>\n",
       "  <tbody>\n",
       "    <tr>\n",
       "      <th>0</th>\n",
       "      <td>url</td>\n",
       "      <td>name</td>\n",
       "      <td>variety</td>\n",
       "      <td>origin</td>\n",
       "      <td>family</td>\n",
       "      <td>description</td>\n",
       "      <td>reviews</td>\n",
       "    </tr>\n",
       "    <tr>\n",
       "      <th>1</th>\n",
       "      <td>https://www.wine.com/product/domaine-du-terme-...</td>\n",
       "      <td>Domaine du Terme Gigondas 2019</td>\n",
       "      <td>Rhone Red Blends</td>\n",
       "      <td>from Gigondas, Rhone, France</td>\n",
       "      <td>Red Wine</td>\n",
       "      <td></td>\n",
       "      <td>;;Spectacular Gigondas, this wine’s red-cherry...</td>\n",
       "    </tr>\n",
       "    <tr>\n",
       "      <th>2</th>\n",
       "      <td>https://www.wine.com/product/viticcio-chianti-...</td>\n",
       "      <td>Viticcio Chianti Classico Riserva 2017</td>\n",
       "      <td>Sangiovese</td>\n",
       "      <td>from Chianti Classico, Chianti, Tuscany, Italy</td>\n",
       "      <td>Red Wine</td>\n",
       "      <td>Intense ruby red with violet nuances. A comple...</td>\n",
       "      <td>;;Supple and vibrant, yet concentrated, featur...</td>\n",
       "    </tr>\n",
       "    <tr>\n",
       "      <th>3</th>\n",
       "      <td>https://www.wine.com/product/bodegas-urbina-cr...</td>\n",
       "      <td>Bodegas Urbina Crianza 2012</td>\n",
       "      <td>Tempranillo</td>\n",
       "      <td>from Rioja, Spain</td>\n",
       "      <td>Red Wine</td>\n",
       "      <td>Medium crimson-colored, it emits an aromatic a...</td>\n",
       "      <td>;;Dark, amber-rimmed red. Aromas of red curran...</td>\n",
       "    </tr>\n",
       "    <tr>\n",
       "      <th>4</th>\n",
       "      <td>https://www.wine.com/product/sanford-sanford-a...</td>\n",
       "      <td>Sanford Sanford &amp; Benedict Vineyard Pinot Noir...</td>\n",
       "      <td>Pinot Noir</td>\n",
       "      <td>from Sta. Rita Hills, Santa Barbara, Central ...</td>\n",
       "      <td>Red Wine</td>\n",
       "      <td>The 2017 Pinot Noir Sanford &amp; Benedict is brig...</td>\n",
       "      <td>;;Lastly, the 2017 Pinot Noir Sanford &amp; Benedi...</td>\n",
       "    </tr>\n",
       "  </tbody>\n",
       "</table>\n",
       "</div>"
      ],
      "text/plain": [
       "                                                 url  \\\n",
       "0                                                url   \n",
       "1  https://www.wine.com/product/domaine-du-terme-...   \n",
       "2  https://www.wine.com/product/viticcio-chianti-...   \n",
       "3  https://www.wine.com/product/bodegas-urbina-cr...   \n",
       "4  https://www.wine.com/product/sanford-sanford-a...   \n",
       "\n",
       "                                                name           variety  \\\n",
       "0                                               name           variety   \n",
       "1                     Domaine du Terme Gigondas 2019  Rhone Red Blends   \n",
       "2             Viticcio Chianti Classico Riserva 2017        Sangiovese   \n",
       "3                        Bodegas Urbina Crianza 2012       Tempranillo   \n",
       "4  Sanford Sanford & Benedict Vineyard Pinot Noir...        Pinot Noir   \n",
       "\n",
       "                                              origin      type  \\\n",
       "0                                             origin    family   \n",
       "1                       from Gigondas, Rhone, France  Red Wine   \n",
       "2     from Chianti Classico, Chianti, Tuscany, Italy  Red Wine   \n",
       "3                                  from Rioja, Spain  Red Wine   \n",
       "4   from Sta. Rita Hills, Santa Barbara, Central ...  Red Wine   \n",
       "\n",
       "                                         description  \\\n",
       "0                                        description   \n",
       "1                                                      \n",
       "2  Intense ruby red with violet nuances. A comple...   \n",
       "3  Medium crimson-colored, it emits an aromatic a...   \n",
       "4  The 2017 Pinot Noir Sanford & Benedict is brig...   \n",
       "\n",
       "                                             reviews  \n",
       "0                                            reviews  \n",
       "1  ;;Spectacular Gigondas, this wine’s red-cherry...  \n",
       "2  ;;Supple and vibrant, yet concentrated, featur...  \n",
       "3  ;;Dark, amber-rimmed red. Aromas of red curran...  \n",
       "4  ;;Lastly, the 2017 Pinot Noir Sanford & Benedi...  "
      ]
     },
     "execution_count": 17,
     "metadata": {},
     "output_type": "execute_result"
    }
   ],
   "source": [
    "file_data[filename]['df'].head()"
   ]
  },
  {
   "cell_type": "markdown",
   "metadata": {},
   "source": [
    "### Data Preprocessing\n",
    "*Lowercase\n",
    "*removing stopwords,punctuation \n",
    "using spacy "
   ]
  },
  {
   "cell_type": "code",
   "execution_count": 37,
   "metadata": {},
   "outputs": [],
   "source": [
    "def clean_text(df, column, skip_columns=[]):\n",
    "    '''Make text lowercase, remove text in square brackets, remove punctuation and remove words containing numbers.'''\n",
    "    text = df[column]\n",
    "    if column in skip_columns:\n",
    "        return text\n",
    "    text = text.str.lower()\n",
    "    text = text.str.replace(r'\\[.*?\\]', '')\n",
    "    text = text.str.replace(r'[%s]' % re.escape(string.punctuation), '')\n",
    "    text = text.str.replace(r'\\w*\\d\\w*', '')\n",
    "    return text"
   ]
  },
  {
   "cell_type": "code",
   "execution_count": 38,
   "metadata": {},
   "outputs": [
    {
     "ename": "NameError",
     "evalue": "name 'df' is not defined",
     "output_type": "error",
     "traceback": [
      "\u001b[1;31m---------------------------------------------------------------------------\u001b[0m",
      "\u001b[1;31mNameError\u001b[0m                                 Traceback (most recent call last)",
      "Input \u001b[1;32mIn [38]\u001b[0m, in \u001b[0;36m<cell line: 2>\u001b[1;34m()\u001b[0m\n\u001b[0;32m      1\u001b[0m skip_columns \u001b[38;5;241m=\u001b[39m [\u001b[38;5;124m'\u001b[39m\u001b[38;5;124mUrl_Id\u001b[39m\u001b[38;5;124m'\u001b[39m]\n\u001b[1;32m----> 2\u001b[0m cleaned_text \u001b[38;5;241m=\u001b[39m clean_text(\u001b[43mdf\u001b[49m, \u001b[38;5;124m'\u001b[39m\u001b[38;5;124mDescription\u001b[39m\u001b[38;5;124m'\u001b[39m, skip_columns)\n",
      "\u001b[1;31mNameError\u001b[0m: name 'df' is not defined"
     ]
    }
   ],
   "source": [
    "skip_columns = ['Url_Id']\n",
    "cleaned_text = clean_text(df, 'Description', skip_columns)"
   ]
  },
  {
   "cell_type": "markdown",
   "metadata": {},
   "source": [
    "# this another way we can do it URL was giving me trouble "
   ]
  },
  {
   "cell_type": "code",
   "execution_count": 39,
   "metadata": {},
   "outputs": [
    {
     "ename": "NameError",
     "evalue": "name 'df' is not defined",
     "output_type": "error",
     "traceback": [
      "\u001b[1;31m---------------------------------------------------------------------------\u001b[0m",
      "\u001b[1;31mNameError\u001b[0m                                 Traceback (most recent call last)",
      "Input \u001b[1;32mIn [39]\u001b[0m, in \u001b[0;36m<cell line: 17>\u001b[1;34m()\u001b[0m\n\u001b[0;32m     14\u001b[0m     \u001b[38;5;28;01mreturn\u001b[39;00m text\n\u001b[0;32m     16\u001b[0m \u001b[38;5;66;03m# apply the clean_text function to the data frame\u001b[39;00m\n\u001b[1;32m---> 17\u001b[0m df[\u001b[38;5;124m'\u001b[39m\u001b[38;5;124mclean_text\u001b[39m\u001b[38;5;124m'\u001b[39m] \u001b[38;5;241m=\u001b[39m \u001b[43mdf\u001b[49m\u001b[38;5;241m.\u001b[39mapply(clean_text, axis\u001b[38;5;241m=\u001b[39m\u001b[38;5;241m1\u001b[39m)\n",
      "\u001b[1;31mNameError\u001b[0m: name 'df' is not defined"
     ]
    }
   ],
   "source": [
    "import spacy\n",
    "import re\n",
    "import string\n",
    "\n",
    "nlp = spacy.load('en_core_web_sm', disable=['parser', 'ner'])\n",
    "\n",
    "def clean_text(row):\n",
    "    '''Make text lowercase, remove text in square brackets, remove punctuation and remove words containing numbers.'''\n",
    "    text = row['Name'] + ' ' + row['Variety'] + ' ' + row['Origin'] + ' ' + row['Wine_type'] + ' ' + row['Description'] + ' ' + row['Reviews']\n",
    "    text = text.lower()\n",
    "    text = re.sub(r'\\[.*?\\]', '', text)\n",
    "    text = re.sub(r'[%s]' % re.escape(string.punctuation), '', text)\n",
    "    text = re.sub(r'\\w*\\d\\w*', '', text)\n",
    "    return text\n",
    "\n",
    "# apply the clean_text function to the data frame\n",
    "df['clean_text'] = df.apply(clean_text, axis=1)"
   ]
  },
  {
   "cell_type": "code",
   "execution_count": 40,
   "metadata": {},
   "outputs": [
    {
     "ename": "KeyError",
     "evalue": "'Wine_type'",
     "output_type": "error",
     "traceback": [
      "\u001b[1;31m---------------------------------------------------------------------------\u001b[0m",
      "\u001b[1;31mKeyError\u001b[0m                                  Traceback (most recent call last)",
      "Input \u001b[1;32mIn [40]\u001b[0m, in \u001b[0;36m<cell line: 1>\u001b[1;34m()\u001b[0m\n\u001b[1;32m----> 1\u001b[0m Wine_type \u001b[38;5;241m=\u001b[39m \u001b[43mdata\u001b[49m\u001b[43m[\u001b[49m\u001b[38;5;124;43m'\u001b[39;49m\u001b[38;5;124;43mWine_type\u001b[39;49m\u001b[38;5;124;43m'\u001b[39;49m\u001b[43m]\u001b[49m\n\u001b[0;32m      2\u001b[0m Name \u001b[38;5;241m=\u001b[39m data[\u001b[38;5;124m'\u001b[39m\u001b[38;5;124mName\u001b[39m\u001b[38;5;124m'\u001b[39m]\n",
      "\u001b[1;31mKeyError\u001b[0m: 'Wine_type'"
     ]
    }
   ],
   "source": [
    "Wine_type = data['Wine_type']\n",
    "Name = data['Name']\n"
   ]
  },
  {
   "cell_type": "code",
   "execution_count": 41,
   "metadata": {},
   "outputs": [
    {
     "ename": "NameError",
     "evalue": "name 'Wine_type' is not defined",
     "output_type": "error",
     "traceback": [
      "\u001b[1;31m---------------------------------------------------------------------------\u001b[0m",
      "\u001b[1;31mNameError\u001b[0m                                 Traceback (most recent call last)",
      "Input \u001b[1;32mIn [41]\u001b[0m, in \u001b[0;36m<cell line: 1>\u001b[1;34m()\u001b[0m\n\u001b[1;32m----> 1\u001b[0m Wine_Type_counts \u001b[38;5;241m=\u001b[39m \u001b[43mWine_type\u001b[49m\u001b[38;5;241m.\u001b[39mvalue_counts()\n\u001b[0;32m      2\u001b[0m \u001b[38;5;28mprint\u001b[39m(varietal_counts)\n",
      "\u001b[1;31mNameError\u001b[0m: name 'Wine_type' is not defined"
     ]
    }
   ],
   "source": [
    "\n",
    "Wine_Type_counts = Wine_type.value_counts()\n",
    "print(varietal_counts)"
   ]
  },
  {
   "cell_type": "code",
   "execution_count": null,
   "metadata": {},
   "outputs": [],
   "source": []
  }
 ],
 "metadata": {
  "interpreter": {
   "hash": "aee8b7b246df8f9039afb4144a1f6fd8d2ca17a180786b69acc140d282b71a49"
  },
  "kernelspec": {
   "display_name": "Python 3 (ipykernel)",
   "language": "python",
   "name": "python3"
  },
  "language_info": {
   "codemirror_mode": {
    "name": "ipython",
    "version": 3
   },
   "file_extension": ".py",
   "mimetype": "text/x-python",
   "name": "python",
   "nbconvert_exporter": "python",
   "pygments_lexer": "ipython3",
   "version": "3.9.12"
  }
 },
 "nbformat": 4,
 "nbformat_minor": 2
}
